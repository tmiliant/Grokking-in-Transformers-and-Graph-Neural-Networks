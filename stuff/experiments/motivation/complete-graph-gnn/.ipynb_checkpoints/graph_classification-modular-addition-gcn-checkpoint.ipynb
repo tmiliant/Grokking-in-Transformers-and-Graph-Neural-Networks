{
 "cells": [
  {
   "cell_type": "code",
   "execution_count": 1,
   "id": "6399fff6",
   "metadata": {},
   "outputs": [
    {
     "name": "stderr",
     "output_type": "stream",
     "text": [
      "/opt/homebrew/lib/python3.10/site-packages/tqdm/auto.py:22: TqdmWarning: IProgress not found. Please update jupyter and ipywidgets. See https://ipywidgets.readthedocs.io/en/stable/user_install.html\n",
      "  from .autonotebook import tqdm as notebook_tqdm\n"
     ]
    }
   ],
   "source": [
    "from einops import rearrange, repeat\n",
    "import torch\n",
    "from torch import nn\n",
    "from torch_geometric.nn import GCNConv"
   ]
  },
  {
   "cell_type": "code",
   "execution_count": 2,
   "id": "55814e81",
   "metadata": {},
   "outputs": [],
   "source": [
    "in_dim = 2\n",
    "out_dim = 113\n",
    "hidden_dim = 128\n",
    "heads = 4\n",
    "class GATV3(torch.nn.Module):\n",
    "  def __init__(self, num_layers=1, dim_model=128, num_heads=4, num_tokens=114, seq_len=3):\n",
    "    super().__init__()\n",
    "    self.conv = GCNConv(dim_model, dim_model).to(torch.float64)\n",
    "    self.linear = nn.Linear(dim_model, num_tokens - 1).to(torch.float64) \n",
    "\n",
    "    self.token_embeddings = nn.Embedding(num_tokens, dim_model).to(torch.float64)  # We have p+1 input tokens: 0,1,...,113.\n",
    "    self.position_embeddings = nn.Embedding(seq_len, dim_model).to(torch.float64)   # We length 3 sequences, e.g. (10, 25, 113)\n",
    "\n",
    "  def forward(self, inputs):\n",
    "    token_embedding = self.token_embeddings(inputs)\n",
    "    \n",
    "    positions = repeat(torch.arange(inputs.shape[1]), \"p -> b p\", b = inputs.shape[0])\n",
    "    position_embedding = self.position_embeddings(positions)\n",
    "    \n",
    "    embedding = token_embedding + position_embedding\n",
    "\n",
    "    #embedding = rearrange(embedding, 'b s d -> s b d')\n",
    "    \n",
    "    res = torch.Tensor([])\n",
    "    for i in range(embedding.shape[0]):\n",
    "        x = self.conv(embedding[i], edge_index)\n",
    "        x = self.linear(x)\n",
    "        x = torch.mean(x, dim=0)\n",
    "        res = torch.cat([res, x.reshape(1, -1)], dim=0)\n",
    "    return res"
   ]
  },
  {
   "cell_type": "code",
   "execution_count": 3,
   "id": "63b10d65",
   "metadata": {},
   "outputs": [],
   "source": [
    "model = GATV3()"
   ]
  },
  {
   "cell_type": "code",
   "execution_count": 4,
   "id": "1cd26cd0",
   "metadata": {},
   "outputs": [],
   "source": [
    "import networkx as nx\n",
    "edge_index = torch.Tensor(nx.adjacency_matrix(nx.random_regular_graph(2,3)).todense()).nonzero().t().contiguous()"
   ]
  },
  {
   "cell_type": "code",
   "execution_count": 5,
   "id": "1abc079c",
   "metadata": {},
   "outputs": [],
   "source": [
    "# Params for dataset\n",
    "n = 2000\n",
    "p = 0.001\n",
    "prime = 113\n",
    "threshold = 0.3\n",
    "no_digits = 4\n",
    "\n",
    "# Params for GNN\n",
    "input_dim = 1\n",
    "hidden_dim = 512\n",
    "output_dim = 1\n",
    "\n",
    "# Params for optimizer\n",
    "weight_decay = 3\n",
    "lr = 1e-3\n",
    "betas = (0.9, 0.98)"
   ]
  },
  {
   "cell_type": "code",
   "execution_count": 6,
   "id": "79467774",
   "metadata": {},
   "outputs": [],
   "source": [
    "lim = 30"
   ]
  },
  {
   "cell_type": "code",
   "execution_count": 7,
   "id": "6ebc5839",
   "metadata": {},
   "outputs": [],
   "source": [
    "node_feats = torch.Tensor([])\n",
    "for i in range(lim):\n",
    "    for j in range(lim):\n",
    "        node_feats = torch.cat([node_feats, torch.Tensor([[i, j, 113]])], dim=0)\n",
    "node_feats = node_feats.to(torch.int64)\n",
    "\n",
    "node_labels = (node_feats[: ,0] + node_feats[: ,1]) % 113"
   ]
  },
  {
   "cell_type": "code",
   "execution_count": 8,
   "id": "d43865e8",
   "metadata": {},
   "outputs": [],
   "source": [
    "import random\n",
    "poss = [i for i in range(lim**2)]\n",
    "idx = random.sample(poss, int(threshold * len(poss)))\n",
    "train_mask = [True if i in idx else False for i in range(lim**2)]\n",
    "val_mask = [False if train_mask[i] else True for i in range(lim**2)]"
   ]
  },
  {
   "cell_type": "code",
   "execution_count": 9,
   "id": "3ff46cce",
   "metadata": {},
   "outputs": [
    {
     "name": "stderr",
     "output_type": "stream",
     "text": [
      "  0%|                                       | 1/10000 [00:01<3:04:33,  1.11s/it]"
     ]
    },
    {
     "name": "stdout",
     "output_type": "stream",
     "text": [
      "train test\n",
      "tensor(4.7814, dtype=torch.float64, grad_fn=<NllLossBackward0>)\n",
      "tensor(4.8192, dtype=torch.float64, grad_fn=<NllLossBackward0>)\n",
      "----------\n"
     ]
    },
    {
     "name": "stderr",
     "output_type": "stream",
     "text": [
      "  0%|                                      | 11/10000 [00:12<3:09:21,  1.14s/it]"
     ]
    },
    {
     "name": "stdout",
     "output_type": "stream",
     "text": [
      "train test\n",
      "tensor(3.8139, dtype=torch.float64, grad_fn=<NllLossBackward0>)\n",
      "tensor(4.2873, dtype=torch.float64, grad_fn=<NllLossBackward0>)\n",
      "----------\n"
     ]
    },
    {
     "name": "stderr",
     "output_type": "stream",
     "text": [
      "  0%|                                      | 21/10000 [00:23<3:05:00,  1.11s/it]"
     ]
    },
    {
     "name": "stdout",
     "output_type": "stream",
     "text": [
      "train test\n",
      "tensor(3.4549, dtype=torch.float64, grad_fn=<NllLossBackward0>)\n",
      "tensor(4.2587, dtype=torch.float64, grad_fn=<NllLossBackward0>)\n",
      "----------\n"
     ]
    },
    {
     "name": "stderr",
     "output_type": "stream",
     "text": [
      "  0%|                                      | 31/10000 [00:34<3:07:40,  1.13s/it]"
     ]
    },
    {
     "name": "stdout",
     "output_type": "stream",
     "text": [
      "train test\n",
      "tensor(3.2242, dtype=torch.float64, grad_fn=<NllLossBackward0>)\n",
      "tensor(4.2586, dtype=torch.float64, grad_fn=<NllLossBackward0>)\n",
      "----------\n"
     ]
    },
    {
     "name": "stderr",
     "output_type": "stream",
     "text": [
      "  0%|▏                                     | 41/10000 [00:46<3:10:14,  1.15s/it]"
     ]
    },
    {
     "name": "stdout",
     "output_type": "stream",
     "text": [
      "train test\n",
      "tensor(3.0088, dtype=torch.float64, grad_fn=<NllLossBackward0>)\n",
      "tensor(4.3060, dtype=torch.float64, grad_fn=<NllLossBackward0>)\n",
      "----------\n"
     ]
    },
    {
     "name": "stderr",
     "output_type": "stream",
     "text": [
      "  1%|▏                                     | 51/10000 [00:57<3:04:30,  1.11s/it]"
     ]
    },
    {
     "name": "stdout",
     "output_type": "stream",
     "text": [
      "train test\n",
      "tensor(2.7974, dtype=torch.float64, grad_fn=<NllLossBackward0>)\n",
      "tensor(4.3250, dtype=torch.float64, grad_fn=<NllLossBackward0>)\n",
      "----------\n"
     ]
    },
    {
     "name": "stderr",
     "output_type": "stream",
     "text": [
      "  1%|▏                                     | 61/10000 [01:08<3:03:42,  1.11s/it]"
     ]
    },
    {
     "name": "stdout",
     "output_type": "stream",
     "text": [
      "train test\n",
      "tensor(2.5969, dtype=torch.float64, grad_fn=<NllLossBackward0>)\n",
      "tensor(4.3655, dtype=torch.float64, grad_fn=<NllLossBackward0>)\n",
      "----------\n"
     ]
    },
    {
     "name": "stderr",
     "output_type": "stream",
     "text": [
      "  1%|▎                                     | 71/10000 [01:20<3:04:34,  1.12s/it]"
     ]
    },
    {
     "name": "stdout",
     "output_type": "stream",
     "text": [
      "train test\n",
      "tensor(2.4130, dtype=torch.float64, grad_fn=<NllLossBackward0>)\n",
      "tensor(4.4048, dtype=torch.float64, grad_fn=<NllLossBackward0>)\n",
      "----------\n"
     ]
    },
    {
     "name": "stderr",
     "output_type": "stream",
     "text": [
      "  1%|▎                                     | 81/10000 [01:31<3:05:12,  1.12s/it]"
     ]
    },
    {
     "name": "stdout",
     "output_type": "stream",
     "text": [
      "train test\n",
      "tensor(2.2479, dtype=torch.float64, grad_fn=<NllLossBackward0>)\n",
      "tensor(4.4649, dtype=torch.float64, grad_fn=<NllLossBackward0>)\n",
      "----------\n"
     ]
    },
    {
     "name": "stderr",
     "output_type": "stream",
     "text": [
      "  1%|▎                                     | 91/10000 [01:42<3:01:27,  1.10s/it]"
     ]
    },
    {
     "name": "stdout",
     "output_type": "stream",
     "text": [
      "train test\n",
      "tensor(2.1017, dtype=torch.float64, grad_fn=<NllLossBackward0>)\n",
      "tensor(4.5346, dtype=torch.float64, grad_fn=<NllLossBackward0>)\n",
      "----------\n"
     ]
    },
    {
     "name": "stderr",
     "output_type": "stream",
     "text": [
      "  1%|▎                                    | 101/10000 [01:53<3:05:37,  1.13s/it]"
     ]
    },
    {
     "name": "stdout",
     "output_type": "stream",
     "text": [
      "train test\n",
      "tensor(1.9731, dtype=torch.float64, grad_fn=<NllLossBackward0>)\n",
      "tensor(4.6134, dtype=torch.float64, grad_fn=<NllLossBackward0>)\n",
      "----------\n"
     ]
    },
    {
     "name": "stderr",
     "output_type": "stream",
     "text": [
      "  1%|▍                                    | 111/10000 [02:04<3:03:32,  1.11s/it]"
     ]
    },
    {
     "name": "stdout",
     "output_type": "stream",
     "text": [
      "train test\n",
      "tensor(1.8599, dtype=torch.float64, grad_fn=<NllLossBackward0>)\n",
      "tensor(4.7007, dtype=torch.float64, grad_fn=<NllLossBackward0>)\n",
      "----------\n"
     ]
    },
    {
     "name": "stderr",
     "output_type": "stream",
     "text": [
      "  1%|▍                                    | 121/10000 [02:16<2:59:05,  1.09s/it]"
     ]
    },
    {
     "name": "stdout",
     "output_type": "stream",
     "text": [
      "train test\n",
      "tensor(1.7600, dtype=torch.float64, grad_fn=<NllLossBackward0>)\n",
      "tensor(4.7934, dtype=torch.float64, grad_fn=<NllLossBackward0>)\n",
      "----------\n"
     ]
    },
    {
     "name": "stderr",
     "output_type": "stream",
     "text": [
      "  1%|▍                                    | 131/10000 [02:27<3:03:32,  1.12s/it]"
     ]
    },
    {
     "name": "stdout",
     "output_type": "stream",
     "text": [
      "train test\n",
      "tensor(1.6713, dtype=torch.float64, grad_fn=<NllLossBackward0>)\n",
      "tensor(4.8903, dtype=torch.float64, grad_fn=<NllLossBackward0>)\n",
      "----------\n"
     ]
    },
    {
     "name": "stderr",
     "output_type": "stream",
     "text": [
      "  1%|▌                                    | 141/10000 [02:38<3:05:28,  1.13s/it]"
     ]
    },
    {
     "name": "stdout",
     "output_type": "stream",
     "text": [
      "train test\n",
      "tensor(1.5920, dtype=torch.float64, grad_fn=<NllLossBackward0>)\n",
      "tensor(4.9901, dtype=torch.float64, grad_fn=<NllLossBackward0>)\n",
      "----------\n"
     ]
    },
    {
     "name": "stderr",
     "output_type": "stream",
     "text": [
      "  2%|▌                                    | 151/10000 [02:49<3:02:50,  1.11s/it]"
     ]
    },
    {
     "name": "stdout",
     "output_type": "stream",
     "text": [
      "train test\n",
      "tensor(1.5207, dtype=torch.float64, grad_fn=<NllLossBackward0>)\n",
      "tensor(5.0919, dtype=torch.float64, grad_fn=<NllLossBackward0>)\n",
      "----------\n"
     ]
    },
    {
     "name": "stderr",
     "output_type": "stream",
     "text": [
      "  2%|▌                                    | 161/10000 [03:00<3:00:04,  1.10s/it]"
     ]
    },
    {
     "name": "stdout",
     "output_type": "stream",
     "text": [
      "train test\n",
      "tensor(1.4561, dtype=torch.float64, grad_fn=<NllLossBackward0>)\n",
      "tensor(5.1952, dtype=torch.float64, grad_fn=<NllLossBackward0>)\n",
      "----------\n"
     ]
    },
    {
     "name": "stderr",
     "output_type": "stream",
     "text": [
      "  2%|▋                                    | 171/10000 [03:12<3:02:01,  1.11s/it]"
     ]
    },
    {
     "name": "stdout",
     "output_type": "stream",
     "text": [
      "train test\n",
      "tensor(1.3973, dtype=torch.float64, grad_fn=<NllLossBackward0>)\n",
      "tensor(5.2994, dtype=torch.float64, grad_fn=<NllLossBackward0>)\n",
      "----------\n"
     ]
    },
    {
     "name": "stderr",
     "output_type": "stream",
     "text": [
      "  2%|▋                                    | 181/10000 [03:23<3:05:38,  1.13s/it]"
     ]
    },
    {
     "name": "stdout",
     "output_type": "stream",
     "text": [
      "train test\n",
      "tensor(1.3434, dtype=torch.float64, grad_fn=<NllLossBackward0>)\n",
      "tensor(5.4043, dtype=torch.float64, grad_fn=<NllLossBackward0>)\n",
      "----------\n"
     ]
    },
    {
     "name": "stderr",
     "output_type": "stream",
     "text": [
      "  2%|▋                                    | 191/10000 [03:34<3:02:56,  1.12s/it]"
     ]
    },
    {
     "name": "stdout",
     "output_type": "stream",
     "text": [
      "train test\n",
      "tensor(1.2937, dtype=torch.float64, grad_fn=<NllLossBackward0>)\n",
      "tensor(5.5093, dtype=torch.float64, grad_fn=<NllLossBackward0>)\n",
      "----------\n"
     ]
    },
    {
     "name": "stderr",
     "output_type": "stream",
     "text": [
      "  2%|▋                                    | 201/10000 [03:45<3:01:21,  1.11s/it]"
     ]
    },
    {
     "name": "stdout",
     "output_type": "stream",
     "text": [
      "train test\n",
      "tensor(1.2478, dtype=torch.float64, grad_fn=<NllLossBackward0>)\n",
      "tensor(5.6142, dtype=torch.float64, grad_fn=<NllLossBackward0>)\n",
      "----------\n"
     ]
    },
    {
     "name": "stderr",
     "output_type": "stream",
     "text": [
      "  2%|▊                                    | 211/10000 [03:57<3:04:01,  1.13s/it]"
     ]
    },
    {
     "name": "stdout",
     "output_type": "stream",
     "text": [
      "train test\n",
      "tensor(1.2051, dtype=torch.float64, grad_fn=<NllLossBackward0>)\n",
      "tensor(5.7189, dtype=torch.float64, grad_fn=<NllLossBackward0>)\n",
      "----------\n"
     ]
    },
    {
     "name": "stderr",
     "output_type": "stream",
     "text": [
      "  2%|▊                                    | 221/10000 [04:08<3:01:37,  1.11s/it]"
     ]
    },
    {
     "name": "stdout",
     "output_type": "stream",
     "text": [
      "train test\n",
      "tensor(1.1653, dtype=torch.float64, grad_fn=<NllLossBackward0>)\n",
      "tensor(5.8232, dtype=torch.float64, grad_fn=<NllLossBackward0>)\n",
      "----------\n"
     ]
    },
    {
     "name": "stderr",
     "output_type": "stream",
     "text": [
      "  2%|▊                                    | 231/10000 [04:19<3:06:51,  1.15s/it]"
     ]
    },
    {
     "name": "stdout",
     "output_type": "stream",
     "text": [
      "train test\n",
      "tensor(1.1280, dtype=torch.float64, grad_fn=<NllLossBackward0>)\n",
      "tensor(5.9272, dtype=torch.float64, grad_fn=<NllLossBackward0>)\n",
      "----------\n"
     ]
    },
    {
     "name": "stderr",
     "output_type": "stream",
     "text": [
      "  2%|▉                                    | 241/10000 [04:31<3:16:04,  1.21s/it]"
     ]
    },
    {
     "name": "stdout",
     "output_type": "stream",
     "text": [
      "train test\n",
      "tensor(1.0929, dtype=torch.float64, grad_fn=<NllLossBackward0>)\n",
      "tensor(6.0309, dtype=torch.float64, grad_fn=<NllLossBackward0>)\n",
      "----------\n"
     ]
    },
    {
     "name": "stderr",
     "output_type": "stream",
     "text": [
      "  3%|▉                                    | 251/10000 [04:44<3:35:37,  1.33s/it]"
     ]
    },
    {
     "name": "stdout",
     "output_type": "stream",
     "text": [
      "train test\n",
      "tensor(1.0598, dtype=torch.float64, grad_fn=<NllLossBackward0>)\n",
      "tensor(6.1344, dtype=torch.float64, grad_fn=<NllLossBackward0>)\n",
      "----------\n"
     ]
    },
    {
     "name": "stderr",
     "output_type": "stream",
     "text": [
      "  3%|▉                                    | 261/10000 [04:56<3:10:13,  1.17s/it]"
     ]
    },
    {
     "name": "stdout",
     "output_type": "stream",
     "text": [
      "train test\n",
      "tensor(1.0284, dtype=torch.float64, grad_fn=<NllLossBackward0>)\n",
      "tensor(6.2376, dtype=torch.float64, grad_fn=<NllLossBackward0>)\n",
      "----------\n"
     ]
    },
    {
     "name": "stderr",
     "output_type": "stream",
     "text": [
      "  3%|█                                    | 271/10000 [05:08<3:16:13,  1.21s/it]"
     ]
    },
    {
     "name": "stdout",
     "output_type": "stream",
     "text": [
      "train test\n",
      "tensor(0.9986, dtype=torch.float64, grad_fn=<NllLossBackward0>)\n",
      "tensor(6.3408, dtype=torch.float64, grad_fn=<NllLossBackward0>)\n",
      "----------\n"
     ]
    },
    {
     "name": "stderr",
     "output_type": "stream",
     "text": [
      "  3%|█                                    | 281/10000 [05:19<3:07:19,  1.16s/it]"
     ]
    },
    {
     "name": "stdout",
     "output_type": "stream",
     "text": [
      "train test\n",
      "tensor(0.9703, dtype=torch.float64, grad_fn=<NllLossBackward0>)\n",
      "tensor(6.4441, dtype=torch.float64, grad_fn=<NllLossBackward0>)\n",
      "----------\n"
     ]
    },
    {
     "name": "stderr",
     "output_type": "stream",
     "text": [
      "  3%|█                                    | 291/10000 [05:32<3:12:47,  1.19s/it]"
     ]
    },
    {
     "name": "stdout",
     "output_type": "stream",
     "text": [
      "train test\n",
      "tensor(0.9431, dtype=torch.float64, grad_fn=<NllLossBackward0>)\n",
      "tensor(6.5475, dtype=torch.float64, grad_fn=<NllLossBackward0>)\n",
      "----------\n"
     ]
    },
    {
     "name": "stderr",
     "output_type": "stream",
     "text": [
      "  3%|█                                    | 301/10000 [05:44<3:23:03,  1.26s/it]"
     ]
    },
    {
     "name": "stdout",
     "output_type": "stream",
     "text": [
      "train test\n",
      "tensor(0.9172, dtype=torch.float64, grad_fn=<NllLossBackward0>)\n",
      "tensor(6.6513, dtype=torch.float64, grad_fn=<NllLossBackward0>)\n",
      "----------\n"
     ]
    },
    {
     "name": "stderr",
     "output_type": "stream",
     "text": [
      "  3%|█▏                                   | 311/10000 [05:56<3:07:56,  1.16s/it]"
     ]
    },
    {
     "name": "stdout",
     "output_type": "stream",
     "text": [
      "train test\n",
      "tensor(0.8924, dtype=torch.float64, grad_fn=<NllLossBackward0>)\n",
      "tensor(6.7548, dtype=torch.float64, grad_fn=<NllLossBackward0>)\n",
      "----------\n"
     ]
    },
    {
     "name": "stderr",
     "output_type": "stream",
     "text": [
      "  3%|█▏                                   | 321/10000 [06:08<3:12:59,  1.20s/it]"
     ]
    },
    {
     "name": "stdout",
     "output_type": "stream",
     "text": [
      "train test\n",
      "tensor(0.8686, dtype=torch.float64, grad_fn=<NllLossBackward0>)\n",
      "tensor(6.8589, dtype=torch.float64, grad_fn=<NllLossBackward0>)\n",
      "----------\n"
     ]
    },
    {
     "name": "stderr",
     "output_type": "stream",
     "text": [
      "  3%|█▏                                   | 331/10000 [06:20<3:08:40,  1.17s/it]"
     ]
    },
    {
     "name": "stdout",
     "output_type": "stream",
     "text": [
      "train test\n",
      "tensor(0.8458, dtype=torch.float64, grad_fn=<NllLossBackward0>)\n",
      "tensor(6.9635, dtype=torch.float64, grad_fn=<NllLossBackward0>)\n",
      "----------\n"
     ]
    },
    {
     "name": "stderr",
     "output_type": "stream",
     "text": [
      "  3%|█▎                                   | 341/10000 [06:31<3:09:28,  1.18s/it]"
     ]
    },
    {
     "name": "stdout",
     "output_type": "stream",
     "text": [
      "train test\n",
      "tensor(0.8238, dtype=torch.float64, grad_fn=<NllLossBackward0>)\n",
      "tensor(7.0687, dtype=torch.float64, grad_fn=<NllLossBackward0>)\n",
      "----------\n"
     ]
    },
    {
     "name": "stderr",
     "output_type": "stream",
     "text": [
      "  4%|█▎                                   | 351/10000 [06:43<3:14:17,  1.21s/it]"
     ]
    },
    {
     "name": "stdout",
     "output_type": "stream",
     "text": [
      "train test\n",
      "tensor(0.8027, dtype=torch.float64, grad_fn=<NllLossBackward0>)\n",
      "tensor(7.1747, dtype=torch.float64, grad_fn=<NllLossBackward0>)\n",
      "----------\n"
     ]
    },
    {
     "name": "stderr",
     "output_type": "stream",
     "text": [
      "  4%|█▎                                   | 361/10000 [06:55<3:12:38,  1.20s/it]"
     ]
    },
    {
     "name": "stdout",
     "output_type": "stream",
     "text": [
      "train test\n",
      "tensor(0.7824, dtype=torch.float64, grad_fn=<NllLossBackward0>)\n",
      "tensor(7.2813, dtype=torch.float64, grad_fn=<NllLossBackward0>)\n",
      "----------\n"
     ]
    },
    {
     "name": "stderr",
     "output_type": "stream",
     "text": [
      "  4%|█▎                                   | 371/10000 [07:07<3:11:29,  1.19s/it]"
     ]
    },
    {
     "name": "stdout",
     "output_type": "stream",
     "text": [
      "train test\n",
      "tensor(0.7628, dtype=torch.float64, grad_fn=<NllLossBackward0>)\n",
      "tensor(7.3885, dtype=torch.float64, grad_fn=<NllLossBackward0>)\n",
      "----------\n"
     ]
    },
    {
     "name": "stderr",
     "output_type": "stream",
     "text": [
      "  4%|█▍                                   | 381/10000 [07:19<3:13:51,  1.21s/it]"
     ]
    },
    {
     "name": "stdout",
     "output_type": "stream",
     "text": [
      "train test\n",
      "tensor(0.7441, dtype=torch.float64, grad_fn=<NllLossBackward0>)\n",
      "tensor(7.4959, dtype=torch.float64, grad_fn=<NllLossBackward0>)\n",
      "----------\n"
     ]
    },
    {
     "name": "stderr",
     "output_type": "stream",
     "text": [
      "  4%|█▍                                   | 391/10000 [07:31<3:08:09,  1.17s/it]"
     ]
    },
    {
     "name": "stdout",
     "output_type": "stream",
     "text": [
      "train test\n",
      "tensor(0.7260, dtype=torch.float64, grad_fn=<NllLossBackward0>)\n",
      "tensor(7.6032, dtype=torch.float64, grad_fn=<NllLossBackward0>)\n",
      "----------\n"
     ]
    },
    {
     "name": "stderr",
     "output_type": "stream",
     "text": [
      "  4%|█▍                                   | 401/10000 [07:43<3:04:49,  1.16s/it]"
     ]
    },
    {
     "name": "stdout",
     "output_type": "stream",
     "text": [
      "train test\n",
      "tensor(0.7087, dtype=torch.float64, grad_fn=<NllLossBackward0>)\n",
      "tensor(7.7108, dtype=torch.float64, grad_fn=<NllLossBackward0>)\n",
      "----------\n"
     ]
    },
    {
     "name": "stderr",
     "output_type": "stream",
     "text": [
      "  4%|█▌                                   | 411/10000 [07:54<3:01:24,  1.14s/it]"
     ]
    },
    {
     "name": "stdout",
     "output_type": "stream",
     "text": [
      "train test\n",
      "tensor(0.6920, dtype=torch.float64, grad_fn=<NllLossBackward0>)\n",
      "tensor(7.8191, dtype=torch.float64, grad_fn=<NllLossBackward0>)\n",
      "----------\n"
     ]
    },
    {
     "name": "stderr",
     "output_type": "stream",
     "text": [
      "  4%|█▌                                   | 421/10000 [08:05<2:59:51,  1.13s/it]"
     ]
    },
    {
     "name": "stdout",
     "output_type": "stream",
     "text": [
      "train test\n",
      "tensor(0.6759, dtype=torch.float64, grad_fn=<NllLossBackward0>)\n",
      "tensor(7.9275, dtype=torch.float64, grad_fn=<NllLossBackward0>)\n",
      "----------\n"
     ]
    },
    {
     "name": "stderr",
     "output_type": "stream",
     "text": [
      "  4%|█▌                                   | 431/10000 [08:16<3:01:51,  1.14s/it]"
     ]
    },
    {
     "name": "stdout",
     "output_type": "stream",
     "text": [
      "train test\n",
      "tensor(0.6604, dtype=torch.float64, grad_fn=<NllLossBackward0>)\n",
      "tensor(8.0361, dtype=torch.float64, grad_fn=<NllLossBackward0>)\n",
      "----------\n"
     ]
    },
    {
     "name": "stderr",
     "output_type": "stream",
     "text": [
      "  4%|█▋                                   | 441/10000 [08:26<2:34:40,  1.03it/s]"
     ]
    },
    {
     "name": "stdout",
     "output_type": "stream",
     "text": [
      "train test\n",
      "tensor(0.6455, dtype=torch.float64, grad_fn=<NllLossBackward0>)\n",
      "tensor(8.1447, dtype=torch.float64, grad_fn=<NllLossBackward0>)\n",
      "----------\n"
     ]
    },
    {
     "name": "stderr",
     "output_type": "stream",
     "text": [
      "  5%|█▋                                   | 451/10000 [08:36<2:36:36,  1.02it/s]"
     ]
    },
    {
     "name": "stdout",
     "output_type": "stream",
     "text": [
      "train test\n",
      "tensor(0.6313, dtype=torch.float64, grad_fn=<NllLossBackward0>)\n",
      "tensor(8.2512, dtype=torch.float64, grad_fn=<NllLossBackward0>)\n",
      "----------\n"
     ]
    },
    {
     "name": "stderr",
     "output_type": "stream",
     "text": [
      "  5%|█▋                                   | 461/10000 [08:46<2:33:04,  1.04it/s]"
     ]
    },
    {
     "name": "stdout",
     "output_type": "stream",
     "text": [
      "train test\n",
      "tensor(0.6177, dtype=torch.float64, grad_fn=<NllLossBackward0>)\n",
      "tensor(8.3573, dtype=torch.float64, grad_fn=<NllLossBackward0>)\n",
      "----------\n"
     ]
    },
    {
     "name": "stderr",
     "output_type": "stream",
     "text": [
      "  5%|█▋                                   | 471/10000 [08:55<2:31:06,  1.05it/s]"
     ]
    },
    {
     "name": "stdout",
     "output_type": "stream",
     "text": [
      "train test\n",
      "tensor(0.6045, dtype=torch.float64, grad_fn=<NllLossBackward0>)\n",
      "tensor(8.4638, dtype=torch.float64, grad_fn=<NllLossBackward0>)\n",
      "----------\n"
     ]
    },
    {
     "name": "stderr",
     "output_type": "stream",
     "text": [
      "  5%|█▊                                   | 481/10000 [09:05<2:33:46,  1.03it/s]"
     ]
    },
    {
     "name": "stdout",
     "output_type": "stream",
     "text": [
      "train test\n",
      "tensor(0.5919, dtype=torch.float64, grad_fn=<NllLossBackward0>)\n",
      "tensor(8.5702, dtype=torch.float64, grad_fn=<NllLossBackward0>)\n",
      "----------\n"
     ]
    },
    {
     "name": "stderr",
     "output_type": "stream",
     "text": [
      "  5%|█▊                                   | 491/10000 [09:15<2:30:53,  1.05it/s]"
     ]
    },
    {
     "name": "stdout",
     "output_type": "stream",
     "text": [
      "train test\n",
      "tensor(0.5796, dtype=torch.float64, grad_fn=<NllLossBackward0>)\n",
      "tensor(8.6769, dtype=torch.float64, grad_fn=<NllLossBackward0>)\n",
      "----------\n"
     ]
    },
    {
     "name": "stderr",
     "output_type": "stream",
     "text": [
      "  5%|█▊                                   | 501/10000 [09:24<2:31:01,  1.05it/s]"
     ]
    },
    {
     "name": "stdout",
     "output_type": "stream",
     "text": [
      "train test\n",
      "tensor(0.5680, dtype=torch.float64, grad_fn=<NllLossBackward0>)\n",
      "tensor(8.7798, dtype=torch.float64, grad_fn=<NllLossBackward0>)\n",
      "----------\n"
     ]
    },
    {
     "name": "stderr",
     "output_type": "stream",
     "text": [
      "  5%|█▉                                   | 511/10000 [09:34<2:30:16,  1.05it/s]"
     ]
    },
    {
     "name": "stdout",
     "output_type": "stream",
     "text": [
      "train test\n",
      "tensor(0.5568, dtype=torch.float64, grad_fn=<NllLossBackward0>)\n",
      "tensor(8.8820, dtype=torch.float64, grad_fn=<NllLossBackward0>)\n",
      "----------\n"
     ]
    },
    {
     "name": "stderr",
     "output_type": "stream",
     "text": [
      "  5%|█▉                                   | 521/10000 [09:44<2:30:56,  1.05it/s]"
     ]
    },
    {
     "name": "stdout",
     "output_type": "stream",
     "text": [
      "train test\n",
      "tensor(0.5460, dtype=torch.float64, grad_fn=<NllLossBackward0>)\n",
      "tensor(8.9843, dtype=torch.float64, grad_fn=<NllLossBackward0>)\n",
      "----------\n"
     ]
    },
    {
     "name": "stderr",
     "output_type": "stream",
     "text": [
      "  5%|█▉                                   | 531/10000 [09:53<2:33:29,  1.03it/s]"
     ]
    },
    {
     "name": "stdout",
     "output_type": "stream",
     "text": [
      "train test\n",
      "tensor(0.5357, dtype=torch.float64, grad_fn=<NllLossBackward0>)\n",
      "tensor(9.0850, dtype=torch.float64, grad_fn=<NllLossBackward0>)\n",
      "----------\n"
     ]
    },
    {
     "name": "stderr",
     "output_type": "stream",
     "text": [
      "  5%|██                                   | 541/10000 [10:03<2:34:32,  1.02it/s]"
     ]
    },
    {
     "name": "stdout",
     "output_type": "stream",
     "text": [
      "train test\n",
      "tensor(0.5256, dtype=torch.float64, grad_fn=<NllLossBackward0>)\n",
      "tensor(9.1856, dtype=torch.float64, grad_fn=<NllLossBackward0>)\n",
      "----------\n"
     ]
    },
    {
     "name": "stderr",
     "output_type": "stream",
     "text": [
      "  6%|██                                   | 551/10000 [10:13<2:31:58,  1.04it/s]"
     ]
    },
    {
     "name": "stdout",
     "output_type": "stream",
     "text": [
      "train test\n",
      "tensor(0.5160, dtype=torch.float64, grad_fn=<NllLossBackward0>)\n",
      "tensor(9.2861, dtype=torch.float64, grad_fn=<NllLossBackward0>)\n",
      "----------\n"
     ]
    },
    {
     "name": "stderr",
     "output_type": "stream",
     "text": [
      "  6%|██                                   | 561/10000 [10:22<2:31:43,  1.04it/s]"
     ]
    },
    {
     "name": "stdout",
     "output_type": "stream",
     "text": [
      "train test\n",
      "tensor(0.5067, dtype=torch.float64, grad_fn=<NllLossBackward0>)\n",
      "tensor(9.3827, dtype=torch.float64, grad_fn=<NllLossBackward0>)\n",
      "----------\n"
     ]
    },
    {
     "name": "stderr",
     "output_type": "stream",
     "text": [
      "  6%|██                                   | 571/10000 [10:32<2:32:29,  1.03it/s]"
     ]
    },
    {
     "name": "stdout",
     "output_type": "stream",
     "text": [
      "train test\n",
      "tensor(0.4978, dtype=torch.float64, grad_fn=<NllLossBackward0>)\n",
      "tensor(9.4787, dtype=torch.float64, grad_fn=<NllLossBackward0>)\n",
      "----------\n"
     ]
    },
    {
     "name": "stderr",
     "output_type": "stream",
     "text": [
      "  6%|██▏                                  | 581/10000 [10:42<2:32:25,  1.03it/s]"
     ]
    },
    {
     "name": "stdout",
     "output_type": "stream",
     "text": [
      "train test\n",
      "tensor(0.4894, dtype=torch.float64, grad_fn=<NllLossBackward0>)\n",
      "tensor(9.5716, dtype=torch.float64, grad_fn=<NllLossBackward0>)\n",
      "----------\n"
     ]
    },
    {
     "name": "stderr",
     "output_type": "stream",
     "text": [
      "  6%|██▏                                  | 591/10000 [10:52<2:31:51,  1.03it/s]"
     ]
    },
    {
     "name": "stdout",
     "output_type": "stream",
     "text": [
      "train test\n",
      "tensor(0.4811, dtype=torch.float64, grad_fn=<NllLossBackward0>)\n",
      "tensor(9.6638, dtype=torch.float64, grad_fn=<NllLossBackward0>)\n",
      "----------\n"
     ]
    },
    {
     "name": "stderr",
     "output_type": "stream",
     "text": [
      "  6%|██▏                                  | 601/10000 [11:01<2:29:44,  1.05it/s]"
     ]
    },
    {
     "name": "stdout",
     "output_type": "stream",
     "text": [
      "train test\n",
      "tensor(0.4732, dtype=torch.float64, grad_fn=<NllLossBackward0>)\n",
      "tensor(9.7557, dtype=torch.float64, grad_fn=<NllLossBackward0>)\n",
      "----------\n"
     ]
    },
    {
     "name": "stderr",
     "output_type": "stream",
     "text": [
      "  6%|██▎                                  | 611/10000 [11:11<2:18:46,  1.13it/s]"
     ]
    },
    {
     "name": "stdout",
     "output_type": "stream",
     "text": [
      "train test\n",
      "tensor(0.4656, dtype=torch.float64, grad_fn=<NllLossBackward0>)\n",
      "tensor(9.8451, dtype=torch.float64, grad_fn=<NllLossBackward0>)\n",
      "----------\n"
     ]
    },
    {
     "name": "stderr",
     "output_type": "stream",
     "text": [
      "  6%|██▎                                  | 621/10000 [11:19<2:03:39,  1.26it/s]"
     ]
    },
    {
     "name": "stdout",
     "output_type": "stream",
     "text": [
      "train test\n",
      "tensor(0.4582, dtype=torch.float64, grad_fn=<NllLossBackward0>)\n",
      "tensor(9.9353, dtype=torch.float64, grad_fn=<NllLossBackward0>)\n",
      "----------\n"
     ]
    },
    {
     "name": "stderr",
     "output_type": "stream",
     "text": [
      "  6%|██▎                                  | 631/10000 [11:27<2:07:00,  1.23it/s]"
     ]
    },
    {
     "name": "stdout",
     "output_type": "stream",
     "text": [
      "train test\n",
      "tensor(0.4510, dtype=torch.float64, grad_fn=<NllLossBackward0>)\n",
      "tensor(10.0231, dtype=torch.float64, grad_fn=<NllLossBackward0>)\n",
      "----------\n"
     ]
    },
    {
     "name": "stderr",
     "output_type": "stream",
     "text": [
      "  6%|██▎                                  | 641/10000 [11:35<2:06:29,  1.23it/s]"
     ]
    },
    {
     "name": "stdout",
     "output_type": "stream",
     "text": [
      "train test\n",
      "tensor(0.4443, dtype=torch.float64, grad_fn=<NllLossBackward0>)\n",
      "tensor(10.1073, dtype=torch.float64, grad_fn=<NllLossBackward0>)\n",
      "----------\n"
     ]
    },
    {
     "name": "stderr",
     "output_type": "stream",
     "text": [
      "  7%|██▍                                  | 651/10000 [11:43<2:04:15,  1.25it/s]"
     ]
    },
    {
     "name": "stdout",
     "output_type": "stream",
     "text": [
      "train test\n",
      "tensor(0.4378, dtype=torch.float64, grad_fn=<NllLossBackward0>)\n",
      "tensor(10.1899, dtype=torch.float64, grad_fn=<NllLossBackward0>)\n",
      "----------\n"
     ]
    },
    {
     "name": "stderr",
     "output_type": "stream",
     "text": [
      "  7%|██▍                                  | 661/10000 [11:51<2:09:01,  1.21it/s]"
     ]
    },
    {
     "name": "stdout",
     "output_type": "stream",
     "text": [
      "train test\n",
      "tensor(0.4314, dtype=torch.float64, grad_fn=<NllLossBackward0>)\n",
      "tensor(10.2738, dtype=torch.float64, grad_fn=<NllLossBackward0>)\n",
      "----------\n"
     ]
    },
    {
     "name": "stderr",
     "output_type": "stream",
     "text": [
      "  7%|██▍                                  | 671/10000 [11:59<2:06:49,  1.23it/s]"
     ]
    },
    {
     "name": "stdout",
     "output_type": "stream",
     "text": [
      "train test\n",
      "tensor(0.4251, dtype=torch.float64, grad_fn=<NllLossBackward0>)\n",
      "tensor(10.3574, dtype=torch.float64, grad_fn=<NllLossBackward0>)\n",
      "----------\n"
     ]
    },
    {
     "name": "stderr",
     "output_type": "stream",
     "text": [
      "  7%|██▌                                  | 681/10000 [12:07<2:06:09,  1.23it/s]"
     ]
    },
    {
     "name": "stdout",
     "output_type": "stream",
     "text": [
      "train test\n",
      "tensor(0.4193, dtype=torch.float64, grad_fn=<NllLossBackward0>)\n",
      "tensor(10.4368, dtype=torch.float64, grad_fn=<NllLossBackward0>)\n",
      "----------\n"
     ]
    },
    {
     "name": "stderr",
     "output_type": "stream",
     "text": [
      "  7%|██▌                                  | 691/10000 [12:16<2:08:08,  1.21it/s]"
     ]
    },
    {
     "name": "stdout",
     "output_type": "stream",
     "text": [
      "train test\n",
      "tensor(0.4137, dtype=torch.float64, grad_fn=<NllLossBackward0>)\n",
      "tensor(10.5128, dtype=torch.float64, grad_fn=<NllLossBackward0>)\n",
      "----------\n"
     ]
    },
    {
     "name": "stderr",
     "output_type": "stream",
     "text": [
      "  7%|██▌                                  | 701/10000 [12:24<2:05:34,  1.23it/s]"
     ]
    },
    {
     "name": "stdout",
     "output_type": "stream",
     "text": [
      "train test\n",
      "tensor(0.4083, dtype=torch.float64, grad_fn=<NllLossBackward0>)\n",
      "tensor(10.5901, dtype=torch.float64, grad_fn=<NllLossBackward0>)\n",
      "----------\n"
     ]
    },
    {
     "name": "stderr",
     "output_type": "stream",
     "text": [
      "  7%|██▋                                  | 711/10000 [12:32<2:07:23,  1.22it/s]"
     ]
    },
    {
     "name": "stdout",
     "output_type": "stream",
     "text": [
      "train test\n",
      "tensor(0.4028, dtype=torch.float64, grad_fn=<NllLossBackward0>)\n",
      "tensor(10.6694, dtype=torch.float64, grad_fn=<NllLossBackward0>)\n",
      "----------\n"
     ]
    },
    {
     "name": "stderr",
     "output_type": "stream",
     "text": [
      "  7%|██▋                                  | 721/10000 [12:40<2:03:50,  1.25it/s]"
     ]
    },
    {
     "name": "stdout",
     "output_type": "stream",
     "text": [
      "train test\n",
      "tensor(0.3975, dtype=torch.float64, grad_fn=<NllLossBackward0>)\n",
      "tensor(10.7485, dtype=torch.float64, grad_fn=<NllLossBackward0>)\n",
      "----------\n"
     ]
    },
    {
     "name": "stderr",
     "output_type": "stream",
     "text": [
      "  7%|██▋                                  | 731/10000 [12:48<2:09:27,  1.19it/s]"
     ]
    },
    {
     "name": "stdout",
     "output_type": "stream",
     "text": [
      "train test\n",
      "tensor(0.3925, dtype=torch.float64, grad_fn=<NllLossBackward0>)\n",
      "tensor(10.8220, dtype=torch.float64, grad_fn=<NllLossBackward0>)\n",
      "----------\n"
     ]
    },
    {
     "name": "stderr",
     "output_type": "stream",
     "text": [
      "  7%|██▋                                  | 741/10000 [12:56<2:03:18,  1.25it/s]"
     ]
    },
    {
     "name": "stdout",
     "output_type": "stream",
     "text": [
      "train test\n",
      "tensor(0.3877, dtype=torch.float64, grad_fn=<NllLossBackward0>)\n",
      "tensor(10.8936, dtype=torch.float64, grad_fn=<NllLossBackward0>)\n",
      "----------\n"
     ]
    },
    {
     "name": "stderr",
     "output_type": "stream",
     "text": [
      "  8%|██▊                                  | 751/10000 [13:05<2:08:23,  1.20it/s]"
     ]
    },
    {
     "name": "stdout",
     "output_type": "stream",
     "text": [
      "train test\n",
      "tensor(0.3830, dtype=torch.float64, grad_fn=<NllLossBackward0>)\n",
      "tensor(10.9667, dtype=torch.float64, grad_fn=<NllLossBackward0>)\n",
      "----------\n"
     ]
    },
    {
     "name": "stderr",
     "output_type": "stream",
     "text": [
      "  8%|██▊                                  | 761/10000 [13:13<2:05:34,  1.23it/s]"
     ]
    },
    {
     "name": "stdout",
     "output_type": "stream",
     "text": [
      "train test\n",
      "tensor(0.3784, dtype=torch.float64, grad_fn=<NllLossBackward0>)\n",
      "tensor(11.0386, dtype=torch.float64, grad_fn=<NllLossBackward0>)\n",
      "----------\n"
     ]
    },
    {
     "name": "stderr",
     "output_type": "stream",
     "text": [
      "  8%|██▊                                  | 771/10000 [13:21<2:05:27,  1.23it/s]"
     ]
    },
    {
     "name": "stdout",
     "output_type": "stream",
     "text": [
      "train test\n",
      "tensor(0.3740, dtype=torch.float64, grad_fn=<NllLossBackward0>)\n",
      "tensor(11.1092, dtype=torch.float64, grad_fn=<NllLossBackward0>)\n",
      "----------\n"
     ]
    },
    {
     "name": "stderr",
     "output_type": "stream",
     "text": [
      "  8%|██▉                                  | 781/10000 [13:29<2:07:47,  1.20it/s]"
     ]
    },
    {
     "name": "stdout",
     "output_type": "stream",
     "text": [
      "train test\n",
      "tensor(0.3696, dtype=torch.float64, grad_fn=<NllLossBackward0>)\n",
      "tensor(11.1805, dtype=torch.float64, grad_fn=<NllLossBackward0>)\n",
      "----------\n"
     ]
    },
    {
     "name": "stderr",
     "output_type": "stream",
     "text": [
      "  8%|██▉                                  | 791/10000 [13:37<2:04:52,  1.23it/s]"
     ]
    },
    {
     "name": "stdout",
     "output_type": "stream",
     "text": [
      "train test\n",
      "tensor(0.3653, dtype=torch.float64, grad_fn=<NllLossBackward0>)\n",
      "tensor(11.2496, dtype=torch.float64, grad_fn=<NllLossBackward0>)\n",
      "----------\n"
     ]
    },
    {
     "name": "stderr",
     "output_type": "stream",
     "text": [
      "  8%|██▉                                  | 801/10000 [13:46<2:08:13,  1.20it/s]"
     ]
    },
    {
     "name": "stdout",
     "output_type": "stream",
     "text": [
      "train test\n",
      "tensor(0.3613, dtype=torch.float64, grad_fn=<NllLossBackward0>)\n",
      "tensor(11.3172, dtype=torch.float64, grad_fn=<NllLossBackward0>)\n",
      "----------\n"
     ]
    },
    {
     "name": "stderr",
     "output_type": "stream",
     "text": [
      "  8%|███                                  | 811/10000 [13:54<2:05:11,  1.22it/s]"
     ]
    },
    {
     "name": "stdout",
     "output_type": "stream",
     "text": [
      "train test\n",
      "tensor(0.3572, dtype=torch.float64, grad_fn=<NllLossBackward0>)\n",
      "tensor(11.3860, dtype=torch.float64, grad_fn=<NllLossBackward0>)\n",
      "----------\n"
     ]
    },
    {
     "name": "stderr",
     "output_type": "stream",
     "text": [
      "  8%|███                                  | 821/10000 [14:02<2:03:22,  1.24it/s]"
     ]
    },
    {
     "name": "stdout",
     "output_type": "stream",
     "text": [
      "train test\n",
      "tensor(0.3534, dtype=torch.float64, grad_fn=<NllLossBackward0>)\n",
      "tensor(11.4510, dtype=torch.float64, grad_fn=<NllLossBackward0>)\n",
      "----------\n"
     ]
    },
    {
     "name": "stderr",
     "output_type": "stream",
     "text": [
      "  8%|███                                  | 831/10000 [14:10<2:05:07,  1.22it/s]"
     ]
    },
    {
     "name": "stdout",
     "output_type": "stream",
     "text": [
      "train test\n",
      "tensor(0.3497, dtype=torch.float64, grad_fn=<NllLossBackward0>)\n",
      "tensor(11.5150, dtype=torch.float64, grad_fn=<NllLossBackward0>)\n",
      "----------\n"
     ]
    },
    {
     "name": "stderr",
     "output_type": "stream",
     "text": [
      "  8%|███                                  | 841/10000 [14:18<2:04:11,  1.23it/s]"
     ]
    },
    {
     "name": "stdout",
     "output_type": "stream",
     "text": [
      "train test\n",
      "tensor(0.3462, dtype=torch.float64, grad_fn=<NllLossBackward0>)\n",
      "tensor(11.5757, dtype=torch.float64, grad_fn=<NllLossBackward0>)\n",
      "----------\n"
     ]
    },
    {
     "name": "stderr",
     "output_type": "stream",
     "text": [
      "  9%|███▏                                 | 851/10000 [14:26<2:02:24,  1.25it/s]"
     ]
    },
    {
     "name": "stdout",
     "output_type": "stream",
     "text": [
      "train test\n",
      "tensor(0.3428, dtype=torch.float64, grad_fn=<NllLossBackward0>)\n",
      "tensor(11.6370, dtype=torch.float64, grad_fn=<NllLossBackward0>)\n",
      "----------\n"
     ]
    },
    {
     "name": "stderr",
     "output_type": "stream",
     "text": [
      "  9%|███▏                                 | 861/10000 [14:34<2:07:13,  1.20it/s]"
     ]
    },
    {
     "name": "stdout",
     "output_type": "stream",
     "text": [
      "train test\n",
      "tensor(0.3394, dtype=torch.float64, grad_fn=<NllLossBackward0>)\n",
      "tensor(11.6991, dtype=torch.float64, grad_fn=<NllLossBackward0>)\n",
      "----------\n"
     ]
    },
    {
     "name": "stderr",
     "output_type": "stream",
     "text": [
      "  9%|███▏                                 | 871/10000 [14:42<2:01:54,  1.25it/s]"
     ]
    },
    {
     "name": "stdout",
     "output_type": "stream",
     "text": [
      "train test\n",
      "tensor(0.3361, dtype=torch.float64, grad_fn=<NllLossBackward0>)\n",
      "tensor(11.7614, dtype=torch.float64, grad_fn=<NllLossBackward0>)\n",
      "----------\n"
     ]
    },
    {
     "name": "stderr",
     "output_type": "stream",
     "text": [
      "  9%|███▎                                 | 881/10000 [14:50<2:00:33,  1.26it/s]"
     ]
    },
    {
     "name": "stdout",
     "output_type": "stream",
     "text": [
      "train test\n",
      "tensor(0.3328, dtype=torch.float64, grad_fn=<NllLossBackward0>)\n",
      "tensor(11.8218, dtype=torch.float64, grad_fn=<NllLossBackward0>)\n",
      "----------\n"
     ]
    },
    {
     "name": "stderr",
     "output_type": "stream",
     "text": [
      "  9%|███▎                                 | 891/10000 [14:58<2:00:56,  1.26it/s]"
     ]
    },
    {
     "name": "stdout",
     "output_type": "stream",
     "text": [
      "train test\n",
      "tensor(0.3299, dtype=torch.float64, grad_fn=<NllLossBackward0>)\n",
      "tensor(11.8780, dtype=torch.float64, grad_fn=<NllLossBackward0>)\n",
      "----------\n"
     ]
    },
    {
     "name": "stderr",
     "output_type": "stream",
     "text": [
      "  9%|███▎                                 | 901/10000 [15:06<1:56:49,  1.30it/s]"
     ]
    },
    {
     "name": "stdout",
     "output_type": "stream",
     "text": [
      "train test\n",
      "tensor(0.3270, dtype=torch.float64, grad_fn=<NllLossBackward0>)\n",
      "tensor(11.9325, dtype=torch.float64, grad_fn=<NllLossBackward0>)\n",
      "----------\n"
     ]
    },
    {
     "name": "stderr",
     "output_type": "stream",
     "text": [
      "  9%|███▎                                 | 911/10000 [15:14<1:57:16,  1.29it/s]"
     ]
    },
    {
     "name": "stdout",
     "output_type": "stream",
     "text": [
      "train test\n",
      "tensor(0.3240, dtype=torch.float64, grad_fn=<NllLossBackward0>)\n",
      "tensor(11.9903, dtype=torch.float64, grad_fn=<NllLossBackward0>)\n",
      "----------\n"
     ]
    },
    {
     "name": "stderr",
     "output_type": "stream",
     "text": [
      "  9%|███▍                                 | 921/10000 [15:22<2:01:43,  1.24it/s]"
     ]
    },
    {
     "name": "stdout",
     "output_type": "stream",
     "text": [
      "train test\n",
      "tensor(0.3212, dtype=torch.float64, grad_fn=<NllLossBackward0>)\n",
      "tensor(12.0452, dtype=torch.float64, grad_fn=<NllLossBackward0>)\n",
      "----------\n"
     ]
    },
    {
     "name": "stderr",
     "output_type": "stream",
     "text": [
      "  9%|███▍                                 | 931/10000 [15:30<2:02:19,  1.24it/s]"
     ]
    },
    {
     "name": "stdout",
     "output_type": "stream",
     "text": [
      "train test\n",
      "tensor(0.3187, dtype=torch.float64, grad_fn=<NllLossBackward0>)\n",
      "tensor(12.0946, dtype=torch.float64, grad_fn=<NllLossBackward0>)\n",
      "----------\n"
     ]
    },
    {
     "name": "stderr",
     "output_type": "stream",
     "text": [
      "  9%|███▍                                 | 941/10000 [15:38<2:03:57,  1.22it/s]"
     ]
    },
    {
     "name": "stdout",
     "output_type": "stream",
     "text": [
      "train test\n",
      "tensor(0.3162, dtype=torch.float64, grad_fn=<NllLossBackward0>)\n",
      "tensor(12.1452, dtype=torch.float64, grad_fn=<NllLossBackward0>)\n",
      "----------\n"
     ]
    },
    {
     "name": "stderr",
     "output_type": "stream",
     "text": [
      " 10%|███▌                                 | 951/10000 [15:46<2:01:31,  1.24it/s]"
     ]
    },
    {
     "name": "stdout",
     "output_type": "stream",
     "text": [
      "train test\n",
      "tensor(0.3135, dtype=torch.float64, grad_fn=<NllLossBackward0>)\n",
      "tensor(12.1997, dtype=torch.float64, grad_fn=<NllLossBackward0>)\n",
      "----------\n"
     ]
    },
    {
     "name": "stderr",
     "output_type": "stream",
     "text": [
      " 10%|███▌                                 | 961/10000 [15:54<1:57:03,  1.29it/s]"
     ]
    },
    {
     "name": "stdout",
     "output_type": "stream",
     "text": [
      "train test\n",
      "tensor(0.3108, dtype=torch.float64, grad_fn=<NllLossBackward0>)\n",
      "tensor(12.2584, dtype=torch.float64, grad_fn=<NllLossBackward0>)\n",
      "----------\n"
     ]
    },
    {
     "name": "stderr",
     "output_type": "stream",
     "text": [
      " 10%|███▌                                 | 971/10000 [16:02<2:00:50,  1.25it/s]"
     ]
    },
    {
     "name": "stdout",
     "output_type": "stream",
     "text": [
      "train test\n",
      "tensor(0.3087, dtype=torch.float64, grad_fn=<NllLossBackward0>)\n",
      "tensor(12.2992, dtype=torch.float64, grad_fn=<NllLossBackward0>)\n",
      "----------\n"
     ]
    },
    {
     "name": "stderr",
     "output_type": "stream",
     "text": [
      " 10%|███▋                                 | 981/10000 [16:10<2:01:25,  1.24it/s]"
     ]
    },
    {
     "name": "stdout",
     "output_type": "stream",
     "text": [
      "train test\n",
      "tensor(0.3069, dtype=torch.float64, grad_fn=<NllLossBackward0>)\n",
      "tensor(12.3371, dtype=torch.float64, grad_fn=<NllLossBackward0>)\n",
      "----------\n"
     ]
    },
    {
     "name": "stderr",
     "output_type": "stream",
     "text": [
      " 10%|███▋                                 | 991/10000 [16:18<1:59:16,  1.26it/s]"
     ]
    },
    {
     "name": "stdout",
     "output_type": "stream",
     "text": [
      "train test\n",
      "tensor(0.3049, dtype=torch.float64, grad_fn=<NllLossBackward0>)\n",
      "tensor(12.3793, dtype=torch.float64, grad_fn=<NllLossBackward0>)\n",
      "----------\n"
     ]
    },
    {
     "name": "stderr",
     "output_type": "stream",
     "text": [
      " 10%|███▌                                | 1001/10000 [16:27<2:01:28,  1.23it/s]"
     ]
    },
    {
     "name": "stdout",
     "output_type": "stream",
     "text": [
      "train test\n",
      "tensor(0.3029, dtype=torch.float64, grad_fn=<NllLossBackward0>)\n",
      "tensor(12.4218, dtype=torch.float64, grad_fn=<NllLossBackward0>)\n",
      "----------\n"
     ]
    },
    {
     "name": "stderr",
     "output_type": "stream",
     "text": [
      " 10%|███▋                                | 1011/10000 [16:35<2:00:11,  1.25it/s]"
     ]
    },
    {
     "name": "stdout",
     "output_type": "stream",
     "text": [
      "train test\n",
      "tensor(0.3010, dtype=torch.float64, grad_fn=<NllLossBackward0>)\n",
      "tensor(12.4652, dtype=torch.float64, grad_fn=<NllLossBackward0>)\n",
      "----------\n"
     ]
    },
    {
     "name": "stderr",
     "output_type": "stream",
     "text": [
      " 10%|███▋                                | 1021/10000 [16:43<1:57:10,  1.28it/s]"
     ]
    },
    {
     "name": "stdout",
     "output_type": "stream",
     "text": [
      "train test\n",
      "tensor(0.2990, dtype=torch.float64, grad_fn=<NllLossBackward0>)\n",
      "tensor(12.5114, dtype=torch.float64, grad_fn=<NllLossBackward0>)\n",
      "----------\n"
     ]
    },
    {
     "name": "stderr",
     "output_type": "stream",
     "text": [
      " 10%|███▋                                | 1031/10000 [16:51<2:00:36,  1.24it/s]"
     ]
    },
    {
     "name": "stdout",
     "output_type": "stream",
     "text": [
      "train test\n",
      "tensor(0.2969, dtype=torch.float64, grad_fn=<NllLossBackward0>)\n",
      "tensor(12.5584, dtype=torch.float64, grad_fn=<NllLossBackward0>)\n",
      "----------\n"
     ]
    },
    {
     "name": "stderr",
     "output_type": "stream",
     "text": [
      " 10%|███▋                                | 1041/10000 [16:59<2:00:11,  1.24it/s]"
     ]
    },
    {
     "name": "stdout",
     "output_type": "stream",
     "text": [
      "train test\n",
      "tensor(0.2947, dtype=torch.float64, grad_fn=<NllLossBackward0>)\n",
      "tensor(12.6077, dtype=torch.float64, grad_fn=<NllLossBackward0>)\n",
      "----------\n"
     ]
    },
    {
     "name": "stderr",
     "output_type": "stream",
     "text": [
      " 11%|███▊                                | 1051/10000 [17:07<1:57:16,  1.27it/s]"
     ]
    },
    {
     "name": "stdout",
     "output_type": "stream",
     "text": [
      "train test\n",
      "tensor(0.2927, dtype=torch.float64, grad_fn=<NllLossBackward0>)\n",
      "tensor(12.6550, dtype=torch.float64, grad_fn=<NllLossBackward0>)\n",
      "----------\n"
     ]
    },
    {
     "name": "stderr",
     "output_type": "stream",
     "text": [
      " 11%|███▊                                | 1061/10000 [17:15<1:59:26,  1.25it/s]"
     ]
    },
    {
     "name": "stdout",
     "output_type": "stream",
     "text": [
      "train test\n",
      "tensor(0.2908, dtype=torch.float64, grad_fn=<NllLossBackward0>)\n",
      "tensor(12.6983, dtype=torch.float64, grad_fn=<NllLossBackward0>)\n",
      "----------\n"
     ]
    },
    {
     "name": "stderr",
     "output_type": "stream",
     "text": [
      " 11%|███▊                                | 1071/10000 [17:23<1:57:22,  1.27it/s]"
     ]
    },
    {
     "name": "stdout",
     "output_type": "stream",
     "text": [
      "train test\n",
      "tensor(0.2890, dtype=torch.float64, grad_fn=<NllLossBackward0>)\n",
      "tensor(12.7396, dtype=torch.float64, grad_fn=<NllLossBackward0>)\n",
      "----------\n"
     ]
    },
    {
     "name": "stderr",
     "output_type": "stream",
     "text": [
      " 11%|███▉                                | 1081/10000 [17:30<1:57:05,  1.27it/s]"
     ]
    },
    {
     "name": "stdout",
     "output_type": "stream",
     "text": [
      "train test\n",
      "tensor(0.2873, dtype=torch.float64, grad_fn=<NllLossBackward0>)\n",
      "tensor(12.7809, dtype=torch.float64, grad_fn=<NllLossBackward0>)\n",
      "----------\n"
     ]
    },
    {
     "name": "stderr",
     "output_type": "stream",
     "text": [
      " 11%|███▉                                | 1091/10000 [17:38<1:58:35,  1.25it/s]"
     ]
    },
    {
     "name": "stdout",
     "output_type": "stream",
     "text": [
      "train test\n",
      "tensor(0.2855, dtype=torch.float64, grad_fn=<NllLossBackward0>)\n",
      "tensor(12.8237, dtype=torch.float64, grad_fn=<NllLossBackward0>)\n",
      "----------\n"
     ]
    },
    {
     "name": "stderr",
     "output_type": "stream",
     "text": [
      " 11%|███▉                                | 1101/10000 [17:46<1:58:53,  1.25it/s]"
     ]
    },
    {
     "name": "stdout",
     "output_type": "stream",
     "text": [
      "train test\n",
      "tensor(0.2837, dtype=torch.float64, grad_fn=<NllLossBackward0>)\n",
      "tensor(12.8658, dtype=torch.float64, grad_fn=<NllLossBackward0>)\n",
      "----------\n"
     ]
    },
    {
     "name": "stderr",
     "output_type": "stream",
     "text": [
      " 11%|███▉                                | 1111/10000 [17:54<1:55:01,  1.29it/s]"
     ]
    },
    {
     "name": "stdout",
     "output_type": "stream",
     "text": [
      "train test\n",
      "tensor(0.2820, dtype=torch.float64, grad_fn=<NllLossBackward0>)\n",
      "tensor(12.9074, dtype=torch.float64, grad_fn=<NllLossBackward0>)\n",
      "----------\n"
     ]
    },
    {
     "name": "stderr",
     "output_type": "stream",
     "text": [
      " 11%|████                                | 1121/10000 [18:02<2:00:01,  1.23it/s]"
     ]
    },
    {
     "name": "stdout",
     "output_type": "stream",
     "text": [
      "train test\n",
      "tensor(0.2804, dtype=torch.float64, grad_fn=<NllLossBackward0>)\n",
      "tensor(12.9445, dtype=torch.float64, grad_fn=<NllLossBackward0>)\n",
      "----------\n"
     ]
    },
    {
     "name": "stderr",
     "output_type": "stream",
     "text": [
      " 11%|████                                | 1131/10000 [18:10<1:59:33,  1.24it/s]"
     ]
    },
    {
     "name": "stdout",
     "output_type": "stream",
     "text": [
      "train test\n",
      "tensor(0.2789, dtype=torch.float64, grad_fn=<NllLossBackward0>)\n",
      "tensor(12.9815, dtype=torch.float64, grad_fn=<NllLossBackward0>)\n",
      "----------\n"
     ]
    },
    {
     "name": "stderr",
     "output_type": "stream",
     "text": [
      " 11%|████                                | 1141/10000 [18:18<1:56:14,  1.27it/s]"
     ]
    },
    {
     "name": "stdout",
     "output_type": "stream",
     "text": [
      "train test\n",
      "tensor(0.2774, dtype=torch.float64, grad_fn=<NllLossBackward0>)\n",
      "tensor(13.0188, dtype=torch.float64, grad_fn=<NllLossBackward0>)\n",
      "----------\n"
     ]
    },
    {
     "name": "stderr",
     "output_type": "stream",
     "text": [
      " 12%|████▏                               | 1151/10000 [18:26<1:58:19,  1.25it/s]"
     ]
    },
    {
     "name": "stdout",
     "output_type": "stream",
     "text": [
      "train test\n",
      "tensor(0.2759, dtype=torch.float64, grad_fn=<NllLossBackward0>)\n",
      "tensor(13.0567, dtype=torch.float64, grad_fn=<NllLossBackward0>)\n",
      "----------\n"
     ]
    },
    {
     "name": "stderr",
     "output_type": "stream",
     "text": [
      " 12%|████▏                               | 1161/10000 [18:34<1:56:01,  1.27it/s]"
     ]
    },
    {
     "name": "stdout",
     "output_type": "stream",
     "text": [
      "train test\n",
      "tensor(0.2746, dtype=torch.float64, grad_fn=<NllLossBackward0>)\n",
      "tensor(13.0897, dtype=torch.float64, grad_fn=<NllLossBackward0>)\n",
      "----------\n"
     ]
    },
    {
     "name": "stderr",
     "output_type": "stream",
     "text": [
      " 12%|████▏                               | 1171/10000 [18:42<1:54:46,  1.28it/s]"
     ]
    },
    {
     "name": "stdout",
     "output_type": "stream",
     "text": [
      "train test\n",
      "tensor(0.2734, dtype=torch.float64, grad_fn=<NllLossBackward0>)\n",
      "tensor(13.1181, dtype=torch.float64, grad_fn=<NllLossBackward0>)\n",
      "----------\n"
     ]
    },
    {
     "name": "stderr",
     "output_type": "stream",
     "text": [
      " 12%|████▎                               | 1181/10000 [18:50<1:56:15,  1.26it/s]"
     ]
    },
    {
     "name": "stdout",
     "output_type": "stream",
     "text": [
      "train test\n",
      "tensor(0.2721, dtype=torch.float64, grad_fn=<NllLossBackward0>)\n",
      "tensor(13.1503, dtype=torch.float64, grad_fn=<NllLossBackward0>)\n",
      "----------\n"
     ]
    },
    {
     "name": "stderr",
     "output_type": "stream",
     "text": [
      " 12%|████▎                               | 1191/10000 [18:58<1:59:26,  1.23it/s]"
     ]
    },
    {
     "name": "stdout",
     "output_type": "stream",
     "text": [
      "train test\n",
      "tensor(0.2708, dtype=torch.float64, grad_fn=<NllLossBackward0>)\n",
      "tensor(13.1835, dtype=torch.float64, grad_fn=<NllLossBackward0>)\n",
      "----------\n"
     ]
    },
    {
     "name": "stderr",
     "output_type": "stream",
     "text": [
      " 12%|████▎                               | 1201/10000 [19:06<1:57:46,  1.25it/s]"
     ]
    },
    {
     "name": "stdout",
     "output_type": "stream",
     "text": [
      "train test\n",
      "tensor(0.2696, dtype=torch.float64, grad_fn=<NllLossBackward0>)\n",
      "tensor(13.2141, dtype=torch.float64, grad_fn=<NllLossBackward0>)\n",
      "----------\n"
     ]
    },
    {
     "name": "stderr",
     "output_type": "stream",
     "text": [
      " 12%|████▎                               | 1211/10000 [19:14<1:57:23,  1.25it/s]"
     ]
    },
    {
     "name": "stdout",
     "output_type": "stream",
     "text": [
      "train test\n",
      "tensor(0.2684, dtype=torch.float64, grad_fn=<NllLossBackward0>)\n",
      "tensor(13.2461, dtype=torch.float64, grad_fn=<NllLossBackward0>)\n",
      "----------\n"
     ]
    },
    {
     "name": "stderr",
     "output_type": "stream",
     "text": [
      " 12%|████▍                               | 1221/10000 [19:22<2:01:50,  1.20it/s]"
     ]
    },
    {
     "name": "stdout",
     "output_type": "stream",
     "text": [
      "train test\n",
      "tensor(0.2673, dtype=torch.float64, grad_fn=<NllLossBackward0>)\n",
      "tensor(13.2742, dtype=torch.float64, grad_fn=<NllLossBackward0>)\n",
      "----------\n"
     ]
    },
    {
     "name": "stderr",
     "output_type": "stream",
     "text": [
      " 12%|████▍                               | 1231/10000 [19:30<2:00:28,  1.21it/s]"
     ]
    },
    {
     "name": "stdout",
     "output_type": "stream",
     "text": [
      "train test\n",
      "tensor(0.2661, dtype=torch.float64, grad_fn=<NllLossBackward0>)\n",
      "tensor(13.3041, dtype=torch.float64, grad_fn=<NllLossBackward0>)\n",
      "----------\n"
     ]
    },
    {
     "name": "stderr",
     "output_type": "stream",
     "text": [
      " 12%|████▍                               | 1241/10000 [19:38<2:00:21,  1.21it/s]"
     ]
    },
    {
     "name": "stdout",
     "output_type": "stream",
     "text": [
      "train test\n",
      "tensor(0.2648, dtype=torch.float64, grad_fn=<NllLossBackward0>)\n",
      "tensor(13.3395, dtype=torch.float64, grad_fn=<NllLossBackward0>)\n",
      "----------\n"
     ]
    },
    {
     "name": "stderr",
     "output_type": "stream",
     "text": [
      " 13%|████▌                               | 1251/10000 [19:46<1:59:11,  1.22it/s]"
     ]
    },
    {
     "name": "stdout",
     "output_type": "stream",
     "text": [
      "train test\n",
      "tensor(0.2635, dtype=torch.float64, grad_fn=<NllLossBackward0>)\n",
      "tensor(13.3722, dtype=torch.float64, grad_fn=<NllLossBackward0>)\n",
      "----------\n"
     ]
    },
    {
     "name": "stderr",
     "output_type": "stream",
     "text": [
      " 13%|████▌                               | 1261/10000 [19:54<1:56:15,  1.25it/s]"
     ]
    },
    {
     "name": "stdout",
     "output_type": "stream",
     "text": [
      "train test\n",
      "tensor(0.2625, dtype=torch.float64, grad_fn=<NllLossBackward0>)\n",
      "tensor(13.3969, dtype=torch.float64, grad_fn=<NllLossBackward0>)\n",
      "----------\n"
     ]
    },
    {
     "name": "stderr",
     "output_type": "stream",
     "text": [
      " 13%|████▌                               | 1271/10000 [20:03<2:01:06,  1.20it/s]"
     ]
    },
    {
     "name": "stdout",
     "output_type": "stream",
     "text": [
      "train test\n",
      "tensor(0.2615, dtype=torch.float64, grad_fn=<NllLossBackward0>)\n",
      "tensor(13.4235, dtype=torch.float64, grad_fn=<NllLossBackward0>)\n",
      "----------\n"
     ]
    },
    {
     "name": "stderr",
     "output_type": "stream",
     "text": [
      " 13%|████▌                               | 1281/10000 [20:11<1:56:11,  1.25it/s]"
     ]
    },
    {
     "name": "stdout",
     "output_type": "stream",
     "text": [
      "train test\n",
      "tensor(0.2606, dtype=torch.float64, grad_fn=<NllLossBackward0>)\n",
      "tensor(13.4478, dtype=torch.float64, grad_fn=<NllLossBackward0>)\n",
      "----------\n"
     ]
    },
    {
     "name": "stderr",
     "output_type": "stream",
     "text": [
      " 13%|████▋                               | 1291/10000 [20:19<1:59:12,  1.22it/s]"
     ]
    },
    {
     "name": "stdout",
     "output_type": "stream",
     "text": [
      "train test\n",
      "tensor(0.2598, dtype=torch.float64, grad_fn=<NllLossBackward0>)\n",
      "tensor(13.4671, dtype=torch.float64, grad_fn=<NllLossBackward0>)\n",
      "----------\n"
     ]
    },
    {
     "name": "stderr",
     "output_type": "stream",
     "text": [
      " 13%|████▋                               | 1301/10000 [20:27<1:58:56,  1.22it/s]"
     ]
    },
    {
     "name": "stdout",
     "output_type": "stream",
     "text": [
      "train test\n",
      "tensor(0.2589, dtype=torch.float64, grad_fn=<NllLossBackward0>)\n",
      "tensor(13.4919, dtype=torch.float64, grad_fn=<NllLossBackward0>)\n",
      "----------\n"
     ]
    },
    {
     "name": "stderr",
     "output_type": "stream",
     "text": [
      " 13%|████▋                               | 1311/10000 [20:35<1:55:36,  1.25it/s]"
     ]
    },
    {
     "name": "stdout",
     "output_type": "stream",
     "text": [
      "train test\n",
      "tensor(0.2581, dtype=torch.float64, grad_fn=<NllLossBackward0>)\n",
      "tensor(13.5140, dtype=torch.float64, grad_fn=<NllLossBackward0>)\n",
      "----------\n"
     ]
    },
    {
     "name": "stderr",
     "output_type": "stream",
     "text": [
      " 13%|████▊                               | 1321/10000 [20:43<1:58:38,  1.22it/s]"
     ]
    },
    {
     "name": "stdout",
     "output_type": "stream",
     "text": [
      "train test\n",
      "tensor(0.2572, dtype=torch.float64, grad_fn=<NllLossBackward0>)\n",
      "tensor(13.5367, dtype=torch.float64, grad_fn=<NllLossBackward0>)\n",
      "----------\n"
     ]
    },
    {
     "name": "stderr",
     "output_type": "stream",
     "text": [
      " 13%|████▊                               | 1331/10000 [20:51<1:58:25,  1.22it/s]"
     ]
    },
    {
     "name": "stdout",
     "output_type": "stream",
     "text": [
      "train test\n",
      "tensor(0.2562, dtype=torch.float64, grad_fn=<NllLossBackward0>)\n",
      "tensor(13.5637, dtype=torch.float64, grad_fn=<NllLossBackward0>)\n",
      "----------\n"
     ]
    },
    {
     "name": "stderr",
     "output_type": "stream",
     "text": [
      " 13%|████▊                               | 1341/10000 [21:00<1:54:37,  1.26it/s]"
     ]
    },
    {
     "name": "stdout",
     "output_type": "stream",
     "text": [
      "train test\n",
      "tensor(0.2553, dtype=torch.float64, grad_fn=<NllLossBackward0>)\n",
      "tensor(13.5895, dtype=torch.float64, grad_fn=<NllLossBackward0>)\n",
      "----------\n"
     ]
    },
    {
     "name": "stderr",
     "output_type": "stream",
     "text": [
      " 14%|████▊                               | 1351/10000 [21:08<1:59:55,  1.20it/s]"
     ]
    },
    {
     "name": "stdout",
     "output_type": "stream",
     "text": [
      "train test\n",
      "tensor(0.2548, dtype=torch.float64, grad_fn=<NllLossBackward0>)\n",
      "tensor(13.6000, dtype=torch.float64, grad_fn=<NllLossBackward0>)\n",
      "----------\n"
     ]
    },
    {
     "name": "stderr",
     "output_type": "stream",
     "text": [
      " 14%|████▉                               | 1361/10000 [21:16<1:55:06,  1.25it/s]"
     ]
    },
    {
     "name": "stdout",
     "output_type": "stream",
     "text": [
      "train test\n",
      "tensor(0.2542, dtype=torch.float64, grad_fn=<NllLossBackward0>)\n",
      "tensor(13.6128, dtype=torch.float64, grad_fn=<NllLossBackward0>)\n",
      "----------\n"
     ]
    },
    {
     "name": "stderr",
     "output_type": "stream",
     "text": [
      " 14%|████▉                               | 1371/10000 [21:24<1:56:43,  1.23it/s]"
     ]
    },
    {
     "name": "stdout",
     "output_type": "stream",
     "text": [
      "train test\n",
      "tensor(0.2535, dtype=torch.float64, grad_fn=<NllLossBackward0>)\n",
      "tensor(13.6301, dtype=torch.float64, grad_fn=<NllLossBackward0>)\n",
      "----------\n"
     ]
    },
    {
     "name": "stderr",
     "output_type": "stream",
     "text": [
      " 14%|████▉                               | 1381/10000 [21:32<1:57:16,  1.22it/s]"
     ]
    },
    {
     "name": "stdout",
     "output_type": "stream",
     "text": [
      "train test\n",
      "tensor(0.2529, dtype=torch.float64, grad_fn=<NllLossBackward0>)\n",
      "tensor(13.6458, dtype=torch.float64, grad_fn=<NllLossBackward0>)\n",
      "----------\n"
     ]
    },
    {
     "name": "stderr",
     "output_type": "stream",
     "text": [
      " 14%|█████                               | 1391/10000 [21:40<1:55:29,  1.24it/s]"
     ]
    },
    {
     "name": "stdout",
     "output_type": "stream",
     "text": [
      "train test\n",
      "tensor(0.2522, dtype=torch.float64, grad_fn=<NllLossBackward0>)\n",
      "tensor(13.6657, dtype=torch.float64, grad_fn=<NllLossBackward0>)\n",
      "----------\n"
     ]
    },
    {
     "name": "stderr",
     "output_type": "stream",
     "text": [
      " 14%|█████                               | 1401/10000 [21:49<1:57:36,  1.22it/s]"
     ]
    },
    {
     "name": "stdout",
     "output_type": "stream",
     "text": [
      "train test\n",
      "tensor(0.2514, dtype=torch.float64, grad_fn=<NllLossBackward0>)\n",
      "tensor(13.6899, dtype=torch.float64, grad_fn=<NllLossBackward0>)\n",
      "----------\n"
     ]
    },
    {
     "name": "stderr",
     "output_type": "stream",
     "text": [
      " 14%|█████                               | 1411/10000 [21:57<1:57:26,  1.22it/s]"
     ]
    },
    {
     "name": "stdout",
     "output_type": "stream",
     "text": [
      "train test\n",
      "tensor(0.2505, dtype=torch.float64, grad_fn=<NllLossBackward0>)\n",
      "tensor(13.7139, dtype=torch.float64, grad_fn=<NllLossBackward0>)\n",
      "----------\n"
     ]
    },
    {
     "name": "stderr",
     "output_type": "stream",
     "text": [
      " 14%|█████                               | 1421/10000 [22:05<1:54:14,  1.25it/s]"
     ]
    },
    {
     "name": "stdout",
     "output_type": "stream",
     "text": [
      "train test\n",
      "tensor(0.2496, dtype=torch.float64, grad_fn=<NllLossBackward0>)\n",
      "tensor(13.7406, dtype=torch.float64, grad_fn=<NllLossBackward0>)\n",
      "----------\n"
     ]
    },
    {
     "name": "stderr",
     "output_type": "stream",
     "text": [
      " 14%|█████▏                              | 1431/10000 [22:13<1:56:54,  1.22it/s]"
     ]
    },
    {
     "name": "stdout",
     "output_type": "stream",
     "text": [
      "train test\n",
      "tensor(0.2487, dtype=torch.float64, grad_fn=<NllLossBackward0>)\n",
      "tensor(13.7623, dtype=torch.float64, grad_fn=<NllLossBackward0>)\n",
      "----------\n"
     ]
    },
    {
     "name": "stderr",
     "output_type": "stream",
     "text": [
      " 14%|█████▏                              | 1441/10000 [22:21<1:56:32,  1.22it/s]"
     ]
    },
    {
     "name": "stdout",
     "output_type": "stream",
     "text": [
      "train test\n",
      "tensor(0.2480, dtype=torch.float64, grad_fn=<NllLossBackward0>)\n",
      "tensor(13.7820, dtype=torch.float64, grad_fn=<NllLossBackward0>)\n",
      "----------\n"
     ]
    },
    {
     "name": "stderr",
     "output_type": "stream",
     "text": [
      " 15%|█████▏                              | 1451/10000 [22:29<1:55:41,  1.23it/s]"
     ]
    },
    {
     "name": "stdout",
     "output_type": "stream",
     "text": [
      "train test\n",
      "tensor(0.2476, dtype=torch.float64, grad_fn=<NllLossBackward0>)\n",
      "tensor(13.7919, dtype=torch.float64, grad_fn=<NllLossBackward0>)\n",
      "----------\n"
     ]
    },
    {
     "name": "stderr",
     "output_type": "stream",
     "text": [
      " 15%|█████▎                              | 1461/10000 [22:37<1:56:19,  1.22it/s]"
     ]
    },
    {
     "name": "stdout",
     "output_type": "stream",
     "text": [
      "train test\n",
      "tensor(0.2471, dtype=torch.float64, grad_fn=<NllLossBackward0>)\n",
      "tensor(13.8017, dtype=torch.float64, grad_fn=<NllLossBackward0>)\n",
      "----------\n"
     ]
    },
    {
     "name": "stderr",
     "output_type": "stream",
     "text": [
      " 15%|█████▎                              | 1471/10000 [22:46<1:55:22,  1.23it/s]"
     ]
    },
    {
     "name": "stdout",
     "output_type": "stream",
     "text": [
      "train test\n",
      "tensor(0.2465, dtype=torch.float64, grad_fn=<NllLossBackward0>)\n",
      "tensor(13.8183, dtype=torch.float64, grad_fn=<NllLossBackward0>)\n",
      "----------\n"
     ]
    },
    {
     "name": "stderr",
     "output_type": "stream",
     "text": [
      " 15%|█████▎                              | 1481/10000 [22:54<1:55:37,  1.23it/s]"
     ]
    },
    {
     "name": "stdout",
     "output_type": "stream",
     "text": [
      "train test\n",
      "tensor(0.2458, dtype=torch.float64, grad_fn=<NllLossBackward0>)\n",
      "tensor(13.8408, dtype=torch.float64, grad_fn=<NllLossBackward0>)\n",
      "----------\n"
     ]
    },
    {
     "name": "stderr",
     "output_type": "stream",
     "text": [
      " 15%|█████▎                              | 1491/10000 [23:02<1:57:19,  1.21it/s]"
     ]
    },
    {
     "name": "stdout",
     "output_type": "stream",
     "text": [
      "train test\n",
      "tensor(0.2451, dtype=torch.float64, grad_fn=<NllLossBackward0>)\n",
      "tensor(13.8579, dtype=torch.float64, grad_fn=<NllLossBackward0>)\n",
      "----------\n"
     ]
    },
    {
     "name": "stderr",
     "output_type": "stream",
     "text": [
      " 15%|█████▍                              | 1501/10000 [23:10<1:55:30,  1.23it/s]"
     ]
    },
    {
     "name": "stdout",
     "output_type": "stream",
     "text": [
      "train test\n",
      "tensor(0.2444, dtype=torch.float64, grad_fn=<NllLossBackward0>)\n",
      "tensor(13.8746, dtype=torch.float64, grad_fn=<NllLossBackward0>)\n",
      "----------\n"
     ]
    },
    {
     "name": "stderr",
     "output_type": "stream",
     "text": [
      " 15%|█████▍                              | 1511/10000 [23:18<1:55:41,  1.22it/s]"
     ]
    },
    {
     "name": "stdout",
     "output_type": "stream",
     "text": [
      "train test\n",
      "tensor(0.2438, dtype=torch.float64, grad_fn=<NllLossBackward0>)\n",
      "tensor(13.8932, dtype=torch.float64, grad_fn=<NllLossBackward0>)\n",
      "----------\n"
     ]
    },
    {
     "name": "stderr",
     "output_type": "stream",
     "text": [
      " 15%|█████▍                              | 1521/10000 [23:26<1:54:06,  1.24it/s]"
     ]
    },
    {
     "name": "stdout",
     "output_type": "stream",
     "text": [
      "train test\n",
      "tensor(0.2433, dtype=torch.float64, grad_fn=<NllLossBackward0>)\n",
      "tensor(13.9065, dtype=torch.float64, grad_fn=<NllLossBackward0>)\n",
      "----------\n"
     ]
    },
    {
     "name": "stderr",
     "output_type": "stream",
     "text": [
      " 15%|█████▌                              | 1531/10000 [23:34<1:53:59,  1.24it/s]"
     ]
    },
    {
     "name": "stdout",
     "output_type": "stream",
     "text": [
      "train test\n",
      "tensor(0.2431, dtype=torch.float64, grad_fn=<NllLossBackward0>)\n",
      "tensor(13.9102, dtype=torch.float64, grad_fn=<NllLossBackward0>)\n",
      "----------\n"
     ]
    },
    {
     "name": "stderr",
     "output_type": "stream",
     "text": [
      " 15%|█████▌                              | 1541/10000 [23:43<1:55:56,  1.22it/s]"
     ]
    },
    {
     "name": "stdout",
     "output_type": "stream",
     "text": [
      "train test\n",
      "tensor(0.2428, dtype=torch.float64, grad_fn=<NllLossBackward0>)\n",
      "tensor(13.9181, dtype=torch.float64, grad_fn=<NllLossBackward0>)\n",
      "----------\n"
     ]
    },
    {
     "name": "stderr",
     "output_type": "stream",
     "text": [
      " 16%|█████▌                              | 1551/10000 [23:51<1:52:58,  1.25it/s]"
     ]
    },
    {
     "name": "stdout",
     "output_type": "stream",
     "text": [
      "train test\n",
      "tensor(0.2422, dtype=torch.float64, grad_fn=<NllLossBackward0>)\n",
      "tensor(13.9350, dtype=torch.float64, grad_fn=<NllLossBackward0>)\n",
      "----------\n"
     ]
    },
    {
     "name": "stderr",
     "output_type": "stream",
     "text": [
      " 16%|█████▌                              | 1561/10000 [23:59<1:56:18,  1.21it/s]"
     ]
    },
    {
     "name": "stdout",
     "output_type": "stream",
     "text": [
      "train test\n",
      "tensor(0.2417, dtype=torch.float64, grad_fn=<NllLossBackward0>)\n",
      "tensor(13.9504, dtype=torch.float64, grad_fn=<NllLossBackward0>)\n",
      "----------\n"
     ]
    },
    {
     "name": "stderr",
     "output_type": "stream",
     "text": [
      " 16%|█████▋                              | 1571/10000 [24:07<1:54:43,  1.22it/s]"
     ]
    },
    {
     "name": "stdout",
     "output_type": "stream",
     "text": [
      "train test\n",
      "tensor(0.2414, dtype=torch.float64, grad_fn=<NllLossBackward0>)\n",
      "tensor(13.9577, dtype=torch.float64, grad_fn=<NllLossBackward0>)\n",
      "----------\n"
     ]
    },
    {
     "name": "stderr",
     "output_type": "stream",
     "text": [
      " 16%|█████▋                              | 1581/10000 [24:15<1:53:55,  1.23it/s]"
     ]
    },
    {
     "name": "stdout",
     "output_type": "stream",
     "text": [
      "train test\n",
      "tensor(0.2410, dtype=torch.float64, grad_fn=<NllLossBackward0>)\n",
      "tensor(13.9684, dtype=torch.float64, grad_fn=<NllLossBackward0>)\n",
      "----------\n"
     ]
    },
    {
     "name": "stderr",
     "output_type": "stream",
     "text": [
      " 16%|█████▋                              | 1591/10000 [24:23<1:53:50,  1.23it/s]"
     ]
    },
    {
     "name": "stdout",
     "output_type": "stream",
     "text": [
      "train test\n",
      "tensor(0.2405, dtype=torch.float64, grad_fn=<NllLossBackward0>)\n",
      "tensor(13.9822, dtype=torch.float64, grad_fn=<NllLossBackward0>)\n",
      "----------\n"
     ]
    },
    {
     "name": "stderr",
     "output_type": "stream",
     "text": [
      " 16%|█████▊                              | 1601/10000 [24:31<1:53:20,  1.24it/s]"
     ]
    },
    {
     "name": "stdout",
     "output_type": "stream",
     "text": [
      "train test\n",
      "tensor(0.2399, dtype=torch.float64, grad_fn=<NllLossBackward0>)\n",
      "tensor(13.9970, dtype=torch.float64, grad_fn=<NllLossBackward0>)\n",
      "----------\n"
     ]
    },
    {
     "name": "stderr",
     "output_type": "stream",
     "text": [
      " 16%|█████▊                              | 1611/10000 [24:40<1:54:54,  1.22it/s]"
     ]
    },
    {
     "name": "stdout",
     "output_type": "stream",
     "text": [
      "train test\n",
      "tensor(0.2393, dtype=torch.float64, grad_fn=<NllLossBackward0>)\n",
      "tensor(14.0159, dtype=torch.float64, grad_fn=<NllLossBackward0>)\n",
      "----------\n"
     ]
    },
    {
     "name": "stderr",
     "output_type": "stream",
     "text": [
      " 16%|█████▊                              | 1621/10000 [24:48<1:55:50,  1.21it/s]"
     ]
    },
    {
     "name": "stdout",
     "output_type": "stream",
     "text": [
      "train test\n",
      "tensor(0.2387, dtype=torch.float64, grad_fn=<NllLossBackward0>)\n",
      "tensor(14.0341, dtype=torch.float64, grad_fn=<NllLossBackward0>)\n",
      "----------\n"
     ]
    },
    {
     "name": "stderr",
     "output_type": "stream",
     "text": [
      " 16%|█████▊                              | 1631/10000 [24:56<1:52:49,  1.24it/s]"
     ]
    },
    {
     "name": "stdout",
     "output_type": "stream",
     "text": [
      "train test\n",
      "tensor(0.2382, dtype=torch.float64, grad_fn=<NllLossBackward0>)\n",
      "tensor(14.0474, dtype=torch.float64, grad_fn=<NllLossBackward0>)\n",
      "----------\n"
     ]
    },
    {
     "name": "stderr",
     "output_type": "stream",
     "text": [
      " 16%|█████▉                              | 1641/10000 [25:04<1:56:25,  1.20it/s]"
     ]
    },
    {
     "name": "stdout",
     "output_type": "stream",
     "text": [
      "train test\n",
      "tensor(0.2376, dtype=torch.float64, grad_fn=<NllLossBackward0>)\n",
      "tensor(14.0642, dtype=torch.float64, grad_fn=<NllLossBackward0>)\n",
      "----------\n"
     ]
    },
    {
     "name": "stderr",
     "output_type": "stream",
     "text": [
      " 17%|█████▉                              | 1651/10000 [25:12<1:53:41,  1.22it/s]"
     ]
    },
    {
     "name": "stdout",
     "output_type": "stream",
     "text": [
      "train test\n",
      "tensor(0.2371, dtype=torch.float64, grad_fn=<NllLossBackward0>)\n",
      "tensor(14.0776, dtype=torch.float64, grad_fn=<NllLossBackward0>)\n",
      "----------\n"
     ]
    },
    {
     "name": "stderr",
     "output_type": "stream",
     "text": [
      " 17%|█████▉                              | 1661/10000 [25:20<1:53:41,  1.22it/s]"
     ]
    },
    {
     "name": "stdout",
     "output_type": "stream",
     "text": [
      "train test\n",
      "tensor(0.2368, dtype=torch.float64, grad_fn=<NllLossBackward0>)\n",
      "tensor(14.0848, dtype=torch.float64, grad_fn=<NllLossBackward0>)\n",
      "----------\n"
     ]
    },
    {
     "name": "stderr",
     "output_type": "stream",
     "text": [
      " 17%|██████                              | 1671/10000 [25:29<1:53:35,  1.22it/s]"
     ]
    },
    {
     "name": "stdout",
     "output_type": "stream",
     "text": [
      "train test\n",
      "tensor(0.2364, dtype=torch.float64, grad_fn=<NllLossBackward0>)\n",
      "tensor(14.0955, dtype=torch.float64, grad_fn=<NllLossBackward0>)\n",
      "----------\n"
     ]
    },
    {
     "name": "stderr",
     "output_type": "stream",
     "text": [
      " 17%|██████                              | 1681/10000 [25:37<1:54:44,  1.21it/s]"
     ]
    },
    {
     "name": "stdout",
     "output_type": "stream",
     "text": [
      "train test\n",
      "tensor(0.2360, dtype=torch.float64, grad_fn=<NllLossBackward0>)\n",
      "tensor(14.1061, dtype=torch.float64, grad_fn=<NllLossBackward0>)\n",
      "----------\n"
     ]
    },
    {
     "name": "stderr",
     "output_type": "stream",
     "text": [
      " 17%|██████                              | 1691/10000 [25:45<1:51:08,  1.25it/s]"
     ]
    },
    {
     "name": "stdout",
     "output_type": "stream",
     "text": [
      "train test\n",
      "tensor(0.2355, dtype=torch.float64, grad_fn=<NllLossBackward0>)\n",
      "tensor(14.1203, dtype=torch.float64, grad_fn=<NllLossBackward0>)\n",
      "----------\n"
     ]
    },
    {
     "name": "stderr",
     "output_type": "stream",
     "text": [
      " 17%|██████                              | 1701/10000 [25:53<1:53:22,  1.22it/s]"
     ]
    },
    {
     "name": "stdout",
     "output_type": "stream",
     "text": [
      "train test\n",
      "tensor(0.2351, dtype=torch.float64, grad_fn=<NllLossBackward0>)\n",
      "tensor(14.1332, dtype=torch.float64, grad_fn=<NllLossBackward0>)\n",
      "----------\n"
     ]
    },
    {
     "name": "stderr",
     "output_type": "stream",
     "text": [
      " 17%|██████▏                             | 1711/10000 [26:01<1:50:51,  1.25it/s]"
     ]
    },
    {
     "name": "stdout",
     "output_type": "stream",
     "text": [
      "train test\n",
      "tensor(0.2348, dtype=torch.float64, grad_fn=<NllLossBackward0>)\n",
      "tensor(14.1424, dtype=torch.float64, grad_fn=<NllLossBackward0>)\n",
      "----------\n"
     ]
    },
    {
     "name": "stderr",
     "output_type": "stream",
     "text": [
      " 17%|██████▏                             | 1721/10000 [26:09<1:52:22,  1.23it/s]"
     ]
    },
    {
     "name": "stdout",
     "output_type": "stream",
     "text": [
      "train test\n",
      "tensor(0.2346, dtype=torch.float64, grad_fn=<NllLossBackward0>)\n",
      "tensor(14.1473, dtype=torch.float64, grad_fn=<NllLossBackward0>)\n",
      "----------\n"
     ]
    },
    {
     "name": "stderr",
     "output_type": "stream",
     "text": [
      " 17%|██████▏                             | 1731/10000 [26:17<1:53:50,  1.21it/s]"
     ]
    },
    {
     "name": "stdout",
     "output_type": "stream",
     "text": [
      "train test\n",
      "tensor(0.2344, dtype=torch.float64, grad_fn=<NllLossBackward0>)\n",
      "tensor(14.1518, dtype=torch.float64, grad_fn=<NllLossBackward0>)\n",
      "----------\n"
     ]
    },
    {
     "name": "stderr",
     "output_type": "stream",
     "text": [
      " 17%|██████▎                             | 1741/10000 [26:26<1:51:12,  1.24it/s]"
     ]
    },
    {
     "name": "stdout",
     "output_type": "stream",
     "text": [
      "train test\n",
      "tensor(0.2340, dtype=torch.float64, grad_fn=<NllLossBackward0>)\n",
      "tensor(14.1645, dtype=torch.float64, grad_fn=<NllLossBackward0>)\n",
      "----------\n"
     ]
    },
    {
     "name": "stderr",
     "output_type": "stream",
     "text": [
      " 18%|██████▎                             | 1751/10000 [26:34<1:54:00,  1.21it/s]"
     ]
    },
    {
     "name": "stdout",
     "output_type": "stream",
     "text": [
      "train test\n",
      "tensor(0.2335, dtype=torch.float64, grad_fn=<NllLossBackward0>)\n",
      "tensor(14.1795, dtype=torch.float64, grad_fn=<NllLossBackward0>)\n",
      "----------\n"
     ]
    },
    {
     "name": "stderr",
     "output_type": "stream",
     "text": [
      " 18%|██████▎                             | 1761/10000 [26:42<1:49:58,  1.25it/s]"
     ]
    },
    {
     "name": "stdout",
     "output_type": "stream",
     "text": [
      "train test\n",
      "tensor(0.2333, dtype=torch.float64, grad_fn=<NllLossBackward0>)\n",
      "tensor(14.1854, dtype=torch.float64, grad_fn=<NllLossBackward0>)\n",
      "----------\n"
     ]
    },
    {
     "name": "stderr",
     "output_type": "stream",
     "text": [
      " 18%|██████▍                             | 1771/10000 [26:50<1:51:11,  1.23it/s]"
     ]
    },
    {
     "name": "stdout",
     "output_type": "stream",
     "text": [
      "train test\n",
      "tensor(0.2331, dtype=torch.float64, grad_fn=<NllLossBackward0>)\n",
      "tensor(14.1898, dtype=torch.float64, grad_fn=<NllLossBackward0>)\n",
      "----------\n"
     ]
    },
    {
     "name": "stderr",
     "output_type": "stream",
     "text": [
      " 18%|██████▍                             | 1781/10000 [26:58<1:52:13,  1.22it/s]"
     ]
    },
    {
     "name": "stdout",
     "output_type": "stream",
     "text": [
      "train test\n",
      "tensor(0.2328, dtype=torch.float64, grad_fn=<NllLossBackward0>)\n",
      "tensor(14.1973, dtype=torch.float64, grad_fn=<NllLossBackward0>)\n",
      "----------\n"
     ]
    },
    {
     "name": "stderr",
     "output_type": "stream",
     "text": [
      " 18%|██████▍                             | 1791/10000 [27:06<1:50:10,  1.24it/s]"
     ]
    },
    {
     "name": "stdout",
     "output_type": "stream",
     "text": [
      "train test\n",
      "tensor(0.2324, dtype=torch.float64, grad_fn=<NllLossBackward0>)\n",
      "tensor(14.2105, dtype=torch.float64, grad_fn=<NllLossBackward0>)\n",
      "----------\n"
     ]
    },
    {
     "name": "stderr",
     "output_type": "stream",
     "text": [
      " 18%|██████▍                             | 1801/10000 [27:15<1:52:24,  1.22it/s]"
     ]
    },
    {
     "name": "stdout",
     "output_type": "stream",
     "text": [
      "train test\n",
      "tensor(0.2320, dtype=torch.float64, grad_fn=<NllLossBackward0>)\n",
      "tensor(14.2195, dtype=torch.float64, grad_fn=<NllLossBackward0>)\n",
      "----------\n"
     ]
    },
    {
     "name": "stderr",
     "output_type": "stream",
     "text": [
      " 18%|██████▌                             | 1811/10000 [27:23<1:50:30,  1.24it/s]"
     ]
    },
    {
     "name": "stdout",
     "output_type": "stream",
     "text": [
      "train test\n",
      "tensor(0.2317, dtype=torch.float64, grad_fn=<NllLossBackward0>)\n",
      "tensor(14.2275, dtype=torch.float64, grad_fn=<NllLossBackward0>)\n",
      "----------\n"
     ]
    },
    {
     "name": "stderr",
     "output_type": "stream",
     "text": [
      " 18%|██████▌                             | 1821/10000 [27:31<1:49:57,  1.24it/s]"
     ]
    },
    {
     "name": "stdout",
     "output_type": "stream",
     "text": [
      "train test\n",
      "tensor(0.2314, dtype=torch.float64, grad_fn=<NllLossBackward0>)\n",
      "tensor(14.2401, dtype=torch.float64, grad_fn=<NllLossBackward0>)\n",
      "----------\n"
     ]
    },
    {
     "name": "stderr",
     "output_type": "stream",
     "text": [
      " 18%|██████▌                             | 1831/10000 [27:39<1:51:41,  1.22it/s]"
     ]
    },
    {
     "name": "stdout",
     "output_type": "stream",
     "text": [
      "train test\n",
      "tensor(0.2311, dtype=torch.float64, grad_fn=<NllLossBackward0>)\n",
      "tensor(14.2464, dtype=torch.float64, grad_fn=<NllLossBackward0>)\n",
      "----------\n"
     ]
    },
    {
     "name": "stderr",
     "output_type": "stream",
     "text": [
      " 18%|██████▋                             | 1841/10000 [27:47<1:49:32,  1.24it/s]"
     ]
    },
    {
     "name": "stdout",
     "output_type": "stream",
     "text": [
      "train test\n",
      "tensor(0.2308, dtype=torch.float64, grad_fn=<NllLossBackward0>)\n",
      "tensor(14.2550, dtype=torch.float64, grad_fn=<NllLossBackward0>)\n",
      "----------\n"
     ]
    },
    {
     "name": "stderr",
     "output_type": "stream",
     "text": [
      " 19%|██████▋                             | 1851/10000 [27:55<1:50:58,  1.22it/s]"
     ]
    },
    {
     "name": "stdout",
     "output_type": "stream",
     "text": [
      "train test\n",
      "tensor(0.2305, dtype=torch.float64, grad_fn=<NllLossBackward0>)\n",
      "tensor(14.2672, dtype=torch.float64, grad_fn=<NllLossBackward0>)\n",
      "----------\n"
     ]
    },
    {
     "name": "stderr",
     "output_type": "stream",
     "text": [
      " 19%|██████▋                             | 1861/10000 [28:04<1:51:08,  1.22it/s]"
     ]
    },
    {
     "name": "stdout",
     "output_type": "stream",
     "text": [
      "train test\n",
      "tensor(0.2305, dtype=torch.float64, grad_fn=<NllLossBackward0>)\n",
      "tensor(14.2644, dtype=torch.float64, grad_fn=<NllLossBackward0>)\n",
      "----------\n"
     ]
    },
    {
     "name": "stderr",
     "output_type": "stream",
     "text": [
      " 19%|██████▋                             | 1871/10000 [28:12<1:51:38,  1.21it/s]"
     ]
    },
    {
     "name": "stdout",
     "output_type": "stream",
     "text": [
      "train test\n",
      "tensor(0.2305, dtype=torch.float64, grad_fn=<NllLossBackward0>)\n",
      "tensor(14.2622, dtype=torch.float64, grad_fn=<NllLossBackward0>)\n",
      "----------\n"
     ]
    },
    {
     "name": "stderr",
     "output_type": "stream",
     "text": [
      " 19%|██████▊                             | 1881/10000 [28:20<1:51:46,  1.21it/s]"
     ]
    },
    {
     "name": "stdout",
     "output_type": "stream",
     "text": [
      "train test\n",
      "tensor(0.2304, dtype=torch.float64, grad_fn=<NllLossBackward0>)\n",
      "tensor(14.2666, dtype=torch.float64, grad_fn=<NllLossBackward0>)\n",
      "----------\n"
     ]
    },
    {
     "name": "stderr",
     "output_type": "stream",
     "text": [
      " 19%|██████▊                             | 1891/10000 [28:28<1:50:32,  1.22it/s]"
     ]
    },
    {
     "name": "stdout",
     "output_type": "stream",
     "text": [
      "train test\n",
      "tensor(0.2301, dtype=torch.float64, grad_fn=<NllLossBackward0>)\n",
      "tensor(14.2771, dtype=torch.float64, grad_fn=<NllLossBackward0>)\n",
      "----------\n"
     ]
    },
    {
     "name": "stderr",
     "output_type": "stream",
     "text": [
      " 19%|██████▊                             | 1901/10000 [28:36<1:50:49,  1.22it/s]"
     ]
    },
    {
     "name": "stdout",
     "output_type": "stream",
     "text": [
      "train test\n",
      "tensor(0.2298, dtype=torch.float64, grad_fn=<NllLossBackward0>)\n",
      "tensor(14.2845, dtype=torch.float64, grad_fn=<NllLossBackward0>)\n",
      "----------\n"
     ]
    },
    {
     "name": "stderr",
     "output_type": "stream",
     "text": [
      " 19%|██████▉                             | 1911/10000 [28:45<1:49:32,  1.23it/s]"
     ]
    },
    {
     "name": "stdout",
     "output_type": "stream",
     "text": [
      "train test\n",
      "tensor(0.2294, dtype=torch.float64, grad_fn=<NllLossBackward0>)\n",
      "tensor(14.2955, dtype=torch.float64, grad_fn=<NllLossBackward0>)\n",
      "----------\n"
     ]
    },
    {
     "name": "stderr",
     "output_type": "stream",
     "text": [
      " 19%|██████▉                             | 1921/10000 [28:53<1:50:10,  1.22it/s]"
     ]
    },
    {
     "name": "stdout",
     "output_type": "stream",
     "text": [
      "train test\n",
      "tensor(0.2291, dtype=torch.float64, grad_fn=<NllLossBackward0>)\n",
      "tensor(14.3064, dtype=torch.float64, grad_fn=<NllLossBackward0>)\n",
      "----------\n"
     ]
    },
    {
     "name": "stderr",
     "output_type": "stream",
     "text": [
      " 19%|██████▉                             | 1931/10000 [29:01<1:49:57,  1.22it/s]"
     ]
    },
    {
     "name": "stdout",
     "output_type": "stream",
     "text": [
      "train test\n",
      "tensor(0.2289, dtype=torch.float64, grad_fn=<NllLossBackward0>)\n",
      "tensor(14.3141, dtype=torch.float64, grad_fn=<NllLossBackward0>)\n",
      "----------\n"
     ]
    },
    {
     "name": "stderr",
     "output_type": "stream",
     "text": [
      " 19%|██████▉                             | 1941/10000 [29:09<1:51:31,  1.20it/s]"
     ]
    },
    {
     "name": "stdout",
     "output_type": "stream",
     "text": [
      "train test\n",
      "tensor(0.2286, dtype=torch.float64, grad_fn=<NllLossBackward0>)\n",
      "tensor(14.3196, dtype=torch.float64, grad_fn=<NllLossBackward0>)\n",
      "----------\n"
     ]
    },
    {
     "name": "stderr",
     "output_type": "stream",
     "text": [
      " 20%|███████                             | 1951/10000 [29:18<1:48:58,  1.23it/s]"
     ]
    },
    {
     "name": "stdout",
     "output_type": "stream",
     "text": [
      "train test\n",
      "tensor(0.2286, dtype=torch.float64, grad_fn=<NllLossBackward0>)\n",
      "tensor(14.3204, dtype=torch.float64, grad_fn=<NllLossBackward0>)\n",
      "----------\n"
     ]
    },
    {
     "name": "stderr",
     "output_type": "stream",
     "text": [
      " 20%|███████                             | 1961/10000 [29:26<1:49:56,  1.22it/s]"
     ]
    },
    {
     "name": "stdout",
     "output_type": "stream",
     "text": [
      "train test\n",
      "tensor(0.2284, dtype=torch.float64, grad_fn=<NllLossBackward0>)\n",
      "tensor(14.3263, dtype=torch.float64, grad_fn=<NllLossBackward0>)\n",
      "----------\n"
     ]
    },
    {
     "name": "stderr",
     "output_type": "stream",
     "text": [
      " 20%|███████                             | 1971/10000 [29:34<1:52:11,  1.19it/s]"
     ]
    },
    {
     "name": "stdout",
     "output_type": "stream",
     "text": [
      "train test\n",
      "tensor(0.2280, dtype=torch.float64, grad_fn=<NllLossBackward0>)\n",
      "tensor(14.3379, dtype=torch.float64, grad_fn=<NllLossBackward0>)\n",
      "----------\n"
     ]
    },
    {
     "name": "stderr",
     "output_type": "stream",
     "text": [
      " 20%|███████▏                            | 1981/10000 [29:42<1:49:31,  1.22it/s]"
     ]
    },
    {
     "name": "stdout",
     "output_type": "stream",
     "text": [
      "train test\n",
      "tensor(0.2276, dtype=torch.float64, grad_fn=<NllLossBackward0>)\n",
      "tensor(14.3519, dtype=torch.float64, grad_fn=<NllLossBackward0>)\n",
      "----------\n"
     ]
    },
    {
     "name": "stderr",
     "output_type": "stream",
     "text": [
      " 20%|███████▏                            | 1991/10000 [29:50<1:51:25,  1.20it/s]"
     ]
    },
    {
     "name": "stdout",
     "output_type": "stream",
     "text": [
      "train test\n",
      "tensor(0.2275, dtype=torch.float64, grad_fn=<NllLossBackward0>)\n",
      "tensor(14.3545, dtype=torch.float64, grad_fn=<NllLossBackward0>)\n",
      "----------\n"
     ]
    },
    {
     "name": "stderr",
     "output_type": "stream",
     "text": [
      " 20%|███████▏                            | 2001/10000 [29:59<1:48:37,  1.23it/s]"
     ]
    },
    {
     "name": "stdout",
     "output_type": "stream",
     "text": [
      "train test\n",
      "tensor(0.2273, dtype=torch.float64, grad_fn=<NllLossBackward0>)\n",
      "tensor(14.3598, dtype=torch.float64, grad_fn=<NllLossBackward0>)\n",
      "----------\n"
     ]
    },
    {
     "name": "stderr",
     "output_type": "stream",
     "text": [
      " 20%|███████▏                            | 2011/10000 [30:07<1:49:33,  1.22it/s]"
     ]
    },
    {
     "name": "stdout",
     "output_type": "stream",
     "text": [
      "train test\n",
      "tensor(0.2270, dtype=torch.float64, grad_fn=<NllLossBackward0>)\n",
      "tensor(14.3694, dtype=torch.float64, grad_fn=<NllLossBackward0>)\n",
      "----------\n"
     ]
    },
    {
     "name": "stderr",
     "output_type": "stream",
     "text": [
      " 20%|███████▎                            | 2021/10000 [30:15<1:51:44,  1.19it/s]"
     ]
    },
    {
     "name": "stdout",
     "output_type": "stream",
     "text": [
      "train test\n",
      "tensor(0.2269, dtype=torch.float64, grad_fn=<NllLossBackward0>)\n",
      "tensor(14.3724, dtype=torch.float64, grad_fn=<NllLossBackward0>)\n",
      "----------\n"
     ]
    },
    {
     "name": "stderr",
     "output_type": "stream",
     "text": [
      " 20%|███████▎                            | 2031/10000 [30:23<1:48:57,  1.22it/s]"
     ]
    },
    {
     "name": "stdout",
     "output_type": "stream",
     "text": [
      "train test\n",
      "tensor(0.2268, dtype=torch.float64, grad_fn=<NllLossBackward0>)\n",
      "tensor(14.3764, dtype=torch.float64, grad_fn=<NllLossBackward0>)\n",
      "----------\n"
     ]
    },
    {
     "name": "stderr",
     "output_type": "stream",
     "text": [
      " 20%|███████▎                            | 2041/10000 [30:31<1:50:59,  1.20it/s]"
     ]
    },
    {
     "name": "stdout",
     "output_type": "stream",
     "text": [
      "train test\n",
      "tensor(0.2266, dtype=torch.float64, grad_fn=<NllLossBackward0>)\n",
      "tensor(14.3844, dtype=torch.float64, grad_fn=<NllLossBackward0>)\n",
      "----------\n"
     ]
    },
    {
     "name": "stderr",
     "output_type": "stream",
     "text": [
      " 21%|███████▍                            | 2051/10000 [30:40<1:48:53,  1.22it/s]"
     ]
    },
    {
     "name": "stdout",
     "output_type": "stream",
     "text": [
      "train test\n",
      "tensor(0.2265, dtype=torch.float64, grad_fn=<NllLossBackward0>)\n",
      "tensor(14.3829, dtype=torch.float64, grad_fn=<NllLossBackward0>)\n",
      "----------\n"
     ]
    },
    {
     "name": "stderr",
     "output_type": "stream",
     "text": [
      " 21%|███████▍                            | 2061/10000 [30:48<1:48:34,  1.22it/s]"
     ]
    },
    {
     "name": "stdout",
     "output_type": "stream",
     "text": [
      "train test\n",
      "tensor(0.2265, dtype=torch.float64, grad_fn=<NllLossBackward0>)\n",
      "tensor(14.3811, dtype=torch.float64, grad_fn=<NllLossBackward0>)\n",
      "----------\n"
     ]
    },
    {
     "name": "stderr",
     "output_type": "stream",
     "text": [
      " 21%|███████▍                            | 2071/10000 [30:56<1:50:26,  1.20it/s]"
     ]
    },
    {
     "name": "stdout",
     "output_type": "stream",
     "text": [
      "train test\n",
      "tensor(0.2264, dtype=torch.float64, grad_fn=<NllLossBackward0>)\n",
      "tensor(14.3874, dtype=torch.float64, grad_fn=<NllLossBackward0>)\n",
      "----------\n"
     ]
    },
    {
     "name": "stderr",
     "output_type": "stream",
     "text": [
      " 21%|███████▍                            | 2081/10000 [31:04<1:47:15,  1.23it/s]"
     ]
    },
    {
     "name": "stdout",
     "output_type": "stream",
     "text": [
      "train test\n",
      "tensor(0.2261, dtype=torch.float64, grad_fn=<NllLossBackward0>)\n",
      "tensor(14.3983, dtype=torch.float64, grad_fn=<NllLossBackward0>)\n",
      "----------\n"
     ]
    },
    {
     "name": "stderr",
     "output_type": "stream",
     "text": [
      " 21%|███████▌                            | 2091/10000 [31:13<1:49:55,  1.20it/s]"
     ]
    },
    {
     "name": "stdout",
     "output_type": "stream",
     "text": [
      "train test\n",
      "tensor(0.2260, dtype=torch.float64, grad_fn=<NllLossBackward0>)\n",
      "tensor(14.3996, dtype=torch.float64, grad_fn=<NllLossBackward0>)\n",
      "----------\n"
     ]
    },
    {
     "name": "stderr",
     "output_type": "stream",
     "text": [
      " 21%|███████▌                            | 2101/10000 [31:21<1:46:03,  1.24it/s]"
     ]
    },
    {
     "name": "stdout",
     "output_type": "stream",
     "text": [
      "train test\n",
      "tensor(0.2259, dtype=torch.float64, grad_fn=<NllLossBackward0>)\n",
      "tensor(14.4035, dtype=torch.float64, grad_fn=<NllLossBackward0>)\n",
      "----------\n"
     ]
    },
    {
     "name": "stderr",
     "output_type": "stream",
     "text": [
      " 21%|███████▌                            | 2111/10000 [31:29<1:48:57,  1.21it/s]"
     ]
    },
    {
     "name": "stdout",
     "output_type": "stream",
     "text": [
      "train test\n",
      "tensor(0.2258, dtype=torch.float64, grad_fn=<NllLossBackward0>)\n",
      "tensor(14.4051, dtype=torch.float64, grad_fn=<NllLossBackward0>)\n",
      "----------\n"
     ]
    },
    {
     "name": "stderr",
     "output_type": "stream",
     "text": [
      " 21%|███████▋                            | 2121/10000 [31:37<1:45:36,  1.24it/s]"
     ]
    },
    {
     "name": "stdout",
     "output_type": "stream",
     "text": [
      "train test\n",
      "tensor(0.2258, dtype=torch.float64, grad_fn=<NllLossBackward0>)\n",
      "tensor(14.4037, dtype=torch.float64, grad_fn=<NllLossBackward0>)\n",
      "----------\n"
     ]
    },
    {
     "name": "stderr",
     "output_type": "stream",
     "text": [
      " 21%|███████▋                            | 2131/10000 [31:45<1:47:21,  1.22it/s]"
     ]
    },
    {
     "name": "stdout",
     "output_type": "stream",
     "text": [
      "train test\n",
      "tensor(0.2257, dtype=torch.float64, grad_fn=<NllLossBackward0>)\n",
      "tensor(14.4084, dtype=torch.float64, grad_fn=<NllLossBackward0>)\n",
      "----------\n"
     ]
    },
    {
     "name": "stderr",
     "output_type": "stream",
     "text": [
      " 21%|███████▋                            | 2141/10000 [31:54<1:48:02,  1.21it/s]"
     ]
    },
    {
     "name": "stdout",
     "output_type": "stream",
     "text": [
      "train test\n",
      "tensor(0.2254, dtype=torch.float64, grad_fn=<NllLossBackward0>)\n",
      "tensor(14.4204, dtype=torch.float64, grad_fn=<NllLossBackward0>)\n",
      "----------\n"
     ]
    },
    {
     "name": "stderr",
     "output_type": "stream",
     "text": [
      " 22%|███████▋                            | 2151/10000 [32:02<1:45:42,  1.24it/s]"
     ]
    },
    {
     "name": "stdout",
     "output_type": "stream",
     "text": [
      "train test\n",
      "tensor(0.2253, dtype=torch.float64, grad_fn=<NllLossBackward0>)\n",
      "tensor(14.4202, dtype=torch.float64, grad_fn=<NllLossBackward0>)\n",
      "----------\n"
     ]
    },
    {
     "name": "stderr",
     "output_type": "stream",
     "text": [
      " 22%|███████▊                            | 2161/10000 [32:10<1:47:19,  1.22it/s]"
     ]
    },
    {
     "name": "stdout",
     "output_type": "stream",
     "text": [
      "train test\n",
      "tensor(0.2254, dtype=torch.float64, grad_fn=<NllLossBackward0>)\n",
      "tensor(14.4159, dtype=torch.float64, grad_fn=<NllLossBackward0>)\n",
      "----------\n"
     ]
    },
    {
     "name": "stderr",
     "output_type": "stream",
     "text": [
      " 22%|███████▊                            | 2171/10000 [32:18<1:45:11,  1.24it/s]"
     ]
    },
    {
     "name": "stdout",
     "output_type": "stream",
     "text": [
      "train test\n",
      "tensor(0.2252, dtype=torch.float64, grad_fn=<NllLossBackward0>)\n",
      "tensor(14.4180, dtype=torch.float64, grad_fn=<NllLossBackward0>)\n",
      "----------\n"
     ]
    },
    {
     "name": "stderr",
     "output_type": "stream",
     "text": [
      " 22%|███████▊                            | 2181/10000 [32:26<1:48:49,  1.20it/s]"
     ]
    },
    {
     "name": "stdout",
     "output_type": "stream",
     "text": [
      "train test\n",
      "tensor(0.2251, dtype=torch.float64, grad_fn=<NllLossBackward0>)\n",
      "tensor(14.4221, dtype=torch.float64, grad_fn=<NllLossBackward0>)\n",
      "----------\n"
     ]
    },
    {
     "name": "stderr",
     "output_type": "stream",
     "text": [
      " 22%|███████▉                            | 2191/10000 [32:35<1:46:46,  1.22it/s]"
     ]
    },
    {
     "name": "stdout",
     "output_type": "stream",
     "text": [
      "train test\n",
      "tensor(0.2252, dtype=torch.float64, grad_fn=<NllLossBackward0>)\n",
      "tensor(14.4178, dtype=torch.float64, grad_fn=<NllLossBackward0>)\n",
      "----------\n"
     ]
    },
    {
     "name": "stderr",
     "output_type": "stream",
     "text": [
      " 22%|███████▉                            | 2201/10000 [32:43<1:47:34,  1.21it/s]"
     ]
    },
    {
     "name": "stdout",
     "output_type": "stream",
     "text": [
      "train test\n",
      "tensor(0.2253, dtype=torch.float64, grad_fn=<NllLossBackward0>)\n",
      "tensor(14.4172, dtype=torch.float64, grad_fn=<NllLossBackward0>)\n",
      "----------\n"
     ]
    },
    {
     "name": "stderr",
     "output_type": "stream",
     "text": [
      " 22%|███████▉                            | 2211/10000 [32:51<1:46:02,  1.22it/s]"
     ]
    },
    {
     "name": "stdout",
     "output_type": "stream",
     "text": [
      "train test\n",
      "tensor(0.2252, dtype=torch.float64, grad_fn=<NllLossBackward0>)\n",
      "tensor(14.4244, dtype=torch.float64, grad_fn=<NllLossBackward0>)\n",
      "----------\n"
     ]
    },
    {
     "name": "stderr",
     "output_type": "stream",
     "text": [
      " 22%|███████▉                            | 2221/10000 [32:59<1:47:29,  1.21it/s]"
     ]
    },
    {
     "name": "stdout",
     "output_type": "stream",
     "text": [
      "train test\n",
      "tensor(0.2250, dtype=torch.float64, grad_fn=<NllLossBackward0>)\n",
      "tensor(14.4295, dtype=torch.float64, grad_fn=<NllLossBackward0>)\n",
      "----------\n"
     ]
    },
    {
     "name": "stderr",
     "output_type": "stream",
     "text": [
      " 22%|████████                            | 2231/10000 [33:08<1:44:25,  1.24it/s]"
     ]
    },
    {
     "name": "stdout",
     "output_type": "stream",
     "text": [
      "train test\n",
      "tensor(0.2249, dtype=torch.float64, grad_fn=<NllLossBackward0>)\n",
      "tensor(14.4324, dtype=torch.float64, grad_fn=<NllLossBackward0>)\n",
      "----------\n"
     ]
    },
    {
     "name": "stderr",
     "output_type": "stream",
     "text": [
      " 22%|████████                            | 2241/10000 [33:16<1:47:06,  1.21it/s]"
     ]
    },
    {
     "name": "stdout",
     "output_type": "stream",
     "text": [
      "train test\n",
      "tensor(0.2247, dtype=torch.float64, grad_fn=<NllLossBackward0>)\n",
      "tensor(14.4417, dtype=torch.float64, grad_fn=<NllLossBackward0>)\n",
      "----------\n"
     ]
    },
    {
     "name": "stderr",
     "output_type": "stream",
     "text": [
      " 23%|████████                            | 2251/10000 [33:24<1:44:30,  1.24it/s]"
     ]
    },
    {
     "name": "stdout",
     "output_type": "stream",
     "text": [
      "train test\n",
      "tensor(0.2245, dtype=torch.float64, grad_fn=<NllLossBackward0>)\n",
      "tensor(14.4452, dtype=torch.float64, grad_fn=<NllLossBackward0>)\n",
      "----------\n"
     ]
    },
    {
     "name": "stderr",
     "output_type": "stream",
     "text": [
      " 23%|████████▏                           | 2261/10000 [33:32<1:47:07,  1.20it/s]"
     ]
    },
    {
     "name": "stdout",
     "output_type": "stream",
     "text": [
      "train test\n",
      "tensor(0.2245, dtype=torch.float64, grad_fn=<NllLossBackward0>)\n",
      "tensor(14.4456, dtype=torch.float64, grad_fn=<NllLossBackward0>)\n",
      "----------\n"
     ]
    },
    {
     "name": "stderr",
     "output_type": "stream",
     "text": [
      " 23%|████████▏                           | 2271/10000 [33:41<1:44:52,  1.23it/s]"
     ]
    },
    {
     "name": "stdout",
     "output_type": "stream",
     "text": [
      "train test\n",
      "tensor(0.2243, dtype=torch.float64, grad_fn=<NllLossBackward0>)\n",
      "tensor(14.4512, dtype=torch.float64, grad_fn=<NllLossBackward0>)\n",
      "----------\n"
     ]
    },
    {
     "name": "stderr",
     "output_type": "stream",
     "text": [
      " 23%|████████▏                           | 2281/10000 [33:49<1:47:05,  1.20it/s]"
     ]
    },
    {
     "name": "stdout",
     "output_type": "stream",
     "text": [
      "train test\n",
      "tensor(0.2241, dtype=torch.float64, grad_fn=<NllLossBackward0>)\n",
      "tensor(14.4557, dtype=torch.float64, grad_fn=<NllLossBackward0>)\n",
      "----------\n"
     ]
    },
    {
     "name": "stderr",
     "output_type": "stream",
     "text": [
      " 23%|████████▏                           | 2291/10000 [33:57<1:45:45,  1.21it/s]"
     ]
    },
    {
     "name": "stdout",
     "output_type": "stream",
     "text": [
      "train test\n",
      "tensor(0.2239, dtype=torch.float64, grad_fn=<NllLossBackward0>)\n",
      "tensor(14.4644, dtype=torch.float64, grad_fn=<NllLossBackward0>)\n",
      "----------\n"
     ]
    },
    {
     "name": "stderr",
     "output_type": "stream",
     "text": [
      " 23%|████████▎                           | 2301/10000 [34:05<1:47:41,  1.19it/s]"
     ]
    },
    {
     "name": "stdout",
     "output_type": "stream",
     "text": [
      "train test\n",
      "tensor(0.2236, dtype=torch.float64, grad_fn=<NllLossBackward0>)\n",
      "tensor(14.4736, dtype=torch.float64, grad_fn=<NllLossBackward0>)\n",
      "----------\n"
     ]
    },
    {
     "name": "stderr",
     "output_type": "stream",
     "text": [
      " 23%|████████▎                           | 2311/10000 [34:14<1:44:25,  1.23it/s]"
     ]
    },
    {
     "name": "stdout",
     "output_type": "stream",
     "text": [
      "train test\n",
      "tensor(0.2235, dtype=torch.float64, grad_fn=<NllLossBackward0>)\n",
      "tensor(14.4773, dtype=torch.float64, grad_fn=<NllLossBackward0>)\n",
      "----------\n"
     ]
    },
    {
     "name": "stderr",
     "output_type": "stream",
     "text": [
      " 23%|████████▎                           | 2321/10000 [34:22<1:44:41,  1.22it/s]"
     ]
    },
    {
     "name": "stdout",
     "output_type": "stream",
     "text": [
      "train test\n",
      "tensor(0.2235, dtype=torch.float64, grad_fn=<NllLossBackward0>)\n",
      "tensor(14.4774, dtype=torch.float64, grad_fn=<NllLossBackward0>)\n",
      "----------\n"
     ]
    },
    {
     "name": "stderr",
     "output_type": "stream",
     "text": [
      " 23%|████████▍                           | 2331/10000 [34:30<1:45:32,  1.21it/s]"
     ]
    },
    {
     "name": "stdout",
     "output_type": "stream",
     "text": [
      "train test\n",
      "tensor(0.2233, dtype=torch.float64, grad_fn=<NllLossBackward0>)\n",
      "tensor(14.4829, dtype=torch.float64, grad_fn=<NllLossBackward0>)\n",
      "----------\n"
     ]
    },
    {
     "name": "stderr",
     "output_type": "stream",
     "text": [
      " 23%|████████▍                           | 2341/10000 [34:38<1:43:55,  1.23it/s]"
     ]
    },
    {
     "name": "stdout",
     "output_type": "stream",
     "text": [
      "train test\n",
      "tensor(0.2230, dtype=torch.float64, grad_fn=<NllLossBackward0>)\n",
      "tensor(14.4951, dtype=torch.float64, grad_fn=<NllLossBackward0>)\n",
      "----------\n"
     ]
    },
    {
     "name": "stderr",
     "output_type": "stream",
     "text": [
      " 24%|████████▍                           | 2351/10000 [34:46<1:46:51,  1.19it/s]"
     ]
    },
    {
     "name": "stdout",
     "output_type": "stream",
     "text": [
      "train test\n",
      "tensor(0.2226, dtype=torch.float64, grad_fn=<NllLossBackward0>)\n",
      "tensor(14.5061, dtype=torch.float64, grad_fn=<NllLossBackward0>)\n",
      "----------\n"
     ]
    },
    {
     "name": "stderr",
     "output_type": "stream",
     "text": [
      " 24%|████████▍                           | 2361/10000 [34:55<1:44:42,  1.22it/s]"
     ]
    },
    {
     "name": "stdout",
     "output_type": "stream",
     "text": [
      "train test\n",
      "tensor(0.2226, dtype=torch.float64, grad_fn=<NllLossBackward0>)\n",
      "tensor(14.5058, dtype=torch.float64, grad_fn=<NllLossBackward0>)\n",
      "----------\n"
     ]
    },
    {
     "name": "stderr",
     "output_type": "stream",
     "text": [
      " 24%|████████▌                           | 2371/10000 [35:03<1:45:39,  1.20it/s]"
     ]
    },
    {
     "name": "stdout",
     "output_type": "stream",
     "text": [
      "train test\n",
      "tensor(0.2226, dtype=torch.float64, grad_fn=<NllLossBackward0>)\n",
      "tensor(14.5046, dtype=torch.float64, grad_fn=<NllLossBackward0>)\n",
      "----------\n"
     ]
    },
    {
     "name": "stderr",
     "output_type": "stream",
     "text": [
      " 24%|████████▌                           | 2381/10000 [35:11<1:43:20,  1.23it/s]"
     ]
    },
    {
     "name": "stdout",
     "output_type": "stream",
     "text": [
      "train test\n",
      "tensor(0.2226, dtype=torch.float64, grad_fn=<NllLossBackward0>)\n",
      "tensor(14.5067, dtype=torch.float64, grad_fn=<NllLossBackward0>)\n",
      "----------\n"
     ]
    },
    {
     "name": "stderr",
     "output_type": "stream",
     "text": [
      " 24%|████████▌                           | 2391/10000 [35:19<1:46:15,  1.19it/s]"
     ]
    },
    {
     "name": "stdout",
     "output_type": "stream",
     "text": [
      "train test\n",
      "tensor(0.2224, dtype=torch.float64, grad_fn=<NllLossBackward0>)\n",
      "tensor(14.5103, dtype=torch.float64, grad_fn=<NllLossBackward0>)\n",
      "----------\n"
     ]
    },
    {
     "name": "stderr",
     "output_type": "stream",
     "text": [
      " 24%|████████▋                           | 2401/10000 [35:28<1:44:14,  1.21it/s]"
     ]
    },
    {
     "name": "stdout",
     "output_type": "stream",
     "text": [
      "train test\n",
      "tensor(0.2224, dtype=torch.float64, grad_fn=<NllLossBackward0>)\n",
      "tensor(14.5114, dtype=torch.float64, grad_fn=<NllLossBackward0>)\n",
      "----------\n"
     ]
    },
    {
     "name": "stderr",
     "output_type": "stream",
     "text": [
      " 24%|████████▋                           | 2411/10000 [35:36<1:47:08,  1.18it/s]"
     ]
    },
    {
     "name": "stdout",
     "output_type": "stream",
     "text": [
      "train test\n",
      "tensor(0.2222, dtype=torch.float64, grad_fn=<NllLossBackward0>)\n",
      "tensor(14.5169, dtype=torch.float64, grad_fn=<NllLossBackward0>)\n",
      "----------\n"
     ]
    },
    {
     "name": "stderr",
     "output_type": "stream",
     "text": [
      " 24%|████████▋                           | 2421/10000 [35:44<1:44:34,  1.21it/s]"
     ]
    },
    {
     "name": "stdout",
     "output_type": "stream",
     "text": [
      "train test\n",
      "tensor(0.2220, dtype=torch.float64, grad_fn=<NllLossBackward0>)\n",
      "tensor(14.5246, dtype=torch.float64, grad_fn=<NllLossBackward0>)\n",
      "----------\n"
     ]
    },
    {
     "name": "stderr",
     "output_type": "stream",
     "text": [
      " 24%|████████▊                           | 2431/10000 [35:53<1:46:35,  1.18it/s]"
     ]
    },
    {
     "name": "stdout",
     "output_type": "stream",
     "text": [
      "train test\n",
      "tensor(0.2219, dtype=torch.float64, grad_fn=<NllLossBackward0>)\n",
      "tensor(14.5245, dtype=torch.float64, grad_fn=<NllLossBackward0>)\n",
      "----------\n"
     ]
    },
    {
     "name": "stderr",
     "output_type": "stream",
     "text": [
      " 24%|████████▊                           | 2441/10000 [36:01<1:43:57,  1.21it/s]"
     ]
    },
    {
     "name": "stdout",
     "output_type": "stream",
     "text": [
      "train test\n",
      "tensor(0.2219, dtype=torch.float64, grad_fn=<NllLossBackward0>)\n",
      "tensor(14.5230, dtype=torch.float64, grad_fn=<NllLossBackward0>)\n",
      "----------\n"
     ]
    },
    {
     "name": "stderr",
     "output_type": "stream",
     "text": [
      " 25%|████████▊                           | 2451/10000 [36:09<1:45:35,  1.19it/s]"
     ]
    },
    {
     "name": "stdout",
     "output_type": "stream",
     "text": [
      "train test\n",
      "tensor(0.2219, dtype=torch.float64, grad_fn=<NllLossBackward0>)\n",
      "tensor(14.5271, dtype=torch.float64, grad_fn=<NllLossBackward0>)\n",
      "----------\n"
     ]
    },
    {
     "name": "stderr",
     "output_type": "stream",
     "text": [
      " 25%|████████▊                           | 2461/10000 [36:17<1:43:00,  1.22it/s]"
     ]
    },
    {
     "name": "stdout",
     "output_type": "stream",
     "text": [
      "train test\n",
      "tensor(0.2219, dtype=torch.float64, grad_fn=<NllLossBackward0>)\n",
      "tensor(14.5266, dtype=torch.float64, grad_fn=<NllLossBackward0>)\n",
      "----------\n"
     ]
    },
    {
     "name": "stderr",
     "output_type": "stream",
     "text": [
      " 25%|████████▉                           | 2471/10000 [36:25<1:43:37,  1.21it/s]"
     ]
    },
    {
     "name": "stdout",
     "output_type": "stream",
     "text": [
      "train test\n",
      "tensor(0.2218, dtype=torch.float64, grad_fn=<NllLossBackward0>)\n",
      "tensor(14.5288, dtype=torch.float64, grad_fn=<NllLossBackward0>)\n",
      "----------\n"
     ]
    },
    {
     "name": "stderr",
     "output_type": "stream",
     "text": [
      " 25%|████████▉                           | 2481/10000 [36:34<1:43:13,  1.21it/s]"
     ]
    },
    {
     "name": "stdout",
     "output_type": "stream",
     "text": [
      "train test\n",
      "tensor(0.2216, dtype=torch.float64, grad_fn=<NllLossBackward0>)\n",
      "tensor(14.5345, dtype=torch.float64, grad_fn=<NllLossBackward0>)\n",
      "----------\n"
     ]
    },
    {
     "name": "stderr",
     "output_type": "stream",
     "text": [
      " 25%|████████▉                           | 2491/10000 [36:42<1:43:07,  1.21it/s]"
     ]
    },
    {
     "name": "stdout",
     "output_type": "stream",
     "text": [
      "train test\n",
      "tensor(0.2215, dtype=torch.float64, grad_fn=<NllLossBackward0>)\n",
      "tensor(14.5365, dtype=torch.float64, grad_fn=<NllLossBackward0>)\n",
      "----------\n"
     ]
    },
    {
     "name": "stderr",
     "output_type": "stream",
     "text": [
      " 25%|█████████                           | 2501/10000 [36:50<1:43:13,  1.21it/s]"
     ]
    },
    {
     "name": "stdout",
     "output_type": "stream",
     "text": [
      "train test\n",
      "tensor(0.2213, dtype=torch.float64, grad_fn=<NllLossBackward0>)\n",
      "tensor(14.5433, dtype=torch.float64, grad_fn=<NllLossBackward0>)\n",
      "----------\n"
     ]
    },
    {
     "name": "stderr",
     "output_type": "stream",
     "text": [
      " 25%|█████████                           | 2511/10000 [36:58<1:43:31,  1.21it/s]"
     ]
    },
    {
     "name": "stdout",
     "output_type": "stream",
     "text": [
      "train test\n",
      "tensor(0.2213, dtype=torch.float64, grad_fn=<NllLossBackward0>)\n",
      "tensor(14.5402, dtype=torch.float64, grad_fn=<NllLossBackward0>)\n",
      "----------\n"
     ]
    },
    {
     "name": "stderr",
     "output_type": "stream",
     "text": [
      " 25%|█████████                           | 2521/10000 [37:06<1:41:21,  1.23it/s]"
     ]
    },
    {
     "name": "stdout",
     "output_type": "stream",
     "text": [
      "train test\n",
      "tensor(0.2214, dtype=torch.float64, grad_fn=<NllLossBackward0>)\n",
      "tensor(14.5362, dtype=torch.float64, grad_fn=<NllLossBackward0>)\n",
      "----------\n"
     ]
    },
    {
     "name": "stderr",
     "output_type": "stream",
     "text": [
      " 25%|█████████                           | 2531/10000 [37:15<1:41:51,  1.22it/s]"
     ]
    },
    {
     "name": "stdout",
     "output_type": "stream",
     "text": [
      "train test\n",
      "tensor(0.2214, dtype=torch.float64, grad_fn=<NllLossBackward0>)\n",
      "tensor(14.5364, dtype=torch.float64, grad_fn=<NllLossBackward0>)\n",
      "----------\n"
     ]
    },
    {
     "name": "stderr",
     "output_type": "stream",
     "text": [
      " 25%|█████████▏                          | 2541/10000 [37:23<1:43:20,  1.20it/s]"
     ]
    },
    {
     "name": "stdout",
     "output_type": "stream",
     "text": [
      "train test\n",
      "tensor(0.2214, dtype=torch.float64, grad_fn=<NllLossBackward0>)\n",
      "tensor(14.5342, dtype=torch.float64, grad_fn=<NllLossBackward0>)\n",
      "----------\n"
     ]
    },
    {
     "name": "stderr",
     "output_type": "stream",
     "text": [
      " 26%|█████████▏                          | 2551/10000 [37:31<1:39:32,  1.25it/s]"
     ]
    },
    {
     "name": "stdout",
     "output_type": "stream",
     "text": [
      "train test\n",
      "tensor(0.2214, dtype=torch.float64, grad_fn=<NllLossBackward0>)\n",
      "tensor(14.5342, dtype=torch.float64, grad_fn=<NllLossBackward0>)\n",
      "----------\n"
     ]
    },
    {
     "name": "stderr",
     "output_type": "stream",
     "text": [
      " 26%|█████████▏                          | 2561/10000 [37:39<1:43:33,  1.20it/s]"
     ]
    },
    {
     "name": "stdout",
     "output_type": "stream",
     "text": [
      "train test\n",
      "tensor(0.2212, dtype=torch.float64, grad_fn=<NllLossBackward0>)\n",
      "tensor(14.5394, dtype=torch.float64, grad_fn=<NllLossBackward0>)\n",
      "----------\n"
     ]
    },
    {
     "name": "stderr",
     "output_type": "stream",
     "text": [
      " 26%|█████████▎                          | 2571/10000 [37:48<1:41:43,  1.22it/s]"
     ]
    },
    {
     "name": "stdout",
     "output_type": "stream",
     "text": [
      "train test\n",
      "tensor(0.2209, dtype=torch.float64, grad_fn=<NllLossBackward0>)\n",
      "tensor(14.5494, dtype=torch.float64, grad_fn=<NllLossBackward0>)\n",
      "----------\n"
     ]
    },
    {
     "name": "stderr",
     "output_type": "stream",
     "text": [
      " 26%|█████████▎                          | 2581/10000 [37:56<1:41:11,  1.22it/s]"
     ]
    },
    {
     "name": "stdout",
     "output_type": "stream",
     "text": [
      "train test\n",
      "tensor(0.2207, dtype=torch.float64, grad_fn=<NllLossBackward0>)\n",
      "tensor(14.5563, dtype=torch.float64, grad_fn=<NllLossBackward0>)\n",
      "----------\n"
     ]
    },
    {
     "name": "stderr",
     "output_type": "stream",
     "text": [
      " 26%|█████████▎                          | 2591/10000 [38:04<1:40:35,  1.23it/s]"
     ]
    },
    {
     "name": "stdout",
     "output_type": "stream",
     "text": [
      "train test\n",
      "tensor(0.2207, dtype=torch.float64, grad_fn=<NllLossBackward0>)\n",
      "tensor(14.5542, dtype=torch.float64, grad_fn=<NllLossBackward0>)\n",
      "----------\n"
     ]
    },
    {
     "name": "stderr",
     "output_type": "stream",
     "text": [
      " 26%|█████████▎                          | 2601/10000 [38:12<1:42:10,  1.21it/s]"
     ]
    },
    {
     "name": "stdout",
     "output_type": "stream",
     "text": [
      "train test\n",
      "tensor(0.2207, dtype=torch.float64, grad_fn=<NllLossBackward0>)\n",
      "tensor(14.5553, dtype=torch.float64, grad_fn=<NllLossBackward0>)\n",
      "----------\n"
     ]
    },
    {
     "name": "stderr",
     "output_type": "stream",
     "text": [
      " 26%|█████████▍                          | 2611/10000 [38:21<1:39:55,  1.23it/s]"
     ]
    },
    {
     "name": "stdout",
     "output_type": "stream",
     "text": [
      "train test\n",
      "tensor(0.2205, dtype=torch.float64, grad_fn=<NllLossBackward0>)\n",
      "tensor(14.5618, dtype=torch.float64, grad_fn=<NllLossBackward0>)\n",
      "----------\n"
     ]
    },
    {
     "name": "stderr",
     "output_type": "stream",
     "text": [
      " 26%|█████████▍                          | 2621/10000 [38:29<1:41:53,  1.21it/s]"
     ]
    },
    {
     "name": "stdout",
     "output_type": "stream",
     "text": [
      "train test\n",
      "tensor(0.2204, dtype=torch.float64, grad_fn=<NllLossBackward0>)\n",
      "tensor(14.5657, dtype=torch.float64, grad_fn=<NllLossBackward0>)\n",
      "----------\n"
     ]
    },
    {
     "name": "stderr",
     "output_type": "stream",
     "text": [
      " 26%|█████████▍                          | 2631/10000 [38:37<1:38:17,  1.25it/s]"
     ]
    },
    {
     "name": "stdout",
     "output_type": "stream",
     "text": [
      "train test\n",
      "tensor(0.2203, dtype=torch.float64, grad_fn=<NllLossBackward0>)\n",
      "tensor(14.5663, dtype=torch.float64, grad_fn=<NllLossBackward0>)\n",
      "----------\n"
     ]
    },
    {
     "name": "stderr",
     "output_type": "stream",
     "text": [
      " 26%|█████████▌                          | 2641/10000 [38:45<1:41:51,  1.20it/s]"
     ]
    },
    {
     "name": "stdout",
     "output_type": "stream",
     "text": [
      "train test\n",
      "tensor(0.2201, dtype=torch.float64, grad_fn=<NllLossBackward0>)\n",
      "tensor(14.5740, dtype=torch.float64, grad_fn=<NllLossBackward0>)\n",
      "----------\n"
     ]
    },
    {
     "name": "stderr",
     "output_type": "stream",
     "text": [
      " 27%|█████████▌                          | 2651/10000 [38:54<1:40:29,  1.22it/s]"
     ]
    },
    {
     "name": "stdout",
     "output_type": "stream",
     "text": [
      "train test\n",
      "tensor(0.2200, dtype=torch.float64, grad_fn=<NllLossBackward0>)\n",
      "tensor(14.5777, dtype=torch.float64, grad_fn=<NllLossBackward0>)\n",
      "----------\n"
     ]
    },
    {
     "name": "stderr",
     "output_type": "stream",
     "text": [
      " 27%|█████████▌                          | 2661/10000 [39:02<1:40:33,  1.22it/s]"
     ]
    },
    {
     "name": "stdout",
     "output_type": "stream",
     "text": [
      "train test\n",
      "tensor(0.2202, dtype=torch.float64, grad_fn=<NllLossBackward0>)\n",
      "tensor(14.5682, dtype=torch.float64, grad_fn=<NllLossBackward0>)\n",
      "----------\n"
     ]
    },
    {
     "name": "stderr",
     "output_type": "stream",
     "text": [
      " 27%|█████████▌                          | 2671/10000 [39:10<1:41:09,  1.21it/s]"
     ]
    },
    {
     "name": "stdout",
     "output_type": "stream",
     "text": [
      "train test\n",
      "tensor(0.2204, dtype=torch.float64, grad_fn=<NllLossBackward0>)\n",
      "tensor(14.5591, dtype=torch.float64, grad_fn=<NllLossBackward0>)\n",
      "----------\n"
     ]
    },
    {
     "name": "stderr",
     "output_type": "stream",
     "text": [
      " 27%|█████████▋                          | 2681/10000 [39:18<1:38:54,  1.23it/s]"
     ]
    },
    {
     "name": "stdout",
     "output_type": "stream",
     "text": [
      "train test\n",
      "tensor(0.2205, dtype=torch.float64, grad_fn=<NllLossBackward0>)\n",
      "tensor(14.5578, dtype=torch.float64, grad_fn=<NllLossBackward0>)\n",
      "----------\n"
     ]
    },
    {
     "name": "stderr",
     "output_type": "stream",
     "text": [
      " 27%|█████████▋                          | 2691/10000 [39:27<1:41:06,  1.20it/s]"
     ]
    },
    {
     "name": "stdout",
     "output_type": "stream",
     "text": [
      "train test\n",
      "tensor(0.2203, dtype=torch.float64, grad_fn=<NllLossBackward0>)\n",
      "tensor(14.5615, dtype=torch.float64, grad_fn=<NllLossBackward0>)\n",
      "----------\n"
     ]
    },
    {
     "name": "stderr",
     "output_type": "stream",
     "text": [
      " 27%|█████████▋                          | 2701/10000 [39:35<1:39:10,  1.23it/s]"
     ]
    },
    {
     "name": "stdout",
     "output_type": "stream",
     "text": [
      "train test\n",
      "tensor(0.2205, dtype=torch.float64, grad_fn=<NllLossBackward0>)\n",
      "tensor(14.5556, dtype=torch.float64, grad_fn=<NllLossBackward0>)\n",
      "----------\n"
     ]
    },
    {
     "name": "stderr",
     "output_type": "stream",
     "text": [
      " 27%|█████████▊                          | 2711/10000 [39:43<1:41:03,  1.20it/s]"
     ]
    },
    {
     "name": "stdout",
     "output_type": "stream",
     "text": [
      "train test\n",
      "tensor(0.2205, dtype=torch.float64, grad_fn=<NllLossBackward0>)\n",
      "tensor(14.5540, dtype=torch.float64, grad_fn=<NllLossBackward0>)\n",
      "----------\n"
     ]
    },
    {
     "name": "stderr",
     "output_type": "stream",
     "text": [
      " 27%|█████████▊                          | 2721/10000 [39:51<1:39:18,  1.22it/s]"
     ]
    },
    {
     "name": "stdout",
     "output_type": "stream",
     "text": [
      "train test\n",
      "tensor(0.2204, dtype=torch.float64, grad_fn=<NllLossBackward0>)\n",
      "tensor(14.5603, dtype=torch.float64, grad_fn=<NllLossBackward0>)\n",
      "----------\n"
     ]
    },
    {
     "name": "stderr",
     "output_type": "stream",
     "text": [
      " 27%|█████████▊                          | 2731/10000 [40:00<1:40:48,  1.20it/s]"
     ]
    },
    {
     "name": "stdout",
     "output_type": "stream",
     "text": [
      "train test\n",
      "tensor(0.2202, dtype=torch.float64, grad_fn=<NllLossBackward0>)\n",
      "tensor(14.5691, dtype=torch.float64, grad_fn=<NllLossBackward0>)\n",
      "----------\n"
     ]
    },
    {
     "name": "stderr",
     "output_type": "stream",
     "text": [
      " 27%|█████████▊                          | 2741/10000 [40:08<1:38:01,  1.23it/s]"
     ]
    },
    {
     "name": "stdout",
     "output_type": "stream",
     "text": [
      "train test\n",
      "tensor(0.2201, dtype=torch.float64, grad_fn=<NllLossBackward0>)\n",
      "tensor(14.5703, dtype=torch.float64, grad_fn=<NllLossBackward0>)\n",
      "----------\n"
     ]
    },
    {
     "name": "stderr",
     "output_type": "stream",
     "text": [
      " 28%|█████████▉                          | 2751/10000 [40:16<1:41:04,  1.20it/s]"
     ]
    },
    {
     "name": "stdout",
     "output_type": "stream",
     "text": [
      "train test\n",
      "tensor(0.2200, dtype=torch.float64, grad_fn=<NllLossBackward0>)\n",
      "tensor(14.5730, dtype=torch.float64, grad_fn=<NllLossBackward0>)\n",
      "----------\n"
     ]
    },
    {
     "name": "stderr",
     "output_type": "stream",
     "text": [
      " 28%|█████████▉                          | 2761/10000 [40:24<1:38:29,  1.23it/s]"
     ]
    },
    {
     "name": "stdout",
     "output_type": "stream",
     "text": [
      "train test\n",
      "tensor(0.2199, dtype=torch.float64, grad_fn=<NllLossBackward0>)\n",
      "tensor(14.5749, dtype=torch.float64, grad_fn=<NllLossBackward0>)\n",
      "----------\n"
     ]
    },
    {
     "name": "stderr",
     "output_type": "stream",
     "text": [
      " 28%|█████████▉                          | 2771/10000 [40:32<1:40:00,  1.20it/s]"
     ]
    },
    {
     "name": "stdout",
     "output_type": "stream",
     "text": [
      "train test\n",
      "tensor(0.2198, dtype=torch.float64, grad_fn=<NllLossBackward0>)\n",
      "tensor(14.5775, dtype=torch.float64, grad_fn=<NllLossBackward0>)\n",
      "----------\n"
     ]
    },
    {
     "name": "stderr",
     "output_type": "stream",
     "text": [
      " 28%|██████████                          | 2781/10000 [40:41<1:39:15,  1.21it/s]"
     ]
    },
    {
     "name": "stdout",
     "output_type": "stream",
     "text": [
      "train test\n",
      "tensor(0.2195, dtype=torch.float64, grad_fn=<NllLossBackward0>)\n",
      "tensor(14.5855, dtype=torch.float64, grad_fn=<NllLossBackward0>)\n",
      "----------\n"
     ]
    },
    {
     "name": "stderr",
     "output_type": "stream",
     "text": [
      " 28%|██████████                          | 2791/10000 [40:49<1:38:06,  1.22it/s]"
     ]
    },
    {
     "name": "stdout",
     "output_type": "stream",
     "text": [
      "train test\n",
      "tensor(0.2195, dtype=torch.float64, grad_fn=<NllLossBackward0>)\n",
      "tensor(14.5868, dtype=torch.float64, grad_fn=<NllLossBackward0>)\n",
      "----------\n"
     ]
    },
    {
     "name": "stderr",
     "output_type": "stream",
     "text": [
      " 28%|██████████                          | 2801/10000 [40:57<1:39:49,  1.20it/s]"
     ]
    },
    {
     "name": "stdout",
     "output_type": "stream",
     "text": [
      "train test\n",
      "tensor(0.2195, dtype=torch.float64, grad_fn=<NllLossBackward0>)\n",
      "tensor(14.5835, dtype=torch.float64, grad_fn=<NllLossBackward0>)\n",
      "----------\n"
     ]
    },
    {
     "name": "stderr",
     "output_type": "stream",
     "text": [
      " 28%|██████████                          | 2811/10000 [41:05<1:38:11,  1.22it/s]"
     ]
    },
    {
     "name": "stdout",
     "output_type": "stream",
     "text": [
      "train test\n",
      "tensor(0.2195, dtype=torch.float64, grad_fn=<NllLossBackward0>)\n",
      "tensor(14.5853, dtype=torch.float64, grad_fn=<NllLossBackward0>)\n",
      "----------\n"
     ]
    },
    {
     "name": "stderr",
     "output_type": "stream",
     "text": [
      " 28%|██████████▏                         | 2821/10000 [41:14<1:40:47,  1.19it/s]"
     ]
    },
    {
     "name": "stdout",
     "output_type": "stream",
     "text": [
      "train test\n",
      "tensor(0.2194, dtype=torch.float64, grad_fn=<NllLossBackward0>)\n",
      "tensor(14.5872, dtype=torch.float64, grad_fn=<NllLossBackward0>)\n",
      "----------\n"
     ]
    },
    {
     "name": "stderr",
     "output_type": "stream",
     "text": [
      " 28%|██████████▏                         | 2831/10000 [41:22<1:36:19,  1.24it/s]"
     ]
    },
    {
     "name": "stdout",
     "output_type": "stream",
     "text": [
      "train test\n",
      "tensor(0.2192, dtype=torch.float64, grad_fn=<NllLossBackward0>)\n",
      "tensor(14.5942, dtype=torch.float64, grad_fn=<NllLossBackward0>)\n",
      "----------\n"
     ]
    },
    {
     "name": "stderr",
     "output_type": "stream",
     "text": [
      " 28%|██████████▏                         | 2841/10000 [41:30<1:41:00,  1.18it/s]"
     ]
    },
    {
     "name": "stdout",
     "output_type": "stream",
     "text": [
      "train test\n",
      "tensor(0.2191, dtype=torch.float64, grad_fn=<NllLossBackward0>)\n",
      "tensor(14.5948, dtype=torch.float64, grad_fn=<NllLossBackward0>)\n",
      "----------\n"
     ]
    },
    {
     "name": "stderr",
     "output_type": "stream",
     "text": [
      " 29%|██████████▎                         | 2851/10000 [41:38<1:36:43,  1.23it/s]"
     ]
    },
    {
     "name": "stdout",
     "output_type": "stream",
     "text": [
      "train test\n",
      "tensor(0.2191, dtype=torch.float64, grad_fn=<NllLossBackward0>)\n",
      "tensor(14.5939, dtype=torch.float64, grad_fn=<NllLossBackward0>)\n",
      "----------\n"
     ]
    },
    {
     "name": "stderr",
     "output_type": "stream",
     "text": [
      " 29%|██████████▎                         | 2861/10000 [41:47<1:41:15,  1.18it/s]"
     ]
    },
    {
     "name": "stdout",
     "output_type": "stream",
     "text": [
      "train test\n",
      "tensor(0.2189, dtype=torch.float64, grad_fn=<NllLossBackward0>)\n",
      "tensor(14.5996, dtype=torch.float64, grad_fn=<NllLossBackward0>)\n",
      "----------\n"
     ]
    },
    {
     "name": "stderr",
     "output_type": "stream",
     "text": [
      " 29%|██████████▎                         | 2871/10000 [41:55<1:37:13,  1.22it/s]"
     ]
    },
    {
     "name": "stdout",
     "output_type": "stream",
     "text": [
      "train test\n",
      "tensor(0.2190, dtype=torch.float64, grad_fn=<NllLossBackward0>)\n",
      "tensor(14.5975, dtype=torch.float64, grad_fn=<NllLossBackward0>)\n",
      "----------\n"
     ]
    },
    {
     "name": "stderr",
     "output_type": "stream",
     "text": [
      " 29%|██████████▎                         | 2881/10000 [42:03<1:38:15,  1.21it/s]"
     ]
    },
    {
     "name": "stdout",
     "output_type": "stream",
     "text": [
      "train test\n",
      "tensor(0.2191, dtype=torch.float64, grad_fn=<NllLossBackward0>)\n",
      "tensor(14.5935, dtype=torch.float64, grad_fn=<NllLossBackward0>)\n",
      "----------\n"
     ]
    },
    {
     "name": "stderr",
     "output_type": "stream",
     "text": [
      " 29%|██████████▍                         | 2891/10000 [42:11<1:38:38,  1.20it/s]"
     ]
    },
    {
     "name": "stdout",
     "output_type": "stream",
     "text": [
      "train test\n",
      "tensor(0.2191, dtype=torch.float64, grad_fn=<NllLossBackward0>)\n",
      "tensor(14.5943, dtype=torch.float64, grad_fn=<NllLossBackward0>)\n",
      "----------\n"
     ]
    },
    {
     "name": "stderr",
     "output_type": "stream",
     "text": [
      " 29%|██████████▍                         | 2901/10000 [42:20<1:38:19,  1.20it/s]"
     ]
    },
    {
     "name": "stdout",
     "output_type": "stream",
     "text": [
      "train test\n",
      "tensor(0.2191, dtype=torch.float64, grad_fn=<NllLossBackward0>)\n",
      "tensor(14.5952, dtype=torch.float64, grad_fn=<NllLossBackward0>)\n",
      "----------\n"
     ]
    },
    {
     "name": "stderr",
     "output_type": "stream",
     "text": [
      " 29%|██████████▍                         | 2911/10000 [42:28<1:37:39,  1.21it/s]"
     ]
    },
    {
     "name": "stdout",
     "output_type": "stream",
     "text": [
      "train test\n",
      "tensor(0.2191, dtype=torch.float64, grad_fn=<NllLossBackward0>)\n",
      "tensor(14.5964, dtype=torch.float64, grad_fn=<NllLossBackward0>)\n",
      "----------\n"
     ]
    },
    {
     "name": "stderr",
     "output_type": "stream",
     "text": [
      " 29%|██████████▌                         | 2921/10000 [42:36<1:37:56,  1.20it/s]"
     ]
    },
    {
     "name": "stdout",
     "output_type": "stream",
     "text": [
      "train test\n",
      "tensor(0.2190, dtype=torch.float64, grad_fn=<NllLossBackward0>)\n",
      "tensor(14.5989, dtype=torch.float64, grad_fn=<NllLossBackward0>)\n",
      "----------\n"
     ]
    },
    {
     "name": "stderr",
     "output_type": "stream",
     "text": [
      " 29%|██████████▌                         | 2931/10000 [42:44<1:36:14,  1.22it/s]"
     ]
    },
    {
     "name": "stdout",
     "output_type": "stream",
     "text": [
      "train test\n",
      "tensor(0.2189, dtype=torch.float64, grad_fn=<NllLossBackward0>)\n",
      "tensor(14.6020, dtype=torch.float64, grad_fn=<NllLossBackward0>)\n",
      "----------\n"
     ]
    },
    {
     "name": "stderr",
     "output_type": "stream",
     "text": [
      " 29%|██████████▌                         | 2941/10000 [42:53<1:37:02,  1.21it/s]"
     ]
    },
    {
     "name": "stdout",
     "output_type": "stream",
     "text": [
      "train test\n",
      "tensor(0.2187, dtype=torch.float64, grad_fn=<NllLossBackward0>)\n",
      "tensor(14.6078, dtype=torch.float64, grad_fn=<NllLossBackward0>)\n",
      "----------\n"
     ]
    },
    {
     "name": "stderr",
     "output_type": "stream",
     "text": [
      " 30%|██████████▌                         | 2951/10000 [43:01<1:35:59,  1.22it/s]"
     ]
    },
    {
     "name": "stdout",
     "output_type": "stream",
     "text": [
      "train test\n",
      "tensor(0.2185, dtype=torch.float64, grad_fn=<NllLossBackward0>)\n",
      "tensor(14.6138, dtype=torch.float64, grad_fn=<NllLossBackward0>)\n",
      "----------\n"
     ]
    },
    {
     "name": "stderr",
     "output_type": "stream",
     "text": [
      " 30%|██████████▋                         | 2961/10000 [43:09<1:36:05,  1.22it/s]"
     ]
    },
    {
     "name": "stdout",
     "output_type": "stream",
     "text": [
      "train test\n",
      "tensor(0.2184, dtype=torch.float64, grad_fn=<NllLossBackward0>)\n",
      "tensor(14.6162, dtype=torch.float64, grad_fn=<NllLossBackward0>)\n",
      "----------\n"
     ]
    },
    {
     "name": "stderr",
     "output_type": "stream",
     "text": [
      " 30%|██████████▋                         | 2971/10000 [43:17<1:36:20,  1.22it/s]"
     ]
    },
    {
     "name": "stdout",
     "output_type": "stream",
     "text": [
      "train test\n",
      "tensor(0.2185, dtype=torch.float64, grad_fn=<NllLossBackward0>)\n",
      "tensor(14.6123, dtype=torch.float64, grad_fn=<NllLossBackward0>)\n",
      "----------\n"
     ]
    },
    {
     "name": "stderr",
     "output_type": "stream",
     "text": [
      " 30%|██████████▋                         | 2981/10000 [43:26<1:35:53,  1.22it/s]"
     ]
    },
    {
     "name": "stdout",
     "output_type": "stream",
     "text": [
      "train test\n",
      "tensor(0.2184, dtype=torch.float64, grad_fn=<NllLossBackward0>)\n",
      "tensor(14.6136, dtype=torch.float64, grad_fn=<NllLossBackward0>)\n",
      "----------\n"
     ]
    },
    {
     "name": "stderr",
     "output_type": "stream",
     "text": [
      " 30%|██████████▊                         | 2991/10000 [43:34<1:35:31,  1.22it/s]"
     ]
    },
    {
     "name": "stdout",
     "output_type": "stream",
     "text": [
      "train test\n",
      "tensor(0.2185, dtype=torch.float64, grad_fn=<NllLossBackward0>)\n",
      "tensor(14.6103, dtype=torch.float64, grad_fn=<NllLossBackward0>)\n",
      "----------\n"
     ]
    },
    {
     "name": "stderr",
     "output_type": "stream",
     "text": [
      " 30%|██████████▊                         | 3001/10000 [43:42<1:36:30,  1.21it/s]"
     ]
    },
    {
     "name": "stdout",
     "output_type": "stream",
     "text": [
      "train test\n",
      "tensor(0.2188, dtype=torch.float64, grad_fn=<NllLossBackward0>)\n",
      "tensor(14.6018, dtype=torch.float64, grad_fn=<NllLossBackward0>)\n",
      "----------\n"
     ]
    },
    {
     "name": "stderr",
     "output_type": "stream",
     "text": [
      " 30%|██████████▊                         | 3011/10000 [43:50<1:35:04,  1.23it/s]"
     ]
    },
    {
     "name": "stdout",
     "output_type": "stream",
     "text": [
      "train test\n",
      "tensor(0.2190, dtype=torch.float64, grad_fn=<NllLossBackward0>)\n",
      "tensor(14.5944, dtype=torch.float64, grad_fn=<NllLossBackward0>)\n",
      "----------\n"
     ]
    },
    {
     "name": "stderr",
     "output_type": "stream",
     "text": [
      " 30%|██████████▉                         | 3021/10000 [43:59<1:37:22,  1.19it/s]"
     ]
    },
    {
     "name": "stdout",
     "output_type": "stream",
     "text": [
      "train test\n",
      "tensor(0.2190, dtype=torch.float64, grad_fn=<NllLossBackward0>)\n",
      "tensor(14.5965, dtype=torch.float64, grad_fn=<NllLossBackward0>)\n",
      "----------\n"
     ]
    },
    {
     "name": "stderr",
     "output_type": "stream",
     "text": [
      " 30%|██████████▉                         | 3031/10000 [44:07<1:34:08,  1.23it/s]"
     ]
    },
    {
     "name": "stdout",
     "output_type": "stream",
     "text": [
      "train test\n",
      "tensor(0.2188, dtype=torch.float64, grad_fn=<NllLossBackward0>)\n",
      "tensor(14.6038, dtype=torch.float64, grad_fn=<NllLossBackward0>)\n",
      "----------\n"
     ]
    },
    {
     "name": "stderr",
     "output_type": "stream",
     "text": [
      " 30%|██████████▉                         | 3041/10000 [44:15<1:36:26,  1.20it/s]"
     ]
    },
    {
     "name": "stdout",
     "output_type": "stream",
     "text": [
      "train test\n",
      "tensor(0.2187, dtype=torch.float64, grad_fn=<NllLossBackward0>)\n",
      "tensor(14.6076, dtype=torch.float64, grad_fn=<NllLossBackward0>)\n",
      "----------\n"
     ]
    },
    {
     "name": "stderr",
     "output_type": "stream",
     "text": [
      " 31%|██████████▉                         | 3051/10000 [44:23<1:34:24,  1.23it/s]"
     ]
    },
    {
     "name": "stdout",
     "output_type": "stream",
     "text": [
      "train test\n",
      "tensor(0.2187, dtype=torch.float64, grad_fn=<NllLossBackward0>)\n",
      "tensor(14.6050, dtype=torch.float64, grad_fn=<NllLossBackward0>)\n",
      "----------\n"
     ]
    },
    {
     "name": "stderr",
     "output_type": "stream",
     "text": [
      " 31%|███████████                         | 3061/10000 [44:32<1:34:37,  1.22it/s]"
     ]
    },
    {
     "name": "stdout",
     "output_type": "stream",
     "text": [
      "train test\n",
      "tensor(0.2188, dtype=torch.float64, grad_fn=<NllLossBackward0>)\n",
      "tensor(14.5989, dtype=torch.float64, grad_fn=<NllLossBackward0>)\n",
      "----------\n"
     ]
    },
    {
     "name": "stderr",
     "output_type": "stream",
     "text": [
      " 31%|███████████                         | 3071/10000 [44:40<1:35:05,  1.21it/s]"
     ]
    },
    {
     "name": "stdout",
     "output_type": "stream",
     "text": [
      "train test\n",
      "tensor(0.2188, dtype=torch.float64, grad_fn=<NllLossBackward0>)\n",
      "tensor(14.5989, dtype=torch.float64, grad_fn=<NllLossBackward0>)\n",
      "----------\n"
     ]
    },
    {
     "name": "stderr",
     "output_type": "stream",
     "text": [
      " 31%|███████████                         | 3081/10000 [44:48<1:33:24,  1.23it/s]"
     ]
    },
    {
     "name": "stdout",
     "output_type": "stream",
     "text": [
      "train test\n",
      "tensor(0.2186, dtype=torch.float64, grad_fn=<NllLossBackward0>)\n",
      "tensor(14.6078, dtype=torch.float64, grad_fn=<NllLossBackward0>)\n",
      "----------\n"
     ]
    },
    {
     "name": "stderr",
     "output_type": "stream",
     "text": [
      " 31%|███████████▏                        | 3091/10000 [44:56<1:35:22,  1.21it/s]"
     ]
    },
    {
     "name": "stdout",
     "output_type": "stream",
     "text": [
      "train test\n",
      "tensor(0.2185, dtype=torch.float64, grad_fn=<NllLossBackward0>)\n",
      "tensor(14.6098, dtype=torch.float64, grad_fn=<NllLossBackward0>)\n",
      "----------\n"
     ]
    },
    {
     "name": "stderr",
     "output_type": "stream",
     "text": [
      " 31%|███████████▏                        | 3101/10000 [45:04<1:33:17,  1.23it/s]"
     ]
    },
    {
     "name": "stdout",
     "output_type": "stream",
     "text": [
      "train test\n",
      "tensor(0.2185, dtype=torch.float64, grad_fn=<NllLossBackward0>)\n",
      "tensor(14.6085, dtype=torch.float64, grad_fn=<NllLossBackward0>)\n",
      "----------\n"
     ]
    },
    {
     "name": "stderr",
     "output_type": "stream",
     "text": [
      " 31%|███████████▏                        | 3111/10000 [45:13<1:35:43,  1.20it/s]"
     ]
    },
    {
     "name": "stdout",
     "output_type": "stream",
     "text": [
      "train test\n",
      "tensor(0.2183, dtype=torch.float64, grad_fn=<NllLossBackward0>)\n",
      "tensor(14.6134, dtype=torch.float64, grad_fn=<NllLossBackward0>)\n",
      "----------\n"
     ]
    },
    {
     "name": "stderr",
     "output_type": "stream",
     "text": [
      " 31%|███████████▏                        | 3121/10000 [45:21<1:32:56,  1.23it/s]"
     ]
    },
    {
     "name": "stdout",
     "output_type": "stream",
     "text": [
      "train test\n",
      "tensor(0.2182, dtype=torch.float64, grad_fn=<NllLossBackward0>)\n",
      "tensor(14.6172, dtype=torch.float64, grad_fn=<NllLossBackward0>)\n",
      "----------\n"
     ]
    },
    {
     "name": "stderr",
     "output_type": "stream",
     "text": [
      " 31%|███████████▎                        | 3131/10000 [45:29<1:35:52,  1.19it/s]"
     ]
    },
    {
     "name": "stdout",
     "output_type": "stream",
     "text": [
      "train test\n",
      "tensor(0.2181, dtype=torch.float64, grad_fn=<NllLossBackward0>)\n",
      "tensor(14.6192, dtype=torch.float64, grad_fn=<NllLossBackward0>)\n",
      "----------\n"
     ]
    },
    {
     "name": "stderr",
     "output_type": "stream",
     "text": [
      " 31%|███████████▎                        | 3141/10000 [45:37<1:32:49,  1.23it/s]"
     ]
    },
    {
     "name": "stdout",
     "output_type": "stream",
     "text": [
      "train test\n",
      "tensor(0.2180, dtype=torch.float64, grad_fn=<NllLossBackward0>)\n",
      "tensor(14.6262, dtype=torch.float64, grad_fn=<NllLossBackward0>)\n",
      "----------\n"
     ]
    },
    {
     "name": "stderr",
     "output_type": "stream",
     "text": [
      " 32%|███████████▎                        | 3151/10000 [45:46<1:35:23,  1.20it/s]"
     ]
    },
    {
     "name": "stdout",
     "output_type": "stream",
     "text": [
      "train test\n",
      "tensor(0.2181, dtype=torch.float64, grad_fn=<NllLossBackward0>)\n",
      "tensor(14.6180, dtype=torch.float64, grad_fn=<NllLossBackward0>)\n",
      "----------\n"
     ]
    },
    {
     "name": "stderr",
     "output_type": "stream",
     "text": [
      " 32%|███████████▍                        | 3161/10000 [45:54<1:32:36,  1.23it/s]"
     ]
    },
    {
     "name": "stdout",
     "output_type": "stream",
     "text": [
      "train test\n",
      "tensor(0.2184, dtype=torch.float64, grad_fn=<NllLossBackward0>)\n",
      "tensor(14.6070, dtype=torch.float64, grad_fn=<NllLossBackward0>)\n",
      "----------\n"
     ]
    },
    {
     "name": "stderr",
     "output_type": "stream",
     "text": [
      " 32%|███████████▍                        | 3171/10000 [46:02<1:35:27,  1.19it/s]"
     ]
    },
    {
     "name": "stdout",
     "output_type": "stream",
     "text": [
      "train test\n",
      "tensor(0.2185, dtype=torch.float64, grad_fn=<NllLossBackward0>)\n",
      "tensor(14.6040, dtype=torch.float64, grad_fn=<NllLossBackward0>)\n",
      "----------\n"
     ]
    },
    {
     "name": "stderr",
     "output_type": "stream",
     "text": [
      " 32%|███████████▍                        | 3181/10000 [46:10<1:32:57,  1.22it/s]"
     ]
    },
    {
     "name": "stdout",
     "output_type": "stream",
     "text": [
      "train test\n",
      "tensor(0.2184, dtype=torch.float64, grad_fn=<NllLossBackward0>)\n",
      "tensor(14.6106, dtype=torch.float64, grad_fn=<NllLossBackward0>)\n",
      "----------\n"
     ]
    },
    {
     "name": "stderr",
     "output_type": "stream",
     "text": [
      " 32%|███████████▍                        | 3191/10000 [46:19<1:34:53,  1.20it/s]"
     ]
    },
    {
     "name": "stdout",
     "output_type": "stream",
     "text": [
      "train test\n",
      "tensor(0.2182, dtype=torch.float64, grad_fn=<NllLossBackward0>)\n",
      "tensor(14.6181, dtype=torch.float64, grad_fn=<NllLossBackward0>)\n",
      "----------\n"
     ]
    },
    {
     "name": "stderr",
     "output_type": "stream",
     "text": [
      " 32%|███████████▌                        | 3201/10000 [46:27<1:32:53,  1.22it/s]"
     ]
    },
    {
     "name": "stdout",
     "output_type": "stream",
     "text": [
      "train test\n",
      "tensor(0.2182, dtype=torch.float64, grad_fn=<NllLossBackward0>)\n",
      "tensor(14.6203, dtype=torch.float64, grad_fn=<NllLossBackward0>)\n",
      "----------\n"
     ]
    },
    {
     "name": "stderr",
     "output_type": "stream",
     "text": [
      " 32%|███████████▌                        | 3211/10000 [46:35<1:35:08,  1.19it/s]"
     ]
    },
    {
     "name": "stdout",
     "output_type": "stream",
     "text": [
      "train test\n",
      "tensor(0.2183, dtype=torch.float64, grad_fn=<NllLossBackward0>)\n",
      "tensor(14.6122, dtype=torch.float64, grad_fn=<NllLossBackward0>)\n",
      "----------\n"
     ]
    },
    {
     "name": "stderr",
     "output_type": "stream",
     "text": [
      " 32%|███████████▌                        | 3221/10000 [46:43<1:32:35,  1.22it/s]"
     ]
    },
    {
     "name": "stdout",
     "output_type": "stream",
     "text": [
      "train test\n",
      "tensor(0.2185, dtype=torch.float64, grad_fn=<NllLossBackward0>)\n",
      "tensor(14.6031, dtype=torch.float64, grad_fn=<NllLossBackward0>)\n",
      "----------\n"
     ]
    },
    {
     "name": "stderr",
     "output_type": "stream",
     "text": [
      " 32%|███████████▋                        | 3231/10000 [46:52<1:36:00,  1.18it/s]"
     ]
    },
    {
     "name": "stdout",
     "output_type": "stream",
     "text": [
      "train test\n",
      "tensor(0.2185, dtype=torch.float64, grad_fn=<NllLossBackward0>)\n",
      "tensor(14.6030, dtype=torch.float64, grad_fn=<NllLossBackward0>)\n",
      "----------\n"
     ]
    },
    {
     "name": "stderr",
     "output_type": "stream",
     "text": [
      " 32%|███████████▋                        | 3241/10000 [47:00<1:31:39,  1.23it/s]"
     ]
    },
    {
     "name": "stdout",
     "output_type": "stream",
     "text": [
      "train test\n",
      "tensor(0.2182, dtype=torch.float64, grad_fn=<NllLossBackward0>)\n",
      "tensor(14.6108, dtype=torch.float64, grad_fn=<NllLossBackward0>)\n",
      "----------\n"
     ]
    },
    {
     "name": "stderr",
     "output_type": "stream",
     "text": [
      " 33%|███████████▋                        | 3251/10000 [47:08<1:33:45,  1.20it/s]"
     ]
    },
    {
     "name": "stdout",
     "output_type": "stream",
     "text": [
      "train test\n",
      "tensor(0.2179, dtype=torch.float64, grad_fn=<NllLossBackward0>)\n",
      "tensor(14.6236, dtype=torch.float64, grad_fn=<NllLossBackward0>)\n",
      "----------\n"
     ]
    },
    {
     "name": "stderr",
     "output_type": "stream",
     "text": [
      " 33%|███████████▋                        | 3261/10000 [47:16<1:33:06,  1.21it/s]"
     ]
    },
    {
     "name": "stdout",
     "output_type": "stream",
     "text": [
      "train test\n",
      "tensor(0.2179, dtype=torch.float64, grad_fn=<NllLossBackward0>)\n",
      "tensor(14.6241, dtype=torch.float64, grad_fn=<NllLossBackward0>)\n",
      "----------\n"
     ]
    },
    {
     "name": "stderr",
     "output_type": "stream",
     "text": [
      " 33%|███████████▊                        | 3271/10000 [47:25<1:33:24,  1.20it/s]"
     ]
    },
    {
     "name": "stdout",
     "output_type": "stream",
     "text": [
      "train test\n",
      "tensor(0.2180, dtype=torch.float64, grad_fn=<NllLossBackward0>)\n",
      "tensor(14.6216, dtype=torch.float64, grad_fn=<NllLossBackward0>)\n",
      "----------\n"
     ]
    },
    {
     "name": "stderr",
     "output_type": "stream",
     "text": [
      " 33%|███████████▊                        | 3281/10000 [47:33<1:32:08,  1.22it/s]"
     ]
    },
    {
     "name": "stdout",
     "output_type": "stream",
     "text": [
      "train test\n",
      "tensor(0.2182, dtype=torch.float64, grad_fn=<NllLossBackward0>)\n",
      "tensor(14.6173, dtype=torch.float64, grad_fn=<NllLossBackward0>)\n",
      "----------\n"
     ]
    },
    {
     "name": "stderr",
     "output_type": "stream",
     "text": [
      " 33%|███████████▊                        | 3291/10000 [47:41<1:32:53,  1.20it/s]"
     ]
    },
    {
     "name": "stdout",
     "output_type": "stream",
     "text": [
      "train test\n",
      "tensor(0.2183, dtype=torch.float64, grad_fn=<NllLossBackward0>)\n",
      "tensor(14.6127, dtype=torch.float64, grad_fn=<NllLossBackward0>)\n",
      "----------\n"
     ]
    },
    {
     "name": "stderr",
     "output_type": "stream",
     "text": [
      " 33%|███████████▉                        | 3301/10000 [47:49<1:31:51,  1.22it/s]"
     ]
    },
    {
     "name": "stdout",
     "output_type": "stream",
     "text": [
      "train test\n",
      "tensor(0.2182, dtype=torch.float64, grad_fn=<NllLossBackward0>)\n",
      "tensor(14.6150, dtype=torch.float64, grad_fn=<NllLossBackward0>)\n",
      "----------\n"
     ]
    },
    {
     "name": "stderr",
     "output_type": "stream",
     "text": [
      " 33%|███████████▉                        | 3311/10000 [47:58<1:32:36,  1.20it/s]"
     ]
    },
    {
     "name": "stdout",
     "output_type": "stream",
     "text": [
      "train test\n",
      "tensor(0.2181, dtype=torch.float64, grad_fn=<NllLossBackward0>)\n",
      "tensor(14.6188, dtype=torch.float64, grad_fn=<NllLossBackward0>)\n",
      "----------\n"
     ]
    },
    {
     "name": "stderr",
     "output_type": "stream",
     "text": [
      " 33%|███████████▉                        | 3321/10000 [48:06<1:32:20,  1.21it/s]"
     ]
    },
    {
     "name": "stdout",
     "output_type": "stream",
     "text": [
      "train test\n",
      "tensor(0.2180, dtype=torch.float64, grad_fn=<NllLossBackward0>)\n",
      "tensor(14.6223, dtype=torch.float64, grad_fn=<NllLossBackward0>)\n",
      "----------\n"
     ]
    },
    {
     "name": "stderr",
     "output_type": "stream",
     "text": [
      " 33%|███████████▉                        | 3331/10000 [48:14<1:31:09,  1.22it/s]"
     ]
    },
    {
     "name": "stdout",
     "output_type": "stream",
     "text": [
      "train test\n",
      "tensor(0.2178, dtype=torch.float64, grad_fn=<NllLossBackward0>)\n",
      "tensor(14.6300, dtype=torch.float64, grad_fn=<NllLossBackward0>)\n",
      "----------\n"
     ]
    },
    {
     "name": "stderr",
     "output_type": "stream",
     "text": [
      " 33%|████████████                        | 3341/10000 [48:22<1:31:41,  1.21it/s]"
     ]
    },
    {
     "name": "stdout",
     "output_type": "stream",
     "text": [
      "train test\n",
      "tensor(0.2177, dtype=torch.float64, grad_fn=<NllLossBackward0>)\n",
      "tensor(14.6332, dtype=torch.float64, grad_fn=<NllLossBackward0>)\n",
      "----------\n"
     ]
    },
    {
     "name": "stderr",
     "output_type": "stream",
     "text": [
      " 34%|████████████                        | 3351/10000 [48:31<1:31:26,  1.21it/s]"
     ]
    },
    {
     "name": "stdout",
     "output_type": "stream",
     "text": [
      "train test\n",
      "tensor(0.2177, dtype=torch.float64, grad_fn=<NllLossBackward0>)\n",
      "tensor(14.6313, dtype=torch.float64, grad_fn=<NllLossBackward0>)\n",
      "----------\n"
     ]
    },
    {
     "name": "stderr",
     "output_type": "stream",
     "text": [
      " 34%|████████████                        | 3361/10000 [48:39<1:31:59,  1.20it/s]"
     ]
    },
    {
     "name": "stdout",
     "output_type": "stream",
     "text": [
      "train test\n",
      "tensor(0.2176, dtype=torch.float64, grad_fn=<NllLossBackward0>)\n",
      "tensor(14.6327, dtype=torch.float64, grad_fn=<NllLossBackward0>)\n",
      "----------\n"
     ]
    },
    {
     "name": "stderr",
     "output_type": "stream",
     "text": [
      " 34%|████████████▏                       | 3371/10000 [48:47<1:29:33,  1.23it/s]"
     ]
    },
    {
     "name": "stdout",
     "output_type": "stream",
     "text": [
      "train test\n",
      "tensor(0.2174, dtype=torch.float64, grad_fn=<NllLossBackward0>)\n",
      "tensor(14.6391, dtype=torch.float64, grad_fn=<NllLossBackward0>)\n",
      "----------\n"
     ]
    },
    {
     "name": "stderr",
     "output_type": "stream",
     "text": [
      " 34%|████████████▏                       | 3381/10000 [48:55<1:31:08,  1.21it/s]"
     ]
    },
    {
     "name": "stdout",
     "output_type": "stream",
     "text": [
      "train test\n",
      "tensor(0.2173, dtype=torch.float64, grad_fn=<NllLossBackward0>)\n",
      "tensor(14.6404, dtype=torch.float64, grad_fn=<NllLossBackward0>)\n",
      "----------\n"
     ]
    },
    {
     "name": "stderr",
     "output_type": "stream",
     "text": [
      " 34%|████████████▏                       | 3391/10000 [49:04<1:29:30,  1.23it/s]"
     ]
    },
    {
     "name": "stdout",
     "output_type": "stream",
     "text": [
      "train test\n",
      "tensor(0.2173, dtype=torch.float64, grad_fn=<NllLossBackward0>)\n",
      "tensor(14.6422, dtype=torch.float64, grad_fn=<NllLossBackward0>)\n",
      "----------\n"
     ]
    },
    {
     "name": "stderr",
     "output_type": "stream",
     "text": [
      " 34%|████████████▏                       | 3401/10000 [49:12<1:31:35,  1.20it/s]"
     ]
    },
    {
     "name": "stdout",
     "output_type": "stream",
     "text": [
      "train test\n",
      "tensor(0.2173, dtype=torch.float64, grad_fn=<NllLossBackward0>)\n",
      "tensor(14.6411, dtype=torch.float64, grad_fn=<NllLossBackward0>)\n",
      "----------\n"
     ]
    },
    {
     "name": "stderr",
     "output_type": "stream",
     "text": [
      " 34%|████████████▎                       | 3411/10000 [49:20<1:28:27,  1.24it/s]"
     ]
    },
    {
     "name": "stdout",
     "output_type": "stream",
     "text": [
      "train test\n",
      "tensor(0.2173, dtype=torch.float64, grad_fn=<NllLossBackward0>)\n",
      "tensor(14.6396, dtype=torch.float64, grad_fn=<NllLossBackward0>)\n",
      "----------\n"
     ]
    },
    {
     "name": "stderr",
     "output_type": "stream",
     "text": [
      " 34%|████████████▎                       | 3421/10000 [49:28<1:30:28,  1.21it/s]"
     ]
    },
    {
     "name": "stdout",
     "output_type": "stream",
     "text": [
      "train test\n",
      "tensor(0.2173, dtype=torch.float64, grad_fn=<NllLossBackward0>)\n",
      "tensor(14.6401, dtype=torch.float64, grad_fn=<NllLossBackward0>)\n",
      "----------\n"
     ]
    },
    {
     "name": "stderr",
     "output_type": "stream",
     "text": [
      " 34%|████████████▎                       | 3431/10000 [49:37<1:29:02,  1.23it/s]"
     ]
    },
    {
     "name": "stdout",
     "output_type": "stream",
     "text": [
      "train test\n",
      "tensor(0.2173, dtype=torch.float64, grad_fn=<NllLossBackward0>)\n",
      "tensor(14.6396, dtype=torch.float64, grad_fn=<NllLossBackward0>)\n",
      "----------\n"
     ]
    },
    {
     "name": "stderr",
     "output_type": "stream",
     "text": [
      " 34%|████████████▍                       | 3441/10000 [49:45<1:29:54,  1.22it/s]"
     ]
    },
    {
     "name": "stdout",
     "output_type": "stream",
     "text": [
      "train test\n",
      "tensor(0.2171, dtype=torch.float64, grad_fn=<NllLossBackward0>)\n",
      "tensor(14.6437, dtype=torch.float64, grad_fn=<NllLossBackward0>)\n",
      "----------\n"
     ]
    },
    {
     "name": "stderr",
     "output_type": "stream",
     "text": [
      " 35%|████████████▍                       | 3451/10000 [49:53<1:29:07,  1.22it/s]"
     ]
    },
    {
     "name": "stdout",
     "output_type": "stream",
     "text": [
      "train test\n",
      "tensor(0.2169, dtype=torch.float64, grad_fn=<NllLossBackward0>)\n",
      "tensor(14.6528, dtype=torch.float64, grad_fn=<NllLossBackward0>)\n",
      "----------\n"
     ]
    },
    {
     "name": "stderr",
     "output_type": "stream",
     "text": [
      " 35%|████████████▍                       | 3461/10000 [50:01<1:28:19,  1.23it/s]"
     ]
    },
    {
     "name": "stdout",
     "output_type": "stream",
     "text": [
      "train test\n",
      "tensor(0.2168, dtype=torch.float64, grad_fn=<NllLossBackward0>)\n",
      "tensor(14.6557, dtype=torch.float64, grad_fn=<NllLossBackward0>)\n",
      "----------\n"
     ]
    },
    {
     "name": "stderr",
     "output_type": "stream",
     "text": [
      " 35%|████████████▍                       | 3471/10000 [50:09<1:30:05,  1.21it/s]"
     ]
    },
    {
     "name": "stdout",
     "output_type": "stream",
     "text": [
      "train test\n",
      "tensor(0.2170, dtype=torch.float64, grad_fn=<NllLossBackward0>)\n",
      "tensor(14.6455, dtype=torch.float64, grad_fn=<NllLossBackward0>)\n",
      "----------\n"
     ]
    },
    {
     "name": "stderr",
     "output_type": "stream",
     "text": [
      " 35%|████████████▌                       | 3481/10000 [50:18<1:28:18,  1.23it/s]"
     ]
    },
    {
     "name": "stdout",
     "output_type": "stream",
     "text": [
      "train test\n",
      "tensor(0.2172, dtype=torch.float64, grad_fn=<NllLossBackward0>)\n",
      "tensor(14.6385, dtype=torch.float64, grad_fn=<NllLossBackward0>)\n",
      "----------\n"
     ]
    },
    {
     "name": "stderr",
     "output_type": "stream",
     "text": [
      " 35%|████████████▌                       | 3491/10000 [50:26<1:29:28,  1.21it/s]"
     ]
    },
    {
     "name": "stdout",
     "output_type": "stream",
     "text": [
      "train test\n",
      "tensor(0.2171, dtype=torch.float64, grad_fn=<NllLossBackward0>)\n",
      "tensor(14.6409, dtype=torch.float64, grad_fn=<NllLossBackward0>)\n",
      "----------\n"
     ]
    },
    {
     "name": "stderr",
     "output_type": "stream",
     "text": [
      " 35%|████████████▌                       | 3501/10000 [50:34<1:29:55,  1.20it/s]"
     ]
    },
    {
     "name": "stdout",
     "output_type": "stream",
     "text": [
      "train test\n",
      "tensor(0.2170, dtype=torch.float64, grad_fn=<NllLossBackward0>)\n",
      "tensor(14.6438, dtype=torch.float64, grad_fn=<NllLossBackward0>)\n",
      "----------\n"
     ]
    },
    {
     "name": "stderr",
     "output_type": "stream",
     "text": [
      " 35%|████████████▋                       | 3511/10000 [50:42<1:27:21,  1.24it/s]"
     ]
    },
    {
     "name": "stdout",
     "output_type": "stream",
     "text": [
      "train test\n",
      "tensor(0.2171, dtype=torch.float64, grad_fn=<NllLossBackward0>)\n",
      "tensor(14.6402, dtype=torch.float64, grad_fn=<NllLossBackward0>)\n",
      "----------\n"
     ]
    },
    {
     "name": "stderr",
     "output_type": "stream",
     "text": [
      " 35%|████████████▋                       | 3521/10000 [50:51<1:30:54,  1.19it/s]"
     ]
    },
    {
     "name": "stdout",
     "output_type": "stream",
     "text": [
      "train test\n",
      "tensor(0.2170, dtype=torch.float64, grad_fn=<NllLossBackward0>)\n",
      "tensor(14.6425, dtype=torch.float64, grad_fn=<NllLossBackward0>)\n",
      "----------\n"
     ]
    },
    {
     "name": "stderr",
     "output_type": "stream",
     "text": [
      " 35%|████████████▋                       | 3531/10000 [50:59<1:27:26,  1.23it/s]"
     ]
    },
    {
     "name": "stdout",
     "output_type": "stream",
     "text": [
      "train test\n",
      "tensor(0.2168, dtype=torch.float64, grad_fn=<NllLossBackward0>)\n",
      "tensor(14.6521, dtype=torch.float64, grad_fn=<NllLossBackward0>)\n",
      "----------\n"
     ]
    },
    {
     "name": "stderr",
     "output_type": "stream",
     "text": [
      " 35%|████████████▋                       | 3541/10000 [51:07<1:29:22,  1.20it/s]"
     ]
    },
    {
     "name": "stdout",
     "output_type": "stream",
     "text": [
      "train test\n",
      "tensor(0.2167, dtype=torch.float64, grad_fn=<NllLossBackward0>)\n",
      "tensor(14.6536, dtype=torch.float64, grad_fn=<NllLossBackward0>)\n",
      "----------\n"
     ]
    },
    {
     "name": "stderr",
     "output_type": "stream",
     "text": [
      " 36%|████████████▊                       | 3551/10000 [51:15<1:27:18,  1.23it/s]"
     ]
    },
    {
     "name": "stdout",
     "output_type": "stream",
     "text": [
      "train test\n",
      "tensor(0.2168, dtype=torch.float64, grad_fn=<NllLossBackward0>)\n",
      "tensor(14.6508, dtype=torch.float64, grad_fn=<NllLossBackward0>)\n",
      "----------\n"
     ]
    },
    {
     "name": "stderr",
     "output_type": "stream",
     "text": [
      " 36%|████████████▊                       | 3561/10000 [51:24<1:30:01,  1.19it/s]"
     ]
    },
    {
     "name": "stdout",
     "output_type": "stream",
     "text": [
      "train test\n",
      "tensor(0.2168, dtype=torch.float64, grad_fn=<NllLossBackward0>)\n",
      "tensor(14.6501, dtype=torch.float64, grad_fn=<NllLossBackward0>)\n",
      "----------\n"
     ]
    },
    {
     "name": "stderr",
     "output_type": "stream",
     "text": [
      " 36%|████████████▊                       | 3571/10000 [51:32<1:28:01,  1.22it/s]"
     ]
    },
    {
     "name": "stdout",
     "output_type": "stream",
     "text": [
      "train test\n",
      "tensor(0.2167, dtype=torch.float64, grad_fn=<NllLossBackward0>)\n",
      "tensor(14.6497, dtype=torch.float64, grad_fn=<NllLossBackward0>)\n",
      "----------\n"
     ]
    },
    {
     "name": "stderr",
     "output_type": "stream",
     "text": [
      " 36%|████████████▉                       | 3581/10000 [51:40<1:29:29,  1.20it/s]"
     ]
    },
    {
     "name": "stdout",
     "output_type": "stream",
     "text": [
      "train test\n",
      "tensor(0.2166, dtype=torch.float64, grad_fn=<NllLossBackward0>)\n",
      "tensor(14.6532, dtype=torch.float64, grad_fn=<NllLossBackward0>)\n",
      "----------\n"
     ]
    },
    {
     "name": "stderr",
     "output_type": "stream",
     "text": [
      " 36%|████████████▉                       | 3591/10000 [51:48<1:27:19,  1.22it/s]"
     ]
    },
    {
     "name": "stdout",
     "output_type": "stream",
     "text": [
      "train test\n",
      "tensor(0.2164, dtype=torch.float64, grad_fn=<NllLossBackward0>)\n",
      "tensor(14.6607, dtype=torch.float64, grad_fn=<NllLossBackward0>)\n",
      "----------\n"
     ]
    },
    {
     "name": "stderr",
     "output_type": "stream",
     "text": [
      " 36%|████████████▉                       | 3601/10000 [51:57<1:27:09,  1.22it/s]"
     ]
    },
    {
     "name": "stdout",
     "output_type": "stream",
     "text": [
      "train test\n",
      "tensor(0.2166, dtype=torch.float64, grad_fn=<NllLossBackward0>)\n",
      "tensor(14.6507, dtype=torch.float64, grad_fn=<NllLossBackward0>)\n",
      "----------\n"
     ]
    },
    {
     "name": "stderr",
     "output_type": "stream",
     "text": [
      " 36%|████████████▉                       | 3611/10000 [52:05<1:27:57,  1.21it/s]"
     ]
    },
    {
     "name": "stdout",
     "output_type": "stream",
     "text": [
      "train test\n",
      "tensor(0.2169, dtype=torch.float64, grad_fn=<NllLossBackward0>)\n",
      "tensor(14.6407, dtype=torch.float64, grad_fn=<NllLossBackward0>)\n",
      "----------\n"
     ]
    },
    {
     "name": "stderr",
     "output_type": "stream",
     "text": [
      " 36%|█████████████                       | 3621/10000 [52:13<1:25:48,  1.24it/s]"
     ]
    },
    {
     "name": "stdout",
     "output_type": "stream",
     "text": [
      "train test\n",
      "tensor(0.2169, dtype=torch.float64, grad_fn=<NllLossBackward0>)\n",
      "tensor(14.6395, dtype=torch.float64, grad_fn=<NllLossBackward0>)\n",
      "----------\n"
     ]
    },
    {
     "name": "stderr",
     "output_type": "stream",
     "text": [
      " 36%|█████████████                       | 3631/10000 [52:21<1:28:52,  1.19it/s]"
     ]
    },
    {
     "name": "stdout",
     "output_type": "stream",
     "text": [
      "train test\n",
      "tensor(0.2168, dtype=torch.float64, grad_fn=<NllLossBackward0>)\n",
      "tensor(14.6409, dtype=torch.float64, grad_fn=<NllLossBackward0>)\n",
      "----------\n"
     ]
    },
    {
     "name": "stderr",
     "output_type": "stream",
     "text": [
      " 36%|█████████████                       | 3641/10000 [52:29<1:26:07,  1.23it/s]"
     ]
    },
    {
     "name": "stdout",
     "output_type": "stream",
     "text": [
      "train test\n",
      "tensor(0.2168, dtype=torch.float64, grad_fn=<NllLossBackward0>)\n",
      "tensor(14.6415, dtype=torch.float64, grad_fn=<NllLossBackward0>)\n",
      "----------\n"
     ]
    },
    {
     "name": "stderr",
     "output_type": "stream",
     "text": [
      " 37%|█████████████▏                      | 3651/10000 [52:38<1:28:58,  1.19it/s]"
     ]
    },
    {
     "name": "stdout",
     "output_type": "stream",
     "text": [
      "train test\n",
      "tensor(0.2167, dtype=torch.float64, grad_fn=<NllLossBackward0>)\n",
      "tensor(14.6480, dtype=torch.float64, grad_fn=<NllLossBackward0>)\n",
      "----------\n"
     ]
    },
    {
     "name": "stderr",
     "output_type": "stream",
     "text": [
      " 37%|█████████████▏                      | 3661/10000 [52:46<1:26:21,  1.22it/s]"
     ]
    },
    {
     "name": "stdout",
     "output_type": "stream",
     "text": [
      "train test\n",
      "tensor(0.2166, dtype=torch.float64, grad_fn=<NllLossBackward0>)\n",
      "tensor(14.6517, dtype=torch.float64, grad_fn=<NllLossBackward0>)\n",
      "----------\n"
     ]
    },
    {
     "name": "stderr",
     "output_type": "stream",
     "text": [
      " 37%|█████████████▏                      | 3671/10000 [52:54<1:29:25,  1.18it/s]"
     ]
    },
    {
     "name": "stdout",
     "output_type": "stream",
     "text": [
      "train test\n",
      "tensor(0.2167, dtype=torch.float64, grad_fn=<NllLossBackward0>)\n",
      "tensor(14.6468, dtype=torch.float64, grad_fn=<NllLossBackward0>)\n",
      "----------\n"
     ]
    },
    {
     "name": "stderr",
     "output_type": "stream",
     "text": [
      " 37%|█████████████▎                      | 3681/10000 [53:02<1:27:07,  1.21it/s]"
     ]
    },
    {
     "name": "stdout",
     "output_type": "stream",
     "text": [
      "train test\n",
      "tensor(0.2167, dtype=torch.float64, grad_fn=<NllLossBackward0>)\n",
      "tensor(14.6459, dtype=torch.float64, grad_fn=<NllLossBackward0>)\n",
      "----------\n"
     ]
    },
    {
     "name": "stderr",
     "output_type": "stream",
     "text": [
      " 37%|█████████████▎                      | 3691/10000 [53:11<1:28:44,  1.18it/s]"
     ]
    },
    {
     "name": "stdout",
     "output_type": "stream",
     "text": [
      "train test\n",
      "tensor(0.2168, dtype=torch.float64, grad_fn=<NllLossBackward0>)\n",
      "tensor(14.6405, dtype=torch.float64, grad_fn=<NllLossBackward0>)\n",
      "----------\n"
     ]
    },
    {
     "name": "stderr",
     "output_type": "stream",
     "text": [
      " 37%|█████████████▎                      | 3701/10000 [53:19<1:24:29,  1.24it/s]"
     ]
    },
    {
     "name": "stdout",
     "output_type": "stream",
     "text": [
      "train test\n",
      "tensor(0.2167, dtype=torch.float64, grad_fn=<NllLossBackward0>)\n",
      "tensor(14.6415, dtype=torch.float64, grad_fn=<NllLossBackward0>)\n",
      "----------\n"
     ]
    },
    {
     "name": "stderr",
     "output_type": "stream",
     "text": [
      " 37%|█████████████▎                      | 3711/10000 [53:27<1:27:49,  1.19it/s]"
     ]
    },
    {
     "name": "stdout",
     "output_type": "stream",
     "text": [
      "train test\n",
      "tensor(0.2165, dtype=torch.float64, grad_fn=<NllLossBackward0>)\n",
      "tensor(14.6493, dtype=torch.float64, grad_fn=<NllLossBackward0>)\n",
      "----------\n"
     ]
    },
    {
     "name": "stderr",
     "output_type": "stream",
     "text": [
      " 37%|█████████████▍                      | 3721/10000 [53:35<1:24:41,  1.24it/s]"
     ]
    },
    {
     "name": "stdout",
     "output_type": "stream",
     "text": [
      "train test\n",
      "tensor(0.2163, dtype=torch.float64, grad_fn=<NllLossBackward0>)\n",
      "tensor(14.6595, dtype=torch.float64, grad_fn=<NllLossBackward0>)\n",
      "----------\n"
     ]
    },
    {
     "name": "stderr",
     "output_type": "stream",
     "text": [
      " 37%|█████████████▍                      | 3731/10000 [53:44<1:27:39,  1.19it/s]"
     ]
    },
    {
     "name": "stdout",
     "output_type": "stream",
     "text": [
      "train test\n",
      "tensor(0.2162, dtype=torch.float64, grad_fn=<NllLossBackward0>)\n",
      "tensor(14.6598, dtype=torch.float64, grad_fn=<NllLossBackward0>)\n",
      "----------\n"
     ]
    },
    {
     "name": "stderr",
     "output_type": "stream",
     "text": [
      " 37%|█████████████▍                      | 3741/10000 [53:52<1:25:07,  1.23it/s]"
     ]
    },
    {
     "name": "stdout",
     "output_type": "stream",
     "text": [
      "train test\n",
      "tensor(0.2161, dtype=torch.float64, grad_fn=<NllLossBackward0>)\n",
      "tensor(14.6629, dtype=torch.float64, grad_fn=<NllLossBackward0>)\n",
      "----------\n"
     ]
    },
    {
     "name": "stderr",
     "output_type": "stream",
     "text": [
      " 38%|█████████████▌                      | 3751/10000 [54:00<1:24:38,  1.23it/s]"
     ]
    },
    {
     "name": "stdout",
     "output_type": "stream",
     "text": [
      "train test\n",
      "tensor(0.2160, dtype=torch.float64, grad_fn=<NllLossBackward0>)\n",
      "tensor(14.6654, dtype=torch.float64, grad_fn=<NllLossBackward0>)\n",
      "----------\n"
     ]
    },
    {
     "name": "stderr",
     "output_type": "stream",
     "text": [
      " 38%|█████████████▌                      | 3761/10000 [54:08<1:25:33,  1.22it/s]"
     ]
    },
    {
     "name": "stdout",
     "output_type": "stream",
     "text": [
      "train test\n",
      "tensor(0.2159, dtype=torch.float64, grad_fn=<NllLossBackward0>)\n",
      "tensor(14.6666, dtype=torch.float64, grad_fn=<NllLossBackward0>)\n",
      "----------\n"
     ]
    },
    {
     "name": "stderr",
     "output_type": "stream",
     "text": [
      " 38%|█████████████▌                      | 3771/10000 [54:16<1:23:03,  1.25it/s]"
     ]
    },
    {
     "name": "stdout",
     "output_type": "stream",
     "text": [
      "train test\n",
      "tensor(0.2158, dtype=torch.float64, grad_fn=<NllLossBackward0>)\n",
      "tensor(14.6693, dtype=torch.float64, grad_fn=<NllLossBackward0>)\n",
      "----------\n"
     ]
    },
    {
     "name": "stderr",
     "output_type": "stream",
     "text": [
      " 38%|█████████████▌                      | 3781/10000 [54:25<1:26:05,  1.20it/s]"
     ]
    },
    {
     "name": "stdout",
     "output_type": "stream",
     "text": [
      "train test\n",
      "tensor(0.2159, dtype=torch.float64, grad_fn=<NllLossBackward0>)\n",
      "tensor(14.6645, dtype=torch.float64, grad_fn=<NllLossBackward0>)\n",
      "----------\n"
     ]
    },
    {
     "name": "stderr",
     "output_type": "stream",
     "text": [
      " 38%|█████████████▋                      | 3791/10000 [54:33<1:23:31,  1.24it/s]"
     ]
    },
    {
     "name": "stdout",
     "output_type": "stream",
     "text": [
      "train test\n",
      "tensor(0.2159, dtype=torch.float64, grad_fn=<NllLossBackward0>)\n",
      "tensor(14.6654, dtype=torch.float64, grad_fn=<NllLossBackward0>)\n",
      "----------\n"
     ]
    },
    {
     "name": "stderr",
     "output_type": "stream",
     "text": [
      " 38%|█████████████▋                      | 3801/10000 [54:41<1:26:15,  1.20it/s]"
     ]
    },
    {
     "name": "stdout",
     "output_type": "stream",
     "text": [
      "train test\n",
      "tensor(0.2157, dtype=torch.float64, grad_fn=<NllLossBackward0>)\n",
      "tensor(14.6712, dtype=torch.float64, grad_fn=<NllLossBackward0>)\n",
      "----------\n"
     ]
    },
    {
     "name": "stderr",
     "output_type": "stream",
     "text": [
      " 38%|█████████████▋                      | 3811/10000 [54:49<1:24:31,  1.22it/s]"
     ]
    },
    {
     "name": "stdout",
     "output_type": "stream",
     "text": [
      "train test\n",
      "tensor(0.2156, dtype=torch.float64, grad_fn=<NllLossBackward0>)\n",
      "tensor(14.6750, dtype=torch.float64, grad_fn=<NllLossBackward0>)\n",
      "----------\n"
     ]
    },
    {
     "name": "stderr",
     "output_type": "stream",
     "text": [
      " 38%|█████████████▊                      | 3821/10000 [54:57<1:24:34,  1.22it/s]"
     ]
    },
    {
     "name": "stdout",
     "output_type": "stream",
     "text": [
      "train test\n",
      "tensor(0.2155, dtype=torch.float64, grad_fn=<NllLossBackward0>)\n",
      "tensor(14.6788, dtype=torch.float64, grad_fn=<NllLossBackward0>)\n",
      "----------\n"
     ]
    },
    {
     "name": "stderr",
     "output_type": "stream",
     "text": [
      " 38%|█████████████▊                      | 3831/10000 [55:06<1:25:02,  1.21it/s]"
     ]
    },
    {
     "name": "stdout",
     "output_type": "stream",
     "text": [
      "train test\n",
      "tensor(0.2154, dtype=torch.float64, grad_fn=<NllLossBackward0>)\n",
      "tensor(14.6806, dtype=torch.float64, grad_fn=<NllLossBackward0>)\n",
      "----------\n"
     ]
    },
    {
     "name": "stderr",
     "output_type": "stream",
     "text": [
      " 38%|█████████████▊                      | 3841/10000 [55:14<1:23:00,  1.24it/s]"
     ]
    },
    {
     "name": "stdout",
     "output_type": "stream",
     "text": [
      "train test\n",
      "tensor(0.2153, dtype=torch.float64, grad_fn=<NllLossBackward0>)\n",
      "tensor(14.6841, dtype=torch.float64, grad_fn=<NllLossBackward0>)\n",
      "----------\n"
     ]
    },
    {
     "name": "stderr",
     "output_type": "stream",
     "text": [
      " 39%|█████████████▊                      | 3851/10000 [55:22<1:24:45,  1.21it/s]"
     ]
    },
    {
     "name": "stdout",
     "output_type": "stream",
     "text": [
      "train test\n",
      "tensor(0.2152, dtype=torch.float64, grad_fn=<NllLossBackward0>)\n",
      "tensor(14.6879, dtype=torch.float64, grad_fn=<NllLossBackward0>)\n",
      "----------\n"
     ]
    },
    {
     "name": "stderr",
     "output_type": "stream",
     "text": [
      " 39%|█████████████▉                      | 3861/10000 [55:30<1:23:18,  1.23it/s]"
     ]
    },
    {
     "name": "stdout",
     "output_type": "stream",
     "text": [
      "train test\n",
      "tensor(0.2153, dtype=torch.float64, grad_fn=<NllLossBackward0>)\n",
      "tensor(14.6836, dtype=torch.float64, grad_fn=<NllLossBackward0>)\n",
      "----------\n"
     ]
    },
    {
     "name": "stderr",
     "output_type": "stream",
     "text": [
      " 39%|█████████████▉                      | 3871/10000 [55:39<1:23:32,  1.22it/s]"
     ]
    },
    {
     "name": "stdout",
     "output_type": "stream",
     "text": [
      "train test\n",
      "tensor(0.2153, dtype=torch.float64, grad_fn=<NllLossBackward0>)\n",
      "tensor(14.6817, dtype=torch.float64, grad_fn=<NllLossBackward0>)\n",
      "----------\n"
     ]
    },
    {
     "name": "stderr",
     "output_type": "stream",
     "text": [
      " 39%|█████████████▉                      | 3881/10000 [55:47<1:23:55,  1.22it/s]"
     ]
    },
    {
     "name": "stdout",
     "output_type": "stream",
     "text": [
      "train test\n",
      "tensor(0.2151, dtype=torch.float64, grad_fn=<NllLossBackward0>)\n",
      "tensor(14.6865, dtype=torch.float64, grad_fn=<NllLossBackward0>)\n",
      "----------\n"
     ]
    },
    {
     "name": "stderr",
     "output_type": "stream",
     "text": [
      " 39%|██████████████                      | 3891/10000 [55:55<1:23:15,  1.22it/s]"
     ]
    },
    {
     "name": "stdout",
     "output_type": "stream",
     "text": [
      "train test\n",
      "tensor(0.2149, dtype=torch.float64, grad_fn=<NllLossBackward0>)\n",
      "tensor(14.6895, dtype=torch.float64, grad_fn=<NllLossBackward0>)\n",
      "----------\n"
     ]
    },
    {
     "name": "stderr",
     "output_type": "stream",
     "text": [
      " 39%|██████████████                      | 3901/10000 [56:03<1:23:14,  1.22it/s]"
     ]
    },
    {
     "name": "stdout",
     "output_type": "stream",
     "text": [
      "train test\n",
      "tensor(0.2149, dtype=torch.float64, grad_fn=<NllLossBackward0>)\n",
      "tensor(14.6925, dtype=torch.float64, grad_fn=<NllLossBackward0>)\n",
      "----------\n"
     ]
    },
    {
     "name": "stderr",
     "output_type": "stream",
     "text": [
      " 39%|██████████████                      | 3911/10000 [56:11<1:22:31,  1.23it/s]"
     ]
    },
    {
     "name": "stdout",
     "output_type": "stream",
     "text": [
      "train test\n",
      "tensor(0.2150, dtype=torch.float64, grad_fn=<NllLossBackward0>)\n",
      "tensor(14.6894, dtype=torch.float64, grad_fn=<NllLossBackward0>)\n",
      "----------\n"
     ]
    },
    {
     "name": "stderr",
     "output_type": "stream",
     "text": [
      " 39%|██████████████                      | 3921/10000 [56:20<1:25:15,  1.19it/s]"
     ]
    },
    {
     "name": "stdout",
     "output_type": "stream",
     "text": [
      "train test\n",
      "tensor(0.2150, dtype=torch.float64, grad_fn=<NllLossBackward0>)\n",
      "tensor(14.6881, dtype=torch.float64, grad_fn=<NllLossBackward0>)\n",
      "----------\n"
     ]
    },
    {
     "name": "stderr",
     "output_type": "stream",
     "text": [
      " 39%|██████████████▏                     | 3931/10000 [56:28<1:21:27,  1.24it/s]"
     ]
    },
    {
     "name": "stdout",
     "output_type": "stream",
     "text": [
      "train test\n",
      "tensor(0.2150, dtype=torch.float64, grad_fn=<NllLossBackward0>)\n",
      "tensor(14.6914, dtype=torch.float64, grad_fn=<NllLossBackward0>)\n",
      "----------\n"
     ]
    },
    {
     "name": "stderr",
     "output_type": "stream",
     "text": [
      " 39%|██████████████▏                     | 3941/10000 [56:36<1:22:16,  1.23it/s]"
     ]
    },
    {
     "name": "stdout",
     "output_type": "stream",
     "text": [
      "train test\n",
      "tensor(0.2149, dtype=torch.float64, grad_fn=<NllLossBackward0>)\n",
      "tensor(14.6940, dtype=torch.float64, grad_fn=<NllLossBackward0>)\n",
      "----------\n"
     ]
    },
    {
     "name": "stderr",
     "output_type": "stream",
     "text": [
      " 40%|██████████████▏                     | 3951/10000 [56:44<1:24:19,  1.20it/s]"
     ]
    },
    {
     "name": "stdout",
     "output_type": "stream",
     "text": [
      "train test\n",
      "tensor(0.2151, dtype=torch.float64, grad_fn=<NllLossBackward0>)\n",
      "tensor(14.6847, dtype=torch.float64, grad_fn=<NllLossBackward0>)\n",
      "----------\n"
     ]
    },
    {
     "name": "stderr",
     "output_type": "stream",
     "text": [
      " 40%|██████████████▎                     | 3961/10000 [56:53<1:22:57,  1.21it/s]"
     ]
    },
    {
     "name": "stdout",
     "output_type": "stream",
     "text": [
      "train test\n",
      "tensor(0.2152, dtype=torch.float64, grad_fn=<NllLossBackward0>)\n",
      "tensor(14.6803, dtype=torch.float64, grad_fn=<NllLossBackward0>)\n",
      "----------\n"
     ]
    },
    {
     "name": "stderr",
     "output_type": "stream",
     "text": [
      " 40%|██████████████▎                     | 3971/10000 [57:01<1:23:04,  1.21it/s]"
     ]
    },
    {
     "name": "stdout",
     "output_type": "stream",
     "text": [
      "train test\n",
      "tensor(0.2152, dtype=torch.float64, grad_fn=<NllLossBackward0>)\n",
      "tensor(14.6778, dtype=torch.float64, grad_fn=<NllLossBackward0>)\n",
      "----------\n"
     ]
    },
    {
     "name": "stderr",
     "output_type": "stream",
     "text": [
      " 40%|██████████████▎                     | 3981/10000 [57:09<1:20:26,  1.25it/s]"
     ]
    },
    {
     "name": "stdout",
     "output_type": "stream",
     "text": [
      "train test\n",
      "tensor(0.2152, dtype=torch.float64, grad_fn=<NllLossBackward0>)\n",
      "tensor(14.6801, dtype=torch.float64, grad_fn=<NllLossBackward0>)\n",
      "----------\n"
     ]
    },
    {
     "name": "stderr",
     "output_type": "stream",
     "text": [
      " 40%|██████████████▎                     | 3991/10000 [57:17<1:23:58,  1.19it/s]"
     ]
    },
    {
     "name": "stdout",
     "output_type": "stream",
     "text": [
      "train test\n",
      "tensor(0.2150, dtype=torch.float64, grad_fn=<NllLossBackward0>)\n",
      "tensor(14.6871, dtype=torch.float64, grad_fn=<NllLossBackward0>)\n",
      "----------\n"
     ]
    },
    {
     "name": "stderr",
     "output_type": "stream",
     "text": [
      " 40%|██████████████▍                     | 4001/10000 [57:25<1:21:09,  1.23it/s]"
     ]
    },
    {
     "name": "stdout",
     "output_type": "stream",
     "text": [
      "train test\n",
      "tensor(0.2149, dtype=torch.float64, grad_fn=<NllLossBackward0>)\n",
      "tensor(14.6922, dtype=torch.float64, grad_fn=<NllLossBackward0>)\n",
      "----------\n"
     ]
    },
    {
     "name": "stderr",
     "output_type": "stream",
     "text": [
      " 40%|██████████████▍                     | 4011/10000 [57:34<1:23:03,  1.20it/s]"
     ]
    },
    {
     "name": "stdout",
     "output_type": "stream",
     "text": [
      "train test\n",
      "tensor(0.2151, dtype=torch.float64, grad_fn=<NllLossBackward0>)\n",
      "tensor(14.6848, dtype=torch.float64, grad_fn=<NllLossBackward0>)\n",
      "----------\n"
     ]
    },
    {
     "name": "stderr",
     "output_type": "stream",
     "text": [
      " 40%|██████████████▍                     | 4021/10000 [57:42<1:21:38,  1.22it/s]"
     ]
    },
    {
     "name": "stdout",
     "output_type": "stream",
     "text": [
      "train test\n",
      "tensor(0.2152, dtype=torch.float64, grad_fn=<NllLossBackward0>)\n",
      "tensor(14.6802, dtype=torch.float64, grad_fn=<NllLossBackward0>)\n",
      "----------\n"
     ]
    },
    {
     "name": "stderr",
     "output_type": "stream",
     "text": [
      " 40%|██████████████▌                     | 4031/10000 [57:50<1:20:07,  1.24it/s]"
     ]
    },
    {
     "name": "stdout",
     "output_type": "stream",
     "text": [
      "train test\n",
      "tensor(0.2152, dtype=torch.float64, grad_fn=<NllLossBackward0>)\n",
      "tensor(14.6844, dtype=torch.float64, grad_fn=<NllLossBackward0>)\n",
      "----------\n"
     ]
    },
    {
     "name": "stderr",
     "output_type": "stream",
     "text": [
      " 40%|██████████████▌                     | 4041/10000 [57:58<1:22:56,  1.20it/s]"
     ]
    },
    {
     "name": "stdout",
     "output_type": "stream",
     "text": [
      "train test\n",
      "tensor(0.2151, dtype=torch.float64, grad_fn=<NllLossBackward0>)\n",
      "tensor(14.6843, dtype=torch.float64, grad_fn=<NllLossBackward0>)\n",
      "----------\n"
     ]
    },
    {
     "name": "stderr",
     "output_type": "stream",
     "text": [
      " 41%|██████████████▌                     | 4051/10000 [58:07<1:22:47,  1.20it/s]"
     ]
    },
    {
     "name": "stdout",
     "output_type": "stream",
     "text": [
      "train test\n",
      "tensor(0.2151, dtype=torch.float64, grad_fn=<NllLossBackward0>)\n",
      "tensor(14.6835, dtype=torch.float64, grad_fn=<NllLossBackward0>)\n",
      "----------\n"
     ]
    },
    {
     "name": "stderr",
     "output_type": "stream",
     "text": [
      " 41%|██████████████▌                     | 4061/10000 [58:15<1:22:05,  1.21it/s]"
     ]
    },
    {
     "name": "stdout",
     "output_type": "stream",
     "text": [
      "train test\n",
      "tensor(0.2150, dtype=torch.float64, grad_fn=<NllLossBackward0>)\n",
      "tensor(14.6892, dtype=torch.float64, grad_fn=<NllLossBackward0>)\n",
      "----------\n"
     ]
    },
    {
     "name": "stderr",
     "output_type": "stream",
     "text": [
      " 41%|██████████████▋                     | 4071/10000 [58:23<1:21:47,  1.21it/s]"
     ]
    },
    {
     "name": "stdout",
     "output_type": "stream",
     "text": [
      "train test\n",
      "tensor(0.2149, dtype=torch.float64, grad_fn=<NllLossBackward0>)\n",
      "tensor(14.6942, dtype=torch.float64, grad_fn=<NllLossBackward0>)\n",
      "----------\n"
     ]
    },
    {
     "name": "stderr",
     "output_type": "stream",
     "text": [
      " 41%|██████████████▋                     | 4081/10000 [58:31<1:22:08,  1.20it/s]"
     ]
    },
    {
     "name": "stdout",
     "output_type": "stream",
     "text": [
      "train test\n",
      "tensor(0.2149, dtype=torch.float64, grad_fn=<NllLossBackward0>)\n",
      "tensor(14.6906, dtype=torch.float64, grad_fn=<NllLossBackward0>)\n",
      "----------\n"
     ]
    },
    {
     "name": "stderr",
     "output_type": "stream",
     "text": [
      " 41%|██████████████▋                     | 4091/10000 [58:39<1:21:51,  1.20it/s]"
     ]
    },
    {
     "name": "stdout",
     "output_type": "stream",
     "text": [
      "train test\n",
      "tensor(0.2149, dtype=torch.float64, grad_fn=<NllLossBackward0>)\n",
      "tensor(14.6899, dtype=torch.float64, grad_fn=<NllLossBackward0>)\n",
      "----------\n"
     ]
    },
    {
     "name": "stderr",
     "output_type": "stream",
     "text": [
      " 41%|██████████████▊                     | 4101/10000 [58:48<1:20:23,  1.22it/s]"
     ]
    },
    {
     "name": "stdout",
     "output_type": "stream",
     "text": [
      "train test\n",
      "tensor(0.2150, dtype=torch.float64, grad_fn=<NllLossBackward0>)\n",
      "tensor(14.6872, dtype=torch.float64, grad_fn=<NllLossBackward0>)\n",
      "----------\n"
     ]
    },
    {
     "name": "stderr",
     "output_type": "stream",
     "text": [
      " 41%|██████████████▊                     | 4111/10000 [58:56<1:21:00,  1.21it/s]"
     ]
    },
    {
     "name": "stdout",
     "output_type": "stream",
     "text": [
      "train test\n",
      "tensor(0.2149, dtype=torch.float64, grad_fn=<NllLossBackward0>)\n",
      "tensor(14.6893, dtype=torch.float64, grad_fn=<NllLossBackward0>)\n",
      "----------\n"
     ]
    },
    {
     "name": "stderr",
     "output_type": "stream",
     "text": [
      " 41%|██████████████▊                     | 4121/10000 [59:04<1:20:28,  1.22it/s]"
     ]
    },
    {
     "name": "stdout",
     "output_type": "stream",
     "text": [
      "train test\n",
      "tensor(0.2148, dtype=torch.float64, grad_fn=<NllLossBackward0>)\n",
      "tensor(14.6932, dtype=torch.float64, grad_fn=<NllLossBackward0>)\n",
      "----------\n"
     ]
    },
    {
     "name": "stderr",
     "output_type": "stream",
     "text": [
      " 41%|██████████████▊                     | 4131/10000 [59:12<1:20:34,  1.21it/s]"
     ]
    },
    {
     "name": "stdout",
     "output_type": "stream",
     "text": [
      "train test\n",
      "tensor(0.2148, dtype=torch.float64, grad_fn=<NllLossBackward0>)\n",
      "tensor(14.6913, dtype=torch.float64, grad_fn=<NllLossBackward0>)\n",
      "----------\n"
     ]
    },
    {
     "name": "stderr",
     "output_type": "stream",
     "text": [
      " 41%|██████████████▉                     | 4141/10000 [59:20<1:21:05,  1.20it/s]"
     ]
    },
    {
     "name": "stdout",
     "output_type": "stream",
     "text": [
      "train test\n",
      "tensor(0.2147, dtype=torch.float64, grad_fn=<NllLossBackward0>)\n",
      "tensor(14.6929, dtype=torch.float64, grad_fn=<NllLossBackward0>)\n",
      "----------\n"
     ]
    },
    {
     "name": "stderr",
     "output_type": "stream",
     "text": [
      " 42%|██████████████▉                     | 4151/10000 [59:29<1:19:13,  1.23it/s]"
     ]
    },
    {
     "name": "stdout",
     "output_type": "stream",
     "text": [
      "train test\n",
      "tensor(0.2147, dtype=torch.float64, grad_fn=<NllLossBackward0>)\n",
      "tensor(14.6933, dtype=torch.float64, grad_fn=<NllLossBackward0>)\n",
      "----------\n"
     ]
    },
    {
     "name": "stderr",
     "output_type": "stream",
     "text": [
      " 42%|██████████████▉                     | 4161/10000 [59:37<1:20:31,  1.21it/s]"
     ]
    },
    {
     "name": "stdout",
     "output_type": "stream",
     "text": [
      "train test\n",
      "tensor(0.2146, dtype=torch.float64, grad_fn=<NllLossBackward0>)\n",
      "tensor(14.6942, dtype=torch.float64, grad_fn=<NllLossBackward0>)\n",
      "----------\n"
     ]
    },
    {
     "name": "stderr",
     "output_type": "stream",
     "text": [
      " 42%|███████████████                     | 4171/10000 [59:45<1:19:05,  1.23it/s]"
     ]
    },
    {
     "name": "stdout",
     "output_type": "stream",
     "text": [
      "train test\n",
      "tensor(0.2145, dtype=torch.float64, grad_fn=<NllLossBackward0>)\n",
      "tensor(14.6990, dtype=torch.float64, grad_fn=<NllLossBackward0>)\n",
      "----------\n"
     ]
    },
    {
     "name": "stderr",
     "output_type": "stream",
     "text": [
      " 42%|███████████████                     | 4181/10000 [59:53<1:20:23,  1.21it/s]"
     ]
    },
    {
     "name": "stdout",
     "output_type": "stream",
     "text": [
      "train test\n",
      "tensor(0.2144, dtype=torch.float64, grad_fn=<NllLossBackward0>)\n",
      "tensor(14.7025, dtype=torch.float64, grad_fn=<NllLossBackward0>)\n",
      "----------\n"
     ]
    },
    {
     "name": "stderr",
     "output_type": "stream",
     "text": [
      " 42%|██████████████▏                   | 4191/10000 [1:00:01<1:18:03,  1.24it/s]"
     ]
    },
    {
     "name": "stdout",
     "output_type": "stream",
     "text": [
      "train test\n",
      "tensor(0.2146, dtype=torch.float64, grad_fn=<NllLossBackward0>)\n",
      "tensor(14.6979, dtype=torch.float64, grad_fn=<NllLossBackward0>)\n",
      "----------\n"
     ]
    },
    {
     "name": "stderr",
     "output_type": "stream",
     "text": [
      " 42%|██████████████▎                   | 4201/10000 [1:00:10<1:18:49,  1.23it/s]"
     ]
    },
    {
     "name": "stdout",
     "output_type": "stream",
     "text": [
      "train test\n",
      "tensor(0.2146, dtype=torch.float64, grad_fn=<NllLossBackward0>)\n",
      "tensor(14.6970, dtype=torch.float64, grad_fn=<NllLossBackward0>)\n",
      "----------\n"
     ]
    },
    {
     "name": "stderr",
     "output_type": "stream",
     "text": [
      " 42%|██████████████▎                   | 4211/10000 [1:00:18<1:19:23,  1.22it/s]"
     ]
    },
    {
     "name": "stdout",
     "output_type": "stream",
     "text": [
      "train test\n",
      "tensor(0.2146, dtype=torch.float64, grad_fn=<NllLossBackward0>)\n",
      "tensor(14.7001, dtype=torch.float64, grad_fn=<NllLossBackward0>)\n",
      "----------\n"
     ]
    },
    {
     "name": "stderr",
     "output_type": "stream",
     "text": [
      " 42%|██████████████▎                   | 4221/10000 [1:00:26<1:17:42,  1.24it/s]"
     ]
    },
    {
     "name": "stdout",
     "output_type": "stream",
     "text": [
      "train test\n",
      "tensor(0.2146, dtype=torch.float64, grad_fn=<NllLossBackward0>)\n",
      "tensor(14.6944, dtype=torch.float64, grad_fn=<NllLossBackward0>)\n",
      "----------\n"
     ]
    },
    {
     "name": "stderr",
     "output_type": "stream",
     "text": [
      " 42%|██████████████▍                   | 4231/10000 [1:00:34<1:19:47,  1.21it/s]"
     ]
    },
    {
     "name": "stdout",
     "output_type": "stream",
     "text": [
      "train test\n",
      "tensor(0.2146, dtype=torch.float64, grad_fn=<NllLossBackward0>)\n",
      "tensor(14.6955, dtype=torch.float64, grad_fn=<NllLossBackward0>)\n",
      "----------\n"
     ]
    },
    {
     "name": "stderr",
     "output_type": "stream",
     "text": [
      " 42%|██████████████▍                   | 4241/10000 [1:00:42<1:17:47,  1.23it/s]"
     ]
    },
    {
     "name": "stdout",
     "output_type": "stream",
     "text": [
      "train test\n",
      "tensor(0.2144, dtype=torch.float64, grad_fn=<NllLossBackward0>)\n",
      "tensor(14.7035, dtype=torch.float64, grad_fn=<NllLossBackward0>)\n",
      "----------\n"
     ]
    },
    {
     "name": "stderr",
     "output_type": "stream",
     "text": [
      " 43%|██████████████▍                   | 4251/10000 [1:00:51<1:22:10,  1.17it/s]"
     ]
    },
    {
     "name": "stdout",
     "output_type": "stream",
     "text": [
      "train test\n",
      "tensor(0.2145, dtype=torch.float64, grad_fn=<NllLossBackward0>)\n",
      "tensor(14.7013, dtype=torch.float64, grad_fn=<NllLossBackward0>)\n",
      "----------\n"
     ]
    },
    {
     "name": "stderr",
     "output_type": "stream",
     "text": [
      " 43%|██████████████▍                   | 4261/10000 [1:00:59<1:17:45,  1.23it/s]"
     ]
    },
    {
     "name": "stdout",
     "output_type": "stream",
     "text": [
      "train test\n",
      "tensor(0.2151, dtype=torch.float64, grad_fn=<NllLossBackward0>)\n",
      "tensor(14.6828, dtype=torch.float64, grad_fn=<NllLossBackward0>)\n",
      "----------\n"
     ]
    },
    {
     "name": "stderr",
     "output_type": "stream",
     "text": [
      " 43%|██████████████▌                   | 4271/10000 [1:01:08<1:19:50,  1.20it/s]"
     ]
    },
    {
     "name": "stdout",
     "output_type": "stream",
     "text": [
      "train test\n",
      "tensor(0.2155, dtype=torch.float64, grad_fn=<NllLossBackward0>)\n",
      "tensor(14.6703, dtype=torch.float64, grad_fn=<NllLossBackward0>)\n",
      "----------\n"
     ]
    },
    {
     "name": "stderr",
     "output_type": "stream",
     "text": [
      " 43%|██████████████▌                   | 4281/10000 [1:01:16<1:16:17,  1.25it/s]"
     ]
    },
    {
     "name": "stdout",
     "output_type": "stream",
     "text": [
      "train test\n",
      "tensor(0.2156, dtype=torch.float64, grad_fn=<NllLossBackward0>)\n",
      "tensor(14.6697, dtype=torch.float64, grad_fn=<NllLossBackward0>)\n",
      "----------\n"
     ]
    },
    {
     "name": "stderr",
     "output_type": "stream",
     "text": [
      " 43%|██████████████▌                   | 4291/10000 [1:01:24<1:17:59,  1.22it/s]"
     ]
    },
    {
     "name": "stdout",
     "output_type": "stream",
     "text": [
      "train test\n",
      "tensor(0.2157, dtype=torch.float64, grad_fn=<NllLossBackward0>)\n",
      "tensor(14.6683, dtype=torch.float64, grad_fn=<NllLossBackward0>)\n",
      "----------\n"
     ]
    },
    {
     "name": "stderr",
     "output_type": "stream",
     "text": [
      " 43%|██████████████▌                   | 4301/10000 [1:01:32<1:18:10,  1.22it/s]"
     ]
    },
    {
     "name": "stdout",
     "output_type": "stream",
     "text": [
      "train test\n",
      "tensor(0.2157, dtype=torch.float64, grad_fn=<NllLossBackward0>)\n",
      "tensor(14.6686, dtype=torch.float64, grad_fn=<NllLossBackward0>)\n",
      "----------\n"
     ]
    },
    {
     "name": "stderr",
     "output_type": "stream",
     "text": [
      " 43%|██████████████▋                   | 4311/10000 [1:01:41<1:20:16,  1.18it/s]"
     ]
    },
    {
     "name": "stdout",
     "output_type": "stream",
     "text": [
      "train test\n",
      "tensor(0.2157, dtype=torch.float64, grad_fn=<NllLossBackward0>)\n",
      "tensor(14.6725, dtype=torch.float64, grad_fn=<NllLossBackward0>)\n",
      "----------\n"
     ]
    },
    {
     "name": "stderr",
     "output_type": "stream",
     "text": [
      " 43%|██████████████▋                   | 4321/10000 [1:01:49<1:21:23,  1.16it/s]"
     ]
    },
    {
     "name": "stdout",
     "output_type": "stream",
     "text": [
      "train test\n",
      "tensor(0.2156, dtype=torch.float64, grad_fn=<NllLossBackward0>)\n",
      "tensor(14.6758, dtype=torch.float64, grad_fn=<NllLossBackward0>)\n",
      "----------\n"
     ]
    },
    {
     "name": "stderr",
     "output_type": "stream",
     "text": [
      " 43%|██████████████▋                   | 4331/10000 [1:01:58<1:17:42,  1.22it/s]"
     ]
    },
    {
     "name": "stdout",
     "output_type": "stream",
     "text": [
      "train test\n",
      "tensor(0.2153, dtype=torch.float64, grad_fn=<NllLossBackward0>)\n",
      "tensor(14.6838, dtype=torch.float64, grad_fn=<NllLossBackward0>)\n",
      "----------\n"
     ]
    },
    {
     "name": "stderr",
     "output_type": "stream",
     "text": [
      " 43%|██████████████▊                   | 4341/10000 [1:02:06<1:18:46,  1.20it/s]"
     ]
    },
    {
     "name": "stdout",
     "output_type": "stream",
     "text": [
      "train test\n",
      "tensor(0.2151, dtype=torch.float64, grad_fn=<NllLossBackward0>)\n",
      "tensor(14.6913, dtype=torch.float64, grad_fn=<NllLossBackward0>)\n",
      "----------\n"
     ]
    },
    {
     "name": "stderr",
     "output_type": "stream",
     "text": [
      " 44%|██████████████▊                   | 4351/10000 [1:02:14<1:16:49,  1.23it/s]"
     ]
    },
    {
     "name": "stdout",
     "output_type": "stream",
     "text": [
      "train test\n",
      "tensor(0.2150, dtype=torch.float64, grad_fn=<NllLossBackward0>)\n",
      "tensor(14.6933, dtype=torch.float64, grad_fn=<NllLossBackward0>)\n",
      "----------\n"
     ]
    },
    {
     "name": "stderr",
     "output_type": "stream",
     "text": [
      " 44%|██████████████▊                   | 4361/10000 [1:02:22<1:17:39,  1.21it/s]"
     ]
    },
    {
     "name": "stdout",
     "output_type": "stream",
     "text": [
      "train test\n",
      "tensor(0.2151, dtype=torch.float64, grad_fn=<NllLossBackward0>)\n",
      "tensor(14.6884, dtype=torch.float64, grad_fn=<NllLossBackward0>)\n",
      "----------\n"
     ]
    },
    {
     "name": "stderr",
     "output_type": "stream",
     "text": [
      " 44%|██████████████▊                   | 4371/10000 [1:02:31<1:16:20,  1.23it/s]"
     ]
    },
    {
     "name": "stdout",
     "output_type": "stream",
     "text": [
      "train test\n",
      "tensor(0.2151, dtype=torch.float64, grad_fn=<NllLossBackward0>)\n",
      "tensor(14.6886, dtype=torch.float64, grad_fn=<NllLossBackward0>)\n",
      "----------\n"
     ]
    },
    {
     "name": "stderr",
     "output_type": "stream",
     "text": [
      " 44%|██████████████▉                   | 4381/10000 [1:02:39<1:18:24,  1.19it/s]"
     ]
    },
    {
     "name": "stdout",
     "output_type": "stream",
     "text": [
      "train test\n",
      "tensor(0.2149, dtype=torch.float64, grad_fn=<NllLossBackward0>)\n",
      "tensor(14.6949, dtype=torch.float64, grad_fn=<NllLossBackward0>)\n",
      "----------\n"
     ]
    },
    {
     "name": "stderr",
     "output_type": "stream",
     "text": [
      " 44%|██████████████▉                   | 4391/10000 [1:02:47<1:16:15,  1.23it/s]"
     ]
    },
    {
     "name": "stdout",
     "output_type": "stream",
     "text": [
      "train test\n",
      "tensor(0.2148, dtype=torch.float64, grad_fn=<NllLossBackward0>)\n",
      "tensor(14.6967, dtype=torch.float64, grad_fn=<NllLossBackward0>)\n",
      "----------\n"
     ]
    },
    {
     "name": "stderr",
     "output_type": "stream",
     "text": [
      " 44%|██████████████▉                   | 4401/10000 [1:02:55<1:18:00,  1.20it/s]"
     ]
    },
    {
     "name": "stdout",
     "output_type": "stream",
     "text": [
      "train test\n",
      "tensor(0.2149, dtype=torch.float64, grad_fn=<NllLossBackward0>)\n",
      "tensor(14.6971, dtype=torch.float64, grad_fn=<NllLossBackward0>)\n",
      "----------\n"
     ]
    },
    {
     "name": "stderr",
     "output_type": "stream",
     "text": [
      " 44%|██████████████▉                   | 4411/10000 [1:03:03<1:13:43,  1.26it/s]"
     ]
    },
    {
     "name": "stdout",
     "output_type": "stream",
     "text": [
      "train test\n",
      "tensor(0.2149, dtype=torch.float64, grad_fn=<NllLossBackward0>)\n",
      "tensor(14.6964, dtype=torch.float64, grad_fn=<NllLossBackward0>)\n",
      "----------\n"
     ]
    },
    {
     "name": "stderr",
     "output_type": "stream",
     "text": [
      " 44%|███████████████                   | 4421/10000 [1:03:12<1:18:31,  1.18it/s]"
     ]
    },
    {
     "name": "stdout",
     "output_type": "stream",
     "text": [
      "train test\n",
      "tensor(0.2148, dtype=torch.float64, grad_fn=<NllLossBackward0>)\n",
      "tensor(14.6988, dtype=torch.float64, grad_fn=<NllLossBackward0>)\n",
      "----------\n"
     ]
    },
    {
     "name": "stderr",
     "output_type": "stream",
     "text": [
      " 44%|███████████████                   | 4431/10000 [1:03:20<1:14:23,  1.25it/s]"
     ]
    },
    {
     "name": "stdout",
     "output_type": "stream",
     "text": [
      "train test\n",
      "tensor(0.2147, dtype=torch.float64, grad_fn=<NllLossBackward0>)\n",
      "tensor(14.7017, dtype=torch.float64, grad_fn=<NllLossBackward0>)\n",
      "----------\n"
     ]
    },
    {
     "name": "stderr",
     "output_type": "stream",
     "text": [
      " 44%|███████████████                   | 4441/10000 [1:03:28<1:16:34,  1.21it/s]"
     ]
    },
    {
     "name": "stdout",
     "output_type": "stream",
     "text": [
      "train test\n",
      "tensor(0.2146, dtype=torch.float64, grad_fn=<NllLossBackward0>)\n",
      "tensor(14.7070, dtype=torch.float64, grad_fn=<NllLossBackward0>)\n",
      "----------\n"
     ]
    },
    {
     "name": "stderr",
     "output_type": "stream",
     "text": [
      " 45%|███████████████▏                  | 4451/10000 [1:03:36<1:15:51,  1.22it/s]"
     ]
    },
    {
     "name": "stdout",
     "output_type": "stream",
     "text": [
      "train test\n",
      "tensor(0.2145, dtype=torch.float64, grad_fn=<NllLossBackward0>)\n",
      "tensor(14.7093, dtype=torch.float64, grad_fn=<NllLossBackward0>)\n",
      "----------\n"
     ]
    },
    {
     "name": "stderr",
     "output_type": "stream",
     "text": [
      " 45%|███████████████▏                  | 4461/10000 [1:03:45<1:17:44,  1.19it/s]"
     ]
    },
    {
     "name": "stdout",
     "output_type": "stream",
     "text": [
      "train test\n",
      "tensor(0.2145, dtype=torch.float64, grad_fn=<NllLossBackward0>)\n",
      "tensor(14.7091, dtype=torch.float64, grad_fn=<NllLossBackward0>)\n",
      "----------\n"
     ]
    },
    {
     "name": "stderr",
     "output_type": "stream",
     "text": [
      " 45%|███████████████▏                  | 4471/10000 [1:03:53<1:15:13,  1.23it/s]"
     ]
    },
    {
     "name": "stdout",
     "output_type": "stream",
     "text": [
      "train test\n",
      "tensor(0.2144, dtype=torch.float64, grad_fn=<NllLossBackward0>)\n",
      "tensor(14.7092, dtype=torch.float64, grad_fn=<NllLossBackward0>)\n",
      "----------\n"
     ]
    },
    {
     "name": "stderr",
     "output_type": "stream",
     "text": [
      " 45%|███████████████▏                  | 4481/10000 [1:04:01<1:16:46,  1.20it/s]"
     ]
    },
    {
     "name": "stdout",
     "output_type": "stream",
     "text": [
      "train test\n",
      "tensor(0.2143, dtype=torch.float64, grad_fn=<NllLossBackward0>)\n",
      "tensor(14.7133, dtype=torch.float64, grad_fn=<NllLossBackward0>)\n",
      "----------\n"
     ]
    },
    {
     "name": "stderr",
     "output_type": "stream",
     "text": [
      " 45%|███████████████▎                  | 4491/10000 [1:04:09<1:16:04,  1.21it/s]"
     ]
    },
    {
     "name": "stdout",
     "output_type": "stream",
     "text": [
      "train test\n",
      "tensor(0.2142, dtype=torch.float64, grad_fn=<NllLossBackward0>)\n",
      "tensor(14.7174, dtype=torch.float64, grad_fn=<NllLossBackward0>)\n",
      "----------\n"
     ]
    },
    {
     "name": "stderr",
     "output_type": "stream",
     "text": [
      " 45%|███████████████▎                  | 4501/10000 [1:04:18<1:17:08,  1.19it/s]"
     ]
    },
    {
     "name": "stdout",
     "output_type": "stream",
     "text": [
      "train test\n",
      "tensor(0.2141, dtype=torch.float64, grad_fn=<NllLossBackward0>)\n",
      "tensor(14.7192, dtype=torch.float64, grad_fn=<NllLossBackward0>)\n",
      "----------\n"
     ]
    },
    {
     "name": "stderr",
     "output_type": "stream",
     "text": [
      " 45%|███████████████▎                  | 4511/10000 [1:04:26<1:15:30,  1.21it/s]"
     ]
    },
    {
     "name": "stdout",
     "output_type": "stream",
     "text": [
      "train test\n",
      "tensor(0.2139, dtype=torch.float64, grad_fn=<NllLossBackward0>)\n",
      "tensor(14.7229, dtype=torch.float64, grad_fn=<NllLossBackward0>)\n",
      "----------\n"
     ]
    },
    {
     "name": "stderr",
     "output_type": "stream",
     "text": [
      " 45%|███████████████▎                  | 4521/10000 [1:04:34<1:15:06,  1.22it/s]"
     ]
    },
    {
     "name": "stdout",
     "output_type": "stream",
     "text": [
      "train test\n",
      "tensor(0.2138, dtype=torch.float64, grad_fn=<NllLossBackward0>)\n",
      "tensor(14.7263, dtype=torch.float64, grad_fn=<NllLossBackward0>)\n",
      "----------\n"
     ]
    },
    {
     "name": "stderr",
     "output_type": "stream",
     "text": [
      " 45%|███████████████▍                  | 4531/10000 [1:04:42<1:16:17,  1.19it/s]"
     ]
    },
    {
     "name": "stdout",
     "output_type": "stream",
     "text": [
      "train test\n",
      "tensor(0.2139, dtype=torch.float64, grad_fn=<NllLossBackward0>)\n",
      "tensor(14.7208, dtype=torch.float64, grad_fn=<NllLossBackward0>)\n",
      "----------\n"
     ]
    },
    {
     "name": "stderr",
     "output_type": "stream",
     "text": [
      " 45%|███████████████▍                  | 4541/10000 [1:04:50<1:13:53,  1.23it/s]"
     ]
    },
    {
     "name": "stdout",
     "output_type": "stream",
     "text": [
      "train test\n",
      "tensor(0.2140, dtype=torch.float64, grad_fn=<NllLossBackward0>)\n",
      "tensor(14.7169, dtype=torch.float64, grad_fn=<NllLossBackward0>)\n",
      "----------\n"
     ]
    },
    {
     "name": "stderr",
     "output_type": "stream",
     "text": [
      " 46%|███████████████▍                  | 4551/10000 [1:04:59<1:16:27,  1.19it/s]"
     ]
    },
    {
     "name": "stdout",
     "output_type": "stream",
     "text": [
      "train test\n",
      "tensor(0.2142, dtype=torch.float64, grad_fn=<NllLossBackward0>)\n",
      "tensor(14.7098, dtype=torch.float64, grad_fn=<NllLossBackward0>)\n",
      "----------\n"
     ]
    },
    {
     "name": "stderr",
     "output_type": "stream",
     "text": [
      " 46%|███████████████▌                  | 4561/10000 [1:05:07<1:13:07,  1.24it/s]"
     ]
    },
    {
     "name": "stdout",
     "output_type": "stream",
     "text": [
      "train test\n",
      "tensor(0.2143, dtype=torch.float64, grad_fn=<NllLossBackward0>)\n",
      "tensor(14.7063, dtype=torch.float64, grad_fn=<NllLossBackward0>)\n",
      "----------\n"
     ]
    },
    {
     "name": "stderr",
     "output_type": "stream",
     "text": [
      " 46%|███████████████▌                  | 4571/10000 [1:05:15<1:15:01,  1.21it/s]"
     ]
    },
    {
     "name": "stdout",
     "output_type": "stream",
     "text": [
      "train test\n",
      "tensor(0.2142, dtype=torch.float64, grad_fn=<NllLossBackward0>)\n",
      "tensor(14.7104, dtype=torch.float64, grad_fn=<NllLossBackward0>)\n",
      "----------\n"
     ]
    },
    {
     "name": "stderr",
     "output_type": "stream",
     "text": [
      " 46%|███████████████▌                  | 4581/10000 [1:05:23<1:13:38,  1.23it/s]"
     ]
    },
    {
     "name": "stdout",
     "output_type": "stream",
     "text": [
      "train test\n",
      "tensor(0.2142, dtype=torch.float64, grad_fn=<NllLossBackward0>)\n",
      "tensor(14.7120, dtype=torch.float64, grad_fn=<NllLossBackward0>)\n",
      "----------\n"
     ]
    },
    {
     "name": "stderr",
     "output_type": "stream",
     "text": [
      " 46%|███████████████▌                  | 4591/10000 [1:05:32<1:14:42,  1.21it/s]"
     ]
    },
    {
     "name": "stdout",
     "output_type": "stream",
     "text": [
      "train test\n",
      "tensor(0.2141, dtype=torch.float64, grad_fn=<NllLossBackward0>)\n",
      "tensor(14.7160, dtype=torch.float64, grad_fn=<NllLossBackward0>)\n",
      "----------\n"
     ]
    },
    {
     "name": "stderr",
     "output_type": "stream",
     "text": [
      " 46%|███████████████▋                  | 4601/10000 [1:05:40<1:13:40,  1.22it/s]"
     ]
    },
    {
     "name": "stdout",
     "output_type": "stream",
     "text": [
      "train test\n",
      "tensor(0.2139, dtype=torch.float64, grad_fn=<NllLossBackward0>)\n",
      "tensor(14.7235, dtype=torch.float64, grad_fn=<NllLossBackward0>)\n",
      "----------\n"
     ]
    },
    {
     "name": "stderr",
     "output_type": "stream",
     "text": [
      " 46%|███████████████▋                  | 4611/10000 [1:05:48<1:14:25,  1.21it/s]"
     ]
    },
    {
     "name": "stdout",
     "output_type": "stream",
     "text": [
      "train test\n",
      "tensor(0.2139, dtype=torch.float64, grad_fn=<NllLossBackward0>)\n",
      "tensor(14.7226, dtype=torch.float64, grad_fn=<NllLossBackward0>)\n",
      "----------\n"
     ]
    },
    {
     "name": "stderr",
     "output_type": "stream",
     "text": [
      " 46%|███████████████▋                  | 4621/10000 [1:05:56<1:13:22,  1.22it/s]"
     ]
    },
    {
     "name": "stdout",
     "output_type": "stream",
     "text": [
      "train test\n",
      "tensor(0.2140, dtype=torch.float64, grad_fn=<NllLossBackward0>)\n",
      "tensor(14.7188, dtype=torch.float64, grad_fn=<NllLossBackward0>)\n",
      "----------\n"
     ]
    },
    {
     "name": "stderr",
     "output_type": "stream",
     "text": [
      " 46%|███████████████▋                  | 4631/10000 [1:06:05<1:14:25,  1.20it/s]"
     ]
    },
    {
     "name": "stdout",
     "output_type": "stream",
     "text": [
      "train test\n",
      "tensor(0.2139, dtype=torch.float64, grad_fn=<NllLossBackward0>)\n",
      "tensor(14.7209, dtype=torch.float64, grad_fn=<NllLossBackward0>)\n",
      "----------\n"
     ]
    },
    {
     "name": "stderr",
     "output_type": "stream",
     "text": [
      " 46%|███████████████▊                  | 4641/10000 [1:06:13<1:12:02,  1.24it/s]"
     ]
    },
    {
     "name": "stdout",
     "output_type": "stream",
     "text": [
      "train test\n",
      "tensor(0.2139, dtype=torch.float64, grad_fn=<NllLossBackward0>)\n",
      "tensor(14.7207, dtype=torch.float64, grad_fn=<NllLossBackward0>)\n",
      "----------\n"
     ]
    },
    {
     "name": "stderr",
     "output_type": "stream",
     "text": [
      " 47%|███████████████▊                  | 4651/10000 [1:06:21<1:13:35,  1.21it/s]"
     ]
    },
    {
     "name": "stdout",
     "output_type": "stream",
     "text": [
      "train test\n",
      "tensor(0.2138, dtype=torch.float64, grad_fn=<NllLossBackward0>)\n",
      "tensor(14.7232, dtype=torch.float64, grad_fn=<NllLossBackward0>)\n",
      "----------\n"
     ]
    },
    {
     "name": "stderr",
     "output_type": "stream",
     "text": [
      " 47%|███████████████▊                  | 4661/10000 [1:06:29<1:12:09,  1.23it/s]"
     ]
    },
    {
     "name": "stdout",
     "output_type": "stream",
     "text": [
      "train test\n",
      "tensor(0.2136, dtype=torch.float64, grad_fn=<NllLossBackward0>)\n",
      "tensor(14.7287, dtype=torch.float64, grad_fn=<NllLossBackward0>)\n",
      "----------\n"
     ]
    },
    {
     "name": "stderr",
     "output_type": "stream",
     "text": [
      " 47%|███████████████▉                  | 4671/10000 [1:06:38<1:13:04,  1.22it/s]"
     ]
    },
    {
     "name": "stdout",
     "output_type": "stream",
     "text": [
      "train test\n",
      "tensor(0.2135, dtype=torch.float64, grad_fn=<NllLossBackward0>)\n",
      "tensor(14.7329, dtype=torch.float64, grad_fn=<NllLossBackward0>)\n",
      "----------\n"
     ]
    },
    {
     "name": "stderr",
     "output_type": "stream",
     "text": [
      " 47%|███████████████▉                  | 4681/10000 [1:06:46<1:12:47,  1.22it/s]"
     ]
    },
    {
     "name": "stdout",
     "output_type": "stream",
     "text": [
      "train test\n",
      "tensor(0.2135, dtype=torch.float64, grad_fn=<NllLossBackward0>)\n",
      "tensor(14.7341, dtype=torch.float64, grad_fn=<NllLossBackward0>)\n",
      "----------\n"
     ]
    },
    {
     "name": "stderr",
     "output_type": "stream",
     "text": [
      " 47%|███████████████▉                  | 4691/10000 [1:06:54<1:11:36,  1.24it/s]"
     ]
    },
    {
     "name": "stdout",
     "output_type": "stream",
     "text": [
      "train test\n",
      "tensor(0.2134, dtype=torch.float64, grad_fn=<NllLossBackward0>)\n",
      "tensor(14.7377, dtype=torch.float64, grad_fn=<NllLossBackward0>)\n",
      "----------\n"
     ]
    },
    {
     "name": "stderr",
     "output_type": "stream",
     "text": [
      " 47%|███████████████▉                  | 4701/10000 [1:07:02<1:13:28,  1.20it/s]"
     ]
    },
    {
     "name": "stdout",
     "output_type": "stream",
     "text": [
      "train test\n",
      "tensor(0.2132, dtype=torch.float64, grad_fn=<NllLossBackward0>)\n",
      "tensor(14.7462, dtype=torch.float64, grad_fn=<NllLossBackward0>)\n",
      "----------\n"
     ]
    },
    {
     "name": "stderr",
     "output_type": "stream",
     "text": [
      " 47%|████████████████                  | 4711/10000 [1:07:11<1:11:33,  1.23it/s]"
     ]
    },
    {
     "name": "stdout",
     "output_type": "stream",
     "text": [
      "train test\n",
      "tensor(0.2135, dtype=torch.float64, grad_fn=<NllLossBackward0>)\n",
      "tensor(14.7341, dtype=torch.float64, grad_fn=<NllLossBackward0>)\n",
      "----------\n"
     ]
    },
    {
     "name": "stderr",
     "output_type": "stream",
     "text": [
      " 47%|████████████████                  | 4721/10000 [1:07:19<1:13:30,  1.20it/s]"
     ]
    },
    {
     "name": "stdout",
     "output_type": "stream",
     "text": [
      "train test\n",
      "tensor(0.2139, dtype=torch.float64, grad_fn=<NllLossBackward0>)\n",
      "tensor(14.7221, dtype=torch.float64, grad_fn=<NllLossBackward0>)\n",
      "----------\n"
     ]
    },
    {
     "name": "stderr",
     "output_type": "stream",
     "text": [
      " 47%|████████████████                  | 4731/10000 [1:07:27<1:13:35,  1.19it/s]"
     ]
    },
    {
     "name": "stdout",
     "output_type": "stream",
     "text": [
      "train test\n",
      "tensor(0.2140, dtype=torch.float64, grad_fn=<NllLossBackward0>)\n",
      "tensor(14.7164, dtype=torch.float64, grad_fn=<NllLossBackward0>)\n",
      "----------\n"
     ]
    },
    {
     "name": "stderr",
     "output_type": "stream",
     "text": [
      " 47%|████████████████                  | 4741/10000 [1:07:35<1:13:32,  1.19it/s]"
     ]
    },
    {
     "name": "stdout",
     "output_type": "stream",
     "text": [
      "train test\n",
      "tensor(0.2139, dtype=torch.float64, grad_fn=<NllLossBackward0>)\n",
      "tensor(14.7208, dtype=torch.float64, grad_fn=<NllLossBackward0>)\n",
      "----------\n"
     ]
    },
    {
     "name": "stderr",
     "output_type": "stream",
     "text": [
      " 48%|████████████████▏                 | 4751/10000 [1:07:44<1:10:57,  1.23it/s]"
     ]
    },
    {
     "name": "stdout",
     "output_type": "stream",
     "text": [
      "train test\n",
      "tensor(0.2140, dtype=torch.float64, grad_fn=<NllLossBackward0>)\n",
      "tensor(14.7171, dtype=torch.float64, grad_fn=<NllLossBackward0>)\n",
      "----------\n"
     ]
    },
    {
     "name": "stderr",
     "output_type": "stream",
     "text": [
      " 48%|████████████████▏                 | 4761/10000 [1:07:52<1:11:47,  1.22it/s]"
     ]
    },
    {
     "name": "stdout",
     "output_type": "stream",
     "text": [
      "train test\n",
      "tensor(0.2145, dtype=torch.float64, grad_fn=<NllLossBackward0>)\n",
      "tensor(14.6996, dtype=torch.float64, grad_fn=<NllLossBackward0>)\n",
      "----------\n"
     ]
    },
    {
     "name": "stderr",
     "output_type": "stream",
     "text": [
      " 48%|████████████████▏                 | 4771/10000 [1:08:00<1:11:37,  1.22it/s]"
     ]
    },
    {
     "name": "stdout",
     "output_type": "stream",
     "text": [
      "train test\n",
      "tensor(0.2149, dtype=torch.float64, grad_fn=<NllLossBackward0>)\n",
      "tensor(14.6910, dtype=torch.float64, grad_fn=<NllLossBackward0>)\n",
      "----------\n"
     ]
    },
    {
     "name": "stderr",
     "output_type": "stream",
     "text": [
      " 48%|████████████████▎                 | 4781/10000 [1:08:08<1:11:46,  1.21it/s]"
     ]
    },
    {
     "name": "stdout",
     "output_type": "stream",
     "text": [
      "train test\n",
      "tensor(0.2150, dtype=torch.float64, grad_fn=<NllLossBackward0>)\n",
      "tensor(14.6895, dtype=torch.float64, grad_fn=<NllLossBackward0>)\n",
      "----------\n"
     ]
    },
    {
     "name": "stderr",
     "output_type": "stream",
     "text": [
      " 48%|████████████████▎                 | 4791/10000 [1:08:17<1:10:55,  1.22it/s]"
     ]
    },
    {
     "name": "stdout",
     "output_type": "stream",
     "text": [
      "train test\n",
      "tensor(0.2150, dtype=torch.float64, grad_fn=<NllLossBackward0>)\n",
      "tensor(14.6889, dtype=torch.float64, grad_fn=<NllLossBackward0>)\n",
      "----------\n"
     ]
    },
    {
     "name": "stderr",
     "output_type": "stream",
     "text": [
      " 48%|████████████████▎                 | 4801/10000 [1:08:25<1:11:56,  1.20it/s]"
     ]
    },
    {
     "name": "stdout",
     "output_type": "stream",
     "text": [
      "train test\n",
      "tensor(0.2150, dtype=torch.float64, grad_fn=<NllLossBackward0>)\n",
      "tensor(14.6925, dtype=torch.float64, grad_fn=<NllLossBackward0>)\n",
      "----------\n"
     ]
    },
    {
     "name": "stderr",
     "output_type": "stream",
     "text": [
      " 48%|████████████████▎                 | 4811/10000 [1:08:33<1:10:38,  1.22it/s]"
     ]
    },
    {
     "name": "stdout",
     "output_type": "stream",
     "text": [
      "train test\n",
      "tensor(0.2147, dtype=torch.float64, grad_fn=<NllLossBackward0>)\n",
      "tensor(14.7001, dtype=torch.float64, grad_fn=<NllLossBackward0>)\n",
      "----------\n"
     ]
    },
    {
     "name": "stderr",
     "output_type": "stream",
     "text": [
      " 48%|████████████████▍                 | 4821/10000 [1:08:41<1:11:48,  1.20it/s]"
     ]
    },
    {
     "name": "stdout",
     "output_type": "stream",
     "text": [
      "train test\n",
      "tensor(0.2145, dtype=torch.float64, grad_fn=<NllLossBackward0>)\n",
      "tensor(14.7100, dtype=torch.float64, grad_fn=<NllLossBackward0>)\n",
      "----------\n"
     ]
    },
    {
     "name": "stderr",
     "output_type": "stream",
     "text": [
      " 48%|████████████████▍                 | 4831/10000 [1:08:50<1:10:47,  1.22it/s]"
     ]
    },
    {
     "name": "stdout",
     "output_type": "stream",
     "text": [
      "train test\n",
      "tensor(0.2143, dtype=torch.float64, grad_fn=<NllLossBackward0>)\n",
      "tensor(14.7160, dtype=torch.float64, grad_fn=<NllLossBackward0>)\n",
      "----------\n"
     ]
    },
    {
     "name": "stderr",
     "output_type": "stream",
     "text": [
      " 48%|████████████████▍                 | 4841/10000 [1:08:58<1:11:23,  1.20it/s]"
     ]
    },
    {
     "name": "stdout",
     "output_type": "stream",
     "text": [
      "train test\n",
      "tensor(0.2142, dtype=torch.float64, grad_fn=<NllLossBackward0>)\n",
      "tensor(14.7207, dtype=torch.float64, grad_fn=<NllLossBackward0>)\n",
      "----------\n"
     ]
    },
    {
     "name": "stderr",
     "output_type": "stream",
     "text": [
      " 49%|████████████████▍                 | 4851/10000 [1:09:06<1:10:52,  1.21it/s]"
     ]
    },
    {
     "name": "stdout",
     "output_type": "stream",
     "text": [
      "train test\n",
      "tensor(0.2140, dtype=torch.float64, grad_fn=<NllLossBackward0>)\n",
      "tensor(14.7262, dtype=torch.float64, grad_fn=<NllLossBackward0>)\n",
      "----------\n"
     ]
    },
    {
     "name": "stderr",
     "output_type": "stream",
     "text": [
      " 49%|████████████████▌                 | 4861/10000 [1:09:14<1:12:19,  1.18it/s]"
     ]
    },
    {
     "name": "stdout",
     "output_type": "stream",
     "text": [
      "train test\n",
      "tensor(0.2140, dtype=torch.float64, grad_fn=<NllLossBackward0>)\n",
      "tensor(14.7226, dtype=torch.float64, grad_fn=<NllLossBackward0>)\n",
      "----------\n"
     ]
    },
    {
     "name": "stderr",
     "output_type": "stream",
     "text": [
      " 49%|████████████████▌                 | 4871/10000 [1:09:23<1:09:51,  1.22it/s]"
     ]
    },
    {
     "name": "stdout",
     "output_type": "stream",
     "text": [
      "train test\n",
      "tensor(0.2140, dtype=torch.float64, grad_fn=<NllLossBackward0>)\n",
      "tensor(14.7219, dtype=torch.float64, grad_fn=<NllLossBackward0>)\n",
      "----------\n"
     ]
    },
    {
     "name": "stderr",
     "output_type": "stream",
     "text": [
      " 49%|████████████████▌                 | 4881/10000 [1:09:31<1:12:13,  1.18it/s]"
     ]
    },
    {
     "name": "stdout",
     "output_type": "stream",
     "text": [
      "train test\n",
      "tensor(0.2139, dtype=torch.float64, grad_fn=<NllLossBackward0>)\n",
      "tensor(14.7272, dtype=torch.float64, grad_fn=<NllLossBackward0>)\n",
      "----------\n"
     ]
    },
    {
     "name": "stderr",
     "output_type": "stream",
     "text": [
      " 49%|████████████████▋                 | 4891/10000 [1:09:39<1:09:49,  1.22it/s]"
     ]
    },
    {
     "name": "stdout",
     "output_type": "stream",
     "text": [
      "train test\n",
      "tensor(0.2138, dtype=torch.float64, grad_fn=<NllLossBackward0>)\n",
      "tensor(14.7261, dtype=torch.float64, grad_fn=<NllLossBackward0>)\n",
      "----------\n"
     ]
    },
    {
     "name": "stderr",
     "output_type": "stream",
     "text": [
      " 49%|████████████████▋                 | 4901/10000 [1:09:48<1:11:36,  1.19it/s]"
     ]
    },
    {
     "name": "stdout",
     "output_type": "stream",
     "text": [
      "train test\n",
      "tensor(0.2137, dtype=torch.float64, grad_fn=<NllLossBackward0>)\n",
      "tensor(14.7292, dtype=torch.float64, grad_fn=<NllLossBackward0>)\n",
      "----------\n"
     ]
    },
    {
     "name": "stderr",
     "output_type": "stream",
     "text": [
      " 49%|████████████████▋                 | 4911/10000 [1:09:56<1:09:36,  1.22it/s]"
     ]
    },
    {
     "name": "stdout",
     "output_type": "stream",
     "text": [
      "train test\n",
      "tensor(0.2136, dtype=torch.float64, grad_fn=<NllLossBackward0>)\n",
      "tensor(14.7350, dtype=torch.float64, grad_fn=<NllLossBackward0>)\n",
      "----------\n"
     ]
    },
    {
     "name": "stderr",
     "output_type": "stream",
     "text": [
      " 49%|████████████████▋                 | 4921/10000 [1:10:04<1:11:05,  1.19it/s]"
     ]
    },
    {
     "name": "stdout",
     "output_type": "stream",
     "text": [
      "train test\n",
      "tensor(0.2139, dtype=torch.float64, grad_fn=<NllLossBackward0>)\n",
      "tensor(14.7201, dtype=torch.float64, grad_fn=<NllLossBackward0>)\n",
      "----------\n"
     ]
    },
    {
     "name": "stderr",
     "output_type": "stream",
     "text": [
      " 49%|████████████████▊                 | 4931/10000 [1:10:12<1:08:11,  1.24it/s]"
     ]
    },
    {
     "name": "stdout",
     "output_type": "stream",
     "text": [
      "train test\n",
      "tensor(0.2142, dtype=torch.float64, grad_fn=<NllLossBackward0>)\n",
      "tensor(14.7119, dtype=torch.float64, grad_fn=<NllLossBackward0>)\n",
      "----------\n"
     ]
    },
    {
     "name": "stderr",
     "output_type": "stream",
     "text": [
      " 49%|████████████████▊                 | 4941/10000 [1:10:20<1:10:55,  1.19it/s]"
     ]
    },
    {
     "name": "stdout",
     "output_type": "stream",
     "text": [
      "train test\n",
      "tensor(0.2143, dtype=torch.float64, grad_fn=<NllLossBackward0>)\n",
      "tensor(14.7097, dtype=torch.float64, grad_fn=<NllLossBackward0>)\n",
      "----------\n"
     ]
    },
    {
     "name": "stderr",
     "output_type": "stream",
     "text": [
      " 50%|████████████████▊                 | 4951/10000 [1:10:29<1:08:28,  1.23it/s]"
     ]
    },
    {
     "name": "stdout",
     "output_type": "stream",
     "text": [
      "train test\n",
      "tensor(0.2142, dtype=torch.float64, grad_fn=<NllLossBackward0>)\n",
      "tensor(14.7172, dtype=torch.float64, grad_fn=<NllLossBackward0>)\n",
      "----------\n"
     ]
    },
    {
     "name": "stderr",
     "output_type": "stream",
     "text": [
      " 50%|████████████████▊                 | 4961/10000 [1:10:37<1:10:58,  1.18it/s]"
     ]
    },
    {
     "name": "stdout",
     "output_type": "stream",
     "text": [
      "train test\n",
      "tensor(0.2142, dtype=torch.float64, grad_fn=<NllLossBackward0>)\n",
      "tensor(14.7176, dtype=torch.float64, grad_fn=<NllLossBackward0>)\n",
      "----------\n"
     ]
    },
    {
     "name": "stderr",
     "output_type": "stream",
     "text": [
      " 50%|████████████████▉                 | 4971/10000 [1:10:45<1:08:01,  1.23it/s]"
     ]
    },
    {
     "name": "stdout",
     "output_type": "stream",
     "text": [
      "train test\n",
      "tensor(0.2142, dtype=torch.float64, grad_fn=<NllLossBackward0>)\n",
      "tensor(14.7149, dtype=torch.float64, grad_fn=<NllLossBackward0>)\n",
      "----------\n"
     ]
    },
    {
     "name": "stderr",
     "output_type": "stream",
     "text": [
      " 50%|████████████████▉                 | 4981/10000 [1:10:53<1:08:46,  1.22it/s]"
     ]
    },
    {
     "name": "stdout",
     "output_type": "stream",
     "text": [
      "train test\n",
      "tensor(0.2142, dtype=torch.float64, grad_fn=<NllLossBackward0>)\n",
      "tensor(14.7183, dtype=torch.float64, grad_fn=<NllLossBackward0>)\n",
      "----------\n"
     ]
    },
    {
     "name": "stderr",
     "output_type": "stream",
     "text": [
      " 50%|████████████████▉                 | 4991/10000 [1:11:02<1:08:27,  1.22it/s]"
     ]
    },
    {
     "name": "stdout",
     "output_type": "stream",
     "text": [
      "train test\n",
      "tensor(0.2140, dtype=torch.float64, grad_fn=<NllLossBackward0>)\n",
      "tensor(14.7264, dtype=torch.float64, grad_fn=<NllLossBackward0>)\n",
      "----------\n"
     ]
    },
    {
     "name": "stderr",
     "output_type": "stream",
     "text": [
      " 50%|█████████████████                 | 5001/10000 [1:11:10<1:08:14,  1.22it/s]"
     ]
    },
    {
     "name": "stdout",
     "output_type": "stream",
     "text": [
      "train test\n",
      "tensor(0.2143, dtype=torch.float64, grad_fn=<NllLossBackward0>)\n",
      "tensor(14.7151, dtype=torch.float64, grad_fn=<NllLossBackward0>)\n",
      "----------\n"
     ]
    },
    {
     "name": "stderr",
     "output_type": "stream",
     "text": [
      " 50%|█████████████████                 | 5011/10000 [1:11:18<1:08:07,  1.22it/s]"
     ]
    },
    {
     "name": "stdout",
     "output_type": "stream",
     "text": [
      "train test\n",
      "tensor(0.2146, dtype=torch.float64, grad_fn=<NllLossBackward0>)\n",
      "tensor(14.7037, dtype=torch.float64, grad_fn=<NllLossBackward0>)\n",
      "----------\n"
     ]
    },
    {
     "name": "stderr",
     "output_type": "stream",
     "text": [
      " 50%|█████████████████                 | 5021/10000 [1:11:26<1:07:24,  1.23it/s]"
     ]
    },
    {
     "name": "stdout",
     "output_type": "stream",
     "text": [
      "train test\n",
      "tensor(0.2147, dtype=torch.float64, grad_fn=<NllLossBackward0>)\n",
      "tensor(14.7009, dtype=torch.float64, grad_fn=<NllLossBackward0>)\n",
      "----------\n"
     ]
    },
    {
     "name": "stderr",
     "output_type": "stream",
     "text": [
      " 50%|█████████████████                 | 5031/10000 [1:11:34<1:08:16,  1.21it/s]"
     ]
    },
    {
     "name": "stdout",
     "output_type": "stream",
     "text": [
      "train test\n",
      "tensor(0.2146, dtype=torch.float64, grad_fn=<NllLossBackward0>)\n",
      "tensor(14.7063, dtype=torch.float64, grad_fn=<NllLossBackward0>)\n",
      "----------\n"
     ]
    },
    {
     "name": "stderr",
     "output_type": "stream",
     "text": [
      " 50%|█████████████████▏                | 5041/10000 [1:11:43<1:07:02,  1.23it/s]"
     ]
    },
    {
     "name": "stdout",
     "output_type": "stream",
     "text": [
      "train test\n",
      "tensor(0.2146, dtype=torch.float64, grad_fn=<NllLossBackward0>)\n",
      "tensor(14.7084, dtype=torch.float64, grad_fn=<NllLossBackward0>)\n",
      "----------\n"
     ]
    },
    {
     "name": "stderr",
     "output_type": "stream",
     "text": [
      " 51%|█████████████████▏                | 5051/10000 [1:11:51<1:08:19,  1.21it/s]"
     ]
    },
    {
     "name": "stdout",
     "output_type": "stream",
     "text": [
      "train test\n",
      "tensor(0.2145, dtype=torch.float64, grad_fn=<NllLossBackward0>)\n",
      "tensor(14.7087, dtype=torch.float64, grad_fn=<NllLossBackward0>)\n",
      "----------\n"
     ]
    },
    {
     "name": "stderr",
     "output_type": "stream",
     "text": [
      " 51%|█████████████████▏                | 5061/10000 [1:11:59<1:06:52,  1.23it/s]"
     ]
    },
    {
     "name": "stdout",
     "output_type": "stream",
     "text": [
      "train test\n",
      "tensor(0.2144, dtype=torch.float64, grad_fn=<NllLossBackward0>)\n",
      "tensor(14.7112, dtype=torch.float64, grad_fn=<NllLossBackward0>)\n",
      "----------\n"
     ]
    },
    {
     "name": "stderr",
     "output_type": "stream",
     "text": [
      " 51%|█████████████████▏                | 5071/10000 [1:12:07<1:07:50,  1.21it/s]"
     ]
    },
    {
     "name": "stdout",
     "output_type": "stream",
     "text": [
      "train test\n",
      "tensor(0.2143, dtype=torch.float64, grad_fn=<NllLossBackward0>)\n",
      "tensor(14.7158, dtype=torch.float64, grad_fn=<NllLossBackward0>)\n",
      "----------\n"
     ]
    },
    {
     "name": "stderr",
     "output_type": "stream",
     "text": [
      " 51%|█████████████████▎                | 5081/10000 [1:12:15<1:06:01,  1.24it/s]"
     ]
    },
    {
     "name": "stdout",
     "output_type": "stream",
     "text": [
      "train test\n",
      "tensor(0.2141, dtype=torch.float64, grad_fn=<NllLossBackward0>)\n",
      "tensor(14.7232, dtype=torch.float64, grad_fn=<NllLossBackward0>)\n",
      "----------\n"
     ]
    },
    {
     "name": "stderr",
     "output_type": "stream",
     "text": [
      " 51%|█████████████████▎                | 5091/10000 [1:12:24<1:07:25,  1.21it/s]"
     ]
    },
    {
     "name": "stdout",
     "output_type": "stream",
     "text": [
      "train test\n",
      "tensor(0.2139, dtype=torch.float64, grad_fn=<NllLossBackward0>)\n",
      "tensor(14.7309, dtype=torch.float64, grad_fn=<NllLossBackward0>)\n",
      "----------\n"
     ]
    },
    {
     "name": "stderr",
     "output_type": "stream",
     "text": [
      " 51%|█████████████████▎                | 5101/10000 [1:12:32<1:07:00,  1.22it/s]"
     ]
    },
    {
     "name": "stdout",
     "output_type": "stream",
     "text": [
      "train test\n",
      "tensor(0.2137, dtype=torch.float64, grad_fn=<NllLossBackward0>)\n",
      "tensor(14.7345, dtype=torch.float64, grad_fn=<NllLossBackward0>)\n",
      "----------\n"
     ]
    },
    {
     "name": "stderr",
     "output_type": "stream",
     "text": [
      " 51%|█████████████████▍                | 5111/10000 [1:12:40<1:06:58,  1.22it/s]"
     ]
    },
    {
     "name": "stdout",
     "output_type": "stream",
     "text": [
      "train test\n",
      "tensor(0.2135, dtype=torch.float64, grad_fn=<NllLossBackward0>)\n",
      "tensor(14.7396, dtype=torch.float64, grad_fn=<NllLossBackward0>)\n",
      "----------\n"
     ]
    },
    {
     "name": "stderr",
     "output_type": "stream",
     "text": [
      " 51%|█████████████████▍                | 5121/10000 [1:12:48<1:06:46,  1.22it/s]"
     ]
    },
    {
     "name": "stdout",
     "output_type": "stream",
     "text": [
      "train test\n",
      "tensor(0.2134, dtype=torch.float64, grad_fn=<NllLossBackward0>)\n",
      "tensor(14.7392, dtype=torch.float64, grad_fn=<NllLossBackward0>)\n",
      "----------\n"
     ]
    },
    {
     "name": "stderr",
     "output_type": "stream",
     "text": [
      " 51%|█████████████████▍                | 5131/10000 [1:12:57<1:06:06,  1.23it/s]"
     ]
    },
    {
     "name": "stdout",
     "output_type": "stream",
     "text": [
      "train test\n",
      "tensor(0.2133, dtype=torch.float64, grad_fn=<NllLossBackward0>)\n",
      "tensor(14.7441, dtype=torch.float64, grad_fn=<NllLossBackward0>)\n",
      "----------\n"
     ]
    },
    {
     "name": "stderr",
     "output_type": "stream",
     "text": [
      " 51%|█████████████████▍                | 5141/10000 [1:13:05<1:06:16,  1.22it/s]"
     ]
    },
    {
     "name": "stdout",
     "output_type": "stream",
     "text": [
      "train test\n",
      "tensor(0.2132, dtype=torch.float64, grad_fn=<NllLossBackward0>)\n",
      "tensor(14.7492, dtype=torch.float64, grad_fn=<NllLossBackward0>)\n",
      "----------\n"
     ]
    },
    {
     "name": "stderr",
     "output_type": "stream",
     "text": [
      " 52%|█████████████████▌                | 5151/10000 [1:13:13<1:07:03,  1.21it/s]"
     ]
    },
    {
     "name": "stdout",
     "output_type": "stream",
     "text": [
      "train test\n",
      "tensor(0.2136, dtype=torch.float64, grad_fn=<NllLossBackward0>)\n",
      "tensor(14.7357, dtype=torch.float64, grad_fn=<NllLossBackward0>)\n",
      "----------\n"
     ]
    },
    {
     "name": "stderr",
     "output_type": "stream",
     "text": [
      " 52%|█████████████████▌                | 5161/10000 [1:13:21<1:05:59,  1.22it/s]"
     ]
    },
    {
     "name": "stdout",
     "output_type": "stream",
     "text": [
      "train test\n",
      "tensor(0.2138, dtype=torch.float64, grad_fn=<NllLossBackward0>)\n",
      "tensor(14.7235, dtype=torch.float64, grad_fn=<NllLossBackward0>)\n",
      "----------\n"
     ]
    },
    {
     "name": "stderr",
     "output_type": "stream",
     "text": [
      " 52%|█████████████████▌                | 5171/10000 [1:13:30<1:06:39,  1.21it/s]"
     ]
    },
    {
     "name": "stdout",
     "output_type": "stream",
     "text": [
      "train test\n",
      "tensor(0.2139, dtype=torch.float64, grad_fn=<NllLossBackward0>)\n",
      "tensor(14.7207, dtype=torch.float64, grad_fn=<NllLossBackward0>)\n",
      "----------\n"
     ]
    },
    {
     "name": "stderr",
     "output_type": "stream",
     "text": [
      " 52%|█████████████████▌                | 5181/10000 [1:13:38<1:05:30,  1.23it/s]"
     ]
    },
    {
     "name": "stdout",
     "output_type": "stream",
     "text": [
      "train test\n",
      "tensor(0.2138, dtype=torch.float64, grad_fn=<NllLossBackward0>)\n",
      "tensor(14.7236, dtype=torch.float64, grad_fn=<NllLossBackward0>)\n",
      "----------\n"
     ]
    },
    {
     "name": "stderr",
     "output_type": "stream",
     "text": [
      " 52%|█████████████████▋                | 5191/10000 [1:13:46<1:07:28,  1.19it/s]"
     ]
    },
    {
     "name": "stdout",
     "output_type": "stream",
     "text": [
      "train test\n",
      "tensor(0.2140, dtype=torch.float64, grad_fn=<NllLossBackward0>)\n",
      "tensor(14.7153, dtype=torch.float64, grad_fn=<NllLossBackward0>)\n",
      "----------\n"
     ]
    },
    {
     "name": "stderr",
     "output_type": "stream",
     "text": [
      " 52%|█████████████████▋                | 5201/10000 [1:13:54<1:04:59,  1.23it/s]"
     ]
    },
    {
     "name": "stdout",
     "output_type": "stream",
     "text": [
      "train test\n",
      "tensor(0.2142, dtype=torch.float64, grad_fn=<NllLossBackward0>)\n",
      "tensor(14.7111, dtype=torch.float64, grad_fn=<NllLossBackward0>)\n",
      "----------\n"
     ]
    },
    {
     "name": "stderr",
     "output_type": "stream",
     "text": [
      " 52%|█████████████████▋                | 5211/10000 [1:14:03<1:06:50,  1.19it/s]"
     ]
    },
    {
     "name": "stdout",
     "output_type": "stream",
     "text": [
      "train test\n",
      "tensor(0.2142, dtype=torch.float64, grad_fn=<NllLossBackward0>)\n",
      "tensor(14.7124, dtype=torch.float64, grad_fn=<NllLossBackward0>)\n",
      "----------\n"
     ]
    },
    {
     "name": "stderr",
     "output_type": "stream",
     "text": [
      " 52%|█████████████████▊                | 5221/10000 [1:14:11<1:04:37,  1.23it/s]"
     ]
    },
    {
     "name": "stdout",
     "output_type": "stream",
     "text": [
      "train test\n",
      "tensor(0.2143, dtype=torch.float64, grad_fn=<NllLossBackward0>)\n",
      "tensor(14.7075, dtype=torch.float64, grad_fn=<NllLossBackward0>)\n",
      "----------\n"
     ]
    },
    {
     "name": "stderr",
     "output_type": "stream",
     "text": [
      " 52%|█████████████████▊                | 5231/10000 [1:14:19<1:05:57,  1.21it/s]"
     ]
    },
    {
     "name": "stdout",
     "output_type": "stream",
     "text": [
      "train test\n",
      "tensor(0.2143, dtype=torch.float64, grad_fn=<NllLossBackward0>)\n",
      "tensor(14.7062, dtype=torch.float64, grad_fn=<NllLossBackward0>)\n",
      "----------\n"
     ]
    },
    {
     "name": "stderr",
     "output_type": "stream",
     "text": [
      " 52%|█████████████████▊                | 5241/10000 [1:14:27<1:06:15,  1.20it/s]"
     ]
    },
    {
     "name": "stdout",
     "output_type": "stream",
     "text": [
      "train test\n",
      "tensor(0.2141, dtype=torch.float64, grad_fn=<NllLossBackward0>)\n",
      "tensor(14.7124, dtype=torch.float64, grad_fn=<NllLossBackward0>)\n",
      "----------\n"
     ]
    },
    {
     "name": "stderr",
     "output_type": "stream",
     "text": [
      " 53%|█████████████████▊                | 5251/10000 [1:14:35<1:04:28,  1.23it/s]"
     ]
    },
    {
     "name": "stdout",
     "output_type": "stream",
     "text": [
      "train test\n",
      "tensor(0.2139, dtype=torch.float64, grad_fn=<NllLossBackward0>)\n",
      "tensor(14.7172, dtype=torch.float64, grad_fn=<NllLossBackward0>)\n",
      "----------\n"
     ]
    },
    {
     "name": "stderr",
     "output_type": "stream",
     "text": [
      " 53%|█████████████████▉                | 5261/10000 [1:14:44<1:06:49,  1.18it/s]"
     ]
    },
    {
     "name": "stdout",
     "output_type": "stream",
     "text": [
      "train test\n",
      "tensor(0.2138, dtype=torch.float64, grad_fn=<NllLossBackward0>)\n",
      "tensor(14.7214, dtype=torch.float64, grad_fn=<NllLossBackward0>)\n",
      "----------\n"
     ]
    },
    {
     "name": "stderr",
     "output_type": "stream",
     "text": [
      " 53%|█████████████████▉                | 5271/10000 [1:14:52<1:04:34,  1.22it/s]"
     ]
    },
    {
     "name": "stdout",
     "output_type": "stream",
     "text": [
      "train test\n",
      "tensor(0.2138, dtype=torch.float64, grad_fn=<NllLossBackward0>)\n",
      "tensor(14.7216, dtype=torch.float64, grad_fn=<NllLossBackward0>)\n",
      "----------\n"
     ]
    },
    {
     "name": "stderr",
     "output_type": "stream",
     "text": [
      " 53%|█████████████████▉                | 5281/10000 [1:15:00<1:06:30,  1.18it/s]"
     ]
    },
    {
     "name": "stdout",
     "output_type": "stream",
     "text": [
      "train test\n",
      "tensor(0.2137, dtype=torch.float64, grad_fn=<NllLossBackward0>)\n",
      "tensor(14.7267, dtype=torch.float64, grad_fn=<NllLossBackward0>)\n",
      "----------\n"
     ]
    },
    {
     "name": "stderr",
     "output_type": "stream",
     "text": [
      " 53%|█████████████████▉                | 5291/10000 [1:15:09<1:03:49,  1.23it/s]"
     ]
    },
    {
     "name": "stdout",
     "output_type": "stream",
     "text": [
      "train test\n",
      "tensor(0.2135, dtype=torch.float64, grad_fn=<NllLossBackward0>)\n",
      "tensor(14.7307, dtype=torch.float64, grad_fn=<NllLossBackward0>)\n",
      "----------\n"
     ]
    },
    {
     "name": "stderr",
     "output_type": "stream",
     "text": [
      " 53%|██████████████████                | 5301/10000 [1:15:17<1:06:05,  1.18it/s]"
     ]
    },
    {
     "name": "stdout",
     "output_type": "stream",
     "text": [
      "train test\n",
      "tensor(0.2135, dtype=torch.float64, grad_fn=<NllLossBackward0>)\n",
      "tensor(14.7313, dtype=torch.float64, grad_fn=<NllLossBackward0>)\n",
      "----------\n"
     ]
    },
    {
     "name": "stderr",
     "output_type": "stream",
     "text": [
      " 53%|██████████████████                | 5311/10000 [1:15:25<1:04:06,  1.22it/s]"
     ]
    },
    {
     "name": "stdout",
     "output_type": "stream",
     "text": [
      "train test\n",
      "tensor(0.2133, dtype=torch.float64, grad_fn=<NllLossBackward0>)\n",
      "tensor(14.7366, dtype=torch.float64, grad_fn=<NllLossBackward0>)\n",
      "----------\n"
     ]
    },
    {
     "name": "stderr",
     "output_type": "stream",
     "text": [
      " 53%|██████████████████                | 5321/10000 [1:15:33<1:06:09,  1.18it/s]"
     ]
    },
    {
     "name": "stdout",
     "output_type": "stream",
     "text": [
      "train test\n",
      "tensor(0.2131, dtype=torch.float64, grad_fn=<NllLossBackward0>)\n",
      "tensor(14.7460, dtype=torch.float64, grad_fn=<NllLossBackward0>)\n",
      "----------\n"
     ]
    },
    {
     "name": "stderr",
     "output_type": "stream",
     "text": [
      " 53%|██████████████████▏               | 5331/10000 [1:15:42<1:04:04,  1.21it/s]"
     ]
    },
    {
     "name": "stdout",
     "output_type": "stream",
     "text": [
      "train test\n",
      "tensor(0.2131, dtype=torch.float64, grad_fn=<NllLossBackward0>)\n",
      "tensor(14.7438, dtype=torch.float64, grad_fn=<NllLossBackward0>)\n",
      "----------\n"
     ]
    },
    {
     "name": "stderr",
     "output_type": "stream",
     "text": [
      " 53%|██████████████████▏               | 5341/10000 [1:15:50<1:04:37,  1.20it/s]"
     ]
    },
    {
     "name": "stdout",
     "output_type": "stream",
     "text": [
      "train test\n",
      "tensor(0.2132, dtype=torch.float64, grad_fn=<NllLossBackward0>)\n",
      "tensor(14.7370, dtype=torch.float64, grad_fn=<NllLossBackward0>)\n",
      "----------\n"
     ]
    },
    {
     "name": "stderr",
     "output_type": "stream",
     "text": [
      " 54%|██████████████████▏               | 5351/10000 [1:15:58<1:03:16,  1.22it/s]"
     ]
    },
    {
     "name": "stdout",
     "output_type": "stream",
     "text": [
      "train test\n",
      "tensor(0.2133, dtype=torch.float64, grad_fn=<NllLossBackward0>)\n",
      "tensor(14.7366, dtype=torch.float64, grad_fn=<NllLossBackward0>)\n",
      "----------\n"
     ]
    },
    {
     "name": "stderr",
     "output_type": "stream",
     "text": [
      " 54%|██████████████████▏               | 5361/10000 [1:16:06<1:02:33,  1.24it/s]"
     ]
    },
    {
     "name": "stdout",
     "output_type": "stream",
     "text": [
      "train test\n",
      "tensor(0.2132, dtype=torch.float64, grad_fn=<NllLossBackward0>)\n",
      "tensor(14.7389, dtype=torch.float64, grad_fn=<NllLossBackward0>)\n",
      "----------\n"
     ]
    },
    {
     "name": "stderr",
     "output_type": "stream",
     "text": [
      " 54%|██████████████████▎               | 5371/10000 [1:16:14<1:03:37,  1.21it/s]"
     ]
    },
    {
     "name": "stdout",
     "output_type": "stream",
     "text": [
      "train test\n",
      "tensor(0.2132, dtype=torch.float64, grad_fn=<NllLossBackward0>)\n",
      "tensor(14.7400, dtype=torch.float64, grad_fn=<NllLossBackward0>)\n",
      "----------\n"
     ]
    },
    {
     "name": "stderr",
     "output_type": "stream",
     "text": [
      " 54%|██████████████████▎               | 5381/10000 [1:16:23<1:02:54,  1.22it/s]"
     ]
    },
    {
     "name": "stdout",
     "output_type": "stream",
     "text": [
      "train test\n",
      "tensor(0.2130, dtype=torch.float64, grad_fn=<NllLossBackward0>)\n",
      "tensor(14.7479, dtype=torch.float64, grad_fn=<NllLossBackward0>)\n",
      "----------\n"
     ]
    },
    {
     "name": "stderr",
     "output_type": "stream",
     "text": [
      " 54%|██████████████████▎               | 5391/10000 [1:16:31<1:03:10,  1.22it/s]"
     ]
    },
    {
     "name": "stdout",
     "output_type": "stream",
     "text": [
      "train test\n",
      "tensor(0.2129, dtype=torch.float64, grad_fn=<NllLossBackward0>)\n",
      "tensor(14.7505, dtype=torch.float64, grad_fn=<NllLossBackward0>)\n",
      "----------\n"
     ]
    },
    {
     "name": "stderr",
     "output_type": "stream",
     "text": [
      " 54%|██████████████████▎               | 5401/10000 [1:16:39<1:02:52,  1.22it/s]"
     ]
    },
    {
     "name": "stdout",
     "output_type": "stream",
     "text": [
      "train test\n",
      "tensor(0.2128, dtype=torch.float64, grad_fn=<NllLossBackward0>)\n",
      "tensor(14.7524, dtype=torch.float64, grad_fn=<NllLossBackward0>)\n",
      "----------\n"
     ]
    },
    {
     "name": "stderr",
     "output_type": "stream",
     "text": [
      " 54%|██████████████████▍               | 5411/10000 [1:16:47<1:02:23,  1.23it/s]"
     ]
    },
    {
     "name": "stdout",
     "output_type": "stream",
     "text": [
      "train test\n",
      "tensor(0.2129, dtype=torch.float64, grad_fn=<NllLossBackward0>)\n",
      "tensor(14.7508, dtype=torch.float64, grad_fn=<NllLossBackward0>)\n",
      "----------\n"
     ]
    },
    {
     "name": "stderr",
     "output_type": "stream",
     "text": [
      " 54%|██████████████████▍               | 5421/10000 [1:16:56<1:02:22,  1.22it/s]"
     ]
    },
    {
     "name": "stdout",
     "output_type": "stream",
     "text": [
      "train test\n",
      "tensor(0.2132, dtype=torch.float64, grad_fn=<NllLossBackward0>)\n",
      "tensor(14.7376, dtype=torch.float64, grad_fn=<NllLossBackward0>)\n",
      "----------\n"
     ]
    },
    {
     "name": "stderr",
     "output_type": "stream",
     "text": [
      " 54%|██████████████████▍               | 5431/10000 [1:17:04<1:02:51,  1.21it/s]"
     ]
    },
    {
     "name": "stdout",
     "output_type": "stream",
     "text": [
      "train test\n",
      "tensor(0.2135, dtype=torch.float64, grad_fn=<NllLossBackward0>)\n",
      "tensor(14.7292, dtype=torch.float64, grad_fn=<NllLossBackward0>)\n",
      "----------\n"
     ]
    },
    {
     "name": "stderr",
     "output_type": "stream",
     "text": [
      " 54%|██████████████████▍               | 5441/10000 [1:17:12<1:01:50,  1.23it/s]"
     ]
    },
    {
     "name": "stdout",
     "output_type": "stream",
     "text": [
      "train test\n",
      "tensor(0.2135, dtype=torch.float64, grad_fn=<NllLossBackward0>)\n",
      "tensor(14.7301, dtype=torch.float64, grad_fn=<NllLossBackward0>)\n",
      "----------\n"
     ]
    },
    {
     "name": "stderr",
     "output_type": "stream",
     "text": [
      " 55%|██████████████████▌               | 5451/10000 [1:17:20<1:02:52,  1.21it/s]"
     ]
    },
    {
     "name": "stdout",
     "output_type": "stream",
     "text": [
      "train test\n",
      "tensor(0.2134, dtype=torch.float64, grad_fn=<NllLossBackward0>)\n",
      "tensor(14.7339, dtype=torch.float64, grad_fn=<NllLossBackward0>)\n",
      "----------\n"
     ]
    },
    {
     "name": "stderr",
     "output_type": "stream",
     "text": [
      " 55%|██████████████████▌               | 5461/10000 [1:17:28<1:01:00,  1.24it/s]"
     ]
    },
    {
     "name": "stdout",
     "output_type": "stream",
     "text": [
      "train test\n",
      "tensor(0.2134, dtype=torch.float64, grad_fn=<NllLossBackward0>)\n",
      "tensor(14.7324, dtype=torch.float64, grad_fn=<NllLossBackward0>)\n",
      "----------\n"
     ]
    },
    {
     "name": "stderr",
     "output_type": "stream",
     "text": [
      " 55%|██████████████████▌               | 5471/10000 [1:17:37<1:02:31,  1.21it/s]"
     ]
    },
    {
     "name": "stdout",
     "output_type": "stream",
     "text": [
      "train test\n",
      "tensor(0.2132, dtype=torch.float64, grad_fn=<NllLossBackward0>)\n",
      "tensor(14.7374, dtype=torch.float64, grad_fn=<NllLossBackward0>)\n",
      "----------\n"
     ]
    },
    {
     "name": "stderr",
     "output_type": "stream",
     "text": [
      " 55%|██████████████████▋               | 5481/10000 [1:17:45<1:01:17,  1.23it/s]"
     ]
    },
    {
     "name": "stdout",
     "output_type": "stream",
     "text": [
      "train test\n",
      "tensor(0.2131, dtype=torch.float64, grad_fn=<NllLossBackward0>)\n",
      "tensor(14.7415, dtype=torch.float64, grad_fn=<NllLossBackward0>)\n",
      "----------\n"
     ]
    },
    {
     "name": "stderr",
     "output_type": "stream",
     "text": [
      " 55%|██████████████████▋               | 5491/10000 [1:17:53<1:01:22,  1.22it/s]"
     ]
    },
    {
     "name": "stdout",
     "output_type": "stream",
     "text": [
      "train test\n",
      "tensor(0.2131, dtype=torch.float64, grad_fn=<NllLossBackward0>)\n",
      "tensor(14.7439, dtype=torch.float64, grad_fn=<NllLossBackward0>)\n",
      "----------\n"
     ]
    },
    {
     "name": "stderr",
     "output_type": "stream",
     "text": [
      " 55%|██████████████████▋               | 5501/10000 [1:18:01<1:02:24,  1.20it/s]"
     ]
    },
    {
     "name": "stdout",
     "output_type": "stream",
     "text": [
      "train test\n",
      "tensor(0.2130, dtype=torch.float64, grad_fn=<NllLossBackward0>)\n",
      "tensor(14.7474, dtype=torch.float64, grad_fn=<NllLossBackward0>)\n",
      "----------\n"
     ]
    },
    {
     "name": "stderr",
     "output_type": "stream",
     "text": [
      " 55%|██████████████████▋               | 5511/10000 [1:18:10<1:00:28,  1.24it/s]"
     ]
    },
    {
     "name": "stdout",
     "output_type": "stream",
     "text": [
      "train test\n",
      "tensor(0.2128, dtype=torch.float64, grad_fn=<NllLossBackward0>)\n",
      "tensor(14.7547, dtype=torch.float64, grad_fn=<NllLossBackward0>)\n",
      "----------\n"
     ]
    },
    {
     "name": "stderr",
     "output_type": "stream",
     "text": [
      " 55%|██████████████████▊               | 5521/10000 [1:18:18<1:01:38,  1.21it/s]"
     ]
    },
    {
     "name": "stdout",
     "output_type": "stream",
     "text": [
      "train test\n",
      "tensor(0.2127, dtype=torch.float64, grad_fn=<NllLossBackward0>)\n",
      "tensor(14.7563, dtype=torch.float64, grad_fn=<NllLossBackward0>)\n",
      "----------\n"
     ]
    },
    {
     "name": "stderr",
     "output_type": "stream",
     "text": [
      " 55%|██████████████████▊               | 5531/10000 [1:18:26<1:00:36,  1.23it/s]"
     ]
    },
    {
     "name": "stdout",
     "output_type": "stream",
     "text": [
      "train test\n",
      "tensor(0.2130, dtype=torch.float64, grad_fn=<NllLossBackward0>)\n",
      "tensor(14.7439, dtype=torch.float64, grad_fn=<NllLossBackward0>)\n",
      "----------\n"
     ]
    },
    {
     "name": "stderr",
     "output_type": "stream",
     "text": [
      " 55%|██████████████████▊               | 5541/10000 [1:18:34<1:02:11,  1.19it/s]"
     ]
    },
    {
     "name": "stdout",
     "output_type": "stream",
     "text": [
      "train test\n",
      "tensor(0.2132, dtype=torch.float64, grad_fn=<NllLossBackward0>)\n",
      "tensor(14.7367, dtype=torch.float64, grad_fn=<NllLossBackward0>)\n",
      "----------\n"
     ]
    },
    {
     "name": "stderr",
     "output_type": "stream",
     "text": [
      " 56%|███████████████████▉                | 5551/10000 [1:18:42<59:52,  1.24it/s]"
     ]
    },
    {
     "name": "stdout",
     "output_type": "stream",
     "text": [
      "train test\n",
      "tensor(0.2132, dtype=torch.float64, grad_fn=<NllLossBackward0>)\n",
      "tensor(14.7390, dtype=torch.float64, grad_fn=<NllLossBackward0>)\n",
      "----------\n"
     ]
    },
    {
     "name": "stderr",
     "output_type": "stream",
     "text": [
      " 56%|██████████████████▉               | 5561/10000 [1:18:51<1:00:55,  1.21it/s]"
     ]
    },
    {
     "name": "stdout",
     "output_type": "stream",
     "text": [
      "train test\n",
      "tensor(0.2131, dtype=torch.float64, grad_fn=<NllLossBackward0>)\n",
      "tensor(14.7431, dtype=torch.float64, grad_fn=<NllLossBackward0>)\n",
      "----------\n"
     ]
    },
    {
     "name": "stderr",
     "output_type": "stream",
     "text": [
      " 56%|██████████████████▉               | 5571/10000 [1:18:59<1:00:11,  1.23it/s]"
     ]
    },
    {
     "name": "stdout",
     "output_type": "stream",
     "text": [
      "train test\n",
      "tensor(0.2129, dtype=torch.float64, grad_fn=<NllLossBackward0>)\n",
      "tensor(14.7479, dtype=torch.float64, grad_fn=<NllLossBackward0>)\n",
      "----------\n"
     ]
    },
    {
     "name": "stderr",
     "output_type": "stream",
     "text": [
      " 56%|██████████████████▉               | 5581/10000 [1:19:07<1:00:26,  1.22it/s]"
     ]
    },
    {
     "name": "stdout",
     "output_type": "stream",
     "text": [
      "train test\n",
      "tensor(0.2128, dtype=torch.float64, grad_fn=<NllLossBackward0>)\n",
      "tensor(14.7518, dtype=torch.float64, grad_fn=<NllLossBackward0>)\n",
      "----------\n"
     ]
    },
    {
     "name": "stderr",
     "output_type": "stream",
     "text": [
      " 56%|███████████████████               | 5591/10000 [1:19:15<1:00:16,  1.22it/s]"
     ]
    },
    {
     "name": "stdout",
     "output_type": "stream",
     "text": [
      "train test\n",
      "tensor(0.2127, dtype=torch.float64, grad_fn=<NllLossBackward0>)\n",
      "tensor(14.7565, dtype=torch.float64, grad_fn=<NllLossBackward0>)\n",
      "----------\n"
     ]
    },
    {
     "name": "stderr",
     "output_type": "stream",
     "text": [
      " 56%|███████████████████               | 5601/10000 [1:19:24<1:00:08,  1.22it/s]"
     ]
    },
    {
     "name": "stdout",
     "output_type": "stream",
     "text": [
      "train test\n",
      "tensor(0.2125, dtype=torch.float64, grad_fn=<NllLossBackward0>)\n",
      "tensor(14.7628, dtype=torch.float64, grad_fn=<NllLossBackward0>)\n",
      "----------\n"
     ]
    },
    {
     "name": "stderr",
     "output_type": "stream",
     "text": [
      " 56%|███████████████████               | 5611/10000 [1:19:32<1:00:43,  1.20it/s]"
     ]
    },
    {
     "name": "stdout",
     "output_type": "stream",
     "text": [
      "train test\n",
      "tensor(0.2126, dtype=torch.float64, grad_fn=<NllLossBackward0>)\n",
      "tensor(14.7600, dtype=torch.float64, grad_fn=<NllLossBackward0>)\n",
      "----------\n"
     ]
    },
    {
     "name": "stderr",
     "output_type": "stream",
     "text": [
      " 56%|████████████████████▏               | 5621/10000 [1:19:40<59:07,  1.23it/s]"
     ]
    },
    {
     "name": "stdout",
     "output_type": "stream",
     "text": [
      "train test\n",
      "tensor(0.2126, dtype=torch.float64, grad_fn=<NllLossBackward0>)\n",
      "tensor(14.7573, dtype=torch.float64, grad_fn=<NllLossBackward0>)\n",
      "----------\n"
     ]
    },
    {
     "name": "stderr",
     "output_type": "stream",
     "text": [
      " 56%|███████████████████▏              | 5631/10000 [1:19:48<1:00:50,  1.20it/s]"
     ]
    },
    {
     "name": "stdout",
     "output_type": "stream",
     "text": [
      "train test\n",
      "tensor(0.2126, dtype=torch.float64, grad_fn=<NllLossBackward0>)\n",
      "tensor(14.7561, dtype=torch.float64, grad_fn=<NllLossBackward0>)\n",
      "----------\n"
     ]
    },
    {
     "name": "stderr",
     "output_type": "stream",
     "text": [
      " 56%|████████████████████▎               | 5641/10000 [1:19:57<59:49,  1.21it/s]"
     ]
    },
    {
     "name": "stdout",
     "output_type": "stream",
     "text": [
      "train test\n",
      "tensor(0.2125, dtype=torch.float64, grad_fn=<NllLossBackward0>)\n",
      "tensor(14.7587, dtype=torch.float64, grad_fn=<NllLossBackward0>)\n",
      "----------\n"
     ]
    },
    {
     "name": "stderr",
     "output_type": "stream",
     "text": [
      " 57%|███████████████████▏              | 5651/10000 [1:20:05<1:00:09,  1.20it/s]"
     ]
    },
    {
     "name": "stdout",
     "output_type": "stream",
     "text": [
      "train test\n",
      "tensor(0.2123, dtype=torch.float64, grad_fn=<NllLossBackward0>)\n",
      "tensor(14.7672, dtype=torch.float64, grad_fn=<NllLossBackward0>)\n",
      "----------\n"
     ]
    },
    {
     "name": "stderr",
     "output_type": "stream",
     "text": [
      " 57%|████████████████████▍               | 5661/10000 [1:20:13<58:24,  1.24it/s]"
     ]
    },
    {
     "name": "stdout",
     "output_type": "stream",
     "text": [
      "train test\n",
      "tensor(0.2122, dtype=torch.float64, grad_fn=<NllLossBackward0>)\n",
      "tensor(14.7712, dtype=torch.float64, grad_fn=<NllLossBackward0>)\n",
      "----------\n"
     ]
    },
    {
     "name": "stderr",
     "output_type": "stream",
     "text": [
      " 57%|███████████████████▎              | 5671/10000 [1:20:21<1:00:34,  1.19it/s]"
     ]
    },
    {
     "name": "stdout",
     "output_type": "stream",
     "text": [
      "train test\n",
      "tensor(0.2123, dtype=torch.float64, grad_fn=<NllLossBackward0>)\n",
      "tensor(14.7673, dtype=torch.float64, grad_fn=<NllLossBackward0>)\n",
      "----------\n"
     ]
    },
    {
     "name": "stderr",
     "output_type": "stream",
     "text": [
      " 57%|████████████████████▍               | 5681/10000 [1:20:29<57:49,  1.24it/s]"
     ]
    },
    {
     "name": "stdout",
     "output_type": "stream",
     "text": [
      "train test\n",
      "tensor(0.2123, dtype=torch.float64, grad_fn=<NllLossBackward0>)\n",
      "tensor(14.7670, dtype=torch.float64, grad_fn=<NllLossBackward0>)\n",
      "----------\n"
     ]
    },
    {
     "name": "stderr",
     "output_type": "stream",
     "text": [
      " 57%|████████████████████▍               | 5691/10000 [1:20:38<59:52,  1.20it/s]"
     ]
    },
    {
     "name": "stdout",
     "output_type": "stream",
     "text": [
      "train test\n",
      "tensor(0.2124, dtype=torch.float64, grad_fn=<NllLossBackward0>)\n",
      "tensor(14.7649, dtype=torch.float64, grad_fn=<NllLossBackward0>)\n",
      "----------\n"
     ]
    },
    {
     "name": "stderr",
     "output_type": "stream",
     "text": [
      " 57%|████████████████████▌               | 5701/10000 [1:20:46<58:09,  1.23it/s]"
     ]
    },
    {
     "name": "stdout",
     "output_type": "stream",
     "text": [
      "train test\n",
      "tensor(0.2123, dtype=torch.float64, grad_fn=<NllLossBackward0>)\n",
      "tensor(14.7658, dtype=torch.float64, grad_fn=<NllLossBackward0>)\n",
      "----------\n"
     ]
    },
    {
     "name": "stderr",
     "output_type": "stream",
     "text": [
      " 57%|███████████████████▍              | 5711/10000 [1:20:54<1:00:21,  1.18it/s]"
     ]
    },
    {
     "name": "stdout",
     "output_type": "stream",
     "text": [
      "train test\n",
      "tensor(0.2122, dtype=torch.float64, grad_fn=<NllLossBackward0>)\n",
      "tensor(14.7740, dtype=torch.float64, grad_fn=<NllLossBackward0>)\n",
      "----------\n"
     ]
    },
    {
     "name": "stderr",
     "output_type": "stream",
     "text": [
      " 57%|████████████████████▌               | 5721/10000 [1:21:02<58:53,  1.21it/s]"
     ]
    },
    {
     "name": "stdout",
     "output_type": "stream",
     "text": [
      "train test\n",
      "tensor(0.2122, dtype=torch.float64, grad_fn=<NllLossBackward0>)\n",
      "tensor(14.7706, dtype=torch.float64, grad_fn=<NllLossBackward0>)\n",
      "----------\n"
     ]
    },
    {
     "name": "stderr",
     "output_type": "stream",
     "text": [
      " 57%|████████████████████▋               | 5731/10000 [1:21:11<59:26,  1.20it/s]"
     ]
    },
    {
     "name": "stdout",
     "output_type": "stream",
     "text": [
      "train test\n",
      "tensor(0.2123, dtype=torch.float64, grad_fn=<NllLossBackward0>)\n",
      "tensor(14.7645, dtype=torch.float64, grad_fn=<NllLossBackward0>)\n",
      "----------\n"
     ]
    },
    {
     "name": "stderr",
     "output_type": "stream",
     "text": [
      " 57%|████████████████████▋               | 5741/10000 [1:21:19<58:39,  1.21it/s]"
     ]
    },
    {
     "name": "stdout",
     "output_type": "stream",
     "text": [
      "train test\n",
      "tensor(0.2123, dtype=torch.float64, grad_fn=<NllLossBackward0>)\n",
      "tensor(14.7647, dtype=torch.float64, grad_fn=<NllLossBackward0>)\n",
      "----------\n"
     ]
    },
    {
     "name": "stderr",
     "output_type": "stream",
     "text": [
      " 58%|████████████████████▋               | 5751/10000 [1:21:27<58:17,  1.21it/s]"
     ]
    },
    {
     "name": "stdout",
     "output_type": "stream",
     "text": [
      "train test\n",
      "tensor(0.2123, dtype=torch.float64, grad_fn=<NllLossBackward0>)\n",
      "tensor(14.7685, dtype=torch.float64, grad_fn=<NllLossBackward0>)\n",
      "----------\n"
     ]
    },
    {
     "name": "stderr",
     "output_type": "stream",
     "text": [
      " 58%|████████████████████▋               | 5761/10000 [1:21:35<58:54,  1.20it/s]"
     ]
    },
    {
     "name": "stdout",
     "output_type": "stream",
     "text": [
      "train test\n",
      "tensor(0.2124, dtype=torch.float64, grad_fn=<NllLossBackward0>)\n",
      "tensor(14.7659, dtype=torch.float64, grad_fn=<NllLossBackward0>)\n",
      "----------\n"
     ]
    },
    {
     "name": "stderr",
     "output_type": "stream",
     "text": [
      " 58%|████████████████████▊               | 5771/10000 [1:21:44<57:22,  1.23it/s]"
     ]
    },
    {
     "name": "stdout",
     "output_type": "stream",
     "text": [
      "train test\n",
      "tensor(0.2124, dtype=torch.float64, grad_fn=<NllLossBackward0>)\n",
      "tensor(14.7669, dtype=torch.float64, grad_fn=<NllLossBackward0>)\n",
      "----------\n"
     ]
    },
    {
     "name": "stderr",
     "output_type": "stream",
     "text": [
      " 58%|████████████████████▊               | 5781/10000 [1:21:52<58:41,  1.20it/s]"
     ]
    },
    {
     "name": "stdout",
     "output_type": "stream",
     "text": [
      "train test\n",
      "tensor(0.2123, dtype=torch.float64, grad_fn=<NllLossBackward0>)\n",
      "tensor(14.7679, dtype=torch.float64, grad_fn=<NllLossBackward0>)\n",
      "----------\n"
     ]
    },
    {
     "name": "stderr",
     "output_type": "stream",
     "text": [
      " 58%|████████████████████▊               | 5791/10000 [1:22:00<57:24,  1.22it/s]"
     ]
    },
    {
     "name": "stdout",
     "output_type": "stream",
     "text": [
      "train test\n",
      "tensor(0.2125, dtype=torch.float64, grad_fn=<NllLossBackward0>)\n",
      "tensor(14.7592, dtype=torch.float64, grad_fn=<NllLossBackward0>)\n",
      "----------\n"
     ]
    },
    {
     "name": "stderr",
     "output_type": "stream",
     "text": [
      " 58%|████████████████████▉               | 5801/10000 [1:22:08<57:35,  1.22it/s]"
     ]
    },
    {
     "name": "stdout",
     "output_type": "stream",
     "text": [
      "train test\n",
      "tensor(0.2127, dtype=torch.float64, grad_fn=<NllLossBackward0>)\n",
      "tensor(14.7569, dtype=torch.float64, grad_fn=<NllLossBackward0>)\n",
      "----------\n"
     ]
    },
    {
     "name": "stderr",
     "output_type": "stream",
     "text": [
      " 58%|████████████████████▉               | 5811/10000 [1:22:16<56:35,  1.23it/s]"
     ]
    },
    {
     "name": "stdout",
     "output_type": "stream",
     "text": [
      "train test\n",
      "tensor(0.2127, dtype=torch.float64, grad_fn=<NllLossBackward0>)\n",
      "tensor(14.7558, dtype=torch.float64, grad_fn=<NllLossBackward0>)\n",
      "----------\n"
     ]
    },
    {
     "name": "stderr",
     "output_type": "stream",
     "text": [
      " 58%|████████████████████▉               | 5821/10000 [1:22:25<57:54,  1.20it/s]"
     ]
    },
    {
     "name": "stdout",
     "output_type": "stream",
     "text": [
      "train test\n",
      "tensor(0.2126, dtype=torch.float64, grad_fn=<NllLossBackward0>)\n",
      "tensor(14.7587, dtype=torch.float64, grad_fn=<NllLossBackward0>)\n",
      "----------\n"
     ]
    },
    {
     "name": "stderr",
     "output_type": "stream",
     "text": [
      " 58%|████████████████████▉               | 5831/10000 [1:22:33<56:40,  1.23it/s]"
     ]
    },
    {
     "name": "stdout",
     "output_type": "stream",
     "text": [
      "train test\n",
      "tensor(0.2124, dtype=torch.float64, grad_fn=<NllLossBackward0>)\n",
      "tensor(14.7675, dtype=torch.float64, grad_fn=<NllLossBackward0>)\n",
      "----------\n"
     ]
    },
    {
     "name": "stderr",
     "output_type": "stream",
     "text": [
      " 58%|█████████████████████               | 5841/10000 [1:22:41<57:22,  1.21it/s]"
     ]
    },
    {
     "name": "stdout",
     "output_type": "stream",
     "text": [
      "train test\n",
      "tensor(0.2122, dtype=torch.float64, grad_fn=<NllLossBackward0>)\n",
      "tensor(14.7736, dtype=torch.float64, grad_fn=<NllLossBackward0>)\n",
      "----------\n"
     ]
    },
    {
     "name": "stderr",
     "output_type": "stream",
     "text": [
      " 59%|█████████████████████               | 5851/10000 [1:22:49<55:46,  1.24it/s]"
     ]
    },
    {
     "name": "stdout",
     "output_type": "stream",
     "text": [
      "train test\n",
      "tensor(0.2125, dtype=torch.float64, grad_fn=<NllLossBackward0>)\n",
      "tensor(14.7646, dtype=torch.float64, grad_fn=<NllLossBackward0>)\n",
      "----------\n"
     ]
    },
    {
     "name": "stderr",
     "output_type": "stream",
     "text": [
      " 59%|█████████████████████               | 5861/10000 [1:22:58<56:53,  1.21it/s]"
     ]
    },
    {
     "name": "stdout",
     "output_type": "stream",
     "text": [
      "train test\n",
      "tensor(0.2129, dtype=torch.float64, grad_fn=<NllLossBackward0>)\n",
      "tensor(14.7492, dtype=torch.float64, grad_fn=<NllLossBackward0>)\n",
      "----------\n"
     ]
    },
    {
     "name": "stderr",
     "output_type": "stream",
     "text": [
      " 59%|█████████████████████▏              | 5871/10000 [1:23:06<56:15,  1.22it/s]"
     ]
    },
    {
     "name": "stdout",
     "output_type": "stream",
     "text": [
      "train test\n",
      "tensor(0.2131, dtype=torch.float64, grad_fn=<NllLossBackward0>)\n",
      "tensor(14.7376, dtype=torch.float64, grad_fn=<NllLossBackward0>)\n",
      "----------\n"
     ]
    },
    {
     "name": "stderr",
     "output_type": "stream",
     "text": [
      " 59%|█████████████████████▏              | 5881/10000 [1:23:14<57:01,  1.20it/s]"
     ]
    },
    {
     "name": "stdout",
     "output_type": "stream",
     "text": [
      "train test\n",
      "tensor(0.2132, dtype=torch.float64, grad_fn=<NllLossBackward0>)\n",
      "tensor(14.7380, dtype=torch.float64, grad_fn=<NllLossBackward0>)\n",
      "----------\n"
     ]
    },
    {
     "name": "stderr",
     "output_type": "stream",
     "text": [
      " 59%|█████████████████████▏              | 5891/10000 [1:23:22<55:25,  1.24it/s]"
     ]
    },
    {
     "name": "stdout",
     "output_type": "stream",
     "text": [
      "train test\n",
      "tensor(0.2131, dtype=torch.float64, grad_fn=<NllLossBackward0>)\n",
      "tensor(14.7391, dtype=torch.float64, grad_fn=<NllLossBackward0>)\n",
      "----------\n"
     ]
    },
    {
     "name": "stderr",
     "output_type": "stream",
     "text": [
      " 59%|█████████████████████▏              | 5901/10000 [1:23:31<56:24,  1.21it/s]"
     ]
    },
    {
     "name": "stdout",
     "output_type": "stream",
     "text": [
      "train test\n",
      "tensor(0.2132, dtype=torch.float64, grad_fn=<NllLossBackward0>)\n",
      "tensor(14.7377, dtype=torch.float64, grad_fn=<NllLossBackward0>)\n",
      "----------\n"
     ]
    },
    {
     "name": "stderr",
     "output_type": "stream",
     "text": [
      " 59%|█████████████████████▎              | 5911/10000 [1:23:39<55:07,  1.24it/s]"
     ]
    },
    {
     "name": "stdout",
     "output_type": "stream",
     "text": [
      "train test\n",
      "tensor(0.2131, dtype=torch.float64, grad_fn=<NllLossBackward0>)\n",
      "tensor(14.7421, dtype=torch.float64, grad_fn=<NllLossBackward0>)\n",
      "----------\n"
     ]
    },
    {
     "name": "stderr",
     "output_type": "stream",
     "text": [
      " 59%|█████████████████████▎              | 5921/10000 [1:23:47<55:25,  1.23it/s]"
     ]
    },
    {
     "name": "stdout",
     "output_type": "stream",
     "text": [
      "train test\n",
      "tensor(0.2130, dtype=torch.float64, grad_fn=<NllLossBackward0>)\n",
      "tensor(14.7442, dtype=torch.float64, grad_fn=<NllLossBackward0>)\n",
      "----------\n"
     ]
    },
    {
     "name": "stderr",
     "output_type": "stream",
     "text": [
      " 59%|█████████████████████▎              | 5931/10000 [1:23:55<55:15,  1.23it/s]"
     ]
    },
    {
     "name": "stdout",
     "output_type": "stream",
     "text": [
      "train test\n",
      "tensor(0.2129, dtype=torch.float64, grad_fn=<NllLossBackward0>)\n",
      "tensor(14.7460, dtype=torch.float64, grad_fn=<NllLossBackward0>)\n",
      "----------\n"
     ]
    },
    {
     "name": "stderr",
     "output_type": "stream",
     "text": [
      " 59%|█████████████████████▍              | 5941/10000 [1:24:03<55:18,  1.22it/s]"
     ]
    },
    {
     "name": "stdout",
     "output_type": "stream",
     "text": [
      "train test\n",
      "tensor(0.2128, dtype=torch.float64, grad_fn=<NllLossBackward0>)\n",
      "tensor(14.7524, dtype=torch.float64, grad_fn=<NllLossBackward0>)\n",
      "----------\n"
     ]
    },
    {
     "name": "stderr",
     "output_type": "stream",
     "text": [
      " 60%|█████████████████████▍              | 5951/10000 [1:24:12<55:41,  1.21it/s]"
     ]
    },
    {
     "name": "stdout",
     "output_type": "stream",
     "text": [
      "train test\n",
      "tensor(0.2127, dtype=torch.float64, grad_fn=<NllLossBackward0>)\n",
      "tensor(14.7548, dtype=torch.float64, grad_fn=<NllLossBackward0>)\n",
      "----------\n"
     ]
    },
    {
     "name": "stderr",
     "output_type": "stream",
     "text": [
      " 60%|█████████████████████▍              | 5961/10000 [1:24:20<56:12,  1.20it/s]"
     ]
    },
    {
     "name": "stdout",
     "output_type": "stream",
     "text": [
      "train test\n",
      "tensor(0.2125, dtype=torch.float64, grad_fn=<NllLossBackward0>)\n",
      "tensor(14.7598, dtype=torch.float64, grad_fn=<NllLossBackward0>)\n",
      "----------\n"
     ]
    },
    {
     "name": "stderr",
     "output_type": "stream",
     "text": [
      " 60%|█████████████████████▍              | 5971/10000 [1:24:28<54:49,  1.22it/s]"
     ]
    },
    {
     "name": "stdout",
     "output_type": "stream",
     "text": [
      "train test\n",
      "tensor(0.2124, dtype=torch.float64, grad_fn=<NllLossBackward0>)\n",
      "tensor(14.7639, dtype=torch.float64, grad_fn=<NllLossBackward0>)\n",
      "----------\n"
     ]
    },
    {
     "name": "stderr",
     "output_type": "stream",
     "text": [
      " 60%|█████████████████████▌              | 5981/10000 [1:24:37<55:18,  1.21it/s]"
     ]
    },
    {
     "name": "stdout",
     "output_type": "stream",
     "text": [
      "train test\n",
      "tensor(0.2123, dtype=torch.float64, grad_fn=<NllLossBackward0>)\n",
      "tensor(14.7654, dtype=torch.float64, grad_fn=<NllLossBackward0>)\n",
      "----------\n"
     ]
    },
    {
     "name": "stderr",
     "output_type": "stream",
     "text": [
      " 60%|█████████████████████▌              | 5991/10000 [1:24:45<55:33,  1.20it/s]"
     ]
    },
    {
     "name": "stdout",
     "output_type": "stream",
     "text": [
      "train test\n",
      "tensor(0.2122, dtype=torch.float64, grad_fn=<NllLossBackward0>)\n",
      "tensor(14.7729, dtype=torch.float64, grad_fn=<NllLossBackward0>)\n",
      "----------\n"
     ]
    },
    {
     "name": "stderr",
     "output_type": "stream",
     "text": [
      " 60%|█████████████████████▌              | 6001/10000 [1:24:53<53:45,  1.24it/s]"
     ]
    },
    {
     "name": "stdout",
     "output_type": "stream",
     "text": [
      "train test\n",
      "tensor(0.2123, dtype=torch.float64, grad_fn=<NllLossBackward0>)\n",
      "tensor(14.7677, dtype=torch.float64, grad_fn=<NllLossBackward0>)\n",
      "----------\n"
     ]
    },
    {
     "name": "stderr",
     "output_type": "stream",
     "text": [
      " 60%|█████████████████████▋              | 6011/10000 [1:25:01<55:31,  1.20it/s]"
     ]
    },
    {
     "name": "stdout",
     "output_type": "stream",
     "text": [
      "train test\n",
      "tensor(0.2125, dtype=torch.float64, grad_fn=<NllLossBackward0>)\n",
      "tensor(14.7598, dtype=torch.float64, grad_fn=<NllLossBackward0>)\n",
      "----------\n"
     ]
    },
    {
     "name": "stderr",
     "output_type": "stream",
     "text": [
      " 60%|█████████████████████▋              | 6021/10000 [1:25:09<53:35,  1.24it/s]"
     ]
    },
    {
     "name": "stdout",
     "output_type": "stream",
     "text": [
      "train test\n",
      "tensor(0.2126, dtype=torch.float64, grad_fn=<NllLossBackward0>)\n",
      "tensor(14.7585, dtype=torch.float64, grad_fn=<NllLossBackward0>)\n",
      "----------\n"
     ]
    },
    {
     "name": "stderr",
     "output_type": "stream",
     "text": [
      " 60%|█████████████████████▋              | 6031/10000 [1:25:18<54:53,  1.21it/s]"
     ]
    },
    {
     "name": "stdout",
     "output_type": "stream",
     "text": [
      "train test\n",
      "tensor(0.2126, dtype=torch.float64, grad_fn=<NllLossBackward0>)\n",
      "tensor(14.7605, dtype=torch.float64, grad_fn=<NllLossBackward0>)\n",
      "----------\n"
     ]
    },
    {
     "name": "stderr",
     "output_type": "stream",
     "text": [
      " 60%|█████████████████████▋              | 6041/10000 [1:25:26<53:41,  1.23it/s]"
     ]
    },
    {
     "name": "stdout",
     "output_type": "stream",
     "text": [
      "train test\n",
      "tensor(0.2126, dtype=torch.float64, grad_fn=<NllLossBackward0>)\n",
      "tensor(14.7591, dtype=torch.float64, grad_fn=<NllLossBackward0>)\n",
      "----------\n"
     ]
    },
    {
     "name": "stderr",
     "output_type": "stream",
     "text": [
      " 61%|█████████████████████▊              | 6051/10000 [1:25:34<54:42,  1.20it/s]"
     ]
    },
    {
     "name": "stdout",
     "output_type": "stream",
     "text": [
      "train test\n",
      "tensor(0.2126, dtype=torch.float64, grad_fn=<NllLossBackward0>)\n",
      "tensor(14.7617, dtype=torch.float64, grad_fn=<NllLossBackward0>)\n",
      "----------\n"
     ]
    },
    {
     "name": "stderr",
     "output_type": "stream",
     "text": [
      " 61%|█████████████████████▊              | 6061/10000 [1:25:42<53:41,  1.22it/s]"
     ]
    },
    {
     "name": "stdout",
     "output_type": "stream",
     "text": [
      "train test\n",
      "tensor(0.2125, dtype=torch.float64, grad_fn=<NllLossBackward0>)\n",
      "tensor(14.7620, dtype=torch.float64, grad_fn=<NllLossBackward0>)\n",
      "----------\n"
     ]
    },
    {
     "name": "stderr",
     "output_type": "stream",
     "text": [
      " 61%|█████████████████████▊              | 6071/10000 [1:25:51<53:33,  1.22it/s]"
     ]
    },
    {
     "name": "stdout",
     "output_type": "stream",
     "text": [
      "train test\n",
      "tensor(0.2124, dtype=torch.float64, grad_fn=<NllLossBackward0>)\n",
      "tensor(14.7662, dtype=torch.float64, grad_fn=<NllLossBackward0>)\n",
      "----------\n"
     ]
    },
    {
     "name": "stderr",
     "output_type": "stream",
     "text": [
      " 61%|█████████████████████▉              | 6081/10000 [1:25:59<54:36,  1.20it/s]"
     ]
    },
    {
     "name": "stdout",
     "output_type": "stream",
     "text": [
      "train test\n",
      "tensor(0.2122, dtype=torch.float64, grad_fn=<NllLossBackward0>)\n",
      "tensor(14.7729, dtype=torch.float64, grad_fn=<NllLossBackward0>)\n",
      "----------\n"
     ]
    },
    {
     "name": "stderr",
     "output_type": "stream",
     "text": [
      " 61%|█████████████████████▉              | 6091/10000 [1:26:07<54:13,  1.20it/s]"
     ]
    },
    {
     "name": "stdout",
     "output_type": "stream",
     "text": [
      "train test\n",
      "tensor(0.2122, dtype=torch.float64, grad_fn=<NllLossBackward0>)\n",
      "tensor(14.7712, dtype=torch.float64, grad_fn=<NllLossBackward0>)\n",
      "----------\n"
     ]
    },
    {
     "name": "stderr",
     "output_type": "stream",
     "text": [
      " 61%|█████████████████████▉              | 6101/10000 [1:26:15<54:03,  1.20it/s]"
     ]
    },
    {
     "name": "stdout",
     "output_type": "stream",
     "text": [
      "train test\n",
      "tensor(0.2121, dtype=torch.float64, grad_fn=<NllLossBackward0>)\n",
      "tensor(14.7728, dtype=torch.float64, grad_fn=<NllLossBackward0>)\n",
      "----------\n"
     ]
    },
    {
     "name": "stderr",
     "output_type": "stream",
     "text": [
      " 61%|█████████████████████▉              | 6111/10000 [1:26:24<52:53,  1.23it/s]"
     ]
    },
    {
     "name": "stdout",
     "output_type": "stream",
     "text": [
      "train test\n",
      "tensor(0.2120, dtype=torch.float64, grad_fn=<NllLossBackward0>)\n",
      "tensor(14.7756, dtype=torch.float64, grad_fn=<NllLossBackward0>)\n",
      "----------\n"
     ]
    },
    {
     "name": "stderr",
     "output_type": "stream",
     "text": [
      " 61%|██████████████████████              | 6121/10000 [1:26:32<54:08,  1.19it/s]"
     ]
    },
    {
     "name": "stdout",
     "output_type": "stream",
     "text": [
      "train test\n",
      "tensor(0.2121, dtype=torch.float64, grad_fn=<NllLossBackward0>)\n",
      "tensor(14.7720, dtype=torch.float64, grad_fn=<NllLossBackward0>)\n",
      "----------\n"
     ]
    },
    {
     "name": "stderr",
     "output_type": "stream",
     "text": [
      " 61%|██████████████████████              | 6131/10000 [1:26:40<53:07,  1.21it/s]"
     ]
    },
    {
     "name": "stdout",
     "output_type": "stream",
     "text": [
      "train test\n",
      "tensor(0.2120, dtype=torch.float64, grad_fn=<NllLossBackward0>)\n",
      "tensor(14.7737, dtype=torch.float64, grad_fn=<NllLossBackward0>)\n",
      "----------\n"
     ]
    },
    {
     "name": "stderr",
     "output_type": "stream",
     "text": [
      " 61%|██████████████████████              | 6141/10000 [1:26:48<54:05,  1.19it/s]"
     ]
    },
    {
     "name": "stdout",
     "output_type": "stream",
     "text": [
      "train test\n",
      "tensor(0.2118, dtype=torch.float64, grad_fn=<NllLossBackward0>)\n",
      "tensor(14.7786, dtype=torch.float64, grad_fn=<NllLossBackward0>)\n",
      "----------\n"
     ]
    },
    {
     "name": "stderr",
     "output_type": "stream",
     "text": [
      " 62%|██████████████████████▏             | 6151/10000 [1:26:57<52:43,  1.22it/s]"
     ]
    },
    {
     "name": "stdout",
     "output_type": "stream",
     "text": [
      "train test\n",
      "tensor(0.2118, dtype=torch.float64, grad_fn=<NllLossBackward0>)\n",
      "tensor(14.7776, dtype=torch.float64, grad_fn=<NllLossBackward0>)\n",
      "----------\n"
     ]
    },
    {
     "name": "stderr",
     "output_type": "stream",
     "text": [
      " 62%|██████████████████████▏             | 6161/10000 [1:27:05<52:57,  1.21it/s]"
     ]
    },
    {
     "name": "stdout",
     "output_type": "stream",
     "text": [
      "train test\n",
      "tensor(0.2118, dtype=torch.float64, grad_fn=<NllLossBackward0>)\n",
      "tensor(14.7792, dtype=torch.float64, grad_fn=<NllLossBackward0>)\n",
      "----------\n"
     ]
    },
    {
     "name": "stderr",
     "output_type": "stream",
     "text": [
      " 62%|██████████████████████▏             | 6171/10000 [1:27:13<52:08,  1.22it/s]"
     ]
    },
    {
     "name": "stdout",
     "output_type": "stream",
     "text": [
      "train test\n",
      "tensor(0.2116, dtype=torch.float64, grad_fn=<NllLossBackward0>)\n",
      "tensor(14.7846, dtype=torch.float64, grad_fn=<NllLossBackward0>)\n",
      "----------\n"
     ]
    },
    {
     "name": "stderr",
     "output_type": "stream",
     "text": [
      " 62%|██████████████████████▎             | 6181/10000 [1:27:21<52:01,  1.22it/s]"
     ]
    },
    {
     "name": "stdout",
     "output_type": "stream",
     "text": [
      "train test\n",
      "tensor(0.2116, dtype=torch.float64, grad_fn=<NllLossBackward0>)\n",
      "tensor(14.7843, dtype=torch.float64, grad_fn=<NllLossBackward0>)\n",
      "----------\n"
     ]
    },
    {
     "name": "stderr",
     "output_type": "stream",
     "text": [
      " 62%|██████████████████████▎             | 6191/10000 [1:27:29<52:58,  1.20it/s]"
     ]
    },
    {
     "name": "stdout",
     "output_type": "stream",
     "text": [
      "train test\n",
      "tensor(0.2115, dtype=torch.float64, grad_fn=<NllLossBackward0>)\n",
      "tensor(14.7885, dtype=torch.float64, grad_fn=<NllLossBackward0>)\n",
      "----------\n"
     ]
    },
    {
     "name": "stderr",
     "output_type": "stream",
     "text": [
      " 62%|██████████████████████▎             | 6201/10000 [1:27:38<51:20,  1.23it/s]"
     ]
    },
    {
     "name": "stdout",
     "output_type": "stream",
     "text": [
      "train test\n",
      "tensor(0.2114, dtype=torch.float64, grad_fn=<NllLossBackward0>)\n",
      "tensor(14.7891, dtype=torch.float64, grad_fn=<NllLossBackward0>)\n",
      "----------\n"
     ]
    },
    {
     "name": "stderr",
     "output_type": "stream",
     "text": [
      " 62%|██████████████████████▎             | 6211/10000 [1:27:46<52:17,  1.21it/s]"
     ]
    },
    {
     "name": "stdout",
     "output_type": "stream",
     "text": [
      "train test\n",
      "tensor(0.2115, dtype=torch.float64, grad_fn=<NllLossBackward0>)\n",
      "tensor(14.7853, dtype=torch.float64, grad_fn=<NllLossBackward0>)\n",
      "----------\n"
     ]
    },
    {
     "name": "stderr",
     "output_type": "stream",
     "text": [
      " 62%|██████████████████████▍             | 6221/10000 [1:27:54<53:10,  1.18it/s]"
     ]
    },
    {
     "name": "stdout",
     "output_type": "stream",
     "text": [
      "train test\n",
      "tensor(0.2116, dtype=torch.float64, grad_fn=<NllLossBackward0>)\n",
      "tensor(14.7796, dtype=torch.float64, grad_fn=<NllLossBackward0>)\n",
      "----------\n"
     ]
    },
    {
     "name": "stderr",
     "output_type": "stream",
     "text": [
      " 62%|██████████████████████▍             | 6231/10000 [1:28:03<52:24,  1.20it/s]"
     ]
    },
    {
     "name": "stdout",
     "output_type": "stream",
     "text": [
      "train test\n",
      "tensor(0.2116, dtype=torch.float64, grad_fn=<NllLossBackward0>)\n",
      "tensor(14.7778, dtype=torch.float64, grad_fn=<NllLossBackward0>)\n",
      "----------\n"
     ]
    },
    {
     "name": "stderr",
     "output_type": "stream",
     "text": [
      " 62%|██████████████████████▍             | 6241/10000 [1:28:11<52:20,  1.20it/s]"
     ]
    },
    {
     "name": "stdout",
     "output_type": "stream",
     "text": [
      "train test\n",
      "tensor(0.2116, dtype=torch.float64, grad_fn=<NllLossBackward0>)\n",
      "tensor(14.7798, dtype=torch.float64, grad_fn=<NllLossBackward0>)\n",
      "----------\n"
     ]
    },
    {
     "name": "stderr",
     "output_type": "stream",
     "text": [
      " 63%|██████████████████████▌             | 6251/10000 [1:28:20<53:42,  1.16it/s]"
     ]
    },
    {
     "name": "stdout",
     "output_type": "stream",
     "text": [
      "train test\n",
      "tensor(0.2114, dtype=torch.float64, grad_fn=<NllLossBackward0>)\n",
      "tensor(14.7861, dtype=torch.float64, grad_fn=<NllLossBackward0>)\n",
      "----------\n"
     ]
    },
    {
     "name": "stderr",
     "output_type": "stream",
     "text": [
      " 63%|██████████████████████▌             | 6261/10000 [1:28:28<50:59,  1.22it/s]"
     ]
    },
    {
     "name": "stdout",
     "output_type": "stream",
     "text": [
      "train test\n",
      "tensor(0.2114, dtype=torch.float64, grad_fn=<NllLossBackward0>)\n",
      "tensor(14.7867, dtype=torch.float64, grad_fn=<NllLossBackward0>)\n",
      "----------\n"
     ]
    },
    {
     "name": "stderr",
     "output_type": "stream",
     "text": [
      " 63%|██████████████████████▌             | 6271/10000 [1:28:36<52:02,  1.19it/s]"
     ]
    },
    {
     "name": "stdout",
     "output_type": "stream",
     "text": [
      "train test\n",
      "tensor(0.2114, dtype=torch.float64, grad_fn=<NllLossBackward0>)\n",
      "tensor(14.7873, dtype=torch.float64, grad_fn=<NllLossBackward0>)\n",
      "----------\n"
     ]
    },
    {
     "name": "stderr",
     "output_type": "stream",
     "text": [
      " 63%|██████████████████████▌             | 6281/10000 [1:28:45<51:16,  1.21it/s]"
     ]
    },
    {
     "name": "stdout",
     "output_type": "stream",
     "text": [
      "train test\n",
      "tensor(0.2112, dtype=torch.float64, grad_fn=<NllLossBackward0>)\n",
      "tensor(14.7934, dtype=torch.float64, grad_fn=<NllLossBackward0>)\n",
      "----------\n"
     ]
    },
    {
     "name": "stderr",
     "output_type": "stream",
     "text": [
      " 63%|██████████████████████▋             | 6291/10000 [1:28:53<51:19,  1.20it/s]"
     ]
    },
    {
     "name": "stdout",
     "output_type": "stream",
     "text": [
      "train test\n",
      "tensor(0.2111, dtype=torch.float64, grad_fn=<NllLossBackward0>)\n",
      "tensor(14.7978, dtype=torch.float64, grad_fn=<NllLossBackward0>)\n",
      "----------\n"
     ]
    },
    {
     "name": "stderr",
     "output_type": "stream",
     "text": [
      " 63%|██████████████████████▋             | 6301/10000 [1:29:02<53:09,  1.16it/s]"
     ]
    },
    {
     "name": "stdout",
     "output_type": "stream",
     "text": [
      "train test\n",
      "tensor(0.2114, dtype=torch.float64, grad_fn=<NllLossBackward0>)\n",
      "tensor(14.7874, dtype=torch.float64, grad_fn=<NllLossBackward0>)\n",
      "----------\n"
     ]
    },
    {
     "name": "stderr",
     "output_type": "stream",
     "text": [
      " 63%|██████████████████████▋             | 6311/10000 [1:29:10<52:29,  1.17it/s]"
     ]
    },
    {
     "name": "stdout",
     "output_type": "stream",
     "text": [
      "train test\n",
      "tensor(0.2116, dtype=torch.float64, grad_fn=<NllLossBackward0>)\n",
      "tensor(14.7792, dtype=torch.float64, grad_fn=<NllLossBackward0>)\n",
      "----------\n"
     ]
    },
    {
     "name": "stderr",
     "output_type": "stream",
     "text": [
      " 63%|██████████████████████▊             | 6321/10000 [1:29:19<50:43,  1.21it/s]"
     ]
    },
    {
     "name": "stdout",
     "output_type": "stream",
     "text": [
      "train test\n",
      "tensor(0.2116, dtype=torch.float64, grad_fn=<NllLossBackward0>)\n",
      "tensor(14.7760, dtype=torch.float64, grad_fn=<NllLossBackward0>)\n",
      "----------\n"
     ]
    },
    {
     "name": "stderr",
     "output_type": "stream",
     "text": [
      " 63%|██████████████████████▊             | 6331/10000 [1:29:27<51:17,  1.19it/s]"
     ]
    },
    {
     "name": "stdout",
     "output_type": "stream",
     "text": [
      "train test\n",
      "tensor(0.2118, dtype=torch.float64, grad_fn=<NllLossBackward0>)\n",
      "tensor(14.7678, dtype=torch.float64, grad_fn=<NllLossBackward0>)\n",
      "----------\n"
     ]
    },
    {
     "name": "stderr",
     "output_type": "stream",
     "text": [
      " 63%|██████████████████████▊             | 6341/10000 [1:29:35<50:05,  1.22it/s]"
     ]
    },
    {
     "name": "stdout",
     "output_type": "stream",
     "text": [
      "train test\n",
      "tensor(0.2121, dtype=torch.float64, grad_fn=<NllLossBackward0>)\n",
      "tensor(14.7590, dtype=torch.float64, grad_fn=<NllLossBackward0>)\n",
      "----------\n"
     ]
    },
    {
     "name": "stderr",
     "output_type": "stream",
     "text": [
      " 64%|██████████████████████▊             | 6351/10000 [1:29:44<51:32,  1.18it/s]"
     ]
    },
    {
     "name": "stdout",
     "output_type": "stream",
     "text": [
      "train test\n",
      "tensor(0.2121, dtype=torch.float64, grad_fn=<NllLossBackward0>)\n",
      "tensor(14.7571, dtype=torch.float64, grad_fn=<NllLossBackward0>)\n",
      "----------\n"
     ]
    },
    {
     "name": "stderr",
     "output_type": "stream",
     "text": [
      " 64%|██████████████████████▉             | 6361/10000 [1:29:52<50:35,  1.20it/s]"
     ]
    },
    {
     "name": "stdout",
     "output_type": "stream",
     "text": [
      "train test\n",
      "tensor(0.2121, dtype=torch.float64, grad_fn=<NllLossBackward0>)\n",
      "tensor(14.7617, dtype=torch.float64, grad_fn=<NllLossBackward0>)\n",
      "----------\n"
     ]
    },
    {
     "name": "stderr",
     "output_type": "stream",
     "text": [
      " 64%|██████████████████████▉             | 6371/10000 [1:30:01<51:24,  1.18it/s]"
     ]
    },
    {
     "name": "stdout",
     "output_type": "stream",
     "text": [
      "train test\n",
      "tensor(0.2120, dtype=torch.float64, grad_fn=<NllLossBackward0>)\n",
      "tensor(14.7626, dtype=torch.float64, grad_fn=<NllLossBackward0>)\n",
      "----------\n"
     ]
    },
    {
     "name": "stderr",
     "output_type": "stream",
     "text": [
      " 64%|██████████████████████▉             | 6381/10000 [1:30:09<50:52,  1.19it/s]"
     ]
    },
    {
     "name": "stdout",
     "output_type": "stream",
     "text": [
      "train test\n",
      "tensor(0.2119, dtype=torch.float64, grad_fn=<NllLossBackward0>)\n",
      "tensor(14.7680, dtype=torch.float64, grad_fn=<NllLossBackward0>)\n",
      "----------\n"
     ]
    },
    {
     "name": "stderr",
     "output_type": "stream",
     "text": [
      " 64%|███████████████████████             | 6391/10000 [1:30:18<51:04,  1.18it/s]"
     ]
    },
    {
     "name": "stdout",
     "output_type": "stream",
     "text": [
      "train test\n",
      "tensor(0.2119, dtype=torch.float64, grad_fn=<NllLossBackward0>)\n",
      "tensor(14.7697, dtype=torch.float64, grad_fn=<NllLossBackward0>)\n",
      "----------\n"
     ]
    },
    {
     "name": "stderr",
     "output_type": "stream",
     "text": [
      " 64%|███████████████████████             | 6401/10000 [1:30:26<50:42,  1.18it/s]"
     ]
    },
    {
     "name": "stdout",
     "output_type": "stream",
     "text": [
      "train test\n",
      "tensor(0.2118, dtype=torch.float64, grad_fn=<NllLossBackward0>)\n",
      "tensor(14.7726, dtype=torch.float64, grad_fn=<NllLossBackward0>)\n",
      "----------\n"
     ]
    },
    {
     "name": "stderr",
     "output_type": "stream",
     "text": [
      " 64%|███████████████████████             | 6411/10000 [1:30:35<49:17,  1.21it/s]"
     ]
    },
    {
     "name": "stdout",
     "output_type": "stream",
     "text": [
      "train test\n",
      "tensor(0.2116, dtype=torch.float64, grad_fn=<NllLossBackward0>)\n",
      "tensor(14.7756, dtype=torch.float64, grad_fn=<NllLossBackward0>)\n",
      "----------\n"
     ]
    },
    {
     "name": "stderr",
     "output_type": "stream",
     "text": [
      " 64%|███████████████████████             | 6421/10000 [1:30:43<49:34,  1.20it/s]"
     ]
    },
    {
     "name": "stdout",
     "output_type": "stream",
     "text": [
      "train test\n",
      "tensor(0.2115, dtype=torch.float64, grad_fn=<NllLossBackward0>)\n",
      "tensor(14.7827, dtype=torch.float64, grad_fn=<NllLossBackward0>)\n",
      "----------\n"
     ]
    },
    {
     "name": "stderr",
     "output_type": "stream",
     "text": [
      " 64%|███████████████████████▏            | 6431/10000 [1:30:51<49:11,  1.21it/s]"
     ]
    },
    {
     "name": "stdout",
     "output_type": "stream",
     "text": [
      "train test\n",
      "tensor(0.2113, dtype=torch.float64, grad_fn=<NllLossBackward0>)\n",
      "tensor(14.7890, dtype=torch.float64, grad_fn=<NllLossBackward0>)\n",
      "----------\n"
     ]
    },
    {
     "name": "stderr",
     "output_type": "stream",
     "text": [
      " 64%|███████████████████████▏            | 6441/10000 [1:31:00<49:54,  1.19it/s]"
     ]
    },
    {
     "name": "stdout",
     "output_type": "stream",
     "text": [
      "train test\n",
      "tensor(0.2113, dtype=torch.float64, grad_fn=<NllLossBackward0>)\n",
      "tensor(14.7879, dtype=torch.float64, grad_fn=<NllLossBackward0>)\n",
      "----------\n"
     ]
    },
    {
     "name": "stderr",
     "output_type": "stream",
     "text": [
      " 65%|███████████████████████▏            | 6451/10000 [1:31:08<48:17,  1.22it/s]"
     ]
    },
    {
     "name": "stdout",
     "output_type": "stream",
     "text": [
      "train test\n",
      "tensor(0.2113, dtype=torch.float64, grad_fn=<NllLossBackward0>)\n",
      "tensor(14.7878, dtype=torch.float64, grad_fn=<NllLossBackward0>)\n",
      "----------\n"
     ]
    },
    {
     "name": "stderr",
     "output_type": "stream",
     "text": [
      " 65%|███████████████████████▎            | 6461/10000 [1:31:16<49:08,  1.20it/s]"
     ]
    },
    {
     "name": "stdout",
     "output_type": "stream",
     "text": [
      "train test\n",
      "tensor(0.2113, dtype=torch.float64, grad_fn=<NllLossBackward0>)\n",
      "tensor(14.7914, dtype=torch.float64, grad_fn=<NllLossBackward0>)\n",
      "----------\n"
     ]
    },
    {
     "name": "stderr",
     "output_type": "stream",
     "text": [
      " 65%|███████████████████████▎            | 6471/10000 [1:31:24<48:03,  1.22it/s]"
     ]
    },
    {
     "name": "stdout",
     "output_type": "stream",
     "text": [
      "train test\n",
      "tensor(0.2113, dtype=torch.float64, grad_fn=<NllLossBackward0>)\n",
      "tensor(14.7905, dtype=torch.float64, grad_fn=<NllLossBackward0>)\n",
      "----------\n"
     ]
    },
    {
     "name": "stderr",
     "output_type": "stream",
     "text": [
      " 65%|███████████████████████▎            | 6481/10000 [1:31:33<48:53,  1.20it/s]"
     ]
    },
    {
     "name": "stdout",
     "output_type": "stream",
     "text": [
      "train test\n",
      "tensor(0.2112, dtype=torch.float64, grad_fn=<NllLossBackward0>)\n",
      "tensor(14.7935, dtype=torch.float64, grad_fn=<NllLossBackward0>)\n",
      "----------\n"
     ]
    },
    {
     "name": "stderr",
     "output_type": "stream",
     "text": [
      " 65%|███████████████████████▎            | 6491/10000 [1:31:41<48:03,  1.22it/s]"
     ]
    },
    {
     "name": "stdout",
     "output_type": "stream",
     "text": [
      "train test\n",
      "tensor(0.2112, dtype=torch.float64, grad_fn=<NllLossBackward0>)\n",
      "tensor(14.7968, dtype=torch.float64, grad_fn=<NllLossBackward0>)\n",
      "----------\n"
     ]
    },
    {
     "name": "stderr",
     "output_type": "stream",
     "text": [
      " 65%|███████████████████████▍            | 6501/10000 [1:31:49<47:57,  1.22it/s]"
     ]
    },
    {
     "name": "stdout",
     "output_type": "stream",
     "text": [
      "train test\n",
      "tensor(0.2112, dtype=torch.float64, grad_fn=<NllLossBackward0>)\n",
      "tensor(14.7967, dtype=torch.float64, grad_fn=<NllLossBackward0>)\n",
      "----------\n"
     ]
    },
    {
     "name": "stderr",
     "output_type": "stream",
     "text": [
      " 65%|███████████████████████▍            | 6511/10000 [1:31:57<49:00,  1.19it/s]"
     ]
    },
    {
     "name": "stdout",
     "output_type": "stream",
     "text": [
      "train test\n",
      "tensor(0.2113, dtype=torch.float64, grad_fn=<NllLossBackward0>)\n",
      "tensor(14.7935, dtype=torch.float64, grad_fn=<NllLossBackward0>)\n",
      "----------\n"
     ]
    },
    {
     "name": "stderr",
     "output_type": "stream",
     "text": [
      " 65%|███████████████████████▍            | 6521/10000 [1:32:06<47:48,  1.21it/s]"
     ]
    },
    {
     "name": "stdout",
     "output_type": "stream",
     "text": [
      "train test\n",
      "tensor(0.2112, dtype=torch.float64, grad_fn=<NllLossBackward0>)\n",
      "tensor(14.7945, dtype=torch.float64, grad_fn=<NllLossBackward0>)\n",
      "----------\n"
     ]
    },
    {
     "name": "stderr",
     "output_type": "stream",
     "text": [
      " 65%|███████████████████████▌            | 6531/10000 [1:32:14<48:36,  1.19it/s]"
     ]
    },
    {
     "name": "stdout",
     "output_type": "stream",
     "text": [
      "train test\n",
      "tensor(0.2113, dtype=torch.float64, grad_fn=<NllLossBackward0>)\n",
      "tensor(14.7916, dtype=torch.float64, grad_fn=<NllLossBackward0>)\n",
      "----------\n"
     ]
    },
    {
     "name": "stderr",
     "output_type": "stream",
     "text": [
      " 65%|███████████████████████▌            | 6541/10000 [1:32:22<47:16,  1.22it/s]"
     ]
    },
    {
     "name": "stdout",
     "output_type": "stream",
     "text": [
      "train test\n",
      "tensor(0.2112, dtype=torch.float64, grad_fn=<NllLossBackward0>)\n",
      "tensor(14.7937, dtype=torch.float64, grad_fn=<NllLossBackward0>)\n",
      "----------\n"
     ]
    },
    {
     "name": "stderr",
     "output_type": "stream",
     "text": [
      " 66%|███████████████████████▌            | 6551/10000 [1:32:30<48:56,  1.17it/s]"
     ]
    },
    {
     "name": "stdout",
     "output_type": "stream",
     "text": [
      "train test\n",
      "tensor(0.2110, dtype=torch.float64, grad_fn=<NllLossBackward0>)\n",
      "tensor(14.8023, dtype=torch.float64, grad_fn=<NllLossBackward0>)\n",
      "----------\n"
     ]
    },
    {
     "name": "stderr",
     "output_type": "stream",
     "text": [
      " 66%|███████████████████████▌            | 6561/10000 [1:32:39<48:04,  1.19it/s]"
     ]
    },
    {
     "name": "stdout",
     "output_type": "stream",
     "text": [
      "train test\n",
      "tensor(0.2110, dtype=torch.float64, grad_fn=<NllLossBackward0>)\n",
      "tensor(14.8020, dtype=torch.float64, grad_fn=<NllLossBackward0>)\n",
      "----------\n"
     ]
    },
    {
     "name": "stderr",
     "output_type": "stream",
     "text": [
      " 66%|███████████████████████▋            | 6571/10000 [1:32:47<48:00,  1.19it/s]"
     ]
    },
    {
     "name": "stdout",
     "output_type": "stream",
     "text": [
      "train test\n",
      "tensor(0.2112, dtype=torch.float64, grad_fn=<NllLossBackward0>)\n",
      "tensor(14.7958, dtype=torch.float64, grad_fn=<NllLossBackward0>)\n",
      "----------\n"
     ]
    },
    {
     "name": "stderr",
     "output_type": "stream",
     "text": [
      " 66%|███████████████████████▋            | 6581/10000 [1:32:55<47:15,  1.21it/s]"
     ]
    },
    {
     "name": "stdout",
     "output_type": "stream",
     "text": [
      "train test\n",
      "tensor(0.2113, dtype=torch.float64, grad_fn=<NllLossBackward0>)\n",
      "tensor(14.7940, dtype=torch.float64, grad_fn=<NllLossBackward0>)\n",
      "----------\n"
     ]
    },
    {
     "name": "stderr",
     "output_type": "stream",
     "text": [
      " 66%|███████████████████████▋            | 6591/10000 [1:33:04<46:55,  1.21it/s]"
     ]
    },
    {
     "name": "stdout",
     "output_type": "stream",
     "text": [
      "train test\n",
      "tensor(0.2112, dtype=torch.float64, grad_fn=<NllLossBackward0>)\n",
      "tensor(14.7948, dtype=torch.float64, grad_fn=<NllLossBackward0>)\n",
      "----------\n"
     ]
    },
    {
     "name": "stderr",
     "output_type": "stream",
     "text": [
      " 66%|███████████████████████▊            | 6601/10000 [1:33:12<47:25,  1.19it/s]"
     ]
    },
    {
     "name": "stdout",
     "output_type": "stream",
     "text": [
      "train test\n",
      "tensor(0.2110, dtype=torch.float64, grad_fn=<NllLossBackward0>)\n",
      "tensor(14.8013, dtype=torch.float64, grad_fn=<NllLossBackward0>)\n",
      "----------\n"
     ]
    },
    {
     "name": "stderr",
     "output_type": "stream",
     "text": [
      " 66%|███████████████████████▊            | 6611/10000 [1:33:20<47:14,  1.20it/s]"
     ]
    },
    {
     "name": "stdout",
     "output_type": "stream",
     "text": [
      "train test\n",
      "tensor(0.2110, dtype=torch.float64, grad_fn=<NllLossBackward0>)\n",
      "tensor(14.8030, dtype=torch.float64, grad_fn=<NllLossBackward0>)\n",
      "----------\n"
     ]
    },
    {
     "name": "stderr",
     "output_type": "stream",
     "text": [
      " 66%|███████████████████████▊            | 6621/10000 [1:33:29<46:57,  1.20it/s]"
     ]
    },
    {
     "name": "stdout",
     "output_type": "stream",
     "text": [
      "train test\n",
      "tensor(0.2110, dtype=torch.float64, grad_fn=<NllLossBackward0>)\n",
      "tensor(14.8020, dtype=torch.float64, grad_fn=<NllLossBackward0>)\n",
      "----------\n"
     ]
    },
    {
     "name": "stderr",
     "output_type": "stream",
     "text": [
      " 66%|███████████████████████▊            | 6631/10000 [1:33:37<46:27,  1.21it/s]"
     ]
    },
    {
     "name": "stdout",
     "output_type": "stream",
     "text": [
      "train test\n",
      "tensor(0.2109, dtype=torch.float64, grad_fn=<NllLossBackward0>)\n",
      "tensor(14.8081, dtype=torch.float64, grad_fn=<NllLossBackward0>)\n",
      "----------\n"
     ]
    },
    {
     "name": "stderr",
     "output_type": "stream",
     "text": [
      " 66%|███████████████████████▉            | 6641/10000 [1:33:45<45:37,  1.23it/s]"
     ]
    },
    {
     "name": "stdout",
     "output_type": "stream",
     "text": [
      "train test\n",
      "tensor(0.2109, dtype=torch.float64, grad_fn=<NllLossBackward0>)\n",
      "tensor(14.8083, dtype=torch.float64, grad_fn=<NllLossBackward0>)\n",
      "----------\n"
     ]
    },
    {
     "name": "stderr",
     "output_type": "stream",
     "text": [
      " 67%|███████████████████████▉            | 6651/10000 [1:33:54<47:52,  1.17it/s]"
     ]
    },
    {
     "name": "stdout",
     "output_type": "stream",
     "text": [
      "train test\n",
      "tensor(0.2112, dtype=torch.float64, grad_fn=<NllLossBackward0>)\n",
      "tensor(14.7958, dtype=torch.float64, grad_fn=<NllLossBackward0>)\n",
      "----------\n"
     ]
    },
    {
     "name": "stderr",
     "output_type": "stream",
     "text": [
      " 67%|███████████████████████▉            | 6661/10000 [1:34:02<47:00,  1.18it/s]"
     ]
    },
    {
     "name": "stdout",
     "output_type": "stream",
     "text": [
      "train test\n",
      "tensor(0.2115, dtype=torch.float64, grad_fn=<NllLossBackward0>)\n",
      "tensor(14.7865, dtype=torch.float64, grad_fn=<NllLossBackward0>)\n",
      "----------\n"
     ]
    },
    {
     "name": "stderr",
     "output_type": "stream",
     "text": [
      " 67%|████████████████████████            | 6671/10000 [1:34:11<47:27,  1.17it/s]"
     ]
    },
    {
     "name": "stdout",
     "output_type": "stream",
     "text": [
      "train test\n",
      "tensor(0.2116, dtype=torch.float64, grad_fn=<NllLossBackward0>)\n",
      "tensor(14.7864, dtype=torch.float64, grad_fn=<NllLossBackward0>)\n",
      "----------\n"
     ]
    },
    {
     "name": "stderr",
     "output_type": "stream",
     "text": [
      " 67%|████████████████████████            | 6681/10000 [1:34:19<47:41,  1.16it/s]"
     ]
    },
    {
     "name": "stdout",
     "output_type": "stream",
     "text": [
      "train test\n",
      "tensor(0.2116, dtype=torch.float64, grad_fn=<NllLossBackward0>)\n",
      "tensor(14.7842, dtype=torch.float64, grad_fn=<NllLossBackward0>)\n",
      "----------\n"
     ]
    },
    {
     "name": "stderr",
     "output_type": "stream",
     "text": [
      " 67%|████████████████████████            | 6691/10000 [1:34:28<46:28,  1.19it/s]"
     ]
    },
    {
     "name": "stdout",
     "output_type": "stream",
     "text": [
      "train test\n",
      "tensor(0.2115, dtype=torch.float64, grad_fn=<NllLossBackward0>)\n",
      "tensor(14.7879, dtype=torch.float64, grad_fn=<NllLossBackward0>)\n",
      "----------\n"
     ]
    },
    {
     "name": "stderr",
     "output_type": "stream",
     "text": [
      " 67%|████████████████████████            | 6701/10000 [1:34:36<45:57,  1.20it/s]"
     ]
    },
    {
     "name": "stdout",
     "output_type": "stream",
     "text": [
      "train test\n",
      "tensor(0.2113, dtype=torch.float64, grad_fn=<NllLossBackward0>)\n",
      "tensor(14.7975, dtype=torch.float64, grad_fn=<NllLossBackward0>)\n",
      "----------\n"
     ]
    },
    {
     "name": "stderr",
     "output_type": "stream",
     "text": [
      " 67%|████████████████████████▏           | 6711/10000 [1:34:45<46:30,  1.18it/s]"
     ]
    },
    {
     "name": "stdout",
     "output_type": "stream",
     "text": [
      "train test\n",
      "tensor(0.2113, dtype=torch.float64, grad_fn=<NllLossBackward0>)\n",
      "tensor(14.7966, dtype=torch.float64, grad_fn=<NllLossBackward0>)\n",
      "----------\n"
     ]
    },
    {
     "name": "stderr",
     "output_type": "stream",
     "text": [
      " 67%|████████████████████████▏           | 6721/10000 [1:34:53<45:48,  1.19it/s]"
     ]
    },
    {
     "name": "stdout",
     "output_type": "stream",
     "text": [
      "train test\n",
      "tensor(0.2116, dtype=torch.float64, grad_fn=<NllLossBackward0>)\n",
      "tensor(14.7848, dtype=torch.float64, grad_fn=<NllLossBackward0>)\n",
      "----------\n"
     ]
    },
    {
     "name": "stderr",
     "output_type": "stream",
     "text": [
      " 67%|████████████████████████▏           | 6731/10000 [1:35:02<46:02,  1.18it/s]"
     ]
    },
    {
     "name": "stdout",
     "output_type": "stream",
     "text": [
      "train test\n",
      "tensor(0.2117, dtype=torch.float64, grad_fn=<NllLossBackward0>)\n",
      "tensor(14.7798, dtype=torch.float64, grad_fn=<NllLossBackward0>)\n",
      "----------\n"
     ]
    },
    {
     "name": "stderr",
     "output_type": "stream",
     "text": [
      " 67%|████████████████████████▎           | 6741/10000 [1:35:10<46:00,  1.18it/s]"
     ]
    },
    {
     "name": "stdout",
     "output_type": "stream",
     "text": [
      "train test\n",
      "tensor(0.2116, dtype=torch.float64, grad_fn=<NllLossBackward0>)\n",
      "tensor(14.7843, dtype=torch.float64, grad_fn=<NllLossBackward0>)\n",
      "----------\n"
     ]
    },
    {
     "name": "stderr",
     "output_type": "stream",
     "text": [
      " 68%|████████████████████████▎           | 6751/10000 [1:35:19<51:08,  1.06it/s]"
     ]
    },
    {
     "name": "stdout",
     "output_type": "stream",
     "text": [
      "train test\n",
      "tensor(0.2115, dtype=torch.float64, grad_fn=<NllLossBackward0>)\n",
      "tensor(14.7888, dtype=torch.float64, grad_fn=<NllLossBackward0>)\n",
      "----------\n"
     ]
    },
    {
     "name": "stderr",
     "output_type": "stream",
     "text": [
      " 68%|████████████████████████▎           | 6761/10000 [1:35:28<46:17,  1.17it/s]"
     ]
    },
    {
     "name": "stdout",
     "output_type": "stream",
     "text": [
      "train test\n",
      "tensor(0.2116, dtype=torch.float64, grad_fn=<NllLossBackward0>)\n",
      "tensor(14.7841, dtype=torch.float64, grad_fn=<NllLossBackward0>)\n",
      "----------\n"
     ]
    },
    {
     "name": "stderr",
     "output_type": "stream",
     "text": [
      " 68%|████████████████████████▍           | 6771/10000 [1:35:36<44:41,  1.20it/s]"
     ]
    },
    {
     "name": "stdout",
     "output_type": "stream",
     "text": [
      "train test\n",
      "tensor(0.2116, dtype=torch.float64, grad_fn=<NllLossBackward0>)\n",
      "tensor(14.7852, dtype=torch.float64, grad_fn=<NllLossBackward0>)\n",
      "----------\n"
     ]
    },
    {
     "name": "stderr",
     "output_type": "stream",
     "text": [
      " 68%|████████████████████████▍           | 6781/10000 [1:35:45<46:44,  1.15it/s]"
     ]
    },
    {
     "name": "stdout",
     "output_type": "stream",
     "text": [
      "train test\n",
      "tensor(0.2116, dtype=torch.float64, grad_fn=<NllLossBackward0>)\n",
      "tensor(14.7843, dtype=torch.float64, grad_fn=<NllLossBackward0>)\n",
      "----------\n"
     ]
    },
    {
     "name": "stderr",
     "output_type": "stream",
     "text": [
      " 68%|████████████████████████▍           | 6791/10000 [1:35:53<43:12,  1.24it/s]"
     ]
    },
    {
     "name": "stdout",
     "output_type": "stream",
     "text": [
      "train test\n",
      "tensor(0.2116, dtype=torch.float64, grad_fn=<NllLossBackward0>)\n",
      "tensor(14.7864, dtype=torch.float64, grad_fn=<NllLossBackward0>)\n",
      "----------\n"
     ]
    },
    {
     "name": "stderr",
     "output_type": "stream",
     "text": [
      " 68%|████████████████████████▍           | 6801/10000 [1:36:01<44:08,  1.21it/s]"
     ]
    },
    {
     "name": "stdout",
     "output_type": "stream",
     "text": [
      "train test\n",
      "tensor(0.2115, dtype=torch.float64, grad_fn=<NllLossBackward0>)\n",
      "tensor(14.7903, dtype=torch.float64, grad_fn=<NllLossBackward0>)\n",
      "----------\n"
     ]
    },
    {
     "name": "stderr",
     "output_type": "stream",
     "text": [
      " 68%|████████████████████████▌           | 6811/10000 [1:36:09<43:14,  1.23it/s]"
     ]
    },
    {
     "name": "stdout",
     "output_type": "stream",
     "text": [
      "train test\n",
      "tensor(0.2116, dtype=torch.float64, grad_fn=<NllLossBackward0>)\n",
      "tensor(14.7823, dtype=torch.float64, grad_fn=<NllLossBackward0>)\n",
      "----------\n"
     ]
    },
    {
     "name": "stderr",
     "output_type": "stream",
     "text": [
      " 68%|████████████████████████▌           | 6821/10000 [1:36:18<44:18,  1.20it/s]"
     ]
    },
    {
     "name": "stdout",
     "output_type": "stream",
     "text": [
      "train test\n",
      "tensor(0.2117, dtype=torch.float64, grad_fn=<NllLossBackward0>)\n",
      "tensor(14.7816, dtype=torch.float64, grad_fn=<NllLossBackward0>)\n",
      "----------\n"
     ]
    },
    {
     "name": "stderr",
     "output_type": "stream",
     "text": [
      " 68%|████████████████████████▌           | 6831/10000 [1:36:26<42:58,  1.23it/s]"
     ]
    },
    {
     "name": "stdout",
     "output_type": "stream",
     "text": [
      "train test\n",
      "tensor(0.2117, dtype=torch.float64, grad_fn=<NllLossBackward0>)\n",
      "tensor(14.7846, dtype=torch.float64, grad_fn=<NllLossBackward0>)\n",
      "----------\n"
     ]
    },
    {
     "name": "stderr",
     "output_type": "stream",
     "text": [
      " 68%|████████████████████████▋           | 6841/10000 [1:36:34<43:47,  1.20it/s]"
     ]
    },
    {
     "name": "stdout",
     "output_type": "stream",
     "text": [
      "train test\n",
      "tensor(0.2119, dtype=torch.float64, grad_fn=<NllLossBackward0>)\n",
      "tensor(14.7761, dtype=torch.float64, grad_fn=<NllLossBackward0>)\n",
      "----------\n"
     ]
    },
    {
     "name": "stderr",
     "output_type": "stream",
     "text": [
      " 69%|████████████████████████▋           | 6851/10000 [1:36:43<42:49,  1.23it/s]"
     ]
    },
    {
     "name": "stdout",
     "output_type": "stream",
     "text": [
      "train test\n",
      "tensor(0.2120, dtype=torch.float64, grad_fn=<NllLossBackward0>)\n",
      "tensor(14.7704, dtype=torch.float64, grad_fn=<NllLossBackward0>)\n",
      "----------\n"
     ]
    },
    {
     "name": "stderr",
     "output_type": "stream",
     "text": [
      " 69%|████████████████████████▋           | 6861/10000 [1:36:51<43:31,  1.20it/s]"
     ]
    },
    {
     "name": "stdout",
     "output_type": "stream",
     "text": [
      "train test\n",
      "tensor(0.2120, dtype=torch.float64, grad_fn=<NllLossBackward0>)\n",
      "tensor(14.7711, dtype=torch.float64, grad_fn=<NllLossBackward0>)\n",
      "----------\n"
     ]
    },
    {
     "name": "stderr",
     "output_type": "stream",
     "text": [
      " 69%|████████████████████████▋           | 6871/10000 [1:36:59<42:47,  1.22it/s]"
     ]
    },
    {
     "name": "stdout",
     "output_type": "stream",
     "text": [
      "train test\n",
      "tensor(0.2120, dtype=torch.float64, grad_fn=<NllLossBackward0>)\n",
      "tensor(14.7696, dtype=torch.float64, grad_fn=<NllLossBackward0>)\n",
      "----------\n"
     ]
    },
    {
     "name": "stderr",
     "output_type": "stream",
     "text": [
      " 69%|████████████████████████▊           | 6881/10000 [1:37:07<42:35,  1.22it/s]"
     ]
    },
    {
     "name": "stdout",
     "output_type": "stream",
     "text": [
      "train test\n",
      "tensor(0.2121, dtype=torch.float64, grad_fn=<NllLossBackward0>)\n",
      "tensor(14.7655, dtype=torch.float64, grad_fn=<NllLossBackward0>)\n",
      "----------\n"
     ]
    },
    {
     "name": "stderr",
     "output_type": "stream",
     "text": [
      " 69%|████████████████████████▊           | 6891/10000 [1:37:16<42:58,  1.21it/s]"
     ]
    },
    {
     "name": "stdout",
     "output_type": "stream",
     "text": [
      "train test\n",
      "tensor(0.2121, dtype=torch.float64, grad_fn=<NllLossBackward0>)\n",
      "tensor(14.7675, dtype=torch.float64, grad_fn=<NllLossBackward0>)\n",
      "----------\n"
     ]
    },
    {
     "name": "stderr",
     "output_type": "stream",
     "text": [
      " 69%|████████████████████████▊           | 6901/10000 [1:37:24<42:57,  1.20it/s]"
     ]
    },
    {
     "name": "stdout",
     "output_type": "stream",
     "text": [
      "train test\n",
      "tensor(0.2120, dtype=torch.float64, grad_fn=<NllLossBackward0>)\n",
      "tensor(14.7679, dtype=torch.float64, grad_fn=<NllLossBackward0>)\n",
      "----------\n"
     ]
    },
    {
     "name": "stderr",
     "output_type": "stream",
     "text": [
      " 69%|████████████████████████▉           | 6911/10000 [1:37:32<42:22,  1.21it/s]"
     ]
    },
    {
     "name": "stdout",
     "output_type": "stream",
     "text": [
      "train test\n",
      "tensor(0.2120, dtype=torch.float64, grad_fn=<NllLossBackward0>)\n",
      "tensor(14.7694, dtype=torch.float64, grad_fn=<NllLossBackward0>)\n",
      "----------\n"
     ]
    },
    {
     "name": "stderr",
     "output_type": "stream",
     "text": [
      " 69%|████████████████████████▉           | 6921/10000 [1:37:41<42:37,  1.20it/s]"
     ]
    },
    {
     "name": "stdout",
     "output_type": "stream",
     "text": [
      "train test\n",
      "tensor(0.2118, dtype=torch.float64, grad_fn=<NllLossBackward0>)\n",
      "tensor(14.7765, dtype=torch.float64, grad_fn=<NllLossBackward0>)\n",
      "----------\n"
     ]
    },
    {
     "name": "stderr",
     "output_type": "stream",
     "text": [
      " 69%|████████████████████████▉           | 6931/10000 [1:37:49<41:38,  1.23it/s]"
     ]
    },
    {
     "name": "stdout",
     "output_type": "stream",
     "text": [
      "train test\n",
      "tensor(0.2115, dtype=torch.float64, grad_fn=<NllLossBackward0>)\n",
      "tensor(14.7882, dtype=torch.float64, grad_fn=<NllLossBackward0>)\n",
      "----------\n"
     ]
    },
    {
     "name": "stderr",
     "output_type": "stream",
     "text": [
      " 69%|████████████████████████▉           | 6941/10000 [1:37:57<42:50,  1.19it/s]"
     ]
    },
    {
     "name": "stdout",
     "output_type": "stream",
     "text": [
      "train test\n",
      "tensor(0.2116, dtype=torch.float64, grad_fn=<NllLossBackward0>)\n",
      "tensor(14.7850, dtype=torch.float64, grad_fn=<NllLossBackward0>)\n",
      "----------\n"
     ]
    },
    {
     "name": "stderr",
     "output_type": "stream",
     "text": [
      " 70%|█████████████████████████           | 6951/10000 [1:38:05<41:43,  1.22it/s]"
     ]
    },
    {
     "name": "stdout",
     "output_type": "stream",
     "text": [
      "train test\n",
      "tensor(0.2119, dtype=torch.float64, grad_fn=<NllLossBackward0>)\n",
      "tensor(14.7759, dtype=torch.float64, grad_fn=<NllLossBackward0>)\n",
      "----------\n"
     ]
    },
    {
     "name": "stderr",
     "output_type": "stream",
     "text": [
      " 70%|█████████████████████████           | 6961/10000 [1:38:14<42:51,  1.18it/s]"
     ]
    },
    {
     "name": "stdout",
     "output_type": "stream",
     "text": [
      "train test\n",
      "tensor(0.2120, dtype=torch.float64, grad_fn=<NllLossBackward0>)\n",
      "tensor(14.7722, dtype=torch.float64, grad_fn=<NllLossBackward0>)\n",
      "----------\n"
     ]
    },
    {
     "name": "stderr",
     "output_type": "stream",
     "text": [
      " 70%|█████████████████████████           | 6971/10000 [1:38:22<41:32,  1.22it/s]"
     ]
    },
    {
     "name": "stdout",
     "output_type": "stream",
     "text": [
      "train test\n",
      "tensor(0.2119, dtype=torch.float64, grad_fn=<NllLossBackward0>)\n",
      "tensor(14.7741, dtype=torch.float64, grad_fn=<NllLossBackward0>)\n",
      "----------\n"
     ]
    },
    {
     "name": "stderr",
     "output_type": "stream",
     "text": [
      " 70%|█████████████████████████▏          | 6981/10000 [1:38:30<41:29,  1.21it/s]"
     ]
    },
    {
     "name": "stdout",
     "output_type": "stream",
     "text": [
      "train test\n",
      "tensor(0.2119, dtype=torch.float64, grad_fn=<NllLossBackward0>)\n",
      "tensor(14.7730, dtype=torch.float64, grad_fn=<NllLossBackward0>)\n",
      "----------\n"
     ]
    },
    {
     "name": "stderr",
     "output_type": "stream",
     "text": [
      " 70%|█████████████████████████▏          | 6991/10000 [1:38:38<41:41,  1.20it/s]"
     ]
    },
    {
     "name": "stdout",
     "output_type": "stream",
     "text": [
      "train test\n",
      "tensor(0.2118, dtype=torch.float64, grad_fn=<NllLossBackward0>)\n",
      "tensor(14.7795, dtype=torch.float64, grad_fn=<NllLossBackward0>)\n",
      "----------\n"
     ]
    },
    {
     "name": "stderr",
     "output_type": "stream",
     "text": [
      " 70%|█████████████████████████▏          | 7001/10000 [1:38:47<41:04,  1.22it/s]"
     ]
    },
    {
     "name": "stdout",
     "output_type": "stream",
     "text": [
      "train test\n",
      "tensor(0.2115, dtype=torch.float64, grad_fn=<NllLossBackward0>)\n",
      "tensor(14.7901, dtype=torch.float64, grad_fn=<NllLossBackward0>)\n",
      "----------\n"
     ]
    },
    {
     "name": "stderr",
     "output_type": "stream",
     "text": [
      " 70%|█████████████████████████▏          | 7011/10000 [1:38:55<41:41,  1.20it/s]"
     ]
    },
    {
     "name": "stdout",
     "output_type": "stream",
     "text": [
      "train test\n",
      "tensor(0.2117, dtype=torch.float64, grad_fn=<NllLossBackward0>)\n",
      "tensor(14.7817, dtype=torch.float64, grad_fn=<NllLossBackward0>)\n",
      "----------\n"
     ]
    },
    {
     "name": "stderr",
     "output_type": "stream",
     "text": [
      " 70%|█████████████████████████▎          | 7021/10000 [1:39:03<40:37,  1.22it/s]"
     ]
    },
    {
     "name": "stdout",
     "output_type": "stream",
     "text": [
      "train test\n",
      "tensor(0.2120, dtype=torch.float64, grad_fn=<NllLossBackward0>)\n",
      "tensor(14.7713, dtype=torch.float64, grad_fn=<NllLossBackward0>)\n",
      "----------\n"
     ]
    },
    {
     "name": "stderr",
     "output_type": "stream",
     "text": [
      " 70%|█████████████████████████▎          | 7031/10000 [1:39:12<41:08,  1.20it/s]"
     ]
    },
    {
     "name": "stdout",
     "output_type": "stream",
     "text": [
      "train test\n",
      "tensor(0.2121, dtype=torch.float64, grad_fn=<NllLossBackward0>)\n",
      "tensor(14.7692, dtype=torch.float64, grad_fn=<NllLossBackward0>)\n",
      "----------\n"
     ]
    },
    {
     "name": "stderr",
     "output_type": "stream",
     "text": [
      " 70%|█████████████████████████▎          | 7041/10000 [1:39:20<40:13,  1.23it/s]"
     ]
    },
    {
     "name": "stdout",
     "output_type": "stream",
     "text": [
      "train test\n",
      "tensor(0.2120, dtype=torch.float64, grad_fn=<NllLossBackward0>)\n",
      "tensor(14.7725, dtype=torch.float64, grad_fn=<NllLossBackward0>)\n",
      "----------\n"
     ]
    },
    {
     "name": "stderr",
     "output_type": "stream",
     "text": [
      " 71%|█████████████████████████▍          | 7051/10000 [1:39:28<40:35,  1.21it/s]"
     ]
    },
    {
     "name": "stdout",
     "output_type": "stream",
     "text": [
      "train test\n",
      "tensor(0.2120, dtype=torch.float64, grad_fn=<NllLossBackward0>)\n",
      "tensor(14.7744, dtype=torch.float64, grad_fn=<NllLossBackward0>)\n",
      "----------\n"
     ]
    },
    {
     "name": "stderr",
     "output_type": "stream",
     "text": [
      " 71%|█████████████████████████▍          | 7061/10000 [1:39:36<40:15,  1.22it/s]"
     ]
    },
    {
     "name": "stdout",
     "output_type": "stream",
     "text": [
      "train test\n",
      "tensor(0.2118, dtype=torch.float64, grad_fn=<NllLossBackward0>)\n",
      "tensor(14.7804, dtype=torch.float64, grad_fn=<NllLossBackward0>)\n",
      "----------\n"
     ]
    },
    {
     "name": "stderr",
     "output_type": "stream",
     "text": [
      " 71%|█████████████████████████▍          | 7071/10000 [1:39:45<40:26,  1.21it/s]"
     ]
    },
    {
     "name": "stdout",
     "output_type": "stream",
     "text": [
      "train test\n",
      "tensor(0.2118, dtype=torch.float64, grad_fn=<NllLossBackward0>)\n",
      "tensor(14.7800, dtype=torch.float64, grad_fn=<NllLossBackward0>)\n",
      "----------\n"
     ]
    },
    {
     "name": "stderr",
     "output_type": "stream",
     "text": [
      " 71%|█████████████████████████▍          | 7081/10000 [1:39:53<40:03,  1.21it/s]"
     ]
    },
    {
     "name": "stdout",
     "output_type": "stream",
     "text": [
      "train test\n",
      "tensor(0.2119, dtype=torch.float64, grad_fn=<NllLossBackward0>)\n",
      "tensor(14.7778, dtype=torch.float64, grad_fn=<NllLossBackward0>)\n",
      "----------\n"
     ]
    },
    {
     "name": "stderr",
     "output_type": "stream",
     "text": [
      " 71%|█████████████████████████▌          | 7091/10000 [1:40:01<40:05,  1.21it/s]"
     ]
    },
    {
     "name": "stdout",
     "output_type": "stream",
     "text": [
      "train test\n",
      "tensor(0.2117, dtype=torch.float64, grad_fn=<NllLossBackward0>)\n",
      "tensor(14.7834, dtype=torch.float64, grad_fn=<NllLossBackward0>)\n",
      "----------\n"
     ]
    },
    {
     "name": "stderr",
     "output_type": "stream",
     "text": [
      " 71%|█████████████████████████▌          | 7101/10000 [1:40:09<40:00,  1.21it/s]"
     ]
    },
    {
     "name": "stdout",
     "output_type": "stream",
     "text": [
      "train test\n",
      "tensor(0.2116, dtype=torch.float64, grad_fn=<NllLossBackward0>)\n",
      "tensor(14.7878, dtype=torch.float64, grad_fn=<NllLossBackward0>)\n",
      "----------\n"
     ]
    },
    {
     "name": "stderr",
     "output_type": "stream",
     "text": [
      " 71%|█████████████████████████▌          | 7111/10000 [1:40:18<40:09,  1.20it/s]"
     ]
    },
    {
     "name": "stdout",
     "output_type": "stream",
     "text": [
      "train test\n",
      "tensor(0.2117, dtype=torch.float64, grad_fn=<NllLossBackward0>)\n",
      "tensor(14.7834, dtype=torch.float64, grad_fn=<NllLossBackward0>)\n",
      "----------\n"
     ]
    },
    {
     "name": "stderr",
     "output_type": "stream",
     "text": [
      " 71%|█████████████████████████▋          | 7121/10000 [1:40:26<39:40,  1.21it/s]"
     ]
    },
    {
     "name": "stdout",
     "output_type": "stream",
     "text": [
      "train test\n",
      "tensor(0.2118, dtype=torch.float64, grad_fn=<NllLossBackward0>)\n",
      "tensor(14.7817, dtype=torch.float64, grad_fn=<NllLossBackward0>)\n",
      "----------\n"
     ]
    },
    {
     "name": "stderr",
     "output_type": "stream",
     "text": [
      " 71%|█████████████████████████▋          | 7131/10000 [1:40:34<39:17,  1.22it/s]"
     ]
    },
    {
     "name": "stdout",
     "output_type": "stream",
     "text": [
      "train test\n",
      "tensor(0.2118, dtype=torch.float64, grad_fn=<NllLossBackward0>)\n",
      "tensor(14.7849, dtype=torch.float64, grad_fn=<NllLossBackward0>)\n",
      "----------\n"
     ]
    },
    {
     "name": "stderr",
     "output_type": "stream",
     "text": [
      " 71%|█████████████████████████▋          | 7141/10000 [1:40:43<39:46,  1.20it/s]"
     ]
    },
    {
     "name": "stdout",
     "output_type": "stream",
     "text": [
      "train test\n",
      "tensor(0.2120, dtype=torch.float64, grad_fn=<NllLossBackward0>)\n",
      "tensor(14.7788, dtype=torch.float64, grad_fn=<NllLossBackward0>)\n",
      "----------\n"
     ]
    },
    {
     "name": "stderr",
     "output_type": "stream",
     "text": [
      " 72%|█████████████████████████▋          | 7151/10000 [1:40:51<38:34,  1.23it/s]"
     ]
    },
    {
     "name": "stdout",
     "output_type": "stream",
     "text": [
      "train test\n",
      "tensor(0.2122, dtype=torch.float64, grad_fn=<NllLossBackward0>)\n",
      "tensor(14.7685, dtype=torch.float64, grad_fn=<NllLossBackward0>)\n",
      "----------\n"
     ]
    },
    {
     "name": "stderr",
     "output_type": "stream",
     "text": [
      " 72%|█████████████████████████▊          | 7161/10000 [1:40:59<39:54,  1.19it/s]"
     ]
    },
    {
     "name": "stdout",
     "output_type": "stream",
     "text": [
      "train test\n",
      "tensor(0.2122, dtype=torch.float64, grad_fn=<NllLossBackward0>)\n",
      "tensor(14.7680, dtype=torch.float64, grad_fn=<NllLossBackward0>)\n",
      "----------\n"
     ]
    },
    {
     "name": "stderr",
     "output_type": "stream",
     "text": [
      " 72%|█████████████████████████▊          | 7171/10000 [1:41:08<38:34,  1.22it/s]"
     ]
    },
    {
     "name": "stdout",
     "output_type": "stream",
     "text": [
      "train test\n",
      "tensor(0.2122, dtype=torch.float64, grad_fn=<NllLossBackward0>)\n",
      "tensor(14.7712, dtype=torch.float64, grad_fn=<NllLossBackward0>)\n",
      "----------\n"
     ]
    },
    {
     "name": "stderr",
     "output_type": "stream",
     "text": [
      " 72%|█████████████████████████▊          | 7181/10000 [1:41:16<38:55,  1.21it/s]"
     ]
    },
    {
     "name": "stdout",
     "output_type": "stream",
     "text": [
      "train test\n",
      "tensor(0.2121, dtype=torch.float64, grad_fn=<NllLossBackward0>)\n",
      "tensor(14.7718, dtype=torch.float64, grad_fn=<NllLossBackward0>)\n",
      "----------\n"
     ]
    },
    {
     "name": "stderr",
     "output_type": "stream",
     "text": [
      " 72%|█████████████████████████▉          | 7191/10000 [1:41:24<38:08,  1.23it/s]"
     ]
    },
    {
     "name": "stdout",
     "output_type": "stream",
     "text": [
      "train test\n",
      "tensor(0.2121, dtype=torch.float64, grad_fn=<NllLossBackward0>)\n",
      "tensor(14.7762, dtype=torch.float64, grad_fn=<NllLossBackward0>)\n",
      "----------\n"
     ]
    },
    {
     "name": "stderr",
     "output_type": "stream",
     "text": [
      " 72%|█████████████████████████▉          | 7201/10000 [1:41:32<38:42,  1.20it/s]"
     ]
    },
    {
     "name": "stdout",
     "output_type": "stream",
     "text": [
      "train test\n",
      "tensor(0.2121, dtype=torch.float64, grad_fn=<NllLossBackward0>)\n",
      "tensor(14.7755, dtype=torch.float64, grad_fn=<NllLossBackward0>)\n",
      "----------\n"
     ]
    },
    {
     "name": "stderr",
     "output_type": "stream",
     "text": [
      " 72%|█████████████████████████▉          | 7211/10000 [1:41:41<38:04,  1.22it/s]"
     ]
    },
    {
     "name": "stdout",
     "output_type": "stream",
     "text": [
      "train test\n",
      "tensor(0.2120, dtype=torch.float64, grad_fn=<NllLossBackward0>)\n",
      "tensor(14.7778, dtype=torch.float64, grad_fn=<NllLossBackward0>)\n",
      "----------\n"
     ]
    },
    {
     "name": "stderr",
     "output_type": "stream",
     "text": [
      " 72%|█████████████████████████▉          | 7221/10000 [1:41:49<38:43,  1.20it/s]"
     ]
    },
    {
     "name": "stdout",
     "output_type": "stream",
     "text": [
      "train test\n",
      "tensor(0.2118, dtype=torch.float64, grad_fn=<NllLossBackward0>)\n",
      "tensor(14.7868, dtype=torch.float64, grad_fn=<NllLossBackward0>)\n",
      "----------\n"
     ]
    },
    {
     "name": "stderr",
     "output_type": "stream",
     "text": [
      " 72%|██████████████████████████          | 7231/10000 [1:41:57<38:20,  1.20it/s]"
     ]
    },
    {
     "name": "stdout",
     "output_type": "stream",
     "text": [
      "train test\n",
      "tensor(0.2117, dtype=torch.float64, grad_fn=<NllLossBackward0>)\n",
      "tensor(14.7874, dtype=torch.float64, grad_fn=<NllLossBackward0>)\n",
      "----------\n"
     ]
    },
    {
     "name": "stderr",
     "output_type": "stream",
     "text": [
      " 72%|██████████████████████████          | 7241/10000 [1:42:06<37:52,  1.21it/s]"
     ]
    },
    {
     "name": "stdout",
     "output_type": "stream",
     "text": [
      "train test\n",
      "tensor(0.2118, dtype=torch.float64, grad_fn=<NllLossBackward0>)\n",
      "tensor(14.7841, dtype=torch.float64, grad_fn=<NllLossBackward0>)\n",
      "----------\n"
     ]
    },
    {
     "name": "stderr",
     "output_type": "stream",
     "text": [
      " 73%|██████████████████████████          | 7251/10000 [1:42:14<38:07,  1.20it/s]"
     ]
    },
    {
     "name": "stdout",
     "output_type": "stream",
     "text": [
      "train test\n",
      "tensor(0.2118, dtype=torch.float64, grad_fn=<NllLossBackward0>)\n",
      "tensor(14.7859, dtype=torch.float64, grad_fn=<NllLossBackward0>)\n",
      "----------\n"
     ]
    },
    {
     "name": "stderr",
     "output_type": "stream",
     "text": [
      " 73%|██████████████████████████▏         | 7261/10000 [1:42:22<37:49,  1.21it/s]"
     ]
    },
    {
     "name": "stdout",
     "output_type": "stream",
     "text": [
      "train test\n",
      "tensor(0.2119, dtype=torch.float64, grad_fn=<NllLossBackward0>)\n",
      "tensor(14.7840, dtype=torch.float64, grad_fn=<NllLossBackward0>)\n",
      "----------\n"
     ]
    },
    {
     "name": "stderr",
     "output_type": "stream",
     "text": [
      " 73%|██████████████████████████▏         | 7271/10000 [1:42:31<38:28,  1.18it/s]"
     ]
    },
    {
     "name": "stdout",
     "output_type": "stream",
     "text": [
      "train test\n",
      "tensor(0.2120, dtype=torch.float64, grad_fn=<NllLossBackward0>)\n",
      "tensor(14.7823, dtype=torch.float64, grad_fn=<NllLossBackward0>)\n",
      "----------\n"
     ]
    },
    {
     "name": "stderr",
     "output_type": "stream",
     "text": [
      " 73%|██████████████████████████▏         | 7281/10000 [1:42:39<37:19,  1.21it/s]"
     ]
    },
    {
     "name": "stdout",
     "output_type": "stream",
     "text": [
      "train test\n",
      "tensor(0.2120, dtype=torch.float64, grad_fn=<NllLossBackward0>)\n",
      "tensor(14.7811, dtype=torch.float64, grad_fn=<NllLossBackward0>)\n",
      "----------\n"
     ]
    },
    {
     "name": "stderr",
     "output_type": "stream",
     "text": [
      " 73%|██████████████████████████▏         | 7291/10000 [1:42:47<37:29,  1.20it/s]"
     ]
    },
    {
     "name": "stdout",
     "output_type": "stream",
     "text": [
      "train test\n",
      "tensor(0.2119, dtype=torch.float64, grad_fn=<NllLossBackward0>)\n",
      "tensor(14.7817, dtype=torch.float64, grad_fn=<NllLossBackward0>)\n",
      "----------\n"
     ]
    },
    {
     "name": "stderr",
     "output_type": "stream",
     "text": [
      " 73%|██████████████████████████▎         | 7301/10000 [1:42:55<37:18,  1.21it/s]"
     ]
    },
    {
     "name": "stdout",
     "output_type": "stream",
     "text": [
      "train test\n",
      "tensor(0.2118, dtype=torch.float64, grad_fn=<NllLossBackward0>)\n",
      "tensor(14.7879, dtype=torch.float64, grad_fn=<NllLossBackward0>)\n",
      "----------\n"
     ]
    },
    {
     "name": "stderr",
     "output_type": "stream",
     "text": [
      " 73%|██████████████████████████▎         | 7311/10000 [1:43:04<37:33,  1.19it/s]"
     ]
    },
    {
     "name": "stdout",
     "output_type": "stream",
     "text": [
      "train test\n",
      "tensor(0.2116, dtype=torch.float64, grad_fn=<NllLossBackward0>)\n",
      "tensor(14.7936, dtype=torch.float64, grad_fn=<NllLossBackward0>)\n",
      "----------\n"
     ]
    },
    {
     "name": "stderr",
     "output_type": "stream",
     "text": [
      " 73%|██████████████████████████▎         | 7321/10000 [1:43:12<36:42,  1.22it/s]"
     ]
    },
    {
     "name": "stdout",
     "output_type": "stream",
     "text": [
      "train test\n",
      "tensor(0.2114, dtype=torch.float64, grad_fn=<NllLossBackward0>)\n",
      "tensor(14.7998, dtype=torch.float64, grad_fn=<NllLossBackward0>)\n",
      "----------\n"
     ]
    },
    {
     "name": "stderr",
     "output_type": "stream",
     "text": [
      " 73%|██████████████████████████▍         | 7331/10000 [1:43:20<37:25,  1.19it/s]"
     ]
    },
    {
     "name": "stdout",
     "output_type": "stream",
     "text": [
      "train test\n",
      "tensor(0.2113, dtype=torch.float64, grad_fn=<NllLossBackward0>)\n",
      "tensor(14.8014, dtype=torch.float64, grad_fn=<NllLossBackward0>)\n",
      "----------\n"
     ]
    },
    {
     "name": "stderr",
     "output_type": "stream",
     "text": [
      " 73%|██████████████████████████▍         | 7341/10000 [1:43:28<36:02,  1.23it/s]"
     ]
    },
    {
     "name": "stdout",
     "output_type": "stream",
     "text": [
      "train test\n",
      "tensor(0.2112, dtype=torch.float64, grad_fn=<NllLossBackward0>)\n",
      "tensor(14.8036, dtype=torch.float64, grad_fn=<NllLossBackward0>)\n",
      "----------\n"
     ]
    },
    {
     "name": "stderr",
     "output_type": "stream",
     "text": [
      " 74%|██████████████████████████▍         | 7351/10000 [1:43:37<37:22,  1.18it/s]"
     ]
    },
    {
     "name": "stdout",
     "output_type": "stream",
     "text": [
      "train test\n",
      "tensor(0.2112, dtype=torch.float64, grad_fn=<NllLossBackward0>)\n",
      "tensor(14.8040, dtype=torch.float64, grad_fn=<NllLossBackward0>)\n",
      "----------\n"
     ]
    },
    {
     "name": "stderr",
     "output_type": "stream",
     "text": [
      " 74%|██████████████████████████▍         | 7361/10000 [1:43:45<36:17,  1.21it/s]"
     ]
    },
    {
     "name": "stdout",
     "output_type": "stream",
     "text": [
      "train test\n",
      "tensor(0.2111, dtype=torch.float64, grad_fn=<NllLossBackward0>)\n",
      "tensor(14.8096, dtype=torch.float64, grad_fn=<NllLossBackward0>)\n",
      "----------\n"
     ]
    },
    {
     "name": "stderr",
     "output_type": "stream",
     "text": [
      " 74%|██████████████████████████▌         | 7371/10000 [1:43:53<37:13,  1.18it/s]"
     ]
    },
    {
     "name": "stdout",
     "output_type": "stream",
     "text": [
      "train test\n",
      "tensor(0.2110, dtype=torch.float64, grad_fn=<NllLossBackward0>)\n",
      "tensor(14.8151, dtype=torch.float64, grad_fn=<NllLossBackward0>)\n",
      "----------\n"
     ]
    },
    {
     "name": "stderr",
     "output_type": "stream",
     "text": [
      " 74%|██████████████████████████▌         | 7381/10000 [1:44:02<35:34,  1.23it/s]"
     ]
    },
    {
     "name": "stdout",
     "output_type": "stream",
     "text": [
      "train test\n",
      "tensor(0.2111, dtype=torch.float64, grad_fn=<NllLossBackward0>)\n",
      "tensor(14.8067, dtype=torch.float64, grad_fn=<NllLossBackward0>)\n",
      "----------\n"
     ]
    },
    {
     "name": "stderr",
     "output_type": "stream",
     "text": [
      " 74%|██████████████████████████▌         | 7391/10000 [1:44:10<36:01,  1.21it/s]"
     ]
    },
    {
     "name": "stdout",
     "output_type": "stream",
     "text": [
      "train test\n",
      "tensor(0.2112, dtype=torch.float64, grad_fn=<NllLossBackward0>)\n",
      "tensor(14.8032, dtype=torch.float64, grad_fn=<NllLossBackward0>)\n",
      "----------\n"
     ]
    },
    {
     "name": "stderr",
     "output_type": "stream",
     "text": [
      " 74%|██████████████████████████▋         | 7401/10000 [1:44:18<35:45,  1.21it/s]"
     ]
    },
    {
     "name": "stdout",
     "output_type": "stream",
     "text": [
      "train test\n",
      "tensor(0.2112, dtype=torch.float64, grad_fn=<NllLossBackward0>)\n",
      "tensor(14.8059, dtype=torch.float64, grad_fn=<NllLossBackward0>)\n",
      "----------\n"
     ]
    },
    {
     "name": "stderr",
     "output_type": "stream",
     "text": [
      " 74%|██████████████████████████▋         | 7411/10000 [1:44:26<35:46,  1.21it/s]"
     ]
    },
    {
     "name": "stdout",
     "output_type": "stream",
     "text": [
      "train test\n",
      "tensor(0.2114, dtype=torch.float64, grad_fn=<NllLossBackward0>)\n",
      "tensor(14.7949, dtype=torch.float64, grad_fn=<NllLossBackward0>)\n",
      "----------\n"
     ]
    },
    {
     "name": "stderr",
     "output_type": "stream",
     "text": [
      " 74%|██████████████████████████▋         | 7421/10000 [1:44:35<35:28,  1.21it/s]"
     ]
    },
    {
     "name": "stdout",
     "output_type": "stream",
     "text": [
      "train test\n",
      "tensor(0.2117, dtype=torch.float64, grad_fn=<NllLossBackward0>)\n",
      "tensor(14.7877, dtype=torch.float64, grad_fn=<NllLossBackward0>)\n",
      "----------\n"
     ]
    },
    {
     "name": "stderr",
     "output_type": "stream",
     "text": [
      " 74%|██████████████████████████▊         | 7431/10000 [1:44:43<35:19,  1.21it/s]"
     ]
    },
    {
     "name": "stdout",
     "output_type": "stream",
     "text": [
      "train test\n",
      "tensor(0.2118, dtype=torch.float64, grad_fn=<NllLossBackward0>)\n",
      "tensor(14.7868, dtype=torch.float64, grad_fn=<NllLossBackward0>)\n",
      "----------\n"
     ]
    },
    {
     "name": "stderr",
     "output_type": "stream",
     "text": [
      " 74%|██████████████████████████▊         | 7441/10000 [1:44:51<34:52,  1.22it/s]"
     ]
    },
    {
     "name": "stdout",
     "output_type": "stream",
     "text": [
      "train test\n",
      "tensor(0.2117, dtype=torch.float64, grad_fn=<NllLossBackward0>)\n",
      "tensor(14.7949, dtype=torch.float64, grad_fn=<NllLossBackward0>)\n",
      "----------\n"
     ]
    },
    {
     "name": "stderr",
     "output_type": "stream",
     "text": [
      " 75%|██████████████████████████▊         | 7451/10000 [1:44:59<34:42,  1.22it/s]"
     ]
    },
    {
     "name": "stdout",
     "output_type": "stream",
     "text": [
      "train test\n",
      "tensor(0.2116, dtype=torch.float64, grad_fn=<NllLossBackward0>)\n",
      "tensor(14.7966, dtype=torch.float64, grad_fn=<NllLossBackward0>)\n",
      "----------\n"
     ]
    },
    {
     "name": "stderr",
     "output_type": "stream",
     "text": [
      " 75%|██████████████████████████▊         | 7461/10000 [1:45:08<34:36,  1.22it/s]"
     ]
    },
    {
     "name": "stdout",
     "output_type": "stream",
     "text": [
      "train test\n",
      "tensor(0.2118, dtype=torch.float64, grad_fn=<NllLossBackward0>)\n",
      "tensor(14.7909, dtype=torch.float64, grad_fn=<NllLossBackward0>)\n",
      "----------\n"
     ]
    },
    {
     "name": "stderr",
     "output_type": "stream",
     "text": [
      " 75%|██████████████████████████▉         | 7471/10000 [1:45:16<34:51,  1.21it/s]"
     ]
    },
    {
     "name": "stdout",
     "output_type": "stream",
     "text": [
      "train test\n",
      "tensor(0.2118, dtype=torch.float64, grad_fn=<NllLossBackward0>)\n",
      "tensor(14.7918, dtype=torch.float64, grad_fn=<NllLossBackward0>)\n",
      "----------\n"
     ]
    },
    {
     "name": "stderr",
     "output_type": "stream",
     "text": [
      " 75%|██████████████████████████▉         | 7481/10000 [1:45:24<34:11,  1.23it/s]"
     ]
    },
    {
     "name": "stdout",
     "output_type": "stream",
     "text": [
      "train test\n",
      "tensor(0.2116, dtype=torch.float64, grad_fn=<NllLossBackward0>)\n",
      "tensor(14.7988, dtype=torch.float64, grad_fn=<NllLossBackward0>)\n",
      "----------\n"
     ]
    },
    {
     "name": "stderr",
     "output_type": "stream",
     "text": [
      " 75%|██████████████████████████▉         | 7491/10000 [1:45:32<34:02,  1.23it/s]"
     ]
    },
    {
     "name": "stdout",
     "output_type": "stream",
     "text": [
      "train test\n",
      "tensor(0.2114, dtype=torch.float64, grad_fn=<NllLossBackward0>)\n",
      "tensor(14.8039, dtype=torch.float64, grad_fn=<NllLossBackward0>)\n",
      "----------\n"
     ]
    },
    {
     "name": "stderr",
     "output_type": "stream",
     "text": [
      " 75%|███████████████████████████         | 7501/10000 [1:45:41<34:32,  1.21it/s]"
     ]
    },
    {
     "name": "stdout",
     "output_type": "stream",
     "text": [
      "train test\n",
      "tensor(0.2112, dtype=torch.float64, grad_fn=<NllLossBackward0>)\n",
      "tensor(14.8112, dtype=torch.float64, grad_fn=<NllLossBackward0>)\n",
      "----------\n"
     ]
    },
    {
     "name": "stderr",
     "output_type": "stream",
     "text": [
      " 75%|███████████████████████████         | 7511/10000 [1:45:49<33:53,  1.22it/s]"
     ]
    },
    {
     "name": "stdout",
     "output_type": "stream",
     "text": [
      "train test\n",
      "tensor(0.2110, dtype=torch.float64, grad_fn=<NllLossBackward0>)\n",
      "tensor(14.8171, dtype=torch.float64, grad_fn=<NllLossBackward0>)\n",
      "----------\n"
     ]
    },
    {
     "name": "stderr",
     "output_type": "stream",
     "text": [
      " 75%|███████████████████████████         | 7521/10000 [1:45:57<34:00,  1.21it/s]"
     ]
    },
    {
     "name": "stdout",
     "output_type": "stream",
     "text": [
      "train test\n",
      "tensor(0.2111, dtype=torch.float64, grad_fn=<NllLossBackward0>)\n",
      "tensor(14.8129, dtype=torch.float64, grad_fn=<NllLossBackward0>)\n",
      "----------\n"
     ]
    },
    {
     "name": "stderr",
     "output_type": "stream",
     "text": [
      " 75%|███████████████████████████         | 7531/10000 [1:46:05<33:17,  1.24it/s]"
     ]
    },
    {
     "name": "stdout",
     "output_type": "stream",
     "text": [
      "train test\n",
      "tensor(0.2111, dtype=torch.float64, grad_fn=<NllLossBackward0>)\n",
      "tensor(14.8139, dtype=torch.float64, grad_fn=<NllLossBackward0>)\n",
      "----------\n"
     ]
    },
    {
     "name": "stderr",
     "output_type": "stream",
     "text": [
      " 75%|███████████████████████████▏        | 7541/10000 [1:46:14<33:54,  1.21it/s]"
     ]
    },
    {
     "name": "stdout",
     "output_type": "stream",
     "text": [
      "train test\n",
      "tensor(0.2108, dtype=torch.float64, grad_fn=<NllLossBackward0>)\n",
      "tensor(14.8225, dtype=torch.float64, grad_fn=<NllLossBackward0>)\n",
      "----------\n"
     ]
    },
    {
     "name": "stderr",
     "output_type": "stream",
     "text": [
      " 76%|███████████████████████████▏        | 7551/10000 [1:46:22<32:51,  1.24it/s]"
     ]
    },
    {
     "name": "stdout",
     "output_type": "stream",
     "text": [
      "train test\n",
      "tensor(0.2108, dtype=torch.float64, grad_fn=<NllLossBackward0>)\n",
      "tensor(14.8261, dtype=torch.float64, grad_fn=<NllLossBackward0>)\n",
      "----------\n"
     ]
    },
    {
     "name": "stderr",
     "output_type": "stream",
     "text": [
      " 76%|███████████████████████████▏        | 7561/10000 [1:46:30<33:30,  1.21it/s]"
     ]
    },
    {
     "name": "stdout",
     "output_type": "stream",
     "text": [
      "train test\n",
      "tensor(0.2113, dtype=torch.float64, grad_fn=<NllLossBackward0>)\n",
      "tensor(14.8052, dtype=torch.float64, grad_fn=<NllLossBackward0>)\n",
      "----------\n"
     ]
    },
    {
     "name": "stderr",
     "output_type": "stream",
     "text": [
      " 76%|███████████████████████████▎        | 7571/10000 [1:46:38<32:55,  1.23it/s]"
     ]
    },
    {
     "name": "stdout",
     "output_type": "stream",
     "text": [
      "train test\n",
      "tensor(0.2119, dtype=torch.float64, grad_fn=<NllLossBackward0>)\n",
      "tensor(14.7893, dtype=torch.float64, grad_fn=<NllLossBackward0>)\n",
      "----------\n"
     ]
    },
    {
     "name": "stderr",
     "output_type": "stream",
     "text": [
      " 76%|███████████████████████████▎        | 7581/10000 [1:46:46<33:45,  1.19it/s]"
     ]
    },
    {
     "name": "stdout",
     "output_type": "stream",
     "text": [
      "train test\n",
      "tensor(0.2122, dtype=torch.float64, grad_fn=<NllLossBackward0>)\n",
      "tensor(14.7819, dtype=torch.float64, grad_fn=<NllLossBackward0>)\n",
      "----------\n"
     ]
    },
    {
     "name": "stderr",
     "output_type": "stream",
     "text": [
      " 76%|███████████████████████████▎        | 7591/10000 [1:46:55<32:24,  1.24it/s]"
     ]
    },
    {
     "name": "stdout",
     "output_type": "stream",
     "text": [
      "train test\n",
      "tensor(0.2123, dtype=torch.float64, grad_fn=<NllLossBackward0>)\n",
      "tensor(14.7805, dtype=torch.float64, grad_fn=<NllLossBackward0>)\n",
      "----------\n"
     ]
    },
    {
     "name": "stderr",
     "output_type": "stream",
     "text": [
      " 76%|███████████████████████████▎        | 7601/10000 [1:47:03<33:06,  1.21it/s]"
     ]
    },
    {
     "name": "stdout",
     "output_type": "stream",
     "text": [
      "train test\n",
      "tensor(0.2125, dtype=torch.float64, grad_fn=<NllLossBackward0>)\n",
      "tensor(14.7745, dtype=torch.float64, grad_fn=<NllLossBackward0>)\n",
      "----------\n"
     ]
    },
    {
     "name": "stderr",
     "output_type": "stream",
     "text": [
      " 76%|███████████████████████████▍        | 7611/10000 [1:47:11<32:29,  1.23it/s]"
     ]
    },
    {
     "name": "stdout",
     "output_type": "stream",
     "text": [
      "train test\n",
      "tensor(0.2125, dtype=torch.float64, grad_fn=<NllLossBackward0>)\n",
      "tensor(14.7741, dtype=torch.float64, grad_fn=<NllLossBackward0>)\n",
      "----------\n"
     ]
    },
    {
     "name": "stderr",
     "output_type": "stream",
     "text": [
      " 76%|███████████████████████████▍        | 7621/10000 [1:47:19<33:17,  1.19it/s]"
     ]
    },
    {
     "name": "stdout",
     "output_type": "stream",
     "text": [
      "train test\n",
      "tensor(0.2123, dtype=torch.float64, grad_fn=<NllLossBackward0>)\n",
      "tensor(14.7815, dtype=torch.float64, grad_fn=<NllLossBackward0>)\n",
      "----------\n"
     ]
    },
    {
     "name": "stderr",
     "output_type": "stream",
     "text": [
      " 76%|███████████████████████████▍        | 7631/10000 [1:47:28<32:11,  1.23it/s]"
     ]
    },
    {
     "name": "stdout",
     "output_type": "stream",
     "text": [
      "train test\n",
      "tensor(0.2122, dtype=torch.float64, grad_fn=<NllLossBackward0>)\n",
      "tensor(14.7885, dtype=torch.float64, grad_fn=<NllLossBackward0>)\n",
      "----------\n"
     ]
    },
    {
     "name": "stderr",
     "output_type": "stream",
     "text": [
      " 76%|███████████████████████████▌        | 7641/10000 [1:47:36<33:04,  1.19it/s]"
     ]
    },
    {
     "name": "stdout",
     "output_type": "stream",
     "text": [
      "train test\n",
      "tensor(0.2121, dtype=torch.float64, grad_fn=<NllLossBackward0>)\n",
      "tensor(14.7887, dtype=torch.float64, grad_fn=<NllLossBackward0>)\n",
      "----------\n"
     ]
    },
    {
     "name": "stderr",
     "output_type": "stream",
     "text": [
      " 77%|███████████████████████████▌        | 7651/10000 [1:47:44<31:42,  1.23it/s]"
     ]
    },
    {
     "name": "stdout",
     "output_type": "stream",
     "text": [
      "train test\n",
      "tensor(0.2120, dtype=torch.float64, grad_fn=<NllLossBackward0>)\n",
      "tensor(14.7930, dtype=torch.float64, grad_fn=<NllLossBackward0>)\n",
      "----------\n"
     ]
    },
    {
     "name": "stderr",
     "output_type": "stream",
     "text": [
      " 77%|███████████████████████████▌        | 7661/10000 [1:47:53<32:48,  1.19it/s]"
     ]
    },
    {
     "name": "stdout",
     "output_type": "stream",
     "text": [
      "train test\n",
      "tensor(0.2119, dtype=torch.float64, grad_fn=<NllLossBackward0>)\n",
      "tensor(14.7945, dtype=torch.float64, grad_fn=<NllLossBackward0>)\n",
      "----------\n"
     ]
    },
    {
     "name": "stderr",
     "output_type": "stream",
     "text": [
      " 77%|███████████████████████████▌        | 7671/10000 [1:48:01<31:43,  1.22it/s]"
     ]
    },
    {
     "name": "stdout",
     "output_type": "stream",
     "text": [
      "train test\n",
      "tensor(0.2119, dtype=torch.float64, grad_fn=<NllLossBackward0>)\n",
      "tensor(14.7943, dtype=torch.float64, grad_fn=<NllLossBackward0>)\n",
      "----------\n"
     ]
    },
    {
     "name": "stderr",
     "output_type": "stream",
     "text": [
      " 77%|███████████████████████████▋        | 7681/10000 [1:48:09<32:29,  1.19it/s]"
     ]
    },
    {
     "name": "stdout",
     "output_type": "stream",
     "text": [
      "train test\n",
      "tensor(0.2117, dtype=torch.float64, grad_fn=<NllLossBackward0>)\n",
      "tensor(14.8004, dtype=torch.float64, grad_fn=<NllLossBackward0>)\n",
      "----------\n"
     ]
    },
    {
     "name": "stderr",
     "output_type": "stream",
     "text": [
      " 77%|███████████████████████████▋        | 7691/10000 [1:48:17<31:24,  1.23it/s]"
     ]
    },
    {
     "name": "stdout",
     "output_type": "stream",
     "text": [
      "train test\n",
      "tensor(0.2115, dtype=torch.float64, grad_fn=<NllLossBackward0>)\n",
      "tensor(14.8072, dtype=torch.float64, grad_fn=<NllLossBackward0>)\n",
      "----------\n"
     ]
    },
    {
     "name": "stderr",
     "output_type": "stream",
     "text": [
      " 77%|███████████████████████████▋        | 7701/10000 [1:48:26<32:21,  1.18it/s]"
     ]
    },
    {
     "name": "stdout",
     "output_type": "stream",
     "text": [
      "train test\n",
      "tensor(0.2116, dtype=torch.float64, grad_fn=<NllLossBackward0>)\n",
      "tensor(14.8013, dtype=torch.float64, grad_fn=<NllLossBackward0>)\n",
      "----------\n"
     ]
    },
    {
     "name": "stderr",
     "output_type": "stream",
     "text": [
      " 77%|███████████████████████████▊        | 7711/10000 [1:48:34<30:59,  1.23it/s]"
     ]
    },
    {
     "name": "stdout",
     "output_type": "stream",
     "text": [
      "train test\n",
      "tensor(0.2117, dtype=torch.float64, grad_fn=<NllLossBackward0>)\n",
      "tensor(14.7985, dtype=torch.float64, grad_fn=<NllLossBackward0>)\n",
      "----------\n"
     ]
    },
    {
     "name": "stderr",
     "output_type": "stream",
     "text": [
      " 77%|███████████████████████████▊        | 7721/10000 [1:48:42<31:45,  1.20it/s]"
     ]
    },
    {
     "name": "stdout",
     "output_type": "stream",
     "text": [
      "train test\n",
      "tensor(0.2118, dtype=torch.float64, grad_fn=<NllLossBackward0>)\n",
      "tensor(14.7968, dtype=torch.float64, grad_fn=<NllLossBackward0>)\n",
      "----------\n"
     ]
    },
    {
     "name": "stderr",
     "output_type": "stream",
     "text": [
      " 77%|███████████████████████████▊        | 7731/10000 [1:48:50<30:41,  1.23it/s]"
     ]
    },
    {
     "name": "stdout",
     "output_type": "stream",
     "text": [
      "train test\n",
      "tensor(0.2117, dtype=torch.float64, grad_fn=<NllLossBackward0>)\n",
      "tensor(14.8000, dtype=torch.float64, grad_fn=<NllLossBackward0>)\n",
      "----------\n"
     ]
    },
    {
     "name": "stderr",
     "output_type": "stream",
     "text": [
      " 77%|███████████████████████████▊        | 7741/10000 [1:48:59<31:19,  1.20it/s]"
     ]
    },
    {
     "name": "stdout",
     "output_type": "stream",
     "text": [
      "train test\n",
      "tensor(0.2115, dtype=torch.float64, grad_fn=<NllLossBackward0>)\n",
      "tensor(14.8076, dtype=torch.float64, grad_fn=<NllLossBackward0>)\n",
      "----------\n"
     ]
    },
    {
     "name": "stderr",
     "output_type": "stream",
     "text": [
      " 78%|███████████████████████████▉        | 7751/10000 [1:49:07<30:47,  1.22it/s]"
     ]
    },
    {
     "name": "stdout",
     "output_type": "stream",
     "text": [
      "train test\n",
      "tensor(0.2115, dtype=torch.float64, grad_fn=<NllLossBackward0>)\n",
      "tensor(14.8067, dtype=torch.float64, grad_fn=<NllLossBackward0>)\n",
      "----------\n"
     ]
    },
    {
     "name": "stderr",
     "output_type": "stream",
     "text": [
      " 78%|███████████████████████████▉        | 7761/10000 [1:49:15<31:46,  1.17it/s]"
     ]
    },
    {
     "name": "stdout",
     "output_type": "stream",
     "text": [
      "train test\n",
      "tensor(0.2115, dtype=torch.float64, grad_fn=<NllLossBackward0>)\n",
      "tensor(14.8077, dtype=torch.float64, grad_fn=<NllLossBackward0>)\n",
      "----------\n"
     ]
    },
    {
     "name": "stderr",
     "output_type": "stream",
     "text": [
      " 78%|███████████████████████████▉        | 7771/10000 [1:49:23<30:28,  1.22it/s]"
     ]
    },
    {
     "name": "stdout",
     "output_type": "stream",
     "text": [
      "train test\n",
      "tensor(0.2115, dtype=torch.float64, grad_fn=<NllLossBackward0>)\n",
      "tensor(14.8130, dtype=torch.float64, grad_fn=<NllLossBackward0>)\n",
      "----------\n"
     ]
    },
    {
     "name": "stderr",
     "output_type": "stream",
     "text": [
      " 78%|████████████████████████████        | 7781/10000 [1:49:32<30:47,  1.20it/s]"
     ]
    },
    {
     "name": "stdout",
     "output_type": "stream",
     "text": [
      "train test\n",
      "tensor(0.2117, dtype=torch.float64, grad_fn=<NllLossBackward0>)\n",
      "tensor(14.8036, dtype=torch.float64, grad_fn=<NllLossBackward0>)\n",
      "----------\n"
     ]
    },
    {
     "name": "stderr",
     "output_type": "stream",
     "text": [
      " 78%|████████████████████████████        | 7791/10000 [1:49:40<30:28,  1.21it/s]"
     ]
    },
    {
     "name": "stdout",
     "output_type": "stream",
     "text": [
      "train test\n",
      "tensor(0.2119, dtype=torch.float64, grad_fn=<NllLossBackward0>)\n",
      "tensor(14.7963, dtype=torch.float64, grad_fn=<NllLossBackward0>)\n",
      "----------\n"
     ]
    },
    {
     "name": "stderr",
     "output_type": "stream",
     "text": [
      " 78%|████████████████████████████        | 7801/10000 [1:49:48<30:16,  1.21it/s]"
     ]
    },
    {
     "name": "stdout",
     "output_type": "stream",
     "text": [
      "train test\n",
      "tensor(0.2120, dtype=torch.float64, grad_fn=<NllLossBackward0>)\n",
      "tensor(14.7960, dtype=torch.float64, grad_fn=<NllLossBackward0>)\n",
      "----------\n"
     ]
    },
    {
     "name": "stderr",
     "output_type": "stream",
     "text": [
      " 78%|████████████████████████████        | 7811/10000 [1:49:56<30:25,  1.20it/s]"
     ]
    },
    {
     "name": "stdout",
     "output_type": "stream",
     "text": [
      "train test\n",
      "tensor(0.2120, dtype=torch.float64, grad_fn=<NllLossBackward0>)\n",
      "tensor(14.7972, dtype=torch.float64, grad_fn=<NllLossBackward0>)\n",
      "----------\n"
     ]
    },
    {
     "name": "stderr",
     "output_type": "stream",
     "text": [
      " 78%|████████████████████████████▏       | 7821/10000 [1:50:05<29:50,  1.22it/s]"
     ]
    },
    {
     "name": "stdout",
     "output_type": "stream",
     "text": [
      "train test\n",
      "tensor(0.2120, dtype=torch.float64, grad_fn=<NllLossBackward0>)\n",
      "tensor(14.7992, dtype=torch.float64, grad_fn=<NllLossBackward0>)\n",
      "----------\n"
     ]
    },
    {
     "name": "stderr",
     "output_type": "stream",
     "text": [
      " 78%|████████████████████████████▏       | 7831/10000 [1:50:13<29:51,  1.21it/s]"
     ]
    },
    {
     "name": "stdout",
     "output_type": "stream",
     "text": [
      "train test\n",
      "tensor(0.2118, dtype=torch.float64, grad_fn=<NllLossBackward0>)\n",
      "tensor(14.8046, dtype=torch.float64, grad_fn=<NllLossBackward0>)\n",
      "----------\n"
     ]
    },
    {
     "name": "stderr",
     "output_type": "stream",
     "text": [
      " 78%|████████████████████████████▏       | 7841/10000 [1:50:21<29:28,  1.22it/s]"
     ]
    },
    {
     "name": "stdout",
     "output_type": "stream",
     "text": [
      "train test\n",
      "tensor(0.2117, dtype=torch.float64, grad_fn=<NllLossBackward0>)\n",
      "tensor(14.8086, dtype=torch.float64, grad_fn=<NllLossBackward0>)\n",
      "----------\n"
     ]
    },
    {
     "name": "stderr",
     "output_type": "stream",
     "text": [
      " 79%|████████████████████████████▎       | 7851/10000 [1:50:30<29:39,  1.21it/s]"
     ]
    },
    {
     "name": "stdout",
     "output_type": "stream",
     "text": [
      "train test\n",
      "tensor(0.2115, dtype=torch.float64, grad_fn=<NllLossBackward0>)\n",
      "tensor(14.8161, dtype=torch.float64, grad_fn=<NllLossBackward0>)\n",
      "----------\n"
     ]
    },
    {
     "name": "stderr",
     "output_type": "stream",
     "text": [
      " 79%|████████████████████████████▎       | 7861/10000 [1:50:38<28:56,  1.23it/s]"
     ]
    },
    {
     "name": "stdout",
     "output_type": "stream",
     "text": [
      "train test\n",
      "tensor(0.2114, dtype=torch.float64, grad_fn=<NllLossBackward0>)\n",
      "tensor(14.8224, dtype=torch.float64, grad_fn=<NllLossBackward0>)\n",
      "----------\n"
     ]
    },
    {
     "name": "stderr",
     "output_type": "stream",
     "text": [
      " 79%|████████████████████████████▎       | 7871/10000 [1:50:46<29:27,  1.20it/s]"
     ]
    },
    {
     "name": "stdout",
     "output_type": "stream",
     "text": [
      "train test\n",
      "tensor(0.2115, dtype=torch.float64, grad_fn=<NllLossBackward0>)\n",
      "tensor(14.8128, dtype=torch.float64, grad_fn=<NllLossBackward0>)\n",
      "----------\n"
     ]
    },
    {
     "name": "stderr",
     "output_type": "stream",
     "text": [
      " 79%|████████████████████████████▎       | 7881/10000 [1:50:54<28:43,  1.23it/s]"
     ]
    },
    {
     "name": "stdout",
     "output_type": "stream",
     "text": [
      "train test\n",
      "tensor(0.2117, dtype=torch.float64, grad_fn=<NllLossBackward0>)\n",
      "tensor(14.8057, dtype=torch.float64, grad_fn=<NllLossBackward0>)\n",
      "----------\n"
     ]
    },
    {
     "name": "stderr",
     "output_type": "stream",
     "text": [
      " 79%|████████████████████████████▍       | 7891/10000 [1:51:03<29:07,  1.21it/s]"
     ]
    },
    {
     "name": "stdout",
     "output_type": "stream",
     "text": [
      "train test\n",
      "tensor(0.2116, dtype=torch.float64, grad_fn=<NllLossBackward0>)\n",
      "tensor(14.8068, dtype=torch.float64, grad_fn=<NllLossBackward0>)\n",
      "----------\n"
     ]
    },
    {
     "name": "stderr",
     "output_type": "stream",
     "text": [
      " 79%|████████████████████████████▍       | 7901/10000 [1:51:11<28:25,  1.23it/s]"
     ]
    },
    {
     "name": "stdout",
     "output_type": "stream",
     "text": [
      "train test\n",
      "tensor(0.2116, dtype=torch.float64, grad_fn=<NllLossBackward0>)\n",
      "tensor(14.8101, dtype=torch.float64, grad_fn=<NllLossBackward0>)\n",
      "----------\n"
     ]
    },
    {
     "name": "stderr",
     "output_type": "stream",
     "text": [
      " 79%|████████████████████████████▍       | 7911/10000 [1:51:19<29:06,  1.20it/s]"
     ]
    },
    {
     "name": "stdout",
     "output_type": "stream",
     "text": [
      "train test\n",
      "tensor(0.2116, dtype=torch.float64, grad_fn=<NllLossBackward0>)\n",
      "tensor(14.8083, dtype=torch.float64, grad_fn=<NllLossBackward0>)\n",
      "----------\n"
     ]
    },
    {
     "name": "stderr",
     "output_type": "stream",
     "text": [
      " 79%|████████████████████████████▌       | 7921/10000 [1:51:27<28:26,  1.22it/s]"
     ]
    },
    {
     "name": "stdout",
     "output_type": "stream",
     "text": [
      "train test\n",
      "tensor(0.2116, dtype=torch.float64, grad_fn=<NllLossBackward0>)\n",
      "tensor(14.8116, dtype=torch.float64, grad_fn=<NllLossBackward0>)\n",
      "----------\n"
     ]
    },
    {
     "name": "stderr",
     "output_type": "stream",
     "text": [
      " 79%|████████████████████████████▌       | 7931/10000 [1:51:36<28:58,  1.19it/s]"
     ]
    },
    {
     "name": "stdout",
     "output_type": "stream",
     "text": [
      "train test\n",
      "tensor(0.2116, dtype=torch.float64, grad_fn=<NllLossBackward0>)\n",
      "tensor(14.8138, dtype=torch.float64, grad_fn=<NllLossBackward0>)\n",
      "----------\n"
     ]
    },
    {
     "name": "stderr",
     "output_type": "stream",
     "text": [
      " 79%|████████████████████████████▌       | 7941/10000 [1:51:44<28:07,  1.22it/s]"
     ]
    },
    {
     "name": "stdout",
     "output_type": "stream",
     "text": [
      "train test\n",
      "tensor(0.2117, dtype=torch.float64, grad_fn=<NllLossBackward0>)\n",
      "tensor(14.8087, dtype=torch.float64, grad_fn=<NllLossBackward0>)\n",
      "----------\n"
     ]
    },
    {
     "name": "stderr",
     "output_type": "stream",
     "text": [
      " 80%|████████████████████████████▌       | 7951/10000 [1:51:52<28:25,  1.20it/s]"
     ]
    },
    {
     "name": "stdout",
     "output_type": "stream",
     "text": [
      "train test\n",
      "tensor(0.2116, dtype=torch.float64, grad_fn=<NllLossBackward0>)\n",
      "tensor(14.8084, dtype=torch.float64, grad_fn=<NllLossBackward0>)\n",
      "----------\n"
     ]
    },
    {
     "name": "stderr",
     "output_type": "stream",
     "text": [
      " 80%|████████████████████████████▋       | 7961/10000 [1:52:00<27:30,  1.24it/s]"
     ]
    },
    {
     "name": "stdout",
     "output_type": "stream",
     "text": [
      "train test\n",
      "tensor(0.2115, dtype=torch.float64, grad_fn=<NllLossBackward0>)\n",
      "tensor(14.8130, dtype=torch.float64, grad_fn=<NllLossBackward0>)\n",
      "----------\n"
     ]
    },
    {
     "name": "stderr",
     "output_type": "stream",
     "text": [
      " 80%|████████████████████████████▋       | 7971/10000 [1:52:09<28:04,  1.20it/s]"
     ]
    },
    {
     "name": "stdout",
     "output_type": "stream",
     "text": [
      "train test\n",
      "tensor(0.2114, dtype=torch.float64, grad_fn=<NllLossBackward0>)\n",
      "tensor(14.8129, dtype=torch.float64, grad_fn=<NllLossBackward0>)\n",
      "----------\n"
     ]
    },
    {
     "name": "stderr",
     "output_type": "stream",
     "text": [
      " 80%|████████████████████████████▋       | 7981/10000 [1:52:17<27:55,  1.20it/s]"
     ]
    },
    {
     "name": "stdout",
     "output_type": "stream",
     "text": [
      "train test\n",
      "tensor(0.2113, dtype=torch.float64, grad_fn=<NllLossBackward0>)\n",
      "tensor(14.8156, dtype=torch.float64, grad_fn=<NllLossBackward0>)\n",
      "----------\n"
     ]
    },
    {
     "name": "stderr",
     "output_type": "stream",
     "text": [
      " 80%|████████████████████████████▊       | 7991/10000 [1:52:25<27:42,  1.21it/s]"
     ]
    },
    {
     "name": "stdout",
     "output_type": "stream",
     "text": [
      "train test\n",
      "tensor(0.2112, dtype=torch.float64, grad_fn=<NllLossBackward0>)\n",
      "tensor(14.8203, dtype=torch.float64, grad_fn=<NllLossBackward0>)\n",
      "----------\n"
     ]
    },
    {
     "name": "stderr",
     "output_type": "stream",
     "text": [
      " 80%|████████████████████████████▊       | 8001/10000 [1:52:34<27:20,  1.22it/s]"
     ]
    },
    {
     "name": "stdout",
     "output_type": "stream",
     "text": [
      "train test\n",
      "tensor(0.2111, dtype=torch.float64, grad_fn=<NllLossBackward0>)\n",
      "tensor(14.8236, dtype=torch.float64, grad_fn=<NllLossBackward0>)\n",
      "----------\n"
     ]
    },
    {
     "name": "stderr",
     "output_type": "stream",
     "text": [
      " 80%|████████████████████████████▊       | 8011/10000 [1:52:42<27:32,  1.20it/s]"
     ]
    },
    {
     "name": "stdout",
     "output_type": "stream",
     "text": [
      "train test\n",
      "tensor(0.2109, dtype=torch.float64, grad_fn=<NllLossBackward0>)\n",
      "tensor(14.8313, dtype=torch.float64, grad_fn=<NllLossBackward0>)\n",
      "----------\n"
     ]
    },
    {
     "name": "stderr",
     "output_type": "stream",
     "text": [
      " 80%|████████████████████████████▉       | 8021/10000 [1:52:50<26:58,  1.22it/s]"
     ]
    },
    {
     "name": "stdout",
     "output_type": "stream",
     "text": [
      "train test\n",
      "tensor(0.2110, dtype=torch.float64, grad_fn=<NllLossBackward0>)\n",
      "tensor(14.8256, dtype=torch.float64, grad_fn=<NllLossBackward0>)\n",
      "----------\n"
     ]
    },
    {
     "name": "stderr",
     "output_type": "stream",
     "text": [
      " 80%|████████████████████████████▉       | 8031/10000 [1:52:59<27:23,  1.20it/s]"
     ]
    },
    {
     "name": "stdout",
     "output_type": "stream",
     "text": [
      "train test\n",
      "tensor(0.2113, dtype=torch.float64, grad_fn=<NllLossBackward0>)\n",
      "tensor(14.8119, dtype=torch.float64, grad_fn=<NllLossBackward0>)\n",
      "----------\n"
     ]
    },
    {
     "name": "stderr",
     "output_type": "stream",
     "text": [
      " 80%|████████████████████████████▉       | 8041/10000 [1:53:07<26:37,  1.23it/s]"
     ]
    },
    {
     "name": "stdout",
     "output_type": "stream",
     "text": [
      "train test\n",
      "tensor(0.2115, dtype=torch.float64, grad_fn=<NllLossBackward0>)\n",
      "tensor(14.8055, dtype=torch.float64, grad_fn=<NllLossBackward0>)\n",
      "----------\n"
     ]
    },
    {
     "name": "stderr",
     "output_type": "stream",
     "text": [
      " 81%|████████████████████████████▉       | 8051/10000 [1:53:15<27:18,  1.19it/s]"
     ]
    },
    {
     "name": "stdout",
     "output_type": "stream",
     "text": [
      "train test\n",
      "tensor(0.2117, dtype=torch.float64, grad_fn=<NllLossBackward0>)\n",
      "tensor(14.7994, dtype=torch.float64, grad_fn=<NllLossBackward0>)\n",
      "----------\n"
     ]
    },
    {
     "name": "stderr",
     "output_type": "stream",
     "text": [
      " 81%|█████████████████████████████       | 8061/10000 [1:53:24<26:39,  1.21it/s]"
     ]
    },
    {
     "name": "stdout",
     "output_type": "stream",
     "text": [
      "train test\n",
      "tensor(0.2118, dtype=torch.float64, grad_fn=<NllLossBackward0>)\n",
      "tensor(14.7948, dtype=torch.float64, grad_fn=<NllLossBackward0>)\n",
      "----------\n"
     ]
    },
    {
     "name": "stderr",
     "output_type": "stream",
     "text": [
      " 81%|█████████████████████████████       | 8071/10000 [1:53:32<26:57,  1.19it/s]"
     ]
    },
    {
     "name": "stdout",
     "output_type": "stream",
     "text": [
      "train test\n",
      "tensor(0.2118, dtype=torch.float64, grad_fn=<NllLossBackward0>)\n",
      "tensor(14.7974, dtype=torch.float64, grad_fn=<NllLossBackward0>)\n",
      "----------\n"
     ]
    },
    {
     "name": "stderr",
     "output_type": "stream",
     "text": [
      " 81%|█████████████████████████████       | 8081/10000 [1:53:40<26:19,  1.22it/s]"
     ]
    },
    {
     "name": "stdout",
     "output_type": "stream",
     "text": [
      "train test\n",
      "tensor(0.2117, dtype=torch.float64, grad_fn=<NllLossBackward0>)\n",
      "tensor(14.8007, dtype=torch.float64, grad_fn=<NllLossBackward0>)\n",
      "----------\n"
     ]
    },
    {
     "name": "stderr",
     "output_type": "stream",
     "text": [
      " 81%|█████████████████████████████▏      | 8091/10000 [1:53:48<26:43,  1.19it/s]"
     ]
    },
    {
     "name": "stdout",
     "output_type": "stream",
     "text": [
      "train test\n",
      "tensor(0.2115, dtype=torch.float64, grad_fn=<NllLossBackward0>)\n",
      "tensor(14.8082, dtype=torch.float64, grad_fn=<NllLossBackward0>)\n",
      "----------\n"
     ]
    },
    {
     "name": "stderr",
     "output_type": "stream",
     "text": [
      " 81%|█████████████████████████████▏      | 8101/10000 [1:53:57<25:52,  1.22it/s]"
     ]
    },
    {
     "name": "stdout",
     "output_type": "stream",
     "text": [
      "train test\n",
      "tensor(0.2113, dtype=torch.float64, grad_fn=<NllLossBackward0>)\n",
      "tensor(14.8164, dtype=torch.float64, grad_fn=<NllLossBackward0>)\n",
      "----------\n"
     ]
    },
    {
     "name": "stderr",
     "output_type": "stream",
     "text": [
      " 81%|█████████████████████████████▏      | 8111/10000 [1:54:05<26:31,  1.19it/s]"
     ]
    },
    {
     "name": "stdout",
     "output_type": "stream",
     "text": [
      "train test\n",
      "tensor(0.2114, dtype=torch.float64, grad_fn=<NllLossBackward0>)\n",
      "tensor(14.8116, dtype=torch.float64, grad_fn=<NllLossBackward0>)\n",
      "----------\n"
     ]
    },
    {
     "name": "stderr",
     "output_type": "stream",
     "text": [
      " 81%|█████████████████████████████▏      | 8121/10000 [1:54:13<25:34,  1.22it/s]"
     ]
    },
    {
     "name": "stdout",
     "output_type": "stream",
     "text": [
      "train test\n",
      "tensor(0.2115, dtype=torch.float64, grad_fn=<NllLossBackward0>)\n",
      "tensor(14.8092, dtype=torch.float64, grad_fn=<NllLossBackward0>)\n",
      "----------\n"
     ]
    },
    {
     "name": "stderr",
     "output_type": "stream",
     "text": [
      " 81%|█████████████████████████████▎      | 8131/10000 [1:54:22<26:06,  1.19it/s]"
     ]
    },
    {
     "name": "stdout",
     "output_type": "stream",
     "text": [
      "train test\n",
      "tensor(0.2114, dtype=torch.float64, grad_fn=<NllLossBackward0>)\n",
      "tensor(14.8116, dtype=torch.float64, grad_fn=<NllLossBackward0>)\n",
      "----------\n"
     ]
    },
    {
     "name": "stderr",
     "output_type": "stream",
     "text": [
      " 81%|█████████████████████████████▎      | 8141/10000 [1:54:30<25:39,  1.21it/s]"
     ]
    },
    {
     "name": "stdout",
     "output_type": "stream",
     "text": [
      "train test\n",
      "tensor(0.2113, dtype=torch.float64, grad_fn=<NllLossBackward0>)\n",
      "tensor(14.8145, dtype=torch.float64, grad_fn=<NllLossBackward0>)\n",
      "----------\n"
     ]
    },
    {
     "name": "stderr",
     "output_type": "stream",
     "text": [
      " 82%|█████████████████████████████▎      | 8151/10000 [1:54:38<25:48,  1.19it/s]"
     ]
    },
    {
     "name": "stdout",
     "output_type": "stream",
     "text": [
      "train test\n",
      "tensor(0.2111, dtype=torch.float64, grad_fn=<NllLossBackward0>)\n",
      "tensor(14.8232, dtype=torch.float64, grad_fn=<NllLossBackward0>)\n",
      "----------\n"
     ]
    },
    {
     "name": "stderr",
     "output_type": "stream",
     "text": [
      " 82%|█████████████████████████████▍      | 8161/10000 [1:54:47<25:09,  1.22it/s]"
     ]
    },
    {
     "name": "stdout",
     "output_type": "stream",
     "text": [
      "train test\n",
      "tensor(0.2109, dtype=torch.float64, grad_fn=<NllLossBackward0>)\n",
      "tensor(14.8315, dtype=torch.float64, grad_fn=<NllLossBackward0>)\n",
      "----------\n"
     ]
    },
    {
     "name": "stderr",
     "output_type": "stream",
     "text": [
      " 82%|█████████████████████████████▍      | 8171/10000 [1:54:55<25:47,  1.18it/s]"
     ]
    },
    {
     "name": "stdout",
     "output_type": "stream",
     "text": [
      "train test\n",
      "tensor(0.2113, dtype=torch.float64, grad_fn=<NllLossBackward0>)\n",
      "tensor(14.8159, dtype=torch.float64, grad_fn=<NllLossBackward0>)\n",
      "----------\n"
     ]
    },
    {
     "name": "stderr",
     "output_type": "stream",
     "text": [
      " 82%|█████████████████████████████▍      | 8181/10000 [1:55:03<25:35,  1.18it/s]"
     ]
    },
    {
     "name": "stdout",
     "output_type": "stream",
     "text": [
      "train test\n",
      "tensor(0.2116, dtype=torch.float64, grad_fn=<NllLossBackward0>)\n",
      "tensor(14.8027, dtype=torch.float64, grad_fn=<NllLossBackward0>)\n",
      "----------\n"
     ]
    },
    {
     "name": "stderr",
     "output_type": "stream",
     "text": [
      " 82%|█████████████████████████████▍      | 8191/10000 [1:55:12<25:09,  1.20it/s]"
     ]
    },
    {
     "name": "stdout",
     "output_type": "stream",
     "text": [
      "train test\n",
      "tensor(0.2118, dtype=torch.float64, grad_fn=<NllLossBackward0>)\n",
      "tensor(14.7972, dtype=torch.float64, grad_fn=<NllLossBackward0>)\n",
      "----------\n"
     ]
    },
    {
     "name": "stderr",
     "output_type": "stream",
     "text": [
      " 82%|█████████████████████████████▌      | 8201/10000 [1:55:20<25:02,  1.20it/s]"
     ]
    },
    {
     "name": "stdout",
     "output_type": "stream",
     "text": [
      "train test\n",
      "tensor(0.2120, dtype=torch.float64, grad_fn=<NllLossBackward0>)\n",
      "tensor(14.7927, dtype=torch.float64, grad_fn=<NllLossBackward0>)\n",
      "----------\n"
     ]
    },
    {
     "name": "stderr",
     "output_type": "stream",
     "text": [
      " 82%|█████████████████████████████▌      | 8211/10000 [1:55:28<24:25,  1.22it/s]"
     ]
    },
    {
     "name": "stdout",
     "output_type": "stream",
     "text": [
      "train test\n",
      "tensor(0.2120, dtype=torch.float64, grad_fn=<NllLossBackward0>)\n",
      "tensor(14.7931, dtype=torch.float64, grad_fn=<NllLossBackward0>)\n",
      "----------\n"
     ]
    },
    {
     "name": "stderr",
     "output_type": "stream",
     "text": [
      " 82%|█████████████████████████████▌      | 8221/10000 [1:55:37<25:10,  1.18it/s]"
     ]
    },
    {
     "name": "stdout",
     "output_type": "stream",
     "text": [
      "train test\n",
      "tensor(0.2117, dtype=torch.float64, grad_fn=<NllLossBackward0>)\n",
      "tensor(14.8022, dtype=torch.float64, grad_fn=<NllLossBackward0>)\n",
      "----------\n"
     ]
    },
    {
     "name": "stderr",
     "output_type": "stream",
     "text": [
      " 82%|█████████████████████████████▋      | 8231/10000 [1:55:45<24:01,  1.23it/s]"
     ]
    },
    {
     "name": "stdout",
     "output_type": "stream",
     "text": [
      "train test\n",
      "tensor(0.2114, dtype=torch.float64, grad_fn=<NllLossBackward0>)\n",
      "tensor(14.8137, dtype=torch.float64, grad_fn=<NllLossBackward0>)\n",
      "----------\n"
     ]
    },
    {
     "name": "stderr",
     "output_type": "stream",
     "text": [
      " 82%|█████████████████████████████▋      | 8241/10000 [1:55:53<24:42,  1.19it/s]"
     ]
    },
    {
     "name": "stdout",
     "output_type": "stream",
     "text": [
      "train test\n",
      "tensor(0.2114, dtype=torch.float64, grad_fn=<NllLossBackward0>)\n",
      "tensor(14.8163, dtype=torch.float64, grad_fn=<NllLossBackward0>)\n",
      "----------\n"
     ]
    },
    {
     "name": "stderr",
     "output_type": "stream",
     "text": [
      " 83%|█████████████████████████████▋      | 8251/10000 [1:56:01<23:51,  1.22it/s]"
     ]
    },
    {
     "name": "stdout",
     "output_type": "stream",
     "text": [
      "train test\n",
      "tensor(0.2115, dtype=torch.float64, grad_fn=<NllLossBackward0>)\n",
      "tensor(14.8115, dtype=torch.float64, grad_fn=<NllLossBackward0>)\n",
      "----------\n"
     ]
    },
    {
     "name": "stderr",
     "output_type": "stream",
     "text": [
      " 83%|█████████████████████████████▋      | 8261/10000 [1:56:10<24:21,  1.19it/s]"
     ]
    },
    {
     "name": "stdout",
     "output_type": "stream",
     "text": [
      "train test\n",
      "tensor(0.2116, dtype=torch.float64, grad_fn=<NllLossBackward0>)\n",
      "tensor(14.8116, dtype=torch.float64, grad_fn=<NllLossBackward0>)\n",
      "----------\n"
     ]
    },
    {
     "name": "stderr",
     "output_type": "stream",
     "text": [
      " 83%|█████████████████████████████▊      | 8271/10000 [1:56:18<23:28,  1.23it/s]"
     ]
    },
    {
     "name": "stdout",
     "output_type": "stream",
     "text": [
      "train test\n",
      "tensor(0.2118, dtype=torch.float64, grad_fn=<NllLossBackward0>)\n",
      "tensor(14.8073, dtype=torch.float64, grad_fn=<NllLossBackward0>)\n",
      "----------\n"
     ]
    },
    {
     "name": "stderr",
     "output_type": "stream",
     "text": [
      " 83%|█████████████████████████████▊      | 8281/10000 [1:56:26<23:52,  1.20it/s]"
     ]
    },
    {
     "name": "stdout",
     "output_type": "stream",
     "text": [
      "train test\n",
      "tensor(0.2117, dtype=torch.float64, grad_fn=<NllLossBackward0>)\n",
      "tensor(14.8084, dtype=torch.float64, grad_fn=<NllLossBackward0>)\n",
      "----------\n"
     ]
    },
    {
     "name": "stderr",
     "output_type": "stream",
     "text": [
      " 83%|█████████████████████████████▊      | 8291/10000 [1:56:35<23:17,  1.22it/s]"
     ]
    },
    {
     "name": "stdout",
     "output_type": "stream",
     "text": [
      "train test\n",
      "tensor(0.2116, dtype=torch.float64, grad_fn=<NllLossBackward0>)\n",
      "tensor(14.8132, dtype=torch.float64, grad_fn=<NllLossBackward0>)\n",
      "----------\n"
     ]
    },
    {
     "name": "stderr",
     "output_type": "stream",
     "text": [
      " 83%|█████████████████████████████▉      | 8301/10000 [1:56:43<23:36,  1.20it/s]"
     ]
    },
    {
     "name": "stdout",
     "output_type": "stream",
     "text": [
      "train test\n",
      "tensor(0.2115, dtype=torch.float64, grad_fn=<NllLossBackward0>)\n",
      "tensor(14.8153, dtype=torch.float64, grad_fn=<NllLossBackward0>)\n",
      "----------\n"
     ]
    },
    {
     "name": "stderr",
     "output_type": "stream",
     "text": [
      " 83%|█████████████████████████████▉      | 8311/10000 [1:56:51<23:07,  1.22it/s]"
     ]
    },
    {
     "name": "stdout",
     "output_type": "stream",
     "text": [
      "train test\n",
      "tensor(0.2113, dtype=torch.float64, grad_fn=<NllLossBackward0>)\n",
      "tensor(14.8225, dtype=torch.float64, grad_fn=<NllLossBackward0>)\n",
      "----------\n"
     ]
    },
    {
     "name": "stderr",
     "output_type": "stream",
     "text": [
      " 83%|█████████████████████████████▉      | 8321/10000 [1:56:59<23:03,  1.21it/s]"
     ]
    },
    {
     "name": "stdout",
     "output_type": "stream",
     "text": [
      "train test\n",
      "tensor(0.2113, dtype=torch.float64, grad_fn=<NllLossBackward0>)\n",
      "tensor(14.8232, dtype=torch.float64, grad_fn=<NllLossBackward0>)\n",
      "----------\n"
     ]
    },
    {
     "name": "stderr",
     "output_type": "stream",
     "text": [
      " 83%|█████████████████████████████▉      | 8331/10000 [1:57:08<23:15,  1.20it/s]"
     ]
    },
    {
     "name": "stdout",
     "output_type": "stream",
     "text": [
      "train test\n",
      "tensor(0.2113, dtype=torch.float64, grad_fn=<NllLossBackward0>)\n",
      "tensor(14.8210, dtype=torch.float64, grad_fn=<NllLossBackward0>)\n",
      "----------\n"
     ]
    },
    {
     "name": "stderr",
     "output_type": "stream",
     "text": [
      " 83%|██████████████████████████████      | 8341/10000 [1:57:16<22:40,  1.22it/s]"
     ]
    },
    {
     "name": "stdout",
     "output_type": "stream",
     "text": [
      "train test\n",
      "tensor(0.2113, dtype=torch.float64, grad_fn=<NllLossBackward0>)\n",
      "tensor(14.8199, dtype=torch.float64, grad_fn=<NllLossBackward0>)\n",
      "----------\n"
     ]
    },
    {
     "name": "stderr",
     "output_type": "stream",
     "text": [
      " 84%|██████████████████████████████      | 8351/10000 [1:57:25<23:08,  1.19it/s]"
     ]
    },
    {
     "name": "stdout",
     "output_type": "stream",
     "text": [
      "train test\n",
      "tensor(0.2112, dtype=torch.float64, grad_fn=<NllLossBackward0>)\n",
      "tensor(14.8236, dtype=torch.float64, grad_fn=<NllLossBackward0>)\n",
      "----------\n"
     ]
    },
    {
     "name": "stderr",
     "output_type": "stream",
     "text": [
      " 84%|██████████████████████████████      | 8361/10000 [1:57:33<22:19,  1.22it/s]"
     ]
    },
    {
     "name": "stdout",
     "output_type": "stream",
     "text": [
      "train test\n",
      "tensor(0.2110, dtype=torch.float64, grad_fn=<NllLossBackward0>)\n",
      "tensor(14.8306, dtype=torch.float64, grad_fn=<NllLossBackward0>)\n",
      "----------\n"
     ]
    },
    {
     "name": "stderr",
     "output_type": "stream",
     "text": [
      " 84%|██████████████████████████████▏     | 8371/10000 [1:57:41<22:29,  1.21it/s]"
     ]
    },
    {
     "name": "stdout",
     "output_type": "stream",
     "text": [
      "train test\n",
      "tensor(0.2111, dtype=torch.float64, grad_fn=<NllLossBackward0>)\n",
      "tensor(14.8259, dtype=torch.float64, grad_fn=<NllLossBackward0>)\n",
      "----------\n"
     ]
    },
    {
     "name": "stderr",
     "output_type": "stream",
     "text": [
      " 84%|██████████████████████████████▏     | 8381/10000 [1:57:49<21:55,  1.23it/s]"
     ]
    },
    {
     "name": "stdout",
     "output_type": "stream",
     "text": [
      "train test\n",
      "tensor(0.2111, dtype=torch.float64, grad_fn=<NllLossBackward0>)\n",
      "tensor(14.8253, dtype=torch.float64, grad_fn=<NllLossBackward0>)\n",
      "----------\n"
     ]
    },
    {
     "name": "stderr",
     "output_type": "stream",
     "text": [
      " 84%|██████████████████████████████▏     | 8391/10000 [1:57:58<22:18,  1.20it/s]"
     ]
    },
    {
     "name": "stdout",
     "output_type": "stream",
     "text": [
      "train test\n",
      "tensor(0.2110, dtype=torch.float64, grad_fn=<NllLossBackward0>)\n",
      "tensor(14.8299, dtype=torch.float64, grad_fn=<NllLossBackward0>)\n",
      "----------\n"
     ]
    },
    {
     "name": "stderr",
     "output_type": "stream",
     "text": [
      " 84%|██████████████████████████████▏     | 8401/10000 [1:58:06<21:37,  1.23it/s]"
     ]
    },
    {
     "name": "stdout",
     "output_type": "stream",
     "text": [
      "train test\n",
      "tensor(0.2110, dtype=torch.float64, grad_fn=<NllLossBackward0>)\n",
      "tensor(14.8300, dtype=torch.float64, grad_fn=<NllLossBackward0>)\n",
      "----------\n"
     ]
    },
    {
     "name": "stderr",
     "output_type": "stream",
     "text": [
      " 84%|██████████████████████████████▎     | 8411/10000 [1:58:14<22:24,  1.18it/s]"
     ]
    },
    {
     "name": "stdout",
     "output_type": "stream",
     "text": [
      "train test\n",
      "tensor(0.2109, dtype=torch.float64, grad_fn=<NllLossBackward0>)\n",
      "tensor(14.8325, dtype=torch.float64, grad_fn=<NllLossBackward0>)\n",
      "----------\n"
     ]
    },
    {
     "name": "stderr",
     "output_type": "stream",
     "text": [
      " 84%|██████████████████████████████▎     | 8421/10000 [1:58:22<21:24,  1.23it/s]"
     ]
    },
    {
     "name": "stdout",
     "output_type": "stream",
     "text": [
      "train test\n",
      "tensor(0.2108, dtype=torch.float64, grad_fn=<NllLossBackward0>)\n",
      "tensor(14.8358, dtype=torch.float64, grad_fn=<NllLossBackward0>)\n",
      "----------\n"
     ]
    },
    {
     "name": "stderr",
     "output_type": "stream",
     "text": [
      " 84%|██████████████████████████████▎     | 8431/10000 [1:58:31<21:59,  1.19it/s]"
     ]
    },
    {
     "name": "stdout",
     "output_type": "stream",
     "text": [
      "train test\n",
      "tensor(0.2106, dtype=torch.float64, grad_fn=<NllLossBackward0>)\n",
      "tensor(14.8418, dtype=torch.float64, grad_fn=<NllLossBackward0>)\n",
      "----------\n"
     ]
    },
    {
     "name": "stderr",
     "output_type": "stream",
     "text": [
      " 84%|██████████████████████████████▍     | 8441/10000 [1:58:39<21:25,  1.21it/s]"
     ]
    },
    {
     "name": "stdout",
     "output_type": "stream",
     "text": [
      "train test\n",
      "tensor(0.2104, dtype=torch.float64, grad_fn=<NllLossBackward0>)\n",
      "tensor(14.8475, dtype=torch.float64, grad_fn=<NllLossBackward0>)\n",
      "----------\n"
     ]
    },
    {
     "name": "stderr",
     "output_type": "stream",
     "text": [
      " 85%|██████████████████████████████▍     | 8451/10000 [1:58:47<21:48,  1.18it/s]"
     ]
    },
    {
     "name": "stdout",
     "output_type": "stream",
     "text": [
      "train test\n",
      "tensor(0.2104, dtype=torch.float64, grad_fn=<NllLossBackward0>)\n",
      "tensor(14.8487, dtype=torch.float64, grad_fn=<NllLossBackward0>)\n",
      "----------\n"
     ]
    },
    {
     "name": "stderr",
     "output_type": "stream",
     "text": [
      " 85%|██████████████████████████████▍     | 8461/10000 [1:58:56<21:09,  1.21it/s]"
     ]
    },
    {
     "name": "stdout",
     "output_type": "stream",
     "text": [
      "train test\n",
      "tensor(0.2105, dtype=torch.float64, grad_fn=<NllLossBackward0>)\n",
      "tensor(14.8433, dtype=torch.float64, grad_fn=<NllLossBackward0>)\n",
      "----------\n"
     ]
    },
    {
     "name": "stderr",
     "output_type": "stream",
     "text": [
      " 85%|██████████████████████████████▍     | 8471/10000 [1:59:04<21:15,  1.20it/s]"
     ]
    },
    {
     "name": "stdout",
     "output_type": "stream",
     "text": [
      "train test\n",
      "tensor(0.2106, dtype=torch.float64, grad_fn=<NllLossBackward0>)\n",
      "tensor(14.8431, dtype=torch.float64, grad_fn=<NllLossBackward0>)\n",
      "----------\n"
     ]
    },
    {
     "name": "stderr",
     "output_type": "stream",
     "text": [
      " 85%|██████████████████████████████▌     | 8481/10000 [1:59:12<20:49,  1.22it/s]"
     ]
    },
    {
     "name": "stdout",
     "output_type": "stream",
     "text": [
      "train test\n",
      "tensor(0.2104, dtype=torch.float64, grad_fn=<NllLossBackward0>)\n",
      "tensor(14.8497, dtype=torch.float64, grad_fn=<NllLossBackward0>)\n",
      "----------\n"
     ]
    },
    {
     "name": "stderr",
     "output_type": "stream",
     "text": [
      " 85%|██████████████████████████████▌     | 8491/10000 [1:59:20<20:40,  1.22it/s]"
     ]
    },
    {
     "name": "stdout",
     "output_type": "stream",
     "text": [
      "train test\n",
      "tensor(0.2101, dtype=torch.float64, grad_fn=<NllLossBackward0>)\n",
      "tensor(14.8610, dtype=torch.float64, grad_fn=<NllLossBackward0>)\n",
      "----------\n"
     ]
    },
    {
     "name": "stderr",
     "output_type": "stream",
     "text": [
      " 85%|██████████████████████████████▌     | 8501/10000 [1:59:29<20:34,  1.21it/s]"
     ]
    },
    {
     "name": "stdout",
     "output_type": "stream",
     "text": [
      "train test\n",
      "tensor(0.2102, dtype=torch.float64, grad_fn=<NllLossBackward0>)\n",
      "tensor(14.8594, dtype=torch.float64, grad_fn=<NllLossBackward0>)\n",
      "----------\n"
     ]
    },
    {
     "name": "stderr",
     "output_type": "stream",
     "text": [
      " 85%|██████████████████████████████▋     | 8511/10000 [1:59:37<20:44,  1.20it/s]"
     ]
    },
    {
     "name": "stdout",
     "output_type": "stream",
     "text": [
      "train test\n",
      "tensor(0.2105, dtype=torch.float64, grad_fn=<NllLossBackward0>)\n",
      "tensor(14.8459, dtype=torch.float64, grad_fn=<NllLossBackward0>)\n",
      "----------\n"
     ]
    },
    {
     "name": "stderr",
     "output_type": "stream",
     "text": [
      " 85%|██████████████████████████████▋     | 8521/10000 [1:59:45<20:17,  1.22it/s]"
     ]
    },
    {
     "name": "stdout",
     "output_type": "stream",
     "text": [
      "train test\n",
      "tensor(0.2107, dtype=torch.float64, grad_fn=<NllLossBackward0>)\n",
      "tensor(14.8380, dtype=torch.float64, grad_fn=<NllLossBackward0>)\n",
      "----------\n"
     ]
    },
    {
     "name": "stderr",
     "output_type": "stream",
     "text": [
      " 85%|██████████████████████████████▋     | 8531/10000 [1:59:53<19:52,  1.23it/s]"
     ]
    },
    {
     "name": "stdout",
     "output_type": "stream",
     "text": [
      "train test\n",
      "tensor(0.2108, dtype=torch.float64, grad_fn=<NllLossBackward0>)\n",
      "tensor(14.8377, dtype=torch.float64, grad_fn=<NllLossBackward0>)\n",
      "----------\n"
     ]
    },
    {
     "name": "stderr",
     "output_type": "stream",
     "text": [
      " 85%|██████████████████████████████▋     | 8541/10000 [2:00:02<20:29,  1.19it/s]"
     ]
    },
    {
     "name": "stdout",
     "output_type": "stream",
     "text": [
      "train test\n",
      "tensor(0.2107, dtype=torch.float64, grad_fn=<NllLossBackward0>)\n",
      "tensor(14.8392, dtype=torch.float64, grad_fn=<NllLossBackward0>)\n",
      "----------\n"
     ]
    },
    {
     "name": "stderr",
     "output_type": "stream",
     "text": [
      " 86%|██████████████████████████████▊     | 8551/10000 [2:00:10<19:41,  1.23it/s]"
     ]
    },
    {
     "name": "stdout",
     "output_type": "stream",
     "text": [
      "train test\n",
      "tensor(0.2107, dtype=torch.float64, grad_fn=<NllLossBackward0>)\n",
      "tensor(14.8379, dtype=torch.float64, grad_fn=<NllLossBackward0>)\n",
      "----------\n"
     ]
    },
    {
     "name": "stderr",
     "output_type": "stream",
     "text": [
      " 86%|██████████████████████████████▊     | 8561/10000 [2:00:18<20:09,  1.19it/s]"
     ]
    },
    {
     "name": "stdout",
     "output_type": "stream",
     "text": [
      "train test\n",
      "tensor(0.2107, dtype=torch.float64, grad_fn=<NllLossBackward0>)\n",
      "tensor(14.8412, dtype=torch.float64, grad_fn=<NllLossBackward0>)\n",
      "----------\n"
     ]
    },
    {
     "name": "stderr",
     "output_type": "stream",
     "text": [
      " 86%|██████████████████████████████▊     | 8571/10000 [2:00:27<19:36,  1.22it/s]"
     ]
    },
    {
     "name": "stdout",
     "output_type": "stream",
     "text": [
      "train test\n",
      "tensor(0.2106, dtype=torch.float64, grad_fn=<NllLossBackward0>)\n",
      "tensor(14.8439, dtype=torch.float64, grad_fn=<NllLossBackward0>)\n",
      "----------\n"
     ]
    },
    {
     "name": "stderr",
     "output_type": "stream",
     "text": [
      " 86%|██████████████████████████████▉     | 8581/10000 [2:00:35<19:50,  1.19it/s]"
     ]
    },
    {
     "name": "stdout",
     "output_type": "stream",
     "text": [
      "train test\n",
      "tensor(0.2105, dtype=torch.float64, grad_fn=<NllLossBackward0>)\n",
      "tensor(14.8455, dtype=torch.float64, grad_fn=<NllLossBackward0>)\n",
      "----------\n"
     ]
    },
    {
     "name": "stderr",
     "output_type": "stream",
     "text": [
      " 86%|██████████████████████████████▉     | 8591/10000 [2:00:43<19:23,  1.21it/s]"
     ]
    },
    {
     "name": "stdout",
     "output_type": "stream",
     "text": [
      "train test\n",
      "tensor(0.2103, dtype=torch.float64, grad_fn=<NllLossBackward0>)\n",
      "tensor(14.8516, dtype=torch.float64, grad_fn=<NllLossBackward0>)\n",
      "----------\n"
     ]
    },
    {
     "name": "stderr",
     "output_type": "stream",
     "text": [
      " 86%|██████████████████████████████▉     | 8601/10000 [2:00:51<19:49,  1.18it/s]"
     ]
    },
    {
     "name": "stdout",
     "output_type": "stream",
     "text": [
      "train test\n",
      "tensor(0.2102, dtype=torch.float64, grad_fn=<NllLossBackward0>)\n",
      "tensor(14.8549, dtype=torch.float64, grad_fn=<NllLossBackward0>)\n",
      "----------\n"
     ]
    },
    {
     "name": "stderr",
     "output_type": "stream",
     "text": [
      " 86%|██████████████████████████████▉     | 8611/10000 [2:00:59<18:46,  1.23it/s]"
     ]
    },
    {
     "name": "stdout",
     "output_type": "stream",
     "text": [
      "train test\n",
      "tensor(0.2101, dtype=torch.float64, grad_fn=<NllLossBackward0>)\n",
      "tensor(14.8575, dtype=torch.float64, grad_fn=<NllLossBackward0>)\n",
      "----------\n"
     ]
    },
    {
     "name": "stderr",
     "output_type": "stream",
     "text": [
      " 86%|███████████████████████████████     | 8621/10000 [2:01:08<19:06,  1.20it/s]"
     ]
    },
    {
     "name": "stdout",
     "output_type": "stream",
     "text": [
      "train test\n",
      "tensor(0.2100, dtype=torch.float64, grad_fn=<NllLossBackward0>)\n",
      "tensor(14.8637, dtype=torch.float64, grad_fn=<NllLossBackward0>)\n",
      "----------\n"
     ]
    },
    {
     "name": "stderr",
     "output_type": "stream",
     "text": [
      " 86%|███████████████████████████████     | 8631/10000 [2:01:16<18:46,  1.22it/s]"
     ]
    },
    {
     "name": "stdout",
     "output_type": "stream",
     "text": [
      "train test\n",
      "tensor(0.2098, dtype=torch.float64, grad_fn=<NllLossBackward0>)\n",
      "tensor(14.8704, dtype=torch.float64, grad_fn=<NllLossBackward0>)\n",
      "----------\n"
     ]
    },
    {
     "name": "stderr",
     "output_type": "stream",
     "text": [
      " 86%|███████████████████████████████     | 8641/10000 [2:01:24<18:21,  1.23it/s]"
     ]
    },
    {
     "name": "stdout",
     "output_type": "stream",
     "text": [
      "train test\n",
      "tensor(0.2098, dtype=torch.float64, grad_fn=<NllLossBackward0>)\n",
      "tensor(14.8702, dtype=torch.float64, grad_fn=<NllLossBackward0>)\n",
      "----------\n"
     ]
    },
    {
     "name": "stderr",
     "output_type": "stream",
     "text": [
      " 87%|███████████████████████████████▏    | 8651/10000 [2:01:32<18:43,  1.20it/s]"
     ]
    },
    {
     "name": "stdout",
     "output_type": "stream",
     "text": [
      "train test\n",
      "tensor(0.2100, dtype=torch.float64, grad_fn=<NllLossBackward0>)\n",
      "tensor(14.8601, dtype=torch.float64, grad_fn=<NllLossBackward0>)\n",
      "----------\n"
     ]
    },
    {
     "name": "stderr",
     "output_type": "stream",
     "text": [
      " 87%|███████████████████████████████▏    | 8661/10000 [2:01:41<18:09,  1.23it/s]"
     ]
    },
    {
     "name": "stdout",
     "output_type": "stream",
     "text": [
      "train test\n",
      "tensor(0.2101, dtype=torch.float64, grad_fn=<NllLossBackward0>)\n",
      "tensor(14.8571, dtype=torch.float64, grad_fn=<NllLossBackward0>)\n",
      "----------\n"
     ]
    },
    {
     "name": "stderr",
     "output_type": "stream",
     "text": [
      " 87%|███████████████████████████████▏    | 8671/10000 [2:01:49<18:10,  1.22it/s]"
     ]
    },
    {
     "name": "stdout",
     "output_type": "stream",
     "text": [
      "train test\n",
      "tensor(0.2100, dtype=torch.float64, grad_fn=<NllLossBackward0>)\n",
      "tensor(14.8608, dtype=torch.float64, grad_fn=<NllLossBackward0>)\n",
      "----------\n"
     ]
    },
    {
     "name": "stderr",
     "output_type": "stream",
     "text": [
      " 87%|███████████████████████████████▎    | 8681/10000 [2:01:57<18:05,  1.21it/s]"
     ]
    },
    {
     "name": "stdout",
     "output_type": "stream",
     "text": [
      "train test\n",
      "tensor(0.2100, dtype=torch.float64, grad_fn=<NllLossBackward0>)\n",
      "tensor(14.8625, dtype=torch.float64, grad_fn=<NllLossBackward0>)\n",
      "----------\n"
     ]
    },
    {
     "name": "stderr",
     "output_type": "stream",
     "text": [
      " 87%|███████████████████████████████▎    | 8691/10000 [2:02:05<18:07,  1.20it/s]"
     ]
    },
    {
     "name": "stdout",
     "output_type": "stream",
     "text": [
      "train test\n",
      "tensor(0.2099, dtype=torch.float64, grad_fn=<NllLossBackward0>)\n",
      "tensor(14.8613, dtype=torch.float64, grad_fn=<NllLossBackward0>)\n",
      "----------\n"
     ]
    },
    {
     "name": "stderr",
     "output_type": "stream",
     "text": [
      " 87%|███████████████████████████████▎    | 8701/10000 [2:02:14<17:44,  1.22it/s]"
     ]
    },
    {
     "name": "stdout",
     "output_type": "stream",
     "text": [
      "train test\n",
      "tensor(0.2099, dtype=torch.float64, grad_fn=<NllLossBackward0>)\n",
      "tensor(14.8659, dtype=torch.float64, grad_fn=<NllLossBackward0>)\n",
      "----------\n"
     ]
    },
    {
     "name": "stderr",
     "output_type": "stream",
     "text": [
      " 87%|███████████████████████████████▎    | 8711/10000 [2:02:22<17:49,  1.21it/s]"
     ]
    },
    {
     "name": "stdout",
     "output_type": "stream",
     "text": [
      "train test\n",
      "tensor(0.2099, dtype=torch.float64, grad_fn=<NllLossBackward0>)\n",
      "tensor(14.8662, dtype=torch.float64, grad_fn=<NllLossBackward0>)\n",
      "----------\n"
     ]
    },
    {
     "name": "stderr",
     "output_type": "stream",
     "text": [
      " 87%|███████████████████████████████▍    | 8721/10000 [2:02:30<17:32,  1.22it/s]"
     ]
    },
    {
     "name": "stdout",
     "output_type": "stream",
     "text": [
      "train test\n",
      "tensor(0.2099, dtype=torch.float64, grad_fn=<NllLossBackward0>)\n",
      "tensor(14.8638, dtype=torch.float64, grad_fn=<NllLossBackward0>)\n",
      "----------\n"
     ]
    },
    {
     "name": "stderr",
     "output_type": "stream",
     "text": [
      " 87%|███████████████████████████████▍    | 8731/10000 [2:02:38<17:26,  1.21it/s]"
     ]
    },
    {
     "name": "stdout",
     "output_type": "stream",
     "text": [
      "train test\n",
      "tensor(0.2098, dtype=torch.float64, grad_fn=<NllLossBackward0>)\n",
      "tensor(14.8661, dtype=torch.float64, grad_fn=<NllLossBackward0>)\n",
      "----------\n"
     ]
    },
    {
     "name": "stderr",
     "output_type": "stream",
     "text": [
      " 87%|███████████████████████████████▍    | 8741/10000 [2:02:47<17:09,  1.22it/s]"
     ]
    },
    {
     "name": "stdout",
     "output_type": "stream",
     "text": [
      "train test\n",
      "tensor(0.2098, dtype=torch.float64, grad_fn=<NllLossBackward0>)\n",
      "tensor(14.8688, dtype=torch.float64, grad_fn=<NllLossBackward0>)\n",
      "----------\n"
     ]
    },
    {
     "name": "stderr",
     "output_type": "stream",
     "text": [
      " 88%|███████████████████████████████▌    | 8751/10000 [2:02:55<17:26,  1.19it/s]"
     ]
    },
    {
     "name": "stdout",
     "output_type": "stream",
     "text": [
      "train test\n",
      "tensor(0.2098, dtype=torch.float64, grad_fn=<NllLossBackward0>)\n",
      "tensor(14.8674, dtype=torch.float64, grad_fn=<NllLossBackward0>)\n",
      "----------\n"
     ]
    },
    {
     "name": "stderr",
     "output_type": "stream",
     "text": [
      " 88%|███████████████████████████████▌    | 8761/10000 [2:03:03<16:52,  1.22it/s]"
     ]
    },
    {
     "name": "stdout",
     "output_type": "stream",
     "text": [
      "train test\n",
      "tensor(0.2097, dtype=torch.float64, grad_fn=<NllLossBackward0>)\n",
      "tensor(14.8707, dtype=torch.float64, grad_fn=<NllLossBackward0>)\n",
      "----------\n"
     ]
    },
    {
     "name": "stderr",
     "output_type": "stream",
     "text": [
      " 88%|███████████████████████████████▌    | 8771/10000 [2:03:11<17:01,  1.20it/s]"
     ]
    },
    {
     "name": "stdout",
     "output_type": "stream",
     "text": [
      "train test\n",
      "tensor(0.2096, dtype=torch.float64, grad_fn=<NllLossBackward0>)\n",
      "tensor(14.8743, dtype=torch.float64, grad_fn=<NllLossBackward0>)\n",
      "----------\n"
     ]
    },
    {
     "name": "stderr",
     "output_type": "stream",
     "text": [
      " 88%|███████████████████████████████▌    | 8781/10000 [2:03:20<16:30,  1.23it/s]"
     ]
    },
    {
     "name": "stdout",
     "output_type": "stream",
     "text": [
      "train test\n",
      "tensor(0.2097, dtype=torch.float64, grad_fn=<NllLossBackward0>)\n",
      "tensor(14.8708, dtype=torch.float64, grad_fn=<NllLossBackward0>)\n",
      "----------\n"
     ]
    },
    {
     "name": "stderr",
     "output_type": "stream",
     "text": [
      " 88%|███████████████████████████████▋    | 8791/10000 [2:03:28<16:51,  1.20it/s]"
     ]
    },
    {
     "name": "stdout",
     "output_type": "stream",
     "text": [
      "train test\n",
      "tensor(0.2098, dtype=torch.float64, grad_fn=<NllLossBackward0>)\n",
      "tensor(14.8705, dtype=torch.float64, grad_fn=<NllLossBackward0>)\n",
      "----------\n"
     ]
    },
    {
     "name": "stderr",
     "output_type": "stream",
     "text": [
      " 88%|███████████████████████████████▋    | 8801/10000 [2:03:36<16:26,  1.22it/s]"
     ]
    },
    {
     "name": "stdout",
     "output_type": "stream",
     "text": [
      "train test\n",
      "tensor(0.2098, dtype=torch.float64, grad_fn=<NllLossBackward0>)\n",
      "tensor(14.8736, dtype=torch.float64, grad_fn=<NllLossBackward0>)\n",
      "----------\n"
     ]
    },
    {
     "name": "stderr",
     "output_type": "stream",
     "text": [
      " 88%|███████████████████████████████▋    | 8811/10000 [2:03:44<16:35,  1.19it/s]"
     ]
    },
    {
     "name": "stdout",
     "output_type": "stream",
     "text": [
      "train test\n",
      "tensor(0.2098, dtype=torch.float64, grad_fn=<NllLossBackward0>)\n",
      "tensor(14.8700, dtype=torch.float64, grad_fn=<NllLossBackward0>)\n",
      "----------\n"
     ]
    },
    {
     "name": "stderr",
     "output_type": "stream",
     "text": [
      " 88%|███████████████████████████████▊    | 8821/10000 [2:03:53<15:58,  1.23it/s]"
     ]
    },
    {
     "name": "stdout",
     "output_type": "stream",
     "text": [
      "train test\n",
      "tensor(0.2099, dtype=torch.float64, grad_fn=<NllLossBackward0>)\n",
      "tensor(14.8668, dtype=torch.float64, grad_fn=<NllLossBackward0>)\n",
      "----------\n"
     ]
    },
    {
     "name": "stderr",
     "output_type": "stream",
     "text": [
      " 88%|███████████████████████████████▊    | 8831/10000 [2:04:01<16:12,  1.20it/s]"
     ]
    },
    {
     "name": "stdout",
     "output_type": "stream",
     "text": [
      "train test\n",
      "tensor(0.2099, dtype=torch.float64, grad_fn=<NllLossBackward0>)\n",
      "tensor(14.8669, dtype=torch.float64, grad_fn=<NllLossBackward0>)\n",
      "----------\n"
     ]
    },
    {
     "name": "stderr",
     "output_type": "stream",
     "text": [
      " 88%|███████████████████████████████▊    | 8841/10000 [2:04:09<15:38,  1.24it/s]"
     ]
    },
    {
     "name": "stdout",
     "output_type": "stream",
     "text": [
      "train test\n",
      "tensor(0.2097, dtype=torch.float64, grad_fn=<NllLossBackward0>)\n",
      "tensor(14.8719, dtype=torch.float64, grad_fn=<NllLossBackward0>)\n",
      "----------\n"
     ]
    },
    {
     "name": "stderr",
     "output_type": "stream",
     "text": [
      " 89%|███████████████████████████████▊    | 8851/10000 [2:04:17<15:54,  1.20it/s]"
     ]
    },
    {
     "name": "stdout",
     "output_type": "stream",
     "text": [
      "train test\n",
      "tensor(0.2094, dtype=torch.float64, grad_fn=<NllLossBackward0>)\n",
      "tensor(14.8831, dtype=torch.float64, grad_fn=<NllLossBackward0>)\n",
      "----------\n"
     ]
    },
    {
     "name": "stderr",
     "output_type": "stream",
     "text": [
      " 89%|███████████████████████████████▉    | 8861/10000 [2:04:26<15:24,  1.23it/s]"
     ]
    },
    {
     "name": "stdout",
     "output_type": "stream",
     "text": [
      "train test\n",
      "tensor(0.2095, dtype=torch.float64, grad_fn=<NllLossBackward0>)\n",
      "tensor(14.8817, dtype=torch.float64, grad_fn=<NllLossBackward0>)\n",
      "----------\n"
     ]
    },
    {
     "name": "stderr",
     "output_type": "stream",
     "text": [
      " 89%|███████████████████████████████▉    | 8871/10000 [2:04:34<15:46,  1.19it/s]"
     ]
    },
    {
     "name": "stdout",
     "output_type": "stream",
     "text": [
      "train test\n",
      "tensor(0.2098, dtype=torch.float64, grad_fn=<NllLossBackward0>)\n",
      "tensor(14.8711, dtype=torch.float64, grad_fn=<NllLossBackward0>)\n",
      "----------\n"
     ]
    },
    {
     "name": "stderr",
     "output_type": "stream",
     "text": [
      " 89%|███████████████████████████████▉    | 8881/10000 [2:04:42<15:10,  1.23it/s]"
     ]
    },
    {
     "name": "stdout",
     "output_type": "stream",
     "text": [
      "train test\n",
      "tensor(0.2100, dtype=torch.float64, grad_fn=<NllLossBackward0>)\n",
      "tensor(14.8654, dtype=torch.float64, grad_fn=<NllLossBackward0>)\n",
      "----------\n"
     ]
    },
    {
     "name": "stderr",
     "output_type": "stream",
     "text": [
      " 89%|████████████████████████████████    | 8891/10000 [2:04:50<15:29,  1.19it/s]"
     ]
    },
    {
     "name": "stdout",
     "output_type": "stream",
     "text": [
      "train test\n",
      "tensor(0.2102, dtype=torch.float64, grad_fn=<NllLossBackward0>)\n",
      "tensor(14.8582, dtype=torch.float64, grad_fn=<NllLossBackward0>)\n",
      "----------\n"
     ]
    },
    {
     "name": "stderr",
     "output_type": "stream",
     "text": [
      " 89%|████████████████████████████████    | 8901/10000 [2:04:59<15:07,  1.21it/s]"
     ]
    },
    {
     "name": "stdout",
     "output_type": "stream",
     "text": [
      "train test\n",
      "tensor(0.2103, dtype=torch.float64, grad_fn=<NllLossBackward0>)\n",
      "tensor(14.8545, dtype=torch.float64, grad_fn=<NllLossBackward0>)\n",
      "----------\n"
     ]
    },
    {
     "name": "stderr",
     "output_type": "stream",
     "text": [
      " 89%|████████████████████████████████    | 8911/10000 [2:05:07<15:20,  1.18it/s]"
     ]
    },
    {
     "name": "stdout",
     "output_type": "stream",
     "text": [
      "train test\n",
      "tensor(0.2103, dtype=torch.float64, grad_fn=<NllLossBackward0>)\n",
      "tensor(14.8549, dtype=torch.float64, grad_fn=<NllLossBackward0>)\n",
      "----------\n"
     ]
    },
    {
     "name": "stderr",
     "output_type": "stream",
     "text": [
      " 89%|████████████████████████████████    | 8921/10000 [2:05:15<14:49,  1.21it/s]"
     ]
    },
    {
     "name": "stdout",
     "output_type": "stream",
     "text": [
      "train test\n",
      "tensor(0.2103, dtype=torch.float64, grad_fn=<NllLossBackward0>)\n",
      "tensor(14.8519, dtype=torch.float64, grad_fn=<NllLossBackward0>)\n",
      "----------\n"
     ]
    },
    {
     "name": "stderr",
     "output_type": "stream",
     "text": [
      " 89%|████████████████████████████████▏   | 8931/10000 [2:05:24<15:04,  1.18it/s]"
     ]
    },
    {
     "name": "stdout",
     "output_type": "stream",
     "text": [
      "train test\n",
      "tensor(0.2103, dtype=torch.float64, grad_fn=<NllLossBackward0>)\n",
      "tensor(14.8549, dtype=torch.float64, grad_fn=<NllLossBackward0>)\n",
      "----------\n"
     ]
    },
    {
     "name": "stderr",
     "output_type": "stream",
     "text": [
      " 89%|████████████████████████████████▏   | 8941/10000 [2:05:32<14:29,  1.22it/s]"
     ]
    },
    {
     "name": "stdout",
     "output_type": "stream",
     "text": [
      "train test\n",
      "tensor(0.2101, dtype=torch.float64, grad_fn=<NllLossBackward0>)\n",
      "tensor(14.8640, dtype=torch.float64, grad_fn=<NllLossBackward0>)\n",
      "----------\n"
     ]
    },
    {
     "name": "stderr",
     "output_type": "stream",
     "text": [
      " 90%|████████████████████████████████▏   | 8951/10000 [2:05:40<14:46,  1.18it/s]"
     ]
    },
    {
     "name": "stdout",
     "output_type": "stream",
     "text": [
      "train test\n",
      "tensor(0.2101, dtype=torch.float64, grad_fn=<NllLossBackward0>)\n",
      "tensor(14.8611, dtype=torch.float64, grad_fn=<NllLossBackward0>)\n",
      "----------\n"
     ]
    },
    {
     "name": "stderr",
     "output_type": "stream",
     "text": [
      " 90%|████████████████████████████████▎   | 8961/10000 [2:05:48<14:15,  1.21it/s]"
     ]
    },
    {
     "name": "stdout",
     "output_type": "stream",
     "text": [
      "train test\n",
      "tensor(0.2105, dtype=torch.float64, grad_fn=<NllLossBackward0>)\n",
      "tensor(14.8517, dtype=torch.float64, grad_fn=<NllLossBackward0>)\n",
      "----------\n"
     ]
    },
    {
     "name": "stderr",
     "output_type": "stream",
     "text": [
      " 90%|████████████████████████████████▎   | 8971/10000 [2:05:57<14:27,  1.19it/s]"
     ]
    },
    {
     "name": "stdout",
     "output_type": "stream",
     "text": [
      "train test\n",
      "tensor(0.2106, dtype=torch.float64, grad_fn=<NllLossBackward0>)\n",
      "tensor(14.8456, dtype=torch.float64, grad_fn=<NllLossBackward0>)\n",
      "----------\n"
     ]
    },
    {
     "name": "stderr",
     "output_type": "stream",
     "text": [
      " 90%|████████████████████████████████▎   | 8981/10000 [2:06:05<13:44,  1.24it/s]"
     ]
    },
    {
     "name": "stdout",
     "output_type": "stream",
     "text": [
      "train test\n",
      "tensor(0.2106, dtype=torch.float64, grad_fn=<NllLossBackward0>)\n",
      "tensor(14.8481, dtype=torch.float64, grad_fn=<NllLossBackward0>)\n",
      "----------\n"
     ]
    },
    {
     "name": "stderr",
     "output_type": "stream",
     "text": [
      " 90%|████████████████████████████████▎   | 8991/10000 [2:06:13<14:19,  1.17it/s]"
     ]
    },
    {
     "name": "stdout",
     "output_type": "stream",
     "text": [
      "train test\n",
      "tensor(0.2106, dtype=torch.float64, grad_fn=<NllLossBackward0>)\n",
      "tensor(14.8491, dtype=torch.float64, grad_fn=<NllLossBackward0>)\n",
      "----------\n"
     ]
    },
    {
     "name": "stderr",
     "output_type": "stream",
     "text": [
      " 90%|████████████████████████████████▍   | 9001/10000 [2:06:22<13:35,  1.22it/s]"
     ]
    },
    {
     "name": "stdout",
     "output_type": "stream",
     "text": [
      "train test\n",
      "tensor(0.2104, dtype=torch.float64, grad_fn=<NllLossBackward0>)\n",
      "tensor(14.8546, dtype=torch.float64, grad_fn=<NllLossBackward0>)\n",
      "----------\n"
     ]
    },
    {
     "name": "stderr",
     "output_type": "stream",
     "text": [
      " 90%|████████████████████████████████▍   | 9011/10000 [2:06:30<13:55,  1.18it/s]"
     ]
    },
    {
     "name": "stdout",
     "output_type": "stream",
     "text": [
      "train test\n",
      "tensor(0.2102, dtype=torch.float64, grad_fn=<NllLossBackward0>)\n",
      "tensor(14.8619, dtype=torch.float64, grad_fn=<NllLossBackward0>)\n",
      "----------\n"
     ]
    },
    {
     "name": "stderr",
     "output_type": "stream",
     "text": [
      " 90%|████████████████████████████████▍   | 9021/10000 [2:06:38<13:15,  1.23it/s]"
     ]
    },
    {
     "name": "stdout",
     "output_type": "stream",
     "text": [
      "train test\n",
      "tensor(0.2101, dtype=torch.float64, grad_fn=<NllLossBackward0>)\n",
      "tensor(14.8667, dtype=torch.float64, grad_fn=<NllLossBackward0>)\n",
      "----------\n"
     ]
    },
    {
     "name": "stderr",
     "output_type": "stream",
     "text": [
      " 90%|████████████████████████████████▌   | 9031/10000 [2:06:46<13:26,  1.20it/s]"
     ]
    },
    {
     "name": "stdout",
     "output_type": "stream",
     "text": [
      "train test\n",
      "tensor(0.2100, dtype=torch.float64, grad_fn=<NllLossBackward0>)\n",
      "tensor(14.8713, dtype=torch.float64, grad_fn=<NllLossBackward0>)\n",
      "----------\n"
     ]
    },
    {
     "name": "stderr",
     "output_type": "stream",
     "text": [
      " 90%|████████████████████████████████▌   | 9041/10000 [2:06:55<13:18,  1.20it/s]"
     ]
    },
    {
     "name": "stdout",
     "output_type": "stream",
     "text": [
      "train test\n",
      "tensor(0.2098, dtype=torch.float64, grad_fn=<NllLossBackward0>)\n",
      "tensor(14.8773, dtype=torch.float64, grad_fn=<NllLossBackward0>)\n",
      "----------\n"
     ]
    },
    {
     "name": "stderr",
     "output_type": "stream",
     "text": [
      " 91%|████████████████████████████████▌   | 9051/10000 [2:07:03<13:05,  1.21it/s]"
     ]
    },
    {
     "name": "stdout",
     "output_type": "stream",
     "text": [
      "train test\n",
      "tensor(0.2101, dtype=torch.float64, grad_fn=<NllLossBackward0>)\n",
      "tensor(14.8664, dtype=torch.float64, grad_fn=<NllLossBackward0>)\n",
      "----------\n"
     ]
    },
    {
     "name": "stderr",
     "output_type": "stream",
     "text": [
      " 91%|████████████████████████████████▌   | 9061/10000 [2:07:11<13:02,  1.20it/s]"
     ]
    },
    {
     "name": "stdout",
     "output_type": "stream",
     "text": [
      "train test\n",
      "tensor(0.2105, dtype=torch.float64, grad_fn=<NllLossBackward0>)\n",
      "tensor(14.8528, dtype=torch.float64, grad_fn=<NllLossBackward0>)\n",
      "----------\n"
     ]
    },
    {
     "name": "stderr",
     "output_type": "stream",
     "text": [
      " 91%|████████████████████████████████▋   | 9071/10000 [2:07:19<12:57,  1.19it/s]"
     ]
    },
    {
     "name": "stdout",
     "output_type": "stream",
     "text": [
      "train test\n",
      "tensor(0.2107, dtype=torch.float64, grad_fn=<NllLossBackward0>)\n",
      "tensor(14.8459, dtype=torch.float64, grad_fn=<NllLossBackward0>)\n",
      "----------\n"
     ]
    },
    {
     "name": "stderr",
     "output_type": "stream",
     "text": [
      " 91%|████████████████████████████████▋   | 9081/10000 [2:07:28<12:22,  1.24it/s]"
     ]
    },
    {
     "name": "stdout",
     "output_type": "stream",
     "text": [
      "train test\n",
      "tensor(0.2107, dtype=torch.float64, grad_fn=<NllLossBackward0>)\n",
      "tensor(14.8472, dtype=torch.float64, grad_fn=<NllLossBackward0>)\n",
      "----------\n"
     ]
    },
    {
     "name": "stderr",
     "output_type": "stream",
     "text": [
      " 91%|████████████████████████████████▋   | 9091/10000 [2:07:36<12:42,  1.19it/s]"
     ]
    },
    {
     "name": "stdout",
     "output_type": "stream",
     "text": [
      "train test\n",
      "tensor(0.2106, dtype=torch.float64, grad_fn=<NllLossBackward0>)\n",
      "tensor(14.8487, dtype=torch.float64, grad_fn=<NllLossBackward0>)\n",
      "----------\n"
     ]
    },
    {
     "name": "stderr",
     "output_type": "stream",
     "text": [
      " 91%|████████████████████████████████▊   | 9101/10000 [2:07:44<12:20,  1.21it/s]"
     ]
    },
    {
     "name": "stdout",
     "output_type": "stream",
     "text": [
      "train test\n",
      "tensor(0.2104, dtype=torch.float64, grad_fn=<NllLossBackward0>)\n",
      "tensor(14.8541, dtype=torch.float64, grad_fn=<NllLossBackward0>)\n",
      "----------\n"
     ]
    },
    {
     "name": "stderr",
     "output_type": "stream",
     "text": [
      " 91%|████████████████████████████████▊   | 9111/10000 [2:07:53<12:17,  1.21it/s]"
     ]
    },
    {
     "name": "stdout",
     "output_type": "stream",
     "text": [
      "train test\n",
      "tensor(0.2103, dtype=torch.float64, grad_fn=<NllLossBackward0>)\n",
      "tensor(14.8578, dtype=torch.float64, grad_fn=<NllLossBackward0>)\n",
      "----------\n"
     ]
    },
    {
     "name": "stderr",
     "output_type": "stream",
     "text": [
      " 91%|████████████████████████████████▊   | 9121/10000 [2:08:01<12:00,  1.22it/s]"
     ]
    },
    {
     "name": "stdout",
     "output_type": "stream",
     "text": [
      "train test\n",
      "tensor(0.2101, dtype=torch.float64, grad_fn=<NllLossBackward0>)\n",
      "tensor(14.8661, dtype=torch.float64, grad_fn=<NllLossBackward0>)\n",
      "----------\n"
     ]
    },
    {
     "name": "stderr",
     "output_type": "stream",
     "text": [
      " 91%|████████████████████████████████▊   | 9131/10000 [2:08:09<12:01,  1.20it/s]"
     ]
    },
    {
     "name": "stdout",
     "output_type": "stream",
     "text": [
      "train test\n",
      "tensor(0.2099, dtype=torch.float64, grad_fn=<NllLossBackward0>)\n",
      "tensor(14.8741, dtype=torch.float64, grad_fn=<NllLossBackward0>)\n",
      "----------\n"
     ]
    },
    {
     "name": "stderr",
     "output_type": "stream",
     "text": [
      " 91%|████████████████████████████████▉   | 9141/10000 [2:08:18<11:52,  1.21it/s]"
     ]
    },
    {
     "name": "stdout",
     "output_type": "stream",
     "text": [
      "train test\n",
      "tensor(0.2100, dtype=torch.float64, grad_fn=<NllLossBackward0>)\n",
      "tensor(14.8641, dtype=torch.float64, grad_fn=<NllLossBackward0>)\n",
      "----------\n"
     ]
    },
    {
     "name": "stderr",
     "output_type": "stream",
     "text": [
      " 92%|████████████████████████████████▉   | 9151/10000 [2:08:26<11:36,  1.22it/s]"
     ]
    },
    {
     "name": "stdout",
     "output_type": "stream",
     "text": [
      "train test\n",
      "tensor(0.2103, dtype=torch.float64, grad_fn=<NllLossBackward0>)\n",
      "tensor(14.8544, dtype=torch.float64, grad_fn=<NllLossBackward0>)\n",
      "----------\n"
     ]
    },
    {
     "name": "stderr",
     "output_type": "stream",
     "text": [
      " 92%|████████████████████████████████▉   | 9161/10000 [2:08:34<11:44,  1.19it/s]"
     ]
    },
    {
     "name": "stdout",
     "output_type": "stream",
     "text": [
      "train test\n",
      "tensor(0.2104, dtype=torch.float64, grad_fn=<NllLossBackward0>)\n",
      "tensor(14.8522, dtype=torch.float64, grad_fn=<NllLossBackward0>)\n",
      "----------\n"
     ]
    },
    {
     "name": "stderr",
     "output_type": "stream",
     "text": [
      " 92%|█████████████████████████████████   | 9171/10000 [2:08:43<11:21,  1.22it/s]"
     ]
    },
    {
     "name": "stdout",
     "output_type": "stream",
     "text": [
      "train test\n",
      "tensor(0.2104, dtype=torch.float64, grad_fn=<NllLossBackward0>)\n",
      "tensor(14.8542, dtype=torch.float64, grad_fn=<NllLossBackward0>)\n",
      "----------\n"
     ]
    },
    {
     "name": "stderr",
     "output_type": "stream",
     "text": [
      " 92%|█████████████████████████████████   | 9181/10000 [2:08:51<11:18,  1.21it/s]"
     ]
    },
    {
     "name": "stdout",
     "output_type": "stream",
     "text": [
      "train test\n",
      "tensor(0.2103, dtype=torch.float64, grad_fn=<NllLossBackward0>)\n",
      "tensor(14.8572, dtype=torch.float64, grad_fn=<NllLossBackward0>)\n",
      "----------\n"
     ]
    },
    {
     "name": "stderr",
     "output_type": "stream",
     "text": [
      " 92%|█████████████████████████████████   | 9191/10000 [2:08:59<11:05,  1.22it/s]"
     ]
    },
    {
     "name": "stdout",
     "output_type": "stream",
     "text": [
      "train test\n",
      "tensor(0.2101, dtype=torch.float64, grad_fn=<NllLossBackward0>)\n",
      "tensor(14.8637, dtype=torch.float64, grad_fn=<NllLossBackward0>)\n",
      "----------\n"
     ]
    },
    {
     "name": "stderr",
     "output_type": "stream",
     "text": [
      " 92%|█████████████████████████████████   | 9201/10000 [2:09:08<11:14,  1.18it/s]"
     ]
    },
    {
     "name": "stdout",
     "output_type": "stream",
     "text": [
      "train test\n",
      "tensor(0.2101, dtype=torch.float64, grad_fn=<NllLossBackward0>)\n",
      "tensor(14.8632, dtype=torch.float64, grad_fn=<NllLossBackward0>)\n",
      "----------\n"
     ]
    },
    {
     "name": "stderr",
     "output_type": "stream",
     "text": [
      " 92%|█████████████████████████████████▏  | 9211/10000 [2:09:16<10:49,  1.21it/s]"
     ]
    },
    {
     "name": "stdout",
     "output_type": "stream",
     "text": [
      "train test\n",
      "tensor(0.2100, dtype=torch.float64, grad_fn=<NllLossBackward0>)\n",
      "tensor(14.8654, dtype=torch.float64, grad_fn=<NllLossBackward0>)\n",
      "----------\n"
     ]
    },
    {
     "name": "stderr",
     "output_type": "stream",
     "text": [
      " 92%|█████████████████████████████████▏  | 9221/10000 [2:09:24<10:55,  1.19it/s]"
     ]
    },
    {
     "name": "stdout",
     "output_type": "stream",
     "text": [
      "train test\n",
      "tensor(0.2099, dtype=torch.float64, grad_fn=<NllLossBackward0>)\n",
      "tensor(14.8731, dtype=torch.float64, grad_fn=<NllLossBackward0>)\n",
      "----------\n"
     ]
    },
    {
     "name": "stderr",
     "output_type": "stream",
     "text": [
      " 92%|█████████████████████████████████▏  | 9231/10000 [2:09:33<10:30,  1.22it/s]"
     ]
    },
    {
     "name": "stdout",
     "output_type": "stream",
     "text": [
      "train test\n",
      "tensor(0.2100, dtype=torch.float64, grad_fn=<NllLossBackward0>)\n",
      "tensor(14.8675, dtype=torch.float64, grad_fn=<NllLossBackward0>)\n",
      "----------\n"
     ]
    },
    {
     "name": "stderr",
     "output_type": "stream",
     "text": [
      " 92%|█████████████████████████████████▎  | 9241/10000 [2:09:41<10:33,  1.20it/s]"
     ]
    },
    {
     "name": "stdout",
     "output_type": "stream",
     "text": [
      "train test\n",
      "tensor(0.2102, dtype=torch.float64, grad_fn=<NllLossBackward0>)\n",
      "tensor(14.8597, dtype=torch.float64, grad_fn=<NllLossBackward0>)\n",
      "----------\n"
     ]
    },
    {
     "name": "stderr",
     "output_type": "stream",
     "text": [
      " 93%|█████████████████████████████████▎  | 9251/10000 [2:09:49<10:11,  1.23it/s]"
     ]
    },
    {
     "name": "stdout",
     "output_type": "stream",
     "text": [
      "train test\n",
      "tensor(0.2102, dtype=torch.float64, grad_fn=<NllLossBackward0>)\n",
      "tensor(14.8585, dtype=torch.float64, grad_fn=<NllLossBackward0>)\n",
      "----------\n"
     ]
    },
    {
     "name": "stderr",
     "output_type": "stream",
     "text": [
      " 93%|█████████████████████████████████▎  | 9261/10000 [2:09:57<10:11,  1.21it/s]"
     ]
    },
    {
     "name": "stdout",
     "output_type": "stream",
     "text": [
      "train test\n",
      "tensor(0.2100, dtype=torch.float64, grad_fn=<NllLossBackward0>)\n",
      "tensor(14.8652, dtype=torch.float64, grad_fn=<NllLossBackward0>)\n",
      "----------\n"
     ]
    },
    {
     "name": "stderr",
     "output_type": "stream",
     "text": [
      " 93%|█████████████████████████████████▍  | 9271/10000 [2:10:06<09:59,  1.22it/s]"
     ]
    },
    {
     "name": "stdout",
     "output_type": "stream",
     "text": [
      "train test\n",
      "tensor(0.2102, dtype=torch.float64, grad_fn=<NllLossBackward0>)\n",
      "tensor(14.8601, dtype=torch.float64, grad_fn=<NllLossBackward0>)\n",
      "----------\n"
     ]
    },
    {
     "name": "stderr",
     "output_type": "stream",
     "text": [
      " 93%|█████████████████████████████████▍  | 9281/10000 [2:10:14<10:03,  1.19it/s]"
     ]
    },
    {
     "name": "stdout",
     "output_type": "stream",
     "text": [
      "train test\n",
      "tensor(0.2105, dtype=torch.float64, grad_fn=<NllLossBackward0>)\n",
      "tensor(14.8495, dtype=torch.float64, grad_fn=<NllLossBackward0>)\n",
      "----------\n"
     ]
    },
    {
     "name": "stderr",
     "output_type": "stream",
     "text": [
      " 93%|█████████████████████████████████▍  | 9291/10000 [2:10:22<09:39,  1.22it/s]"
     ]
    },
    {
     "name": "stdout",
     "output_type": "stream",
     "text": [
      "train test\n",
      "tensor(0.2106, dtype=torch.float64, grad_fn=<NllLossBackward0>)\n",
      "tensor(14.8480, dtype=torch.float64, grad_fn=<NllLossBackward0>)\n",
      "----------\n"
     ]
    },
    {
     "name": "stderr",
     "output_type": "stream",
     "text": [
      " 93%|█████████████████████████████████▍  | 9301/10000 [2:10:31<09:46,  1.19it/s]"
     ]
    },
    {
     "name": "stdout",
     "output_type": "stream",
     "text": [
      "train test\n",
      "tensor(0.2107, dtype=torch.float64, grad_fn=<NllLossBackward0>)\n",
      "tensor(14.8494, dtype=torch.float64, grad_fn=<NllLossBackward0>)\n",
      "----------\n"
     ]
    },
    {
     "name": "stderr",
     "output_type": "stream",
     "text": [
      " 93%|█████████████████████████████████▌  | 9311/10000 [2:10:39<09:22,  1.22it/s]"
     ]
    },
    {
     "name": "stdout",
     "output_type": "stream",
     "text": [
      "train test\n",
      "tensor(0.2112, dtype=torch.float64, grad_fn=<NllLossBackward0>)\n",
      "tensor(14.8315, dtype=torch.float64, grad_fn=<NllLossBackward0>)\n",
      "----------\n"
     ]
    },
    {
     "name": "stderr",
     "output_type": "stream",
     "text": [
      " 93%|█████████████████████████████████▌  | 9321/10000 [2:10:47<09:28,  1.19it/s]"
     ]
    },
    {
     "name": "stdout",
     "output_type": "stream",
     "text": [
      "train test\n",
      "tensor(0.2116, dtype=torch.float64, grad_fn=<NllLossBackward0>)\n",
      "tensor(14.8169, dtype=torch.float64, grad_fn=<NllLossBackward0>)\n",
      "----------\n"
     ]
    },
    {
     "name": "stderr",
     "output_type": "stream",
     "text": [
      " 93%|█████████████████████████████████▌  | 9331/10000 [2:10:55<09:14,  1.21it/s]"
     ]
    },
    {
     "name": "stdout",
     "output_type": "stream",
     "text": [
      "train test\n",
      "tensor(0.2117, dtype=torch.float64, grad_fn=<NllLossBackward0>)\n",
      "tensor(14.8127, dtype=torch.float64, grad_fn=<NllLossBackward0>)\n",
      "----------\n"
     ]
    },
    {
     "name": "stderr",
     "output_type": "stream",
     "text": [
      " 93%|█████████████████████████████████▋  | 9341/10000 [2:11:04<09:08,  1.20it/s]"
     ]
    },
    {
     "name": "stdout",
     "output_type": "stream",
     "text": [
      "train test\n",
      "tensor(0.2116, dtype=torch.float64, grad_fn=<NllLossBackward0>)\n",
      "tensor(14.8193, dtype=torch.float64, grad_fn=<NllLossBackward0>)\n",
      "----------\n"
     ]
    },
    {
     "name": "stderr",
     "output_type": "stream",
     "text": [
      " 94%|█████████████████████████████████▋  | 9351/10000 [2:11:12<09:06,  1.19it/s]"
     ]
    },
    {
     "name": "stdout",
     "output_type": "stream",
     "text": [
      "train test\n",
      "tensor(0.2113, dtype=torch.float64, grad_fn=<NllLossBackward0>)\n",
      "tensor(14.8303, dtype=torch.float64, grad_fn=<NllLossBackward0>)\n",
      "----------\n"
     ]
    },
    {
     "name": "stderr",
     "output_type": "stream",
     "text": [
      " 94%|█████████████████████████████████▋  | 9361/10000 [2:11:20<08:48,  1.21it/s]"
     ]
    },
    {
     "name": "stdout",
     "output_type": "stream",
     "text": [
      "train test\n",
      "tensor(0.2113, dtype=torch.float64, grad_fn=<NllLossBackward0>)\n",
      "tensor(14.8284, dtype=torch.float64, grad_fn=<NllLossBackward0>)\n",
      "----------\n"
     ]
    },
    {
     "name": "stderr",
     "output_type": "stream",
     "text": [
      " 94%|█████████████████████████████████▋  | 9371/10000 [2:11:29<08:48,  1.19it/s]"
     ]
    },
    {
     "name": "stdout",
     "output_type": "stream",
     "text": [
      "train test\n",
      "tensor(0.2113, dtype=torch.float64, grad_fn=<NllLossBackward0>)\n",
      "tensor(14.8297, dtype=torch.float64, grad_fn=<NllLossBackward0>)\n",
      "----------\n"
     ]
    },
    {
     "name": "stderr",
     "output_type": "stream",
     "text": [
      " 94%|█████████████████████████████████▊  | 9381/10000 [2:11:37<08:30,  1.21it/s]"
     ]
    },
    {
     "name": "stdout",
     "output_type": "stream",
     "text": [
      "train test\n",
      "tensor(0.2112, dtype=torch.float64, grad_fn=<NllLossBackward0>)\n",
      "tensor(14.8325, dtype=torch.float64, grad_fn=<NllLossBackward0>)\n",
      "----------\n"
     ]
    },
    {
     "name": "stderr",
     "output_type": "stream",
     "text": [
      " 94%|█████████████████████████████████▊  | 9391/10000 [2:11:45<08:33,  1.19it/s]"
     ]
    },
    {
     "name": "stdout",
     "output_type": "stream",
     "text": [
      "train test\n",
      "tensor(0.2112, dtype=torch.float64, grad_fn=<NllLossBackward0>)\n",
      "tensor(14.8305, dtype=torch.float64, grad_fn=<NllLossBackward0>)\n",
      "----------\n"
     ]
    },
    {
     "name": "stderr",
     "output_type": "stream",
     "text": [
      " 94%|█████████████████████████████████▊  | 9401/10000 [2:11:53<08:18,  1.20it/s]"
     ]
    },
    {
     "name": "stdout",
     "output_type": "stream",
     "text": [
      "train test\n",
      "tensor(0.2110, dtype=torch.float64, grad_fn=<NllLossBackward0>)\n",
      "tensor(14.8354, dtype=torch.float64, grad_fn=<NllLossBackward0>)\n",
      "----------\n"
     ]
    },
    {
     "name": "stderr",
     "output_type": "stream",
     "text": [
      " 94%|█████████████████████████████████▉  | 9411/10000 [2:12:02<08:17,  1.18it/s]"
     ]
    },
    {
     "name": "stdout",
     "output_type": "stream",
     "text": [
      "train test\n",
      "tensor(0.2107, dtype=torch.float64, grad_fn=<NllLossBackward0>)\n",
      "tensor(14.8470, dtype=torch.float64, grad_fn=<NllLossBackward0>)\n",
      "----------\n"
     ]
    },
    {
     "name": "stderr",
     "output_type": "stream",
     "text": [
      " 94%|█████████████████████████████████▉  | 9421/10000 [2:12:10<07:59,  1.21it/s]"
     ]
    },
    {
     "name": "stdout",
     "output_type": "stream",
     "text": [
      "train test\n",
      "tensor(0.2105, dtype=torch.float64, grad_fn=<NllLossBackward0>)\n",
      "tensor(14.8523, dtype=torch.float64, grad_fn=<NllLossBackward0>)\n",
      "----------\n"
     ]
    },
    {
     "name": "stderr",
     "output_type": "stream",
     "text": [
      " 94%|█████████████████████████████████▉  | 9431/10000 [2:12:18<07:59,  1.19it/s]"
     ]
    },
    {
     "name": "stdout",
     "output_type": "stream",
     "text": [
      "train test\n",
      "tensor(0.2105, dtype=torch.float64, grad_fn=<NllLossBackward0>)\n",
      "tensor(14.8516, dtype=torch.float64, grad_fn=<NllLossBackward0>)\n",
      "----------\n"
     ]
    },
    {
     "name": "stderr",
     "output_type": "stream",
     "text": [
      " 94%|█████████████████████████████████▉  | 9441/10000 [2:12:27<07:34,  1.23it/s]"
     ]
    },
    {
     "name": "stdout",
     "output_type": "stream",
     "text": [
      "train test\n",
      "tensor(0.2104, dtype=torch.float64, grad_fn=<NllLossBackward0>)\n",
      "tensor(14.8548, dtype=torch.float64, grad_fn=<NllLossBackward0>)\n",
      "----------\n"
     ]
    },
    {
     "name": "stderr",
     "output_type": "stream",
     "text": [
      " 95%|██████████████████████████████████  | 9451/10000 [2:12:35<07:44,  1.18it/s]"
     ]
    },
    {
     "name": "stdout",
     "output_type": "stream",
     "text": [
      "train test\n",
      "tensor(0.2103, dtype=torch.float64, grad_fn=<NllLossBackward0>)\n",
      "tensor(14.8591, dtype=torch.float64, grad_fn=<NllLossBackward0>)\n",
      "----------\n"
     ]
    },
    {
     "name": "stderr",
     "output_type": "stream",
     "text": [
      " 95%|██████████████████████████████████  | 9461/10000 [2:12:43<07:18,  1.23it/s]"
     ]
    },
    {
     "name": "stdout",
     "output_type": "stream",
     "text": [
      "train test\n",
      "tensor(0.2106, dtype=torch.float64, grad_fn=<NllLossBackward0>)\n",
      "tensor(14.8478, dtype=torch.float64, grad_fn=<NllLossBackward0>)\n",
      "----------\n"
     ]
    },
    {
     "name": "stderr",
     "output_type": "stream",
     "text": [
      " 95%|██████████████████████████████████  | 9471/10000 [2:12:51<07:25,  1.19it/s]"
     ]
    },
    {
     "name": "stdout",
     "output_type": "stream",
     "text": [
      "train test\n",
      "tensor(0.2108, dtype=torch.float64, grad_fn=<NllLossBackward0>)\n",
      "tensor(14.8418, dtype=torch.float64, grad_fn=<NllLossBackward0>)\n",
      "----------\n"
     ]
    },
    {
     "name": "stderr",
     "output_type": "stream",
     "text": [
      " 95%|██████████████████████████████████▏ | 9481/10000 [2:13:00<07:04,  1.22it/s]"
     ]
    },
    {
     "name": "stdout",
     "output_type": "stream",
     "text": [
      "train test\n",
      "tensor(0.2108, dtype=torch.float64, grad_fn=<NllLossBackward0>)\n",
      "tensor(14.8396, dtype=torch.float64, grad_fn=<NllLossBackward0>)\n",
      "----------\n"
     ]
    },
    {
     "name": "stderr",
     "output_type": "stream",
     "text": [
      " 95%|██████████████████████████████████▏ | 9491/10000 [2:13:08<07:04,  1.20it/s]"
     ]
    },
    {
     "name": "stdout",
     "output_type": "stream",
     "text": [
      "train test\n",
      "tensor(0.2109, dtype=torch.float64, grad_fn=<NllLossBackward0>)\n",
      "tensor(14.8371, dtype=torch.float64, grad_fn=<NllLossBackward0>)\n",
      "----------\n"
     ]
    },
    {
     "name": "stderr",
     "output_type": "stream",
     "text": [
      " 95%|██████████████████████████████████▏ | 9501/10000 [2:13:16<06:48,  1.22it/s]"
     ]
    },
    {
     "name": "stdout",
     "output_type": "stream",
     "text": [
      "train test\n",
      "tensor(0.2108, dtype=torch.float64, grad_fn=<NllLossBackward0>)\n",
      "tensor(14.8416, dtype=torch.float64, grad_fn=<NllLossBackward0>)\n",
      "----------\n"
     ]
    },
    {
     "name": "stderr",
     "output_type": "stream",
     "text": [
      " 95%|██████████████████████████████████▏ | 9511/10000 [2:13:25<06:53,  1.18it/s]"
     ]
    },
    {
     "name": "stdout",
     "output_type": "stream",
     "text": [
      "train test\n",
      "tensor(0.2106, dtype=torch.float64, grad_fn=<NllLossBackward0>)\n",
      "tensor(14.8494, dtype=torch.float64, grad_fn=<NllLossBackward0>)\n",
      "----------\n"
     ]
    },
    {
     "name": "stderr",
     "output_type": "stream",
     "text": [
      " 95%|██████████████████████████████████▎ | 9521/10000 [2:13:33<06:31,  1.22it/s]"
     ]
    },
    {
     "name": "stdout",
     "output_type": "stream",
     "text": [
      "train test\n",
      "tensor(0.2106, dtype=torch.float64, grad_fn=<NllLossBackward0>)\n",
      "tensor(14.8496, dtype=torch.float64, grad_fn=<NllLossBackward0>)\n",
      "----------\n"
     ]
    },
    {
     "name": "stderr",
     "output_type": "stream",
     "text": [
      " 95%|██████████████████████████████████▎ | 9531/10000 [2:13:41<06:35,  1.19it/s]"
     ]
    },
    {
     "name": "stdout",
     "output_type": "stream",
     "text": [
      "train test\n",
      "tensor(0.2106, dtype=torch.float64, grad_fn=<NllLossBackward0>)\n",
      "tensor(14.8505, dtype=torch.float64, grad_fn=<NllLossBackward0>)\n",
      "----------\n"
     ]
    },
    {
     "name": "stderr",
     "output_type": "stream",
     "text": [
      " 95%|██████████████████████████████████▎ | 9541/10000 [2:13:49<06:10,  1.24it/s]"
     ]
    },
    {
     "name": "stdout",
     "output_type": "stream",
     "text": [
      "train test\n",
      "tensor(0.2105, dtype=torch.float64, grad_fn=<NllLossBackward0>)\n",
      "tensor(14.8533, dtype=torch.float64, grad_fn=<NllLossBackward0>)\n",
      "----------\n"
     ]
    },
    {
     "name": "stderr",
     "output_type": "stream",
     "text": [
      " 96%|██████████████████████████████████▍ | 9551/10000 [2:13:58<06:15,  1.20it/s]"
     ]
    },
    {
     "name": "stdout",
     "output_type": "stream",
     "text": [
      "train test\n",
      "tensor(0.2104, dtype=torch.float64, grad_fn=<NllLossBackward0>)\n",
      "tensor(14.8571, dtype=torch.float64, grad_fn=<NllLossBackward0>)\n",
      "----------\n"
     ]
    },
    {
     "name": "stderr",
     "output_type": "stream",
     "text": [
      " 96%|██████████████████████████████████▍ | 9561/10000 [2:14:06<06:01,  1.21it/s]"
     ]
    },
    {
     "name": "stdout",
     "output_type": "stream",
     "text": [
      "train test\n",
      "tensor(0.2102, dtype=torch.float64, grad_fn=<NllLossBackward0>)\n",
      "tensor(14.8647, dtype=torch.float64, grad_fn=<NllLossBackward0>)\n",
      "----------\n"
     ]
    },
    {
     "name": "stderr",
     "output_type": "stream",
     "text": [
      " 96%|██████████████████████████████████▍ | 9571/10000 [2:14:14<06:05,  1.17it/s]"
     ]
    },
    {
     "name": "stdout",
     "output_type": "stream",
     "text": [
      "train test\n",
      "tensor(0.2101, dtype=torch.float64, grad_fn=<NllLossBackward0>)\n",
      "tensor(14.8653, dtype=torch.float64, grad_fn=<NllLossBackward0>)\n",
      "----------\n"
     ]
    },
    {
     "name": "stderr",
     "output_type": "stream",
     "text": [
      " 96%|██████████████████████████████████▍ | 9581/10000 [2:14:23<05:41,  1.23it/s]"
     ]
    },
    {
     "name": "stdout",
     "output_type": "stream",
     "text": [
      "train test\n",
      "tensor(0.2102, dtype=torch.float64, grad_fn=<NllLossBackward0>)\n",
      "tensor(14.8601, dtype=torch.float64, grad_fn=<NllLossBackward0>)\n",
      "----------\n"
     ]
    },
    {
     "name": "stderr",
     "output_type": "stream",
     "text": [
      " 96%|██████████████████████████████████▌ | 9591/10000 [2:14:31<05:41,  1.20it/s]"
     ]
    },
    {
     "name": "stdout",
     "output_type": "stream",
     "text": [
      "train test\n",
      "tensor(0.2101, dtype=torch.float64, grad_fn=<NllLossBackward0>)\n",
      "tensor(14.8612, dtype=torch.float64, grad_fn=<NllLossBackward0>)\n",
      "----------\n"
     ]
    },
    {
     "name": "stderr",
     "output_type": "stream",
     "text": [
      " 96%|██████████████████████████████████▌ | 9601/10000 [2:14:39<05:27,  1.22it/s]"
     ]
    },
    {
     "name": "stdout",
     "output_type": "stream",
     "text": [
      "train test\n",
      "tensor(0.2101, dtype=torch.float64, grad_fn=<NllLossBackward0>)\n",
      "tensor(14.8597, dtype=torch.float64, grad_fn=<NllLossBackward0>)\n",
      "----------\n"
     ]
    },
    {
     "name": "stderr",
     "output_type": "stream",
     "text": [
      " 96%|██████████████████████████████████▌ | 9611/10000 [2:14:48<05:23,  1.20it/s]"
     ]
    },
    {
     "name": "stdout",
     "output_type": "stream",
     "text": [
      "train test\n",
      "tensor(0.2104, dtype=torch.float64, grad_fn=<NllLossBackward0>)\n",
      "tensor(14.8504, dtype=torch.float64, grad_fn=<NllLossBackward0>)\n",
      "----------\n"
     ]
    },
    {
     "name": "stderr",
     "output_type": "stream",
     "text": [
      " 96%|██████████████████████████████████▋ | 9621/10000 [2:14:56<05:11,  1.22it/s]"
     ]
    },
    {
     "name": "stdout",
     "output_type": "stream",
     "text": [
      "train test\n",
      "tensor(0.2106, dtype=torch.float64, grad_fn=<NllLossBackward0>)\n",
      "tensor(14.8444, dtype=torch.float64, grad_fn=<NllLossBackward0>)\n",
      "----------\n"
     ]
    },
    {
     "name": "stderr",
     "output_type": "stream",
     "text": [
      " 96%|██████████████████████████████████▋ | 9631/10000 [2:15:04<05:09,  1.19it/s]"
     ]
    },
    {
     "name": "stdout",
     "output_type": "stream",
     "text": [
      "train test\n",
      "tensor(0.2105, dtype=torch.float64, grad_fn=<NllLossBackward0>)\n",
      "tensor(14.8478, dtype=torch.float64, grad_fn=<NllLossBackward0>)\n",
      "----------\n"
     ]
    },
    {
     "name": "stderr",
     "output_type": "stream",
     "text": [
      " 96%|██████████████████████████████████▋ | 9641/10000 [2:15:13<05:12,  1.15it/s]"
     ]
    },
    {
     "name": "stdout",
     "output_type": "stream",
     "text": [
      "train test\n",
      "tensor(0.2104, dtype=torch.float64, grad_fn=<NllLossBackward0>)\n",
      "tensor(14.8535, dtype=torch.float64, grad_fn=<NllLossBackward0>)\n",
      "----------\n"
     ]
    },
    {
     "name": "stderr",
     "output_type": "stream",
     "text": [
      " 97%|██████████████████████████████████▋ | 9651/10000 [2:15:22<05:02,  1.15it/s]"
     ]
    },
    {
     "name": "stdout",
     "output_type": "stream",
     "text": [
      "train test\n",
      "tensor(0.2107, dtype=torch.float64, grad_fn=<NllLossBackward0>)\n",
      "tensor(14.8420, dtype=torch.float64, grad_fn=<NllLossBackward0>)\n",
      "----------\n"
     ]
    },
    {
     "name": "stderr",
     "output_type": "stream",
     "text": [
      " 97%|██████████████████████████████████▊ | 9661/10000 [2:15:30<04:52,  1.16it/s]"
     ]
    },
    {
     "name": "stdout",
     "output_type": "stream",
     "text": [
      "train test\n",
      "tensor(0.2108, dtype=torch.float64, grad_fn=<NllLossBackward0>)\n",
      "tensor(14.8356, dtype=torch.float64, grad_fn=<NllLossBackward0>)\n",
      "----------\n"
     ]
    },
    {
     "name": "stderr",
     "output_type": "stream",
     "text": [
      " 97%|██████████████████████████████████▊ | 9671/10000 [2:15:39<04:35,  1.19it/s]"
     ]
    },
    {
     "name": "stdout",
     "output_type": "stream",
     "text": [
      "train test\n",
      "tensor(0.2109, dtype=torch.float64, grad_fn=<NllLossBackward0>)\n",
      "tensor(14.8331, dtype=torch.float64, grad_fn=<NllLossBackward0>)\n",
      "----------\n"
     ]
    },
    {
     "name": "stderr",
     "output_type": "stream",
     "text": [
      " 97%|██████████████████████████████████▊ | 9681/10000 [2:15:47<04:21,  1.22it/s]"
     ]
    },
    {
     "name": "stdout",
     "output_type": "stream",
     "text": [
      "train test\n",
      "tensor(0.2111, dtype=torch.float64, grad_fn=<NllLossBackward0>)\n",
      "tensor(14.8270, dtype=torch.float64, grad_fn=<NllLossBackward0>)\n",
      "----------\n"
     ]
    },
    {
     "name": "stderr",
     "output_type": "stream",
     "text": [
      " 97%|██████████████████████████████████▉ | 9691/10000 [2:15:56<04:26,  1.16it/s]"
     ]
    },
    {
     "name": "stdout",
     "output_type": "stream",
     "text": [
      "train test\n",
      "tensor(0.2111, dtype=torch.float64, grad_fn=<NllLossBackward0>)\n",
      "tensor(14.8267, dtype=torch.float64, grad_fn=<NllLossBackward0>)\n",
      "----------\n"
     ]
    },
    {
     "name": "stderr",
     "output_type": "stream",
     "text": [
      " 97%|██████████████████████████████████▉ | 9701/10000 [2:16:04<04:08,  1.20it/s]"
     ]
    },
    {
     "name": "stdout",
     "output_type": "stream",
     "text": [
      "train test\n",
      "tensor(0.2109, dtype=torch.float64, grad_fn=<NllLossBackward0>)\n",
      "tensor(14.8354, dtype=torch.float64, grad_fn=<NllLossBackward0>)\n",
      "----------\n"
     ]
    },
    {
     "name": "stderr",
     "output_type": "stream",
     "text": [
      " 97%|██████████████████████████████████▉ | 9711/10000 [2:16:13<04:06,  1.17it/s]"
     ]
    },
    {
     "name": "stdout",
     "output_type": "stream",
     "text": [
      "train test\n",
      "tensor(0.2106, dtype=torch.float64, grad_fn=<NllLossBackward0>)\n",
      "tensor(14.8425, dtype=torch.float64, grad_fn=<NllLossBackward0>)\n",
      "----------\n"
     ]
    },
    {
     "name": "stderr",
     "output_type": "stream",
     "text": [
      " 97%|██████████████████████████████████▉ | 9721/10000 [2:16:21<03:50,  1.21it/s]"
     ]
    },
    {
     "name": "stdout",
     "output_type": "stream",
     "text": [
      "train test\n",
      "tensor(0.2104, dtype=torch.float64, grad_fn=<NllLossBackward0>)\n",
      "tensor(14.8514, dtype=torch.float64, grad_fn=<NllLossBackward0>)\n",
      "----------\n"
     ]
    },
    {
     "name": "stderr",
     "output_type": "stream",
     "text": [
      " 97%|███████████████████████████████████ | 9731/10000 [2:16:29<03:46,  1.19it/s]"
     ]
    },
    {
     "name": "stdout",
     "output_type": "stream",
     "text": [
      "train test\n",
      "tensor(0.2103, dtype=torch.float64, grad_fn=<NllLossBackward0>)\n",
      "tensor(14.8555, dtype=torch.float64, grad_fn=<NllLossBackward0>)\n",
      "----------\n"
     ]
    },
    {
     "name": "stderr",
     "output_type": "stream",
     "text": [
      " 97%|███████████████████████████████████ | 9741/10000 [2:16:38<03:44,  1.16it/s]"
     ]
    },
    {
     "name": "stdout",
     "output_type": "stream",
     "text": [
      "train test\n",
      "tensor(0.2103, dtype=torch.float64, grad_fn=<NllLossBackward0>)\n",
      "tensor(14.8551, dtype=torch.float64, grad_fn=<NllLossBackward0>)\n",
      "----------\n"
     ]
    },
    {
     "name": "stderr",
     "output_type": "stream",
     "text": [
      " 98%|███████████████████████████████████ | 9751/10000 [2:16:46<03:32,  1.17it/s]"
     ]
    },
    {
     "name": "stdout",
     "output_type": "stream",
     "text": [
      "train test\n",
      "tensor(0.2102, dtype=torch.float64, grad_fn=<NllLossBackward0>)\n",
      "tensor(14.8569, dtype=torch.float64, grad_fn=<NllLossBackward0>)\n",
      "----------\n"
     ]
    },
    {
     "name": "stderr",
     "output_type": "stream",
     "text": [
      " 98%|███████████████████████████████████▏| 9761/10000 [2:16:55<03:32,  1.12it/s]"
     ]
    },
    {
     "name": "stdout",
     "output_type": "stream",
     "text": [
      "train test\n",
      "tensor(0.2101, dtype=torch.float64, grad_fn=<NllLossBackward0>)\n",
      "tensor(14.8612, dtype=torch.float64, grad_fn=<NllLossBackward0>)\n",
      "----------\n"
     ]
    },
    {
     "name": "stderr",
     "output_type": "stream",
     "text": [
      " 98%|███████████████████████████████████▏| 9771/10000 [2:17:04<03:17,  1.16it/s]"
     ]
    },
    {
     "name": "stdout",
     "output_type": "stream",
     "text": [
      "train test\n",
      "tensor(0.2099, dtype=torch.float64, grad_fn=<NllLossBackward0>)\n",
      "tensor(14.8654, dtype=torch.float64, grad_fn=<NllLossBackward0>)\n",
      "----------\n"
     ]
    },
    {
     "name": "stderr",
     "output_type": "stream",
     "text": [
      " 98%|███████████████████████████████████▏| 9781/10000 [2:17:12<03:00,  1.21it/s]"
     ]
    },
    {
     "name": "stdout",
     "output_type": "stream",
     "text": [
      "train test\n",
      "tensor(0.2098, dtype=torch.float64, grad_fn=<NllLossBackward0>)\n",
      "tensor(14.8708, dtype=torch.float64, grad_fn=<NllLossBackward0>)\n",
      "----------\n"
     ]
    },
    {
     "name": "stderr",
     "output_type": "stream",
     "text": [
      " 98%|███████████████████████████████████▏| 9791/10000 [2:17:20<02:59,  1.17it/s]"
     ]
    },
    {
     "name": "stdout",
     "output_type": "stream",
     "text": [
      "train test\n",
      "tensor(0.2097, dtype=torch.float64, grad_fn=<NllLossBackward0>)\n",
      "tensor(14.8697, dtype=torch.float64, grad_fn=<NllLossBackward0>)\n",
      "----------\n"
     ]
    },
    {
     "name": "stderr",
     "output_type": "stream",
     "text": [
      " 98%|███████████████████████████████████▎| 9801/10000 [2:17:29<02:49,  1.17it/s]"
     ]
    },
    {
     "name": "stdout",
     "output_type": "stream",
     "text": [
      "train test\n",
      "tensor(0.2097, dtype=torch.float64, grad_fn=<NllLossBackward0>)\n",
      "tensor(14.8710, dtype=torch.float64, grad_fn=<NllLossBackward0>)\n",
      "----------\n"
     ]
    },
    {
     "name": "stderr",
     "output_type": "stream",
     "text": [
      " 98%|███████████████████████████████████▎| 9811/10000 [2:17:38<02:44,  1.15it/s]"
     ]
    },
    {
     "name": "stdout",
     "output_type": "stream",
     "text": [
      "train test\n",
      "tensor(0.2097, dtype=torch.float64, grad_fn=<NllLossBackward0>)\n",
      "tensor(14.8683, dtype=torch.float64, grad_fn=<NllLossBackward0>)\n",
      "----------\n"
     ]
    },
    {
     "name": "stderr",
     "output_type": "stream",
     "text": [
      " 98%|███████████████████████████████████▎| 9821/10000 [2:17:46<02:26,  1.22it/s]"
     ]
    },
    {
     "name": "stdout",
     "output_type": "stream",
     "text": [
      "train test\n",
      "tensor(0.2096, dtype=torch.float64, grad_fn=<NllLossBackward0>)\n",
      "tensor(14.8708, dtype=torch.float64, grad_fn=<NllLossBackward0>)\n",
      "----------\n"
     ]
    },
    {
     "name": "stderr",
     "output_type": "stream",
     "text": [
      " 98%|███████████████████████████████████▍| 9831/10000 [2:17:54<02:21,  1.19it/s]"
     ]
    },
    {
     "name": "stdout",
     "output_type": "stream",
     "text": [
      "train test\n",
      "tensor(0.2094, dtype=torch.float64, grad_fn=<NllLossBackward0>)\n",
      "tensor(14.8782, dtype=torch.float64, grad_fn=<NllLossBackward0>)\n",
      "----------\n"
     ]
    },
    {
     "name": "stderr",
     "output_type": "stream",
     "text": [
      " 98%|███████████████████████████████████▍| 9841/10000 [2:18:02<02:10,  1.22it/s]"
     ]
    },
    {
     "name": "stdout",
     "output_type": "stream",
     "text": [
      "train test\n",
      "tensor(0.2095, dtype=torch.float64, grad_fn=<NllLossBackward0>)\n",
      "tensor(14.8766, dtype=torch.float64, grad_fn=<NllLossBackward0>)\n",
      "----------\n"
     ]
    },
    {
     "name": "stderr",
     "output_type": "stream",
     "text": [
      " 99%|███████████████████████████████████▍| 9851/10000 [2:18:10<02:00,  1.23it/s]"
     ]
    },
    {
     "name": "stdout",
     "output_type": "stream",
     "text": [
      "train test\n",
      "tensor(0.2097, dtype=torch.float64, grad_fn=<NllLossBackward0>)\n",
      "tensor(14.8686, dtype=torch.float64, grad_fn=<NllLossBackward0>)\n",
      "----------\n"
     ]
    },
    {
     "name": "stderr",
     "output_type": "stream",
     "text": [
      " 99%|███████████████████████████████████▍| 9861/10000 [2:18:19<01:55,  1.20it/s]"
     ]
    },
    {
     "name": "stdout",
     "output_type": "stream",
     "text": [
      "train test\n",
      "tensor(0.2097, dtype=torch.float64, grad_fn=<NllLossBackward0>)\n",
      "tensor(14.8680, dtype=torch.float64, grad_fn=<NllLossBackward0>)\n",
      "----------\n"
     ]
    },
    {
     "name": "stderr",
     "output_type": "stream",
     "text": [
      " 99%|███████████████████████████████████▌| 9871/10000 [2:18:27<01:45,  1.22it/s]"
     ]
    },
    {
     "name": "stdout",
     "output_type": "stream",
     "text": [
      "train test\n",
      "tensor(0.2097, dtype=torch.float64, grad_fn=<NllLossBackward0>)\n",
      "tensor(14.8717, dtype=torch.float64, grad_fn=<NllLossBackward0>)\n",
      "----------\n"
     ]
    },
    {
     "name": "stderr",
     "output_type": "stream",
     "text": [
      " 99%|███████████████████████████████████▌| 9881/10000 [2:18:35<01:41,  1.18it/s]"
     ]
    },
    {
     "name": "stdout",
     "output_type": "stream",
     "text": [
      "train test\n",
      "tensor(0.2099, dtype=torch.float64, grad_fn=<NllLossBackward0>)\n",
      "tensor(14.8615, dtype=torch.float64, grad_fn=<NllLossBackward0>)\n",
      "----------\n"
     ]
    },
    {
     "name": "stderr",
     "output_type": "stream",
     "text": [
      " 99%|███████████████████████████████████▌| 9891/10000 [2:18:44<01:29,  1.22it/s]"
     ]
    },
    {
     "name": "stdout",
     "output_type": "stream",
     "text": [
      "train test\n",
      "tensor(0.2100, dtype=torch.float64, grad_fn=<NllLossBackward0>)\n",
      "tensor(14.8560, dtype=torch.float64, grad_fn=<NllLossBackward0>)\n",
      "----------\n"
     ]
    },
    {
     "name": "stderr",
     "output_type": "stream",
     "text": [
      " 99%|███████████████████████████████████▋| 9901/10000 [2:18:52<01:23,  1.19it/s]"
     ]
    },
    {
     "name": "stdout",
     "output_type": "stream",
     "text": [
      "train test\n",
      "tensor(0.2099, dtype=torch.float64, grad_fn=<NllLossBackward0>)\n",
      "tensor(14.8601, dtype=torch.float64, grad_fn=<NllLossBackward0>)\n",
      "----------\n"
     ]
    },
    {
     "name": "stderr",
     "output_type": "stream",
     "text": [
      " 99%|███████████████████████████████████▋| 9911/10000 [2:19:00<01:13,  1.22it/s]"
     ]
    },
    {
     "name": "stdout",
     "output_type": "stream",
     "text": [
      "train test\n",
      "tensor(0.2098, dtype=torch.float64, grad_fn=<NllLossBackward0>)\n",
      "tensor(14.8652, dtype=torch.float64, grad_fn=<NllLossBackward0>)\n",
      "----------\n"
     ]
    },
    {
     "name": "stderr",
     "output_type": "stream",
     "text": [
      " 99%|███████████████████████████████████▋| 9921/10000 [2:19:09<01:05,  1.20it/s]"
     ]
    },
    {
     "name": "stdout",
     "output_type": "stream",
     "text": [
      "train test\n",
      "tensor(0.2098, dtype=torch.float64, grad_fn=<NllLossBackward0>)\n",
      "tensor(14.8648, dtype=torch.float64, grad_fn=<NllLossBackward0>)\n",
      "----------\n"
     ]
    },
    {
     "name": "stderr",
     "output_type": "stream",
     "text": [
      " 99%|███████████████████████████████████▊| 9931/10000 [2:19:17<00:56,  1.22it/s]"
     ]
    },
    {
     "name": "stdout",
     "output_type": "stream",
     "text": [
      "train test\n",
      "tensor(0.2099, dtype=torch.float64, grad_fn=<NllLossBackward0>)\n",
      "tensor(14.8669, dtype=torch.float64, grad_fn=<NllLossBackward0>)\n",
      "----------\n"
     ]
    },
    {
     "name": "stderr",
     "output_type": "stream",
     "text": [
      " 99%|███████████████████████████████████▊| 9941/10000 [2:19:25<00:48,  1.21it/s]"
     ]
    },
    {
     "name": "stdout",
     "output_type": "stream",
     "text": [
      "train test\n",
      "tensor(0.2100, dtype=torch.float64, grad_fn=<NllLossBackward0>)\n",
      "tensor(14.8620, dtype=torch.float64, grad_fn=<NllLossBackward0>)\n",
      "----------\n"
     ]
    },
    {
     "name": "stderr",
     "output_type": "stream",
     "text": [
      "100%|███████████████████████████████████▊| 9951/10000 [2:19:34<00:39,  1.23it/s]"
     ]
    },
    {
     "name": "stdout",
     "output_type": "stream",
     "text": [
      "train test\n",
      "tensor(0.2100, dtype=torch.float64, grad_fn=<NllLossBackward0>)\n",
      "tensor(14.8633, dtype=torch.float64, grad_fn=<NllLossBackward0>)\n",
      "----------\n"
     ]
    },
    {
     "name": "stderr",
     "output_type": "stream",
     "text": [
      "100%|███████████████████████████████████▊| 9961/10000 [2:19:42<00:32,  1.21it/s]"
     ]
    },
    {
     "name": "stdout",
     "output_type": "stream",
     "text": [
      "train test\n",
      "tensor(0.2098, dtype=torch.float64, grad_fn=<NllLossBackward0>)\n",
      "tensor(14.8685, dtype=torch.float64, grad_fn=<NllLossBackward0>)\n",
      "----------\n"
     ]
    },
    {
     "name": "stderr",
     "output_type": "stream",
     "text": [
      "100%|███████████████████████████████████▉| 9971/10000 [2:19:50<00:24,  1.21it/s]"
     ]
    },
    {
     "name": "stdout",
     "output_type": "stream",
     "text": [
      "train test\n",
      "tensor(0.2099, dtype=torch.float64, grad_fn=<NllLossBackward0>)\n",
      "tensor(14.8659, dtype=torch.float64, grad_fn=<NllLossBackward0>)\n",
      "----------\n"
     ]
    },
    {
     "name": "stderr",
     "output_type": "stream",
     "text": [
      "100%|███████████████████████████████████▉| 9981/10000 [2:19:58<00:15,  1.22it/s]"
     ]
    },
    {
     "name": "stdout",
     "output_type": "stream",
     "text": [
      "train test\n",
      "tensor(0.2099, dtype=torch.float64, grad_fn=<NllLossBackward0>)\n",
      "tensor(14.8670, dtype=torch.float64, grad_fn=<NllLossBackward0>)\n",
      "----------\n"
     ]
    },
    {
     "name": "stderr",
     "output_type": "stream",
     "text": [
      "100%|███████████████████████████████████▉| 9991/10000 [2:20:07<00:07,  1.21it/s]"
     ]
    },
    {
     "name": "stdout",
     "output_type": "stream",
     "text": [
      "train test\n",
      "tensor(0.2099, dtype=torch.float64, grad_fn=<NllLossBackward0>)\n",
      "tensor(14.8724, dtype=torch.float64, grad_fn=<NllLossBackward0>)\n",
      "----------\n"
     ]
    },
    {
     "name": "stderr",
     "output_type": "stream",
     "text": [
      "100%|███████████████████████████████████| 10000/10000 [2:20:14<00:00,  1.19it/s]\n"
     ]
    }
   ],
   "source": [
    "from sklearn.metrics import accuracy_score\n",
    "model = GATV3()\n",
    "optimizer = torch.optim.AdamW(model.parameters(), lr=lr, weight_decay=weight_decay, betas=betas)\n",
    "\n",
    "criterion = nn.CrossEntropyLoss()\n",
    "def train():\n",
    "      model.train()\n",
    "      optimizer.zero_grad()  # Clear gradients.\n",
    "      out = model(node_feats)  # Perform a single forward pass.\n",
    "      out = out.to(torch.float64)\n",
    "\n",
    "\n",
    "      loss = criterion(out[train_mask], node_labels[train_mask])  # Compute the loss solely based on the training nodes.\n",
    "      loss_test = criterion(out[val_mask], node_labels[val_mask])\n",
    "      loss.backward()  # Derive gradients.\n",
    "      optimizer.step()  # Update parameters based on gradients.\n",
    "      return loss, loss_test\n",
    "\n",
    "def test():\n",
    "      model.eval()\n",
    "      pred = model(node_feats)\n",
    "      pred = pred.argmax(dim=1)  # Use the class with highest probability.\n",
    "      #true = node_labels.argmax(dim=1)\n",
    "    \n",
    "#       test_acc = torch.sqrt(torch.mean((pred[val_mask] - node_labels[val_mask]) ** 2))\n",
    "#       train_acc = torch.sqrt(torch.mean((pred[train_mask] - node_labels[train_mask]) ** 2))\n",
    "\n",
    "    \n",
    "#       return test_acc.item(), train_acc.item()\n",
    "      return (accuracy_score(node_labels[val_mask], pred[val_mask]),\n",
    "            accuracy_score(node_labels[train_mask], pred[train_mask]))\n",
    "\n",
    "# def train():\n",
    "#       model.train()\n",
    "#       optimizer.zero_grad()  # Clear gradients.\n",
    "#       out = model(node_feats, adj_matrix)  # Perform a single forward pass.\n",
    "#       loss = criterion(out[train_mask], node_labels[train_mask])  # Compute the loss solely based on the training nodes.\n",
    "#       loss_test = criterion(out[val_mask], node_labels[val_mask])\n",
    "#       loss.backward()  # Derive gradients.\n",
    "#       optimizer.step()  # Update parameters based on gradients.\n",
    "#       return loss, loss_test\n",
    "\n",
    "# def test():\n",
    "#       model.eval()\n",
    "#       out = model(node_feats, adj_matrix)\n",
    "#       pred = out.argmax(dim=1)  # Use the class with highest probability.\n",
    "#       true = node_labels.argmax(dim=1)\n",
    "#       test_correct = pred[val_mask] == true[val_mask]  # Check against ground-truth labels.\n",
    "#       test_acc = int(np.array(test_correct).sum()) / int(np.array(val_mask).sum())  # Derive ratio of correct predictions.\n",
    "\n",
    "\n",
    "#       train_correct = pred[train_mask] == true[train_mask]  # Check against ground-truth labels.\n",
    "#       train_acc = int(np.array(train_correct).sum()) / int(np.array(train_mask).sum())  # Derive ratio of correct predictions.\n",
    "#       return test_acc, train_acc\n",
    "import tqdm.auto as tqdm\n",
    "train_loss = []\n",
    "test_loss = []\n",
    "test_aa = []\n",
    "train_aa = []\n",
    "for epoch in tqdm.tqdm(range(10000)):\n",
    "#     if epoch % 100 == 0:\n",
    "#       print(epoch)\n",
    "    loss, loss_test = train()\n",
    "    test_acc, train_acc = test()\n",
    "    train_loss.append(loss.item())\n",
    "    test_loss.append(loss_test.item())\n",
    "    test_aa.append(test_acc)\n",
    "    train_aa.append(train_acc)\n",
    "    if epoch % 10 == 0:\n",
    "        print('train test')\n",
    "        print(loss)\n",
    "        print(loss_test)\n",
    "        print('----------')"
   ]
  },
  {
   "cell_type": "code",
   "execution_count": 10,
   "id": "1ffd8378",
   "metadata": {},
   "outputs": [
    {
     "data": {
      "text/plain": [
       "<matplotlib.legend.Legend at 0x17bf49960>"
      ]
     },
     "execution_count": 10,
     "metadata": {},
     "output_type": "execute_result"
    },
    {
     "data": {
      "image/png": "[encoded data removed]",
      "text/plain": [
       "<Figure size 640x480 with 1 Axes>"
      ]
     },
     "metadata": {},
     "output_type": "display_data"
    }
   ],
   "source": [
    "import matplotlib.pyplot as plt\n",
    "plt.plot(train_loss)\n",
    "plt.plot(test_loss)\n",
    "plt.xlabel('epochs')\n",
    "plt.ylabel('losses')\n",
    "plt.legend(['train_loss', 'test_loss'])"
   ]
  },
  {
   "cell_type": "code",
   "execution_count": 11,
   "id": "df457726",
   "metadata": {},
   "outputs": [
    {
     "data": {
      "text/plain": [
       "0.9962962962962963"
      ]
     },
     "execution_count": 11,
     "metadata": {},
     "output_type": "execute_result"
    }
   ],
   "source": [
    "import sklearn\n",
    "sklearn.metrics.accuracy_score(model(node_feats).argmax(dim=1)[train_mask],\n",
    "                        node_labels[train_mask])"
   ]
  },
  {
   "cell_type": "code",
   "execution_count": null,
   "id": "73fa5bd3",
   "metadata": {},
   "outputs": [],
   "source": []
  },
  {
   "cell_type": "code",
   "execution_count": null,
   "id": "3c6f2647",
   "metadata": {},
   "outputs": [],
   "source": []
  }
 ],
 "metadata": {
  "kernelspec": {
   "display_name": "Python 3 (ipykernel)",
   "language": "python",
   "name": "python3"
  },
  "language_info": {
   "codemirror_mode": {
    "name": "ipython",
    "version": 3
   },
   "file_extension": ".py",
   "mimetype": "text/x-python",
   "name": "python",
   "nbconvert_exporter": "python",
   "pygments_lexer": "ipython3",
   "version": "3.10.9"
  }
 },
 "nbformat": 4,
 "nbformat_minor": 5
}
