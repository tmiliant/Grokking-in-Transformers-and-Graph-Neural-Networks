{
 "cells": [
  {
   "cell_type": "code",
   "execution_count": 1,
   "id": "6399fff6",
   "metadata": {},
   "outputs": [
    {
     "name": "stderr",
     "output_type": "stream",
     "text": [
      "/opt/homebrew/lib/python3.10/site-packages/tqdm/auto.py:22: TqdmWarning: IProgress not found. Please update jupyter and ipywidgets. See https://ipywidgets.readthedocs.io/en/stable/user_install.html\n",
      "  from .autonotebook import tqdm as notebook_tqdm\n"
     ]
    }
   ],
   "source": [
    "from einops import rearrange, repeat\n",
    "import torch\n",
    "from torch import nn\n",
    "from torch_geometric.nn import GATConv"
   ]
  },
  {
   "cell_type": "code",
   "execution_count": 2,
   "id": "55814e81",
   "metadata": {},
   "outputs": [],
   "source": [
    "in_dim = 2\n",
    "out_dim = 113\n",
    "hidden_dim = 128\n",
    "heads = 4\n",
    "class GATV3(torch.nn.Module):\n",
    "  def __init__(self, num_layers=1, dim_model=128, num_heads=4, num_tokens=114, seq_len=3):\n",
    "    super().__init__()\n",
    "    self.conv = GATConv(dim_model, dim_model, num_heads=heads).to(torch.float64)\n",
    "    self.linear = nn.Linear(dim_model, num_tokens - 1).to(torch.float64) \n",
    "\n",
    "    self.token_embeddings = nn.Embedding(num_tokens, dim_model).to(torch.float64)  # We have p+1 input tokens: 0,1,...,113.\n",
    "    self.position_embeddings = nn.Embedding(seq_len, dim_model).to(torch.float64)   # We length 3 sequences, e.g. (10, 25, 113)\n",
    "\n",
    "  def forward(self, inputs):\n",
    "    token_embedding = self.token_embeddings(inputs)\n",
    "    \n",
    "    positions = repeat(torch.arange(inputs.shape[1]), \"p -> b p\", b = inputs.shape[0])\n",
    "    position_embedding = self.position_embeddings(positions)\n",
    "    \n",
    "    embedding = token_embedding + position_embedding\n",
    "\n",
    "    #embedding = rearrange(embedding, 'b s d -> s b d')\n",
    "    \n",
    "    res = torch.Tensor([])\n",
    "    for i in range(embedding.shape[0]):\n",
    "        x = self.conv(embedding[i], edge_index)\n",
    "        x = self.linear(x)\n",
    "        x = torch.mean(x, dim=0)\n",
    "        res = torch.cat([res, x.reshape(1, -1)], dim=0)\n",
    "    return res"
   ]
  },
  {
   "cell_type": "code",
   "execution_count": 3,
   "id": "63b10d65",
   "metadata": {},
   "outputs": [],
   "source": [
    "model = GATV3()"
   ]
  },
  {
   "cell_type": "code",
   "execution_count": 4,
   "id": "1cd26cd0",
   "metadata": {},
   "outputs": [],
   "source": [
    "import networkx as nx\n",
    "edge_index = torch.Tensor(nx.adjacency_matrix(nx.random_regular_graph(2,3)).todense()).nonzero().t().contiguous()"
   ]
  },
  {
   "cell_type": "code",
   "execution_count": 5,
   "id": "1abc079c",
   "metadata": {},
   "outputs": [],
   "source": [
    "# Params for dataset\n",
    "n = 2000\n",
    "p = 0.001\n",
    "prime = 113\n",
    "threshold = 0.3\n",
    "no_digits = 4\n",
    "\n",
    "# Params for GNN\n",
    "input_dim = 1\n",
    "hidden_dim = 512\n",
    "output_dim = 1\n",
    "\n",
    "# Params for optimizer\n",
    "weight_decay = 3\n",
    "lr = 1e-3\n",
    "betas = (0.9, 0.98)"
   ]
  },
  {
   "cell_type": "code",
   "execution_count": 6,
   "id": "79467774",
   "metadata": {},
   "outputs": [],
   "source": [
    "lim = 30"
   ]
  },
  {
   "cell_type": "code",
   "execution_count": 7,
   "id": "6ebc5839",
   "metadata": {},
   "outputs": [],
   "source": [
    "node_feats = torch.Tensor([])\n",
    "for i in range(lim):\n",
    "    for j in range(lim):\n",
    "        node_feats = torch.cat([node_feats, torch.Tensor([[i, j, 113]])], dim=0)\n",
    "node_feats = node_feats.to(torch.int64)\n",
    "\n",
    "node_labels = (node_feats[: ,0] + node_feats[: ,1]) % 113"
   ]
  },
  {
   "cell_type": "code",
   "execution_count": 8,
   "id": "d43865e8",
   "metadata": {},
   "outputs": [],
   "source": [
    "import random\n",
    "poss = [i for i in range(lim**2)]\n",
    "idx = random.sample(poss, int(threshold * len(poss)))\n",
    "train_mask = [True if i in idx else False for i in range(lim**2)]\n",
    "val_mask = [False if train_mask[i] else True for i in range(lim**2)]"
   ]
  },
  {
   "cell_type": "code",
   "execution_count": 9,
   "id": "3ff46cce",
   "metadata": {},
   "outputs": [
    {
     "name": "stderr",
     "output_type": "stream",
     "text": [
      "  0%|                                       | 1/10000 [00:01<2:59:21,  1.08s/it]"
     ]
    },
    {
     "name": "stdout",
     "output_type": "stream",
     "text": [
      "train test\n",
      "tensor(5.1094, dtype=torch.float64, grad_fn=<NllLossBackward0>)\n",
      "tensor(5.0050, dtype=torch.float64, grad_fn=<NllLossBackward0>)\n",
      "----------\n"
     ]
    },
    {
     "name": "stderr",
     "output_type": "stream",
     "text": [
      "  0%|                                      | 11/10000 [00:12<3:05:53,  1.12s/it]"
     ]
    },
    {
     "name": "stdout",
     "output_type": "stream",
     "text": [
      "train test\n",
      "tensor(4.0085, dtype=torch.float64, grad_fn=<NllLossBackward0>)\n",
      "tensor(4.1902, dtype=torch.float64, grad_fn=<NllLossBackward0>)\n",
      "----------\n"
     ]
    },
    {
     "name": "stderr",
     "output_type": "stream",
     "text": [
      "  0%|                                      | 21/10000 [00:23<3:03:35,  1.10s/it]"
     ]
    },
    {
     "name": "stdout",
     "output_type": "stream",
     "text": [
      "train test\n",
      "tensor(3.8522, dtype=torch.float64, grad_fn=<NllLossBackward0>)\n",
      "tensor(4.0817, dtype=torch.float64, grad_fn=<NllLossBackward0>)\n",
      "----------\n"
     ]
    },
    {
     "name": "stderr",
     "output_type": "stream",
     "text": [
      "  0%|                                      | 31/10000 [00:36<3:47:30,  1.37s/it]"
     ]
    },
    {
     "name": "stdout",
     "output_type": "stream",
     "text": [
      "train test\n",
      "tensor(3.7598, dtype=torch.float64, grad_fn=<NllLossBackward0>)\n",
      "tensor(4.1244, dtype=torch.float64, grad_fn=<NllLossBackward0>)\n",
      "----------\n"
     ]
    },
    {
     "name": "stderr",
     "output_type": "stream",
     "text": [
      "  0%|▏                                     | 41/10000 [00:49<3:39:34,  1.32s/it]"
     ]
    },
    {
     "name": "stdout",
     "output_type": "stream",
     "text": [
      "train test\n",
      "tensor(3.6001, dtype=torch.float64, grad_fn=<NllLossBackward0>)\n",
      "tensor(4.1764, dtype=torch.float64, grad_fn=<NllLossBackward0>)\n",
      "----------\n"
     ]
    },
    {
     "name": "stderr",
     "output_type": "stream",
     "text": [
      "  1%|▏                                     | 51/10000 [01:03<3:42:14,  1.34s/it]"
     ]
    },
    {
     "name": "stdout",
     "output_type": "stream",
     "text": [
      "train test\n",
      "tensor(3.3622, dtype=torch.float64, grad_fn=<NllLossBackward0>)\n",
      "tensor(4.2059, dtype=torch.float64, grad_fn=<NllLossBackward0>)\n",
      "----------\n"
     ]
    },
    {
     "name": "stderr",
     "output_type": "stream",
     "text": [
      "  1%|▏                                     | 61/10000 [01:16<3:31:58,  1.28s/it]"
     ]
    },
    {
     "name": "stdout",
     "output_type": "stream",
     "text": [
      "train test\n",
      "tensor(3.1019, dtype=torch.float64, grad_fn=<NllLossBackward0>)\n",
      "tensor(4.2877, dtype=torch.float64, grad_fn=<NllLossBackward0>)\n",
      "----------\n"
     ]
    },
    {
     "name": "stderr",
     "output_type": "stream",
     "text": [
      "  1%|▎                                     | 71/10000 [01:29<3:34:25,  1.30s/it]"
     ]
    },
    {
     "name": "stdout",
     "output_type": "stream",
     "text": [
      "train test\n",
      "tensor(2.8459, dtype=torch.float64, grad_fn=<NllLossBackward0>)\n",
      "tensor(4.3919, dtype=torch.float64, grad_fn=<NllLossBackward0>)\n",
      "----------\n"
     ]
    },
    {
     "name": "stderr",
     "output_type": "stream",
     "text": [
      "  1%|▎                                     | 81/10000 [01:42<3:32:34,  1.29s/it]"
     ]
    },
    {
     "name": "stdout",
     "output_type": "stream",
     "text": [
      "train test\n",
      "tensor(2.6494, dtype=torch.float64, grad_fn=<NllLossBackward0>)\n",
      "tensor(4.5499, dtype=torch.float64, grad_fn=<NllLossBackward0>)\n",
      "----------\n"
     ]
    },
    {
     "name": "stderr",
     "output_type": "stream",
     "text": [
      "  1%|▎                                     | 91/10000 [01:55<3:33:14,  1.29s/it]"
     ]
    },
    {
     "name": "stdout",
     "output_type": "stream",
     "text": [
      "train test\n",
      "tensor(2.4971, dtype=torch.float64, grad_fn=<NllLossBackward0>)\n",
      "tensor(4.6862, dtype=torch.float64, grad_fn=<NllLossBackward0>)\n",
      "----------\n"
     ]
    },
    {
     "name": "stderr",
     "output_type": "stream",
     "text": [
      "  1%|▎                                    | 101/10000 [02:08<3:33:26,  1.29s/it]"
     ]
    },
    {
     "name": "stdout",
     "output_type": "stream",
     "text": [
      "train test\n",
      "tensor(2.3790, dtype=torch.float64, grad_fn=<NllLossBackward0>)\n",
      "tensor(4.8524, dtype=torch.float64, grad_fn=<NllLossBackward0>)\n",
      "----------\n"
     ]
    },
    {
     "name": "stderr",
     "output_type": "stream",
     "text": [
      "  1%|▍                                    | 111/10000 [02:21<3:33:56,  1.30s/it]"
     ]
    },
    {
     "name": "stdout",
     "output_type": "stream",
     "text": [
      "train test\n",
      "tensor(2.2881, dtype=torch.float64, grad_fn=<NllLossBackward0>)\n",
      "tensor(5.0146, dtype=torch.float64, grad_fn=<NllLossBackward0>)\n",
      "----------\n"
     ]
    },
    {
     "name": "stderr",
     "output_type": "stream",
     "text": [
      "  1%|▍                                    | 121/10000 [02:34<3:37:57,  1.32s/it]"
     ]
    },
    {
     "name": "stdout",
     "output_type": "stream",
     "text": [
      "train test\n",
      "tensor(2.2179, dtype=torch.float64, grad_fn=<NllLossBackward0>)\n",
      "tensor(5.1771, dtype=torch.float64, grad_fn=<NllLossBackward0>)\n",
      "----------\n"
     ]
    },
    {
     "name": "stderr",
     "output_type": "stream",
     "text": [
      "  1%|▍                                    | 131/10000 [02:46<3:28:21,  1.27s/it]"
     ]
    },
    {
     "name": "stdout",
     "output_type": "stream",
     "text": [
      "train test\n",
      "tensor(2.1600, dtype=torch.float64, grad_fn=<NllLossBackward0>)\n",
      "tensor(5.3113, dtype=torch.float64, grad_fn=<NllLossBackward0>)\n",
      "----------\n"
     ]
    },
    {
     "name": "stderr",
     "output_type": "stream",
     "text": [
      "  1%|▌                                    | 141/10000 [02:59<3:33:42,  1.30s/it]"
     ]
    },
    {
     "name": "stdout",
     "output_type": "stream",
     "text": [
      "train test\n",
      "tensor(2.1084, dtype=torch.float64, grad_fn=<NllLossBackward0>)\n",
      "tensor(5.4197, dtype=torch.float64, grad_fn=<NllLossBackward0>)\n",
      "----------\n"
     ]
    },
    {
     "name": "stderr",
     "output_type": "stream",
     "text": [
      "  2%|▌                                    | 151/10000 [03:12<3:27:51,  1.27s/it]"
     ]
    },
    {
     "name": "stdout",
     "output_type": "stream",
     "text": [
      "train test\n",
      "tensor(2.0578, dtype=torch.float64, grad_fn=<NllLossBackward0>)\n",
      "tensor(5.5105, dtype=torch.float64, grad_fn=<NllLossBackward0>)\n",
      "----------\n"
     ]
    },
    {
     "name": "stderr",
     "output_type": "stream",
     "text": [
      "  2%|▌                                    | 161/10000 [03:25<3:35:21,  1.31s/it]"
     ]
    },
    {
     "name": "stdout",
     "output_type": "stream",
     "text": [
      "train test\n",
      "tensor(2.0050, dtype=torch.float64, grad_fn=<NllLossBackward0>)\n",
      "tensor(5.5825, dtype=torch.float64, grad_fn=<NllLossBackward0>)\n",
      "----------\n"
     ]
    },
    {
     "name": "stderr",
     "output_type": "stream",
     "text": [
      "  2%|▋                                    | 171/10000 [03:38<3:33:47,  1.31s/it]"
     ]
    },
    {
     "name": "stdout",
     "output_type": "stream",
     "text": [
      "train test\n",
      "tensor(1.9502, dtype=torch.float64, grad_fn=<NllLossBackward0>)\n",
      "tensor(5.6484, dtype=torch.float64, grad_fn=<NllLossBackward0>)\n",
      "----------\n"
     ]
    },
    {
     "name": "stderr",
     "output_type": "stream",
     "text": [
      "  2%|▋                                    | 181/10000 [03:51<3:37:48,  1.33s/it]"
     ]
    },
    {
     "name": "stdout",
     "output_type": "stream",
     "text": [
      "train test\n",
      "tensor(1.8972, dtype=torch.float64, grad_fn=<NllLossBackward0>)\n",
      "tensor(5.7188, dtype=torch.float64, grad_fn=<NllLossBackward0>)\n",
      "----------\n"
     ]
    },
    {
     "name": "stderr",
     "output_type": "stream",
     "text": [
      "  2%|▋                                    | 191/10000 [04:04<3:34:46,  1.31s/it]"
     ]
    },
    {
     "name": "stdout",
     "output_type": "stream",
     "text": [
      "train test\n",
      "tensor(1.8412, dtype=torch.float64, grad_fn=<NllLossBackward0>)\n",
      "tensor(5.7685, dtype=torch.float64, grad_fn=<NllLossBackward0>)\n",
      "----------\n"
     ]
    },
    {
     "name": "stderr",
     "output_type": "stream",
     "text": [
      "  2%|▋                                    | 201/10000 [04:17<3:30:31,  1.29s/it]"
     ]
    },
    {
     "name": "stdout",
     "output_type": "stream",
     "text": [
      "train test\n",
      "tensor(1.7849, dtype=torch.float64, grad_fn=<NllLossBackward0>)\n",
      "tensor(5.8350, dtype=torch.float64, grad_fn=<NllLossBackward0>)\n",
      "----------\n"
     ]
    },
    {
     "name": "stderr",
     "output_type": "stream",
     "text": [
      "  2%|▊                                    | 211/10000 [04:30<3:30:16,  1.29s/it]"
     ]
    },
    {
     "name": "stdout",
     "output_type": "stream",
     "text": [
      "train test\n",
      "tensor(1.7283, dtype=torch.float64, grad_fn=<NllLossBackward0>)\n",
      "tensor(5.9152, dtype=torch.float64, grad_fn=<NllLossBackward0>)\n",
      "----------\n"
     ]
    },
    {
     "name": "stderr",
     "output_type": "stream",
     "text": [
      "  2%|▊                                    | 221/10000 [04:43<3:34:06,  1.31s/it]"
     ]
    },
    {
     "name": "stdout",
     "output_type": "stream",
     "text": [
      "train test\n",
      "tensor(1.6701, dtype=torch.float64, grad_fn=<NllLossBackward0>)\n",
      "tensor(5.9637, dtype=torch.float64, grad_fn=<NllLossBackward0>)\n",
      "----------\n"
     ]
    },
    {
     "name": "stderr",
     "output_type": "stream",
     "text": [
      "  2%|▊                                    | 231/10000 [04:57<3:52:22,  1.43s/it]"
     ]
    },
    {
     "name": "stdout",
     "output_type": "stream",
     "text": [
      "train test\n",
      "tensor(1.6102, dtype=torch.float64, grad_fn=<NllLossBackward0>)\n",
      "tensor(6.0248, dtype=torch.float64, grad_fn=<NllLossBackward0>)\n",
      "----------\n"
     ]
    },
    {
     "name": "stderr",
     "output_type": "stream",
     "text": [
      "  2%|▉                                    | 241/10000 [05:12<3:55:25,  1.45s/it]"
     ]
    },
    {
     "name": "stdout",
     "output_type": "stream",
     "text": [
      "train test\n",
      "tensor(1.5529, dtype=torch.float64, grad_fn=<NllLossBackward0>)\n",
      "tensor(6.1103, dtype=torch.float64, grad_fn=<NllLossBackward0>)\n",
      "----------\n"
     ]
    },
    {
     "name": "stderr",
     "output_type": "stream",
     "text": [
      "  3%|▉                                    | 251/10000 [05:26<3:44:59,  1.38s/it]"
     ]
    },
    {
     "name": "stdout",
     "output_type": "stream",
     "text": [
      "train test\n",
      "tensor(1.4996, dtype=torch.float64, grad_fn=<NllLossBackward0>)\n",
      "tensor(6.2144, dtype=torch.float64, grad_fn=<NllLossBackward0>)\n",
      "----------\n"
     ]
    },
    {
     "name": "stderr",
     "output_type": "stream",
     "text": [
      "  3%|▉                                    | 261/10000 [05:40<3:45:13,  1.39s/it]"
     ]
    },
    {
     "name": "stdout",
     "output_type": "stream",
     "text": [
      "train test\n",
      "tensor(1.4485, dtype=torch.float64, grad_fn=<NllLossBackward0>)\n",
      "tensor(6.2669, dtype=torch.float64, grad_fn=<NllLossBackward0>)\n",
      "----------\n"
     ]
    },
    {
     "name": "stderr",
     "output_type": "stream",
     "text": [
      "  3%|█                                    | 271/10000 [05:53<3:45:20,  1.39s/it]"
     ]
    },
    {
     "name": "stdout",
     "output_type": "stream",
     "text": [
      "train test\n",
      "tensor(1.3974, dtype=torch.float64, grad_fn=<NllLossBackward0>)\n",
      "tensor(6.3146, dtype=torch.float64, grad_fn=<NllLossBackward0>)\n",
      "----------\n"
     ]
    },
    {
     "name": "stderr",
     "output_type": "stream",
     "text": [
      "  3%|█                                    | 281/10000 [06:08<3:54:38,  1.45s/it]"
     ]
    },
    {
     "name": "stdout",
     "output_type": "stream",
     "text": [
      "train test\n",
      "tensor(1.3412, dtype=torch.float64, grad_fn=<NllLossBackward0>)\n",
      "tensor(6.3439, dtype=torch.float64, grad_fn=<NllLossBackward0>)\n",
      "----------\n"
     ]
    },
    {
     "name": "stderr",
     "output_type": "stream",
     "text": [
      "  3%|█                                    | 291/10000 [06:21<3:37:36,  1.34s/it]"
     ]
    },
    {
     "name": "stdout",
     "output_type": "stream",
     "text": [
      "train test\n",
      "tensor(1.2821, dtype=torch.float64, grad_fn=<NllLossBackward0>)\n",
      "tensor(6.3605, dtype=torch.float64, grad_fn=<NllLossBackward0>)\n",
      "----------\n"
     ]
    },
    {
     "name": "stderr",
     "output_type": "stream",
     "text": [
      "  3%|█                                    | 301/10000 [06:35<3:37:10,  1.34s/it]"
     ]
    },
    {
     "name": "stdout",
     "output_type": "stream",
     "text": [
      "train test\n",
      "tensor(1.2279, dtype=torch.float64, grad_fn=<NllLossBackward0>)\n",
      "tensor(6.3960, dtype=torch.float64, grad_fn=<NllLossBackward0>)\n",
      "----------\n"
     ]
    },
    {
     "name": "stderr",
     "output_type": "stream",
     "text": [
      "  3%|█▏                                   | 311/10000 [06:48<3:39:12,  1.36s/it]"
     ]
    },
    {
     "name": "stdout",
     "output_type": "stream",
     "text": [
      "train test\n",
      "tensor(1.1765, dtype=torch.float64, grad_fn=<NllLossBackward0>)\n",
      "tensor(6.4124, dtype=torch.float64, grad_fn=<NllLossBackward0>)\n",
      "----------\n"
     ]
    },
    {
     "name": "stderr",
     "output_type": "stream",
     "text": [
      "  3%|█▏                                   | 321/10000 [07:02<3:38:43,  1.36s/it]"
     ]
    },
    {
     "name": "stdout",
     "output_type": "stream",
     "text": [
      "train test\n",
      "tensor(1.1275, dtype=torch.float64, grad_fn=<NllLossBackward0>)\n",
      "tensor(6.4328, dtype=torch.float64, grad_fn=<NllLossBackward0>)\n",
      "----------\n"
     ]
    },
    {
     "name": "stderr",
     "output_type": "stream",
     "text": [
      "  3%|█▏                                   | 331/10000 [07:15<3:36:10,  1.34s/it]"
     ]
    },
    {
     "name": "stdout",
     "output_type": "stream",
     "text": [
      "train test\n",
      "tensor(1.0804, dtype=torch.float64, grad_fn=<NllLossBackward0>)\n",
      "tensor(6.4862, dtype=torch.float64, grad_fn=<NllLossBackward0>)\n",
      "----------\n"
     ]
    },
    {
     "name": "stderr",
     "output_type": "stream",
     "text": [
      "  3%|█▎                                   | 341/10000 [07:29<3:43:51,  1.39s/it]"
     ]
    },
    {
     "name": "stdout",
     "output_type": "stream",
     "text": [
      "train test\n",
      "tensor(1.0352, dtype=torch.float64, grad_fn=<NllLossBackward0>)\n",
      "tensor(6.5384, dtype=torch.float64, grad_fn=<NllLossBackward0>)\n",
      "----------\n"
     ]
    },
    {
     "name": "stderr",
     "output_type": "stream",
     "text": [
      "  4%|█▎                                   | 351/10000 [07:43<3:45:10,  1.40s/it]"
     ]
    },
    {
     "name": "stdout",
     "output_type": "stream",
     "text": [
      "train test\n",
      "tensor(0.9972, dtype=torch.float64, grad_fn=<NllLossBackward0>)\n",
      "tensor(6.5651, dtype=torch.float64, grad_fn=<NllLossBackward0>)\n",
      "----------\n"
     ]
    },
    {
     "name": "stderr",
     "output_type": "stream",
     "text": [
      "  4%|█▎                                   | 361/10000 [07:57<3:37:39,  1.35s/it]"
     ]
    },
    {
     "name": "stdout",
     "output_type": "stream",
     "text": [
      "train test\n",
      "tensor(0.9628, dtype=torch.float64, grad_fn=<NllLossBackward0>)\n",
      "tensor(6.5932, dtype=torch.float64, grad_fn=<NllLossBackward0>)\n",
      "----------\n"
     ]
    },
    {
     "name": "stderr",
     "output_type": "stream",
     "text": [
      "  4%|█▎                                   | 371/10000 [08:10<3:35:43,  1.34s/it]"
     ]
    },
    {
     "name": "stdout",
     "output_type": "stream",
     "text": [
      "train test\n",
      "tensor(0.9305, dtype=torch.float64, grad_fn=<NllLossBackward0>)\n",
      "tensor(6.6320, dtype=torch.float64, grad_fn=<NllLossBackward0>)\n",
      "----------\n"
     ]
    },
    {
     "name": "stderr",
     "output_type": "stream",
     "text": [
      "  4%|█▍                                   | 381/10000 [08:23<3:29:27,  1.31s/it]"
     ]
    },
    {
     "name": "stdout",
     "output_type": "stream",
     "text": [
      "train test\n",
      "tensor(0.8996, dtype=torch.float64, grad_fn=<NllLossBackward0>)\n",
      "tensor(6.6895, dtype=torch.float64, grad_fn=<NllLossBackward0>)\n",
      "----------\n"
     ]
    },
    {
     "name": "stderr",
     "output_type": "stream",
     "text": [
      "  4%|█▍                                   | 391/10000 [08:37<3:31:08,  1.32s/it]"
     ]
    },
    {
     "name": "stdout",
     "output_type": "stream",
     "text": [
      "train test\n",
      "tensor(0.8693, dtype=torch.float64, grad_fn=<NllLossBackward0>)\n",
      "tensor(6.7468, dtype=torch.float64, grad_fn=<NllLossBackward0>)\n",
      "----------\n"
     ]
    },
    {
     "name": "stderr",
     "output_type": "stream",
     "text": [
      "  4%|█▍                                   | 401/10000 [08:49<3:07:02,  1.17s/it]"
     ]
    },
    {
     "name": "stdout",
     "output_type": "stream",
     "text": [
      "train test\n",
      "tensor(0.8401, dtype=torch.float64, grad_fn=<NllLossBackward0>)\n",
      "tensor(6.8199, dtype=torch.float64, grad_fn=<NllLossBackward0>)\n",
      "----------\n"
     ]
    },
    {
     "name": "stderr",
     "output_type": "stream",
     "text": [
      "  4%|█▌                                   | 411/10000 [09:00<3:05:00,  1.16s/it]"
     ]
    },
    {
     "name": "stdout",
     "output_type": "stream",
     "text": [
      "train test\n",
      "tensor(0.8157, dtype=torch.float64, grad_fn=<NllLossBackward0>)\n",
      "tensor(6.8837, dtype=torch.float64, grad_fn=<NllLossBackward0>)\n",
      "----------\n"
     ]
    },
    {
     "name": "stderr",
     "output_type": "stream",
     "text": [
      "  4%|█▌                                   | 421/10000 [09:12<3:01:26,  1.14s/it]"
     ]
    },
    {
     "name": "stdout",
     "output_type": "stream",
     "text": [
      "train test\n",
      "tensor(0.7936, dtype=torch.float64, grad_fn=<NllLossBackward0>)\n",
      "tensor(6.9158, dtype=torch.float64, grad_fn=<NllLossBackward0>)\n",
      "----------\n"
     ]
    },
    {
     "name": "stderr",
     "output_type": "stream",
     "text": [
      "  4%|█▌                                   | 431/10000 [09:23<3:02:09,  1.14s/it]"
     ]
    },
    {
     "name": "stdout",
     "output_type": "stream",
     "text": [
      "train test\n",
      "tensor(0.7727, dtype=torch.float64, grad_fn=<NllLossBackward0>)\n",
      "tensor(6.9605, dtype=torch.float64, grad_fn=<NllLossBackward0>)\n",
      "----------\n"
     ]
    },
    {
     "name": "stderr",
     "output_type": "stream",
     "text": [
      "  4%|█▋                                   | 441/10000 [09:35<3:02:39,  1.15s/it]"
     ]
    },
    {
     "name": "stdout",
     "output_type": "stream",
     "text": [
      "train test\n",
      "tensor(0.7518, dtype=torch.float64, grad_fn=<NllLossBackward0>)\n",
      "tensor(7.0205, dtype=torch.float64, grad_fn=<NllLossBackward0>)\n",
      "----------\n"
     ]
    },
    {
     "name": "stderr",
     "output_type": "stream",
     "text": [
      "  5%|█▋                                   | 451/10000 [09:46<3:03:14,  1.15s/it]"
     ]
    },
    {
     "name": "stdout",
     "output_type": "stream",
     "text": [
      "train test\n",
      "tensor(0.7318, dtype=torch.float64, grad_fn=<NllLossBackward0>)\n",
      "tensor(7.0903, dtype=torch.float64, grad_fn=<NllLossBackward0>)\n",
      "----------\n"
     ]
    },
    {
     "name": "stderr",
     "output_type": "stream",
     "text": [
      "  5%|█▋                                   | 461/10000 [09:58<3:03:18,  1.15s/it]"
     ]
    },
    {
     "name": "stdout",
     "output_type": "stream",
     "text": [
      "train test\n",
      "tensor(0.7127, dtype=torch.float64, grad_fn=<NllLossBackward0>)\n",
      "tensor(7.1436, dtype=torch.float64, grad_fn=<NllLossBackward0>)\n",
      "----------\n"
     ]
    },
    {
     "name": "stderr",
     "output_type": "stream",
     "text": [
      "  5%|█▋                                   | 471/10000 [10:09<3:01:11,  1.14s/it]"
     ]
    },
    {
     "name": "stdout",
     "output_type": "stream",
     "text": [
      "train test\n",
      "tensor(0.6951, dtype=torch.float64, grad_fn=<NllLossBackward0>)\n",
      "tensor(7.2074, dtype=torch.float64, grad_fn=<NllLossBackward0>)\n",
      "----------\n"
     ]
    },
    {
     "name": "stderr",
     "output_type": "stream",
     "text": [
      "  5%|█▊                                   | 481/10000 [10:21<3:01:05,  1.14s/it]"
     ]
    },
    {
     "name": "stdout",
     "output_type": "stream",
     "text": [
      "train test\n",
      "tensor(0.6794, dtype=torch.float64, grad_fn=<NllLossBackward0>)\n",
      "tensor(7.2663, dtype=torch.float64, grad_fn=<NllLossBackward0>)\n",
      "----------\n"
     ]
    },
    {
     "name": "stderr",
     "output_type": "stream",
     "text": [
      "  5%|█▊                                   | 491/10000 [10:32<3:02:06,  1.15s/it]"
     ]
    },
    {
     "name": "stdout",
     "output_type": "stream",
     "text": [
      "train test\n",
      "tensor(0.6654, dtype=torch.float64, grad_fn=<NllLossBackward0>)\n",
      "tensor(7.3262, dtype=torch.float64, grad_fn=<NllLossBackward0>)\n",
      "----------\n"
     ]
    },
    {
     "name": "stderr",
     "output_type": "stream",
     "text": [
      "  5%|█▊                                   | 501/10000 [10:43<3:01:30,  1.15s/it]"
     ]
    },
    {
     "name": "stdout",
     "output_type": "stream",
     "text": [
      "train test\n",
      "tensor(0.6519, dtype=torch.float64, grad_fn=<NllLossBackward0>)\n",
      "tensor(7.3787, dtype=torch.float64, grad_fn=<NllLossBackward0>)\n",
      "----------\n"
     ]
    },
    {
     "name": "stderr",
     "output_type": "stream",
     "text": [
      "  5%|█▉                                   | 511/10000 [10:55<3:00:57,  1.14s/it]"
     ]
    },
    {
     "name": "stdout",
     "output_type": "stream",
     "text": [
      "train test\n",
      "tensor(0.6382, dtype=torch.float64, grad_fn=<NllLossBackward0>)\n",
      "tensor(7.4488, dtype=torch.float64, grad_fn=<NllLossBackward0>)\n",
      "----------\n"
     ]
    },
    {
     "name": "stderr",
     "output_type": "stream",
     "text": [
      "  5%|█▉                                   | 521/10000 [11:06<3:01:32,  1.15s/it]"
     ]
    },
    {
     "name": "stdout",
     "output_type": "stream",
     "text": [
      "train test\n",
      "tensor(0.6263, dtype=torch.float64, grad_fn=<NllLossBackward0>)\n",
      "tensor(7.5098, dtype=torch.float64, grad_fn=<NllLossBackward0>)\n",
      "----------\n"
     ]
    },
    {
     "name": "stderr",
     "output_type": "stream",
     "text": [
      "  5%|█▉                                   | 531/10000 [11:18<3:04:48,  1.17s/it]"
     ]
    },
    {
     "name": "stdout",
     "output_type": "stream",
     "text": [
      "train test\n",
      "tensor(0.6140, dtype=torch.float64, grad_fn=<NllLossBackward0>)\n",
      "tensor(7.5784, dtype=torch.float64, grad_fn=<NllLossBackward0>)\n",
      "----------\n"
     ]
    },
    {
     "name": "stderr",
     "output_type": "stream",
     "text": [
      "  5%|██                                   | 541/10000 [11:29<2:58:37,  1.13s/it]"
     ]
    },
    {
     "name": "stdout",
     "output_type": "stream",
     "text": [
      "train test\n",
      "tensor(0.6025, dtype=torch.float64, grad_fn=<NllLossBackward0>)\n",
      "tensor(7.6435, dtype=torch.float64, grad_fn=<NllLossBackward0>)\n",
      "----------\n"
     ]
    },
    {
     "name": "stderr",
     "output_type": "stream",
     "text": [
      "  6%|██                                   | 551/10000 [11:40<2:34:44,  1.02it/s]"
     ]
    },
    {
     "name": "stdout",
     "output_type": "stream",
     "text": [
      "train test\n",
      "tensor(0.5915, dtype=torch.float64, grad_fn=<NllLossBackward0>)\n",
      "tensor(7.7127, dtype=torch.float64, grad_fn=<NllLossBackward0>)\n",
      "----------\n"
     ]
    },
    {
     "name": "stderr",
     "output_type": "stream",
     "text": [
      "  6%|██                                   | 561/10000 [11:49<2:27:00,  1.07it/s]"
     ]
    },
    {
     "name": "stdout",
     "output_type": "stream",
     "text": [
      "train test\n",
      "tensor(0.5806, dtype=torch.float64, grad_fn=<NllLossBackward0>)\n",
      "tensor(7.7801, dtype=torch.float64, grad_fn=<NllLossBackward0>)\n",
      "----------\n"
     ]
    },
    {
     "name": "stderr",
     "output_type": "stream",
     "text": [
      "  6%|██                                   | 571/10000 [11:59<2:33:26,  1.02it/s]"
     ]
    },
    {
     "name": "stdout",
     "output_type": "stream",
     "text": [
      "train test\n",
      "tensor(0.5705, dtype=torch.float64, grad_fn=<NllLossBackward0>)\n",
      "tensor(7.8476, dtype=torch.float64, grad_fn=<NllLossBackward0>)\n",
      "----------\n"
     ]
    },
    {
     "name": "stderr",
     "output_type": "stream",
     "text": [
      "  6%|██▏                                  | 581/10000 [12:09<2:33:06,  1.03it/s]"
     ]
    },
    {
     "name": "stdout",
     "output_type": "stream",
     "text": [
      "train test\n",
      "tensor(0.5608, dtype=torch.float64, grad_fn=<NllLossBackward0>)\n",
      "tensor(7.9141, dtype=torch.float64, grad_fn=<NllLossBackward0>)\n",
      "----------\n"
     ]
    },
    {
     "name": "stderr",
     "output_type": "stream",
     "text": [
      "  6%|██▏                                  | 591/10000 [12:18<2:33:47,  1.02it/s]"
     ]
    },
    {
     "name": "stdout",
     "output_type": "stream",
     "text": [
      "train test\n",
      "tensor(0.5537, dtype=torch.float64, grad_fn=<NllLossBackward0>)\n",
      "tensor(7.9781, dtype=torch.float64, grad_fn=<NllLossBackward0>)\n",
      "----------\n"
     ]
    },
    {
     "name": "stderr",
     "output_type": "stream",
     "text": [
      "  6%|██▏                                  | 601/10000 [12:28<2:32:39,  1.03it/s]"
     ]
    },
    {
     "name": "stdout",
     "output_type": "stream",
     "text": [
      "train test\n",
      "tensor(0.5450, dtype=torch.float64, grad_fn=<NllLossBackward0>)\n",
      "tensor(8.0273, dtype=torch.float64, grad_fn=<NllLossBackward0>)\n",
      "----------\n"
     ]
    },
    {
     "name": "stderr",
     "output_type": "stream",
     "text": [
      "  6%|██▎                                  | 611/10000 [12:38<2:30:57,  1.04it/s]"
     ]
    },
    {
     "name": "stdout",
     "output_type": "stream",
     "text": [
      "train test\n",
      "tensor(0.5387, dtype=torch.float64, grad_fn=<NllLossBackward0>)\n",
      "tensor(8.0612, dtype=torch.float64, grad_fn=<NllLossBackward0>)\n",
      "----------\n"
     ]
    },
    {
     "name": "stderr",
     "output_type": "stream",
     "text": [
      "  6%|██▎                                  | 621/10000 [12:47<2:33:09,  1.02it/s]"
     ]
    },
    {
     "name": "stdout",
     "output_type": "stream",
     "text": [
      "train test\n",
      "tensor(0.5318, dtype=torch.float64, grad_fn=<NllLossBackward0>)\n",
      "tensor(8.1142, dtype=torch.float64, grad_fn=<NllLossBackward0>)\n",
      "----------\n"
     ]
    },
    {
     "name": "stderr",
     "output_type": "stream",
     "text": [
      "  6%|██▎                                  | 631/10000 [12:57<2:31:08,  1.03it/s]"
     ]
    },
    {
     "name": "stdout",
     "output_type": "stream",
     "text": [
      "train test\n",
      "tensor(0.5239, dtype=torch.float64, grad_fn=<NllLossBackward0>)\n",
      "tensor(8.1715, dtype=torch.float64, grad_fn=<NllLossBackward0>)\n",
      "----------\n"
     ]
    },
    {
     "name": "stderr",
     "output_type": "stream",
     "text": [
      "  6%|██▎                                  | 641/10000 [13:07<2:30:54,  1.03it/s]"
     ]
    },
    {
     "name": "stdout",
     "output_type": "stream",
     "text": [
      "train test\n",
      "tensor(0.5158, dtype=torch.float64, grad_fn=<NllLossBackward0>)\n",
      "tensor(8.2377, dtype=torch.float64, grad_fn=<NllLossBackward0>)\n",
      "----------\n"
     ]
    },
    {
     "name": "stderr",
     "output_type": "stream",
     "text": [
      "  7%|██▍                                  | 651/10000 [13:16<2:31:27,  1.03it/s]"
     ]
    },
    {
     "name": "stdout",
     "output_type": "stream",
     "text": [
      "train test\n",
      "tensor(0.5084, dtype=torch.float64, grad_fn=<NllLossBackward0>)\n",
      "tensor(8.3140, dtype=torch.float64, grad_fn=<NllLossBackward0>)\n",
      "----------\n"
     ]
    },
    {
     "name": "stderr",
     "output_type": "stream",
     "text": [
      "  7%|██▍                                  | 661/10000 [13:26<2:30:36,  1.03it/s]"
     ]
    },
    {
     "name": "stdout",
     "output_type": "stream",
     "text": [
      "train test\n",
      "tensor(0.5002, dtype=torch.float64, grad_fn=<NllLossBackward0>)\n",
      "tensor(8.3733, dtype=torch.float64, grad_fn=<NllLossBackward0>)\n",
      "----------\n"
     ]
    },
    {
     "name": "stderr",
     "output_type": "stream",
     "text": [
      "  7%|██▍                                  | 671/10000 [13:36<2:32:28,  1.02it/s]"
     ]
    },
    {
     "name": "stdout",
     "output_type": "stream",
     "text": [
      "train test\n",
      "tensor(0.4938, dtype=torch.float64, grad_fn=<NllLossBackward0>)\n",
      "tensor(8.4445, dtype=torch.float64, grad_fn=<NllLossBackward0>)\n",
      "----------\n"
     ]
    },
    {
     "name": "stderr",
     "output_type": "stream",
     "text": [
      "  7%|██▌                                  | 681/10000 [13:45<2:31:39,  1.02it/s]"
     ]
    },
    {
     "name": "stdout",
     "output_type": "stream",
     "text": [
      "train test\n",
      "tensor(0.4868, dtype=torch.float64, grad_fn=<NllLossBackward0>)\n",
      "tensor(8.4841, dtype=torch.float64, grad_fn=<NllLossBackward0>)\n",
      "----------\n"
     ]
    },
    {
     "name": "stderr",
     "output_type": "stream",
     "text": [
      "  7%|██▌                                  | 691/10000 [13:55<2:29:48,  1.04it/s]"
     ]
    },
    {
     "name": "stdout",
     "output_type": "stream",
     "text": [
      "train test\n",
      "tensor(0.4807, dtype=torch.float64, grad_fn=<NllLossBackward0>)\n",
      "tensor(8.5403, dtype=torch.float64, grad_fn=<NllLossBackward0>)\n",
      "----------\n"
     ]
    },
    {
     "name": "stderr",
     "output_type": "stream",
     "text": [
      "  7%|██▌                                  | 701/10000 [14:05<2:29:17,  1.04it/s]"
     ]
    },
    {
     "name": "stdout",
     "output_type": "stream",
     "text": [
      "train test\n",
      "tensor(0.4782, dtype=torch.float64, grad_fn=<NllLossBackward0>)\n",
      "tensor(8.5942, dtype=torch.float64, grad_fn=<NllLossBackward0>)\n",
      "----------\n"
     ]
    },
    {
     "name": "stderr",
     "output_type": "stream",
     "text": [
      "  7%|██▋                                  | 711/10000 [14:15<2:30:22,  1.03it/s]"
     ]
    },
    {
     "name": "stdout",
     "output_type": "stream",
     "text": [
      "train test\n",
      "tensor(0.4710, dtype=torch.float64, grad_fn=<NllLossBackward0>)\n",
      "tensor(8.6292, dtype=torch.float64, grad_fn=<NllLossBackward0>)\n",
      "----------\n"
     ]
    },
    {
     "name": "stderr",
     "output_type": "stream",
     "text": [
      "  7%|██▋                                  | 721/10000 [14:24<2:28:52,  1.04it/s]"
     ]
    },
    {
     "name": "stdout",
     "output_type": "stream",
     "text": [
      "train test\n",
      "tensor(0.4676, dtype=torch.float64, grad_fn=<NllLossBackward0>)\n",
      "tensor(8.6613, dtype=torch.float64, grad_fn=<NllLossBackward0>)\n",
      "----------\n"
     ]
    },
    {
     "name": "stderr",
     "output_type": "stream",
     "text": [
      "  7%|██▋                                  | 731/10000 [14:34<2:29:39,  1.03it/s]"
     ]
    },
    {
     "name": "stdout",
     "output_type": "stream",
     "text": [
      "train test\n",
      "tensor(0.4628, dtype=torch.float64, grad_fn=<NllLossBackward0>)\n",
      "tensor(8.7013, dtype=torch.float64, grad_fn=<NllLossBackward0>)\n",
      "----------\n"
     ]
    },
    {
     "name": "stderr",
     "output_type": "stream",
     "text": [
      "  7%|██▋                                  | 741/10000 [14:44<2:30:11,  1.03it/s]"
     ]
    },
    {
     "name": "stdout",
     "output_type": "stream",
     "text": [
      "train test\n",
      "tensor(0.4570, dtype=torch.float64, grad_fn=<NllLossBackward0>)\n",
      "tensor(8.7602, dtype=torch.float64, grad_fn=<NllLossBackward0>)\n",
      "----------\n"
     ]
    },
    {
     "name": "stderr",
     "output_type": "stream",
     "text": [
      "  8%|██▊                                  | 751/10000 [14:54<2:29:43,  1.03it/s]"
     ]
    },
    {
     "name": "stdout",
     "output_type": "stream",
     "text": [
      "train test\n",
      "tensor(0.4505, dtype=torch.float64, grad_fn=<NllLossBackward0>)\n",
      "tensor(8.8362, dtype=torch.float64, grad_fn=<NllLossBackward0>)\n",
      "----------\n"
     ]
    },
    {
     "name": "stderr",
     "output_type": "stream",
     "text": [
      "  8%|██▊                                  | 761/10000 [15:03<2:27:49,  1.04it/s]"
     ]
    },
    {
     "name": "stdout",
     "output_type": "stream",
     "text": [
      "train test\n",
      "tensor(0.4466, dtype=torch.float64, grad_fn=<NllLossBackward0>)\n",
      "tensor(8.8814, dtype=torch.float64, grad_fn=<NllLossBackward0>)\n",
      "----------\n"
     ]
    },
    {
     "name": "stderr",
     "output_type": "stream",
     "text": [
      "  8%|██▊                                  | 771/10000 [15:13<2:27:48,  1.04it/s]"
     ]
    },
    {
     "name": "stdout",
     "output_type": "stream",
     "text": [
      "train test\n",
      "tensor(0.4421, dtype=torch.float64, grad_fn=<NllLossBackward0>)\n",
      "tensor(8.9123, dtype=torch.float64, grad_fn=<NllLossBackward0>)\n",
      "----------\n"
     ]
    },
    {
     "name": "stderr",
     "output_type": "stream",
     "text": [
      "  8%|██▉                                  | 781/10000 [15:22<2:26:13,  1.05it/s]"
     ]
    },
    {
     "name": "stdout",
     "output_type": "stream",
     "text": [
      "train test\n",
      "tensor(0.4379, dtype=torch.float64, grad_fn=<NllLossBackward0>)\n",
      "tensor(8.9584, dtype=torch.float64, grad_fn=<NllLossBackward0>)\n",
      "----------\n"
     ]
    },
    {
     "name": "stderr",
     "output_type": "stream",
     "text": [
      "  8%|██▉                                  | 791/10000 [15:32<2:24:58,  1.06it/s]"
     ]
    },
    {
     "name": "stdout",
     "output_type": "stream",
     "text": [
      "train test\n",
      "tensor(0.4330, dtype=torch.float64, grad_fn=<NllLossBackward0>)\n",
      "tensor(9.0229, dtype=torch.float64, grad_fn=<NllLossBackward0>)\n",
      "----------\n"
     ]
    },
    {
     "name": "stderr",
     "output_type": "stream",
     "text": [
      "  8%|██▉                                  | 801/10000 [15:41<2:26:46,  1.04it/s]"
     ]
    },
    {
     "name": "stdout",
     "output_type": "stream",
     "text": [
      "train test\n",
      "tensor(0.4289, dtype=torch.float64, grad_fn=<NllLossBackward0>)\n",
      "tensor(9.0593, dtype=torch.float64, grad_fn=<NllLossBackward0>)\n",
      "----------\n"
     ]
    },
    {
     "name": "stderr",
     "output_type": "stream",
     "text": [
      "  8%|███                                  | 811/10000 [15:51<2:28:06,  1.03it/s]"
     ]
    },
    {
     "name": "stdout",
     "output_type": "stream",
     "text": [
      "train test\n",
      "tensor(0.4256, dtype=torch.float64, grad_fn=<NllLossBackward0>)\n",
      "tensor(9.0994, dtype=torch.float64, grad_fn=<NllLossBackward0>)\n",
      "----------\n"
     ]
    },
    {
     "name": "stderr",
     "output_type": "stream",
     "text": [
      "  8%|███                                  | 821/10000 [16:01<2:29:41,  1.02it/s]"
     ]
    },
    {
     "name": "stdout",
     "output_type": "stream",
     "text": [
      "train test\n",
      "tensor(0.4216, dtype=torch.float64, grad_fn=<NllLossBackward0>)\n",
      "tensor(9.1376, dtype=torch.float64, grad_fn=<NllLossBackward0>)\n",
      "----------\n"
     ]
    },
    {
     "name": "stderr",
     "output_type": "stream",
     "text": [
      "  8%|███                                  | 831/10000 [16:10<2:26:28,  1.04it/s]"
     ]
    },
    {
     "name": "stdout",
     "output_type": "stream",
     "text": [
      "train test\n",
      "tensor(0.4164, dtype=torch.float64, grad_fn=<NllLossBackward0>)\n",
      "tensor(9.1955, dtype=torch.float64, grad_fn=<NllLossBackward0>)\n",
      "----------\n"
     ]
    },
    {
     "name": "stderr",
     "output_type": "stream",
     "text": [
      "  8%|███                                  | 841/10000 [16:20<2:27:12,  1.04it/s]"
     ]
    },
    {
     "name": "stdout",
     "output_type": "stream",
     "text": [
      "train test\n",
      "tensor(0.4109, dtype=torch.float64, grad_fn=<NllLossBackward0>)\n",
      "tensor(9.2630, dtype=torch.float64, grad_fn=<NllLossBackward0>)\n",
      "----------\n"
     ]
    },
    {
     "name": "stderr",
     "output_type": "stream",
     "text": [
      "  9%|███▏                                 | 851/10000 [16:30<2:26:56,  1.04it/s]"
     ]
    },
    {
     "name": "stdout",
     "output_type": "stream",
     "text": [
      "train test\n",
      "tensor(0.4061, dtype=torch.float64, grad_fn=<NllLossBackward0>)\n",
      "tensor(9.3265, dtype=torch.float64, grad_fn=<NllLossBackward0>)\n",
      "----------\n"
     ]
    },
    {
     "name": "stderr",
     "output_type": "stream",
     "text": [
      "  9%|███▏                                 | 861/10000 [16:39<2:26:25,  1.04it/s]"
     ]
    },
    {
     "name": "stdout",
     "output_type": "stream",
     "text": [
      "train test\n",
      "tensor(0.4010, dtype=torch.float64, grad_fn=<NllLossBackward0>)\n",
      "tensor(9.3870, dtype=torch.float64, grad_fn=<NllLossBackward0>)\n",
      "----------\n"
     ]
    },
    {
     "name": "stderr",
     "output_type": "stream",
     "text": [
      "  9%|███▏                                 | 871/10000 [16:49<2:27:46,  1.03it/s]"
     ]
    },
    {
     "name": "stdout",
     "output_type": "stream",
     "text": [
      "train test\n",
      "tensor(0.3962, dtype=torch.float64, grad_fn=<NllLossBackward0>)\n",
      "tensor(9.4429, dtype=torch.float64, grad_fn=<NllLossBackward0>)\n",
      "----------\n"
     ]
    },
    {
     "name": "stderr",
     "output_type": "stream",
     "text": [
      "  9%|███▎                                 | 881/10000 [16:59<2:23:42,  1.06it/s]"
     ]
    },
    {
     "name": "stdout",
     "output_type": "stream",
     "text": [
      "train test\n",
      "tensor(0.3928, dtype=torch.float64, grad_fn=<NllLossBackward0>)\n",
      "tensor(9.4885, dtype=torch.float64, grad_fn=<NllLossBackward0>)\n",
      "----------\n"
     ]
    },
    {
     "name": "stderr",
     "output_type": "stream",
     "text": [
      "  9%|███▎                                 | 891/10000 [17:08<2:24:21,  1.05it/s]"
     ]
    },
    {
     "name": "stdout",
     "output_type": "stream",
     "text": [
      "train test\n",
      "tensor(0.3896, dtype=torch.float64, grad_fn=<NllLossBackward0>)\n",
      "tensor(9.5131, dtype=torch.float64, grad_fn=<NllLossBackward0>)\n",
      "----------\n"
     ]
    },
    {
     "name": "stderr",
     "output_type": "stream",
     "text": [
      "  9%|███▎                                 | 901/10000 [17:18<2:26:13,  1.04it/s]"
     ]
    },
    {
     "name": "stdout",
     "output_type": "stream",
     "text": [
      "train test\n",
      "tensor(0.3859, dtype=torch.float64, grad_fn=<NllLossBackward0>)\n",
      "tensor(9.5552, dtype=torch.float64, grad_fn=<NllLossBackward0>)\n",
      "----------\n"
     ]
    },
    {
     "name": "stderr",
     "output_type": "stream",
     "text": [
      "  9%|███▎                                 | 911/10000 [17:27<2:23:59,  1.05it/s]"
     ]
    },
    {
     "name": "stdout",
     "output_type": "stream",
     "text": [
      "train test\n",
      "tensor(0.3833, dtype=torch.float64, grad_fn=<NllLossBackward0>)\n",
      "tensor(9.6060, dtype=torch.float64, grad_fn=<NllLossBackward0>)\n",
      "----------\n"
     ]
    },
    {
     "name": "stderr",
     "output_type": "stream",
     "text": [
      "  9%|███▍                                 | 921/10000 [17:37<2:24:31,  1.05it/s]"
     ]
    },
    {
     "name": "stdout",
     "output_type": "stream",
     "text": [
      "train test\n",
      "tensor(0.3794, dtype=torch.float64, grad_fn=<NllLossBackward0>)\n",
      "tensor(9.6430, dtype=torch.float64, grad_fn=<NllLossBackward0>)\n",
      "----------\n"
     ]
    },
    {
     "name": "stderr",
     "output_type": "stream",
     "text": [
      "  9%|███▍                                 | 931/10000 [17:46<2:24:01,  1.05it/s]"
     ]
    },
    {
     "name": "stdout",
     "output_type": "stream",
     "text": [
      "train test\n",
      "tensor(0.3755, dtype=torch.float64, grad_fn=<NllLossBackward0>)\n",
      "tensor(9.6858, dtype=torch.float64, grad_fn=<NllLossBackward0>)\n",
      "----------\n"
     ]
    },
    {
     "name": "stderr",
     "output_type": "stream",
     "text": [
      "  9%|███▍                                 | 941/10000 [17:56<2:23:56,  1.05it/s]"
     ]
    },
    {
     "name": "stdout",
     "output_type": "stream",
     "text": [
      "train test\n",
      "tensor(0.3719, dtype=torch.float64, grad_fn=<NllLossBackward0>)\n",
      "tensor(9.7288, dtype=torch.float64, grad_fn=<NllLossBackward0>)\n",
      "----------\n"
     ]
    },
    {
     "name": "stderr",
     "output_type": "stream",
     "text": [
      " 10%|███▌                                 | 951/10000 [18:05<2:22:23,  1.06it/s]"
     ]
    },
    {
     "name": "stdout",
     "output_type": "stream",
     "text": [
      "train test\n",
      "tensor(0.3685, dtype=torch.float64, grad_fn=<NllLossBackward0>)\n",
      "tensor(9.7658, dtype=torch.float64, grad_fn=<NllLossBackward0>)\n",
      "----------\n"
     ]
    },
    {
     "name": "stderr",
     "output_type": "stream",
     "text": [
      " 10%|███▌                                 | 961/10000 [18:15<2:27:03,  1.02it/s]"
     ]
    },
    {
     "name": "stdout",
     "output_type": "stream",
     "text": [
      "train test\n",
      "tensor(0.3656, dtype=torch.float64, grad_fn=<NllLossBackward0>)\n",
      "tensor(9.8042, dtype=torch.float64, grad_fn=<NllLossBackward0>)\n",
      "----------\n"
     ]
    },
    {
     "name": "stderr",
     "output_type": "stream",
     "text": [
      " 10%|███▌                                 | 971/10000 [18:25<2:24:19,  1.04it/s]"
     ]
    },
    {
     "name": "stdout",
     "output_type": "stream",
     "text": [
      "train test\n",
      "tensor(0.3624, dtype=torch.float64, grad_fn=<NllLossBackward0>)\n",
      "tensor(9.8555, dtype=torch.float64, grad_fn=<NllLossBackward0>)\n",
      "----------\n"
     ]
    },
    {
     "name": "stderr",
     "output_type": "stream",
     "text": [
      " 10%|███▋                                 | 981/10000 [18:34<2:25:22,  1.03it/s]"
     ]
    },
    {
     "name": "stdout",
     "output_type": "stream",
     "text": [
      "train test\n",
      "tensor(0.3593, dtype=torch.float64, grad_fn=<NllLossBackward0>)\n",
      "tensor(9.8824, dtype=torch.float64, grad_fn=<NllLossBackward0>)\n",
      "----------\n"
     ]
    },
    {
     "name": "stderr",
     "output_type": "stream",
     "text": [
      " 10%|███▋                                 | 991/10000 [18:44<2:24:08,  1.04it/s]"
     ]
    },
    {
     "name": "stdout",
     "output_type": "stream",
     "text": [
      "train test\n",
      "tensor(0.3564, dtype=torch.float64, grad_fn=<NllLossBackward0>)\n",
      "tensor(9.9177, dtype=torch.float64, grad_fn=<NllLossBackward0>)\n",
      "----------\n"
     ]
    },
    {
     "name": "stderr",
     "output_type": "stream",
     "text": [
      " 10%|███▌                                | 1001/10000 [18:53<2:21:05,  1.06it/s]"
     ]
    },
    {
     "name": "stdout",
     "output_type": "stream",
     "text": [
      "train test\n",
      "tensor(0.3542, dtype=torch.float64, grad_fn=<NllLossBackward0>)\n",
      "tensor(9.9414, dtype=torch.float64, grad_fn=<NllLossBackward0>)\n",
      "----------\n"
     ]
    },
    {
     "name": "stderr",
     "output_type": "stream",
     "text": [
      " 10%|███▋                                | 1011/10000 [19:03<2:23:30,  1.04it/s]"
     ]
    },
    {
     "name": "stdout",
     "output_type": "stream",
     "text": [
      "train test\n",
      "tensor(0.3516, dtype=torch.float64, grad_fn=<NllLossBackward0>)\n",
      "tensor(9.9734, dtype=torch.float64, grad_fn=<NllLossBackward0>)\n",
      "----------\n"
     ]
    },
    {
     "name": "stderr",
     "output_type": "stream",
     "text": [
      " 10%|███▋                                | 1021/10000 [19:12<2:20:36,  1.06it/s]"
     ]
    },
    {
     "name": "stdout",
     "output_type": "stream",
     "text": [
      "train test\n",
      "tensor(0.3496, dtype=torch.float64, grad_fn=<NllLossBackward0>)\n",
      "tensor(10.0061, dtype=torch.float64, grad_fn=<NllLossBackward0>)\n",
      "----------\n"
     ]
    },
    {
     "name": "stderr",
     "output_type": "stream",
     "text": [
      " 10%|███▋                                | 1031/10000 [19:22<2:23:45,  1.04it/s]"
     ]
    },
    {
     "name": "stdout",
     "output_type": "stream",
     "text": [
      "train test\n",
      "tensor(0.3473, dtype=torch.float64, grad_fn=<NllLossBackward0>)\n",
      "tensor(10.0328, dtype=torch.float64, grad_fn=<NllLossBackward0>)\n",
      "----------\n"
     ]
    },
    {
     "name": "stderr",
     "output_type": "stream",
     "text": [
      " 10%|███▋                                | 1041/10000 [19:32<2:23:56,  1.04it/s]"
     ]
    },
    {
     "name": "stdout",
     "output_type": "stream",
     "text": [
      "train test\n",
      "tensor(0.3444, dtype=torch.float64, grad_fn=<NllLossBackward0>)\n",
      "tensor(10.0788, dtype=torch.float64, grad_fn=<NllLossBackward0>)\n",
      "----------\n"
     ]
    },
    {
     "name": "stderr",
     "output_type": "stream",
     "text": [
      " 11%|███▊                                | 1051/10000 [19:41<2:21:22,  1.06it/s]"
     ]
    },
    {
     "name": "stdout",
     "output_type": "stream",
     "text": [
      "train test\n",
      "tensor(0.3416, dtype=torch.float64, grad_fn=<NllLossBackward0>)\n",
      "tensor(10.1078, dtype=torch.float64, grad_fn=<NllLossBackward0>)\n",
      "----------\n"
     ]
    },
    {
     "name": "stderr",
     "output_type": "stream",
     "text": [
      " 11%|███▊                                | 1061/10000 [19:51<2:23:55,  1.04it/s]"
     ]
    },
    {
     "name": "stdout",
     "output_type": "stream",
     "text": [
      "train test\n",
      "tensor(0.3395, dtype=torch.float64, grad_fn=<NllLossBackward0>)\n",
      "tensor(10.1491, dtype=torch.float64, grad_fn=<NllLossBackward0>)\n",
      "----------\n"
     ]
    },
    {
     "name": "stderr",
     "output_type": "stream",
     "text": [
      " 11%|███▊                                | 1071/10000 [20:00<2:25:49,  1.02it/s]"
     ]
    },
    {
     "name": "stdout",
     "output_type": "stream",
     "text": [
      "train test\n",
      "tensor(0.3361, dtype=torch.float64, grad_fn=<NllLossBackward0>)\n",
      "tensor(10.1830, dtype=torch.float64, grad_fn=<NllLossBackward0>)\n",
      "----------\n"
     ]
    },
    {
     "name": "stderr",
     "output_type": "stream",
     "text": [
      " 11%|███▉                                | 1081/10000 [20:10<2:26:17,  1.02it/s]"
     ]
    },
    {
     "name": "stdout",
     "output_type": "stream",
     "text": [
      "train test\n",
      "tensor(0.3335, dtype=torch.float64, grad_fn=<NllLossBackward0>)\n",
      "tensor(10.2269, dtype=torch.float64, grad_fn=<NllLossBackward0>)\n",
      "----------\n"
     ]
    },
    {
     "name": "stderr",
     "output_type": "stream",
     "text": [
      " 11%|███▉                                | 1091/10000 [20:20<2:26:27,  1.01it/s]"
     ]
    },
    {
     "name": "stdout",
     "output_type": "stream",
     "text": [
      "train test\n",
      "tensor(0.3307, dtype=torch.float64, grad_fn=<NllLossBackward0>)\n",
      "tensor(10.2588, dtype=torch.float64, grad_fn=<NllLossBackward0>)\n",
      "----------\n"
     ]
    },
    {
     "name": "stderr",
     "output_type": "stream",
     "text": [
      " 11%|███▉                                | 1101/10000 [20:30<2:22:31,  1.04it/s]"
     ]
    },
    {
     "name": "stdout",
     "output_type": "stream",
     "text": [
      "train test\n",
      "tensor(0.3282, dtype=torch.float64, grad_fn=<NllLossBackward0>)\n",
      "tensor(10.2982, dtype=torch.float64, grad_fn=<NllLossBackward0>)\n",
      "----------\n"
     ]
    },
    {
     "name": "stderr",
     "output_type": "stream",
     "text": [
      " 11%|███▉                                | 1111/10000 [20:39<2:24:53,  1.02it/s]"
     ]
    },
    {
     "name": "stdout",
     "output_type": "stream",
     "text": [
      "train test\n",
      "tensor(0.3258, dtype=torch.float64, grad_fn=<NllLossBackward0>)\n",
      "tensor(10.3312, dtype=torch.float64, grad_fn=<NllLossBackward0>)\n",
      "----------\n"
     ]
    },
    {
     "name": "stderr",
     "output_type": "stream",
     "text": [
      " 11%|████                                | 1121/10000 [20:49<2:24:40,  1.02it/s]"
     ]
    },
    {
     "name": "stdout",
     "output_type": "stream",
     "text": [
      "train test\n",
      "tensor(0.3235, dtype=torch.float64, grad_fn=<NllLossBackward0>)\n",
      "tensor(10.3653, dtype=torch.float64, grad_fn=<NllLossBackward0>)\n",
      "----------\n"
     ]
    },
    {
     "name": "stderr",
     "output_type": "stream",
     "text": [
      " 11%|████                                | 1131/10000 [20:59<2:24:30,  1.02it/s]"
     ]
    },
    {
     "name": "stdout",
     "output_type": "stream",
     "text": [
      "train test\n",
      "tensor(0.3212, dtype=torch.float64, grad_fn=<NllLossBackward0>)\n",
      "tensor(10.3986, dtype=torch.float64, grad_fn=<NllLossBackward0>)\n",
      "----------\n"
     ]
    },
    {
     "name": "stderr",
     "output_type": "stream",
     "text": [
      " 11%|████                                | 1141/10000 [21:09<2:23:33,  1.03it/s]"
     ]
    },
    {
     "name": "stdout",
     "output_type": "stream",
     "text": [
      "train test\n",
      "tensor(0.3194, dtype=torch.float64, grad_fn=<NllLossBackward0>)\n",
      "tensor(10.4277, dtype=torch.float64, grad_fn=<NllLossBackward0>)\n",
      "----------\n"
     ]
    },
    {
     "name": "stderr",
     "output_type": "stream",
     "text": [
      " 12%|████▏                               | 1151/10000 [21:18<2:22:43,  1.03it/s]"
     ]
    },
    {
     "name": "stdout",
     "output_type": "stream",
     "text": [
      "train test\n",
      "tensor(0.3185, dtype=torch.float64, grad_fn=<NllLossBackward0>)\n",
      "tensor(10.4244, dtype=torch.float64, grad_fn=<NllLossBackward0>)\n",
      "----------\n"
     ]
    },
    {
     "name": "stderr",
     "output_type": "stream",
     "text": [
      " 12%|████▏                               | 1161/10000 [21:28<2:23:55,  1.02it/s]"
     ]
    },
    {
     "name": "stdout",
     "output_type": "stream",
     "text": [
      "train test\n",
      "tensor(0.3179, dtype=torch.float64, grad_fn=<NllLossBackward0>)\n",
      "tensor(10.4336, dtype=torch.float64, grad_fn=<NllLossBackward0>)\n",
      "----------\n"
     ]
    },
    {
     "name": "stderr",
     "output_type": "stream",
     "text": [
      " 12%|████▏                               | 1171/10000 [21:38<2:22:33,  1.03it/s]"
     ]
    },
    {
     "name": "stdout",
     "output_type": "stream",
     "text": [
      "train test\n",
      "tensor(0.3167, dtype=torch.float64, grad_fn=<NllLossBackward0>)\n",
      "tensor(10.4528, dtype=torch.float64, grad_fn=<NllLossBackward0>)\n",
      "----------\n"
     ]
    },
    {
     "name": "stderr",
     "output_type": "stream",
     "text": [
      " 12%|████▎                               | 1181/10000 [21:48<2:23:06,  1.03it/s]"
     ]
    },
    {
     "name": "stdout",
     "output_type": "stream",
     "text": [
      "train test\n",
      "tensor(0.3145, dtype=torch.float64, grad_fn=<NllLossBackward0>)\n",
      "tensor(10.4826, dtype=torch.float64, grad_fn=<NllLossBackward0>)\n",
      "----------\n"
     ]
    },
    {
     "name": "stderr",
     "output_type": "stream",
     "text": [
      " 12%|████▎                               | 1191/10000 [21:57<2:21:59,  1.03it/s]"
     ]
    },
    {
     "name": "stdout",
     "output_type": "stream",
     "text": [
      "train test\n",
      "tensor(0.3139, dtype=torch.float64, grad_fn=<NllLossBackward0>)\n",
      "tensor(10.4895, dtype=torch.float64, grad_fn=<NllLossBackward0>)\n",
      "----------\n"
     ]
    },
    {
     "name": "stderr",
     "output_type": "stream",
     "text": [
      " 12%|████▎                               | 1201/10000 [22:07<2:23:19,  1.02it/s]"
     ]
    },
    {
     "name": "stdout",
     "output_type": "stream",
     "text": [
      "train test\n",
      "tensor(0.3159, dtype=torch.float64, grad_fn=<NllLossBackward0>)\n",
      "tensor(10.4414, dtype=torch.float64, grad_fn=<NllLossBackward0>)\n",
      "----------\n"
     ]
    },
    {
     "name": "stderr",
     "output_type": "stream",
     "text": [
      " 12%|████▎                               | 1211/10000 [22:17<2:23:48,  1.02it/s]"
     ]
    },
    {
     "name": "stdout",
     "output_type": "stream",
     "text": [
      "train test\n",
      "tensor(0.3177, dtype=torch.float64, grad_fn=<NllLossBackward0>)\n",
      "tensor(10.4112, dtype=torch.float64, grad_fn=<NllLossBackward0>)\n",
      "----------\n"
     ]
    },
    {
     "name": "stderr",
     "output_type": "stream",
     "text": [
      " 12%|████▍                               | 1221/10000 [22:27<2:22:10,  1.03it/s]"
     ]
    },
    {
     "name": "stdout",
     "output_type": "stream",
     "text": [
      "train test\n",
      "tensor(0.3186, dtype=torch.float64, grad_fn=<NllLossBackward0>)\n",
      "tensor(10.3895, dtype=torch.float64, grad_fn=<NllLossBackward0>)\n",
      "----------\n"
     ]
    },
    {
     "name": "stderr",
     "output_type": "stream",
     "text": [
      " 12%|████▍                               | 1231/10000 [22:36<2:22:15,  1.03it/s]"
     ]
    },
    {
     "name": "stdout",
     "output_type": "stream",
     "text": [
      "train test\n",
      "tensor(0.3181, dtype=torch.float64, grad_fn=<NllLossBackward0>)\n",
      "tensor(10.3936, dtype=torch.float64, grad_fn=<NllLossBackward0>)\n",
      "----------\n"
     ]
    },
    {
     "name": "stderr",
     "output_type": "stream",
     "text": [
      " 12%|████▍                               | 1241/10000 [22:46<2:23:00,  1.02it/s]"
     ]
    },
    {
     "name": "stdout",
     "output_type": "stream",
     "text": [
      "train test\n",
      "tensor(0.3165, dtype=torch.float64, grad_fn=<NllLossBackward0>)\n",
      "tensor(10.4172, dtype=torch.float64, grad_fn=<NllLossBackward0>)\n",
      "----------\n"
     ]
    },
    {
     "name": "stderr",
     "output_type": "stream",
     "text": [
      " 13%|████▌                               | 1251/10000 [22:56<2:22:57,  1.02it/s]"
     ]
    },
    {
     "name": "stdout",
     "output_type": "stream",
     "text": [
      "train test\n",
      "tensor(0.3139, dtype=torch.float64, grad_fn=<NllLossBackward0>)\n",
      "tensor(10.4622, dtype=torch.float64, grad_fn=<NllLossBackward0>)\n",
      "----------\n"
     ]
    },
    {
     "name": "stderr",
     "output_type": "stream",
     "text": [
      " 13%|████▌                               | 1261/10000 [23:06<2:20:40,  1.04it/s]"
     ]
    },
    {
     "name": "stdout",
     "output_type": "stream",
     "text": [
      "train test\n",
      "tensor(0.3108, dtype=torch.float64, grad_fn=<NllLossBackward0>)\n",
      "tensor(10.5150, dtype=torch.float64, grad_fn=<NllLossBackward0>)\n",
      "----------\n"
     ]
    },
    {
     "name": "stderr",
     "output_type": "stream",
     "text": [
      " 13%|████▌                               | 1271/10000 [23:15<2:20:00,  1.04it/s]"
     ]
    },
    {
     "name": "stdout",
     "output_type": "stream",
     "text": [
      "train test\n",
      "tensor(0.3087, dtype=torch.float64, grad_fn=<NllLossBackward0>)\n",
      "tensor(10.5362, dtype=torch.float64, grad_fn=<NllLossBackward0>)\n",
      "----------\n"
     ]
    },
    {
     "name": "stderr",
     "output_type": "stream",
     "text": [
      " 13%|████▌                               | 1281/10000 [23:25<2:23:07,  1.02it/s]"
     ]
    },
    {
     "name": "stdout",
     "output_type": "stream",
     "text": [
      "train test\n",
      "tensor(0.3075, dtype=torch.float64, grad_fn=<NllLossBackward0>)\n",
      "tensor(10.5583, dtype=torch.float64, grad_fn=<NllLossBackward0>)\n",
      "----------\n"
     ]
    },
    {
     "name": "stderr",
     "output_type": "stream",
     "text": [
      " 13%|████▋                               | 1291/10000 [23:35<2:19:50,  1.04it/s]"
     ]
    },
    {
     "name": "stdout",
     "output_type": "stream",
     "text": [
      "train test\n",
      "tensor(0.3062, dtype=torch.float64, grad_fn=<NllLossBackward0>)\n",
      "tensor(10.5707, dtype=torch.float64, grad_fn=<NllLossBackward0>)\n",
      "----------\n"
     ]
    },
    {
     "name": "stderr",
     "output_type": "stream",
     "text": [
      " 13%|████▋                               | 1301/10000 [23:44<2:22:22,  1.02it/s]"
     ]
    },
    {
     "name": "stdout",
     "output_type": "stream",
     "text": [
      "train test\n",
      "tensor(0.3040, dtype=torch.float64, grad_fn=<NllLossBackward0>)\n",
      "tensor(10.6092, dtype=torch.float64, grad_fn=<NllLossBackward0>)\n",
      "----------\n"
     ]
    },
    {
     "name": "stderr",
     "output_type": "stream",
     "text": [
      " 13%|████▋                               | 1311/10000 [23:54<2:20:05,  1.03it/s]"
     ]
    },
    {
     "name": "stdout",
     "output_type": "stream",
     "text": [
      "train test\n",
      "tensor(0.3014, dtype=torch.float64, grad_fn=<NllLossBackward0>)\n",
      "tensor(10.6475, dtype=torch.float64, grad_fn=<NllLossBackward0>)\n",
      "----------\n"
     ]
    },
    {
     "name": "stderr",
     "output_type": "stream",
     "text": [
      " 13%|████▊                               | 1321/10000 [24:04<2:20:06,  1.03it/s]"
     ]
    },
    {
     "name": "stdout",
     "output_type": "stream",
     "text": [
      "train test\n",
      "tensor(0.3010, dtype=torch.float64, grad_fn=<NllLossBackward0>)\n",
      "tensor(10.6868, dtype=torch.float64, grad_fn=<NllLossBackward0>)\n",
      "----------\n"
     ]
    },
    {
     "name": "stderr",
     "output_type": "stream",
     "text": [
      " 13%|████▊                               | 1331/10000 [24:14<2:20:54,  1.03it/s]"
     ]
    },
    {
     "name": "stdout",
     "output_type": "stream",
     "text": [
      "train test\n",
      "tensor(0.3013, dtype=torch.float64, grad_fn=<NllLossBackward0>)\n",
      "tensor(10.6825, dtype=torch.float64, grad_fn=<NllLossBackward0>)\n",
      "----------\n"
     ]
    },
    {
     "name": "stderr",
     "output_type": "stream",
     "text": [
      " 13%|████▊                               | 1341/10000 [24:23<2:19:57,  1.03it/s]"
     ]
    },
    {
     "name": "stdout",
     "output_type": "stream",
     "text": [
      "train test\n",
      "tensor(0.3002, dtype=torch.float64, grad_fn=<NllLossBackward0>)\n",
      "tensor(10.6543, dtype=torch.float64, grad_fn=<NllLossBackward0>)\n",
      "----------\n"
     ]
    },
    {
     "name": "stderr",
     "output_type": "stream",
     "text": [
      " 14%|████▊                               | 1351/10000 [24:33<2:20:13,  1.03it/s]"
     ]
    },
    {
     "name": "stdout",
     "output_type": "stream",
     "text": [
      "train test\n",
      "tensor(0.3003, dtype=torch.float64, grad_fn=<NllLossBackward0>)\n",
      "tensor(10.6517, dtype=torch.float64, grad_fn=<NllLossBackward0>)\n",
      "----------\n"
     ]
    },
    {
     "name": "stderr",
     "output_type": "stream",
     "text": [
      " 14%|████▉                               | 1361/10000 [24:43<2:19:59,  1.03it/s]"
     ]
    },
    {
     "name": "stdout",
     "output_type": "stream",
     "text": [
      "train test\n",
      "tensor(0.2992, dtype=torch.float64, grad_fn=<NllLossBackward0>)\n",
      "tensor(10.6639, dtype=torch.float64, grad_fn=<NllLossBackward0>)\n",
      "----------\n"
     ]
    },
    {
     "name": "stderr",
     "output_type": "stream",
     "text": [
      " 14%|████▉                               | 1371/10000 [24:52<2:20:30,  1.02it/s]"
     ]
    },
    {
     "name": "stdout",
     "output_type": "stream",
     "text": [
      "train test\n",
      "tensor(0.2972, dtype=torch.float64, grad_fn=<NllLossBackward0>)\n",
      "tensor(10.6986, dtype=torch.float64, grad_fn=<NllLossBackward0>)\n",
      "----------\n"
     ]
    },
    {
     "name": "stderr",
     "output_type": "stream",
     "text": [
      " 14%|████▉                               | 1381/10000 [25:02<2:18:49,  1.03it/s]"
     ]
    },
    {
     "name": "stdout",
     "output_type": "stream",
     "text": [
      "train test\n",
      "tensor(0.2945, dtype=torch.float64, grad_fn=<NllLossBackward0>)\n",
      "tensor(10.7459, dtype=torch.float64, grad_fn=<NllLossBackward0>)\n",
      "----------\n"
     ]
    },
    {
     "name": "stderr",
     "output_type": "stream",
     "text": [
      " 14%|█████                               | 1391/10000 [25:12<2:19:24,  1.03it/s]"
     ]
    },
    {
     "name": "stdout",
     "output_type": "stream",
     "text": [
      "train test\n",
      "tensor(0.2929, dtype=torch.float64, grad_fn=<NllLossBackward0>)\n",
      "tensor(10.8056, dtype=torch.float64, grad_fn=<NllLossBackward0>)\n",
      "----------\n"
     ]
    },
    {
     "name": "stderr",
     "output_type": "stream",
     "text": [
      " 14%|█████                               | 1401/10000 [25:22<2:20:26,  1.02it/s]"
     ]
    },
    {
     "name": "stdout",
     "output_type": "stream",
     "text": [
      "train test\n",
      "tensor(0.2911, dtype=torch.float64, grad_fn=<NllLossBackward0>)\n",
      "tensor(10.7840, dtype=torch.float64, grad_fn=<NllLossBackward0>)\n",
      "----------\n"
     ]
    },
    {
     "name": "stderr",
     "output_type": "stream",
     "text": [
      " 14%|█████                               | 1411/10000 [25:31<2:18:46,  1.03it/s]"
     ]
    },
    {
     "name": "stdout",
     "output_type": "stream",
     "text": [
      "train test\n",
      "tensor(0.2929, dtype=torch.float64, grad_fn=<NllLossBackward0>)\n",
      "tensor(10.7619, dtype=torch.float64, grad_fn=<NllLossBackward0>)\n",
      "----------\n"
     ]
    },
    {
     "name": "stderr",
     "output_type": "stream",
     "text": [
      " 14%|█████                               | 1421/10000 [25:41<2:21:02,  1.01it/s]"
     ]
    },
    {
     "name": "stdout",
     "output_type": "stream",
     "text": [
      "train test\n",
      "tensor(0.2940, dtype=torch.float64, grad_fn=<NllLossBackward0>)\n",
      "tensor(10.7343, dtype=torch.float64, grad_fn=<NllLossBackward0>)\n",
      "----------\n"
     ]
    },
    {
     "name": "stderr",
     "output_type": "stream",
     "text": [
      " 14%|█████▏                              | 1431/10000 [25:51<2:19:59,  1.02it/s]"
     ]
    },
    {
     "name": "stdout",
     "output_type": "stream",
     "text": [
      "train test\n",
      "tensor(0.2945, dtype=torch.float64, grad_fn=<NllLossBackward0>)\n",
      "tensor(10.7206, dtype=torch.float64, grad_fn=<NllLossBackward0>)\n",
      "----------\n"
     ]
    },
    {
     "name": "stderr",
     "output_type": "stream",
     "text": [
      " 14%|█████▏                              | 1441/10000 [26:01<2:20:01,  1.02it/s]"
     ]
    },
    {
     "name": "stdout",
     "output_type": "stream",
     "text": [
      "train test\n",
      "tensor(0.2938, dtype=torch.float64, grad_fn=<NllLossBackward0>)\n",
      "tensor(10.7333, dtype=torch.float64, grad_fn=<NllLossBackward0>)\n",
      "----------\n"
     ]
    },
    {
     "name": "stderr",
     "output_type": "stream",
     "text": [
      " 15%|█████▏                              | 1451/10000 [26:10<2:17:30,  1.04it/s]"
     ]
    },
    {
     "name": "stdout",
     "output_type": "stream",
     "text": [
      "train test\n",
      "tensor(0.2921, dtype=torch.float64, grad_fn=<NllLossBackward0>)\n",
      "tensor(10.7556, dtype=torch.float64, grad_fn=<NllLossBackward0>)\n",
      "----------\n"
     ]
    },
    {
     "name": "stderr",
     "output_type": "stream",
     "text": [
      " 15%|█████▎                              | 1461/10000 [26:20<2:18:07,  1.03it/s]"
     ]
    },
    {
     "name": "stdout",
     "output_type": "stream",
     "text": [
      "train test\n",
      "tensor(0.2896, dtype=torch.float64, grad_fn=<NllLossBackward0>)\n",
      "tensor(10.8006, dtype=torch.float64, grad_fn=<NllLossBackward0>)\n",
      "----------\n"
     ]
    },
    {
     "name": "stderr",
     "output_type": "stream",
     "text": [
      " 15%|█████▎                              | 1471/10000 [26:30<2:18:37,  1.03it/s]"
     ]
    },
    {
     "name": "stdout",
     "output_type": "stream",
     "text": [
      "train test\n",
      "tensor(0.2914, dtype=torch.float64, grad_fn=<NllLossBackward0>)\n",
      "tensor(10.8324, dtype=torch.float64, grad_fn=<NllLossBackward0>)\n",
      "----------\n"
     ]
    },
    {
     "name": "stderr",
     "output_type": "stream",
     "text": [
      " 15%|█████▎                              | 1481/10000 [26:40<2:18:58,  1.02it/s]"
     ]
    },
    {
     "name": "stdout",
     "output_type": "stream",
     "text": [
      "train test\n",
      "tensor(0.2888, dtype=torch.float64, grad_fn=<NllLossBackward0>)\n",
      "tensor(10.8031, dtype=torch.float64, grad_fn=<NllLossBackward0>)\n",
      "----------\n"
     ]
    },
    {
     "name": "stderr",
     "output_type": "stream",
     "text": [
      " 15%|█████▎                              | 1491/10000 [26:49<2:19:37,  1.02it/s]"
     ]
    },
    {
     "name": "stdout",
     "output_type": "stream",
     "text": [
      "train test\n",
      "tensor(0.2895, dtype=torch.float64, grad_fn=<NllLossBackward0>)\n",
      "tensor(10.7975, dtype=torch.float64, grad_fn=<NllLossBackward0>)\n",
      "----------\n"
     ]
    },
    {
     "name": "stderr",
     "output_type": "stream",
     "text": [
      " 15%|█████▍                              | 1501/10000 [26:59<2:17:55,  1.03it/s]"
     ]
    },
    {
     "name": "stdout",
     "output_type": "stream",
     "text": [
      "train test\n",
      "tensor(0.2889, dtype=torch.float64, grad_fn=<NllLossBackward0>)\n",
      "tensor(10.7976, dtype=torch.float64, grad_fn=<NllLossBackward0>)\n",
      "----------\n"
     ]
    },
    {
     "name": "stderr",
     "output_type": "stream",
     "text": [
      " 15%|█████▍                              | 1511/10000 [27:09<2:17:25,  1.03it/s]"
     ]
    },
    {
     "name": "stdout",
     "output_type": "stream",
     "text": [
      "train test\n",
      "tensor(0.2874, dtype=torch.float64, grad_fn=<NllLossBackward0>)\n",
      "tensor(10.8220, dtype=torch.float64, grad_fn=<NllLossBackward0>)\n",
      "----------\n"
     ]
    },
    {
     "name": "stderr",
     "output_type": "stream",
     "text": [
      " 15%|█████▍                              | 1521/10000 [27:19<2:18:38,  1.02it/s]"
     ]
    },
    {
     "name": "stdout",
     "output_type": "stream",
     "text": [
      "train test\n",
      "tensor(0.2853, dtype=torch.float64, grad_fn=<NllLossBackward0>)\n",
      "tensor(10.8620, dtype=torch.float64, grad_fn=<NllLossBackward0>)\n",
      "----------\n"
     ]
    },
    {
     "name": "stderr",
     "output_type": "stream",
     "text": [
      " 15%|█████▌                              | 1531/10000 [27:28<2:17:47,  1.02it/s]"
     ]
    },
    {
     "name": "stdout",
     "output_type": "stream",
     "text": [
      "train test\n",
      "tensor(0.2835, dtype=torch.float64, grad_fn=<NllLossBackward0>)\n",
      "tensor(10.9041, dtype=torch.float64, grad_fn=<NllLossBackward0>)\n",
      "----------\n"
     ]
    },
    {
     "name": "stderr",
     "output_type": "stream",
     "text": [
      " 15%|█████▌                              | 1541/10000 [27:38<2:16:55,  1.03it/s]"
     ]
    },
    {
     "name": "stdout",
     "output_type": "stream",
     "text": [
      "train test\n",
      "tensor(0.2809, dtype=torch.float64, grad_fn=<NllLossBackward0>)\n",
      "tensor(10.9435, dtype=torch.float64, grad_fn=<NllLossBackward0>)\n",
      "----------\n"
     ]
    },
    {
     "name": "stderr",
     "output_type": "stream",
     "text": [
      " 16%|█████▌                              | 1551/10000 [27:48<2:16:53,  1.03it/s]"
     ]
    },
    {
     "name": "stdout",
     "output_type": "stream",
     "text": [
      "train test\n",
      "tensor(0.2789, dtype=torch.float64, grad_fn=<NllLossBackward0>)\n",
      "tensor(10.9849, dtype=torch.float64, grad_fn=<NllLossBackward0>)\n",
      "----------\n"
     ]
    },
    {
     "name": "stderr",
     "output_type": "stream",
     "text": [
      " 16%|█████▌                              | 1561/10000 [27:57<2:15:35,  1.04it/s]"
     ]
    },
    {
     "name": "stdout",
     "output_type": "stream",
     "text": [
      "train test\n",
      "tensor(0.2768, dtype=torch.float64, grad_fn=<NllLossBackward0>)\n",
      "tensor(10.9988, dtype=torch.float64, grad_fn=<NllLossBackward0>)\n",
      "----------\n"
     ]
    },
    {
     "name": "stderr",
     "output_type": "stream",
     "text": [
      " 16%|█████▋                              | 1571/10000 [28:07<2:17:44,  1.02it/s]"
     ]
    },
    {
     "name": "stdout",
     "output_type": "stream",
     "text": [
      "train test\n",
      "tensor(0.2755, dtype=torch.float64, grad_fn=<NllLossBackward0>)\n",
      "tensor(11.0282, dtype=torch.float64, grad_fn=<NllLossBackward0>)\n",
      "----------\n"
     ]
    },
    {
     "name": "stderr",
     "output_type": "stream",
     "text": [
      " 16%|█████▋                              | 1581/10000 [28:17<2:16:06,  1.03it/s]"
     ]
    },
    {
     "name": "stdout",
     "output_type": "stream",
     "text": [
      "train test\n",
      "tensor(0.2741, dtype=torch.float64, grad_fn=<NllLossBackward0>)\n",
      "tensor(11.0546, dtype=torch.float64, grad_fn=<NllLossBackward0>)\n",
      "----------\n"
     ]
    },
    {
     "name": "stderr",
     "output_type": "stream",
     "text": [
      " 16%|█████▋                              | 1591/10000 [28:27<2:17:10,  1.02it/s]"
     ]
    },
    {
     "name": "stdout",
     "output_type": "stream",
     "text": [
      "train test\n",
      "tensor(0.2739, dtype=torch.float64, grad_fn=<NllLossBackward0>)\n",
      "tensor(11.0785, dtype=torch.float64, grad_fn=<NllLossBackward0>)\n",
      "----------\n"
     ]
    },
    {
     "name": "stderr",
     "output_type": "stream",
     "text": [
      " 16%|█████▊                              | 1601/10000 [28:36<2:15:54,  1.03it/s]"
     ]
    },
    {
     "name": "stdout",
     "output_type": "stream",
     "text": [
      "train test\n",
      "tensor(0.2720, dtype=torch.float64, grad_fn=<NllLossBackward0>)\n",
      "tensor(11.0909, dtype=torch.float64, grad_fn=<NllLossBackward0>)\n",
      "----------\n"
     ]
    },
    {
     "name": "stderr",
     "output_type": "stream",
     "text": [
      " 16%|█████▊                              | 1611/10000 [28:46<2:14:59,  1.04it/s]"
     ]
    },
    {
     "name": "stdout",
     "output_type": "stream",
     "text": [
      "train test\n",
      "tensor(0.2704, dtype=torch.float64, grad_fn=<NllLossBackward0>)\n",
      "tensor(11.1034, dtype=torch.float64, grad_fn=<NllLossBackward0>)\n",
      "----------\n"
     ]
    },
    {
     "name": "stderr",
     "output_type": "stream",
     "text": [
      " 16%|█████▊                              | 1621/10000 [28:56<2:16:37,  1.02it/s]"
     ]
    },
    {
     "name": "stdout",
     "output_type": "stream",
     "text": [
      "train test\n",
      "tensor(0.2694, dtype=torch.float64, grad_fn=<NllLossBackward0>)\n",
      "tensor(11.1336, dtype=torch.float64, grad_fn=<NllLossBackward0>)\n",
      "----------\n"
     ]
    },
    {
     "name": "stderr",
     "output_type": "stream",
     "text": [
      " 16%|█████▊                              | 1631/10000 [29:05<2:15:41,  1.03it/s]"
     ]
    },
    {
     "name": "stdout",
     "output_type": "stream",
     "text": [
      "train test\n",
      "tensor(0.2678, dtype=torch.float64, grad_fn=<NllLossBackward0>)\n",
      "tensor(11.1570, dtype=torch.float64, grad_fn=<NllLossBackward0>)\n",
      "----------\n"
     ]
    },
    {
     "name": "stderr",
     "output_type": "stream",
     "text": [
      " 16%|█████▉                              | 1641/10000 [29:15<2:16:47,  1.02it/s]"
     ]
    },
    {
     "name": "stdout",
     "output_type": "stream",
     "text": [
      "train test\n",
      "tensor(0.2660, dtype=torch.float64, grad_fn=<NllLossBackward0>)\n",
      "tensor(11.1897, dtype=torch.float64, grad_fn=<NllLossBackward0>)\n",
      "----------\n"
     ]
    },
    {
     "name": "stderr",
     "output_type": "stream",
     "text": [
      " 17%|█████▉                              | 1651/10000 [29:25<2:15:06,  1.03it/s]"
     ]
    },
    {
     "name": "stdout",
     "output_type": "stream",
     "text": [
      "train test\n",
      "tensor(0.2640, dtype=torch.float64, grad_fn=<NllLossBackward0>)\n",
      "tensor(11.2200, dtype=torch.float64, grad_fn=<NllLossBackward0>)\n",
      "----------\n"
     ]
    },
    {
     "name": "stderr",
     "output_type": "stream",
     "text": [
      " 17%|█████▉                              | 1661/10000 [29:35<2:16:44,  1.02it/s]"
     ]
    },
    {
     "name": "stdout",
     "output_type": "stream",
     "text": [
      "train test\n",
      "tensor(0.2716, dtype=torch.float64, grad_fn=<NllLossBackward0>)\n",
      "tensor(11.2433, dtype=torch.float64, grad_fn=<NllLossBackward0>)\n",
      "----------\n"
     ]
    },
    {
     "name": "stderr",
     "output_type": "stream",
     "text": [
      " 17%|██████                              | 1671/10000 [29:44<2:14:19,  1.03it/s]"
     ]
    },
    {
     "name": "stdout",
     "output_type": "stream",
     "text": [
      "train test\n",
      "tensor(0.2666, dtype=torch.float64, grad_fn=<NllLossBackward0>)\n",
      "tensor(11.1448, dtype=torch.float64, grad_fn=<NllLossBackward0>)\n",
      "----------\n"
     ]
    },
    {
     "name": "stderr",
     "output_type": "stream",
     "text": [
      " 17%|██████                              | 1681/10000 [29:54<2:15:33,  1.02it/s]"
     ]
    },
    {
     "name": "stdout",
     "output_type": "stream",
     "text": [
      "train test\n",
      "tensor(0.2706, dtype=torch.float64, grad_fn=<NllLossBackward0>)\n",
      "tensor(11.0753, dtype=torch.float64, grad_fn=<NllLossBackward0>)\n",
      "----------\n"
     ]
    },
    {
     "name": "stderr",
     "output_type": "stream",
     "text": [
      " 17%|██████                              | 1691/10000 [30:04<2:15:49,  1.02it/s]"
     ]
    },
    {
     "name": "stdout",
     "output_type": "stream",
     "text": [
      "train test\n",
      "tensor(0.2729, dtype=torch.float64, grad_fn=<NllLossBackward0>)\n",
      "tensor(11.0135, dtype=torch.float64, grad_fn=<NllLossBackward0>)\n",
      "----------\n"
     ]
    },
    {
     "name": "stderr",
     "output_type": "stream",
     "text": [
      " 17%|██████                              | 1701/10000 [30:14<2:13:40,  1.03it/s]"
     ]
    },
    {
     "name": "stdout",
     "output_type": "stream",
     "text": [
      "train test\n",
      "tensor(0.2741, dtype=torch.float64, grad_fn=<NllLossBackward0>)\n",
      "tensor(10.9908, dtype=torch.float64, grad_fn=<NllLossBackward0>)\n",
      "----------\n"
     ]
    },
    {
     "name": "stderr",
     "output_type": "stream",
     "text": [
      " 17%|██████▏                             | 1711/10000 [30:23<2:16:34,  1.01it/s]"
     ]
    },
    {
     "name": "stdout",
     "output_type": "stream",
     "text": [
      "train test\n",
      "tensor(0.2741, dtype=torch.float64, grad_fn=<NllLossBackward0>)\n",
      "tensor(10.9885, dtype=torch.float64, grad_fn=<NllLossBackward0>)\n",
      "----------\n"
     ]
    },
    {
     "name": "stderr",
     "output_type": "stream",
     "text": [
      " 17%|██████▏                             | 1721/10000 [30:33<2:15:11,  1.02it/s]"
     ]
    },
    {
     "name": "stdout",
     "output_type": "stream",
     "text": [
      "train test\n",
      "tensor(0.2730, dtype=torch.float64, grad_fn=<NllLossBackward0>)\n",
      "tensor(11.0111, dtype=torch.float64, grad_fn=<NllLossBackward0>)\n",
      "----------\n"
     ]
    },
    {
     "name": "stderr",
     "output_type": "stream",
     "text": [
      " 17%|██████▏                             | 1731/10000 [30:43<2:12:27,  1.04it/s]"
     ]
    },
    {
     "name": "stdout",
     "output_type": "stream",
     "text": [
      "train test\n",
      "tensor(0.2709, dtype=torch.float64, grad_fn=<NllLossBackward0>)\n",
      "tensor(11.0470, dtype=torch.float64, grad_fn=<NllLossBackward0>)\n",
      "----------\n"
     ]
    },
    {
     "name": "stderr",
     "output_type": "stream",
     "text": [
      " 17%|██████▎                             | 1741/10000 [30:53<2:14:21,  1.02it/s]"
     ]
    },
    {
     "name": "stdout",
     "output_type": "stream",
     "text": [
      "train test\n",
      "tensor(0.2682, dtype=torch.float64, grad_fn=<NllLossBackward0>)\n",
      "tensor(11.0975, dtype=torch.float64, grad_fn=<NllLossBackward0>)\n",
      "----------\n"
     ]
    },
    {
     "name": "stderr",
     "output_type": "stream",
     "text": [
      " 18%|██████▎                             | 1751/10000 [31:03<2:14:42,  1.02it/s]"
     ]
    },
    {
     "name": "stdout",
     "output_type": "stream",
     "text": [
      "train test\n",
      "tensor(0.2704, dtype=torch.float64, grad_fn=<NllLossBackward0>)\n",
      "tensor(11.1303, dtype=torch.float64, grad_fn=<NllLossBackward0>)\n",
      "----------\n"
     ]
    },
    {
     "name": "stderr",
     "output_type": "stream",
     "text": [
      " 18%|██████▎                             | 1761/10000 [31:12<2:14:25,  1.02it/s]"
     ]
    },
    {
     "name": "stdout",
     "output_type": "stream",
     "text": [
      "train test\n",
      "tensor(0.2680, dtype=torch.float64, grad_fn=<NllLossBackward0>)\n",
      "tensor(11.0952, dtype=torch.float64, grad_fn=<NllLossBackward0>)\n",
      "----------\n"
     ]
    },
    {
     "name": "stderr",
     "output_type": "stream",
     "text": [
      " 18%|██████▍                             | 1771/10000 [31:22<2:12:52,  1.03it/s]"
     ]
    },
    {
     "name": "stdout",
     "output_type": "stream",
     "text": [
      "train test\n",
      "tensor(0.2701, dtype=torch.float64, grad_fn=<NllLossBackward0>)\n",
      "tensor(11.0593, dtype=torch.float64, grad_fn=<NllLossBackward0>)\n",
      "----------\n"
     ]
    },
    {
     "name": "stderr",
     "output_type": "stream",
     "text": [
      " 18%|██████▍                             | 1781/10000 [31:32<2:13:28,  1.03it/s]"
     ]
    },
    {
     "name": "stdout",
     "output_type": "stream",
     "text": [
      "train test\n",
      "tensor(0.2705, dtype=torch.float64, grad_fn=<NllLossBackward0>)\n",
      "tensor(11.0387, dtype=torch.float64, grad_fn=<NllLossBackward0>)\n",
      "----------\n"
     ]
    },
    {
     "name": "stderr",
     "output_type": "stream",
     "text": [
      " 18%|██████▍                             | 1791/10000 [31:42<2:13:00,  1.03it/s]"
     ]
    },
    {
     "name": "stdout",
     "output_type": "stream",
     "text": [
      "train test\n",
      "tensor(0.2703, dtype=torch.float64, grad_fn=<NllLossBackward0>)\n",
      "tensor(11.0442, dtype=torch.float64, grad_fn=<NllLossBackward0>)\n",
      "----------\n"
     ]
    },
    {
     "name": "stderr",
     "output_type": "stream",
     "text": [
      " 18%|██████▍                             | 1801/10000 [31:51<2:11:50,  1.04it/s]"
     ]
    },
    {
     "name": "stdout",
     "output_type": "stream",
     "text": [
      "train test\n",
      "tensor(0.2689, dtype=torch.float64, grad_fn=<NllLossBackward0>)\n",
      "tensor(11.0650, dtype=torch.float64, grad_fn=<NllLossBackward0>)\n",
      "----------\n"
     ]
    },
    {
     "name": "stderr",
     "output_type": "stream",
     "text": [
      " 18%|██████▌                             | 1811/10000 [32:01<2:15:02,  1.01it/s]"
     ]
    },
    {
     "name": "stdout",
     "output_type": "stream",
     "text": [
      "train test\n",
      "tensor(0.2667, dtype=torch.float64, grad_fn=<NllLossBackward0>)\n",
      "tensor(11.1078, dtype=torch.float64, grad_fn=<NllLossBackward0>)\n",
      "----------\n"
     ]
    },
    {
     "name": "stderr",
     "output_type": "stream",
     "text": [
      " 18%|██████▌                             | 1821/10000 [32:11<2:13:32,  1.02it/s]"
     ]
    },
    {
     "name": "stdout",
     "output_type": "stream",
     "text": [
      "train test\n",
      "tensor(0.2684, dtype=torch.float64, grad_fn=<NllLossBackward0>)\n",
      "tensor(11.1239, dtype=torch.float64, grad_fn=<NllLossBackward0>)\n",
      "----------\n"
     ]
    },
    {
     "name": "stderr",
     "output_type": "stream",
     "text": [
      " 18%|██████▌                             | 1831/10000 [32:21<2:14:10,  1.01it/s]"
     ]
    },
    {
     "name": "stdout",
     "output_type": "stream",
     "text": [
      "train test\n",
      "tensor(0.2679, dtype=torch.float64, grad_fn=<NllLossBackward0>)\n",
      "tensor(11.0928, dtype=torch.float64, grad_fn=<NllLossBackward0>)\n",
      "----------\n"
     ]
    },
    {
     "name": "stderr",
     "output_type": "stream",
     "text": [
      " 18%|██████▋                             | 1841/10000 [32:30<2:11:07,  1.04it/s]"
     ]
    },
    {
     "name": "stdout",
     "output_type": "stream",
     "text": [
      "train test\n",
      "tensor(0.2682, dtype=torch.float64, grad_fn=<NllLossBackward0>)\n",
      "tensor(11.0739, dtype=torch.float64, grad_fn=<NllLossBackward0>)\n",
      "----------\n"
     ]
    },
    {
     "name": "stderr",
     "output_type": "stream",
     "text": [
      " 19%|██████▋                             | 1851/10000 [32:40<2:12:58,  1.02it/s]"
     ]
    },
    {
     "name": "stdout",
     "output_type": "stream",
     "text": [
      "train test\n",
      "tensor(0.2681, dtype=torch.float64, grad_fn=<NllLossBackward0>)\n",
      "tensor(11.0711, dtype=torch.float64, grad_fn=<NllLossBackward0>)\n",
      "----------\n"
     ]
    },
    {
     "name": "stderr",
     "output_type": "stream",
     "text": [
      " 19%|██████▋                             | 1861/10000 [32:50<2:11:36,  1.03it/s]"
     ]
    },
    {
     "name": "stdout",
     "output_type": "stream",
     "text": [
      "train test\n",
      "tensor(0.2675, dtype=torch.float64, grad_fn=<NllLossBackward0>)\n",
      "tensor(11.0825, dtype=torch.float64, grad_fn=<NllLossBackward0>)\n",
      "----------\n"
     ]
    },
    {
     "name": "stderr",
     "output_type": "stream",
     "text": [
      " 19%|██████▋                             | 1871/10000 [32:59<2:10:18,  1.04it/s]"
     ]
    },
    {
     "name": "stdout",
     "output_type": "stream",
     "text": [
      "train test\n",
      "tensor(0.2661, dtype=torch.float64, grad_fn=<NllLossBackward0>)\n",
      "tensor(11.1046, dtype=torch.float64, grad_fn=<NllLossBackward0>)\n",
      "----------\n"
     ]
    },
    {
     "name": "stderr",
     "output_type": "stream",
     "text": [
      " 19%|██████▊                             | 1881/10000 [33:09<2:13:24,  1.01it/s]"
     ]
    },
    {
     "name": "stdout",
     "output_type": "stream",
     "text": [
      "train test\n",
      "tensor(0.2643, dtype=torch.float64, grad_fn=<NllLossBackward0>)\n",
      "tensor(11.1456, dtype=torch.float64, grad_fn=<NllLossBackward0>)\n",
      "----------\n"
     ]
    },
    {
     "name": "stderr",
     "output_type": "stream",
     "text": [
      " 19%|██████▊                             | 1891/10000 [33:19<2:11:50,  1.03it/s]"
     ]
    },
    {
     "name": "stdout",
     "output_type": "stream",
     "text": [
      "train test\n",
      "tensor(0.2628, dtype=torch.float64, grad_fn=<NllLossBackward0>)\n",
      "tensor(11.1641, dtype=torch.float64, grad_fn=<NllLossBackward0>)\n",
      "----------\n"
     ]
    },
    {
     "name": "stderr",
     "output_type": "stream",
     "text": [
      " 19%|██████▊                             | 1901/10000 [33:28<2:12:10,  1.02it/s]"
     ]
    },
    {
     "name": "stdout",
     "output_type": "stream",
     "text": [
      "train test\n",
      "tensor(0.2624, dtype=torch.float64, grad_fn=<NllLossBackward0>)\n",
      "tensor(11.1870, dtype=torch.float64, grad_fn=<NllLossBackward0>)\n",
      "----------\n"
     ]
    },
    {
     "name": "stderr",
     "output_type": "stream",
     "text": [
      " 19%|██████▉                             | 1911/10000 [33:38<2:10:35,  1.03it/s]"
     ]
    },
    {
     "name": "stdout",
     "output_type": "stream",
     "text": [
      "train test\n",
      "tensor(0.2608, dtype=torch.float64, grad_fn=<NllLossBackward0>)\n",
      "tensor(11.2047, dtype=torch.float64, grad_fn=<NllLossBackward0>)\n",
      "----------\n"
     ]
    },
    {
     "name": "stderr",
     "output_type": "stream",
     "text": [
      " 19%|██████▉                             | 1921/10000 [33:48<2:09:19,  1.04it/s]"
     ]
    },
    {
     "name": "stdout",
     "output_type": "stream",
     "text": [
      "train test\n",
      "tensor(0.2590, dtype=torch.float64, grad_fn=<NllLossBackward0>)\n",
      "tensor(11.2358, dtype=torch.float64, grad_fn=<NllLossBackward0>)\n",
      "----------\n"
     ]
    },
    {
     "name": "stderr",
     "output_type": "stream",
     "text": [
      " 19%|██████▉                             | 1931/10000 [33:57<2:09:40,  1.04it/s]"
     ]
    },
    {
     "name": "stdout",
     "output_type": "stream",
     "text": [
      "train test\n",
      "tensor(0.2615, dtype=torch.float64, grad_fn=<NllLossBackward0>)\n",
      "tensor(11.2673, dtype=torch.float64, grad_fn=<NllLossBackward0>)\n",
      "----------\n"
     ]
    },
    {
     "name": "stderr",
     "output_type": "stream",
     "text": [
      " 19%|██████▉                             | 1941/10000 [34:07<2:09:42,  1.04it/s]"
     ]
    },
    {
     "name": "stdout",
     "output_type": "stream",
     "text": [
      "train test\n",
      "tensor(0.2587, dtype=torch.float64, grad_fn=<NllLossBackward0>)\n",
      "tensor(11.2549, dtype=torch.float64, grad_fn=<NllLossBackward0>)\n",
      "----------\n"
     ]
    },
    {
     "name": "stderr",
     "output_type": "stream",
     "text": [
      " 20%|███████                             | 1951/10000 [34:17<2:11:03,  1.02it/s]"
     ]
    },
    {
     "name": "stdout",
     "output_type": "stream",
     "text": [
      "train test\n",
      "tensor(0.2586, dtype=torch.float64, grad_fn=<NllLossBackward0>)\n",
      "tensor(11.2480, dtype=torch.float64, grad_fn=<NllLossBackward0>)\n",
      "----------\n"
     ]
    },
    {
     "name": "stderr",
     "output_type": "stream",
     "text": [
      " 20%|███████                             | 1961/10000 [34:27<2:10:56,  1.02it/s]"
     ]
    },
    {
     "name": "stdout",
     "output_type": "stream",
     "text": [
      "train test\n",
      "tensor(0.2578, dtype=torch.float64, grad_fn=<NllLossBackward0>)\n",
      "tensor(11.2493, dtype=torch.float64, grad_fn=<NllLossBackward0>)\n",
      "----------\n"
     ]
    },
    {
     "name": "stderr",
     "output_type": "stream",
     "text": [
      " 20%|███████                             | 1971/10000 [34:36<2:10:29,  1.03it/s]"
     ]
    },
    {
     "name": "stdout",
     "output_type": "stream",
     "text": [
      "train test\n",
      "tensor(0.2569, dtype=torch.float64, grad_fn=<NllLossBackward0>)\n",
      "tensor(11.2668, dtype=torch.float64, grad_fn=<NllLossBackward0>)\n",
      "----------\n"
     ]
    },
    {
     "name": "stderr",
     "output_type": "stream",
     "text": [
      " 20%|███████▏                            | 1981/10000 [34:46<2:09:45,  1.03it/s]"
     ]
    },
    {
     "name": "stdout",
     "output_type": "stream",
     "text": [
      "train test\n",
      "tensor(0.2554, dtype=torch.float64, grad_fn=<NllLossBackward0>)\n",
      "tensor(11.2960, dtype=torch.float64, grad_fn=<NllLossBackward0>)\n",
      "----------\n"
     ]
    },
    {
     "name": "stderr",
     "output_type": "stream",
     "text": [
      " 20%|███████▏                            | 1991/10000 [34:56<2:08:57,  1.04it/s]"
     ]
    },
    {
     "name": "stdout",
     "output_type": "stream",
     "text": [
      "train test\n",
      "tensor(0.2536, dtype=torch.float64, grad_fn=<NllLossBackward0>)\n",
      "tensor(11.3319, dtype=torch.float64, grad_fn=<NllLossBackward0>)\n",
      "----------\n"
     ]
    },
    {
     "name": "stderr",
     "output_type": "stream",
     "text": [
      " 20%|███████▏                            | 2001/10000 [35:06<2:10:06,  1.02it/s]"
     ]
    },
    {
     "name": "stdout",
     "output_type": "stream",
     "text": [
      "train test\n",
      "tensor(0.2564, dtype=torch.float64, grad_fn=<NllLossBackward0>)\n",
      "tensor(11.2737, dtype=torch.float64, grad_fn=<NllLossBackward0>)\n",
      "----------\n"
     ]
    },
    {
     "name": "stderr",
     "output_type": "stream",
     "text": [
      " 20%|███████▏                            | 2011/10000 [35:15<2:09:33,  1.03it/s]"
     ]
    },
    {
     "name": "stdout",
     "output_type": "stream",
     "text": [
      "train test\n",
      "tensor(0.2613, dtype=torch.float64, grad_fn=<NllLossBackward0>)\n",
      "tensor(11.1817, dtype=torch.float64, grad_fn=<NllLossBackward0>)\n",
      "----------\n"
     ]
    },
    {
     "name": "stderr",
     "output_type": "stream",
     "text": [
      " 20%|███████▎                            | 2021/10000 [35:25<2:09:08,  1.03it/s]"
     ]
    },
    {
     "name": "stdout",
     "output_type": "stream",
     "text": [
      "train test\n",
      "tensor(0.2657, dtype=torch.float64, grad_fn=<NllLossBackward0>)\n",
      "tensor(11.0831, dtype=torch.float64, grad_fn=<NllLossBackward0>)\n",
      "----------\n"
     ]
    },
    {
     "name": "stderr",
     "output_type": "stream",
     "text": [
      " 20%|███████▎                            | 2031/10000 [35:35<2:08:20,  1.03it/s]"
     ]
    },
    {
     "name": "stdout",
     "output_type": "stream",
     "text": [
      "train test\n",
      "tensor(0.2692, dtype=torch.float64, grad_fn=<NllLossBackward0>)\n",
      "tensor(11.0006, dtype=torch.float64, grad_fn=<NllLossBackward0>)\n",
      "----------\n"
     ]
    },
    {
     "name": "stderr",
     "output_type": "stream",
     "text": [
      " 20%|███████▎                            | 2041/10000 [35:45<2:08:56,  1.03it/s]"
     ]
    },
    {
     "name": "stdout",
     "output_type": "stream",
     "text": [
      "train test\n",
      "tensor(0.2716, dtype=torch.float64, grad_fn=<NllLossBackward0>)\n",
      "tensor(10.9590, dtype=torch.float64, grad_fn=<NllLossBackward0>)\n",
      "----------\n"
     ]
    },
    {
     "name": "stderr",
     "output_type": "stream",
     "text": [
      " 21%|███████▍                            | 2051/10000 [35:54<2:07:55,  1.04it/s]"
     ]
    },
    {
     "name": "stdout",
     "output_type": "stream",
     "text": [
      "train test\n",
      "tensor(0.2723, dtype=torch.float64, grad_fn=<NllLossBackward0>)\n",
      "tensor(10.9474, dtype=torch.float64, grad_fn=<NllLossBackward0>)\n",
      "----------\n"
     ]
    },
    {
     "name": "stderr",
     "output_type": "stream",
     "text": [
      " 21%|███████▍                            | 2061/10000 [36:04<2:08:16,  1.03it/s]"
     ]
    },
    {
     "name": "stdout",
     "output_type": "stream",
     "text": [
      "train test\n",
      "tensor(0.2717, dtype=torch.float64, grad_fn=<NllLossBackward0>)\n",
      "tensor(10.9642, dtype=torch.float64, grad_fn=<NllLossBackward0>)\n",
      "----------\n"
     ]
    },
    {
     "name": "stderr",
     "output_type": "stream",
     "text": [
      " 21%|███████▍                            | 2071/10000 [36:14<2:09:25,  1.02it/s]"
     ]
    },
    {
     "name": "stdout",
     "output_type": "stream",
     "text": [
      "train test\n",
      "tensor(0.2700, dtype=torch.float64, grad_fn=<NllLossBackward0>)\n",
      "tensor(10.9967, dtype=torch.float64, grad_fn=<NllLossBackward0>)\n",
      "----------\n"
     ]
    },
    {
     "name": "stderr",
     "output_type": "stream",
     "text": [
      " 21%|███████▍                            | 2081/10000 [36:23<2:08:00,  1.03it/s]"
     ]
    },
    {
     "name": "stdout",
     "output_type": "stream",
     "text": [
      "train test\n",
      "tensor(0.2675, dtype=torch.float64, grad_fn=<NllLossBackward0>)\n",
      "tensor(11.0493, dtype=torch.float64, grad_fn=<NllLossBackward0>)\n",
      "----------\n"
     ]
    },
    {
     "name": "stderr",
     "output_type": "stream",
     "text": [
      " 21%|███████▌                            | 2091/10000 [36:33<2:09:26,  1.02it/s]"
     ]
    },
    {
     "name": "stdout",
     "output_type": "stream",
     "text": [
      "train test\n",
      "tensor(0.2685, dtype=torch.float64, grad_fn=<NllLossBackward0>)\n",
      "tensor(11.0954, dtype=torch.float64, grad_fn=<NllLossBackward0>)\n",
      "----------\n"
     ]
    },
    {
     "name": "stderr",
     "output_type": "stream",
     "text": [
      " 21%|███████▌                            | 2101/10000 [36:43<2:08:13,  1.03it/s]"
     ]
    },
    {
     "name": "stdout",
     "output_type": "stream",
     "text": [
      "train test\n",
      "tensor(0.2667, dtype=torch.float64, grad_fn=<NllLossBackward0>)\n",
      "tensor(11.0759, dtype=torch.float64, grad_fn=<NllLossBackward0>)\n",
      "----------\n"
     ]
    },
    {
     "name": "stderr",
     "output_type": "stream",
     "text": [
      " 21%|███████▌                            | 2111/10000 [36:53<2:06:26,  1.04it/s]"
     ]
    },
    {
     "name": "stdout",
     "output_type": "stream",
     "text": [
      "train test\n",
      "tensor(0.2674, dtype=torch.float64, grad_fn=<NllLossBackward0>)\n",
      "tensor(11.0488, dtype=torch.float64, grad_fn=<NllLossBackward0>)\n",
      "----------\n"
     ]
    },
    {
     "name": "stderr",
     "output_type": "stream",
     "text": [
      " 21%|███████▋                            | 2121/10000 [37:02<2:07:32,  1.03it/s]"
     ]
    },
    {
     "name": "stdout",
     "output_type": "stream",
     "text": [
      "train test\n",
      "tensor(0.2685, dtype=torch.float64, grad_fn=<NllLossBackward0>)\n",
      "tensor(11.0297, dtype=torch.float64, grad_fn=<NllLossBackward0>)\n",
      "----------\n"
     ]
    },
    {
     "name": "stderr",
     "output_type": "stream",
     "text": [
      " 21%|███████▋                            | 2131/10000 [37:12<2:07:53,  1.03it/s]"
     ]
    },
    {
     "name": "stdout",
     "output_type": "stream",
     "text": [
      "train test\n",
      "tensor(0.2686, dtype=torch.float64, grad_fn=<NllLossBackward0>)\n",
      "tensor(11.0238, dtype=torch.float64, grad_fn=<NllLossBackward0>)\n",
      "----------\n"
     ]
    },
    {
     "name": "stderr",
     "output_type": "stream",
     "text": [
      " 21%|███████▋                            | 2141/10000 [37:22<2:05:46,  1.04it/s]"
     ]
    },
    {
     "name": "stdout",
     "output_type": "stream",
     "text": [
      "train test\n",
      "tensor(0.2678, dtype=torch.float64, grad_fn=<NllLossBackward0>)\n",
      "tensor(11.0348, dtype=torch.float64, grad_fn=<NllLossBackward0>)\n",
      "----------\n"
     ]
    },
    {
     "name": "stderr",
     "output_type": "stream",
     "text": [
      " 22%|███████▋                            | 2151/10000 [37:31<2:06:49,  1.03it/s]"
     ]
    },
    {
     "name": "stdout",
     "output_type": "stream",
     "text": [
      "train test\n",
      "tensor(0.2665, dtype=torch.float64, grad_fn=<NllLossBackward0>)\n",
      "tensor(11.0604, dtype=torch.float64, grad_fn=<NllLossBackward0>)\n",
      "----------\n"
     ]
    },
    {
     "name": "stderr",
     "output_type": "stream",
     "text": [
      " 22%|███████▊                            | 2161/10000 [37:41<2:05:35,  1.04it/s]"
     ]
    },
    {
     "name": "stdout",
     "output_type": "stream",
     "text": [
      "train test\n",
      "tensor(0.2644, dtype=torch.float64, grad_fn=<NllLossBackward0>)\n",
      "tensor(11.1076, dtype=torch.float64, grad_fn=<NllLossBackward0>)\n",
      "----------\n"
     ]
    },
    {
     "name": "stderr",
     "output_type": "stream",
     "text": [
      " 22%|███████▊                            | 2171/10000 [37:51<2:07:08,  1.03it/s]"
     ]
    },
    {
     "name": "stdout",
     "output_type": "stream",
     "text": [
      "train test\n",
      "tensor(0.2654, dtype=torch.float64, grad_fn=<NllLossBackward0>)\n",
      "tensor(11.1382, dtype=torch.float64, grad_fn=<NllLossBackward0>)\n",
      "----------\n"
     ]
    },
    {
     "name": "stderr",
     "output_type": "stream",
     "text": [
      " 22%|███████▊                            | 2181/10000 [38:01<2:06:00,  1.03it/s]"
     ]
    },
    {
     "name": "stdout",
     "output_type": "stream",
     "text": [
      "train test\n",
      "tensor(0.2627, dtype=torch.float64, grad_fn=<NllLossBackward0>)\n",
      "tensor(11.1509, dtype=torch.float64, grad_fn=<NllLossBackward0>)\n",
      "----------\n"
     ]
    },
    {
     "name": "stderr",
     "output_type": "stream",
     "text": [
      " 22%|███████▉                            | 2191/10000 [38:10<2:06:16,  1.03it/s]"
     ]
    },
    {
     "name": "stdout",
     "output_type": "stream",
     "text": [
      "train test\n",
      "tensor(0.2615, dtype=torch.float64, grad_fn=<NllLossBackward0>)\n",
      "tensor(11.1608, dtype=torch.float64, grad_fn=<NllLossBackward0>)\n",
      "----------\n"
     ]
    },
    {
     "name": "stderr",
     "output_type": "stream",
     "text": [
      " 22%|███████▉                            | 2201/10000 [38:20<2:05:53,  1.03it/s]"
     ]
    },
    {
     "name": "stdout",
     "output_type": "stream",
     "text": [
      "train test\n",
      "tensor(0.2606, dtype=torch.float64, grad_fn=<NllLossBackward0>)\n",
      "tensor(11.1852, dtype=torch.float64, grad_fn=<NllLossBackward0>)\n",
      "----------\n"
     ]
    },
    {
     "name": "stderr",
     "output_type": "stream",
     "text": [
      " 22%|███████▉                            | 2211/10000 [38:30<2:06:39,  1.02it/s]"
     ]
    },
    {
     "name": "stdout",
     "output_type": "stream",
     "text": [
      "train test\n",
      "tensor(0.2587, dtype=torch.float64, grad_fn=<NllLossBackward0>)\n",
      "tensor(11.2214, dtype=torch.float64, grad_fn=<NllLossBackward0>)\n",
      "----------\n"
     ]
    },
    {
     "name": "stderr",
     "output_type": "stream",
     "text": [
      " 22%|███████▉                            | 2221/10000 [38:39<2:06:35,  1.02it/s]"
     ]
    },
    {
     "name": "stdout",
     "output_type": "stream",
     "text": [
      "train test\n",
      "tensor(0.2581, dtype=torch.float64, grad_fn=<NllLossBackward0>)\n",
      "tensor(11.2164, dtype=torch.float64, grad_fn=<NllLossBackward0>)\n",
      "----------\n"
     ]
    },
    {
     "name": "stderr",
     "output_type": "stream",
     "text": [
      " 22%|████████                            | 2231/10000 [38:49<2:04:58,  1.04it/s]"
     ]
    },
    {
     "name": "stdout",
     "output_type": "stream",
     "text": [
      "train test\n",
      "tensor(0.2584, dtype=torch.float64, grad_fn=<NllLossBackward0>)\n",
      "tensor(11.2178, dtype=torch.float64, grad_fn=<NllLossBackward0>)\n",
      "----------\n"
     ]
    },
    {
     "name": "stderr",
     "output_type": "stream",
     "text": [
      " 22%|████████                            | 2241/10000 [38:59<2:05:49,  1.03it/s]"
     ]
    },
    {
     "name": "stdout",
     "output_type": "stream",
     "text": [
      "train test\n",
      "tensor(0.2582, dtype=torch.float64, grad_fn=<NllLossBackward0>)\n",
      "tensor(11.2110, dtype=torch.float64, grad_fn=<NllLossBackward0>)\n",
      "----------\n"
     ]
    },
    {
     "name": "stderr",
     "output_type": "stream",
     "text": [
      " 23%|████████                            | 2251/10000 [39:09<2:06:02,  1.02it/s]"
     ]
    },
    {
     "name": "stdout",
     "output_type": "stream",
     "text": [
      "train test\n",
      "tensor(0.2576, dtype=torch.float64, grad_fn=<NllLossBackward0>)\n",
      "tensor(11.2292, dtype=torch.float64, grad_fn=<NllLossBackward0>)\n",
      "----------\n"
     ]
    },
    {
     "name": "stderr",
     "output_type": "stream",
     "text": [
      " 23%|████████▏                           | 2261/10000 [39:18<2:06:31,  1.02it/s]"
     ]
    },
    {
     "name": "stdout",
     "output_type": "stream",
     "text": [
      "train test\n",
      "tensor(0.2563, dtype=torch.float64, grad_fn=<NllLossBackward0>)\n",
      "tensor(11.2519, dtype=torch.float64, grad_fn=<NllLossBackward0>)\n",
      "----------\n"
     ]
    },
    {
     "name": "stderr",
     "output_type": "stream",
     "text": [
      " 23%|████████▏                           | 2271/10000 [39:28<2:05:14,  1.03it/s]"
     ]
    },
    {
     "name": "stdout",
     "output_type": "stream",
     "text": [
      "train test\n",
      "tensor(0.2555, dtype=torch.float64, grad_fn=<NllLossBackward0>)\n",
      "tensor(11.2677, dtype=torch.float64, grad_fn=<NllLossBackward0>)\n",
      "----------\n"
     ]
    },
    {
     "name": "stderr",
     "output_type": "stream",
     "text": [
      " 23%|████████▏                           | 2281/10000 [39:38<2:04:27,  1.03it/s]"
     ]
    },
    {
     "name": "stdout",
     "output_type": "stream",
     "text": [
      "train test\n",
      "tensor(0.2551, dtype=torch.float64, grad_fn=<NllLossBackward0>)\n",
      "tensor(11.2729, dtype=torch.float64, grad_fn=<NllLossBackward0>)\n",
      "----------\n"
     ]
    },
    {
     "name": "stderr",
     "output_type": "stream",
     "text": [
      " 23%|████████▏                           | 2291/10000 [39:48<2:05:52,  1.02it/s]"
     ]
    },
    {
     "name": "stdout",
     "output_type": "stream",
     "text": [
      "train test\n",
      "tensor(0.2545, dtype=torch.float64, grad_fn=<NllLossBackward0>)\n",
      "tensor(11.2874, dtype=torch.float64, grad_fn=<NllLossBackward0>)\n",
      "----------\n"
     ]
    },
    {
     "name": "stderr",
     "output_type": "stream",
     "text": [
      " 23%|████████▎                           | 2301/10000 [39:57<2:04:19,  1.03it/s]"
     ]
    },
    {
     "name": "stdout",
     "output_type": "stream",
     "text": [
      "train test\n",
      "tensor(0.2532, dtype=torch.float64, grad_fn=<NllLossBackward0>)\n",
      "tensor(11.3076, dtype=torch.float64, grad_fn=<NllLossBackward0>)\n",
      "----------\n"
     ]
    },
    {
     "name": "stderr",
     "output_type": "stream",
     "text": [
      " 23%|████████▎                           | 2311/10000 [40:07<2:05:55,  1.02it/s]"
     ]
    },
    {
     "name": "stdout",
     "output_type": "stream",
     "text": [
      "train test\n",
      "tensor(0.2522, dtype=torch.float64, grad_fn=<NllLossBackward0>)\n",
      "tensor(11.3362, dtype=torch.float64, grad_fn=<NllLossBackward0>)\n",
      "----------\n"
     ]
    },
    {
     "name": "stderr",
     "output_type": "stream",
     "text": [
      " 23%|████████▎                           | 2321/10000 [40:17<2:04:30,  1.03it/s]"
     ]
    },
    {
     "name": "stdout",
     "output_type": "stream",
     "text": [
      "train test\n",
      "tensor(0.2502, dtype=torch.float64, grad_fn=<NllLossBackward0>)\n",
      "tensor(11.3711, dtype=torch.float64, grad_fn=<NllLossBackward0>)\n",
      "----------\n"
     ]
    },
    {
     "name": "stderr",
     "output_type": "stream",
     "text": [
      " 23%|████████▍                           | 2331/10000 [40:27<2:02:31,  1.04it/s]"
     ]
    },
    {
     "name": "stdout",
     "output_type": "stream",
     "text": [
      "train test\n",
      "tensor(0.2574, dtype=torch.float64, grad_fn=<NllLossBackward0>)\n",
      "tensor(11.3646, dtype=torch.float64, grad_fn=<NllLossBackward0>)\n",
      "----------\n"
     ]
    },
    {
     "name": "stderr",
     "output_type": "stream",
     "text": [
      " 23%|████████▍                           | 2341/10000 [40:36<2:07:19,  1.00it/s]"
     ]
    },
    {
     "name": "stdout",
     "output_type": "stream",
     "text": [
      "train test\n",
      "tensor(0.2548, dtype=torch.float64, grad_fn=<NllLossBackward0>)\n",
      "tensor(11.2789, dtype=torch.float64, grad_fn=<NllLossBackward0>)\n",
      "----------\n"
     ]
    },
    {
     "name": "stderr",
     "output_type": "stream",
     "text": [
      " 24%|████████▍                           | 2351/10000 [40:46<2:03:35,  1.03it/s]"
     ]
    },
    {
     "name": "stdout",
     "output_type": "stream",
     "text": [
      "train test\n",
      "tensor(0.2581, dtype=torch.float64, grad_fn=<NllLossBackward0>)\n",
      "tensor(11.2034, dtype=torch.float64, grad_fn=<NllLossBackward0>)\n",
      "----------\n"
     ]
    },
    {
     "name": "stderr",
     "output_type": "stream",
     "text": [
      " 24%|████████▍                           | 2361/10000 [40:56<2:05:15,  1.02it/s]"
     ]
    },
    {
     "name": "stdout",
     "output_type": "stream",
     "text": [
      "train test\n",
      "tensor(0.2611, dtype=torch.float64, grad_fn=<NllLossBackward0>)\n",
      "tensor(11.1320, dtype=torch.float64, grad_fn=<NllLossBackward0>)\n",
      "----------\n"
     ]
    },
    {
     "name": "stderr",
     "output_type": "stream",
     "text": [
      " 24%|████████▌                           | 2371/10000 [41:06<2:03:34,  1.03it/s]"
     ]
    },
    {
     "name": "stdout",
     "output_type": "stream",
     "text": [
      "train test\n",
      "tensor(0.2630, dtype=torch.float64, grad_fn=<NllLossBackward0>)\n",
      "tensor(11.1013, dtype=torch.float64, grad_fn=<NllLossBackward0>)\n",
      "----------\n"
     ]
    },
    {
     "name": "stderr",
     "output_type": "stream",
     "text": [
      " 24%|████████▌                           | 2381/10000 [41:15<2:02:59,  1.03it/s]"
     ]
    },
    {
     "name": "stdout",
     "output_type": "stream",
     "text": [
      "train test\n",
      "tensor(0.2633, dtype=torch.float64, grad_fn=<NllLossBackward0>)\n",
      "tensor(11.0961, dtype=torch.float64, grad_fn=<NllLossBackward0>)\n",
      "----------\n"
     ]
    },
    {
     "name": "stderr",
     "output_type": "stream",
     "text": [
      " 24%|████████▌                           | 2391/10000 [41:25<2:04:23,  1.02it/s]"
     ]
    },
    {
     "name": "stdout",
     "output_type": "stream",
     "text": [
      "train test\n",
      "tensor(0.2625, dtype=torch.float64, grad_fn=<NllLossBackward0>)\n",
      "tensor(11.1120, dtype=torch.float64, grad_fn=<NllLossBackward0>)\n",
      "----------\n"
     ]
    },
    {
     "name": "stderr",
     "output_type": "stream",
     "text": [
      " 24%|████████▋                           | 2401/10000 [41:35<2:02:30,  1.03it/s]"
     ]
    },
    {
     "name": "stdout",
     "output_type": "stream",
     "text": [
      "train test\n",
      "tensor(0.2607, dtype=torch.float64, grad_fn=<NllLossBackward0>)\n",
      "tensor(11.1503, dtype=torch.float64, grad_fn=<NllLossBackward0>)\n",
      "----------\n"
     ]
    },
    {
     "name": "stderr",
     "output_type": "stream",
     "text": [
      " 24%|████████▋                           | 2411/10000 [41:45<2:03:21,  1.03it/s]"
     ]
    },
    {
     "name": "stdout",
     "output_type": "stream",
     "text": [
      "train test\n",
      "tensor(0.2587, dtype=torch.float64, grad_fn=<NllLossBackward0>)\n",
      "tensor(11.2021, dtype=torch.float64, grad_fn=<NllLossBackward0>)\n",
      "----------\n"
     ]
    },
    {
     "name": "stderr",
     "output_type": "stream",
     "text": [
      " 24%|████████▋                           | 2421/10000 [41:54<2:03:44,  1.02it/s]"
     ]
    },
    {
     "name": "stdout",
     "output_type": "stream",
     "text": [
      "train test\n",
      "tensor(0.2559, dtype=torch.float64, grad_fn=<NllLossBackward0>)\n",
      "tensor(11.2439, dtype=torch.float64, grad_fn=<NllLossBackward0>)\n",
      "----------\n"
     ]
    },
    {
     "name": "stderr",
     "output_type": "stream",
     "text": [
      " 24%|████████▊                           | 2431/10000 [42:04<2:02:14,  1.03it/s]"
     ]
    },
    {
     "name": "stdout",
     "output_type": "stream",
     "text": [
      "train test\n",
      "tensor(0.2551, dtype=torch.float64, grad_fn=<NllLossBackward0>)\n",
      "tensor(11.2794, dtype=torch.float64, grad_fn=<NllLossBackward0>)\n",
      "----------\n"
     ]
    },
    {
     "name": "stderr",
     "output_type": "stream",
     "text": [
      " 24%|████████▊                           | 2441/10000 [42:14<2:01:55,  1.03it/s]"
     ]
    },
    {
     "name": "stdout",
     "output_type": "stream",
     "text": [
      "train test\n",
      "tensor(0.2534, dtype=torch.float64, grad_fn=<NllLossBackward0>)\n",
      "tensor(11.2919, dtype=torch.float64, grad_fn=<NllLossBackward0>)\n",
      "----------\n"
     ]
    },
    {
     "name": "stderr",
     "output_type": "stream",
     "text": [
      " 25%|████████▊                           | 2451/10000 [42:23<2:02:57,  1.02it/s]"
     ]
    },
    {
     "name": "stdout",
     "output_type": "stream",
     "text": [
      "train test\n",
      "tensor(0.2531, dtype=torch.float64, grad_fn=<NllLossBackward0>)\n",
      "tensor(11.3018, dtype=torch.float64, grad_fn=<NllLossBackward0>)\n",
      "----------\n"
     ]
    },
    {
     "name": "stderr",
     "output_type": "stream",
     "text": [
      " 25%|████████▊                           | 2461/10000 [42:33<2:02:52,  1.02it/s]"
     ]
    },
    {
     "name": "stdout",
     "output_type": "stream",
     "text": [
      "train test\n",
      "tensor(0.2515, dtype=torch.float64, grad_fn=<NllLossBackward0>)\n",
      "tensor(11.3265, dtype=torch.float64, grad_fn=<NllLossBackward0>)\n",
      "----------\n"
     ]
    },
    {
     "name": "stderr",
     "output_type": "stream",
     "text": [
      " 25%|████████▉                           | 2471/10000 [42:43<2:02:21,  1.03it/s]"
     ]
    },
    {
     "name": "stdout",
     "output_type": "stream",
     "text": [
      "train test\n",
      "tensor(0.2503, dtype=torch.float64, grad_fn=<NllLossBackward0>)\n",
      "tensor(11.3596, dtype=torch.float64, grad_fn=<NllLossBackward0>)\n",
      "----------\n"
     ]
    },
    {
     "name": "stderr",
     "output_type": "stream",
     "text": [
      " 25%|████████▉                           | 2481/10000 [42:53<2:02:21,  1.02it/s]"
     ]
    },
    {
     "name": "stdout",
     "output_type": "stream",
     "text": [
      "train test\n",
      "tensor(0.2485, dtype=torch.float64, grad_fn=<NllLossBackward0>)\n",
      "tensor(11.3923, dtype=torch.float64, grad_fn=<NllLossBackward0>)\n",
      "----------\n"
     ]
    },
    {
     "name": "stderr",
     "output_type": "stream",
     "text": [
      " 25%|████████▉                           | 2491/10000 [43:02<2:02:16,  1.02it/s]"
     ]
    },
    {
     "name": "stdout",
     "output_type": "stream",
     "text": [
      "train test\n",
      "tensor(0.2479, dtype=torch.float64, grad_fn=<NllLossBackward0>)\n",
      "tensor(11.4054, dtype=torch.float64, grad_fn=<NllLossBackward0>)\n",
      "----------\n"
     ]
    },
    {
     "name": "stderr",
     "output_type": "stream",
     "text": [
      " 25%|█████████                           | 2501/10000 [43:12<2:01:00,  1.03it/s]"
     ]
    },
    {
     "name": "stdout",
     "output_type": "stream",
     "text": [
      "train test\n",
      "tensor(0.2468, dtype=torch.float64, grad_fn=<NllLossBackward0>)\n",
      "tensor(11.4246, dtype=torch.float64, grad_fn=<NllLossBackward0>)\n",
      "----------\n"
     ]
    },
    {
     "name": "stderr",
     "output_type": "stream",
     "text": [
      " 25%|█████████                           | 2511/10000 [43:22<2:01:18,  1.03it/s]"
     ]
    },
    {
     "name": "stdout",
     "output_type": "stream",
     "text": [
      "train test\n",
      "tensor(0.2455, dtype=torch.float64, grad_fn=<NllLossBackward0>)\n",
      "tensor(11.4441, dtype=torch.float64, grad_fn=<NllLossBackward0>)\n",
      "----------\n"
     ]
    },
    {
     "name": "stderr",
     "output_type": "stream",
     "text": [
      " 25%|█████████                           | 2521/10000 [43:32<2:00:51,  1.03it/s]"
     ]
    },
    {
     "name": "stdout",
     "output_type": "stream",
     "text": [
      "train test\n",
      "tensor(0.2448, dtype=torch.float64, grad_fn=<NllLossBackward0>)\n",
      "tensor(11.4757, dtype=torch.float64, grad_fn=<NllLossBackward0>)\n",
      "----------\n"
     ]
    },
    {
     "name": "stderr",
     "output_type": "stream",
     "text": [
      " 25%|█████████                           | 2531/10000 [43:41<2:01:56,  1.02it/s]"
     ]
    },
    {
     "name": "stdout",
     "output_type": "stream",
     "text": [
      "train test\n",
      "tensor(0.2428, dtype=torch.float64, grad_fn=<NllLossBackward0>)\n",
      "tensor(11.4917, dtype=torch.float64, grad_fn=<NllLossBackward0>)\n",
      "----------\n"
     ]
    },
    {
     "name": "stderr",
     "output_type": "stream",
     "text": [
      " 25%|█████████▏                          | 2541/10000 [43:51<2:00:56,  1.03it/s]"
     ]
    },
    {
     "name": "stdout",
     "output_type": "stream",
     "text": [
      "train test\n",
      "tensor(0.2416, dtype=torch.float64, grad_fn=<NllLossBackward0>)\n",
      "tensor(11.5170, dtype=torch.float64, grad_fn=<NllLossBackward0>)\n",
      "----------\n"
     ]
    },
    {
     "name": "stderr",
     "output_type": "stream",
     "text": [
      " 26%|█████████▏                          | 2551/10000 [44:01<1:58:55,  1.04it/s]"
     ]
    },
    {
     "name": "stdout",
     "output_type": "stream",
     "text": [
      "train test\n",
      "tensor(0.2434, dtype=torch.float64, grad_fn=<NllLossBackward0>)\n",
      "tensor(11.5540, dtype=torch.float64, grad_fn=<NllLossBackward0>)\n",
      "----------\n"
     ]
    },
    {
     "name": "stderr",
     "output_type": "stream",
     "text": [
      " 26%|█████████▏                          | 2561/10000 [44:10<2:00:08,  1.03it/s]"
     ]
    },
    {
     "name": "stdout",
     "output_type": "stream",
     "text": [
      "train test\n",
      "tensor(0.2402, dtype=torch.float64, grad_fn=<NllLossBackward0>)\n",
      "tensor(11.5374, dtype=torch.float64, grad_fn=<NllLossBackward0>)\n",
      "----------\n"
     ]
    },
    {
     "name": "stderr",
     "output_type": "stream",
     "text": [
      " 26%|█████████▎                          | 2571/10000 [44:20<1:59:47,  1.03it/s]"
     ]
    },
    {
     "name": "stdout",
     "output_type": "stream",
     "text": [
      "train test\n",
      "tensor(0.2409, dtype=torch.float64, grad_fn=<NllLossBackward0>)\n",
      "tensor(11.5253, dtype=torch.float64, grad_fn=<NllLossBackward0>)\n",
      "----------\n"
     ]
    },
    {
     "name": "stderr",
     "output_type": "stream",
     "text": [
      " 26%|█████████▎                          | 2581/10000 [44:30<2:01:12,  1.02it/s]"
     ]
    },
    {
     "name": "stdout",
     "output_type": "stream",
     "text": [
      "train test\n",
      "tensor(0.2408, dtype=torch.float64, grad_fn=<NllLossBackward0>)\n",
      "tensor(11.5233, dtype=torch.float64, grad_fn=<NllLossBackward0>)\n",
      "----------\n"
     ]
    },
    {
     "name": "stderr",
     "output_type": "stream",
     "text": [
      " 26%|█████████▎                          | 2591/10000 [44:40<1:58:49,  1.04it/s]"
     ]
    },
    {
     "name": "stdout",
     "output_type": "stream",
     "text": [
      "train test\n",
      "tensor(0.2403, dtype=torch.float64, grad_fn=<NllLossBackward0>)\n",
      "tensor(11.5307, dtype=torch.float64, grad_fn=<NllLossBackward0>)\n",
      "----------\n"
     ]
    },
    {
     "name": "stderr",
     "output_type": "stream",
     "text": [
      " 26%|█████████▎                          | 2601/10000 [44:49<2:00:51,  1.02it/s]"
     ]
    },
    {
     "name": "stdout",
     "output_type": "stream",
     "text": [
      "train test\n",
      "tensor(0.2459, dtype=torch.float64, grad_fn=<NllLossBackward0>)\n",
      "tensor(11.5510, dtype=torch.float64, grad_fn=<NllLossBackward0>)\n",
      "----------\n"
     ]
    },
    {
     "name": "stderr",
     "output_type": "stream",
     "text": [
      " 26%|█████████▍                          | 2611/10000 [44:59<1:59:30,  1.03it/s]"
     ]
    },
    {
     "name": "stdout",
     "output_type": "stream",
     "text": [
      "train test\n",
      "tensor(0.2415, dtype=torch.float64, grad_fn=<NllLossBackward0>)\n",
      "tensor(11.5025, dtype=torch.float64, grad_fn=<NllLossBackward0>)\n",
      "----------\n"
     ]
    },
    {
     "name": "stderr",
     "output_type": "stream",
     "text": [
      " 26%|█████████▍                          | 2621/10000 [45:09<1:57:58,  1.04it/s]"
     ]
    },
    {
     "name": "stdout",
     "output_type": "stream",
     "text": [
      "train test\n",
      "tensor(0.2436, dtype=torch.float64, grad_fn=<NllLossBackward0>)\n",
      "tensor(11.4688, dtype=torch.float64, grad_fn=<NllLossBackward0>)\n",
      "----------\n"
     ]
    },
    {
     "name": "stderr",
     "output_type": "stream",
     "text": [
      " 26%|█████████▍                          | 2631/10000 [45:18<1:59:44,  1.03it/s]"
     ]
    },
    {
     "name": "stdout",
     "output_type": "stream",
     "text": [
      "train test\n",
      "tensor(0.2445, dtype=torch.float64, grad_fn=<NllLossBackward0>)\n",
      "tensor(11.4446, dtype=torch.float64, grad_fn=<NllLossBackward0>)\n",
      "----------\n"
     ]
    },
    {
     "name": "stderr",
     "output_type": "stream",
     "text": [
      " 26%|█████████▌                          | 2641/10000 [45:28<1:58:08,  1.04it/s]"
     ]
    },
    {
     "name": "stdout",
     "output_type": "stream",
     "text": [
      "train test\n",
      "tensor(0.2442, dtype=torch.float64, grad_fn=<NllLossBackward0>)\n",
      "tensor(11.4412, dtype=torch.float64, grad_fn=<NllLossBackward0>)\n",
      "----------\n"
     ]
    },
    {
     "name": "stderr",
     "output_type": "stream",
     "text": [
      " 27%|█████████▌                          | 2651/10000 [45:38<1:59:14,  1.03it/s]"
     ]
    },
    {
     "name": "stdout",
     "output_type": "stream",
     "text": [
      "train test\n",
      "tensor(0.2434, dtype=torch.float64, grad_fn=<NllLossBackward0>)\n",
      "tensor(11.4613, dtype=torch.float64, grad_fn=<NllLossBackward0>)\n",
      "----------\n"
     ]
    },
    {
     "name": "stderr",
     "output_type": "stream",
     "text": [
      " 27%|█████████▌                          | 2661/10000 [45:48<1:58:48,  1.03it/s]"
     ]
    },
    {
     "name": "stdout",
     "output_type": "stream",
     "text": [
      "train test\n",
      "tensor(0.2420, dtype=torch.float64, grad_fn=<NllLossBackward0>)\n",
      "tensor(11.4959, dtype=torch.float64, grad_fn=<NllLossBackward0>)\n",
      "----------\n"
     ]
    },
    {
     "name": "stderr",
     "output_type": "stream",
     "text": [
      " 27%|█████████▌                          | 2671/10000 [45:57<1:59:05,  1.03it/s]"
     ]
    },
    {
     "name": "stdout",
     "output_type": "stream",
     "text": [
      "train test\n",
      "tensor(0.2427, dtype=torch.float64, grad_fn=<NllLossBackward0>)\n",
      "tensor(11.4771, dtype=torch.float64, grad_fn=<NllLossBackward0>)\n",
      "----------\n"
     ]
    },
    {
     "name": "stderr",
     "output_type": "stream",
     "text": [
      " 27%|█████████▋                          | 2681/10000 [46:07<1:57:47,  1.04it/s]"
     ]
    },
    {
     "name": "stdout",
     "output_type": "stream",
     "text": [
      "train test\n",
      "tensor(0.2449, dtype=torch.float64, grad_fn=<NllLossBackward0>)\n",
      "tensor(11.4438, dtype=torch.float64, grad_fn=<NllLossBackward0>)\n",
      "----------\n"
     ]
    },
    {
     "name": "stderr",
     "output_type": "stream",
     "text": [
      " 27%|█████████▋                          | 2691/10000 [46:17<1:56:23,  1.05it/s]"
     ]
    },
    {
     "name": "stdout",
     "output_type": "stream",
     "text": [
      "train test\n",
      "tensor(0.2461, dtype=torch.float64, grad_fn=<NllLossBackward0>)\n",
      "tensor(11.4008, dtype=torch.float64, grad_fn=<NllLossBackward0>)\n",
      "----------\n"
     ]
    },
    {
     "name": "stderr",
     "output_type": "stream",
     "text": [
      " 27%|█████████▋                          | 2701/10000 [46:26<1:58:31,  1.03it/s]"
     ]
    },
    {
     "name": "stdout",
     "output_type": "stream",
     "text": [
      "train test\n",
      "tensor(0.2469, dtype=torch.float64, grad_fn=<NllLossBackward0>)\n",
      "tensor(11.3810, dtype=torch.float64, grad_fn=<NllLossBackward0>)\n",
      "----------\n"
     ]
    },
    {
     "name": "stderr",
     "output_type": "stream",
     "text": [
      " 27%|█████████▊                          | 2711/10000 [46:36<1:58:25,  1.03it/s]"
     ]
    },
    {
     "name": "stdout",
     "output_type": "stream",
     "text": [
      "train test\n",
      "tensor(0.2466, dtype=torch.float64, grad_fn=<NllLossBackward0>)\n",
      "tensor(11.3889, dtype=torch.float64, grad_fn=<NllLossBackward0>)\n",
      "----------\n"
     ]
    },
    {
     "name": "stderr",
     "output_type": "stream",
     "text": [
      " 27%|█████████▊                          | 2721/10000 [46:46<1:59:30,  1.02it/s]"
     ]
    },
    {
     "name": "stdout",
     "output_type": "stream",
     "text": [
      "train test\n",
      "tensor(0.2455, dtype=torch.float64, grad_fn=<NllLossBackward0>)\n",
      "tensor(11.4078, dtype=torch.float64, grad_fn=<NllLossBackward0>)\n",
      "----------\n"
     ]
    },
    {
     "name": "stderr",
     "output_type": "stream",
     "text": [
      " 27%|█████████▊                          | 2731/10000 [46:56<1:57:42,  1.03it/s]"
     ]
    },
    {
     "name": "stdout",
     "output_type": "stream",
     "text": [
      "train test\n",
      "tensor(0.2478, dtype=torch.float64, grad_fn=<NllLossBackward0>)\n",
      "tensor(11.4548, dtype=torch.float64, grad_fn=<NllLossBackward0>)\n",
      "----------\n"
     ]
    },
    {
     "name": "stderr",
     "output_type": "stream",
     "text": [
      " 27%|█████████▊                          | 2741/10000 [47:05<1:57:08,  1.03it/s]"
     ]
    },
    {
     "name": "stdout",
     "output_type": "stream",
     "text": [
      "train test\n",
      "tensor(0.2474, dtype=torch.float64, grad_fn=<NllLossBackward0>)\n",
      "tensor(11.4327, dtype=torch.float64, grad_fn=<NllLossBackward0>)\n",
      "----------\n"
     ]
    },
    {
     "name": "stderr",
     "output_type": "stream",
     "text": [
      " 28%|█████████▉                          | 2751/10000 [47:15<1:57:43,  1.03it/s]"
     ]
    },
    {
     "name": "stdout",
     "output_type": "stream",
     "text": [
      "train test\n",
      "tensor(0.2465, dtype=torch.float64, grad_fn=<NllLossBackward0>)\n",
      "tensor(11.4025, dtype=torch.float64, grad_fn=<NllLossBackward0>)\n",
      "----------\n"
     ]
    },
    {
     "name": "stderr",
     "output_type": "stream",
     "text": [
      " 28%|█████████▉                          | 2761/10000 [47:25<1:56:53,  1.03it/s]"
     ]
    },
    {
     "name": "stdout",
     "output_type": "stream",
     "text": [
      "train test\n",
      "tensor(0.2475, dtype=torch.float64, grad_fn=<NllLossBackward0>)\n",
      "tensor(11.3682, dtype=torch.float64, grad_fn=<NllLossBackward0>)\n",
      "----------\n"
     ]
    },
    {
     "name": "stderr",
     "output_type": "stream",
     "text": [
      " 28%|█████████▉                          | 2771/10000 [47:35<1:58:32,  1.02it/s]"
     ]
    },
    {
     "name": "stdout",
     "output_type": "stream",
     "text": [
      "train test\n",
      "tensor(0.2481, dtype=torch.float64, grad_fn=<NllLossBackward0>)\n",
      "tensor(11.3585, dtype=torch.float64, grad_fn=<NllLossBackward0>)\n",
      "----------\n"
     ]
    },
    {
     "name": "stderr",
     "output_type": "stream",
     "text": [
      " 28%|██████████                          | 2781/10000 [47:44<1:56:34,  1.03it/s]"
     ]
    },
    {
     "name": "stdout",
     "output_type": "stream",
     "text": [
      "train test\n",
      "tensor(0.2476, dtype=torch.float64, grad_fn=<NllLossBackward0>)\n",
      "tensor(11.3603, dtype=torch.float64, grad_fn=<NllLossBackward0>)\n",
      "----------\n"
     ]
    },
    {
     "name": "stderr",
     "output_type": "stream",
     "text": [
      " 28%|██████████                          | 2791/10000 [47:54<1:55:38,  1.04it/s]"
     ]
    },
    {
     "name": "stdout",
     "output_type": "stream",
     "text": [
      "train test\n",
      "tensor(0.2465, dtype=torch.float64, grad_fn=<NllLossBackward0>)\n",
      "tensor(11.3860, dtype=torch.float64, grad_fn=<NllLossBackward0>)\n",
      "----------\n"
     ]
    },
    {
     "name": "stderr",
     "output_type": "stream",
     "text": [
      " 28%|██████████                          | 2801/10000 [48:04<1:56:43,  1.03it/s]"
     ]
    },
    {
     "name": "stdout",
     "output_type": "stream",
     "text": [
      "train test\n",
      "tensor(0.2446, dtype=torch.float64, grad_fn=<NllLossBackward0>)\n",
      "tensor(11.4222, dtype=torch.float64, grad_fn=<NllLossBackward0>)\n",
      "----------\n"
     ]
    },
    {
     "name": "stderr",
     "output_type": "stream",
     "text": [
      " 28%|██████████                          | 2811/10000 [48:13<1:55:31,  1.04it/s]"
     ]
    },
    {
     "name": "stdout",
     "output_type": "stream",
     "text": [
      "train test\n",
      "tensor(0.2437, dtype=torch.float64, grad_fn=<NllLossBackward0>)\n",
      "tensor(11.4766, dtype=torch.float64, grad_fn=<NllLossBackward0>)\n",
      "----------\n"
     ]
    },
    {
     "name": "stderr",
     "output_type": "stream",
     "text": [
      " 28%|██████████▏                         | 2821/10000 [48:23<1:57:05,  1.02it/s]"
     ]
    },
    {
     "name": "stdout",
     "output_type": "stream",
     "text": [
      "train test\n",
      "tensor(0.2424, dtype=torch.float64, grad_fn=<NllLossBackward0>)\n",
      "tensor(11.4588, dtype=torch.float64, grad_fn=<NllLossBackward0>)\n",
      "----------\n"
     ]
    },
    {
     "name": "stderr",
     "output_type": "stream",
     "text": [
      " 28%|██████████▏                         | 2831/10000 [48:33<1:57:18,  1.02it/s]"
     ]
    },
    {
     "name": "stdout",
     "output_type": "stream",
     "text": [
      "train test\n",
      "tensor(0.2445, dtype=torch.float64, grad_fn=<NllLossBackward0>)\n",
      "tensor(11.4339, dtype=torch.float64, grad_fn=<NllLossBackward0>)\n",
      "----------\n"
     ]
    },
    {
     "name": "stderr",
     "output_type": "stream",
     "text": [
      " 28%|██████████▏                         | 2841/10000 [48:43<1:55:24,  1.03it/s]"
     ]
    },
    {
     "name": "stdout",
     "output_type": "stream",
     "text": [
      "train test\n",
      "tensor(0.2457, dtype=torch.float64, grad_fn=<NllLossBackward0>)\n",
      "tensor(11.4055, dtype=torch.float64, grad_fn=<NllLossBackward0>)\n",
      "----------\n"
     ]
    },
    {
     "name": "stderr",
     "output_type": "stream",
     "text": [
      " 29%|██████████▎                         | 2851/10000 [48:52<1:53:57,  1.05it/s]"
     ]
    },
    {
     "name": "stdout",
     "output_type": "stream",
     "text": [
      "train test\n",
      "tensor(0.2457, dtype=torch.float64, grad_fn=<NllLossBackward0>)\n",
      "tensor(11.3958, dtype=torch.float64, grad_fn=<NllLossBackward0>)\n",
      "----------\n"
     ]
    },
    {
     "name": "stderr",
     "output_type": "stream",
     "text": [
      " 29%|██████████▎                         | 2861/10000 [49:02<1:55:49,  1.03it/s]"
     ]
    },
    {
     "name": "stdout",
     "output_type": "stream",
     "text": [
      "train test\n",
      "tensor(0.2453, dtype=torch.float64, grad_fn=<NllLossBackward0>)\n",
      "tensor(11.4047, dtype=torch.float64, grad_fn=<NllLossBackward0>)\n",
      "----------\n"
     ]
    },
    {
     "name": "stderr",
     "output_type": "stream",
     "text": [
      " 29%|██████████▎                         | 2871/10000 [49:12<1:55:27,  1.03it/s]"
     ]
    },
    {
     "name": "stdout",
     "output_type": "stream",
     "text": [
      "train test\n",
      "tensor(0.2443, dtype=torch.float64, grad_fn=<NllLossBackward0>)\n",
      "tensor(11.4274, dtype=torch.float64, grad_fn=<NllLossBackward0>)\n",
      "----------\n"
     ]
    },
    {
     "name": "stderr",
     "output_type": "stream",
     "text": [
      " 29%|██████████▎                         | 2881/10000 [49:21<1:56:13,  1.02it/s]"
     ]
    },
    {
     "name": "stdout",
     "output_type": "stream",
     "text": [
      "train test\n",
      "tensor(0.2425, dtype=torch.float64, grad_fn=<NllLossBackward0>)\n",
      "tensor(11.4606, dtype=torch.float64, grad_fn=<NllLossBackward0>)\n",
      "----------\n"
     ]
    },
    {
     "name": "stderr",
     "output_type": "stream",
     "text": [
      " 29%|██████████▍                         | 2891/10000 [49:31<1:56:20,  1.02it/s]"
     ]
    },
    {
     "name": "stdout",
     "output_type": "stream",
     "text": [
      "train test\n",
      "tensor(0.2414, dtype=torch.float64, grad_fn=<NllLossBackward0>)\n",
      "tensor(11.4755, dtype=torch.float64, grad_fn=<NllLossBackward0>)\n",
      "----------\n"
     ]
    },
    {
     "name": "stderr",
     "output_type": "stream",
     "text": [
      " 29%|██████████▍                         | 2901/10000 [49:41<1:54:22,  1.03it/s]"
     ]
    },
    {
     "name": "stdout",
     "output_type": "stream",
     "text": [
      "train test\n",
      "tensor(0.2418, dtype=torch.float64, grad_fn=<NllLossBackward0>)\n",
      "tensor(11.4731, dtype=torch.float64, grad_fn=<NllLossBackward0>)\n",
      "----------\n"
     ]
    },
    {
     "name": "stderr",
     "output_type": "stream",
     "text": [
      " 29%|██████████▍                         | 2911/10000 [49:51<1:53:47,  1.04it/s]"
     ]
    },
    {
     "name": "stdout",
     "output_type": "stream",
     "text": [
      "train test\n",
      "tensor(0.2422, dtype=torch.float64, grad_fn=<NllLossBackward0>)\n",
      "tensor(11.4641, dtype=torch.float64, grad_fn=<NllLossBackward0>)\n",
      "----------\n"
     ]
    },
    {
     "name": "stderr",
     "output_type": "stream",
     "text": [
      " 29%|██████████▌                         | 2921/10000 [50:00<1:55:24,  1.02it/s]"
     ]
    },
    {
     "name": "stdout",
     "output_type": "stream",
     "text": [
      "train test\n",
      "tensor(0.2421, dtype=torch.float64, grad_fn=<NllLossBackward0>)\n",
      "tensor(11.4652, dtype=torch.float64, grad_fn=<NllLossBackward0>)\n",
      "----------\n"
     ]
    },
    {
     "name": "stderr",
     "output_type": "stream",
     "text": [
      " 29%|██████████▌                         | 2931/10000 [50:10<1:54:36,  1.03it/s]"
     ]
    },
    {
     "name": "stdout",
     "output_type": "stream",
     "text": [
      "train test\n",
      "tensor(0.2418, dtype=torch.float64, grad_fn=<NllLossBackward0>)\n",
      "tensor(11.4855, dtype=torch.float64, grad_fn=<NllLossBackward0>)\n",
      "----------\n"
     ]
    },
    {
     "name": "stderr",
     "output_type": "stream",
     "text": [
      " 29%|██████████▌                         | 2941/10000 [50:20<1:56:42,  1.01it/s]"
     ]
    },
    {
     "name": "stdout",
     "output_type": "stream",
     "text": [
      "train test\n",
      "tensor(0.2410, dtype=torch.float64, grad_fn=<NllLossBackward0>)\n",
      "tensor(11.4976, dtype=torch.float64, grad_fn=<NllLossBackward0>)\n",
      "----------\n"
     ]
    },
    {
     "name": "stderr",
     "output_type": "stream",
     "text": [
      " 30%|██████████▌                         | 2951/10000 [50:30<1:54:38,  1.02it/s]"
     ]
    },
    {
     "name": "stdout",
     "output_type": "stream",
     "text": [
      "train test\n",
      "tensor(0.2399, dtype=torch.float64, grad_fn=<NllLossBackward0>)\n",
      "tensor(11.5237, dtype=torch.float64, grad_fn=<NllLossBackward0>)\n",
      "----------\n"
     ]
    },
    {
     "name": "stderr",
     "output_type": "stream",
     "text": [
      " 30%|██████████▋                         | 2961/10000 [50:40<1:53:42,  1.03it/s]"
     ]
    },
    {
     "name": "stdout",
     "output_type": "stream",
     "text": [
      "train test\n",
      "tensor(0.2390, dtype=torch.float64, grad_fn=<NllLossBackward0>)\n",
      "tensor(11.5378, dtype=torch.float64, grad_fn=<NllLossBackward0>)\n",
      "----------\n"
     ]
    },
    {
     "name": "stderr",
     "output_type": "stream",
     "text": [
      " 30%|██████████▋                         | 2971/10000 [50:49<1:54:09,  1.03it/s]"
     ]
    },
    {
     "name": "stdout",
     "output_type": "stream",
     "text": [
      "train test\n",
      "tensor(0.2379, dtype=torch.float64, grad_fn=<NllLossBackward0>)\n",
      "tensor(11.5644, dtype=torch.float64, grad_fn=<NllLossBackward0>)\n",
      "----------\n"
     ]
    },
    {
     "name": "stderr",
     "output_type": "stream",
     "text": [
      " 30%|██████████▋                         | 2981/10000 [50:59<1:53:33,  1.03it/s]"
     ]
    },
    {
     "name": "stdout",
     "output_type": "stream",
     "text": [
      "train test\n",
      "tensor(0.2364, dtype=torch.float64, grad_fn=<NllLossBackward0>)\n",
      "tensor(11.5822, dtype=torch.float64, grad_fn=<NllLossBackward0>)\n",
      "----------\n"
     ]
    },
    {
     "name": "stderr",
     "output_type": "stream",
     "text": [
      " 30%|██████████▊                         | 2991/10000 [51:09<1:53:50,  1.03it/s]"
     ]
    },
    {
     "name": "stdout",
     "output_type": "stream",
     "text": [
      "train test\n",
      "tensor(0.2401, dtype=torch.float64, grad_fn=<NllLossBackward0>)\n",
      "tensor(11.6117, dtype=torch.float64, grad_fn=<NllLossBackward0>)\n",
      "----------\n"
     ]
    },
    {
     "name": "stderr",
     "output_type": "stream",
     "text": [
      " 30%|██████████▊                         | 3001/10000 [51:19<1:54:30,  1.02it/s]"
     ]
    },
    {
     "name": "stdout",
     "output_type": "stream",
     "text": [
      "train test\n",
      "tensor(0.2382, dtype=torch.float64, grad_fn=<NllLossBackward0>)\n",
      "tensor(11.5790, dtype=torch.float64, grad_fn=<NllLossBackward0>)\n",
      "----------\n"
     ]
    },
    {
     "name": "stderr",
     "output_type": "stream",
     "text": [
      " 30%|██████████▊                         | 3011/10000 [51:28<1:54:44,  1.02it/s]"
     ]
    },
    {
     "name": "stdout",
     "output_type": "stream",
     "text": [
      "train test\n",
      "tensor(0.2385, dtype=torch.float64, grad_fn=<NllLossBackward0>)\n",
      "tensor(11.5362, dtype=torch.float64, grad_fn=<NllLossBackward0>)\n",
      "----------\n"
     ]
    },
    {
     "name": "stderr",
     "output_type": "stream",
     "text": [
      " 30%|██████████▉                         | 3021/10000 [51:38<1:52:32,  1.03it/s]"
     ]
    },
    {
     "name": "stdout",
     "output_type": "stream",
     "text": [
      "train test\n",
      "tensor(0.2400, dtype=torch.float64, grad_fn=<NllLossBackward0>)\n",
      "tensor(11.5166, dtype=torch.float64, grad_fn=<NllLossBackward0>)\n",
      "----------\n"
     ]
    },
    {
     "name": "stderr",
     "output_type": "stream",
     "text": [
      " 30%|██████████▉                         | 3031/10000 [51:48<1:52:00,  1.04it/s]"
     ]
    },
    {
     "name": "stdout",
     "output_type": "stream",
     "text": [
      "train test\n",
      "tensor(0.2401, dtype=torch.float64, grad_fn=<NllLossBackward0>)\n",
      "tensor(11.5052, dtype=torch.float64, grad_fn=<NllLossBackward0>)\n",
      "----------\n"
     ]
    },
    {
     "name": "stderr",
     "output_type": "stream",
     "text": [
      " 30%|██████████▉                         | 3041/10000 [51:58<1:52:44,  1.03it/s]"
     ]
    },
    {
     "name": "stdout",
     "output_type": "stream",
     "text": [
      "train test\n",
      "tensor(0.2395, dtype=torch.float64, grad_fn=<NllLossBackward0>)\n",
      "tensor(11.5217, dtype=torch.float64, grad_fn=<NllLossBackward0>)\n",
      "----------\n"
     ]
    },
    {
     "name": "stderr",
     "output_type": "stream",
     "text": [
      " 31%|██████████▉                         | 3051/10000 [52:07<1:52:10,  1.03it/s]"
     ]
    },
    {
     "name": "stdout",
     "output_type": "stream",
     "text": [
      "train test\n",
      "tensor(0.2380, dtype=torch.float64, grad_fn=<NllLossBackward0>)\n",
      "tensor(11.5474, dtype=torch.float64, grad_fn=<NllLossBackward0>)\n",
      "----------\n"
     ]
    },
    {
     "name": "stderr",
     "output_type": "stream",
     "text": [
      " 31%|███████████                         | 3061/10000 [52:17<1:53:08,  1.02it/s]"
     ]
    },
    {
     "name": "stdout",
     "output_type": "stream",
     "text": [
      "train test\n",
      "tensor(0.2429, dtype=torch.float64, grad_fn=<NllLossBackward0>)\n",
      "tensor(11.5896, dtype=torch.float64, grad_fn=<NllLossBackward0>)\n",
      "----------\n"
     ]
    },
    {
     "name": "stderr",
     "output_type": "stream",
     "text": [
      " 31%|███████████                         | 3071/10000 [52:27<1:52:17,  1.03it/s]"
     ]
    },
    {
     "name": "stdout",
     "output_type": "stream",
     "text": [
      "train test\n",
      "tensor(0.2375, dtype=torch.float64, grad_fn=<NllLossBackward0>)\n",
      "tensor(11.5621, dtype=torch.float64, grad_fn=<NllLossBackward0>)\n",
      "----------\n"
     ]
    },
    {
     "name": "stderr",
     "output_type": "stream",
     "text": [
      " 31%|███████████                         | 3081/10000 [52:37<1:53:43,  1.01it/s]"
     ]
    },
    {
     "name": "stdout",
     "output_type": "stream",
     "text": [
      "train test\n",
      "tensor(0.2393, dtype=torch.float64, grad_fn=<NllLossBackward0>)\n",
      "tensor(11.5286, dtype=torch.float64, grad_fn=<NllLossBackward0>)\n",
      "----------\n"
     ]
    },
    {
     "name": "stderr",
     "output_type": "stream",
     "text": [
      " 31%|███████████▏                        | 3091/10000 [52:46<1:52:12,  1.03it/s]"
     ]
    },
    {
     "name": "stdout",
     "output_type": "stream",
     "text": [
      "train test\n",
      "tensor(0.2402, dtype=torch.float64, grad_fn=<NllLossBackward0>)\n",
      "tensor(11.5139, dtype=torch.float64, grad_fn=<NllLossBackward0>)\n",
      "----------\n"
     ]
    },
    {
     "name": "stderr",
     "output_type": "stream",
     "text": [
      " 31%|███████████▏                        | 3101/10000 [52:56<1:51:39,  1.03it/s]"
     ]
    },
    {
     "name": "stdout",
     "output_type": "stream",
     "text": [
      "train test\n",
      "tensor(0.2404, dtype=torch.float64, grad_fn=<NllLossBackward0>)\n",
      "tensor(11.5017, dtype=torch.float64, grad_fn=<NllLossBackward0>)\n",
      "----------\n"
     ]
    },
    {
     "name": "stderr",
     "output_type": "stream",
     "text": [
      " 31%|███████████▏                        | 3111/10000 [53:06<1:51:51,  1.03it/s]"
     ]
    },
    {
     "name": "stdout",
     "output_type": "stream",
     "text": [
      "train test\n",
      "tensor(0.2394, dtype=torch.float64, grad_fn=<NllLossBackward0>)\n",
      "tensor(11.5194, dtype=torch.float64, grad_fn=<NllLossBackward0>)\n",
      "----------\n"
     ]
    },
    {
     "name": "stderr",
     "output_type": "stream",
     "text": [
      " 31%|███████████▏                        | 3121/10000 [53:15<1:51:15,  1.03it/s]"
     ]
    },
    {
     "name": "stdout",
     "output_type": "stream",
     "text": [
      "train test\n",
      "tensor(0.2383, dtype=torch.float64, grad_fn=<NllLossBackward0>)\n",
      "tensor(11.5391, dtype=torch.float64, grad_fn=<NllLossBackward0>)\n",
      "----------\n"
     ]
    },
    {
     "name": "stderr",
     "output_type": "stream",
     "text": [
      " 31%|███████████▎                        | 3131/10000 [53:25<1:52:25,  1.02it/s]"
     ]
    },
    {
     "name": "stdout",
     "output_type": "stream",
     "text": [
      "train test\n",
      "tensor(0.2366, dtype=torch.float64, grad_fn=<NllLossBackward0>)\n",
      "tensor(11.5820, dtype=torch.float64, grad_fn=<NllLossBackward0>)\n",
      "----------\n"
     ]
    },
    {
     "name": "stderr",
     "output_type": "stream",
     "text": [
      " 31%|███████████▎                        | 3141/10000 [53:35<1:50:40,  1.03it/s]"
     ]
    },
    {
     "name": "stdout",
     "output_type": "stream",
     "text": [
      "train test\n",
      "tensor(0.2388, dtype=torch.float64, grad_fn=<NllLossBackward0>)\n",
      "tensor(11.5745, dtype=torch.float64, grad_fn=<NllLossBackward0>)\n",
      "----------\n"
     ]
    },
    {
     "name": "stderr",
     "output_type": "stream",
     "text": [
      " 32%|███████████▎                        | 3151/10000 [53:45<1:49:13,  1.05it/s]"
     ]
    },
    {
     "name": "stdout",
     "output_type": "stream",
     "text": [
      "train test\n",
      "tensor(0.2430, dtype=torch.float64, grad_fn=<NllLossBackward0>)\n",
      "tensor(11.4500, dtype=torch.float64, grad_fn=<NllLossBackward0>)\n",
      "----------\n"
     ]
    },
    {
     "name": "stderr",
     "output_type": "stream",
     "text": [
      " 32%|███████████▍                        | 3161/10000 [53:54<1:51:56,  1.02it/s]"
     ]
    },
    {
     "name": "stdout",
     "output_type": "stream",
     "text": [
      "train test\n",
      "tensor(0.2486, dtype=torch.float64, grad_fn=<NllLossBackward0>)\n",
      "tensor(11.3206, dtype=torch.float64, grad_fn=<NllLossBackward0>)\n",
      "----------\n"
     ]
    },
    {
     "name": "stderr",
     "output_type": "stream",
     "text": [
      " 32%|███████████▍                        | 3171/10000 [54:04<1:51:18,  1.02it/s]"
     ]
    },
    {
     "name": "stdout",
     "output_type": "stream",
     "text": [
      "train test\n",
      "tensor(0.2546, dtype=torch.float64, grad_fn=<NllLossBackward0>)\n",
      "tensor(11.1917, dtype=torch.float64, grad_fn=<NllLossBackward0>)\n",
      "----------\n"
     ]
    },
    {
     "name": "stderr",
     "output_type": "stream",
     "text": [
      " 32%|███████████▍                        | 3181/10000 [54:14<1:51:41,  1.02it/s]"
     ]
    },
    {
     "name": "stdout",
     "output_type": "stream",
     "text": [
      "train test\n",
      "tensor(0.2584, dtype=torch.float64, grad_fn=<NllLossBackward0>)\n",
      "tensor(11.1260, dtype=torch.float64, grad_fn=<NllLossBackward0>)\n",
      "----------\n"
     ]
    },
    {
     "name": "stderr",
     "output_type": "stream",
     "text": [
      " 32%|███████████▍                        | 3191/10000 [54:24<1:49:18,  1.04it/s]"
     ]
    },
    {
     "name": "stdout",
     "output_type": "stream",
     "text": [
      "train test\n",
      "tensor(0.2608, dtype=torch.float64, grad_fn=<NllLossBackward0>)\n",
      "tensor(11.0807, dtype=torch.float64, grad_fn=<NllLossBackward0>)\n",
      "----------\n"
     ]
    },
    {
     "name": "stderr",
     "output_type": "stream",
     "text": [
      " 32%|███████████▌                        | 3201/10000 [54:33<1:50:12,  1.03it/s]"
     ]
    },
    {
     "name": "stdout",
     "output_type": "stream",
     "text": [
      "train test\n",
      "tensor(0.2615, dtype=torch.float64, grad_fn=<NllLossBackward0>)\n",
      "tensor(11.0645, dtype=torch.float64, grad_fn=<NllLossBackward0>)\n",
      "----------\n"
     ]
    },
    {
     "name": "stderr",
     "output_type": "stream",
     "text": [
      " 32%|███████████▌                        | 3211/10000 [54:43<1:49:42,  1.03it/s]"
     ]
    },
    {
     "name": "stdout",
     "output_type": "stream",
     "text": [
      "train test\n",
      "tensor(0.2610, dtype=torch.float64, grad_fn=<NllLossBackward0>)\n",
      "tensor(11.0837, dtype=torch.float64, grad_fn=<NllLossBackward0>)\n",
      "----------\n"
     ]
    },
    {
     "name": "stderr",
     "output_type": "stream",
     "text": [
      " 32%|███████████▌                        | 3221/10000 [54:53<1:49:11,  1.03it/s]"
     ]
    },
    {
     "name": "stdout",
     "output_type": "stream",
     "text": [
      "train test\n",
      "tensor(0.2594, dtype=torch.float64, grad_fn=<NllLossBackward0>)\n",
      "tensor(11.1127, dtype=torch.float64, grad_fn=<NllLossBackward0>)\n",
      "----------\n"
     ]
    },
    {
     "name": "stderr",
     "output_type": "stream",
     "text": [
      " 32%|███████████▋                        | 3231/10000 [55:03<1:50:06,  1.02it/s]"
     ]
    },
    {
     "name": "stdout",
     "output_type": "stream",
     "text": [
      "train test\n",
      "tensor(0.2571, dtype=torch.float64, grad_fn=<NllLossBackward0>)\n",
      "tensor(11.1675, dtype=torch.float64, grad_fn=<NllLossBackward0>)\n",
      "----------\n"
     ]
    },
    {
     "name": "stderr",
     "output_type": "stream",
     "text": [
      " 32%|███████████▋                        | 3241/10000 [55:12<1:49:58,  1.02it/s]"
     ]
    },
    {
     "name": "stdout",
     "output_type": "stream",
     "text": [
      "train test\n",
      "tensor(0.2571, dtype=torch.float64, grad_fn=<NllLossBackward0>)\n",
      "tensor(11.2236, dtype=torch.float64, grad_fn=<NllLossBackward0>)\n",
      "----------\n"
     ]
    },
    {
     "name": "stderr",
     "output_type": "stream",
     "text": [
      " 33%|███████████▋                        | 3251/10000 [55:22<1:48:51,  1.03it/s]"
     ]
    },
    {
     "name": "stdout",
     "output_type": "stream",
     "text": [
      "train test\n",
      "tensor(0.2538, dtype=torch.float64, grad_fn=<NllLossBackward0>)\n",
      "tensor(11.2536, dtype=torch.float64, grad_fn=<NllLossBackward0>)\n",
      "----------\n"
     ]
    },
    {
     "name": "stderr",
     "output_type": "stream",
     "text": [
      " 33%|███████████▋                        | 3261/10000 [55:32<1:49:38,  1.02it/s]"
     ]
    },
    {
     "name": "stdout",
     "output_type": "stream",
     "text": [
      "train test\n",
      "tensor(0.2515, dtype=torch.float64, grad_fn=<NllLossBackward0>)\n",
      "tensor(11.2770, dtype=torch.float64, grad_fn=<NllLossBackward0>)\n",
      "----------\n"
     ]
    },
    {
     "name": "stderr",
     "output_type": "stream",
     "text": [
      " 33%|███████████▊                        | 3271/10000 [55:42<1:48:24,  1.03it/s]"
     ]
    },
    {
     "name": "stdout",
     "output_type": "stream",
     "text": [
      "train test\n",
      "tensor(0.2496, dtype=torch.float64, grad_fn=<NllLossBackward0>)\n",
      "tensor(11.3220, dtype=torch.float64, grad_fn=<NllLossBackward0>)\n",
      "----------\n"
     ]
    },
    {
     "name": "stderr",
     "output_type": "stream",
     "text": [
      " 33%|███████████▊                        | 3281/10000 [55:51<1:49:26,  1.02it/s]"
     ]
    },
    {
     "name": "stdout",
     "output_type": "stream",
     "text": [
      "train test\n",
      "tensor(0.2504, dtype=torch.float64, grad_fn=<NllLossBackward0>)\n",
      "tensor(11.3783, dtype=torch.float64, grad_fn=<NllLossBackward0>)\n",
      "----------\n"
     ]
    },
    {
     "name": "stderr",
     "output_type": "stream",
     "text": [
      " 33%|███████████▊                        | 3291/10000 [56:01<1:47:40,  1.04it/s]"
     ]
    },
    {
     "name": "stdout",
     "output_type": "stream",
     "text": [
      "train test\n",
      "tensor(0.2463, dtype=torch.float64, grad_fn=<NllLossBackward0>)\n",
      "tensor(11.3790, dtype=torch.float64, grad_fn=<NllLossBackward0>)\n",
      "----------\n"
     ]
    },
    {
     "name": "stderr",
     "output_type": "stream",
     "text": [
      " 33%|███████████▉                        | 3301/10000 [56:11<1:49:06,  1.02it/s]"
     ]
    },
    {
     "name": "stdout",
     "output_type": "stream",
     "text": [
      "train test\n",
      "tensor(0.2458, dtype=torch.float64, grad_fn=<NllLossBackward0>)\n",
      "tensor(11.3996, dtype=torch.float64, grad_fn=<NllLossBackward0>)\n",
      "----------\n"
     ]
    },
    {
     "name": "stderr",
     "output_type": "stream",
     "text": [
      " 33%|███████████▉                        | 3311/10000 [56:21<1:48:51,  1.02it/s]"
     ]
    },
    {
     "name": "stdout",
     "output_type": "stream",
     "text": [
      "train test\n",
      "tensor(0.2442, dtype=torch.float64, grad_fn=<NllLossBackward0>)\n",
      "tensor(11.4213, dtype=torch.float64, grad_fn=<NllLossBackward0>)\n",
      "----------\n"
     ]
    },
    {
     "name": "stderr",
     "output_type": "stream",
     "text": [
      " 33%|███████████▉                        | 3321/10000 [56:30<1:47:01,  1.04it/s]"
     ]
    },
    {
     "name": "stdout",
     "output_type": "stream",
     "text": [
      "train test\n",
      "tensor(0.2424, dtype=torch.float64, grad_fn=<NllLossBackward0>)\n",
      "tensor(11.4616, dtype=torch.float64, grad_fn=<NllLossBackward0>)\n",
      "----------\n"
     ]
    },
    {
     "name": "stderr",
     "output_type": "stream",
     "text": [
      " 33%|███████████▉                        | 3331/10000 [56:40<1:48:19,  1.03it/s]"
     ]
    },
    {
     "name": "stdout",
     "output_type": "stream",
     "text": [
      "train test\n",
      "tensor(0.2447, dtype=torch.float64, grad_fn=<NllLossBackward0>)\n",
      "tensor(11.5051, dtype=torch.float64, grad_fn=<NllLossBackward0>)\n",
      "----------\n"
     ]
    },
    {
     "name": "stderr",
     "output_type": "stream",
     "text": [
      " 33%|████████████                        | 3341/10000 [56:50<1:48:02,  1.03it/s]"
     ]
    },
    {
     "name": "stdout",
     "output_type": "stream",
     "text": [
      "train test\n",
      "tensor(0.2425, dtype=torch.float64, grad_fn=<NllLossBackward0>)\n",
      "tensor(11.4957, dtype=torch.float64, grad_fn=<NllLossBackward0>)\n",
      "----------\n"
     ]
    },
    {
     "name": "stderr",
     "output_type": "stream",
     "text": [
      " 34%|████████████                        | 3351/10000 [57:00<1:48:12,  1.02it/s]"
     ]
    },
    {
     "name": "stdout",
     "output_type": "stream",
     "text": [
      "train test\n",
      "tensor(0.2410, dtype=torch.float64, grad_fn=<NllLossBackward0>)\n",
      "tensor(11.4750, dtype=torch.float64, grad_fn=<NllLossBackward0>)\n",
      "----------\n"
     ]
    },
    {
     "name": "stderr",
     "output_type": "stream",
     "text": [
      " 34%|████████████                        | 3361/10000 [57:09<1:46:30,  1.04it/s]"
     ]
    },
    {
     "name": "stdout",
     "output_type": "stream",
     "text": [
      "train test\n",
      "tensor(0.2426, dtype=torch.float64, grad_fn=<NllLossBackward0>)\n",
      "tensor(11.4619, dtype=torch.float64, grad_fn=<NllLossBackward0>)\n",
      "----------\n"
     ]
    },
    {
     "name": "stderr",
     "output_type": "stream",
     "text": [
      " 34%|████████████▏                       | 3371/10000 [57:19<1:46:45,  1.03it/s]"
     ]
    },
    {
     "name": "stdout",
     "output_type": "stream",
     "text": [
      "train test\n",
      "tensor(0.2432, dtype=torch.float64, grad_fn=<NllLossBackward0>)\n",
      "tensor(11.4386, dtype=torch.float64, grad_fn=<NllLossBackward0>)\n",
      "----------\n"
     ]
    },
    {
     "name": "stderr",
     "output_type": "stream",
     "text": [
      " 34%|████████████▏                       | 3381/10000 [57:29<1:47:45,  1.02it/s]"
     ]
    },
    {
     "name": "stdout",
     "output_type": "stream",
     "text": [
      "train test\n",
      "tensor(0.2429, dtype=torch.float64, grad_fn=<NllLossBackward0>)\n",
      "tensor(11.4409, dtype=torch.float64, grad_fn=<NllLossBackward0>)\n",
      "----------\n"
     ]
    },
    {
     "name": "stderr",
     "output_type": "stream",
     "text": [
      " 34%|████████████▏                       | 3391/10000 [57:39<1:47:02,  1.03it/s]"
     ]
    },
    {
     "name": "stdout",
     "output_type": "stream",
     "text": [
      "train test\n",
      "tensor(0.2424, dtype=torch.float64, grad_fn=<NllLossBackward0>)\n",
      "tensor(11.4470, dtype=torch.float64, grad_fn=<NllLossBackward0>)\n",
      "----------\n"
     ]
    },
    {
     "name": "stderr",
     "output_type": "stream",
     "text": [
      " 34%|████████████▏                       | 3401/10000 [57:48<1:48:14,  1.02it/s]"
     ]
    },
    {
     "name": "stdout",
     "output_type": "stream",
     "text": [
      "train test\n",
      "tensor(0.2410, dtype=torch.float64, grad_fn=<NllLossBackward0>)\n",
      "tensor(11.4735, dtype=torch.float64, grad_fn=<NllLossBackward0>)\n",
      "----------\n"
     ]
    },
    {
     "name": "stderr",
     "output_type": "stream",
     "text": [
      " 34%|████████████▎                       | 3411/10000 [57:58<1:46:47,  1.03it/s]"
     ]
    },
    {
     "name": "stdout",
     "output_type": "stream",
     "text": [
      "train test\n",
      "tensor(0.2446, dtype=torch.float64, grad_fn=<NllLossBackward0>)\n",
      "tensor(11.5082, dtype=torch.float64, grad_fn=<NllLossBackward0>)\n",
      "----------\n"
     ]
    },
    {
     "name": "stderr",
     "output_type": "stream",
     "text": [
      " 34%|████████████▎                       | 3421/10000 [58:08<1:46:38,  1.03it/s]"
     ]
    },
    {
     "name": "stdout",
     "output_type": "stream",
     "text": [
      "train test\n",
      "tensor(0.2408, dtype=torch.float64, grad_fn=<NllLossBackward0>)\n",
      "tensor(11.4858, dtype=torch.float64, grad_fn=<NllLossBackward0>)\n",
      "----------\n"
     ]
    },
    {
     "name": "stderr",
     "output_type": "stream",
     "text": [
      " 34%|████████████▎                       | 3431/10000 [58:18<1:46:29,  1.03it/s]"
     ]
    },
    {
     "name": "stdout",
     "output_type": "stream",
     "text": [
      "train test\n",
      "tensor(0.2410, dtype=torch.float64, grad_fn=<NllLossBackward0>)\n",
      "tensor(11.4705, dtype=torch.float64, grad_fn=<NllLossBackward0>)\n",
      "----------\n"
     ]
    },
    {
     "name": "stderr",
     "output_type": "stream",
     "text": [
      " 34%|████████████▍                       | 3441/10000 [58:27<1:46:08,  1.03it/s]"
     ]
    },
    {
     "name": "stdout",
     "output_type": "stream",
     "text": [
      "train test\n",
      "tensor(0.2409, dtype=torch.float64, grad_fn=<NllLossBackward0>)\n",
      "tensor(11.4711, dtype=torch.float64, grad_fn=<NllLossBackward0>)\n",
      "----------\n"
     ]
    },
    {
     "name": "stderr",
     "output_type": "stream",
     "text": [
      " 35%|████████████▍                       | 3451/10000 [58:37<1:46:55,  1.02it/s]"
     ]
    },
    {
     "name": "stdout",
     "output_type": "stream",
     "text": [
      "train test\n",
      "tensor(0.2401, dtype=torch.float64, grad_fn=<NllLossBackward0>)\n",
      "tensor(11.4891, dtype=torch.float64, grad_fn=<NllLossBackward0>)\n",
      "----------\n"
     ]
    },
    {
     "name": "stderr",
     "output_type": "stream",
     "text": [
      " 35%|████████████▍                       | 3461/10000 [58:47<1:46:39,  1.02it/s]"
     ]
    },
    {
     "name": "stdout",
     "output_type": "stream",
     "text": [
      "train test\n",
      "tensor(0.2387, dtype=torch.float64, grad_fn=<NllLossBackward0>)\n",
      "tensor(11.5244, dtype=torch.float64, grad_fn=<NllLossBackward0>)\n",
      "----------\n"
     ]
    },
    {
     "name": "stderr",
     "output_type": "stream",
     "text": [
      " 35%|████████████▍                       | 3471/10000 [58:57<1:47:10,  1.02it/s]"
     ]
    },
    {
     "name": "stdout",
     "output_type": "stream",
     "text": [
      "train test\n",
      "tensor(0.2386, dtype=torch.float64, grad_fn=<NllLossBackward0>)\n",
      "tensor(11.5508, dtype=torch.float64, grad_fn=<NllLossBackward0>)\n",
      "----------\n"
     ]
    },
    {
     "name": "stderr",
     "output_type": "stream",
     "text": [
      " 35%|████████████▌                       | 3481/10000 [59:06<1:46:30,  1.02it/s]"
     ]
    },
    {
     "name": "stdout",
     "output_type": "stream",
     "text": [
      "train test\n",
      "tensor(0.2368, dtype=torch.float64, grad_fn=<NllLossBackward0>)\n",
      "tensor(11.5823, dtype=torch.float64, grad_fn=<NllLossBackward0>)\n",
      "----------\n"
     ]
    },
    {
     "name": "stderr",
     "output_type": "stream",
     "text": [
      " 35%|████████████▌                       | 3491/10000 [59:16<1:47:10,  1.01it/s]"
     ]
    },
    {
     "name": "stdout",
     "output_type": "stream",
     "text": [
      "train test\n",
      "tensor(0.2348, dtype=torch.float64, grad_fn=<NllLossBackward0>)\n",
      "tensor(11.6029, dtype=torch.float64, grad_fn=<NllLossBackward0>)\n",
      "----------\n"
     ]
    },
    {
     "name": "stderr",
     "output_type": "stream",
     "text": [
      " 35%|████████████▌                       | 3501/10000 [59:26<1:45:39,  1.03it/s]"
     ]
    },
    {
     "name": "stdout",
     "output_type": "stream",
     "text": [
      "train test\n",
      "tensor(0.2336, dtype=torch.float64, grad_fn=<NllLossBackward0>)\n",
      "tensor(11.6301, dtype=torch.float64, grad_fn=<NllLossBackward0>)\n",
      "----------\n"
     ]
    },
    {
     "name": "stderr",
     "output_type": "stream",
     "text": [
      " 35%|████████████▋                       | 3511/10000 [59:36<1:44:48,  1.03it/s]"
     ]
    },
    {
     "name": "stdout",
     "output_type": "stream",
     "text": [
      "train test\n",
      "tensor(0.2338, dtype=torch.float64, grad_fn=<NllLossBackward0>)\n",
      "tensor(11.6591, dtype=torch.float64, grad_fn=<NllLossBackward0>)\n",
      "----------\n"
     ]
    },
    {
     "name": "stderr",
     "output_type": "stream",
     "text": [
      " 35%|████████████▋                       | 3521/10000 [59:45<1:45:22,  1.02it/s]"
     ]
    },
    {
     "name": "stdout",
     "output_type": "stream",
     "text": [
      "train test\n",
      "tensor(0.2342, dtype=torch.float64, grad_fn=<NllLossBackward0>)\n",
      "tensor(11.6492, dtype=torch.float64, grad_fn=<NllLossBackward0>)\n",
      "----------\n"
     ]
    },
    {
     "name": "stderr",
     "output_type": "stream",
     "text": [
      " 35%|████████████▋                       | 3531/10000 [59:55<1:48:35,  1.01s/it]"
     ]
    },
    {
     "name": "stdout",
     "output_type": "stream",
     "text": [
      "train test\n",
      "tensor(0.2336, dtype=torch.float64, grad_fn=<NllLossBackward0>)\n",
      "tensor(11.6294, dtype=torch.float64, grad_fn=<NllLossBackward0>)\n",
      "----------\n"
     ]
    },
    {
     "name": "stderr",
     "output_type": "stream",
     "text": [
      " 35%|████████████                      | 3541/10000 [1:00:05<1:44:55,  1.03it/s]"
     ]
    },
    {
     "name": "stdout",
     "output_type": "stream",
     "text": [
      "train test\n",
      "tensor(0.2333, dtype=torch.float64, grad_fn=<NllLossBackward0>)\n",
      "tensor(11.6304, dtype=torch.float64, grad_fn=<NllLossBackward0>)\n",
      "----------\n"
     ]
    },
    {
     "name": "stderr",
     "output_type": "stream",
     "text": [
      " 36%|████████████                      | 3551/10000 [1:00:15<1:44:13,  1.03it/s]"
     ]
    },
    {
     "name": "stdout",
     "output_type": "stream",
     "text": [
      "train test\n",
      "tensor(0.2328, dtype=torch.float64, grad_fn=<NllLossBackward0>)\n",
      "tensor(11.6355, dtype=torch.float64, grad_fn=<NllLossBackward0>)\n",
      "----------\n"
     ]
    },
    {
     "name": "stderr",
     "output_type": "stream",
     "text": [
      " 36%|████████████                      | 3561/10000 [1:00:24<1:44:04,  1.03it/s]"
     ]
    },
    {
     "name": "stdout",
     "output_type": "stream",
     "text": [
      "train test\n",
      "tensor(0.2347, dtype=torch.float64, grad_fn=<NllLossBackward0>)\n",
      "tensor(11.6755, dtype=torch.float64, grad_fn=<NllLossBackward0>)\n",
      "----------\n"
     ]
    },
    {
     "name": "stderr",
     "output_type": "stream",
     "text": [
      " 36%|████████████▏                     | 3571/10000 [1:00:34<1:45:20,  1.02it/s]"
     ]
    },
    {
     "name": "stdout",
     "output_type": "stream",
     "text": [
      "train test\n",
      "tensor(0.2339, dtype=torch.float64, grad_fn=<NllLossBackward0>)\n",
      "tensor(11.6260, dtype=torch.float64, grad_fn=<NllLossBackward0>)\n",
      "----------\n"
     ]
    },
    {
     "name": "stderr",
     "output_type": "stream",
     "text": [
      " 36%|████████████▏                     | 3581/10000 [1:00:44<1:43:54,  1.03it/s]"
     ]
    },
    {
     "name": "stdout",
     "output_type": "stream",
     "text": [
      "train test\n",
      "tensor(0.2347, dtype=torch.float64, grad_fn=<NllLossBackward0>)\n",
      "tensor(11.5949, dtype=torch.float64, grad_fn=<NllLossBackward0>)\n",
      "----------\n"
     ]
    },
    {
     "name": "stderr",
     "output_type": "stream",
     "text": [
      " 36%|████████████▏                     | 3591/10000 [1:00:54<1:44:04,  1.03it/s]"
     ]
    },
    {
     "name": "stdout",
     "output_type": "stream",
     "text": [
      "train test\n",
      "tensor(0.2357, dtype=torch.float64, grad_fn=<NllLossBackward0>)\n",
      "tensor(11.5707, dtype=torch.float64, grad_fn=<NllLossBackward0>)\n",
      "----------\n"
     ]
    },
    {
     "name": "stderr",
     "output_type": "stream",
     "text": [
      " 36%|████████████▏                     | 3601/10000 [1:01:03<1:42:52,  1.04it/s]"
     ]
    },
    {
     "name": "stdout",
     "output_type": "stream",
     "text": [
      "train test\n",
      "tensor(0.2361, dtype=torch.float64, grad_fn=<NllLossBackward0>)\n",
      "tensor(11.5597, dtype=torch.float64, grad_fn=<NllLossBackward0>)\n",
      "----------\n"
     ]
    },
    {
     "name": "stderr",
     "output_type": "stream",
     "text": [
      " 36%|████████████▎                     | 3611/10000 [1:01:13<1:47:00,  1.00s/it]"
     ]
    },
    {
     "name": "stdout",
     "output_type": "stream",
     "text": [
      "train test\n",
      "tensor(0.2355, dtype=torch.float64, grad_fn=<NllLossBackward0>)\n",
      "tensor(11.5828, dtype=torch.float64, grad_fn=<NllLossBackward0>)\n",
      "----------\n"
     ]
    },
    {
     "name": "stderr",
     "output_type": "stream",
     "text": [
      " 36%|████████████▎                     | 3621/10000 [1:01:23<1:45:44,  1.01it/s]"
     ]
    },
    {
     "name": "stdout",
     "output_type": "stream",
     "text": [
      "train test\n",
      "tensor(0.2349, dtype=torch.float64, grad_fn=<NllLossBackward0>)\n",
      "tensor(11.6111, dtype=torch.float64, grad_fn=<NllLossBackward0>)\n",
      "----------\n"
     ]
    },
    {
     "name": "stderr",
     "output_type": "stream",
     "text": [
      " 36%|████████████▎                     | 3631/10000 [1:01:33<1:42:04,  1.04it/s]"
     ]
    },
    {
     "name": "stdout",
     "output_type": "stream",
     "text": [
      "train test\n",
      "tensor(0.2382, dtype=torch.float64, grad_fn=<NllLossBackward0>)\n",
      "tensor(11.5971, dtype=torch.float64, grad_fn=<NllLossBackward0>)\n",
      "----------\n"
     ]
    },
    {
     "name": "stderr",
     "output_type": "stream",
     "text": [
      " 36%|████████████▍                     | 3641/10000 [1:01:43<1:43:28,  1.02it/s]"
     ]
    },
    {
     "name": "stdout",
     "output_type": "stream",
     "text": [
      "train test\n",
      "tensor(0.2386, dtype=torch.float64, grad_fn=<NllLossBackward0>)\n",
      "tensor(11.5454, dtype=torch.float64, grad_fn=<NllLossBackward0>)\n",
      "----------\n"
     ]
    },
    {
     "name": "stderr",
     "output_type": "stream",
     "text": [
      " 37%|████████████▍                     | 3651/10000 [1:01:52<1:42:10,  1.04it/s]"
     ]
    },
    {
     "name": "stdout",
     "output_type": "stream",
     "text": [
      "train test\n",
      "tensor(0.2399, dtype=torch.float64, grad_fn=<NllLossBackward0>)\n",
      "tensor(11.4921, dtype=torch.float64, grad_fn=<NllLossBackward0>)\n",
      "----------\n"
     ]
    },
    {
     "name": "stderr",
     "output_type": "stream",
     "text": [
      " 37%|████████████▍                     | 3661/10000 [1:02:02<1:44:48,  1.01it/s]"
     ]
    },
    {
     "name": "stdout",
     "output_type": "stream",
     "text": [
      "train test\n",
      "tensor(0.2412, dtype=torch.float64, grad_fn=<NllLossBackward0>)\n",
      "tensor(11.4531, dtype=torch.float64, grad_fn=<NllLossBackward0>)\n",
      "----------\n"
     ]
    },
    {
     "name": "stderr",
     "output_type": "stream",
     "text": [
      " 37%|████████████▍                     | 3671/10000 [1:02:12<1:47:40,  1.02s/it]"
     ]
    },
    {
     "name": "stdout",
     "output_type": "stream",
     "text": [
      "train test\n",
      "tensor(0.2419, dtype=torch.float64, grad_fn=<NllLossBackward0>)\n",
      "tensor(11.4428, dtype=torch.float64, grad_fn=<NllLossBackward0>)\n",
      "----------\n"
     ]
    },
    {
     "name": "stderr",
     "output_type": "stream",
     "text": [
      " 37%|████████████▌                     | 3681/10000 [1:02:22<1:42:30,  1.03it/s]"
     ]
    },
    {
     "name": "stdout",
     "output_type": "stream",
     "text": [
      "train test\n",
      "tensor(0.2414, dtype=torch.float64, grad_fn=<NllLossBackward0>)\n",
      "tensor(11.4531, dtype=torch.float64, grad_fn=<NllLossBackward0>)\n",
      "----------\n"
     ]
    },
    {
     "name": "stderr",
     "output_type": "stream",
     "text": [
      " 37%|████████████▌                     | 3691/10000 [1:02:32<1:42:33,  1.03it/s]"
     ]
    },
    {
     "name": "stdout",
     "output_type": "stream",
     "text": [
      "train test\n",
      "tensor(0.2400, dtype=torch.float64, grad_fn=<NllLossBackward0>)\n",
      "tensor(11.4840, dtype=torch.float64, grad_fn=<NllLossBackward0>)\n",
      "----------\n"
     ]
    },
    {
     "name": "stderr",
     "output_type": "stream",
     "text": [
      " 37%|████████████▌                     | 3701/10000 [1:02:42<1:42:25,  1.02it/s]"
     ]
    },
    {
     "name": "stdout",
     "output_type": "stream",
     "text": [
      "train test\n",
      "tensor(0.2402, dtype=torch.float64, grad_fn=<NllLossBackward0>)\n",
      "tensor(11.4967, dtype=torch.float64, grad_fn=<NllLossBackward0>)\n",
      "----------\n"
     ]
    },
    {
     "name": "stderr",
     "output_type": "stream",
     "text": [
      " 37%|████████████▌                     | 3711/10000 [1:02:51<1:41:47,  1.03it/s]"
     ]
    },
    {
     "name": "stdout",
     "output_type": "stream",
     "text": [
      "train test\n",
      "tensor(0.2431, dtype=torch.float64, grad_fn=<NllLossBackward0>)\n",
      "tensor(11.4436, dtype=torch.float64, grad_fn=<NllLossBackward0>)\n",
      "----------\n"
     ]
    },
    {
     "name": "stderr",
     "output_type": "stream",
     "text": [
      " 37%|████████████▋                     | 3721/10000 [1:03:01<1:42:03,  1.03it/s]"
     ]
    },
    {
     "name": "stdout",
     "output_type": "stream",
     "text": [
      "train test\n",
      "tensor(0.2451, dtype=torch.float64, grad_fn=<NllLossBackward0>)\n",
      "tensor(11.3954, dtype=torch.float64, grad_fn=<NllLossBackward0>)\n",
      "----------\n"
     ]
    },
    {
     "name": "stderr",
     "output_type": "stream",
     "text": [
      " 37%|████████████▋                     | 3731/10000 [1:03:11<1:40:52,  1.04it/s]"
     ]
    },
    {
     "name": "stdout",
     "output_type": "stream",
     "text": [
      "train test\n",
      "tensor(0.2467, dtype=torch.float64, grad_fn=<NllLossBackward0>)\n",
      "tensor(11.3506, dtype=torch.float64, grad_fn=<NllLossBackward0>)\n",
      "----------\n"
     ]
    },
    {
     "name": "stderr",
     "output_type": "stream",
     "text": [
      " 37%|████████████▋                     | 3741/10000 [1:03:20<1:41:12,  1.03it/s]"
     ]
    },
    {
     "name": "stdout",
     "output_type": "stream",
     "text": [
      "train test\n",
      "tensor(0.2478, dtype=torch.float64, grad_fn=<NllLossBackward0>)\n",
      "tensor(11.3264, dtype=torch.float64, grad_fn=<NllLossBackward0>)\n",
      "----------\n"
     ]
    },
    {
     "name": "stderr",
     "output_type": "stream",
     "text": [
      " 38%|████████████▊                     | 3751/10000 [1:03:30<1:40:23,  1.04it/s]"
     ]
    },
    {
     "name": "stdout",
     "output_type": "stream",
     "text": [
      "train test\n",
      "tensor(0.2478, dtype=torch.float64, grad_fn=<NllLossBackward0>)\n",
      "tensor(11.3244, dtype=torch.float64, grad_fn=<NllLossBackward0>)\n",
      "----------\n"
     ]
    },
    {
     "name": "stderr",
     "output_type": "stream",
     "text": [
      " 38%|████████████▊                     | 3761/10000 [1:03:40<1:40:43,  1.03it/s]"
     ]
    },
    {
     "name": "stdout",
     "output_type": "stream",
     "text": [
      "train test\n",
      "tensor(0.2468, dtype=torch.float64, grad_fn=<NllLossBackward0>)\n",
      "tensor(11.3488, dtype=torch.float64, grad_fn=<NllLossBackward0>)\n",
      "----------\n"
     ]
    },
    {
     "name": "stderr",
     "output_type": "stream",
     "text": [
      " 38%|████████████▊                     | 3771/10000 [1:03:50<1:41:44,  1.02it/s]"
     ]
    },
    {
     "name": "stdout",
     "output_type": "stream",
     "text": [
      "train test\n",
      "tensor(0.2450, dtype=torch.float64, grad_fn=<NllLossBackward0>)\n",
      "tensor(11.3881, dtype=torch.float64, grad_fn=<NllLossBackward0>)\n",
      "----------\n"
     ]
    },
    {
     "name": "stderr",
     "output_type": "stream",
     "text": [
      " 38%|████████████▊                     | 3781/10000 [1:03:59<1:38:47,  1.05it/s]"
     ]
    },
    {
     "name": "stdout",
     "output_type": "stream",
     "text": [
      "train test\n",
      "tensor(0.2430, dtype=torch.float64, grad_fn=<NllLossBackward0>)\n",
      "tensor(11.4414, dtype=torch.float64, grad_fn=<NllLossBackward0>)\n",
      "----------\n"
     ]
    },
    {
     "name": "stderr",
     "output_type": "stream",
     "text": [
      " 38%|████████████▉                     | 3791/10000 [1:04:09<1:40:30,  1.03it/s]"
     ]
    },
    {
     "name": "stdout",
     "output_type": "stream",
     "text": [
      "train test\n",
      "tensor(0.2405, dtype=torch.float64, grad_fn=<NllLossBackward0>)\n",
      "tensor(11.4835, dtype=torch.float64, grad_fn=<NllLossBackward0>)\n",
      "----------\n"
     ]
    },
    {
     "name": "stderr",
     "output_type": "stream",
     "text": [
      " 38%|████████████▉                     | 3801/10000 [1:04:19<1:38:56,  1.04it/s]"
     ]
    },
    {
     "name": "stdout",
     "output_type": "stream",
     "text": [
      "train test\n",
      "tensor(0.2395, dtype=torch.float64, grad_fn=<NllLossBackward0>)\n",
      "tensor(11.5281, dtype=torch.float64, grad_fn=<NllLossBackward0>)\n",
      "----------\n"
     ]
    },
    {
     "name": "stderr",
     "output_type": "stream",
     "text": [
      " 38%|████████████▉                     | 3811/10000 [1:04:28<1:40:32,  1.03it/s]"
     ]
    },
    {
     "name": "stdout",
     "output_type": "stream",
     "text": [
      "train test\n",
      "tensor(0.2372, dtype=torch.float64, grad_fn=<NllLossBackward0>)\n",
      "tensor(11.5558, dtype=torch.float64, grad_fn=<NllLossBackward0>)\n",
      "----------\n"
     ]
    },
    {
     "name": "stderr",
     "output_type": "stream",
     "text": [
      " 38%|████████████▉                     | 3821/10000 [1:04:38<1:40:06,  1.03it/s]"
     ]
    },
    {
     "name": "stdout",
     "output_type": "stream",
     "text": [
      "train test\n",
      "tensor(0.2371, dtype=torch.float64, grad_fn=<NllLossBackward0>)\n",
      "tensor(11.5721, dtype=torch.float64, grad_fn=<NllLossBackward0>)\n",
      "----------\n"
     ]
    },
    {
     "name": "stderr",
     "output_type": "stream",
     "text": [
      " 38%|█████████████                     | 3831/10000 [1:04:48<1:41:17,  1.02it/s]"
     ]
    },
    {
     "name": "stdout",
     "output_type": "stream",
     "text": [
      "train test\n",
      "tensor(0.2360, dtype=torch.float64, grad_fn=<NllLossBackward0>)\n",
      "tensor(11.5867, dtype=torch.float64, grad_fn=<NllLossBackward0>)\n",
      "----------\n"
     ]
    },
    {
     "name": "stderr",
     "output_type": "stream",
     "text": [
      " 38%|█████████████                     | 3841/10000 [1:04:58<1:40:41,  1.02it/s]"
     ]
    },
    {
     "name": "stdout",
     "output_type": "stream",
     "text": [
      "train test\n",
      "tensor(0.2362, dtype=torch.float64, grad_fn=<NllLossBackward0>)\n",
      "tensor(11.6145, dtype=torch.float64, grad_fn=<NllLossBackward0>)\n",
      "----------\n"
     ]
    },
    {
     "name": "stderr",
     "output_type": "stream",
     "text": [
      " 39%|█████████████                     | 3851/10000 [1:05:07<1:39:25,  1.03it/s]"
     ]
    },
    {
     "name": "stdout",
     "output_type": "stream",
     "text": [
      "train test\n",
      "tensor(0.2376, dtype=torch.float64, grad_fn=<NllLossBackward0>)\n",
      "tensor(11.5954, dtype=torch.float64, grad_fn=<NllLossBackward0>)\n",
      "----------\n"
     ]
    },
    {
     "name": "stderr",
     "output_type": "stream",
     "text": [
      " 39%|█████████████▏                    | 3861/10000 [1:05:17<1:39:19,  1.03it/s]"
     ]
    },
    {
     "name": "stdout",
     "output_type": "stream",
     "text": [
      "train test\n",
      "tensor(0.2367, dtype=torch.float64, grad_fn=<NllLossBackward0>)\n",
      "tensor(11.5716, dtype=torch.float64, grad_fn=<NllLossBackward0>)\n",
      "----------\n"
     ]
    },
    {
     "name": "stderr",
     "output_type": "stream",
     "text": [
      " 39%|█████████████▏                    | 3871/10000 [1:05:27<1:38:36,  1.04it/s]"
     ]
    },
    {
     "name": "stdout",
     "output_type": "stream",
     "text": [
      "train test\n",
      "tensor(0.2377, dtype=torch.float64, grad_fn=<NllLossBackward0>)\n",
      "tensor(11.5339, dtype=torch.float64, grad_fn=<NllLossBackward0>)\n",
      "----------\n"
     ]
    },
    {
     "name": "stderr",
     "output_type": "stream",
     "text": [
      " 39%|█████████████▏                    | 3881/10000 [1:05:37<1:40:10,  1.02it/s]"
     ]
    },
    {
     "name": "stdout",
     "output_type": "stream",
     "text": [
      "train test\n",
      "tensor(0.2383, dtype=torch.float64, grad_fn=<NllLossBackward0>)\n",
      "tensor(11.5250, dtype=torch.float64, grad_fn=<NllLossBackward0>)\n",
      "----------\n"
     ]
    },
    {
     "name": "stderr",
     "output_type": "stream",
     "text": [
      " 39%|█████████████▏                    | 3891/10000 [1:05:46<1:38:45,  1.03it/s]"
     ]
    },
    {
     "name": "stdout",
     "output_type": "stream",
     "text": [
      "train test\n",
      "tensor(0.2380, dtype=torch.float64, grad_fn=<NllLossBackward0>)\n",
      "tensor(11.5287, dtype=torch.float64, grad_fn=<NllLossBackward0>)\n",
      "----------\n"
     ]
    },
    {
     "name": "stderr",
     "output_type": "stream",
     "text": [
      " 39%|█████████████▎                    | 3901/10000 [1:05:56<1:39:19,  1.02it/s]"
     ]
    },
    {
     "name": "stdout",
     "output_type": "stream",
     "text": [
      "train test\n",
      "tensor(0.2368, dtype=torch.float64, grad_fn=<NllLossBackward0>)\n",
      "tensor(11.5521, dtype=torch.float64, grad_fn=<NllLossBackward0>)\n",
      "----------\n"
     ]
    },
    {
     "name": "stderr",
     "output_type": "stream",
     "text": [
      " 39%|█████████████▎                    | 3911/10000 [1:06:06<1:38:28,  1.03it/s]"
     ]
    },
    {
     "name": "stdout",
     "output_type": "stream",
     "text": [
      "train test\n",
      "tensor(0.2359, dtype=torch.float64, grad_fn=<NllLossBackward0>)\n",
      "tensor(11.5929, dtype=torch.float64, grad_fn=<NllLossBackward0>)\n",
      "----------\n"
     ]
    },
    {
     "name": "stderr",
     "output_type": "stream",
     "text": [
      " 39%|█████████████▎                    | 3921/10000 [1:06:15<1:36:30,  1.05it/s]"
     ]
    },
    {
     "name": "stdout",
     "output_type": "stream",
     "text": [
      "train test\n",
      "tensor(0.2343, dtype=torch.float64, grad_fn=<NllLossBackward0>)\n",
      "tensor(11.6033, dtype=torch.float64, grad_fn=<NllLossBackward0>)\n",
      "----------\n"
     ]
    },
    {
     "name": "stderr",
     "output_type": "stream",
     "text": [
      " 39%|█████████████▎                    | 3931/10000 [1:06:25<1:38:44,  1.02it/s]"
     ]
    },
    {
     "name": "stdout",
     "output_type": "stream",
     "text": [
      "train test\n",
      "tensor(0.2346, dtype=torch.float64, grad_fn=<NllLossBackward0>)\n",
      "tensor(11.6118, dtype=torch.float64, grad_fn=<NllLossBackward0>)\n",
      "----------\n"
     ]
    },
    {
     "name": "stderr",
     "output_type": "stream",
     "text": [
      " 39%|█████████████▍                    | 3941/10000 [1:06:35<1:37:48,  1.03it/s]"
     ]
    },
    {
     "name": "stdout",
     "output_type": "stream",
     "text": [
      "train test\n",
      "tensor(0.2342, dtype=torch.float64, grad_fn=<NllLossBackward0>)\n",
      "tensor(11.6162, dtype=torch.float64, grad_fn=<NllLossBackward0>)\n",
      "----------\n"
     ]
    },
    {
     "name": "stderr",
     "output_type": "stream",
     "text": [
      " 40%|█████████████▍                    | 3951/10000 [1:06:45<1:39:32,  1.01it/s]"
     ]
    },
    {
     "name": "stdout",
     "output_type": "stream",
     "text": [
      "train test\n",
      "tensor(0.2339, dtype=torch.float64, grad_fn=<NllLossBackward0>)\n",
      "tensor(11.6246, dtype=torch.float64, grad_fn=<NllLossBackward0>)\n",
      "----------\n"
     ]
    },
    {
     "name": "stderr",
     "output_type": "stream",
     "text": [
      " 40%|█████████████▍                    | 3961/10000 [1:06:54<1:37:04,  1.04it/s]"
     ]
    },
    {
     "name": "stdout",
     "output_type": "stream",
     "text": [
      "train test\n",
      "tensor(0.2346, dtype=torch.float64, grad_fn=<NllLossBackward0>)\n",
      "tensor(11.6330, dtype=torch.float64, grad_fn=<NllLossBackward0>)\n",
      "----------\n"
     ]
    },
    {
     "name": "stderr",
     "output_type": "stream",
     "text": [
      " 40%|█████████████▌                    | 3971/10000 [1:07:04<1:38:52,  1.02it/s]"
     ]
    },
    {
     "name": "stdout",
     "output_type": "stream",
     "text": [
      "train test\n",
      "tensor(0.2334, dtype=torch.float64, grad_fn=<NllLossBackward0>)\n",
      "tensor(11.6400, dtype=torch.float64, grad_fn=<NllLossBackward0>)\n",
      "----------\n"
     ]
    },
    {
     "name": "stderr",
     "output_type": "stream",
     "text": [
      " 40%|█████████████▌                    | 3981/10000 [1:07:14<1:38:33,  1.02it/s]"
     ]
    },
    {
     "name": "stdout",
     "output_type": "stream",
     "text": [
      "train test\n",
      "tensor(0.2323, dtype=torch.float64, grad_fn=<NllLossBackward0>)\n",
      "tensor(11.6501, dtype=torch.float64, grad_fn=<NllLossBackward0>)\n",
      "----------\n"
     ]
    },
    {
     "name": "stderr",
     "output_type": "stream",
     "text": [
      " 40%|█████████████▌                    | 3991/10000 [1:07:24<1:37:30,  1.03it/s]"
     ]
    },
    {
     "name": "stdout",
     "output_type": "stream",
     "text": [
      "train test\n",
      "tensor(0.2312, dtype=torch.float64, grad_fn=<NllLossBackward0>)\n",
      "tensor(11.6748, dtype=torch.float64, grad_fn=<NllLossBackward0>)\n",
      "----------\n"
     ]
    },
    {
     "name": "stderr",
     "output_type": "stream",
     "text": [
      " 40%|█████████████▌                    | 4001/10000 [1:07:33<1:37:49,  1.02it/s]"
     ]
    },
    {
     "name": "stdout",
     "output_type": "stream",
     "text": [
      "train test\n",
      "tensor(0.2373, dtype=torch.float64, grad_fn=<NllLossBackward0>)\n",
      "tensor(11.7145, dtype=torch.float64, grad_fn=<NllLossBackward0>)\n",
      "----------\n"
     ]
    },
    {
     "name": "stderr",
     "output_type": "stream",
     "text": [
      " 40%|█████████████▋                    | 4011/10000 [1:07:43<1:36:49,  1.03it/s]"
     ]
    },
    {
     "name": "stdout",
     "output_type": "stream",
     "text": [
      "train test\n",
      "tensor(0.2324, dtype=torch.float64, grad_fn=<NllLossBackward0>)\n",
      "tensor(11.6420, dtype=torch.float64, grad_fn=<NllLossBackward0>)\n",
      "----------\n"
     ]
    },
    {
     "name": "stderr",
     "output_type": "stream",
     "text": [
      " 40%|█████████████▋                    | 4021/10000 [1:07:53<1:35:06,  1.05it/s]"
     ]
    },
    {
     "name": "stdout",
     "output_type": "stream",
     "text": [
      "train test\n",
      "tensor(0.2364, dtype=torch.float64, grad_fn=<NllLossBackward0>)\n",
      "tensor(11.5891, dtype=torch.float64, grad_fn=<NllLossBackward0>)\n",
      "----------\n"
     ]
    },
    {
     "name": "stderr",
     "output_type": "stream",
     "text": [
      " 40%|█████████████▋                    | 4031/10000 [1:08:03<1:38:29,  1.01it/s]"
     ]
    },
    {
     "name": "stdout",
     "output_type": "stream",
     "text": [
      "train test\n",
      "tensor(0.2381, dtype=torch.float64, grad_fn=<NllLossBackward0>)\n",
      "tensor(11.5307, dtype=torch.float64, grad_fn=<NllLossBackward0>)\n",
      "----------\n"
     ]
    },
    {
     "name": "stderr",
     "output_type": "stream",
     "text": [
      " 40%|█████████████▋                    | 4041/10000 [1:08:12<1:36:24,  1.03it/s]"
     ]
    },
    {
     "name": "stdout",
     "output_type": "stream",
     "text": [
      "train test\n",
      "tensor(0.2395, dtype=torch.float64, grad_fn=<NllLossBackward0>)\n",
      "tensor(11.4915, dtype=torch.float64, grad_fn=<NllLossBackward0>)\n",
      "----------\n"
     ]
    },
    {
     "name": "stderr",
     "output_type": "stream",
     "text": [
      " 41%|█████████████▊                    | 4051/10000 [1:08:22<1:37:03,  1.02it/s]"
     ]
    },
    {
     "name": "stdout",
     "output_type": "stream",
     "text": [
      "train test\n",
      "tensor(0.2399, dtype=torch.float64, grad_fn=<NllLossBackward0>)\n",
      "tensor(11.4846, dtype=torch.float64, grad_fn=<NllLossBackward0>)\n",
      "----------\n"
     ]
    },
    {
     "name": "stderr",
     "output_type": "stream",
     "text": [
      " 41%|█████████████▊                    | 4061/10000 [1:08:32<1:36:36,  1.02it/s]"
     ]
    },
    {
     "name": "stdout",
     "output_type": "stream",
     "text": [
      "train test\n",
      "tensor(0.2394, dtype=torch.float64, grad_fn=<NllLossBackward0>)\n",
      "tensor(11.4935, dtype=torch.float64, grad_fn=<NllLossBackward0>)\n",
      "----------\n"
     ]
    },
    {
     "name": "stderr",
     "output_type": "stream",
     "text": [
      " 41%|█████████████▊                    | 4071/10000 [1:08:41<1:35:11,  1.04it/s]"
     ]
    },
    {
     "name": "stdout",
     "output_type": "stream",
     "text": [
      "train test\n",
      "tensor(0.2379, dtype=torch.float64, grad_fn=<NllLossBackward0>)\n",
      "tensor(11.5295, dtype=torch.float64, grad_fn=<NllLossBackward0>)\n",
      "----------\n"
     ]
    },
    {
     "name": "stderr",
     "output_type": "stream",
     "text": [
      " 41%|█████████████▉                    | 4081/10000 [1:08:51<1:35:57,  1.03it/s]"
     ]
    },
    {
     "name": "stdout",
     "output_type": "stream",
     "text": [
      "train test\n",
      "tensor(0.2382, dtype=torch.float64, grad_fn=<NllLossBackward0>)\n",
      "tensor(11.5713, dtype=torch.float64, grad_fn=<NllLossBackward0>)\n",
      "----------\n"
     ]
    },
    {
     "name": "stderr",
     "output_type": "stream",
     "text": [
      " 41%|█████████████▉                    | 4091/10000 [1:09:01<1:34:52,  1.04it/s]"
     ]
    },
    {
     "name": "stdout",
     "output_type": "stream",
     "text": [
      "train test\n",
      "tensor(0.2353, dtype=torch.float64, grad_fn=<NllLossBackward0>)\n",
      "tensor(11.5914, dtype=torch.float64, grad_fn=<NllLossBackward0>)\n",
      "----------\n"
     ]
    },
    {
     "name": "stderr",
     "output_type": "stream",
     "text": [
      " 41%|█████████████▉                    | 4101/10000 [1:09:11<1:36:21,  1.02it/s]"
     ]
    },
    {
     "name": "stdout",
     "output_type": "stream",
     "text": [
      "train test\n",
      "tensor(0.2340, dtype=torch.float64, grad_fn=<NllLossBackward0>)\n",
      "tensor(11.6080, dtype=torch.float64, grad_fn=<NllLossBackward0>)\n",
      "----------\n"
     ]
    },
    {
     "name": "stderr",
     "output_type": "stream",
     "text": [
      " 41%|█████████████▉                    | 4111/10000 [1:09:20<1:34:59,  1.03it/s]"
     ]
    },
    {
     "name": "stdout",
     "output_type": "stream",
     "text": [
      "train test\n",
      "tensor(0.2327, dtype=torch.float64, grad_fn=<NllLossBackward0>)\n",
      "tensor(11.6364, dtype=torch.float64, grad_fn=<NllLossBackward0>)\n",
      "----------\n"
     ]
    },
    {
     "name": "stderr",
     "output_type": "stream",
     "text": [
      " 41%|██████████████                    | 4121/10000 [1:09:30<1:34:48,  1.03it/s]"
     ]
    },
    {
     "name": "stdout",
     "output_type": "stream",
     "text": [
      "train test\n",
      "tensor(0.2327, dtype=torch.float64, grad_fn=<NllLossBackward0>)\n",
      "tensor(11.6558, dtype=torch.float64, grad_fn=<NllLossBackward0>)\n",
      "----------\n"
     ]
    },
    {
     "name": "stderr",
     "output_type": "stream",
     "text": [
      " 41%|██████████████                    | 4131/10000 [1:09:40<1:34:54,  1.03it/s]"
     ]
    },
    {
     "name": "stdout",
     "output_type": "stream",
     "text": [
      "train test\n",
      "tensor(0.2321, dtype=torch.float64, grad_fn=<NllLossBackward0>)\n",
      "tensor(11.6552, dtype=torch.float64, grad_fn=<NllLossBackward0>)\n",
      "----------\n"
     ]
    },
    {
     "name": "stderr",
     "output_type": "stream",
     "text": [
      " 41%|██████████████                    | 4141/10000 [1:09:49<1:33:48,  1.04it/s]"
     ]
    },
    {
     "name": "stdout",
     "output_type": "stream",
     "text": [
      "train test\n",
      "tensor(0.2325, dtype=torch.float64, grad_fn=<NllLossBackward0>)\n",
      "tensor(11.6467, dtype=torch.float64, grad_fn=<NllLossBackward0>)\n",
      "----------\n"
     ]
    },
    {
     "name": "stderr",
     "output_type": "stream",
     "text": [
      " 42%|██████████████                    | 4151/10000 [1:09:59<1:35:40,  1.02it/s]"
     ]
    },
    {
     "name": "stdout",
     "output_type": "stream",
     "text": [
      "train test\n",
      "tensor(0.2317, dtype=torch.float64, grad_fn=<NllLossBackward0>)\n",
      "tensor(11.6576, dtype=torch.float64, grad_fn=<NllLossBackward0>)\n",
      "----------\n"
     ]
    },
    {
     "name": "stderr",
     "output_type": "stream",
     "text": [
      " 42%|██████████████▏                   | 4161/10000 [1:10:09<1:33:44,  1.04it/s]"
     ]
    },
    {
     "name": "stdout",
     "output_type": "stream",
     "text": [
      "train test\n",
      "tensor(0.2320, dtype=torch.float64, grad_fn=<NllLossBackward0>)\n",
      "tensor(11.6869, dtype=torch.float64, grad_fn=<NllLossBackward0>)\n",
      "----------\n"
     ]
    },
    {
     "name": "stderr",
     "output_type": "stream",
     "text": [
      " 42%|██████████████▏                   | 4171/10000 [1:10:18<1:34:37,  1.03it/s]"
     ]
    },
    {
     "name": "stdout",
     "output_type": "stream",
     "text": [
      "train test\n",
      "tensor(0.2339, dtype=torch.float64, grad_fn=<NllLossBackward0>)\n",
      "tensor(11.6718, dtype=torch.float64, grad_fn=<NllLossBackward0>)\n",
      "----------\n"
     ]
    },
    {
     "name": "stderr",
     "output_type": "stream",
     "text": [
      " 42%|██████████████▏                   | 4181/10000 [1:10:28<1:33:46,  1.03it/s]"
     ]
    },
    {
     "name": "stdout",
     "output_type": "stream",
     "text": [
      "train test\n",
      "tensor(0.2327, dtype=torch.float64, grad_fn=<NllLossBackward0>)\n",
      "tensor(11.6371, dtype=torch.float64, grad_fn=<NllLossBackward0>)\n",
      "----------\n"
     ]
    },
    {
     "name": "stderr",
     "output_type": "stream",
     "text": [
      " 42%|██████████████▏                   | 4191/10000 [1:10:38<1:32:33,  1.05it/s]"
     ]
    },
    {
     "name": "stdout",
     "output_type": "stream",
     "text": [
      "train test\n",
      "tensor(0.2346, dtype=torch.float64, grad_fn=<NllLossBackward0>)\n",
      "tensor(11.5940, dtype=torch.float64, grad_fn=<NllLossBackward0>)\n",
      "----------\n"
     ]
    },
    {
     "name": "stderr",
     "output_type": "stream",
     "text": [
      " 42%|██████████████▎                   | 4201/10000 [1:10:47<1:33:27,  1.03it/s]"
     ]
    },
    {
     "name": "stdout",
     "output_type": "stream",
     "text": [
      "train test\n",
      "tensor(0.2355, dtype=torch.float64, grad_fn=<NllLossBackward0>)\n",
      "tensor(11.5663, dtype=torch.float64, grad_fn=<NllLossBackward0>)\n",
      "----------\n"
     ]
    },
    {
     "name": "stderr",
     "output_type": "stream",
     "text": [
      " 42%|██████████████▎                   | 4211/10000 [1:10:57<1:33:44,  1.03it/s]"
     ]
    },
    {
     "name": "stdout",
     "output_type": "stream",
     "text": [
      "train test\n",
      "tensor(0.2357, dtype=torch.float64, grad_fn=<NllLossBackward0>)\n",
      "tensor(11.5616, dtype=torch.float64, grad_fn=<NllLossBackward0>)\n",
      "----------\n"
     ]
    },
    {
     "name": "stderr",
     "output_type": "stream",
     "text": [
      " 42%|██████████████▎                   | 4221/10000 [1:11:07<1:33:57,  1.03it/s]"
     ]
    },
    {
     "name": "stdout",
     "output_type": "stream",
     "text": [
      "train test\n",
      "tensor(0.2352, dtype=torch.float64, grad_fn=<NllLossBackward0>)\n",
      "tensor(11.5784, dtype=torch.float64, grad_fn=<NllLossBackward0>)\n",
      "----------\n"
     ]
    },
    {
     "name": "stderr",
     "output_type": "stream",
     "text": [
      " 42%|██████████████▍                   | 4231/10000 [1:11:17<1:32:58,  1.03it/s]"
     ]
    },
    {
     "name": "stdout",
     "output_type": "stream",
     "text": [
      "train test\n",
      "tensor(0.2335, dtype=torch.float64, grad_fn=<NllLossBackward0>)\n",
      "tensor(11.6100, dtype=torch.float64, grad_fn=<NllLossBackward0>)\n",
      "----------\n"
     ]
    },
    {
     "name": "stderr",
     "output_type": "stream",
     "text": [
      " 42%|██████████████▍                   | 4241/10000 [1:11:27<1:33:38,  1.02it/s]"
     ]
    },
    {
     "name": "stdout",
     "output_type": "stream",
     "text": [
      "train test\n",
      "tensor(0.2411, dtype=torch.float64, grad_fn=<NllLossBackward0>)\n",
      "tensor(11.6105, dtype=torch.float64, grad_fn=<NllLossBackward0>)\n",
      "----------\n"
     ]
    },
    {
     "name": "stderr",
     "output_type": "stream",
     "text": [
      " 43%|██████████████▍                   | 4251/10000 [1:11:36<1:33:28,  1.03it/s]"
     ]
    },
    {
     "name": "stdout",
     "output_type": "stream",
     "text": [
      "train test\n",
      "tensor(0.2376, dtype=torch.float64, grad_fn=<NllLossBackward0>)\n",
      "tensor(11.5196, dtype=torch.float64, grad_fn=<NllLossBackward0>)\n",
      "----------\n"
     ]
    },
    {
     "name": "stderr",
     "output_type": "stream",
     "text": [
      " 43%|██████████████▍                   | 4261/10000 [1:11:46<1:31:51,  1.04it/s]"
     ]
    },
    {
     "name": "stdout",
     "output_type": "stream",
     "text": [
      "train test\n",
      "tensor(0.2420, dtype=torch.float64, grad_fn=<NllLossBackward0>)\n",
      "tensor(11.4450, dtype=torch.float64, grad_fn=<NllLossBackward0>)\n",
      "----------\n"
     ]
    },
    {
     "name": "stderr",
     "output_type": "stream",
     "text": [
      " 43%|██████████████▌                   | 4271/10000 [1:11:56<1:33:30,  1.02it/s]"
     ]
    },
    {
     "name": "stdout",
     "output_type": "stream",
     "text": [
      "train test\n",
      "tensor(0.2442, dtype=torch.float64, grad_fn=<NllLossBackward0>)\n",
      "tensor(11.3804, dtype=torch.float64, grad_fn=<NllLossBackward0>)\n",
      "----------\n"
     ]
    },
    {
     "name": "stderr",
     "output_type": "stream",
     "text": [
      " 43%|██████████████▌                   | 4281/10000 [1:12:05<1:32:26,  1.03it/s]"
     ]
    },
    {
     "name": "stdout",
     "output_type": "stream",
     "text": [
      "train test\n",
      "tensor(0.2458, dtype=torch.float64, grad_fn=<NllLossBackward0>)\n",
      "tensor(11.3495, dtype=torch.float64, grad_fn=<NllLossBackward0>)\n",
      "----------\n"
     ]
    },
    {
     "name": "stderr",
     "output_type": "stream",
     "text": [
      " 43%|██████████████▌                   | 4291/10000 [1:12:15<1:32:58,  1.02it/s]"
     ]
    },
    {
     "name": "stdout",
     "output_type": "stream",
     "text": [
      "train test\n",
      "tensor(0.2461, dtype=torch.float64, grad_fn=<NllLossBackward0>)\n",
      "tensor(11.3489, dtype=torch.float64, grad_fn=<NllLossBackward0>)\n",
      "----------\n"
     ]
    },
    {
     "name": "stderr",
     "output_type": "stream",
     "text": [
      " 43%|██████████████▌                   | 4301/10000 [1:12:25<1:32:09,  1.03it/s]"
     ]
    },
    {
     "name": "stdout",
     "output_type": "stream",
     "text": [
      "train test\n",
      "tensor(0.2454, dtype=torch.float64, grad_fn=<NllLossBackward0>)\n",
      "tensor(11.3660, dtype=torch.float64, grad_fn=<NllLossBackward0>)\n",
      "----------\n"
     ]
    },
    {
     "name": "stderr",
     "output_type": "stream",
     "text": [
      " 43%|██████████████▋                   | 4311/10000 [1:12:35<1:32:25,  1.03it/s]"
     ]
    },
    {
     "name": "stdout",
     "output_type": "stream",
     "text": [
      "train test\n",
      "tensor(0.2436, dtype=torch.float64, grad_fn=<NllLossBackward0>)\n",
      "tensor(11.4084, dtype=torch.float64, grad_fn=<NllLossBackward0>)\n",
      "----------\n"
     ]
    },
    {
     "name": "stderr",
     "output_type": "stream",
     "text": [
      " 43%|██████████████▋                   | 4321/10000 [1:12:44<1:32:53,  1.02it/s]"
     ]
    },
    {
     "name": "stdout",
     "output_type": "stream",
     "text": [
      "train test\n",
      "tensor(0.2413, dtype=torch.float64, grad_fn=<NllLossBackward0>)\n",
      "tensor(11.4599, dtype=torch.float64, grad_fn=<NllLossBackward0>)\n",
      "----------\n"
     ]
    },
    {
     "name": "stderr",
     "output_type": "stream",
     "text": [
      " 43%|██████████████▋                   | 4331/10000 [1:12:54<1:32:10,  1.03it/s]"
     ]
    },
    {
     "name": "stdout",
     "output_type": "stream",
     "text": [
      "train test\n",
      "tensor(0.2434, dtype=torch.float64, grad_fn=<NllLossBackward0>)\n",
      "tensor(11.4862, dtype=torch.float64, grad_fn=<NllLossBackward0>)\n",
      "----------\n"
     ]
    },
    {
     "name": "stderr",
     "output_type": "stream",
     "text": [
      " 43%|██████████████▊                   | 4341/10000 [1:13:04<1:32:04,  1.02it/s]"
     ]
    },
    {
     "name": "stdout",
     "output_type": "stream",
     "text": [
      "train test\n",
      "tensor(0.2400, dtype=torch.float64, grad_fn=<NllLossBackward0>)\n",
      "tensor(11.4828, dtype=torch.float64, grad_fn=<NllLossBackward0>)\n",
      "----------\n"
     ]
    },
    {
     "name": "stderr",
     "output_type": "stream",
     "text": [
      " 44%|██████████████▊                   | 4351/10000 [1:13:13<1:31:07,  1.03it/s]"
     ]
    },
    {
     "name": "stdout",
     "output_type": "stream",
     "text": [
      "train test\n",
      "tensor(0.2414, dtype=torch.float64, grad_fn=<NllLossBackward0>)\n",
      "tensor(11.4789, dtype=torch.float64, grad_fn=<NllLossBackward0>)\n",
      "----------\n"
     ]
    },
    {
     "name": "stderr",
     "output_type": "stream",
     "text": [
      " 44%|██████████████▊                   | 4361/10000 [1:13:23<1:31:27,  1.03it/s]"
     ]
    },
    {
     "name": "stdout",
     "output_type": "stream",
     "text": [
      "train test\n",
      "tensor(0.2403, dtype=torch.float64, grad_fn=<NllLossBackward0>)\n",
      "tensor(11.4791, dtype=torch.float64, grad_fn=<NllLossBackward0>)\n",
      "----------\n"
     ]
    },
    {
     "name": "stderr",
     "output_type": "stream",
     "text": [
      " 44%|██████████████▊                   | 4371/10000 [1:13:33<1:30:56,  1.03it/s]"
     ]
    },
    {
     "name": "stdout",
     "output_type": "stream",
     "text": [
      "train test\n",
      "tensor(0.2395, dtype=torch.float64, grad_fn=<NllLossBackward0>)\n",
      "tensor(11.4928, dtype=torch.float64, grad_fn=<NllLossBackward0>)\n",
      "----------\n"
     ]
    },
    {
     "name": "stderr",
     "output_type": "stream",
     "text": [
      " 44%|██████████████▉                   | 4381/10000 [1:13:42<1:30:47,  1.03it/s]"
     ]
    },
    {
     "name": "stdout",
     "output_type": "stream",
     "text": [
      "train test\n",
      "tensor(0.2378, dtype=torch.float64, grad_fn=<NllLossBackward0>)\n",
      "tensor(11.5330, dtype=torch.float64, grad_fn=<NllLossBackward0>)\n",
      "----------\n"
     ]
    },
    {
     "name": "stderr",
     "output_type": "stream",
     "text": [
      " 44%|██████████████▉                   | 4391/10000 [1:13:52<1:30:26,  1.03it/s]"
     ]
    },
    {
     "name": "stdout",
     "output_type": "stream",
     "text": [
      "train test\n",
      "tensor(0.2356, dtype=torch.float64, grad_fn=<NllLossBackward0>)\n",
      "tensor(11.5748, dtype=torch.float64, grad_fn=<NllLossBackward0>)\n",
      "----------\n"
     ]
    },
    {
     "name": "stderr",
     "output_type": "stream",
     "text": [
      " 44%|██████████████▉                   | 4401/10000 [1:14:02<1:30:00,  1.04it/s]"
     ]
    },
    {
     "name": "stdout",
     "output_type": "stream",
     "text": [
      "train test\n",
      "tensor(0.2351, dtype=torch.float64, grad_fn=<NllLossBackward0>)\n",
      "tensor(11.5819, dtype=torch.float64, grad_fn=<NllLossBackward0>)\n",
      "----------\n"
     ]
    },
    {
     "name": "stderr",
     "output_type": "stream",
     "text": [
      " 44%|██████████████▉                   | 4411/10000 [1:14:11<1:30:19,  1.03it/s]"
     ]
    },
    {
     "name": "stdout",
     "output_type": "stream",
     "text": [
      "train test\n",
      "tensor(0.2391, dtype=torch.float64, grad_fn=<NllLossBackward0>)\n",
      "tensor(11.5411, dtype=torch.float64, grad_fn=<NllLossBackward0>)\n",
      "----------\n"
     ]
    },
    {
     "name": "stderr",
     "output_type": "stream",
     "text": [
      " 44%|███████████████                   | 4421/10000 [1:14:21<1:29:31,  1.04it/s]"
     ]
    },
    {
     "name": "stdout",
     "output_type": "stream",
     "text": [
      "train test\n",
      "tensor(0.2404, dtype=torch.float64, grad_fn=<NllLossBackward0>)\n",
      "tensor(11.4749, dtype=torch.float64, grad_fn=<NllLossBackward0>)\n",
      "----------\n"
     ]
    },
    {
     "name": "stderr",
     "output_type": "stream",
     "text": [
      " 44%|███████████████                   | 4431/10000 [1:14:31<1:29:14,  1.04it/s]"
     ]
    },
    {
     "name": "stdout",
     "output_type": "stream",
     "text": [
      "train test\n",
      "tensor(0.2423, dtype=torch.float64, grad_fn=<NllLossBackward0>)\n",
      "tensor(11.4253, dtype=torch.float64, grad_fn=<NllLossBackward0>)\n",
      "----------\n"
     ]
    },
    {
     "name": "stderr",
     "output_type": "stream",
     "text": [
      " 44%|███████████████                   | 4441/10000 [1:14:41<1:29:57,  1.03it/s]"
     ]
    },
    {
     "name": "stdout",
     "output_type": "stream",
     "text": [
      "train test\n",
      "tensor(0.2437, dtype=torch.float64, grad_fn=<NllLossBackward0>)\n",
      "tensor(11.3934, dtype=torch.float64, grad_fn=<NllLossBackward0>)\n",
      "----------\n"
     ]
    },
    {
     "name": "stderr",
     "output_type": "stream",
     "text": [
      " 45%|███████████████▏                  | 4451/10000 [1:14:50<1:30:30,  1.02it/s]"
     ]
    },
    {
     "name": "stdout",
     "output_type": "stream",
     "text": [
      "train test\n",
      "tensor(0.2437, dtype=torch.float64, grad_fn=<NllLossBackward0>)\n",
      "tensor(11.3967, dtype=torch.float64, grad_fn=<NllLossBackward0>)\n",
      "----------\n"
     ]
    },
    {
     "name": "stderr",
     "output_type": "stream",
     "text": [
      " 45%|███████████████▏                  | 4461/10000 [1:15:00<1:30:57,  1.01it/s]"
     ]
    },
    {
     "name": "stdout",
     "output_type": "stream",
     "text": [
      "train test\n",
      "tensor(0.2428, dtype=torch.float64, grad_fn=<NllLossBackward0>)\n",
      "tensor(11.4147, dtype=torch.float64, grad_fn=<NllLossBackward0>)\n",
      "----------\n"
     ]
    },
    {
     "name": "stderr",
     "output_type": "stream",
     "text": [
      " 45%|███████████████▏                  | 4471/10000 [1:15:10<1:29:30,  1.03it/s]"
     ]
    },
    {
     "name": "stdout",
     "output_type": "stream",
     "text": [
      "train test\n",
      "tensor(0.2411, dtype=torch.float64, grad_fn=<NllLossBackward0>)\n",
      "tensor(11.4515, dtype=torch.float64, grad_fn=<NllLossBackward0>)\n",
      "----------\n"
     ]
    },
    {
     "name": "stderr",
     "output_type": "stream",
     "text": [
      " 45%|███████████████▏                  | 4481/10000 [1:15:20<1:29:07,  1.03it/s]"
     ]
    },
    {
     "name": "stdout",
     "output_type": "stream",
     "text": [
      "train test\n",
      "tensor(0.2446, dtype=torch.float64, grad_fn=<NllLossBackward0>)\n",
      "tensor(11.4974, dtype=torch.float64, grad_fn=<NllLossBackward0>)\n",
      "----------\n"
     ]
    },
    {
     "name": "stderr",
     "output_type": "stream",
     "text": [
      " 45%|███████████████▎                  | 4491/10000 [1:15:29<1:29:40,  1.02it/s]"
     ]
    },
    {
     "name": "stdout",
     "output_type": "stream",
     "text": [
      "train test\n",
      "tensor(0.2416, dtype=torch.float64, grad_fn=<NllLossBackward0>)\n",
      "tensor(11.4729, dtype=torch.float64, grad_fn=<NllLossBackward0>)\n",
      "----------\n"
     ]
    },
    {
     "name": "stderr",
     "output_type": "stream",
     "text": [
      " 45%|███████████████▎                  | 4501/10000 [1:15:39<1:27:58,  1.04it/s]"
     ]
    },
    {
     "name": "stdout",
     "output_type": "stream",
     "text": [
      "train test\n",
      "tensor(0.2420, dtype=torch.float64, grad_fn=<NllLossBackward0>)\n",
      "tensor(11.4497, dtype=torch.float64, grad_fn=<NllLossBackward0>)\n",
      "----------\n"
     ]
    },
    {
     "name": "stderr",
     "output_type": "stream",
     "text": [
      " 45%|███████████████▎                  | 4511/10000 [1:15:49<1:28:23,  1.03it/s]"
     ]
    },
    {
     "name": "stdout",
     "output_type": "stream",
     "text": [
      "train test\n",
      "tensor(0.2421, dtype=torch.float64, grad_fn=<NllLossBackward0>)\n",
      "tensor(11.4344, dtype=torch.float64, grad_fn=<NllLossBackward0>)\n",
      "----------\n"
     ]
    },
    {
     "name": "stderr",
     "output_type": "stream",
     "text": [
      " 45%|███████████████▎                  | 4521/10000 [1:15:58<1:28:35,  1.03it/s]"
     ]
    },
    {
     "name": "stdout",
     "output_type": "stream",
     "text": [
      "train test\n",
      "tensor(0.2422, dtype=torch.float64, grad_fn=<NllLossBackward0>)\n",
      "tensor(11.4314, dtype=torch.float64, grad_fn=<NllLossBackward0>)\n",
      "----------\n"
     ]
    },
    {
     "name": "stderr",
     "output_type": "stream",
     "text": [
      " 45%|███████████████▍                  | 4531/10000 [1:16:08<1:28:37,  1.03it/s]"
     ]
    },
    {
     "name": "stdout",
     "output_type": "stream",
     "text": [
      "train test\n",
      "tensor(0.2412, dtype=torch.float64, grad_fn=<NllLossBackward0>)\n",
      "tensor(11.4526, dtype=torch.float64, grad_fn=<NllLossBackward0>)\n",
      "----------\n"
     ]
    },
    {
     "name": "stderr",
     "output_type": "stream",
     "text": [
      " 45%|███████████████▍                  | 4541/10000 [1:16:18<1:27:58,  1.03it/s]"
     ]
    },
    {
     "name": "stdout",
     "output_type": "stream",
     "text": [
      "train test\n",
      "tensor(0.2394, dtype=torch.float64, grad_fn=<NllLossBackward0>)\n",
      "tensor(11.4905, dtype=torch.float64, grad_fn=<NllLossBackward0>)\n",
      "----------\n"
     ]
    },
    {
     "name": "stderr",
     "output_type": "stream",
     "text": [
      " 46%|███████████████▍                  | 4551/10000 [1:16:28<1:28:37,  1.02it/s]"
     ]
    },
    {
     "name": "stdout",
     "output_type": "stream",
     "text": [
      "train test\n",
      "tensor(0.2460, dtype=torch.float64, grad_fn=<NllLossBackward0>)\n",
      "tensor(11.5535, dtype=torch.float64, grad_fn=<NllLossBackward0>)\n",
      "----------\n"
     ]
    },
    {
     "name": "stderr",
     "output_type": "stream",
     "text": [
      " 46%|███████████████▌                  | 4561/10000 [1:16:37<1:28:31,  1.02it/s]"
     ]
    },
    {
     "name": "stdout",
     "output_type": "stream",
     "text": [
      "train test\n",
      "tensor(0.2385, dtype=torch.float64, grad_fn=<NllLossBackward0>)\n",
      "tensor(11.5227, dtype=torch.float64, grad_fn=<NllLossBackward0>)\n",
      "----------\n"
     ]
    },
    {
     "name": "stderr",
     "output_type": "stream",
     "text": [
      " 46%|███████████████▌                  | 4571/10000 [1:16:47<1:27:54,  1.03it/s]"
     ]
    },
    {
     "name": "stdout",
     "output_type": "stream",
     "text": [
      "train test\n",
      "tensor(0.2390, dtype=torch.float64, grad_fn=<NllLossBackward0>)\n",
      "tensor(11.4989, dtype=torch.float64, grad_fn=<NllLossBackward0>)\n",
      "----------\n"
     ]
    },
    {
     "name": "stderr",
     "output_type": "stream",
     "text": [
      " 46%|███████████████▌                  | 4581/10000 [1:16:57<1:28:38,  1.02it/s]"
     ]
    },
    {
     "name": "stdout",
     "output_type": "stream",
     "text": [
      "train test\n",
      "tensor(0.2391, dtype=torch.float64, grad_fn=<NllLossBackward0>)\n",
      "tensor(11.4951, dtype=torch.float64, grad_fn=<NllLossBackward0>)\n",
      "----------\n"
     ]
    },
    {
     "name": "stderr",
     "output_type": "stream",
     "text": [
      " 46%|███████████████▌                  | 4591/10000 [1:17:07<1:26:33,  1.04it/s]"
     ]
    },
    {
     "name": "stdout",
     "output_type": "stream",
     "text": [
      "train test\n",
      "tensor(0.2385, dtype=torch.float64, grad_fn=<NllLossBackward0>)\n",
      "tensor(11.5037, dtype=torch.float64, grad_fn=<NllLossBackward0>)\n",
      "----------\n"
     ]
    },
    {
     "name": "stderr",
     "output_type": "stream",
     "text": [
      " 46%|███████████████▋                  | 4601/10000 [1:17:16<1:27:03,  1.03it/s]"
     ]
    },
    {
     "name": "stdout",
     "output_type": "stream",
     "text": [
      "train test\n",
      "tensor(0.2377, dtype=torch.float64, grad_fn=<NllLossBackward0>)\n",
      "tensor(11.5395, dtype=torch.float64, grad_fn=<NllLossBackward0>)\n",
      "----------\n"
     ]
    },
    {
     "name": "stderr",
     "output_type": "stream",
     "text": [
      " 46%|███████████████▋                  | 4611/10000 [1:17:26<1:27:02,  1.03it/s]"
     ]
    },
    {
     "name": "stdout",
     "output_type": "stream",
     "text": [
      "train test\n",
      "tensor(0.2367, dtype=torch.float64, grad_fn=<NllLossBackward0>)\n",
      "tensor(11.5486, dtype=torch.float64, grad_fn=<NllLossBackward0>)\n",
      "----------\n"
     ]
    },
    {
     "name": "stderr",
     "output_type": "stream",
     "text": [
      " 46%|███████████████▋                  | 4621/10000 [1:17:36<1:26:32,  1.04it/s]"
     ]
    },
    {
     "name": "stdout",
     "output_type": "stream",
     "text": [
      "train test\n",
      "tensor(0.2355, dtype=torch.float64, grad_fn=<NllLossBackward0>)\n",
      "tensor(11.5792, dtype=torch.float64, grad_fn=<NllLossBackward0>)\n",
      "----------\n"
     ]
    },
    {
     "name": "stderr",
     "output_type": "stream",
     "text": [
      " 46%|███████████████▋                  | 4631/10000 [1:17:46<1:29:18,  1.00it/s]"
     ]
    },
    {
     "name": "stdout",
     "output_type": "stream",
     "text": [
      "train test\n",
      "tensor(0.2344, dtype=torch.float64, grad_fn=<NllLossBackward0>)\n",
      "tensor(11.5961, dtype=torch.float64, grad_fn=<NllLossBackward0>)\n",
      "----------\n"
     ]
    },
    {
     "name": "stderr",
     "output_type": "stream",
     "text": [
      " 46%|███████████████▊                  | 4641/10000 [1:17:55<1:27:03,  1.03it/s]"
     ]
    },
    {
     "name": "stdout",
     "output_type": "stream",
     "text": [
      "train test\n",
      "tensor(0.2369, dtype=torch.float64, grad_fn=<NllLossBackward0>)\n",
      "tensor(11.6260, dtype=torch.float64, grad_fn=<NllLossBackward0>)\n",
      "----------\n"
     ]
    },
    {
     "name": "stderr",
     "output_type": "stream",
     "text": [
      " 47%|███████████████▊                  | 4651/10000 [1:18:05<1:26:46,  1.03it/s]"
     ]
    },
    {
     "name": "stdout",
     "output_type": "stream",
     "text": [
      "train test\n",
      "tensor(0.2332, dtype=torch.float64, grad_fn=<NllLossBackward0>)\n",
      "tensor(11.6268, dtype=torch.float64, grad_fn=<NllLossBackward0>)\n",
      "----------\n"
     ]
    },
    {
     "name": "stderr",
     "output_type": "stream",
     "text": [
      " 47%|███████████████▊                  | 4661/10000 [1:18:15<1:25:37,  1.04it/s]"
     ]
    },
    {
     "name": "stdout",
     "output_type": "stream",
     "text": [
      "train test\n",
      "tensor(0.2332, dtype=torch.float64, grad_fn=<NllLossBackward0>)\n",
      "tensor(11.6363, dtype=torch.float64, grad_fn=<NllLossBackward0>)\n",
      "----------\n"
     ]
    },
    {
     "name": "stderr",
     "output_type": "stream",
     "text": [
      " 47%|███████████████▉                  | 4671/10000 [1:18:24<1:26:28,  1.03it/s]"
     ]
    },
    {
     "name": "stdout",
     "output_type": "stream",
     "text": [
      "train test\n",
      "tensor(0.2322, dtype=torch.float64, grad_fn=<NllLossBackward0>)\n",
      "tensor(11.6495, dtype=torch.float64, grad_fn=<NllLossBackward0>)\n",
      "----------\n"
     ]
    },
    {
     "name": "stderr",
     "output_type": "stream",
     "text": [
      " 47%|███████████████▉                  | 4681/10000 [1:18:34<1:26:33,  1.02it/s]"
     ]
    },
    {
     "name": "stdout",
     "output_type": "stream",
     "text": [
      "train test\n",
      "tensor(0.2318, dtype=torch.float64, grad_fn=<NllLossBackward0>)\n",
      "tensor(11.6700, dtype=torch.float64, grad_fn=<NllLossBackward0>)\n",
      "----------\n"
     ]
    },
    {
     "name": "stderr",
     "output_type": "stream",
     "text": [
      " 47%|███████████████▉                  | 4691/10000 [1:18:44<1:26:18,  1.03it/s]"
     ]
    },
    {
     "name": "stdout",
     "output_type": "stream",
     "text": [
      "train test\n",
      "tensor(0.2311, dtype=torch.float64, grad_fn=<NllLossBackward0>)\n",
      "tensor(11.6896, dtype=torch.float64, grad_fn=<NllLossBackward0>)\n",
      "----------\n"
     ]
    },
    {
     "name": "stderr",
     "output_type": "stream",
     "text": [
      " 47%|███████████████▉                  | 4701/10000 [1:18:54<1:26:59,  1.02it/s]"
     ]
    },
    {
     "name": "stdout",
     "output_type": "stream",
     "text": [
      "train test\n",
      "tensor(0.2355, dtype=torch.float64, grad_fn=<NllLossBackward0>)\n",
      "tensor(11.6491, dtype=torch.float64, grad_fn=<NllLossBackward0>)\n",
      "----------\n"
     ]
    },
    {
     "name": "stderr",
     "output_type": "stream",
     "text": [
      " 47%|████████████████                  | 4711/10000 [1:19:03<1:26:11,  1.02it/s]"
     ]
    },
    {
     "name": "stdout",
     "output_type": "stream",
     "text": [
      "train test\n",
      "tensor(0.2351, dtype=torch.float64, grad_fn=<NllLossBackward0>)\n",
      "tensor(11.5962, dtype=torch.float64, grad_fn=<NllLossBackward0>)\n",
      "----------\n"
     ]
    },
    {
     "name": "stderr",
     "output_type": "stream",
     "text": [
      " 47%|████████████████                  | 4721/10000 [1:19:13<1:25:56,  1.02it/s]"
     ]
    },
    {
     "name": "stdout",
     "output_type": "stream",
     "text": [
      "train test\n",
      "tensor(0.2378, dtype=torch.float64, grad_fn=<NllLossBackward0>)\n",
      "tensor(11.5376, dtype=torch.float64, grad_fn=<NllLossBackward0>)\n",
      "----------\n"
     ]
    },
    {
     "name": "stderr",
     "output_type": "stream",
     "text": [
      " 47%|████████████████                  | 4731/10000 [1:19:23<1:25:04,  1.03it/s]"
     ]
    },
    {
     "name": "stdout",
     "output_type": "stream",
     "text": [
      "train test\n",
      "tensor(0.2395, dtype=torch.float64, grad_fn=<NllLossBackward0>)\n",
      "tensor(11.4939, dtype=torch.float64, grad_fn=<NllLossBackward0>)\n",
      "----------\n"
     ]
    },
    {
     "name": "stderr",
     "output_type": "stream",
     "text": [
      " 47%|████████████████                  | 4741/10000 [1:19:33<1:24:16,  1.04it/s]"
     ]
    },
    {
     "name": "stdout",
     "output_type": "stream",
     "text": [
      "train test\n",
      "tensor(0.2400, dtype=torch.float64, grad_fn=<NllLossBackward0>)\n",
      "tensor(11.4795, dtype=torch.float64, grad_fn=<NllLossBackward0>)\n",
      "----------\n"
     ]
    },
    {
     "name": "stderr",
     "output_type": "stream",
     "text": [
      " 48%|████████████████▏                 | 4751/10000 [1:19:42<1:25:09,  1.03it/s]"
     ]
    },
    {
     "name": "stdout",
     "output_type": "stream",
     "text": [
      "train test\n",
      "tensor(0.2398, dtype=torch.float64, grad_fn=<NllLossBackward0>)\n",
      "tensor(11.4837, dtype=torch.float64, grad_fn=<NllLossBackward0>)\n",
      "----------\n"
     ]
    },
    {
     "name": "stderr",
     "output_type": "stream",
     "text": [
      " 48%|████████████████▏                 | 4761/10000 [1:19:52<1:24:59,  1.03it/s]"
     ]
    },
    {
     "name": "stdout",
     "output_type": "stream",
     "text": [
      "train test\n",
      "tensor(0.2386, dtype=torch.float64, grad_fn=<NllLossBackward0>)\n",
      "tensor(11.5090, dtype=torch.float64, grad_fn=<NllLossBackward0>)\n",
      "----------\n"
     ]
    },
    {
     "name": "stderr",
     "output_type": "stream",
     "text": [
      " 48%|████████████████▏                 | 4771/10000 [1:20:02<1:25:06,  1.02it/s]"
     ]
    },
    {
     "name": "stdout",
     "output_type": "stream",
     "text": [
      "train test\n",
      "tensor(0.2366, dtype=torch.float64, grad_fn=<NllLossBackward0>)\n",
      "tensor(11.5563, dtype=torch.float64, grad_fn=<NllLossBackward0>)\n",
      "----------\n"
     ]
    },
    {
     "name": "stderr",
     "output_type": "stream",
     "text": [
      " 48%|████████████████▎                 | 4781/10000 [1:20:11<1:23:08,  1.05it/s]"
     ]
    },
    {
     "name": "stdout",
     "output_type": "stream",
     "text": [
      "train test\n",
      "tensor(0.2408, dtype=torch.float64, grad_fn=<NllLossBackward0>)\n",
      "tensor(11.6167, dtype=torch.float64, grad_fn=<NllLossBackward0>)\n",
      "----------\n"
     ]
    },
    {
     "name": "stderr",
     "output_type": "stream",
     "text": [
      " 48%|████████████████▎                 | 4791/10000 [1:20:21<1:23:42,  1.04it/s]"
     ]
    },
    {
     "name": "stdout",
     "output_type": "stream",
     "text": [
      "train test\n",
      "tensor(0.2604, dtype=torch.float64, grad_fn=<NllLossBackward0>)\n",
      "tensor(11.5159, dtype=torch.float64, grad_fn=<NllLossBackward0>)\n",
      "----------\n"
     ]
    },
    {
     "name": "stderr",
     "output_type": "stream",
     "text": [
      " 48%|████████████████▎                 | 4801/10000 [1:20:31<1:24:34,  1.02it/s]"
     ]
    },
    {
     "name": "stdout",
     "output_type": "stream",
     "text": [
      "train test\n",
      "tensor(0.2526, dtype=torch.float64, grad_fn=<NllLossBackward0>)\n",
      "tensor(11.3281, dtype=torch.float64, grad_fn=<NllLossBackward0>)\n",
      "----------\n"
     ]
    },
    {
     "name": "stderr",
     "output_type": "stream",
     "text": [
      " 48%|████████████████▎                 | 4811/10000 [1:20:41<1:23:44,  1.03it/s]"
     ]
    },
    {
     "name": "stdout",
     "output_type": "stream",
     "text": [
      "train test\n",
      "tensor(0.2559, dtype=torch.float64, grad_fn=<NllLossBackward0>)\n",
      "tensor(11.1939, dtype=torch.float64, grad_fn=<NllLossBackward0>)\n",
      "----------\n"
     ]
    },
    {
     "name": "stderr",
     "output_type": "stream",
     "text": [
      " 48%|████████████████▍                 | 4821/10000 [1:20:50<1:24:15,  1.02it/s]"
     ]
    },
    {
     "name": "stdout",
     "output_type": "stream",
     "text": [
      "train test\n",
      "tensor(0.2600, dtype=torch.float64, grad_fn=<NllLossBackward0>)\n",
      "tensor(11.0861, dtype=torch.float64, grad_fn=<NllLossBackward0>)\n",
      "----------\n"
     ]
    },
    {
     "name": "stderr",
     "output_type": "stream",
     "text": [
      " 48%|████████████████▍                 | 4831/10000 [1:21:00<1:24:02,  1.03it/s]"
     ]
    },
    {
     "name": "stdout",
     "output_type": "stream",
     "text": [
      "train test\n",
      "tensor(0.2633, dtype=torch.float64, grad_fn=<NllLossBackward0>)\n",
      "tensor(11.0182, dtype=torch.float64, grad_fn=<NllLossBackward0>)\n",
      "----------\n"
     ]
    },
    {
     "name": "stderr",
     "output_type": "stream",
     "text": [
      " 48%|████████████████▍                 | 4841/10000 [1:21:10<1:23:13,  1.03it/s]"
     ]
    },
    {
     "name": "stdout",
     "output_type": "stream",
     "text": [
      "train test\n",
      "tensor(0.2653, dtype=torch.float64, grad_fn=<NllLossBackward0>)\n",
      "tensor(10.9871, dtype=torch.float64, grad_fn=<NllLossBackward0>)\n",
      "----------\n"
     ]
    },
    {
     "name": "stderr",
     "output_type": "stream",
     "text": [
      " 49%|████████████████▍                 | 4851/10000 [1:21:19<1:23:33,  1.03it/s]"
     ]
    },
    {
     "name": "stdout",
     "output_type": "stream",
     "text": [
      "train test\n",
      "tensor(0.2658, dtype=torch.float64, grad_fn=<NllLossBackward0>)\n",
      "tensor(10.9802, dtype=torch.float64, grad_fn=<NllLossBackward0>)\n",
      "----------\n"
     ]
    },
    {
     "name": "stderr",
     "output_type": "stream",
     "text": [
      " 49%|████████████████▌                 | 4861/10000 [1:21:29<1:22:48,  1.03it/s]"
     ]
    },
    {
     "name": "stdout",
     "output_type": "stream",
     "text": [
      "train test\n",
      "tensor(0.2651, dtype=torch.float64, grad_fn=<NllLossBackward0>)\n",
      "tensor(10.9984, dtype=torch.float64, grad_fn=<NllLossBackward0>)\n",
      "----------\n"
     ]
    },
    {
     "name": "stderr",
     "output_type": "stream",
     "text": [
      " 49%|████████████████▌                 | 4871/10000 [1:21:39<1:23:44,  1.02it/s]"
     ]
    },
    {
     "name": "stdout",
     "output_type": "stream",
     "text": [
      "train test\n",
      "tensor(0.2633, dtype=torch.float64, grad_fn=<NllLossBackward0>)\n",
      "tensor(11.0319, dtype=torch.float64, grad_fn=<NllLossBackward0>)\n",
      "----------\n"
     ]
    },
    {
     "name": "stderr",
     "output_type": "stream",
     "text": [
      " 49%|████████████████▌                 | 4881/10000 [1:21:49<1:22:59,  1.03it/s]"
     ]
    },
    {
     "name": "stdout",
     "output_type": "stream",
     "text": [
      "train test\n",
      "tensor(0.2608, dtype=torch.float64, grad_fn=<NllLossBackward0>)\n",
      "tensor(11.0842, dtype=torch.float64, grad_fn=<NllLossBackward0>)\n",
      "----------\n"
     ]
    },
    {
     "name": "stderr",
     "output_type": "stream",
     "text": [
      " 49%|████████████████▋                 | 4891/10000 [1:21:58<1:22:30,  1.03it/s]"
     ]
    },
    {
     "name": "stdout",
     "output_type": "stream",
     "text": [
      "train test\n",
      "tensor(0.2578, dtype=torch.float64, grad_fn=<NllLossBackward0>)\n",
      "tensor(11.1467, dtype=torch.float64, grad_fn=<NllLossBackward0>)\n",
      "----------\n"
     ]
    },
    {
     "name": "stderr",
     "output_type": "stream",
     "text": [
      " 49%|████████████████▋                 | 4901/10000 [1:22:08<1:22:34,  1.03it/s]"
     ]
    },
    {
     "name": "stdout",
     "output_type": "stream",
     "text": [
      "train test\n",
      "tensor(0.2543, dtype=torch.float64, grad_fn=<NllLossBackward0>)\n",
      "tensor(11.2139, dtype=torch.float64, grad_fn=<NllLossBackward0>)\n",
      "----------\n"
     ]
    },
    {
     "name": "stderr",
     "output_type": "stream",
     "text": [
      " 49%|████████████████▋                 | 4911/10000 [1:22:18<1:22:41,  1.03it/s]"
     ]
    },
    {
     "name": "stdout",
     "output_type": "stream",
     "text": [
      "train test\n",
      "tensor(0.2505, dtype=torch.float64, grad_fn=<NllLossBackward0>)\n",
      "tensor(11.2923, dtype=torch.float64, grad_fn=<NllLossBackward0>)\n",
      "----------\n"
     ]
    },
    {
     "name": "stderr",
     "output_type": "stream",
     "text": [
      " 49%|████████████████▋                 | 4921/10000 [1:22:27<1:22:04,  1.03it/s]"
     ]
    },
    {
     "name": "stdout",
     "output_type": "stream",
     "text": [
      "train test\n",
      "tensor(0.2523, dtype=torch.float64, grad_fn=<NllLossBackward0>)\n",
      "tensor(11.3736, dtype=torch.float64, grad_fn=<NllLossBackward0>)\n",
      "----------\n"
     ]
    },
    {
     "name": "stderr",
     "output_type": "stream",
     "text": [
      " 49%|████████████████▊                 | 4931/10000 [1:22:37<1:22:02,  1.03it/s]"
     ]
    },
    {
     "name": "stdout",
     "output_type": "stream",
     "text": [
      "train test\n",
      "tensor(0.2494, dtype=torch.float64, grad_fn=<NllLossBackward0>)\n",
      "tensor(11.3244, dtype=torch.float64, grad_fn=<NllLossBackward0>)\n",
      "----------\n"
     ]
    },
    {
     "name": "stderr",
     "output_type": "stream",
     "text": [
      " 49%|████████████████▊                 | 4941/10000 [1:22:47<1:23:22,  1.01it/s]"
     ]
    },
    {
     "name": "stdout",
     "output_type": "stream",
     "text": [
      "train test\n",
      "tensor(0.2526, dtype=torch.float64, grad_fn=<NllLossBackward0>)\n",
      "tensor(11.2729, dtype=torch.float64, grad_fn=<NllLossBackward0>)\n",
      "----------\n"
     ]
    },
    {
     "name": "stderr",
     "output_type": "stream",
     "text": [
      " 50%|████████████████▊                 | 4951/10000 [1:22:57<1:22:33,  1.02it/s]"
     ]
    },
    {
     "name": "stdout",
     "output_type": "stream",
     "text": [
      "train test\n",
      "tensor(0.2544, dtype=torch.float64, grad_fn=<NllLossBackward0>)\n",
      "tensor(11.2020, dtype=torch.float64, grad_fn=<NllLossBackward0>)\n",
      "----------\n"
     ]
    },
    {
     "name": "stderr",
     "output_type": "stream",
     "text": [
      " 50%|████████████████▊                 | 4961/10000 [1:23:06<1:20:57,  1.04it/s]"
     ]
    },
    {
     "name": "stdout",
     "output_type": "stream",
     "text": [
      "train test\n",
      "tensor(0.2567, dtype=torch.float64, grad_fn=<NllLossBackward0>)\n",
      "tensor(11.1596, dtype=torch.float64, grad_fn=<NllLossBackward0>)\n",
      "----------\n"
     ]
    },
    {
     "name": "stderr",
     "output_type": "stream",
     "text": [
      " 50%|████████████████▉                 | 4971/10000 [1:23:16<1:22:08,  1.02it/s]"
     ]
    },
    {
     "name": "stdout",
     "output_type": "stream",
     "text": [
      "train test\n",
      "tensor(0.2574, dtype=torch.float64, grad_fn=<NllLossBackward0>)\n",
      "tensor(11.1403, dtype=torch.float64, grad_fn=<NllLossBackward0>)\n",
      "----------\n"
     ]
    },
    {
     "name": "stderr",
     "output_type": "stream",
     "text": [
      " 50%|████████████████▉                 | 4981/10000 [1:23:26<1:21:17,  1.03it/s]"
     ]
    },
    {
     "name": "stdout",
     "output_type": "stream",
     "text": [
      "train test\n",
      "tensor(0.2570, dtype=torch.float64, grad_fn=<NllLossBackward0>)\n",
      "tensor(11.1552, dtype=torch.float64, grad_fn=<NllLossBackward0>)\n",
      "----------\n"
     ]
    },
    {
     "name": "stderr",
     "output_type": "stream",
     "text": [
      " 50%|████████████████▉                 | 4991/10000 [1:23:36<1:21:49,  1.02it/s]"
     ]
    },
    {
     "name": "stdout",
     "output_type": "stream",
     "text": [
      "train test\n",
      "tensor(0.2555, dtype=torch.float64, grad_fn=<NllLossBackward0>)\n",
      "tensor(11.1816, dtype=torch.float64, grad_fn=<NllLossBackward0>)\n",
      "----------\n"
     ]
    },
    {
     "name": "stderr",
     "output_type": "stream",
     "text": [
      " 50%|█████████████████                 | 5001/10000 [1:23:45<1:20:10,  1.04it/s]"
     ]
    },
    {
     "name": "stdout",
     "output_type": "stream",
     "text": [
      "train test\n",
      "tensor(0.2531, dtype=torch.float64, grad_fn=<NllLossBackward0>)\n",
      "tensor(11.2297, dtype=torch.float64, grad_fn=<NllLossBackward0>)\n",
      "----------\n"
     ]
    },
    {
     "name": "stderr",
     "output_type": "stream",
     "text": [
      " 50%|█████████████████                 | 5011/10000 [1:23:55<1:19:52,  1.04it/s]"
     ]
    },
    {
     "name": "stdout",
     "output_type": "stream",
     "text": [
      "train test\n",
      "tensor(0.2523, dtype=torch.float64, grad_fn=<NllLossBackward0>)\n",
      "tensor(11.2803, dtype=torch.float64, grad_fn=<NllLossBackward0>)\n",
      "----------\n"
     ]
    },
    {
     "name": "stderr",
     "output_type": "stream",
     "text": [
      " 50%|█████████████████                 | 5021/10000 [1:24:05<1:20:35,  1.03it/s]"
     ]
    },
    {
     "name": "stdout",
     "output_type": "stream",
     "text": [
      "train test\n",
      "tensor(0.2489, dtype=torch.float64, grad_fn=<NllLossBackward0>)\n",
      "tensor(11.3176, dtype=torch.float64, grad_fn=<NllLossBackward0>)\n",
      "----------\n"
     ]
    },
    {
     "name": "stderr",
     "output_type": "stream",
     "text": [
      " 50%|█████████████████                 | 5031/10000 [1:24:14<1:19:56,  1.04it/s]"
     ]
    },
    {
     "name": "stdout",
     "output_type": "stream",
     "text": [
      "train test\n",
      "tensor(0.2474, dtype=torch.float64, grad_fn=<NllLossBackward0>)\n",
      "tensor(11.3562, dtype=torch.float64, grad_fn=<NllLossBackward0>)\n",
      "----------\n"
     ]
    },
    {
     "name": "stderr",
     "output_type": "stream",
     "text": [
      " 50%|█████████████████▏                | 5041/10000 [1:24:24<1:20:58,  1.02it/s]"
     ]
    },
    {
     "name": "stdout",
     "output_type": "stream",
     "text": [
      "train test\n",
      "tensor(0.2447, dtype=torch.float64, grad_fn=<NllLossBackward0>)\n",
      "tensor(11.3990, dtype=torch.float64, grad_fn=<NllLossBackward0>)\n",
      "----------\n"
     ]
    },
    {
     "name": "stderr",
     "output_type": "stream",
     "text": [
      " 51%|█████████████████▏                | 5051/10000 [1:24:34<1:20:24,  1.03it/s]"
     ]
    },
    {
     "name": "stdout",
     "output_type": "stream",
     "text": [
      "train test\n",
      "tensor(0.2429, dtype=torch.float64, grad_fn=<NllLossBackward0>)\n",
      "tensor(11.4405, dtype=torch.float64, grad_fn=<NllLossBackward0>)\n",
      "----------\n"
     ]
    },
    {
     "name": "stderr",
     "output_type": "stream",
     "text": [
      " 51%|█████████████████▏                | 5061/10000 [1:24:43<1:20:31,  1.02it/s]"
     ]
    },
    {
     "name": "stdout",
     "output_type": "stream",
     "text": [
      "train test\n",
      "tensor(0.2415, dtype=torch.float64, grad_fn=<NllLossBackward0>)\n",
      "tensor(11.4841, dtype=torch.float64, grad_fn=<NllLossBackward0>)\n",
      "----------\n"
     ]
    },
    {
     "name": "stderr",
     "output_type": "stream",
     "text": [
      " 51%|█████████████████▏                | 5071/10000 [1:24:53<1:19:15,  1.04it/s]"
     ]
    },
    {
     "name": "stdout",
     "output_type": "stream",
     "text": [
      "train test\n",
      "tensor(0.2422, dtype=torch.float64, grad_fn=<NllLossBackward0>)\n",
      "tensor(11.4788, dtype=torch.float64, grad_fn=<NllLossBackward0>)\n",
      "----------\n"
     ]
    },
    {
     "name": "stderr",
     "output_type": "stream",
     "text": [
      " 51%|█████████████████▎                | 5081/10000 [1:25:03<1:19:46,  1.03it/s]"
     ]
    },
    {
     "name": "stdout",
     "output_type": "stream",
     "text": [
      "train test\n",
      "tensor(0.2430, dtype=torch.float64, grad_fn=<NllLossBackward0>)\n",
      "tensor(11.4686, dtype=torch.float64, grad_fn=<NllLossBackward0>)\n",
      "----------\n"
     ]
    },
    {
     "name": "stderr",
     "output_type": "stream",
     "text": [
      " 51%|█████████████████▎                | 5091/10000 [1:25:13<1:20:25,  1.02it/s]"
     ]
    },
    {
     "name": "stdout",
     "output_type": "stream",
     "text": [
      "train test\n",
      "tensor(0.2422, dtype=torch.float64, grad_fn=<NllLossBackward0>)\n",
      "tensor(11.4386, dtype=torch.float64, grad_fn=<NllLossBackward0>)\n",
      "----------\n"
     ]
    },
    {
     "name": "stderr",
     "output_type": "stream",
     "text": [
      " 51%|█████████████████▎                | 5101/10000 [1:25:22<1:19:18,  1.03it/s]"
     ]
    },
    {
     "name": "stdout",
     "output_type": "stream",
     "text": [
      "train test\n",
      "tensor(0.2435, dtype=torch.float64, grad_fn=<NllLossBackward0>)\n",
      "tensor(11.4308, dtype=torch.float64, grad_fn=<NllLossBackward0>)\n",
      "----------\n"
     ]
    },
    {
     "name": "stderr",
     "output_type": "stream",
     "text": [
      " 51%|█████████████████▍                | 5111/10000 [1:25:32<1:19:34,  1.02it/s]"
     ]
    },
    {
     "name": "stdout",
     "output_type": "stream",
     "text": [
      "train test\n",
      "tensor(0.2434, dtype=torch.float64, grad_fn=<NllLossBackward0>)\n",
      "tensor(11.4276, dtype=torch.float64, grad_fn=<NllLossBackward0>)\n",
      "----------\n"
     ]
    },
    {
     "name": "stderr",
     "output_type": "stream",
     "text": [
      " 51%|█████████████████▍                | 5121/10000 [1:25:42<1:18:39,  1.03it/s]"
     ]
    },
    {
     "name": "stdout",
     "output_type": "stream",
     "text": [
      "train test\n",
      "tensor(0.2421, dtype=torch.float64, grad_fn=<NllLossBackward0>)\n",
      "tensor(11.4468, dtype=torch.float64, grad_fn=<NllLossBackward0>)\n",
      "----------\n"
     ]
    },
    {
     "name": "stderr",
     "output_type": "stream",
     "text": [
      " 51%|█████████████████▍                | 5131/10000 [1:25:52<1:18:47,  1.03it/s]"
     ]
    },
    {
     "name": "stdout",
     "output_type": "stream",
     "text": [
      "train test\n",
      "tensor(0.2408, dtype=torch.float64, grad_fn=<NllLossBackward0>)\n",
      "tensor(11.4779, dtype=torch.float64, grad_fn=<NllLossBackward0>)\n",
      "----------\n"
     ]
    },
    {
     "name": "stderr",
     "output_type": "stream",
     "text": [
      " 51%|█████████████████▍                | 5141/10000 [1:26:01<1:19:30,  1.02it/s]"
     ]
    },
    {
     "name": "stdout",
     "output_type": "stream",
     "text": [
      "train test\n",
      "tensor(0.2385, dtype=torch.float64, grad_fn=<NllLossBackward0>)\n",
      "tensor(11.5269, dtype=torch.float64, grad_fn=<NllLossBackward0>)\n",
      "----------\n"
     ]
    },
    {
     "name": "stderr",
     "output_type": "stream",
     "text": [
      " 52%|█████████████████▌                | 5151/10000 [1:26:11<1:18:15,  1.03it/s]"
     ]
    },
    {
     "name": "stdout",
     "output_type": "stream",
     "text": [
      "train test\n",
      "tensor(0.2404, dtype=torch.float64, grad_fn=<NllLossBackward0>)\n",
      "tensor(11.5132, dtype=torch.float64, grad_fn=<NllLossBackward0>)\n",
      "----------\n"
     ]
    },
    {
     "name": "stderr",
     "output_type": "stream",
     "text": [
      " 52%|█████████████████▌                | 5161/10000 [1:26:21<1:19:33,  1.01it/s]"
     ]
    },
    {
     "name": "stdout",
     "output_type": "stream",
     "text": [
      "train test\n",
      "tensor(0.2438, dtype=torch.float64, grad_fn=<NllLossBackward0>)\n",
      "tensor(11.4637, dtype=torch.float64, grad_fn=<NllLossBackward0>)\n",
      "----------\n"
     ]
    },
    {
     "name": "stderr",
     "output_type": "stream",
     "text": [
      " 52%|█████████████████▌                | 5171/10000 [1:26:31<1:17:34,  1.04it/s]"
     ]
    },
    {
     "name": "stdout",
     "output_type": "stream",
     "text": [
      "train test\n",
      "tensor(0.2442, dtype=torch.float64, grad_fn=<NllLossBackward0>)\n",
      "tensor(11.4052, dtype=torch.float64, grad_fn=<NllLossBackward0>)\n",
      "----------\n"
     ]
    },
    {
     "name": "stderr",
     "output_type": "stream",
     "text": [
      " 52%|█████████████████▌                | 5181/10000 [1:26:40<1:18:31,  1.02it/s]"
     ]
    },
    {
     "name": "stdout",
     "output_type": "stream",
     "text": [
      "train test\n",
      "tensor(0.2459, dtype=torch.float64, grad_fn=<NllLossBackward0>)\n",
      "tensor(11.3790, dtype=torch.float64, grad_fn=<NllLossBackward0>)\n",
      "----------\n"
     ]
    },
    {
     "name": "stderr",
     "output_type": "stream",
     "text": [
      " 52%|█████████████████▋                | 5191/10000 [1:26:50<1:19:01,  1.01it/s]"
     ]
    },
    {
     "name": "stdout",
     "output_type": "stream",
     "text": [
      "train test\n",
      "tensor(0.2460, dtype=torch.float64, grad_fn=<NllLossBackward0>)\n",
      "tensor(11.3730, dtype=torch.float64, grad_fn=<NllLossBackward0>)\n",
      "----------\n"
     ]
    },
    {
     "name": "stderr",
     "output_type": "stream",
     "text": [
      " 52%|█████████████████▋                | 5201/10000 [1:27:00<1:17:32,  1.03it/s]"
     ]
    },
    {
     "name": "stdout",
     "output_type": "stream",
     "text": [
      "train test\n",
      "tensor(0.2453, dtype=torch.float64, grad_fn=<NllLossBackward0>)\n",
      "tensor(11.3908, dtype=torch.float64, grad_fn=<NllLossBackward0>)\n",
      "----------\n"
     ]
    },
    {
     "name": "stderr",
     "output_type": "stream",
     "text": [
      " 52%|█████████████████▋                | 5211/10000 [1:27:10<1:18:39,  1.01it/s]"
     ]
    },
    {
     "name": "stdout",
     "output_type": "stream",
     "text": [
      "train test\n",
      "tensor(0.2438, dtype=torch.float64, grad_fn=<NllLossBackward0>)\n",
      "tensor(11.4233, dtype=torch.float64, grad_fn=<NllLossBackward0>)\n",
      "----------\n"
     ]
    },
    {
     "name": "stderr",
     "output_type": "stream",
     "text": [
      " 52%|█████████████████▊                | 5221/10000 [1:27:20<1:17:16,  1.03it/s]"
     ]
    },
    {
     "name": "stdout",
     "output_type": "stream",
     "text": [
      "train test\n",
      "tensor(0.2415, dtype=torch.float64, grad_fn=<NllLossBackward0>)\n",
      "tensor(11.4728, dtype=torch.float64, grad_fn=<NllLossBackward0>)\n",
      "----------\n"
     ]
    },
    {
     "name": "stderr",
     "output_type": "stream",
     "text": [
      " 52%|█████████████████▊                | 5231/10000 [1:27:29<1:17:08,  1.03it/s]"
     ]
    },
    {
     "name": "stdout",
     "output_type": "stream",
     "text": [
      "train test\n",
      "tensor(0.2399, dtype=torch.float64, grad_fn=<NllLossBackward0>)\n",
      "tensor(11.5337, dtype=torch.float64, grad_fn=<NllLossBackward0>)\n",
      "----------\n"
     ]
    },
    {
     "name": "stderr",
     "output_type": "stream",
     "text": [
      " 52%|█████████████████▊                | 5241/10000 [1:27:39<1:17:13,  1.03it/s]"
     ]
    },
    {
     "name": "stdout",
     "output_type": "stream",
     "text": [
      "train test\n",
      "tensor(0.2397, dtype=torch.float64, grad_fn=<NllLossBackward0>)\n",
      "tensor(11.5452, dtype=torch.float64, grad_fn=<NllLossBackward0>)\n",
      "----------\n"
     ]
    },
    {
     "name": "stderr",
     "output_type": "stream",
     "text": [
      " 53%|█████████████████▊                | 5251/10000 [1:27:49<1:15:43,  1.05it/s]"
     ]
    },
    {
     "name": "stdout",
     "output_type": "stream",
     "text": [
      "train test\n",
      "tensor(0.2377, dtype=torch.float64, grad_fn=<NllLossBackward0>)\n",
      "tensor(11.5659, dtype=torch.float64, grad_fn=<NllLossBackward0>)\n",
      "----------\n"
     ]
    },
    {
     "name": "stderr",
     "output_type": "stream",
     "text": [
      " 53%|█████████████████▉                | 5261/10000 [1:27:58<1:16:35,  1.03it/s]"
     ]
    },
    {
     "name": "stdout",
     "output_type": "stream",
     "text": [
      "train test\n",
      "tensor(0.2368, dtype=torch.float64, grad_fn=<NllLossBackward0>)\n",
      "tensor(11.5757, dtype=torch.float64, grad_fn=<NllLossBackward0>)\n",
      "----------\n"
     ]
    },
    {
     "name": "stderr",
     "output_type": "stream",
     "text": [
      " 53%|█████████████████▉                | 5271/10000 [1:28:08<1:16:21,  1.03it/s]"
     ]
    },
    {
     "name": "stdout",
     "output_type": "stream",
     "text": [
      "train test\n",
      "tensor(0.2353, dtype=torch.float64, grad_fn=<NllLossBackward0>)\n",
      "tensor(11.6083, dtype=torch.float64, grad_fn=<NllLossBackward0>)\n",
      "----------\n"
     ]
    },
    {
     "name": "stderr",
     "output_type": "stream",
     "text": [
      " 53%|█████████████████▉                | 5281/10000 [1:28:18<1:20:47,  1.03s/it]"
     ]
    },
    {
     "name": "stdout",
     "output_type": "stream",
     "text": [
      "train test\n",
      "tensor(0.2336, dtype=torch.float64, grad_fn=<NllLossBackward0>)\n",
      "tensor(11.6461, dtype=torch.float64, grad_fn=<NllLossBackward0>)\n",
      "----------\n"
     ]
    },
    {
     "name": "stderr",
     "output_type": "stream",
     "text": [
      " 53%|█████████████████▉                | 5291/10000 [1:28:28<1:16:05,  1.03it/s]"
     ]
    },
    {
     "name": "stdout",
     "output_type": "stream",
     "text": [
      "train test\n",
      "tensor(0.2361, dtype=torch.float64, grad_fn=<NllLossBackward0>)\n",
      "tensor(11.6958, dtype=torch.float64, grad_fn=<NllLossBackward0>)\n",
      "----------\n"
     ]
    },
    {
     "name": "stderr",
     "output_type": "stream",
     "text": [
      " 53%|██████████████████                | 5301/10000 [1:28:38<1:17:54,  1.01it/s]"
     ]
    },
    {
     "name": "stdout",
     "output_type": "stream",
     "text": [
      "train test\n",
      "tensor(0.2380, dtype=torch.float64, grad_fn=<NllLossBackward0>)\n",
      "tensor(11.6578, dtype=torch.float64, grad_fn=<NllLossBackward0>)\n",
      "----------\n"
     ]
    },
    {
     "name": "stderr",
     "output_type": "stream",
     "text": [
      " 53%|██████████████████                | 5311/10000 [1:28:48<1:17:30,  1.01it/s]"
     ]
    },
    {
     "name": "stdout",
     "output_type": "stream",
     "text": [
      "train test\n",
      "tensor(0.2361, dtype=torch.float64, grad_fn=<NllLossBackward0>)\n",
      "tensor(11.6005, dtype=torch.float64, grad_fn=<NllLossBackward0>)\n",
      "----------\n"
     ]
    },
    {
     "name": "stderr",
     "output_type": "stream",
     "text": [
      " 53%|██████████████████                | 5321/10000 [1:28:58<1:16:45,  1.02it/s]"
     ]
    },
    {
     "name": "stdout",
     "output_type": "stream",
     "text": [
      "train test\n",
      "tensor(0.2377, dtype=torch.float64, grad_fn=<NllLossBackward0>)\n",
      "tensor(11.5584, dtype=torch.float64, grad_fn=<NllLossBackward0>)\n",
      "----------\n"
     ]
    },
    {
     "name": "stderr",
     "output_type": "stream",
     "text": [
      " 53%|██████████████████▏               | 5331/10000 [1:29:08<1:17:29,  1.00it/s]"
     ]
    },
    {
     "name": "stdout",
     "output_type": "stream",
     "text": [
      "train test\n",
      "tensor(0.2391, dtype=torch.float64, grad_fn=<NllLossBackward0>)\n",
      "tensor(11.5287, dtype=torch.float64, grad_fn=<NllLossBackward0>)\n",
      "----------\n"
     ]
    },
    {
     "name": "stderr",
     "output_type": "stream",
     "text": [
      " 53%|██████████████████▏               | 5341/10000 [1:29:18<1:16:51,  1.01it/s]"
     ]
    },
    {
     "name": "stdout",
     "output_type": "stream",
     "text": [
      "train test\n",
      "tensor(0.2390, dtype=torch.float64, grad_fn=<NllLossBackward0>)\n",
      "tensor(11.5289, dtype=torch.float64, grad_fn=<NllLossBackward0>)\n",
      "----------\n"
     ]
    },
    {
     "name": "stderr",
     "output_type": "stream",
     "text": [
      " 54%|██████████████████▏               | 5351/10000 [1:29:28<1:18:30,  1.01s/it]"
     ]
    },
    {
     "name": "stdout",
     "output_type": "stream",
     "text": [
      "train test\n",
      "tensor(0.2383, dtype=torch.float64, grad_fn=<NllLossBackward0>)\n",
      "tensor(11.5443, dtype=torch.float64, grad_fn=<NllLossBackward0>)\n",
      "----------\n"
     ]
    },
    {
     "name": "stderr",
     "output_type": "stream",
     "text": [
      " 54%|██████████████████▏               | 5361/10000 [1:29:38<1:15:54,  1.02it/s]"
     ]
    },
    {
     "name": "stdout",
     "output_type": "stream",
     "text": [
      "train test\n",
      "tensor(0.2367, dtype=torch.float64, grad_fn=<NllLossBackward0>)\n",
      "tensor(11.5805, dtype=torch.float64, grad_fn=<NllLossBackward0>)\n",
      "----------\n"
     ]
    },
    {
     "name": "stderr",
     "output_type": "stream",
     "text": [
      " 54%|██████████████████▎               | 5371/10000 [1:29:48<1:15:07,  1.03it/s]"
     ]
    },
    {
     "name": "stdout",
     "output_type": "stream",
     "text": [
      "train test\n",
      "tensor(0.2345, dtype=torch.float64, grad_fn=<NllLossBackward0>)\n",
      "tensor(11.6320, dtype=torch.float64, grad_fn=<NllLossBackward0>)\n",
      "----------\n"
     ]
    },
    {
     "name": "stderr",
     "output_type": "stream",
     "text": [
      " 54%|██████████████████▎               | 5381/10000 [1:29:58<1:15:28,  1.02it/s]"
     ]
    },
    {
     "name": "stdout",
     "output_type": "stream",
     "text": [
      "train test\n",
      "tensor(0.2434, dtype=torch.float64, grad_fn=<NllLossBackward0>)\n",
      "tensor(11.6088, dtype=torch.float64, grad_fn=<NllLossBackward0>)\n",
      "----------\n"
     ]
    },
    {
     "name": "stderr",
     "output_type": "stream",
     "text": [
      " 54%|██████████████████▎               | 5391/10000 [1:30:07<1:17:31,  1.01s/it]"
     ]
    },
    {
     "name": "stdout",
     "output_type": "stream",
     "text": [
      "train test\n",
      "tensor(0.2517, dtype=torch.float64, grad_fn=<NllLossBackward0>)\n",
      "tensor(11.4503, dtype=torch.float64, grad_fn=<NllLossBackward0>)\n",
      "----------\n"
     ]
    },
    {
     "name": "stderr",
     "output_type": "stream",
     "text": [
      " 54%|██████████████████▎               | 5401/10000 [1:30:17<1:15:59,  1.01it/s]"
     ]
    },
    {
     "name": "stdout",
     "output_type": "stream",
     "text": [
      "train test\n",
      "tensor(0.2534, dtype=torch.float64, grad_fn=<NllLossBackward0>)\n",
      "tensor(11.2746, dtype=torch.float64, grad_fn=<NllLossBackward0>)\n",
      "----------\n"
     ]
    },
    {
     "name": "stderr",
     "output_type": "stream",
     "text": [
      " 54%|██████████████████▍               | 5411/10000 [1:30:27<1:16:42,  1.00s/it]"
     ]
    },
    {
     "name": "stdout",
     "output_type": "stream",
     "text": [
      "train test\n",
      "tensor(0.2587, dtype=torch.float64, grad_fn=<NllLossBackward0>)\n",
      "tensor(11.1276, dtype=torch.float64, grad_fn=<NllLossBackward0>)\n",
      "----------\n"
     ]
    },
    {
     "name": "stderr",
     "output_type": "stream",
     "text": [
      " 54%|██████████████████▍               | 5421/10000 [1:30:37<1:14:29,  1.02it/s]"
     ]
    },
    {
     "name": "stdout",
     "output_type": "stream",
     "text": [
      "train test\n",
      "tensor(0.2633, dtype=torch.float64, grad_fn=<NllLossBackward0>)\n",
      "tensor(11.0290, dtype=torch.float64, grad_fn=<NllLossBackward0>)\n",
      "----------\n"
     ]
    },
    {
     "name": "stderr",
     "output_type": "stream",
     "text": [
      " 54%|██████████████████▍               | 5431/10000 [1:30:47<1:17:04,  1.01s/it]"
     ]
    },
    {
     "name": "stdout",
     "output_type": "stream",
     "text": [
      "train test\n",
      "tensor(0.2666, dtype=torch.float64, grad_fn=<NllLossBackward0>)\n",
      "tensor(10.9650, dtype=torch.float64, grad_fn=<NllLossBackward0>)\n",
      "----------\n"
     ]
    },
    {
     "name": "stderr",
     "output_type": "stream",
     "text": [
      " 54%|██████████████████▍               | 5441/10000 [1:30:58<1:15:24,  1.01it/s]"
     ]
    },
    {
     "name": "stdout",
     "output_type": "stream",
     "text": [
      "train test\n",
      "tensor(0.2681, dtype=torch.float64, grad_fn=<NllLossBackward0>)\n",
      "tensor(10.9424, dtype=torch.float64, grad_fn=<NllLossBackward0>)\n",
      "----------\n"
     ]
    },
    {
     "name": "stderr",
     "output_type": "stream",
     "text": [
      " 55%|██████████████████▌               | 5451/10000 [1:31:07<1:14:08,  1.02it/s]"
     ]
    },
    {
     "name": "stdout",
     "output_type": "stream",
     "text": [
      "train test\n",
      "tensor(0.2682, dtype=torch.float64, grad_fn=<NllLossBackward0>)\n",
      "tensor(10.9447, dtype=torch.float64, grad_fn=<NllLossBackward0>)\n",
      "----------\n"
     ]
    },
    {
     "name": "stderr",
     "output_type": "stream",
     "text": [
      " 55%|██████████████████▌               | 5461/10000 [1:31:17<1:13:05,  1.03it/s]"
     ]
    },
    {
     "name": "stdout",
     "output_type": "stream",
     "text": [
      "train test\n",
      "tensor(0.2671, dtype=torch.float64, grad_fn=<NllLossBackward0>)\n",
      "tensor(10.9686, dtype=torch.float64, grad_fn=<NllLossBackward0>)\n",
      "----------\n"
     ]
    },
    {
     "name": "stderr",
     "output_type": "stream",
     "text": [
      " 55%|██████████████████▌               | 5471/10000 [1:31:27<1:14:06,  1.02it/s]"
     ]
    },
    {
     "name": "stdout",
     "output_type": "stream",
     "text": [
      "train test\n",
      "tensor(0.2651, dtype=torch.float64, grad_fn=<NllLossBackward0>)\n",
      "tensor(11.0065, dtype=torch.float64, grad_fn=<NllLossBackward0>)\n",
      "----------\n"
     ]
    },
    {
     "name": "stderr",
     "output_type": "stream",
     "text": [
      " 55%|██████████████████▋               | 5481/10000 [1:31:37<1:13:51,  1.02it/s]"
     ]
    },
    {
     "name": "stdout",
     "output_type": "stream",
     "text": [
      "train test\n",
      "tensor(0.2626, dtype=torch.float64, grad_fn=<NllLossBackward0>)\n",
      "tensor(11.0615, dtype=torch.float64, grad_fn=<NllLossBackward0>)\n",
      "----------\n"
     ]
    },
    {
     "name": "stderr",
     "output_type": "stream",
     "text": [
      " 55%|██████████████████▋               | 5491/10000 [1:31:46<1:12:43,  1.03it/s]"
     ]
    },
    {
     "name": "stdout",
     "output_type": "stream",
     "text": [
      "train test\n",
      "tensor(0.2595, dtype=torch.float64, grad_fn=<NllLossBackward0>)\n",
      "tensor(11.1201, dtype=torch.float64, grad_fn=<NllLossBackward0>)\n",
      "----------\n"
     ]
    },
    {
     "name": "stderr",
     "output_type": "stream",
     "text": [
      " 55%|██████████████████▋               | 5501/10000 [1:31:56<1:12:18,  1.04it/s]"
     ]
    },
    {
     "name": "stdout",
     "output_type": "stream",
     "text": [
      "train test\n",
      "tensor(0.2560, dtype=torch.float64, grad_fn=<NllLossBackward0>)\n",
      "tensor(11.1872, dtype=torch.float64, grad_fn=<NllLossBackward0>)\n",
      "----------\n"
     ]
    },
    {
     "name": "stderr",
     "output_type": "stream",
     "text": [
      " 55%|██████████████████▋               | 5511/10000 [1:32:06<1:12:42,  1.03it/s]"
     ]
    },
    {
     "name": "stdout",
     "output_type": "stream",
     "text": [
      "train test\n",
      "tensor(0.2543, dtype=torch.float64, grad_fn=<NllLossBackward0>)\n",
      "tensor(11.2668, dtype=torch.float64, grad_fn=<NllLossBackward0>)\n",
      "----------\n"
     ]
    },
    {
     "name": "stderr",
     "output_type": "stream",
     "text": [
      " 55%|██████████████████▊               | 5521/10000 [1:32:16<1:13:26,  1.02it/s]"
     ]
    },
    {
     "name": "stdout",
     "output_type": "stream",
     "text": [
      "train test\n",
      "tensor(0.2516, dtype=torch.float64, grad_fn=<NllLossBackward0>)\n",
      "tensor(11.2660, dtype=torch.float64, grad_fn=<NllLossBackward0>)\n",
      "----------\n"
     ]
    },
    {
     "name": "stderr",
     "output_type": "stream",
     "text": [
      " 55%|██████████████████▊               | 5531/10000 [1:32:25<1:12:20,  1.03it/s]"
     ]
    },
    {
     "name": "stdout",
     "output_type": "stream",
     "text": [
      "train test\n",
      "tensor(0.2516, dtype=torch.float64, grad_fn=<NllLossBackward0>)\n",
      "tensor(11.2905, dtype=torch.float64, grad_fn=<NllLossBackward0>)\n",
      "----------\n"
     ]
    },
    {
     "name": "stderr",
     "output_type": "stream",
     "text": [
      " 55%|██████████████████▊               | 5541/10000 [1:32:35<1:13:48,  1.01it/s]"
     ]
    },
    {
     "name": "stdout",
     "output_type": "stream",
     "text": [
      "train test\n",
      "tensor(0.2505, dtype=torch.float64, grad_fn=<NllLossBackward0>)\n",
      "tensor(11.2943, dtype=torch.float64, grad_fn=<NllLossBackward0>)\n",
      "----------\n"
     ]
    },
    {
     "name": "stderr",
     "output_type": "stream",
     "text": [
      " 56%|██████████████████▊               | 5551/10000 [1:32:45<1:13:05,  1.01it/s]"
     ]
    },
    {
     "name": "stdout",
     "output_type": "stream",
     "text": [
      "train test\n",
      "tensor(0.2495, dtype=torch.float64, grad_fn=<NllLossBackward0>)\n",
      "tensor(11.3108, dtype=torch.float64, grad_fn=<NllLossBackward0>)\n",
      "----------\n"
     ]
    },
    {
     "name": "stderr",
     "output_type": "stream",
     "text": [
      " 56%|██████████████████▉               | 5561/10000 [1:32:55<1:11:41,  1.03it/s]"
     ]
    },
    {
     "name": "stdout",
     "output_type": "stream",
     "text": [
      "train test\n",
      "tensor(0.2479, dtype=torch.float64, grad_fn=<NllLossBackward0>)\n",
      "tensor(11.3496, dtype=torch.float64, grad_fn=<NllLossBackward0>)\n",
      "----------\n"
     ]
    },
    {
     "name": "stderr",
     "output_type": "stream",
     "text": [
      " 56%|██████████████████▉               | 5571/10000 [1:33:04<1:12:12,  1.02it/s]"
     ]
    },
    {
     "name": "stdout",
     "output_type": "stream",
     "text": [
      "train test\n",
      "tensor(0.2461, dtype=torch.float64, grad_fn=<NllLossBackward0>)\n",
      "tensor(11.3901, dtype=torch.float64, grad_fn=<NllLossBackward0>)\n",
      "----------\n"
     ]
    },
    {
     "name": "stderr",
     "output_type": "stream",
     "text": [
      " 56%|██████████████████▉               | 5581/10000 [1:33:14<1:11:38,  1.03it/s]"
     ]
    },
    {
     "name": "stdout",
     "output_type": "stream",
     "text": [
      "train test\n",
      "tensor(0.2446, dtype=torch.float64, grad_fn=<NllLossBackward0>)\n",
      "tensor(11.4412, dtype=torch.float64, grad_fn=<NllLossBackward0>)\n",
      "----------\n"
     ]
    },
    {
     "name": "stderr",
     "output_type": "stream",
     "text": [
      " 56%|███████████████████               | 5591/10000 [1:33:24<1:11:52,  1.02it/s]"
     ]
    },
    {
     "name": "stdout",
     "output_type": "stream",
     "text": [
      "train test\n",
      "tensor(0.2437, dtype=torch.float64, grad_fn=<NllLossBackward0>)\n",
      "tensor(11.4542, dtype=torch.float64, grad_fn=<NllLossBackward0>)\n",
      "----------\n"
     ]
    },
    {
     "name": "stderr",
     "output_type": "stream",
     "text": [
      " 56%|███████████████████               | 5601/10000 [1:33:34<1:11:43,  1.02it/s]"
     ]
    },
    {
     "name": "stdout",
     "output_type": "stream",
     "text": [
      "train test\n",
      "tensor(0.2424, dtype=torch.float64, grad_fn=<NllLossBackward0>)\n",
      "tensor(11.4719, dtype=torch.float64, grad_fn=<NllLossBackward0>)\n",
      "----------\n"
     ]
    },
    {
     "name": "stderr",
     "output_type": "stream",
     "text": [
      " 56%|███████████████████               | 5611/10000 [1:33:43<1:10:38,  1.04it/s]"
     ]
    },
    {
     "name": "stdout",
     "output_type": "stream",
     "text": [
      "train test\n",
      "tensor(0.2406, dtype=torch.float64, grad_fn=<NllLossBackward0>)\n",
      "tensor(11.4833, dtype=torch.float64, grad_fn=<NllLossBackward0>)\n",
      "----------\n"
     ]
    },
    {
     "name": "stderr",
     "output_type": "stream",
     "text": [
      " 56%|███████████████████               | 5621/10000 [1:33:53<1:11:27,  1.02it/s]"
     ]
    },
    {
     "name": "stdout",
     "output_type": "stream",
     "text": [
      "train test\n",
      "tensor(0.2389, dtype=torch.float64, grad_fn=<NllLossBackward0>)\n",
      "tensor(11.5193, dtype=torch.float64, grad_fn=<NllLossBackward0>)\n",
      "----------\n"
     ]
    },
    {
     "name": "stderr",
     "output_type": "stream",
     "text": [
      " 56%|███████████████████▏              | 5631/10000 [1:34:03<1:11:22,  1.02it/s]"
     ]
    },
    {
     "name": "stdout",
     "output_type": "stream",
     "text": [
      "train test\n",
      "tensor(0.2372, dtype=torch.float64, grad_fn=<NllLossBackward0>)\n",
      "tensor(11.5672, dtype=torch.float64, grad_fn=<NllLossBackward0>)\n",
      "----------\n"
     ]
    },
    {
     "name": "stderr",
     "output_type": "stream",
     "text": [
      " 56%|███████████████████▏              | 5641/10000 [1:34:13<1:10:51,  1.03it/s]"
     ]
    },
    {
     "name": "stdout",
     "output_type": "stream",
     "text": [
      "train test\n",
      "tensor(0.2381, dtype=torch.float64, grad_fn=<NllLossBackward0>)\n",
      "tensor(11.5901, dtype=torch.float64, grad_fn=<NllLossBackward0>)\n",
      "----------\n"
     ]
    },
    {
     "name": "stderr",
     "output_type": "stream",
     "text": [
      " 57%|███████████████████▏              | 5651/10000 [1:34:23<1:14:24,  1.03s/it]"
     ]
    },
    {
     "name": "stdout",
     "output_type": "stream",
     "text": [
      "train test\n",
      "tensor(0.2355, dtype=torch.float64, grad_fn=<NllLossBackward0>)\n",
      "tensor(11.5965, dtype=torch.float64, grad_fn=<NllLossBackward0>)\n",
      "----------\n"
     ]
    },
    {
     "name": "stderr",
     "output_type": "stream",
     "text": [
      " 57%|███████████████████▏              | 5661/10000 [1:34:33<1:14:14,  1.03s/it]"
     ]
    },
    {
     "name": "stdout",
     "output_type": "stream",
     "text": [
      "train test\n",
      "tensor(0.2349, dtype=torch.float64, grad_fn=<NllLossBackward0>)\n",
      "tensor(11.6118, dtype=torch.float64, grad_fn=<NllLossBackward0>)\n",
      "----------\n"
     ]
    },
    {
     "name": "stderr",
     "output_type": "stream",
     "text": [
      " 57%|███████████████████▎              | 5671/10000 [1:34:43<1:13:45,  1.02s/it]"
     ]
    },
    {
     "name": "stdout",
     "output_type": "stream",
     "text": [
      "train test\n",
      "tensor(0.2335, dtype=torch.float64, grad_fn=<NllLossBackward0>)\n",
      "tensor(11.6347, dtype=torch.float64, grad_fn=<NllLossBackward0>)\n",
      "----------\n"
     ]
    },
    {
     "name": "stderr",
     "output_type": "stream",
     "text": [
      " 57%|███████████████████▎              | 5681/10000 [1:34:53<1:11:32,  1.01it/s]"
     ]
    },
    {
     "name": "stdout",
     "output_type": "stream",
     "text": [
      "train test\n",
      "tensor(0.2341, dtype=torch.float64, grad_fn=<NllLossBackward0>)\n",
      "tensor(11.6639, dtype=torch.float64, grad_fn=<NllLossBackward0>)\n",
      "----------\n"
     ]
    },
    {
     "name": "stderr",
     "output_type": "stream",
     "text": [
      " 57%|███████████████████▎              | 5691/10000 [1:35:03<1:11:24,  1.01it/s]"
     ]
    },
    {
     "name": "stdout",
     "output_type": "stream",
     "text": [
      "train test\n",
      "tensor(0.2323, dtype=torch.float64, grad_fn=<NllLossBackward0>)\n",
      "tensor(11.6618, dtype=torch.float64, grad_fn=<NllLossBackward0>)\n",
      "----------\n"
     ]
    },
    {
     "name": "stderr",
     "output_type": "stream",
     "text": [
      " 57%|███████████████████▍              | 5701/10000 [1:35:13<1:10:09,  1.02it/s]"
     ]
    },
    {
     "name": "stdout",
     "output_type": "stream",
     "text": [
      "train test\n",
      "tensor(0.2324, dtype=torch.float64, grad_fn=<NllLossBackward0>)\n",
      "tensor(11.6621, dtype=torch.float64, grad_fn=<NllLossBackward0>)\n",
      "----------\n"
     ]
    },
    {
     "name": "stderr",
     "output_type": "stream",
     "text": [
      " 57%|███████████████████▍              | 5711/10000 [1:35:23<1:12:29,  1.01s/it]"
     ]
    },
    {
     "name": "stdout",
     "output_type": "stream",
     "text": [
      "train test\n",
      "tensor(0.2318, dtype=torch.float64, grad_fn=<NllLossBackward0>)\n",
      "tensor(11.6677, dtype=torch.float64, grad_fn=<NllLossBackward0>)\n",
      "----------\n"
     ]
    },
    {
     "name": "stderr",
     "output_type": "stream",
     "text": [
      " 57%|███████████████████▍              | 5721/10000 [1:35:33<1:12:08,  1.01s/it]"
     ]
    },
    {
     "name": "stdout",
     "output_type": "stream",
     "text": [
      "train test\n",
      "tensor(0.2310, dtype=torch.float64, grad_fn=<NllLossBackward0>)\n",
      "tensor(11.6892, dtype=torch.float64, grad_fn=<NllLossBackward0>)\n",
      "----------\n"
     ]
    },
    {
     "name": "stderr",
     "output_type": "stream",
     "text": [
      " 57%|███████████████████▍              | 5731/10000 [1:35:44<1:12:10,  1.01s/it]"
     ]
    },
    {
     "name": "stdout",
     "output_type": "stream",
     "text": [
      "train test\n",
      "tensor(0.2356, dtype=torch.float64, grad_fn=<NllLossBackward0>)\n",
      "tensor(11.6335, dtype=torch.float64, grad_fn=<NllLossBackward0>)\n",
      "----------\n"
     ]
    },
    {
     "name": "stderr",
     "output_type": "stream",
     "text": [
      " 57%|███████████████████▌              | 5741/10000 [1:35:54<1:11:15,  1.00s/it]"
     ]
    },
    {
     "name": "stdout",
     "output_type": "stream",
     "text": [
      "train test\n",
      "tensor(0.2379, dtype=torch.float64, grad_fn=<NllLossBackward0>)\n",
      "tensor(11.5733, dtype=torch.float64, grad_fn=<NllLossBackward0>)\n",
      "----------\n"
     ]
    },
    {
     "name": "stderr",
     "output_type": "stream",
     "text": [
      " 58%|███████████████████▌              | 5751/10000 [1:36:04<1:08:52,  1.03it/s]"
     ]
    },
    {
     "name": "stdout",
     "output_type": "stream",
     "text": [
      "train test\n",
      "tensor(0.2394, dtype=torch.float64, grad_fn=<NllLossBackward0>)\n",
      "tensor(11.5032, dtype=torch.float64, grad_fn=<NllLossBackward0>)\n",
      "----------\n"
     ]
    },
    {
     "name": "stderr",
     "output_type": "stream",
     "text": [
      " 58%|███████████████████▌              | 5761/10000 [1:36:14<1:09:43,  1.01it/s]"
     ]
    },
    {
     "name": "stdout",
     "output_type": "stream",
     "text": [
      "train test\n",
      "tensor(0.2414, dtype=torch.float64, grad_fn=<NllLossBackward0>)\n",
      "tensor(11.4600, dtype=torch.float64, grad_fn=<NllLossBackward0>)\n",
      "----------\n"
     ]
    },
    {
     "name": "stderr",
     "output_type": "stream",
     "text": [
      " 58%|███████████████████▌              | 5771/10000 [1:36:23<1:08:42,  1.03it/s]"
     ]
    },
    {
     "name": "stdout",
     "output_type": "stream",
     "text": [
      "train test\n",
      "tensor(0.2424, dtype=torch.float64, grad_fn=<NllLossBackward0>)\n",
      "tensor(11.4385, dtype=torch.float64, grad_fn=<NllLossBackward0>)\n",
      "----------\n"
     ]
    },
    {
     "name": "stderr",
     "output_type": "stream",
     "text": [
      " 58%|███████████████████▋              | 5781/10000 [1:36:33<1:08:22,  1.03it/s]"
     ]
    },
    {
     "name": "stdout",
     "output_type": "stream",
     "text": [
      "train test\n",
      "tensor(0.2422, dtype=torch.float64, grad_fn=<NllLossBackward0>)\n",
      "tensor(11.4470, dtype=torch.float64, grad_fn=<NllLossBackward0>)\n",
      "----------\n"
     ]
    },
    {
     "name": "stderr",
     "output_type": "stream",
     "text": [
      " 58%|███████████████████▋              | 5791/10000 [1:36:43<1:08:53,  1.02it/s]"
     ]
    },
    {
     "name": "stdout",
     "output_type": "stream",
     "text": [
      "train test\n",
      "tensor(0.2409, dtype=torch.float64, grad_fn=<NllLossBackward0>)\n",
      "tensor(11.4717, dtype=torch.float64, grad_fn=<NllLossBackward0>)\n",
      "----------\n"
     ]
    },
    {
     "name": "stderr",
     "output_type": "stream",
     "text": [
      " 58%|███████████████████▋              | 5801/10000 [1:36:53<1:08:59,  1.01it/s]"
     ]
    },
    {
     "name": "stdout",
     "output_type": "stream",
     "text": [
      "train test\n",
      "tensor(0.2391, dtype=torch.float64, grad_fn=<NllLossBackward0>)\n",
      "tensor(11.5183, dtype=torch.float64, grad_fn=<NllLossBackward0>)\n",
      "----------\n"
     ]
    },
    {
     "name": "stderr",
     "output_type": "stream",
     "text": [
      " 58%|███████████████████▊              | 5811/10000 [1:37:03<1:08:15,  1.02it/s]"
     ]
    },
    {
     "name": "stdout",
     "output_type": "stream",
     "text": [
      "train test\n",
      "tensor(0.2365, dtype=torch.float64, grad_fn=<NllLossBackward0>)\n",
      "tensor(11.5715, dtype=torch.float64, grad_fn=<NllLossBackward0>)\n",
      "----------\n"
     ]
    },
    {
     "name": "stderr",
     "output_type": "stream",
     "text": [
      " 58%|███████████████████▊              | 5821/10000 [1:37:12<1:07:42,  1.03it/s]"
     ]
    },
    {
     "name": "stdout",
     "output_type": "stream",
     "text": [
      "train test\n",
      "tensor(0.2392, dtype=torch.float64, grad_fn=<NllLossBackward0>)\n",
      "tensor(11.5607, dtype=torch.float64, grad_fn=<NllLossBackward0>)\n",
      "----------\n"
     ]
    },
    {
     "name": "stderr",
     "output_type": "stream",
     "text": [
      " 58%|███████████████████▊              | 5831/10000 [1:37:22<1:07:29,  1.03it/s]"
     ]
    },
    {
     "name": "stdout",
     "output_type": "stream",
     "text": [
      "train test\n",
      "tensor(0.2408, dtype=torch.float64, grad_fn=<NllLossBackward0>)\n",
      "tensor(11.4849, dtype=torch.float64, grad_fn=<NllLossBackward0>)\n",
      "----------\n"
     ]
    },
    {
     "name": "stderr",
     "output_type": "stream",
     "text": [
      " 58%|███████████████████▊              | 5841/10000 [1:37:32<1:08:01,  1.02it/s]"
     ]
    },
    {
     "name": "stdout",
     "output_type": "stream",
     "text": [
      "train test\n",
      "tensor(0.2444, dtype=torch.float64, grad_fn=<NllLossBackward0>)\n",
      "tensor(11.4113, dtype=torch.float64, grad_fn=<NllLossBackward0>)\n",
      "----------\n"
     ]
    },
    {
     "name": "stderr",
     "output_type": "stream",
     "text": [
      " 59%|███████████████████▉              | 5851/10000 [1:37:42<1:07:14,  1.03it/s]"
     ]
    },
    {
     "name": "stdout",
     "output_type": "stream",
     "text": [
      "train test\n",
      "tensor(0.2469, dtype=torch.float64, grad_fn=<NllLossBackward0>)\n",
      "tensor(11.3448, dtype=torch.float64, grad_fn=<NllLossBackward0>)\n",
      "----------\n"
     ]
    },
    {
     "name": "stderr",
     "output_type": "stream",
     "text": [
      " 59%|███████████████████▉              | 5861/10000 [1:37:51<1:07:28,  1.02it/s]"
     ]
    },
    {
     "name": "stdout",
     "output_type": "stream",
     "text": [
      "train test\n",
      "tensor(0.2484, dtype=torch.float64, grad_fn=<NllLossBackward0>)\n",
      "tensor(11.3115, dtype=torch.float64, grad_fn=<NllLossBackward0>)\n",
      "----------\n"
     ]
    },
    {
     "name": "stderr",
     "output_type": "stream",
     "text": [
      " 59%|███████████████████▉              | 5871/10000 [1:38:01<1:06:44,  1.03it/s]"
     ]
    },
    {
     "name": "stdout",
     "output_type": "stream",
     "text": [
      "train test\n",
      "tensor(0.2486, dtype=torch.float64, grad_fn=<NllLossBackward0>)\n",
      "tensor(11.3153, dtype=torch.float64, grad_fn=<NllLossBackward0>)\n",
      "----------\n"
     ]
    },
    {
     "name": "stderr",
     "output_type": "stream",
     "text": [
      " 59%|███████████████████▉              | 5881/10000 [1:38:11<1:07:21,  1.02it/s]"
     ]
    },
    {
     "name": "stdout",
     "output_type": "stream",
     "text": [
      "train test\n",
      "tensor(0.2478, dtype=torch.float64, grad_fn=<NllLossBackward0>)\n",
      "tensor(11.3293, dtype=torch.float64, grad_fn=<NllLossBackward0>)\n",
      "----------\n"
     ]
    },
    {
     "name": "stderr",
     "output_type": "stream",
     "text": [
      " 59%|████████████████████              | 5891/10000 [1:38:20<1:06:32,  1.03it/s]"
     ]
    },
    {
     "name": "stdout",
     "output_type": "stream",
     "text": [
      "train test\n",
      "tensor(0.2461, dtype=torch.float64, grad_fn=<NllLossBackward0>)\n",
      "tensor(11.3705, dtype=torch.float64, grad_fn=<NllLossBackward0>)\n",
      "----------\n"
     ]
    },
    {
     "name": "stderr",
     "output_type": "stream",
     "text": [
      " 59%|████████████████████              | 5901/10000 [1:38:30<1:05:57,  1.04it/s]"
     ]
    },
    {
     "name": "stdout",
     "output_type": "stream",
     "text": [
      "train test\n",
      "tensor(0.2436, dtype=torch.float64, grad_fn=<NllLossBackward0>)\n",
      "tensor(11.4232, dtype=torch.float64, grad_fn=<NllLossBackward0>)\n",
      "----------\n"
     ]
    },
    {
     "name": "stderr",
     "output_type": "stream",
     "text": [
      " 59%|████████████████████              | 5911/10000 [1:38:40<1:06:24,  1.03it/s]"
     ]
    },
    {
     "name": "stdout",
     "output_type": "stream",
     "text": [
      "train test\n",
      "tensor(0.2416, dtype=torch.float64, grad_fn=<NllLossBackward0>)\n",
      "tensor(11.4611, dtype=torch.float64, grad_fn=<NllLossBackward0>)\n",
      "----------\n"
     ]
    },
    {
     "name": "stderr",
     "output_type": "stream",
     "text": [
      " 59%|████████████████████▏             | 5921/10000 [1:38:50<1:05:31,  1.04it/s]"
     ]
    },
    {
     "name": "stdout",
     "output_type": "stream",
     "text": [
      "train test\n",
      "tensor(0.2452, dtype=torch.float64, grad_fn=<NllLossBackward0>)\n",
      "tensor(11.4671, dtype=torch.float64, grad_fn=<NllLossBackward0>)\n",
      "----------\n"
     ]
    },
    {
     "name": "stderr",
     "output_type": "stream",
     "text": [
      " 59%|████████████████████▏             | 5931/10000 [1:38:59<1:06:13,  1.02it/s]"
     ]
    },
    {
     "name": "stdout",
     "output_type": "stream",
     "text": [
      "train test\n",
      "tensor(0.2435, dtype=torch.float64, grad_fn=<NllLossBackward0>)\n",
      "tensor(11.4524, dtype=torch.float64, grad_fn=<NllLossBackward0>)\n",
      "----------\n"
     ]
    },
    {
     "name": "stderr",
     "output_type": "stream",
     "text": [
      " 59%|████████████████████▏             | 5941/10000 [1:39:09<1:06:08,  1.02it/s]"
     ]
    },
    {
     "name": "stdout",
     "output_type": "stream",
     "text": [
      "train test\n",
      "tensor(0.2435, dtype=torch.float64, grad_fn=<NllLossBackward0>)\n",
      "tensor(11.4357, dtype=torch.float64, grad_fn=<NllLossBackward0>)\n",
      "----------\n"
     ]
    },
    {
     "name": "stderr",
     "output_type": "stream",
     "text": [
      " 60%|████████████████████▏             | 5951/10000 [1:39:19<1:05:46,  1.03it/s]"
     ]
    },
    {
     "name": "stdout",
     "output_type": "stream",
     "text": [
      "train test\n",
      "tensor(0.2433, dtype=torch.float64, grad_fn=<NllLossBackward0>)\n",
      "tensor(11.4327, dtype=torch.float64, grad_fn=<NllLossBackward0>)\n",
      "----------\n"
     ]
    },
    {
     "name": "stderr",
     "output_type": "stream",
     "text": [
      " 60%|████████████████████▎             | 5961/10000 [1:39:29<1:05:54,  1.02it/s]"
     ]
    },
    {
     "name": "stdout",
     "output_type": "stream",
     "text": [
      "train test\n",
      "tensor(0.2422, dtype=torch.float64, grad_fn=<NllLossBackward0>)\n",
      "tensor(11.4618, dtype=torch.float64, grad_fn=<NllLossBackward0>)\n",
      "----------\n"
     ]
    },
    {
     "name": "stderr",
     "output_type": "stream",
     "text": [
      " 60%|████████████████████▎             | 5971/10000 [1:39:38<1:05:17,  1.03it/s]"
     ]
    },
    {
     "name": "stdout",
     "output_type": "stream",
     "text": [
      "train test\n",
      "tensor(0.2403, dtype=torch.float64, grad_fn=<NllLossBackward0>)\n",
      "tensor(11.4928, dtype=torch.float64, grad_fn=<NllLossBackward0>)\n",
      "----------\n"
     ]
    },
    {
     "name": "stderr",
     "output_type": "stream",
     "text": [
      " 60%|████████████████████▎             | 5981/10000 [1:39:48<1:05:16,  1.03it/s]"
     ]
    },
    {
     "name": "stdout",
     "output_type": "stream",
     "text": [
      "train test\n",
      "tensor(0.2381, dtype=torch.float64, grad_fn=<NllLossBackward0>)\n",
      "tensor(11.5474, dtype=torch.float64, grad_fn=<NllLossBackward0>)\n",
      "----------\n"
     ]
    },
    {
     "name": "stderr",
     "output_type": "stream",
     "text": [
      " 60%|████████████████████▎             | 5991/10000 [1:39:58<1:04:32,  1.04it/s]"
     ]
    },
    {
     "name": "stdout",
     "output_type": "stream",
     "text": [
      "train test\n",
      "tensor(0.2417, dtype=torch.float64, grad_fn=<NllLossBackward0>)\n",
      "tensor(11.5746, dtype=torch.float64, grad_fn=<NllLossBackward0>)\n",
      "----------\n"
     ]
    },
    {
     "name": "stderr",
     "output_type": "stream",
     "text": [
      " 60%|████████████████████▍             | 6001/10000 [1:40:08<1:05:22,  1.02it/s]"
     ]
    },
    {
     "name": "stdout",
     "output_type": "stream",
     "text": [
      "train test\n",
      "tensor(0.2387, dtype=torch.float64, grad_fn=<NllLossBackward0>)\n",
      "tensor(11.5574, dtype=torch.float64, grad_fn=<NllLossBackward0>)\n",
      "----------\n"
     ]
    },
    {
     "name": "stderr",
     "output_type": "stream",
     "text": [
      " 60%|████████████████████▍             | 6011/10000 [1:40:17<1:05:00,  1.02it/s]"
     ]
    },
    {
     "name": "stdout",
     "output_type": "stream",
     "text": [
      "train test\n",
      "tensor(0.2386, dtype=torch.float64, grad_fn=<NllLossBackward0>)\n",
      "tensor(11.5341, dtype=torch.float64, grad_fn=<NllLossBackward0>)\n",
      "----------\n"
     ]
    },
    {
     "name": "stderr",
     "output_type": "stream",
     "text": [
      " 60%|████████████████████▍             | 6021/10000 [1:40:27<1:04:08,  1.03it/s]"
     ]
    },
    {
     "name": "stdout",
     "output_type": "stream",
     "text": [
      "train test\n",
      "tensor(0.2391, dtype=torch.float64, grad_fn=<NllLossBackward0>)\n",
      "tensor(11.5218, dtype=torch.float64, grad_fn=<NllLossBackward0>)\n",
      "----------\n"
     ]
    },
    {
     "name": "stderr",
     "output_type": "stream",
     "text": [
      " 60%|████████████████████▌             | 6031/10000 [1:40:37<1:04:58,  1.02it/s]"
     ]
    },
    {
     "name": "stdout",
     "output_type": "stream",
     "text": [
      "train test\n",
      "tensor(0.2385, dtype=torch.float64, grad_fn=<NllLossBackward0>)\n",
      "tensor(11.5326, dtype=torch.float64, grad_fn=<NllLossBackward0>)\n",
      "----------\n"
     ]
    },
    {
     "name": "stderr",
     "output_type": "stream",
     "text": [
      " 60%|████████████████████▌             | 6041/10000 [1:40:47<1:04:06,  1.03it/s]"
     ]
    },
    {
     "name": "stdout",
     "output_type": "stream",
     "text": [
      "train test\n",
      "tensor(0.2373, dtype=torch.float64, grad_fn=<NllLossBackward0>)\n",
      "tensor(11.5623, dtype=torch.float64, grad_fn=<NllLossBackward0>)\n",
      "----------\n"
     ]
    },
    {
     "name": "stderr",
     "output_type": "stream",
     "text": [
      " 61%|████████████████████▌             | 6051/10000 [1:40:56<1:04:05,  1.03it/s]"
     ]
    },
    {
     "name": "stdout",
     "output_type": "stream",
     "text": [
      "train test\n",
      "tensor(0.2357, dtype=torch.float64, grad_fn=<NllLossBackward0>)\n",
      "tensor(11.5921, dtype=torch.float64, grad_fn=<NllLossBackward0>)\n",
      "----------\n"
     ]
    },
    {
     "name": "stderr",
     "output_type": "stream",
     "text": [
      " 61%|████████████████████▌             | 6061/10000 [1:41:06<1:03:56,  1.03it/s]"
     ]
    },
    {
     "name": "stdout",
     "output_type": "stream",
     "text": [
      "train test\n",
      "tensor(0.2400, dtype=torch.float64, grad_fn=<NllLossBackward0>)\n",
      "tensor(11.6383, dtype=torch.float64, grad_fn=<NllLossBackward0>)\n",
      "----------\n"
     ]
    },
    {
     "name": "stderr",
     "output_type": "stream",
     "text": [
      " 61%|████████████████████▋             | 6071/10000 [1:41:16<1:03:13,  1.04it/s]"
     ]
    },
    {
     "name": "stdout",
     "output_type": "stream",
     "text": [
      "train test\n",
      "tensor(0.2347, dtype=torch.float64, grad_fn=<NllLossBackward0>)\n",
      "tensor(11.6237, dtype=torch.float64, grad_fn=<NllLossBackward0>)\n",
      "----------\n"
     ]
    },
    {
     "name": "stderr",
     "output_type": "stream",
     "text": [
      " 61%|████████████████████▋             | 6081/10000 [1:41:25<1:03:38,  1.03it/s]"
     ]
    },
    {
     "name": "stdout",
     "output_type": "stream",
     "text": [
      "train test\n",
      "tensor(0.2346, dtype=torch.float64, grad_fn=<NllLossBackward0>)\n",
      "tensor(11.6169, dtype=torch.float64, grad_fn=<NllLossBackward0>)\n",
      "----------\n"
     ]
    },
    {
     "name": "stderr",
     "output_type": "stream",
     "text": [
      " 61%|████████████████████▋             | 6091/10000 [1:41:35<1:03:27,  1.03it/s]"
     ]
    },
    {
     "name": "stdout",
     "output_type": "stream",
     "text": [
      "train test\n",
      "tensor(0.2342, dtype=torch.float64, grad_fn=<NllLossBackward0>)\n",
      "tensor(11.6194, dtype=torch.float64, grad_fn=<NllLossBackward0>)\n",
      "----------\n"
     ]
    },
    {
     "name": "stderr",
     "output_type": "stream",
     "text": [
      " 61%|████████████████████▋             | 6101/10000 [1:41:45<1:03:09,  1.03it/s]"
     ]
    },
    {
     "name": "stdout",
     "output_type": "stream",
     "text": [
      "train test\n",
      "tensor(0.2332, dtype=torch.float64, grad_fn=<NllLossBackward0>)\n",
      "tensor(11.6427, dtype=torch.float64, grad_fn=<NllLossBackward0>)\n",
      "----------\n"
     ]
    },
    {
     "name": "stderr",
     "output_type": "stream",
     "text": [
      " 61%|████████████████████▊             | 6111/10000 [1:41:55<1:02:47,  1.03it/s]"
     ]
    },
    {
     "name": "stdout",
     "output_type": "stream",
     "text": [
      "train test\n",
      "tensor(0.2330, dtype=torch.float64, grad_fn=<NllLossBackward0>)\n",
      "tensor(11.6603, dtype=torch.float64, grad_fn=<NllLossBackward0>)\n",
      "----------\n"
     ]
    },
    {
     "name": "stderr",
     "output_type": "stream",
     "text": [
      " 61%|████████████████████▊             | 6121/10000 [1:42:04<1:02:43,  1.03it/s]"
     ]
    },
    {
     "name": "stdout",
     "output_type": "stream",
     "text": [
      "train test\n",
      "tensor(0.2323, dtype=torch.float64, grad_fn=<NllLossBackward0>)\n",
      "tensor(11.6611, dtype=torch.float64, grad_fn=<NllLossBackward0>)\n",
      "----------\n"
     ]
    },
    {
     "name": "stderr",
     "output_type": "stream",
     "text": [
      " 61%|████████████████████▊             | 6131/10000 [1:42:14<1:02:03,  1.04it/s]"
     ]
    },
    {
     "name": "stdout",
     "output_type": "stream",
     "text": [
      "train test\n",
      "tensor(0.2333, dtype=torch.float64, grad_fn=<NllLossBackward0>)\n",
      "tensor(11.6523, dtype=torch.float64, grad_fn=<NllLossBackward0>)\n",
      "----------\n"
     ]
    },
    {
     "name": "stderr",
     "output_type": "stream",
     "text": [
      " 61%|████████████████████▉             | 6141/10000 [1:42:24<1:02:40,  1.03it/s]"
     ]
    },
    {
     "name": "stdout",
     "output_type": "stream",
     "text": [
      "train test\n",
      "tensor(0.2337, dtype=torch.float64, grad_fn=<NllLossBackward0>)\n",
      "tensor(11.6545, dtype=torch.float64, grad_fn=<NllLossBackward0>)\n",
      "----------\n"
     ]
    },
    {
     "name": "stderr",
     "output_type": "stream",
     "text": [
      " 62%|████████████████████▉             | 6151/10000 [1:42:34<1:02:48,  1.02it/s]"
     ]
    },
    {
     "name": "stdout",
     "output_type": "stream",
     "text": [
      "train test\n",
      "tensor(0.2326, dtype=torch.float64, grad_fn=<NllLossBackward0>)\n",
      "tensor(11.6602, dtype=torch.float64, grad_fn=<NllLossBackward0>)\n",
      "----------\n"
     ]
    },
    {
     "name": "stderr",
     "output_type": "stream",
     "text": [
      " 62%|████████████████████▉             | 6161/10000 [1:42:43<1:01:58,  1.03it/s]"
     ]
    },
    {
     "name": "stdout",
     "output_type": "stream",
     "text": [
      "train test\n",
      "tensor(0.2315, dtype=torch.float64, grad_fn=<NllLossBackward0>)\n",
      "tensor(11.6776, dtype=torch.float64, grad_fn=<NllLossBackward0>)\n",
      "----------\n"
     ]
    },
    {
     "name": "stderr",
     "output_type": "stream",
     "text": [
      " 62%|████████████████████▉             | 6171/10000 [1:42:53<1:01:34,  1.04it/s]"
     ]
    },
    {
     "name": "stdout",
     "output_type": "stream",
     "text": [
      "train test\n",
      "tensor(0.2302, dtype=torch.float64, grad_fn=<NllLossBackward0>)\n",
      "tensor(11.7083, dtype=torch.float64, grad_fn=<NllLossBackward0>)\n",
      "----------\n"
     ]
    },
    {
     "name": "stderr",
     "output_type": "stream",
     "text": [
      " 62%|█████████████████████             | 6181/10000 [1:43:03<1:01:57,  1.03it/s]"
     ]
    },
    {
     "name": "stdout",
     "output_type": "stream",
     "text": [
      "train test\n",
      "tensor(0.2284, dtype=torch.float64, grad_fn=<NllLossBackward0>)\n",
      "tensor(11.7421, dtype=torch.float64, grad_fn=<NllLossBackward0>)\n",
      "----------\n"
     ]
    },
    {
     "name": "stderr",
     "output_type": "stream",
     "text": [
      " 62%|█████████████████████             | 6191/10000 [1:43:12<1:01:33,  1.03it/s]"
     ]
    },
    {
     "name": "stdout",
     "output_type": "stream",
     "text": [
      "train test\n",
      "tensor(0.2307, dtype=torch.float64, grad_fn=<NllLossBackward0>)\n",
      "tensor(11.7647, dtype=torch.float64, grad_fn=<NllLossBackward0>)\n",
      "----------\n"
     ]
    },
    {
     "name": "stderr",
     "output_type": "stream",
     "text": [
      " 62%|█████████████████████             | 6201/10000 [1:43:22<1:01:41,  1.03it/s]"
     ]
    },
    {
     "name": "stdout",
     "output_type": "stream",
     "text": [
      "train test\n",
      "tensor(0.2291, dtype=torch.float64, grad_fn=<NllLossBackward0>)\n",
      "tensor(11.7258, dtype=torch.float64, grad_fn=<NllLossBackward0>)\n",
      "----------\n"
     ]
    },
    {
     "name": "stderr",
     "output_type": "stream",
     "text": [
      " 62%|█████████████████████             | 6211/10000 [1:43:32<1:00:39,  1.04it/s]"
     ]
    },
    {
     "name": "stdout",
     "output_type": "stream",
     "text": [
      "train test\n",
      "tensor(0.2314, dtype=torch.float64, grad_fn=<NllLossBackward0>)\n",
      "tensor(11.6806, dtype=torch.float64, grad_fn=<NllLossBackward0>)\n",
      "----------\n"
     ]
    },
    {
     "name": "stderr",
     "output_type": "stream",
     "text": [
      " 62%|█████████████████████▏            | 6221/10000 [1:43:42<1:01:44,  1.02it/s]"
     ]
    },
    {
     "name": "stdout",
     "output_type": "stream",
     "text": [
      "train test\n",
      "tensor(0.2327, dtype=torch.float64, grad_fn=<NllLossBackward0>)\n",
      "tensor(11.6473, dtype=torch.float64, grad_fn=<NllLossBackward0>)\n",
      "----------\n"
     ]
    },
    {
     "name": "stderr",
     "output_type": "stream",
     "text": [
      " 62%|█████████████████████▏            | 6231/10000 [1:43:51<1:00:39,  1.04it/s]"
     ]
    },
    {
     "name": "stdout",
     "output_type": "stream",
     "text": [
      "train test\n",
      "tensor(0.2335, dtype=torch.float64, grad_fn=<NllLossBackward0>)\n",
      "tensor(11.6354, dtype=torch.float64, grad_fn=<NllLossBackward0>)\n",
      "----------\n"
     ]
    },
    {
     "name": "stderr",
     "output_type": "stream",
     "text": [
      " 62%|█████████████████████▏            | 6241/10000 [1:44:01<1:00:50,  1.03it/s]"
     ]
    },
    {
     "name": "stdout",
     "output_type": "stream",
     "text": [
      "train test\n",
      "tensor(0.2330, dtype=torch.float64, grad_fn=<NllLossBackward0>)\n",
      "tensor(11.6454, dtype=torch.float64, grad_fn=<NllLossBackward0>)\n",
      "----------\n"
     ]
    },
    {
     "name": "stderr",
     "output_type": "stream",
     "text": [
      " 63%|█████████████████████▎            | 6251/10000 [1:44:11<1:00:52,  1.03it/s]"
     ]
    },
    {
     "name": "stdout",
     "output_type": "stream",
     "text": [
      "train test\n",
      "tensor(0.2318, dtype=torch.float64, grad_fn=<NllLossBackward0>)\n",
      "tensor(11.6725, dtype=torch.float64, grad_fn=<NllLossBackward0>)\n",
      "----------\n"
     ]
    },
    {
     "name": "stderr",
     "output_type": "stream",
     "text": [
      " 63%|█████████████████████▎            | 6261/10000 [1:44:20<1:00:21,  1.03it/s]"
     ]
    },
    {
     "name": "stdout",
     "output_type": "stream",
     "text": [
      "train test\n",
      "tensor(0.2299, dtype=torch.float64, grad_fn=<NllLossBackward0>)\n",
      "tensor(11.7188, dtype=torch.float64, grad_fn=<NllLossBackward0>)\n",
      "----------\n"
     ]
    },
    {
     "name": "stderr",
     "output_type": "stream",
     "text": [
      " 63%|█████████████████████▎            | 6271/10000 [1:44:30<1:00:49,  1.02it/s]"
     ]
    },
    {
     "name": "stdout",
     "output_type": "stream",
     "text": [
      "train test\n",
      "tensor(0.2327, dtype=torch.float64, grad_fn=<NllLossBackward0>)\n",
      "tensor(11.7516, dtype=torch.float64, grad_fn=<NllLossBackward0>)\n",
      "----------\n"
     ]
    },
    {
     "name": "stderr",
     "output_type": "stream",
     "text": [
      " 63%|█████████████████████▎            | 6281/10000 [1:44:40<1:00:00,  1.03it/s]"
     ]
    },
    {
     "name": "stdout",
     "output_type": "stream",
     "text": [
      "train test\n",
      "tensor(0.2324, dtype=torch.float64, grad_fn=<NllLossBackward0>)\n",
      "tensor(11.7059, dtype=torch.float64, grad_fn=<NllLossBackward0>)\n",
      "----------\n"
     ]
    },
    {
     "name": "stderr",
     "output_type": "stream",
     "text": [
      " 63%|█████████████████████▍            | 6291/10000 [1:44:50<1:00:40,  1.02it/s]"
     ]
    },
    {
     "name": "stdout",
     "output_type": "stream",
     "text": [
      "train test\n",
      "tensor(0.2326, dtype=torch.float64, grad_fn=<NllLossBackward0>)\n",
      "tensor(11.6563, dtype=torch.float64, grad_fn=<NllLossBackward0>)\n",
      "----------\n"
     ]
    },
    {
     "name": "stderr",
     "output_type": "stream",
     "text": [
      " 63%|██████████████████████▋             | 6301/10000 [1:44:59<59:57,  1.03it/s]"
     ]
    },
    {
     "name": "stdout",
     "output_type": "stream",
     "text": [
      "train test\n",
      "tensor(0.2342, dtype=torch.float64, grad_fn=<NllLossBackward0>)\n",
      "tensor(11.6252, dtype=torch.float64, grad_fn=<NllLossBackward0>)\n",
      "----------\n"
     ]
    },
    {
     "name": "stderr",
     "output_type": "stream",
     "text": [
      " 63%|██████████████████████▋             | 6311/10000 [1:45:09<59:29,  1.03it/s]"
     ]
    },
    {
     "name": "stdout",
     "output_type": "stream",
     "text": [
      "train test\n",
      "tensor(0.2349, dtype=torch.float64, grad_fn=<NllLossBackward0>)\n",
      "tensor(11.6154, dtype=torch.float64, grad_fn=<NllLossBackward0>)\n",
      "----------\n"
     ]
    },
    {
     "name": "stderr",
     "output_type": "stream",
     "text": [
      " 63%|██████████████████████▊             | 6321/10000 [1:45:19<59:25,  1.03it/s]"
     ]
    },
    {
     "name": "stdout",
     "output_type": "stream",
     "text": [
      "train test\n",
      "tensor(0.2347, dtype=torch.float64, grad_fn=<NllLossBackward0>)\n",
      "tensor(11.6172, dtype=torch.float64, grad_fn=<NllLossBackward0>)\n",
      "----------\n"
     ]
    },
    {
     "name": "stderr",
     "output_type": "stream",
     "text": [
      " 63%|██████████████████████▊             | 6331/10000 [1:45:29<59:15,  1.03it/s]"
     ]
    },
    {
     "name": "stdout",
     "output_type": "stream",
     "text": [
      "train test\n",
      "tensor(0.2336, dtype=torch.float64, grad_fn=<NllLossBackward0>)\n",
      "tensor(11.6458, dtype=torch.float64, grad_fn=<NllLossBackward0>)\n",
      "----------\n"
     ]
    },
    {
     "name": "stderr",
     "output_type": "stream",
     "text": [
      " 63%|██████████████████████▊             | 6341/10000 [1:45:38<59:45,  1.02it/s]"
     ]
    },
    {
     "name": "stdout",
     "output_type": "stream",
     "text": [
      "train test\n",
      "tensor(0.2319, dtype=torch.float64, grad_fn=<NllLossBackward0>)\n",
      "tensor(11.6808, dtype=torch.float64, grad_fn=<NllLossBackward0>)\n",
      "----------\n"
     ]
    },
    {
     "name": "stderr",
     "output_type": "stream",
     "text": [
      " 64%|██████████████████████▊             | 6351/10000 [1:45:48<58:43,  1.04it/s]"
     ]
    },
    {
     "name": "stdout",
     "output_type": "stream",
     "text": [
      "train test\n",
      "tensor(0.2331, dtype=torch.float64, grad_fn=<NllLossBackward0>)\n",
      "tensor(11.7050, dtype=torch.float64, grad_fn=<NllLossBackward0>)\n",
      "----------\n"
     ]
    },
    {
     "name": "stderr",
     "output_type": "stream",
     "text": [
      " 64%|██████████████████████▉             | 6361/10000 [1:45:58<59:04,  1.03it/s]"
     ]
    },
    {
     "name": "stdout",
     "output_type": "stream",
     "text": [
      "train test\n",
      "tensor(0.2325, dtype=torch.float64, grad_fn=<NllLossBackward0>)\n",
      "tensor(11.6632, dtype=torch.float64, grad_fn=<NllLossBackward0>)\n",
      "----------\n"
     ]
    },
    {
     "name": "stderr",
     "output_type": "stream",
     "text": [
      " 64%|██████████████████████▉             | 6371/10000 [1:46:07<58:31,  1.03it/s]"
     ]
    },
    {
     "name": "stdout",
     "output_type": "stream",
     "text": [
      "train test\n",
      "tensor(0.2360, dtype=torch.float64, grad_fn=<NllLossBackward0>)\n",
      "tensor(11.6221, dtype=torch.float64, grad_fn=<NllLossBackward0>)\n",
      "----------\n"
     ]
    },
    {
     "name": "stderr",
     "output_type": "stream",
     "text": [
      " 64%|██████████████████████▉             | 6381/10000 [1:46:17<58:05,  1.04it/s]"
     ]
    },
    {
     "name": "stdout",
     "output_type": "stream",
     "text": [
      "train test\n",
      "tensor(0.2363, dtype=torch.float64, grad_fn=<NllLossBackward0>)\n",
      "tensor(11.5958, dtype=torch.float64, grad_fn=<NllLossBackward0>)\n",
      "----------\n"
     ]
    },
    {
     "name": "stderr",
     "output_type": "stream",
     "text": [
      " 64%|███████████████████████             | 6391/10000 [1:46:27<58:48,  1.02it/s]"
     ]
    },
    {
     "name": "stdout",
     "output_type": "stream",
     "text": [
      "train test\n",
      "tensor(0.2369, dtype=torch.float64, grad_fn=<NllLossBackward0>)\n",
      "tensor(11.5852, dtype=torch.float64, grad_fn=<NllLossBackward0>)\n",
      "----------\n"
     ]
    },
    {
     "name": "stderr",
     "output_type": "stream",
     "text": [
      " 64%|███████████████████████             | 6401/10000 [1:46:37<58:05,  1.03it/s]"
     ]
    },
    {
     "name": "stdout",
     "output_type": "stream",
     "text": [
      "train test\n",
      "tensor(0.2364, dtype=torch.float64, grad_fn=<NllLossBackward0>)\n",
      "tensor(11.5936, dtype=torch.float64, grad_fn=<NllLossBackward0>)\n",
      "----------\n"
     ]
    },
    {
     "name": "stderr",
     "output_type": "stream",
     "text": [
      " 64%|███████████████████████             | 6411/10000 [1:46:46<58:07,  1.03it/s]"
     ]
    },
    {
     "name": "stdout",
     "output_type": "stream",
     "text": [
      "train test\n",
      "tensor(0.2350, dtype=torch.float64, grad_fn=<NllLossBackward0>)\n",
      "tensor(11.6249, dtype=torch.float64, grad_fn=<NllLossBackward0>)\n",
      "----------\n"
     ]
    },
    {
     "name": "stderr",
     "output_type": "stream",
     "text": [
      " 64%|███████████████████████             | 6421/10000 [1:46:56<57:53,  1.03it/s]"
     ]
    },
    {
     "name": "stdout",
     "output_type": "stream",
     "text": [
      "train test\n",
      "tensor(0.2330, dtype=torch.float64, grad_fn=<NllLossBackward0>)\n",
      "tensor(11.6715, dtype=torch.float64, grad_fn=<NllLossBackward0>)\n",
      "----------\n"
     ]
    },
    {
     "name": "stderr",
     "output_type": "stream",
     "text": [
      " 64%|███████████████████████▏            | 6431/10000 [1:47:06<57:43,  1.03it/s]"
     ]
    },
    {
     "name": "stdout",
     "output_type": "stream",
     "text": [
      "train test\n",
      "tensor(0.2309, dtype=torch.float64, grad_fn=<NllLossBackward0>)\n",
      "tensor(11.7241, dtype=torch.float64, grad_fn=<NllLossBackward0>)\n",
      "----------\n"
     ]
    },
    {
     "name": "stderr",
     "output_type": "stream",
     "text": [
      " 64%|███████████████████████▏            | 6441/10000 [1:47:15<57:44,  1.03it/s]"
     ]
    },
    {
     "name": "stdout",
     "output_type": "stream",
     "text": [
      "train test\n",
      "tensor(0.2302, dtype=torch.float64, grad_fn=<NllLossBackward0>)\n",
      "tensor(11.7478, dtype=torch.float64, grad_fn=<NllLossBackward0>)\n",
      "----------\n"
     ]
    },
    {
     "name": "stderr",
     "output_type": "stream",
     "text": [
      " 65%|███████████████████████▏            | 6451/10000 [1:47:25<57:51,  1.02it/s]"
     ]
    },
    {
     "name": "stdout",
     "output_type": "stream",
     "text": [
      "train test\n",
      "tensor(0.2288, dtype=torch.float64, grad_fn=<NllLossBackward0>)\n",
      "tensor(11.7596, dtype=torch.float64, grad_fn=<NllLossBackward0>)\n",
      "----------\n"
     ]
    },
    {
     "name": "stderr",
     "output_type": "stream",
     "text": [
      " 65%|███████████████████████▎            | 6461/10000 [1:47:35<57:57,  1.02it/s]"
     ]
    },
    {
     "name": "stdout",
     "output_type": "stream",
     "text": [
      "train test\n",
      "tensor(0.2283, dtype=torch.float64, grad_fn=<NllLossBackward0>)\n",
      "tensor(11.7729, dtype=torch.float64, grad_fn=<NllLossBackward0>)\n",
      "----------\n"
     ]
    },
    {
     "name": "stderr",
     "output_type": "stream",
     "text": [
      " 65%|███████████████████████▎            | 6471/10000 [1:47:45<56:52,  1.03it/s]"
     ]
    },
    {
     "name": "stdout",
     "output_type": "stream",
     "text": [
      "train test\n",
      "tensor(0.2271, dtype=torch.float64, grad_fn=<NllLossBackward0>)\n",
      "tensor(11.8024, dtype=torch.float64, grad_fn=<NllLossBackward0>)\n",
      "----------\n"
     ]
    },
    {
     "name": "stderr",
     "output_type": "stream",
     "text": [
      " 65%|███████████████████████▎            | 6481/10000 [1:47:54<56:48,  1.03it/s]"
     ]
    },
    {
     "name": "stdout",
     "output_type": "stream",
     "text": [
      "train test\n",
      "tensor(0.2256, dtype=torch.float64, grad_fn=<NllLossBackward0>)\n",
      "tensor(11.8241, dtype=torch.float64, grad_fn=<NllLossBackward0>)\n",
      "----------\n"
     ]
    },
    {
     "name": "stderr",
     "output_type": "stream",
     "text": [
      " 65%|███████████████████████▎            | 6491/10000 [1:48:04<57:22,  1.02it/s]"
     ]
    },
    {
     "name": "stdout",
     "output_type": "stream",
     "text": [
      "train test\n",
      "tensor(0.2383, dtype=torch.float64, grad_fn=<NllLossBackward0>)\n",
      "tensor(11.8283, dtype=torch.float64, grad_fn=<NllLossBackward0>)\n",
      "----------\n"
     ]
    },
    {
     "name": "stderr",
     "output_type": "stream",
     "text": [
      " 65%|███████████████████████▍            | 6501/10000 [1:48:14<56:09,  1.04it/s]"
     ]
    },
    {
     "name": "stdout",
     "output_type": "stream",
     "text": [
      "train test\n",
      "tensor(0.2370, dtype=torch.float64, grad_fn=<NllLossBackward0>)\n",
      "tensor(11.6814, dtype=torch.float64, grad_fn=<NllLossBackward0>)\n",
      "----------\n"
     ]
    },
    {
     "name": "stderr",
     "output_type": "stream",
     "text": [
      " 65%|███████████████████████▍            | 6511/10000 [1:48:24<56:48,  1.02it/s]"
     ]
    },
    {
     "name": "stdout",
     "output_type": "stream",
     "text": [
      "train test\n",
      "tensor(0.2397, dtype=torch.float64, grad_fn=<NllLossBackward0>)\n",
      "tensor(11.5513, dtype=torch.float64, grad_fn=<NllLossBackward0>)\n",
      "----------\n"
     ]
    },
    {
     "name": "stderr",
     "output_type": "stream",
     "text": [
      " 65%|███████████████████████▍            | 6521/10000 [1:48:33<56:33,  1.03it/s]"
     ]
    },
    {
     "name": "stdout",
     "output_type": "stream",
     "text": [
      "train test\n",
      "tensor(0.2438, dtype=torch.float64, grad_fn=<NllLossBackward0>)\n",
      "tensor(11.4351, dtype=torch.float64, grad_fn=<NllLossBackward0>)\n",
      "----------\n"
     ]
    },
    {
     "name": "stderr",
     "output_type": "stream",
     "text": [
      " 65%|███████████████████████▌            | 6531/10000 [1:48:43<55:34,  1.04it/s]"
     ]
    },
    {
     "name": "stdout",
     "output_type": "stream",
     "text": [
      "train test\n",
      "tensor(0.2472, dtype=torch.float64, grad_fn=<NllLossBackward0>)\n",
      "tensor(11.3577, dtype=torch.float64, grad_fn=<NllLossBackward0>)\n",
      "----------\n"
     ]
    },
    {
     "name": "stderr",
     "output_type": "stream",
     "text": [
      " 65%|███████████████████████▌            | 6541/10000 [1:48:53<56:05,  1.03it/s]"
     ]
    },
    {
     "name": "stdout",
     "output_type": "stream",
     "text": [
      "train test\n",
      "tensor(0.2492, dtype=torch.float64, grad_fn=<NllLossBackward0>)\n",
      "tensor(11.3124, dtype=torch.float64, grad_fn=<NllLossBackward0>)\n",
      "----------\n"
     ]
    },
    {
     "name": "stderr",
     "output_type": "stream",
     "text": [
      " 66%|███████████████████████▌            | 6551/10000 [1:49:02<55:30,  1.04it/s]"
     ]
    },
    {
     "name": "stdout",
     "output_type": "stream",
     "text": [
      "train test\n",
      "tensor(0.2499, dtype=torch.float64, grad_fn=<NllLossBackward0>)\n",
      "tensor(11.3047, dtype=torch.float64, grad_fn=<NllLossBackward0>)\n",
      "----------\n"
     ]
    },
    {
     "name": "stderr",
     "output_type": "stream",
     "text": [
      " 66%|███████████████████████▌            | 6561/10000 [1:49:12<55:41,  1.03it/s]"
     ]
    },
    {
     "name": "stdout",
     "output_type": "stream",
     "text": [
      "train test\n",
      "tensor(0.2493, dtype=torch.float64, grad_fn=<NllLossBackward0>)\n",
      "tensor(11.3220, dtype=torch.float64, grad_fn=<NllLossBackward0>)\n",
      "----------\n"
     ]
    },
    {
     "name": "stderr",
     "output_type": "stream",
     "text": [
      " 66%|███████████████████████▋            | 6571/10000 [1:49:22<55:56,  1.02it/s]"
     ]
    },
    {
     "name": "stdout",
     "output_type": "stream",
     "text": [
      "train test\n",
      "tensor(0.2478, dtype=torch.float64, grad_fn=<NllLossBackward0>)\n",
      "tensor(11.3578, dtype=torch.float64, grad_fn=<NllLossBackward0>)\n",
      "----------\n"
     ]
    },
    {
     "name": "stderr",
     "output_type": "stream",
     "text": [
      " 66%|███████████████████████▋            | 6581/10000 [1:49:32<56:10,  1.01it/s]"
     ]
    },
    {
     "name": "stdout",
     "output_type": "stream",
     "text": [
      "train test\n",
      "tensor(0.2456, dtype=torch.float64, grad_fn=<NllLossBackward0>)\n",
      "tensor(11.4052, dtype=torch.float64, grad_fn=<NllLossBackward0>)\n",
      "----------\n"
     ]
    },
    {
     "name": "stderr",
     "output_type": "stream",
     "text": [
      " 66%|███████████████████████▋            | 6591/10000 [1:49:41<54:54,  1.03it/s]"
     ]
    },
    {
     "name": "stdout",
     "output_type": "stream",
     "text": [
      "train test\n",
      "tensor(0.2434, dtype=torch.float64, grad_fn=<NllLossBackward0>)\n",
      "tensor(11.4642, dtype=torch.float64, grad_fn=<NllLossBackward0>)\n",
      "----------\n"
     ]
    },
    {
     "name": "stderr",
     "output_type": "stream",
     "text": [
      " 66%|███████████████████████▊            | 6601/10000 [1:49:51<55:08,  1.03it/s]"
     ]
    },
    {
     "name": "stdout",
     "output_type": "stream",
     "text": [
      "train test\n",
      "tensor(0.2410, dtype=torch.float64, grad_fn=<NllLossBackward0>)\n",
      "tensor(11.5022, dtype=torch.float64, grad_fn=<NllLossBackward0>)\n",
      "----------\n"
     ]
    },
    {
     "name": "stderr",
     "output_type": "stream",
     "text": [
      " 66%|███████████████████████▊            | 6611/10000 [1:50:01<55:08,  1.02it/s]"
     ]
    },
    {
     "name": "stdout",
     "output_type": "stream",
     "text": [
      "train test\n",
      "tensor(0.2405, dtype=torch.float64, grad_fn=<NllLossBackward0>)\n",
      "tensor(11.5290, dtype=torch.float64, grad_fn=<NllLossBackward0>)\n",
      "----------\n"
     ]
    },
    {
     "name": "stderr",
     "output_type": "stream",
     "text": [
      " 66%|███████████████████████▊            | 6621/10000 [1:50:11<55:01,  1.02it/s]"
     ]
    },
    {
     "name": "stdout",
     "output_type": "stream",
     "text": [
      "train test\n",
      "tensor(0.2384, dtype=torch.float64, grad_fn=<NllLossBackward0>)\n",
      "tensor(11.5592, dtype=torch.float64, grad_fn=<NllLossBackward0>)\n",
      "----------\n"
     ]
    },
    {
     "name": "stderr",
     "output_type": "stream",
     "text": [
      " 66%|███████████████████████▊            | 6631/10000 [1:50:20<54:33,  1.03it/s]"
     ]
    },
    {
     "name": "stdout",
     "output_type": "stream",
     "text": [
      "train test\n",
      "tensor(0.2364, dtype=torch.float64, grad_fn=<NllLossBackward0>)\n",
      "tensor(11.6032, dtype=torch.float64, grad_fn=<NllLossBackward0>)\n",
      "----------\n"
     ]
    },
    {
     "name": "stderr",
     "output_type": "stream",
     "text": [
      " 66%|███████████████████████▉            | 6641/10000 [1:50:30<54:55,  1.02it/s]"
     ]
    },
    {
     "name": "stdout",
     "output_type": "stream",
     "text": [
      "train test\n",
      "tensor(0.2394, dtype=torch.float64, grad_fn=<NllLossBackward0>)\n",
      "tensor(11.6502, dtype=torch.float64, grad_fn=<NllLossBackward0>)\n",
      "----------\n"
     ]
    },
    {
     "name": "stderr",
     "output_type": "stream",
     "text": [
      " 67%|███████████████████████▉            | 6651/10000 [1:50:40<54:13,  1.03it/s]"
     ]
    },
    {
     "name": "stdout",
     "output_type": "stream",
     "text": [
      "train test\n",
      "tensor(0.2352, dtype=torch.float64, grad_fn=<NllLossBackward0>)\n",
      "tensor(11.6583, dtype=torch.float64, grad_fn=<NllLossBackward0>)\n",
      "----------\n"
     ]
    },
    {
     "name": "stderr",
     "output_type": "stream",
     "text": [
      " 67%|███████████████████████▉            | 6661/10000 [1:50:50<54:18,  1.02it/s]"
     ]
    },
    {
     "name": "stdout",
     "output_type": "stream",
     "text": [
      "train test\n",
      "tensor(0.2355, dtype=torch.float64, grad_fn=<NllLossBackward0>)\n",
      "tensor(11.6495, dtype=torch.float64, grad_fn=<NllLossBackward0>)\n",
      "----------\n"
     ]
    },
    {
     "name": "stderr",
     "output_type": "stream",
     "text": [
      " 67%|████████████████████████            | 6671/10000 [1:50:59<53:45,  1.03it/s]"
     ]
    },
    {
     "name": "stdout",
     "output_type": "stream",
     "text": [
      "train test\n",
      "tensor(0.2349, dtype=torch.float64, grad_fn=<NllLossBackward0>)\n",
      "tensor(11.6443, dtype=torch.float64, grad_fn=<NllLossBackward0>)\n",
      "----------\n"
     ]
    },
    {
     "name": "stderr",
     "output_type": "stream",
     "text": [
      " 67%|████████████████████████            | 6681/10000 [1:51:09<53:34,  1.03it/s]"
     ]
    },
    {
     "name": "stdout",
     "output_type": "stream",
     "text": [
      "train test\n",
      "tensor(0.2345, dtype=torch.float64, grad_fn=<NllLossBackward0>)\n",
      "tensor(11.6487, dtype=torch.float64, grad_fn=<NllLossBackward0>)\n",
      "----------\n"
     ]
    },
    {
     "name": "stderr",
     "output_type": "stream",
     "text": [
      " 67%|████████████████████████            | 6691/10000 [1:51:19<53:36,  1.03it/s]"
     ]
    },
    {
     "name": "stdout",
     "output_type": "stream",
     "text": [
      "train test\n",
      "tensor(0.2335, dtype=torch.float64, grad_fn=<NllLossBackward0>)\n",
      "tensor(11.6601, dtype=torch.float64, grad_fn=<NllLossBackward0>)\n",
      "----------\n"
     ]
    },
    {
     "name": "stderr",
     "output_type": "stream",
     "text": [
      " 67%|████████████████████████            | 6701/10000 [1:51:29<53:34,  1.03it/s]"
     ]
    },
    {
     "name": "stdout",
     "output_type": "stream",
     "text": [
      "train test\n",
      "tensor(0.2325, dtype=torch.float64, grad_fn=<NllLossBackward0>)\n",
      "tensor(11.6993, dtype=torch.float64, grad_fn=<NllLossBackward0>)\n",
      "----------\n"
     ]
    },
    {
     "name": "stderr",
     "output_type": "stream",
     "text": [
      " 67%|████████████████████████▏           | 6711/10000 [1:51:38<53:38,  1.02it/s]"
     ]
    },
    {
     "name": "stdout",
     "output_type": "stream",
     "text": [
      "train test\n",
      "tensor(0.2342, dtype=torch.float64, grad_fn=<NllLossBackward0>)\n",
      "tensor(11.6363, dtype=torch.float64, grad_fn=<NllLossBackward0>)\n",
      "----------\n"
     ]
    },
    {
     "name": "stderr",
     "output_type": "stream",
     "text": [
      " 67%|████████████████████████▏           | 6721/10000 [1:51:48<52:45,  1.04it/s]"
     ]
    },
    {
     "name": "stdout",
     "output_type": "stream",
     "text": [
      "train test\n",
      "tensor(0.2383, dtype=torch.float64, grad_fn=<NllLossBackward0>)\n",
      "tensor(11.5888, dtype=torch.float64, grad_fn=<NllLossBackward0>)\n",
      "----------\n"
     ]
    },
    {
     "name": "stderr",
     "output_type": "stream",
     "text": [
      " 67%|████████████████████████▏           | 6731/10000 [1:51:58<53:29,  1.02it/s]"
     ]
    },
    {
     "name": "stdout",
     "output_type": "stream",
     "text": [
      "train test\n",
      "tensor(0.2395, dtype=torch.float64, grad_fn=<NllLossBackward0>)\n",
      "tensor(11.5441, dtype=torch.float64, grad_fn=<NllLossBackward0>)\n",
      "----------\n"
     ]
    },
    {
     "name": "stderr",
     "output_type": "stream",
     "text": [
      " 67%|████████████████████████▎           | 6741/10000 [1:52:08<52:42,  1.03it/s]"
     ]
    },
    {
     "name": "stdout",
     "output_type": "stream",
     "text": [
      "train test\n",
      "tensor(0.2409, dtype=torch.float64, grad_fn=<NllLossBackward0>)\n",
      "tensor(11.5176, dtype=torch.float64, grad_fn=<NllLossBackward0>)\n",
      "----------\n"
     ]
    },
    {
     "name": "stderr",
     "output_type": "stream",
     "text": [
      " 68%|████████████████████████▎           | 6751/10000 [1:52:17<53:19,  1.02it/s]"
     ]
    },
    {
     "name": "stdout",
     "output_type": "stream",
     "text": [
      "train test\n",
      "tensor(0.2411, dtype=torch.float64, grad_fn=<NllLossBackward0>)\n",
      "tensor(11.5151, dtype=torch.float64, grad_fn=<NllLossBackward0>)\n",
      "----------\n"
     ]
    },
    {
     "name": "stderr",
     "output_type": "stream",
     "text": [
      " 68%|████████████████████████▎           | 6761/10000 [1:52:27<53:01,  1.02it/s]"
     ]
    },
    {
     "name": "stdout",
     "output_type": "stream",
     "text": [
      "train test\n",
      "tensor(0.2403, dtype=torch.float64, grad_fn=<NllLossBackward0>)\n",
      "tensor(11.5286, dtype=torch.float64, grad_fn=<NllLossBackward0>)\n",
      "----------\n"
     ]
    },
    {
     "name": "stderr",
     "output_type": "stream",
     "text": [
      " 68%|████████████████████████▍           | 6771/10000 [1:52:37<52:38,  1.02it/s]"
     ]
    },
    {
     "name": "stdout",
     "output_type": "stream",
     "text": [
      "train test\n",
      "tensor(0.2388, dtype=torch.float64, grad_fn=<NllLossBackward0>)\n",
      "tensor(11.5679, dtype=torch.float64, grad_fn=<NllLossBackward0>)\n",
      "----------\n"
     ]
    },
    {
     "name": "stderr",
     "output_type": "stream",
     "text": [
      " 68%|████████████████████████▍           | 6781/10000 [1:52:47<52:09,  1.03it/s]"
     ]
    },
    {
     "name": "stdout",
     "output_type": "stream",
     "text": [
      "train test\n",
      "tensor(0.2366, dtype=torch.float64, grad_fn=<NllLossBackward0>)\n",
      "tensor(11.6147, dtype=torch.float64, grad_fn=<NllLossBackward0>)\n",
      "----------\n"
     ]
    },
    {
     "name": "stderr",
     "output_type": "stream",
     "text": [
      " 68%|████████████████████████▍           | 6791/10000 [1:52:56<51:46,  1.03it/s]"
     ]
    },
    {
     "name": "stdout",
     "output_type": "stream",
     "text": [
      "train test\n",
      "tensor(0.2387, dtype=torch.float64, grad_fn=<NllLossBackward0>)\n",
      "tensor(11.6804, dtype=torch.float64, grad_fn=<NllLossBackward0>)\n",
      "----------\n"
     ]
    },
    {
     "name": "stderr",
     "output_type": "stream",
     "text": [
      " 68%|████████████████████████▍           | 6801/10000 [1:53:06<52:28,  1.02it/s]"
     ]
    },
    {
     "name": "stdout",
     "output_type": "stream",
     "text": [
      "train test\n",
      "tensor(0.2362, dtype=torch.float64, grad_fn=<NllLossBackward0>)\n",
      "tensor(11.6600, dtype=torch.float64, grad_fn=<NllLossBackward0>)\n",
      "----------\n"
     ]
    },
    {
     "name": "stderr",
     "output_type": "stream",
     "text": [
      " 68%|████████████████████████▌           | 6811/10000 [1:53:16<52:22,  1.01it/s]"
     ]
    },
    {
     "name": "stdout",
     "output_type": "stream",
     "text": [
      "train test\n",
      "tensor(0.2356, dtype=torch.float64, grad_fn=<NllLossBackward0>)\n",
      "tensor(11.6476, dtype=torch.float64, grad_fn=<NllLossBackward0>)\n",
      "----------\n"
     ]
    },
    {
     "name": "stderr",
     "output_type": "stream",
     "text": [
      " 68%|████████████████████████▌           | 6821/10000 [1:53:26<52:03,  1.02it/s]"
     ]
    },
    {
     "name": "stdout",
     "output_type": "stream",
     "text": [
      "train test\n",
      "tensor(0.2355, dtype=torch.float64, grad_fn=<NllLossBackward0>)\n",
      "tensor(11.6465, dtype=torch.float64, grad_fn=<NllLossBackward0>)\n",
      "----------\n"
     ]
    },
    {
     "name": "stderr",
     "output_type": "stream",
     "text": [
      " 68%|████████████████████████▌           | 6831/10000 [1:53:35<51:27,  1.03it/s]"
     ]
    },
    {
     "name": "stdout",
     "output_type": "stream",
     "text": [
      "train test\n",
      "tensor(0.2349, dtype=torch.float64, grad_fn=<NllLossBackward0>)\n",
      "tensor(11.6548, dtype=torch.float64, grad_fn=<NllLossBackward0>)\n",
      "----------\n"
     ]
    },
    {
     "name": "stderr",
     "output_type": "stream",
     "text": [
      " 68%|████████████████████████▋           | 6841/10000 [1:53:45<50:39,  1.04it/s]"
     ]
    },
    {
     "name": "stdout",
     "output_type": "stream",
     "text": [
      "train test\n",
      "tensor(0.2335, dtype=torch.float64, grad_fn=<NllLossBackward0>)\n",
      "tensor(11.6866, dtype=torch.float64, grad_fn=<NllLossBackward0>)\n",
      "----------\n"
     ]
    },
    {
     "name": "stderr",
     "output_type": "stream",
     "text": [
      " 69%|████████████████████████▋           | 6851/10000 [1:53:55<51:38,  1.02it/s]"
     ]
    },
    {
     "name": "stdout",
     "output_type": "stream",
     "text": [
      "train test\n",
      "tensor(0.2314, dtype=torch.float64, grad_fn=<NllLossBackward0>)\n",
      "tensor(11.7300, dtype=torch.float64, grad_fn=<NllLossBackward0>)\n",
      "----------\n"
     ]
    },
    {
     "name": "stderr",
     "output_type": "stream",
     "text": [
      " 69%|████████████████████████▋           | 6861/10000 [1:54:05<51:01,  1.03it/s]"
     ]
    },
    {
     "name": "stdout",
     "output_type": "stream",
     "text": [
      "train test\n",
      "tensor(0.2434, dtype=torch.float64, grad_fn=<NllLossBackward0>)\n",
      "tensor(11.7952, dtype=torch.float64, grad_fn=<NllLossBackward0>)\n",
      "----------\n"
     ]
    },
    {
     "name": "stderr",
     "output_type": "stream",
     "text": [
      " 69%|████████████████████████▋           | 6871/10000 [1:54:15<51:20,  1.02it/s]"
     ]
    },
    {
     "name": "stdout",
     "output_type": "stream",
     "text": [
      "train test\n",
      "tensor(0.2363, dtype=torch.float64, grad_fn=<NllLossBackward0>)\n",
      "tensor(11.6690, dtype=torch.float64, grad_fn=<NllLossBackward0>)\n",
      "----------\n"
     ]
    },
    {
     "name": "stderr",
     "output_type": "stream",
     "text": [
      " 69%|████████████████████████▊           | 6881/10000 [1:54:24<50:38,  1.03it/s]"
     ]
    },
    {
     "name": "stdout",
     "output_type": "stream",
     "text": [
      "train test\n",
      "tensor(0.2397, dtype=torch.float64, grad_fn=<NllLossBackward0>)\n",
      "tensor(11.5595, dtype=torch.float64, grad_fn=<NllLossBackward0>)\n",
      "----------\n"
     ]
    },
    {
     "name": "stderr",
     "output_type": "stream",
     "text": [
      " 69%|████████████████████████▊           | 6891/10000 [1:54:34<50:15,  1.03it/s]"
     ]
    },
    {
     "name": "stdout",
     "output_type": "stream",
     "text": [
      "train test\n",
      "tensor(0.2434, dtype=torch.float64, grad_fn=<NllLossBackward0>)\n",
      "tensor(11.4620, dtype=torch.float64, grad_fn=<NllLossBackward0>)\n",
      "----------\n"
     ]
    },
    {
     "name": "stderr",
     "output_type": "stream",
     "text": [
      " 69%|████████████████████████▊           | 6901/10000 [1:54:44<50:28,  1.02it/s]"
     ]
    },
    {
     "name": "stdout",
     "output_type": "stream",
     "text": [
      "train test\n",
      "tensor(0.2461, dtype=torch.float64, grad_fn=<NllLossBackward0>)\n",
      "tensor(11.4064, dtype=torch.float64, grad_fn=<NllLossBackward0>)\n",
      "----------\n"
     ]
    },
    {
     "name": "stderr",
     "output_type": "stream",
     "text": [
      " 69%|████████████████████████▉           | 6911/10000 [1:54:54<49:54,  1.03it/s]"
     ]
    },
    {
     "name": "stdout",
     "output_type": "stream",
     "text": [
      "train test\n",
      "tensor(0.2476, dtype=torch.float64, grad_fn=<NllLossBackward0>)\n",
      "tensor(11.3692, dtype=torch.float64, grad_fn=<NllLossBackward0>)\n",
      "----------\n"
     ]
    },
    {
     "name": "stderr",
     "output_type": "stream",
     "text": [
      " 69%|████████████████████████▉           | 6921/10000 [1:55:03<50:10,  1.02it/s]"
     ]
    },
    {
     "name": "stdout",
     "output_type": "stream",
     "text": [
      "train test\n",
      "tensor(0.2478, dtype=torch.float64, grad_fn=<NllLossBackward0>)\n",
      "tensor(11.3696, dtype=torch.float64, grad_fn=<NllLossBackward0>)\n",
      "----------\n"
     ]
    },
    {
     "name": "stderr",
     "output_type": "stream",
     "text": [
      " 69%|████████████████████████▉           | 6931/10000 [1:55:13<50:08,  1.02it/s]"
     ]
    },
    {
     "name": "stdout",
     "output_type": "stream",
     "text": [
      "train test\n",
      "tensor(0.2470, dtype=torch.float64, grad_fn=<NllLossBackward0>)\n",
      "tensor(11.3884, dtype=torch.float64, grad_fn=<NllLossBackward0>)\n",
      "----------\n"
     ]
    },
    {
     "name": "stderr",
     "output_type": "stream",
     "text": [
      " 69%|████████████████████████▉           | 6941/10000 [1:55:23<49:07,  1.04it/s]"
     ]
    },
    {
     "name": "stdout",
     "output_type": "stream",
     "text": [
      "train test\n",
      "tensor(0.2454, dtype=torch.float64, grad_fn=<NllLossBackward0>)\n",
      "tensor(11.4262, dtype=torch.float64, grad_fn=<NllLossBackward0>)\n",
      "----------\n"
     ]
    },
    {
     "name": "stderr",
     "output_type": "stream",
     "text": [
      " 70%|█████████████████████████           | 6951/10000 [1:55:33<49:40,  1.02it/s]"
     ]
    },
    {
     "name": "stdout",
     "output_type": "stream",
     "text": [
      "train test\n",
      "tensor(0.2470, dtype=torch.float64, grad_fn=<NllLossBackward0>)\n",
      "tensor(11.4687, dtype=torch.float64, grad_fn=<NllLossBackward0>)\n",
      "----------\n"
     ]
    },
    {
     "name": "stderr",
     "output_type": "stream",
     "text": [
      " 70%|█████████████████████████           | 6961/10000 [1:55:42<49:07,  1.03it/s]"
     ]
    },
    {
     "name": "stdout",
     "output_type": "stream",
     "text": [
      "train test\n",
      "tensor(0.2430, dtype=torch.float64, grad_fn=<NllLossBackward0>)\n",
      "tensor(11.4814, dtype=torch.float64, grad_fn=<NllLossBackward0>)\n",
      "----------\n"
     ]
    },
    {
     "name": "stderr",
     "output_type": "stream",
     "text": [
      " 70%|█████████████████████████           | 6971/10000 [1:55:52<49:57,  1.01it/s]"
     ]
    },
    {
     "name": "stdout",
     "output_type": "stream",
     "text": [
      "train test\n",
      "tensor(0.2426, dtype=torch.float64, grad_fn=<NllLossBackward0>)\n",
      "tensor(11.4982, dtype=torch.float64, grad_fn=<NllLossBackward0>)\n",
      "----------\n"
     ]
    },
    {
     "name": "stderr",
     "output_type": "stream",
     "text": [
      " 70%|█████████████████████████▏          | 6981/10000 [1:56:02<49:02,  1.03it/s]"
     ]
    },
    {
     "name": "stdout",
     "output_type": "stream",
     "text": [
      "train test\n",
      "tensor(0.2409, dtype=torch.float64, grad_fn=<NllLossBackward0>)\n",
      "tensor(11.5204, dtype=torch.float64, grad_fn=<NllLossBackward0>)\n",
      "----------\n"
     ]
    },
    {
     "name": "stderr",
     "output_type": "stream",
     "text": [
      " 70%|█████████████████████████▏          | 6991/10000 [1:56:12<48:47,  1.03it/s]"
     ]
    },
    {
     "name": "stdout",
     "output_type": "stream",
     "text": [
      "train test\n",
      "tensor(0.2392, dtype=torch.float64, grad_fn=<NllLossBackward0>)\n",
      "tensor(11.5495, dtype=torch.float64, grad_fn=<NllLossBackward0>)\n",
      "----------\n"
     ]
    },
    {
     "name": "stderr",
     "output_type": "stream",
     "text": [
      " 70%|█████████████████████████▏          | 7001/10000 [1:56:21<48:37,  1.03it/s]"
     ]
    },
    {
     "name": "stdout",
     "output_type": "stream",
     "text": [
      "train test\n",
      "tensor(0.2369, dtype=torch.float64, grad_fn=<NllLossBackward0>)\n",
      "tensor(11.6068, dtype=torch.float64, grad_fn=<NllLossBackward0>)\n",
      "----------\n"
     ]
    },
    {
     "name": "stderr",
     "output_type": "stream",
     "text": [
      " 70%|█████████████████████████▏          | 7011/10000 [1:56:31<48:02,  1.04it/s]"
     ]
    },
    {
     "name": "stdout",
     "output_type": "stream",
     "text": [
      "train test\n",
      "tensor(0.2460, dtype=torch.float64, grad_fn=<NllLossBackward0>)\n",
      "tensor(11.6601, dtype=torch.float64, grad_fn=<NllLossBackward0>)\n",
      "----------\n"
     ]
    },
    {
     "name": "stderr",
     "output_type": "stream",
     "text": [
      " 70%|█████████████████████████▎          | 7021/10000 [1:56:41<48:27,  1.02it/s]"
     ]
    },
    {
     "name": "stdout",
     "output_type": "stream",
     "text": [
      "train test\n",
      "tensor(0.2373, dtype=torch.float64, grad_fn=<NllLossBackward0>)\n",
      "tensor(11.5838, dtype=torch.float64, grad_fn=<NllLossBackward0>)\n",
      "----------\n"
     ]
    },
    {
     "name": "stderr",
     "output_type": "stream",
     "text": [
      " 70%|█████████████████████████▎          | 7031/10000 [1:56:50<47:49,  1.03it/s]"
     ]
    },
    {
     "name": "stdout",
     "output_type": "stream",
     "text": [
      "train test\n",
      "tensor(0.2408, dtype=torch.float64, grad_fn=<NllLossBackward0>)\n",
      "tensor(11.5303, dtype=torch.float64, grad_fn=<NllLossBackward0>)\n",
      "----------\n"
     ]
    },
    {
     "name": "stderr",
     "output_type": "stream",
     "text": [
      " 70%|█████████████████████████▎          | 7041/10000 [1:57:00<48:05,  1.03it/s]"
     ]
    },
    {
     "name": "stdout",
     "output_type": "stream",
     "text": [
      "train test\n",
      "tensor(0.2423, dtype=torch.float64, grad_fn=<NllLossBackward0>)\n",
      "tensor(11.4893, dtype=torch.float64, grad_fn=<NllLossBackward0>)\n",
      "----------\n"
     ]
    },
    {
     "name": "stderr",
     "output_type": "stream",
     "text": [
      " 71%|█████████████████████████▍          | 7051/10000 [1:57:10<47:49,  1.03it/s]"
     ]
    },
    {
     "name": "stdout",
     "output_type": "stream",
     "text": [
      "train test\n",
      "tensor(0.2431, dtype=torch.float64, grad_fn=<NllLossBackward0>)\n",
      "tensor(11.4656, dtype=torch.float64, grad_fn=<NllLossBackward0>)\n",
      "----------\n"
     ]
    },
    {
     "name": "stderr",
     "output_type": "stream",
     "text": [
      " 71%|█████████████████████████▍          | 7061/10000 [1:57:19<47:04,  1.04it/s]"
     ]
    },
    {
     "name": "stdout",
     "output_type": "stream",
     "text": [
      "train test\n",
      "tensor(0.2426, dtype=torch.float64, grad_fn=<NllLossBackward0>)\n",
      "tensor(11.4818, dtype=torch.float64, grad_fn=<NllLossBackward0>)\n",
      "----------\n"
     ]
    },
    {
     "name": "stderr",
     "output_type": "stream",
     "text": [
      " 71%|█████████████████████████▍          | 7071/10000 [1:57:29<47:46,  1.02it/s]"
     ]
    },
    {
     "name": "stdout",
     "output_type": "stream",
     "text": [
      "train test\n",
      "tensor(0.2413, dtype=torch.float64, grad_fn=<NllLossBackward0>)\n",
      "tensor(11.5055, dtype=torch.float64, grad_fn=<NllLossBackward0>)\n",
      "----------\n"
     ]
    },
    {
     "name": "stderr",
     "output_type": "stream",
     "text": [
      " 71%|█████████████████████████▍          | 7081/10000 [1:57:39<47:20,  1.03it/s]"
     ]
    },
    {
     "name": "stdout",
     "output_type": "stream",
     "text": [
      "train test\n",
      "tensor(0.2393, dtype=torch.float64, grad_fn=<NllLossBackward0>)\n",
      "tensor(11.5576, dtype=torch.float64, grad_fn=<NllLossBackward0>)\n",
      "----------\n"
     ]
    },
    {
     "name": "stderr",
     "output_type": "stream",
     "text": [
      " 71%|█████████████████████████▌          | 7091/10000 [1:57:49<47:18,  1.02it/s]"
     ]
    },
    {
     "name": "stdout",
     "output_type": "stream",
     "text": [
      "train test\n",
      "tensor(0.2381, dtype=torch.float64, grad_fn=<NllLossBackward0>)\n",
      "tensor(11.6063, dtype=torch.float64, grad_fn=<NllLossBackward0>)\n",
      "----------\n"
     ]
    },
    {
     "name": "stderr",
     "output_type": "stream",
     "text": [
      " 71%|█████████████████████████▌          | 7101/10000 [1:57:58<46:42,  1.03it/s]"
     ]
    },
    {
     "name": "stdout",
     "output_type": "stream",
     "text": [
      "train test\n",
      "tensor(0.2386, dtype=torch.float64, grad_fn=<NllLossBackward0>)\n",
      "tensor(11.5858, dtype=torch.float64, grad_fn=<NllLossBackward0>)\n",
      "----------\n"
     ]
    },
    {
     "name": "stderr",
     "output_type": "stream",
     "text": [
      " 71%|█████████████████████████▌          | 7111/10000 [1:58:08<46:53,  1.03it/s]"
     ]
    },
    {
     "name": "stdout",
     "output_type": "stream",
     "text": [
      "train test\n",
      "tensor(0.2387, dtype=torch.float64, grad_fn=<NllLossBackward0>)\n",
      "tensor(11.5654, dtype=torch.float64, grad_fn=<NllLossBackward0>)\n",
      "----------\n"
     ]
    },
    {
     "name": "stderr",
     "output_type": "stream",
     "text": [
      " 71%|█████████████████████████▋          | 7121/10000 [1:58:18<46:40,  1.03it/s]"
     ]
    },
    {
     "name": "stdout",
     "output_type": "stream",
     "text": [
      "train test\n",
      "tensor(0.2402, dtype=torch.float64, grad_fn=<NllLossBackward0>)\n",
      "tensor(11.5372, dtype=torch.float64, grad_fn=<NllLossBackward0>)\n",
      "----------\n"
     ]
    },
    {
     "name": "stderr",
     "output_type": "stream",
     "text": [
      " 71%|█████████████████████████▋          | 7131/10000 [1:58:28<46:19,  1.03it/s]"
     ]
    },
    {
     "name": "stdout",
     "output_type": "stream",
     "text": [
      "train test\n",
      "tensor(0.2407, dtype=torch.float64, grad_fn=<NllLossBackward0>)\n",
      "tensor(11.5230, dtype=torch.float64, grad_fn=<NllLossBackward0>)\n",
      "----------\n"
     ]
    },
    {
     "name": "stderr",
     "output_type": "stream",
     "text": [
      " 71%|█████████████████████████▋          | 7141/10000 [1:58:37<46:28,  1.03it/s]"
     ]
    },
    {
     "name": "stdout",
     "output_type": "stream",
     "text": [
      "train test\n",
      "tensor(0.2402, dtype=torch.float64, grad_fn=<NllLossBackward0>)\n",
      "tensor(11.5400, dtype=torch.float64, grad_fn=<NllLossBackward0>)\n",
      "----------\n"
     ]
    },
    {
     "name": "stderr",
     "output_type": "stream",
     "text": [
      " 72%|█████████████████████████▋          | 7151/10000 [1:58:47<45:49,  1.04it/s]"
     ]
    },
    {
     "name": "stdout",
     "output_type": "stream",
     "text": [
      "train test\n",
      "tensor(0.2389, dtype=torch.float64, grad_fn=<NllLossBackward0>)\n",
      "tensor(11.5661, dtype=torch.float64, grad_fn=<NllLossBackward0>)\n",
      "----------\n"
     ]
    },
    {
     "name": "stderr",
     "output_type": "stream",
     "text": [
      " 72%|█████████████████████████▊          | 7161/10000 [1:58:57<47:25,  1.00s/it]"
     ]
    },
    {
     "name": "stdout",
     "output_type": "stream",
     "text": [
      "train test\n",
      "tensor(0.2368, dtype=torch.float64, grad_fn=<NllLossBackward0>)\n",
      "tensor(11.6125, dtype=torch.float64, grad_fn=<NllLossBackward0>)\n",
      "----------\n"
     ]
    },
    {
     "name": "stderr",
     "output_type": "stream",
     "text": [
      " 72%|█████████████████████████▊          | 7171/10000 [1:59:07<46:15,  1.02it/s]"
     ]
    },
    {
     "name": "stdout",
     "output_type": "stream",
     "text": [
      "train test\n",
      "tensor(0.2389, dtype=torch.float64, grad_fn=<NllLossBackward0>)\n",
      "tensor(11.6730, dtype=torch.float64, grad_fn=<NllLossBackward0>)\n",
      "----------\n"
     ]
    },
    {
     "name": "stderr",
     "output_type": "stream",
     "text": [
      " 72%|█████████████████████████▊          | 7181/10000 [1:59:17<46:17,  1.01it/s]"
     ]
    },
    {
     "name": "stdout",
     "output_type": "stream",
     "text": [
      "train test\n",
      "tensor(0.2403, dtype=torch.float64, grad_fn=<NllLossBackward0>)\n",
      "tensor(11.6311, dtype=torch.float64, grad_fn=<NllLossBackward0>)\n",
      "----------\n"
     ]
    },
    {
     "name": "stderr",
     "output_type": "stream",
     "text": [
      " 72%|█████████████████████████▉          | 7191/10000 [1:59:26<45:34,  1.03it/s]"
     ]
    },
    {
     "name": "stdout",
     "output_type": "stream",
     "text": [
      "train test\n",
      "tensor(0.2396, dtype=torch.float64, grad_fn=<NllLossBackward0>)\n",
      "tensor(11.5696, dtype=torch.float64, grad_fn=<NllLossBackward0>)\n",
      "----------\n"
     ]
    },
    {
     "name": "stderr",
     "output_type": "stream",
     "text": [
      " 72%|█████████████████████████▉          | 7201/10000 [1:59:36<45:41,  1.02it/s]"
     ]
    },
    {
     "name": "stdout",
     "output_type": "stream",
     "text": [
      "train test\n",
      "tensor(0.2423, dtype=torch.float64, grad_fn=<NllLossBackward0>)\n",
      "tensor(11.5131, dtype=torch.float64, grad_fn=<NllLossBackward0>)\n",
      "----------\n"
     ]
    },
    {
     "name": "stderr",
     "output_type": "stream",
     "text": [
      " 72%|█████████████████████████▉          | 7211/10000 [1:59:46<45:46,  1.02it/s]"
     ]
    },
    {
     "name": "stdout",
     "output_type": "stream",
     "text": [
      "train test\n",
      "tensor(0.2436, dtype=torch.float64, grad_fn=<NllLossBackward0>)\n",
      "tensor(11.4733, dtype=torch.float64, grad_fn=<NllLossBackward0>)\n",
      "----------\n"
     ]
    },
    {
     "name": "stderr",
     "output_type": "stream",
     "text": [
      " 72%|█████████████████████████▉          | 7221/10000 [1:59:56<45:01,  1.03it/s]"
     ]
    },
    {
     "name": "stdout",
     "output_type": "stream",
     "text": [
      "train test\n",
      "tensor(0.2440, dtype=torch.float64, grad_fn=<NllLossBackward0>)\n",
      "tensor(11.4684, dtype=torch.float64, grad_fn=<NllLossBackward0>)\n",
      "----------\n"
     ]
    },
    {
     "name": "stderr",
     "output_type": "stream",
     "text": [
      " 72%|██████████████████████████          | 7231/10000 [2:00:05<45:24,  1.02it/s]"
     ]
    },
    {
     "name": "stdout",
     "output_type": "stream",
     "text": [
      "train test\n",
      "tensor(0.2434, dtype=torch.float64, grad_fn=<NllLossBackward0>)\n",
      "tensor(11.4780, dtype=torch.float64, grad_fn=<NllLossBackward0>)\n",
      "----------\n"
     ]
    },
    {
     "name": "stderr",
     "output_type": "stream",
     "text": [
      " 72%|██████████████████████████          | 7241/10000 [2:00:15<44:28,  1.03it/s]"
     ]
    },
    {
     "name": "stdout",
     "output_type": "stream",
     "text": [
      "train test\n",
      "tensor(0.2420, dtype=torch.float64, grad_fn=<NllLossBackward0>)\n",
      "tensor(11.5127, dtype=torch.float64, grad_fn=<NllLossBackward0>)\n",
      "----------\n"
     ]
    },
    {
     "name": "stderr",
     "output_type": "stream",
     "text": [
      " 73%|██████████████████████████          | 7251/10000 [2:00:25<44:28,  1.03it/s]"
     ]
    },
    {
     "name": "stdout",
     "output_type": "stream",
     "text": [
      "train test\n",
      "tensor(0.2399, dtype=torch.float64, grad_fn=<NllLossBackward0>)\n",
      "tensor(11.5636, dtype=torch.float64, grad_fn=<NllLossBackward0>)\n",
      "----------\n"
     ]
    },
    {
     "name": "stderr",
     "output_type": "stream",
     "text": [
      " 73%|██████████████████████████▏         | 7261/10000 [2:00:35<44:20,  1.03it/s]"
     ]
    },
    {
     "name": "stdout",
     "output_type": "stream",
     "text": [
      "train test\n",
      "tensor(0.2410, dtype=torch.float64, grad_fn=<NllLossBackward0>)\n",
      "tensor(11.6002, dtype=torch.float64, grad_fn=<NllLossBackward0>)\n",
      "----------\n"
     ]
    },
    {
     "name": "stderr",
     "output_type": "stream",
     "text": [
      " 73%|██████████████████████████▏         | 7271/10000 [2:00:44<44:01,  1.03it/s]"
     ]
    },
    {
     "name": "stdout",
     "output_type": "stream",
     "text": [
      "train test\n",
      "tensor(0.2402, dtype=torch.float64, grad_fn=<NllLossBackward0>)\n",
      "tensor(11.6047, dtype=torch.float64, grad_fn=<NllLossBackward0>)\n",
      "----------\n"
     ]
    },
    {
     "name": "stderr",
     "output_type": "stream",
     "text": [
      " 73%|██████████████████████████▏         | 7281/10000 [2:00:54<44:22,  1.02it/s]"
     ]
    },
    {
     "name": "stdout",
     "output_type": "stream",
     "text": [
      "train test\n",
      "tensor(0.2389, dtype=torch.float64, grad_fn=<NllLossBackward0>)\n",
      "tensor(11.5913, dtype=torch.float64, grad_fn=<NllLossBackward0>)\n",
      "----------\n"
     ]
    },
    {
     "name": "stderr",
     "output_type": "stream",
     "text": [
      " 73%|██████████████████████████▏         | 7291/10000 [2:01:04<43:54,  1.03it/s]"
     ]
    },
    {
     "name": "stdout",
     "output_type": "stream",
     "text": [
      "train test\n",
      "tensor(0.2395, dtype=torch.float64, grad_fn=<NllLossBackward0>)\n",
      "tensor(11.5802, dtype=torch.float64, grad_fn=<NllLossBackward0>)\n",
      "----------\n"
     ]
    },
    {
     "name": "stderr",
     "output_type": "stream",
     "text": [
      " 73%|██████████████████████████▎         | 7301/10000 [2:01:13<43:34,  1.03it/s]"
     ]
    },
    {
     "name": "stdout",
     "output_type": "stream",
     "text": [
      "train test\n",
      "tensor(0.2392, dtype=torch.float64, grad_fn=<NllLossBackward0>)\n",
      "tensor(11.5804, dtype=torch.float64, grad_fn=<NllLossBackward0>)\n",
      "----------\n"
     ]
    },
    {
     "name": "stderr",
     "output_type": "stream",
     "text": [
      " 73%|██████████████████████████▎         | 7311/10000 [2:01:23<43:51,  1.02it/s]"
     ]
    },
    {
     "name": "stdout",
     "output_type": "stream",
     "text": [
      "train test\n",
      "tensor(0.2385, dtype=torch.float64, grad_fn=<NllLossBackward0>)\n",
      "tensor(11.5946, dtype=torch.float64, grad_fn=<NllLossBackward0>)\n",
      "----------\n"
     ]
    },
    {
     "name": "stderr",
     "output_type": "stream",
     "text": [
      " 73%|██████████████████████████▎         | 7321/10000 [2:01:33<43:01,  1.04it/s]"
     ]
    },
    {
     "name": "stdout",
     "output_type": "stream",
     "text": [
      "train test\n",
      "tensor(0.2369, dtype=torch.float64, grad_fn=<NllLossBackward0>)\n",
      "tensor(11.6281, dtype=torch.float64, grad_fn=<NllLossBackward0>)\n",
      "----------\n"
     ]
    },
    {
     "name": "stderr",
     "output_type": "stream",
     "text": [
      " 73%|██████████████████████████▍         | 7331/10000 [2:01:43<43:46,  1.02it/s]"
     ]
    },
    {
     "name": "stdout",
     "output_type": "stream",
     "text": [
      "train test\n",
      "tensor(0.2354, dtype=torch.float64, grad_fn=<NllLossBackward0>)\n",
      "tensor(11.6817, dtype=torch.float64, grad_fn=<NllLossBackward0>)\n",
      "----------\n"
     ]
    },
    {
     "name": "stderr",
     "output_type": "stream",
     "text": [
      " 73%|██████████████████████████▍         | 7341/10000 [2:01:52<42:30,  1.04it/s]"
     ]
    },
    {
     "name": "stdout",
     "output_type": "stream",
     "text": [
      "train test\n",
      "tensor(0.2345, dtype=torch.float64, grad_fn=<NllLossBackward0>)\n",
      "tensor(11.6916, dtype=torch.float64, grad_fn=<NllLossBackward0>)\n",
      "----------\n"
     ]
    },
    {
     "name": "stderr",
     "output_type": "stream",
     "text": [
      " 74%|██████████████████████████▍         | 7351/10000 [2:02:02<42:34,  1.04it/s]"
     ]
    },
    {
     "name": "stdout",
     "output_type": "stream",
     "text": [
      "train test\n",
      "tensor(0.2336, dtype=torch.float64, grad_fn=<NllLossBackward0>)\n",
      "tensor(11.7086, dtype=torch.float64, grad_fn=<NllLossBackward0>)\n",
      "----------\n"
     ]
    },
    {
     "name": "stderr",
     "output_type": "stream",
     "text": [
      " 74%|██████████████████████████▍         | 7361/10000 [2:02:12<42:23,  1.04it/s]"
     ]
    },
    {
     "name": "stdout",
     "output_type": "stream",
     "text": [
      "train test\n",
      "tensor(0.2323, dtype=torch.float64, grad_fn=<NllLossBackward0>)\n",
      "tensor(11.7233, dtype=torch.float64, grad_fn=<NllLossBackward0>)\n",
      "----------\n"
     ]
    },
    {
     "name": "stderr",
     "output_type": "stream",
     "text": [
      " 74%|██████████████████████████▌         | 7371/10000 [2:02:21<42:32,  1.03it/s]"
     ]
    },
    {
     "name": "stdout",
     "output_type": "stream",
     "text": [
      "train test\n",
      "tensor(0.2308, dtype=torch.float64, grad_fn=<NllLossBackward0>)\n",
      "tensor(11.7565, dtype=torch.float64, grad_fn=<NllLossBackward0>)\n",
      "----------\n"
     ]
    },
    {
     "name": "stderr",
     "output_type": "stream",
     "text": [
      " 74%|██████████████████████████▌         | 7381/10000 [2:02:31<42:52,  1.02it/s]"
     ]
    },
    {
     "name": "stdout",
     "output_type": "stream",
     "text": [
      "train test\n",
      "tensor(0.2295, dtype=torch.float64, grad_fn=<NllLossBackward0>)\n",
      "tensor(11.7926, dtype=torch.float64, grad_fn=<NllLossBackward0>)\n",
      "----------\n"
     ]
    },
    {
     "name": "stderr",
     "output_type": "stream",
     "text": [
      " 74%|██████████████████████████▌         | 7391/10000 [2:02:41<42:16,  1.03it/s]"
     ]
    },
    {
     "name": "stdout",
     "output_type": "stream",
     "text": [
      "train test\n",
      "tensor(0.2294, dtype=torch.float64, grad_fn=<NllLossBackward0>)\n",
      "tensor(11.8105, dtype=torch.float64, grad_fn=<NllLossBackward0>)\n",
      "----------\n"
     ]
    },
    {
     "name": "stderr",
     "output_type": "stream",
     "text": [
      " 74%|██████████████████████████▋         | 7401/10000 [2:02:51<42:26,  1.02it/s]"
     ]
    },
    {
     "name": "stdout",
     "output_type": "stream",
     "text": [
      "train test\n",
      "tensor(0.2287, dtype=torch.float64, grad_fn=<NllLossBackward0>)\n",
      "tensor(11.8105, dtype=torch.float64, grad_fn=<NllLossBackward0>)\n",
      "----------\n"
     ]
    },
    {
     "name": "stderr",
     "output_type": "stream",
     "text": [
      " 74%|██████████████████████████▋         | 7411/10000 [2:03:00<41:23,  1.04it/s]"
     ]
    },
    {
     "name": "stdout",
     "output_type": "stream",
     "text": [
      "train test\n",
      "tensor(0.2283, dtype=torch.float64, grad_fn=<NllLossBackward0>)\n",
      "tensor(11.8136, dtype=torch.float64, grad_fn=<NllLossBackward0>)\n",
      "----------\n"
     ]
    },
    {
     "name": "stderr",
     "output_type": "stream",
     "text": [
      " 74%|██████████████████████████▋         | 7421/10000 [2:03:10<41:56,  1.02it/s]"
     ]
    },
    {
     "name": "stdout",
     "output_type": "stream",
     "text": [
      "train test\n",
      "tensor(0.2274, dtype=torch.float64, grad_fn=<NllLossBackward0>)\n",
      "tensor(11.8265, dtype=torch.float64, grad_fn=<NllLossBackward0>)\n",
      "----------\n"
     ]
    },
    {
     "name": "stderr",
     "output_type": "stream",
     "text": [
      " 74%|██████████████████████████▊         | 7431/10000 [2:03:20<41:58,  1.02it/s]"
     ]
    },
    {
     "name": "stdout",
     "output_type": "stream",
     "text": [
      "train test\n",
      "tensor(0.2362, dtype=torch.float64, grad_fn=<NllLossBackward0>)\n",
      "tensor(11.8634, dtype=torch.float64, grad_fn=<NllLossBackward0>)\n",
      "----------\n"
     ]
    },
    {
     "name": "stderr",
     "output_type": "stream",
     "text": [
      " 74%|██████████████████████████▊         | 7441/10000 [2:03:30<41:16,  1.03it/s]"
     ]
    },
    {
     "name": "stdout",
     "output_type": "stream",
     "text": [
      "train test\n",
      "tensor(0.2326, dtype=torch.float64, grad_fn=<NllLossBackward0>)\n",
      "tensor(11.7759, dtype=torch.float64, grad_fn=<NllLossBackward0>)\n",
      "----------\n"
     ]
    },
    {
     "name": "stderr",
     "output_type": "stream",
     "text": [
      " 75%|██████████████████████████▊         | 7451/10000 [2:03:39<41:34,  1.02it/s]"
     ]
    },
    {
     "name": "stdout",
     "output_type": "stream",
     "text": [
      "train test\n",
      "tensor(0.2323, dtype=torch.float64, grad_fn=<NllLossBackward0>)\n",
      "tensor(11.7163, dtype=torch.float64, grad_fn=<NllLossBackward0>)\n",
      "----------\n"
     ]
    },
    {
     "name": "stderr",
     "output_type": "stream",
     "text": [
      " 75%|██████████████████████████▊         | 7461/10000 [2:03:49<40:49,  1.04it/s]"
     ]
    },
    {
     "name": "stdout",
     "output_type": "stream",
     "text": [
      "train test\n",
      "tensor(0.2347, dtype=torch.float64, grad_fn=<NllLossBackward0>)\n",
      "tensor(11.6727, dtype=torch.float64, grad_fn=<NllLossBackward0>)\n",
      "----------\n"
     ]
    },
    {
     "name": "stderr",
     "output_type": "stream",
     "text": [
      " 75%|██████████████████████████▉         | 7471/10000 [2:03:59<40:32,  1.04it/s]"
     ]
    },
    {
     "name": "stdout",
     "output_type": "stream",
     "text": [
      "train test\n",
      "tensor(0.2358, dtype=torch.float64, grad_fn=<NllLossBackward0>)\n",
      "tensor(11.6395, dtype=torch.float64, grad_fn=<NllLossBackward0>)\n",
      "----------\n"
     ]
    },
    {
     "name": "stderr",
     "output_type": "stream",
     "text": [
      " 75%|██████████████████████████▉         | 7481/10000 [2:04:09<40:43,  1.03it/s]"
     ]
    },
    {
     "name": "stdout",
     "output_type": "stream",
     "text": [
      "train test\n",
      "tensor(0.2360, dtype=torch.float64, grad_fn=<NllLossBackward0>)\n",
      "tensor(11.6399, dtype=torch.float64, grad_fn=<NllLossBackward0>)\n",
      "----------\n"
     ]
    },
    {
     "name": "stderr",
     "output_type": "stream",
     "text": [
      " 75%|██████████████████████████▉         | 7491/10000 [2:04:18<40:41,  1.03it/s]"
     ]
    },
    {
     "name": "stdout",
     "output_type": "stream",
     "text": [
      "train test\n",
      "tensor(0.2353, dtype=torch.float64, grad_fn=<NllLossBackward0>)\n",
      "tensor(11.6547, dtype=torch.float64, grad_fn=<NllLossBackward0>)\n",
      "----------\n"
     ]
    },
    {
     "name": "stderr",
     "output_type": "stream",
     "text": [
      " 75%|███████████████████████████         | 7501/10000 [2:04:28<40:45,  1.02it/s]"
     ]
    },
    {
     "name": "stdout",
     "output_type": "stream",
     "text": [
      "train test\n",
      "tensor(0.2337, dtype=torch.float64, grad_fn=<NllLossBackward0>)\n",
      "tensor(11.6921, dtype=torch.float64, grad_fn=<NllLossBackward0>)\n",
      "----------\n"
     ]
    },
    {
     "name": "stderr",
     "output_type": "stream",
     "text": [
      " 75%|███████████████████████████         | 7511/10000 [2:04:38<40:23,  1.03it/s]"
     ]
    },
    {
     "name": "stdout",
     "output_type": "stream",
     "text": [
      "train test\n",
      "tensor(0.2319, dtype=torch.float64, grad_fn=<NllLossBackward0>)\n",
      "tensor(11.7416, dtype=torch.float64, grad_fn=<NllLossBackward0>)\n",
      "----------\n"
     ]
    },
    {
     "name": "stderr",
     "output_type": "stream",
     "text": [
      " 75%|███████████████████████████         | 7521/10000 [2:04:47<40:12,  1.03it/s]"
     ]
    },
    {
     "name": "stdout",
     "output_type": "stream",
     "text": [
      "train test\n",
      "tensor(0.2316, dtype=torch.float64, grad_fn=<NllLossBackward0>)\n",
      "tensor(11.7439, dtype=torch.float64, grad_fn=<NllLossBackward0>)\n",
      "----------\n"
     ]
    },
    {
     "name": "stderr",
     "output_type": "stream",
     "text": [
      " 75%|███████████████████████████         | 7531/10000 [2:04:57<39:40,  1.04it/s]"
     ]
    },
    {
     "name": "stdout",
     "output_type": "stream",
     "text": [
      "train test\n",
      "tensor(0.2328, dtype=torch.float64, grad_fn=<NllLossBackward0>)\n",
      "tensor(11.7458, dtype=torch.float64, grad_fn=<NllLossBackward0>)\n",
      "----------\n"
     ]
    },
    {
     "name": "stderr",
     "output_type": "stream",
     "text": [
      " 75%|███████████████████████████▏        | 7541/10000 [2:05:07<39:39,  1.03it/s]"
     ]
    },
    {
     "name": "stdout",
     "output_type": "stream",
     "text": [
      "train test\n",
      "tensor(0.2317, dtype=torch.float64, grad_fn=<NllLossBackward0>)\n",
      "tensor(11.7361, dtype=torch.float64, grad_fn=<NllLossBackward0>)\n",
      "----------\n"
     ]
    },
    {
     "name": "stderr",
     "output_type": "stream",
     "text": [
      " 76%|███████████████████████████▏        | 7551/10000 [2:05:17<39:49,  1.03it/s]"
     ]
    },
    {
     "name": "stdout",
     "output_type": "stream",
     "text": [
      "train test\n",
      "tensor(0.2326, dtype=torch.float64, grad_fn=<NllLossBackward0>)\n",
      "tensor(11.7397, dtype=torch.float64, grad_fn=<NllLossBackward0>)\n",
      "----------\n"
     ]
    },
    {
     "name": "stderr",
     "output_type": "stream",
     "text": [
      " 76%|███████████████████████████▏        | 7561/10000 [2:05:26<39:33,  1.03it/s]"
     ]
    },
    {
     "name": "stdout",
     "output_type": "stream",
     "text": [
      "train test\n",
      "tensor(0.2321, dtype=torch.float64, grad_fn=<NllLossBackward0>)\n",
      "tensor(11.7388, dtype=torch.float64, grad_fn=<NllLossBackward0>)\n",
      "----------\n"
     ]
    },
    {
     "name": "stderr",
     "output_type": "stream",
     "text": [
      " 76%|███████████████████████████▎        | 7571/10000 [2:05:36<39:48,  1.02it/s]"
     ]
    },
    {
     "name": "stdout",
     "output_type": "stream",
     "text": [
      "train test\n",
      "tensor(0.2307, dtype=torch.float64, grad_fn=<NllLossBackward0>)\n",
      "tensor(11.7632, dtype=torch.float64, grad_fn=<NllLossBackward0>)\n",
      "----------\n"
     ]
    },
    {
     "name": "stderr",
     "output_type": "stream",
     "text": [
      " 76%|███████████████████████████▎        | 7581/10000 [2:05:46<39:27,  1.02it/s]"
     ]
    },
    {
     "name": "stdout",
     "output_type": "stream",
     "text": [
      "train test\n",
      "tensor(0.2292, dtype=torch.float64, grad_fn=<NllLossBackward0>)\n",
      "tensor(11.7894, dtype=torch.float64, grad_fn=<NllLossBackward0>)\n",
      "----------\n"
     ]
    },
    {
     "name": "stderr",
     "output_type": "stream",
     "text": [
      " 76%|███████████████████████████▎        | 7591/10000 [2:05:56<39:50,  1.01it/s]"
     ]
    },
    {
     "name": "stdout",
     "output_type": "stream",
     "text": [
      "train test\n",
      "tensor(0.2276, dtype=torch.float64, grad_fn=<NllLossBackward0>)\n",
      "tensor(11.8310, dtype=torch.float64, grad_fn=<NllLossBackward0>)\n",
      "----------\n"
     ]
    },
    {
     "name": "stderr",
     "output_type": "stream",
     "text": [
      " 76%|███████████████████████████▎        | 7601/10000 [2:06:05<38:46,  1.03it/s]"
     ]
    },
    {
     "name": "stdout",
     "output_type": "stream",
     "text": [
      "train test\n",
      "tensor(0.2287, dtype=torch.float64, grad_fn=<NllLossBackward0>)\n",
      "tensor(11.8320, dtype=torch.float64, grad_fn=<NllLossBackward0>)\n",
      "----------\n"
     ]
    },
    {
     "name": "stderr",
     "output_type": "stream",
     "text": [
      " 76%|███████████████████████████▍        | 7611/10000 [2:06:15<38:10,  1.04it/s]"
     ]
    },
    {
     "name": "stdout",
     "output_type": "stream",
     "text": [
      "train test\n",
      "tensor(0.2284, dtype=torch.float64, grad_fn=<NllLossBackward0>)\n",
      "tensor(11.8086, dtype=torch.float64, grad_fn=<NllLossBackward0>)\n",
      "----------\n"
     ]
    },
    {
     "name": "stderr",
     "output_type": "stream",
     "text": [
      " 76%|███████████████████████████▍        | 7621/10000 [2:06:25<38:44,  1.02it/s]"
     ]
    },
    {
     "name": "stdout",
     "output_type": "stream",
     "text": [
      "train test\n",
      "tensor(0.2297, dtype=torch.float64, grad_fn=<NllLossBackward0>)\n",
      "tensor(11.7786, dtype=torch.float64, grad_fn=<NllLossBackward0>)\n",
      "----------\n"
     ]
    },
    {
     "name": "stderr",
     "output_type": "stream",
     "text": [
      " 76%|███████████████████████████▍        | 7631/10000 [2:06:35<38:48,  1.02it/s]"
     ]
    },
    {
     "name": "stdout",
     "output_type": "stream",
     "text": [
      "train test\n",
      "tensor(0.2303, dtype=torch.float64, grad_fn=<NllLossBackward0>)\n",
      "tensor(11.7606, dtype=torch.float64, grad_fn=<NllLossBackward0>)\n",
      "----------\n"
     ]
    },
    {
     "name": "stderr",
     "output_type": "stream",
     "text": [
      " 76%|███████████████████████████▌        | 7641/10000 [2:06:44<38:52,  1.01it/s]"
     ]
    },
    {
     "name": "stdout",
     "output_type": "stream",
     "text": [
      "train test\n",
      "tensor(0.2301, dtype=torch.float64, grad_fn=<NllLossBackward0>)\n",
      "tensor(11.7665, dtype=torch.float64, grad_fn=<NllLossBackward0>)\n",
      "----------\n"
     ]
    },
    {
     "name": "stderr",
     "output_type": "stream",
     "text": [
      " 77%|███████████████████████████▌        | 7651/10000 [2:06:54<37:51,  1.03it/s]"
     ]
    },
    {
     "name": "stdout",
     "output_type": "stream",
     "text": [
      "train test\n",
      "tensor(0.2291, dtype=torch.float64, grad_fn=<NllLossBackward0>)\n",
      "tensor(11.7843, dtype=torch.float64, grad_fn=<NllLossBackward0>)\n",
      "----------\n"
     ]
    },
    {
     "name": "stderr",
     "output_type": "stream",
     "text": [
      " 77%|███████████████████████████▌        | 7661/10000 [2:07:04<37:35,  1.04it/s]"
     ]
    },
    {
     "name": "stdout",
     "output_type": "stream",
     "text": [
      "train test\n",
      "tensor(0.2282, dtype=torch.float64, grad_fn=<NllLossBackward0>)\n",
      "tensor(11.8336, dtype=torch.float64, grad_fn=<NllLossBackward0>)\n",
      "----------\n"
     ]
    },
    {
     "name": "stderr",
     "output_type": "stream",
     "text": [
      " 77%|███████████████████████████▌        | 7671/10000 [2:07:14<38:13,  1.02it/s]"
     ]
    },
    {
     "name": "stdout",
     "output_type": "stream",
     "text": [
      "train test\n",
      "tensor(0.2308, dtype=torch.float64, grad_fn=<NllLossBackward0>)\n",
      "tensor(11.8021, dtype=torch.float64, grad_fn=<NllLossBackward0>)\n",
      "----------\n"
     ]
    },
    {
     "name": "stderr",
     "output_type": "stream",
     "text": [
      " 77%|███████████████████████████▋        | 7681/10000 [2:07:23<37:30,  1.03it/s]"
     ]
    },
    {
     "name": "stdout",
     "output_type": "stream",
     "text": [
      "train test\n",
      "tensor(0.2308, dtype=torch.float64, grad_fn=<NllLossBackward0>)\n",
      "tensor(11.7652, dtype=torch.float64, grad_fn=<NllLossBackward0>)\n",
      "----------\n"
     ]
    },
    {
     "name": "stderr",
     "output_type": "stream",
     "text": [
      " 77%|███████████████████████████▋        | 7691/10000 [2:07:33<37:34,  1.02it/s]"
     ]
    },
    {
     "name": "stdout",
     "output_type": "stream",
     "text": [
      "train test\n",
      "tensor(0.2318, dtype=torch.float64, grad_fn=<NllLossBackward0>)\n",
      "tensor(11.7284, dtype=torch.float64, grad_fn=<NllLossBackward0>)\n",
      "----------\n"
     ]
    },
    {
     "name": "stderr",
     "output_type": "stream",
     "text": [
      " 77%|███████████████████████████▋        | 7701/10000 [2:07:43<37:05,  1.03it/s]"
     ]
    },
    {
     "name": "stdout",
     "output_type": "stream",
     "text": [
      "train test\n",
      "tensor(0.2326, dtype=torch.float64, grad_fn=<NllLossBackward0>)\n",
      "tensor(11.7041, dtype=torch.float64, grad_fn=<NllLossBackward0>)\n",
      "----------\n"
     ]
    },
    {
     "name": "stderr",
     "output_type": "stream",
     "text": [
      " 77%|███████████████████████████▊        | 7711/10000 [2:07:52<37:03,  1.03it/s]"
     ]
    },
    {
     "name": "stdout",
     "output_type": "stream",
     "text": [
      "train test\n",
      "tensor(0.2325, dtype=torch.float64, grad_fn=<NllLossBackward0>)\n",
      "tensor(11.7134, dtype=torch.float64, grad_fn=<NllLossBackward0>)\n",
      "----------\n"
     ]
    },
    {
     "name": "stderr",
     "output_type": "stream",
     "text": [
      " 77%|███████████████████████████▊        | 7721/10000 [2:08:02<37:02,  1.03it/s]"
     ]
    },
    {
     "name": "stdout",
     "output_type": "stream",
     "text": [
      "train test\n",
      "tensor(0.2316, dtype=torch.float64, grad_fn=<NllLossBackward0>)\n",
      "tensor(11.7306, dtype=torch.float64, grad_fn=<NllLossBackward0>)\n",
      "----------\n"
     ]
    },
    {
     "name": "stderr",
     "output_type": "stream",
     "text": [
      " 77%|███████████████████████████▊        | 7731/10000 [2:08:12<36:34,  1.03it/s]"
     ]
    },
    {
     "name": "stdout",
     "output_type": "stream",
     "text": [
      "train test\n",
      "tensor(0.2316, dtype=torch.float64, grad_fn=<NllLossBackward0>)\n",
      "tensor(11.7807, dtype=torch.float64, grad_fn=<NllLossBackward0>)\n",
      "----------\n"
     ]
    },
    {
     "name": "stderr",
     "output_type": "stream",
     "text": [
      " 77%|███████████████████████████▊        | 7741/10000 [2:08:22<37:04,  1.02it/s]"
     ]
    },
    {
     "name": "stdout",
     "output_type": "stream",
     "text": [
      "train test\n",
      "tensor(0.2357, dtype=torch.float64, grad_fn=<NllLossBackward0>)\n",
      "tensor(11.7303, dtype=torch.float64, grad_fn=<NllLossBackward0>)\n",
      "----------\n"
     ]
    },
    {
     "name": "stderr",
     "output_type": "stream",
     "text": [
      " 78%|███████████████████████████▉        | 7751/10000 [2:08:31<36:06,  1.04it/s]"
     ]
    },
    {
     "name": "stdout",
     "output_type": "stream",
     "text": [
      "train test\n",
      "tensor(0.2344, dtype=torch.float64, grad_fn=<NllLossBackward0>)\n",
      "tensor(11.6797, dtype=torch.float64, grad_fn=<NllLossBackward0>)\n",
      "----------\n"
     ]
    },
    {
     "name": "stderr",
     "output_type": "stream",
     "text": [
      " 78%|███████████████████████████▉        | 7761/10000 [2:08:41<36:07,  1.03it/s]"
     ]
    },
    {
     "name": "stdout",
     "output_type": "stream",
     "text": [
      "train test\n",
      "tensor(0.2370, dtype=torch.float64, grad_fn=<NllLossBackward0>)\n",
      "tensor(11.6308, dtype=torch.float64, grad_fn=<NllLossBackward0>)\n",
      "----------\n"
     ]
    },
    {
     "name": "stderr",
     "output_type": "stream",
     "text": [
      " 78%|███████████████████████████▉        | 7771/10000 [2:08:51<36:19,  1.02it/s]"
     ]
    },
    {
     "name": "stdout",
     "output_type": "stream",
     "text": [
      "train test\n",
      "tensor(0.2384, dtype=torch.float64, grad_fn=<NllLossBackward0>)\n",
      "tensor(11.5933, dtype=torch.float64, grad_fn=<NllLossBackward0>)\n",
      "----------\n"
     ]
    },
    {
     "name": "stderr",
     "output_type": "stream",
     "text": [
      " 78%|████████████████████████████        | 7781/10000 [2:09:00<36:24,  1.02it/s]"
     ]
    },
    {
     "name": "stdout",
     "output_type": "stream",
     "text": [
      "train test\n",
      "tensor(0.2390, dtype=torch.float64, grad_fn=<NllLossBackward0>)\n",
      "tensor(11.5817, dtype=torch.float64, grad_fn=<NllLossBackward0>)\n",
      "----------\n"
     ]
    },
    {
     "name": "stderr",
     "output_type": "stream",
     "text": [
      " 78%|████████████████████████████        | 7791/10000 [2:09:10<36:09,  1.02it/s]"
     ]
    },
    {
     "name": "stdout",
     "output_type": "stream",
     "text": [
      "train test\n",
      "tensor(0.2386, dtype=torch.float64, grad_fn=<NllLossBackward0>)\n",
      "tensor(11.5866, dtype=torch.float64, grad_fn=<NllLossBackward0>)\n",
      "----------\n"
     ]
    },
    {
     "name": "stderr",
     "output_type": "stream",
     "text": [
      " 78%|████████████████████████████        | 7801/10000 [2:09:20<35:28,  1.03it/s]"
     ]
    },
    {
     "name": "stdout",
     "output_type": "stream",
     "text": [
      "train test\n",
      "tensor(0.2373, dtype=torch.float64, grad_fn=<NllLossBackward0>)\n",
      "tensor(11.6174, dtype=torch.float64, grad_fn=<NllLossBackward0>)\n",
      "----------\n"
     ]
    },
    {
     "name": "stderr",
     "output_type": "stream",
     "text": [
      " 78%|████████████████████████████        | 7811/10000 [2:09:30<36:23,  1.00it/s]"
     ]
    },
    {
     "name": "stdout",
     "output_type": "stream",
     "text": [
      "train test\n",
      "tensor(0.2355, dtype=torch.float64, grad_fn=<NllLossBackward0>)\n",
      "tensor(11.6499, dtype=torch.float64, grad_fn=<NllLossBackward0>)\n",
      "----------\n"
     ]
    },
    {
     "name": "stderr",
     "output_type": "stream",
     "text": [
      " 78%|████████████████████████████▏       | 7821/10000 [2:09:40<35:14,  1.03it/s]"
     ]
    },
    {
     "name": "stdout",
     "output_type": "stream",
     "text": [
      "train test\n",
      "tensor(0.2363, dtype=torch.float64, grad_fn=<NllLossBackward0>)\n",
      "tensor(11.7167, dtype=torch.float64, grad_fn=<NllLossBackward0>)\n",
      "----------\n"
     ]
    },
    {
     "name": "stderr",
     "output_type": "stream",
     "text": [
      " 78%|████████████████████████████▏       | 7831/10000 [2:09:49<35:03,  1.03it/s]"
     ]
    },
    {
     "name": "stdout",
     "output_type": "stream",
     "text": [
      "train test\n",
      "tensor(0.2330, dtype=torch.float64, grad_fn=<NllLossBackward0>)\n",
      "tensor(11.7069, dtype=torch.float64, grad_fn=<NllLossBackward0>)\n",
      "----------\n"
     ]
    },
    {
     "name": "stderr",
     "output_type": "stream",
     "text": [
      " 78%|████████████████████████████▏       | 7841/10000 [2:09:59<35:08,  1.02it/s]"
     ]
    },
    {
     "name": "stdout",
     "output_type": "stream",
     "text": [
      "train test\n",
      "tensor(0.2344, dtype=torch.float64, grad_fn=<NllLossBackward0>)\n",
      "tensor(11.7072, dtype=torch.float64, grad_fn=<NllLossBackward0>)\n",
      "----------\n"
     ]
    },
    {
     "name": "stderr",
     "output_type": "stream",
     "text": [
      " 79%|████████████████████████████▎       | 7851/10000 [2:10:09<34:26,  1.04it/s]"
     ]
    },
    {
     "name": "stdout",
     "output_type": "stream",
     "text": [
      "train test\n",
      "tensor(0.2346, dtype=torch.float64, grad_fn=<NllLossBackward0>)\n",
      "tensor(11.6913, dtype=torch.float64, grad_fn=<NllLossBackward0>)\n",
      "----------\n"
     ]
    },
    {
     "name": "stderr",
     "output_type": "stream",
     "text": [
      " 79%|████████████████████████████▎       | 7861/10000 [2:10:19<34:48,  1.02it/s]"
     ]
    },
    {
     "name": "stdout",
     "output_type": "stream",
     "text": [
      "train test\n",
      "tensor(0.2346, dtype=torch.float64, grad_fn=<NllLossBackward0>)\n",
      "tensor(11.6817, dtype=torch.float64, grad_fn=<NllLossBackward0>)\n",
      "----------\n"
     ]
    },
    {
     "name": "stderr",
     "output_type": "stream",
     "text": [
      " 79%|████████████████████████████▎       | 7871/10000 [2:10:28<34:35,  1.03it/s]"
     ]
    },
    {
     "name": "stdout",
     "output_type": "stream",
     "text": [
      "train test\n",
      "tensor(0.2340, dtype=torch.float64, grad_fn=<NllLossBackward0>)\n",
      "tensor(11.6882, dtype=torch.float64, grad_fn=<NllLossBackward0>)\n",
      "----------\n"
     ]
    },
    {
     "name": "stderr",
     "output_type": "stream",
     "text": [
      " 79%|████████████████████████████▎       | 7881/10000 [2:10:38<34:06,  1.04it/s]"
     ]
    },
    {
     "name": "stdout",
     "output_type": "stream",
     "text": [
      "train test\n",
      "tensor(0.2327, dtype=torch.float64, grad_fn=<NllLossBackward0>)\n",
      "tensor(11.7210, dtype=torch.float64, grad_fn=<NllLossBackward0>)\n",
      "----------\n"
     ]
    },
    {
     "name": "stderr",
     "output_type": "stream",
     "text": [
      " 79%|████████████████████████████▍       | 7891/10000 [2:10:48<34:13,  1.03it/s]"
     ]
    },
    {
     "name": "stdout",
     "output_type": "stream",
     "text": [
      "train test\n",
      "tensor(0.2325, dtype=torch.float64, grad_fn=<NllLossBackward0>)\n",
      "tensor(11.7543, dtype=torch.float64, grad_fn=<NllLossBackward0>)\n",
      "----------\n"
     ]
    },
    {
     "name": "stderr",
     "output_type": "stream",
     "text": [
      " 79%|████████████████████████████▍       | 7901/10000 [2:10:58<33:41,  1.04it/s]"
     ]
    },
    {
     "name": "stdout",
     "output_type": "stream",
     "text": [
      "train test\n",
      "tensor(0.2297, dtype=torch.float64, grad_fn=<NllLossBackward0>)\n",
      "tensor(11.7800, dtype=torch.float64, grad_fn=<NllLossBackward0>)\n",
      "----------\n"
     ]
    },
    {
     "name": "stderr",
     "output_type": "stream",
     "text": [
      " 79%|████████████████████████████▍       | 7911/10000 [2:11:07<34:05,  1.02it/s]"
     ]
    },
    {
     "name": "stdout",
     "output_type": "stream",
     "text": [
      "train test\n",
      "tensor(0.2294, dtype=torch.float64, grad_fn=<NllLossBackward0>)\n",
      "tensor(11.8037, dtype=torch.float64, grad_fn=<NllLossBackward0>)\n",
      "----------\n"
     ]
    },
    {
     "name": "stderr",
     "output_type": "stream",
     "text": [
      " 79%|████████████████████████████▌       | 7921/10000 [2:11:17<33:38,  1.03it/s]"
     ]
    },
    {
     "name": "stdout",
     "output_type": "stream",
     "text": [
      "train test\n",
      "tensor(0.2284, dtype=torch.float64, grad_fn=<NllLossBackward0>)\n",
      "tensor(11.8263, dtype=torch.float64, grad_fn=<NllLossBackward0>)\n",
      "----------\n"
     ]
    },
    {
     "name": "stderr",
     "output_type": "stream",
     "text": [
      " 79%|████████████████████████████▌       | 7931/10000 [2:11:27<33:50,  1.02it/s]"
     ]
    },
    {
     "name": "stdout",
     "output_type": "stream",
     "text": [
      "train test\n",
      "tensor(0.2281, dtype=torch.float64, grad_fn=<NllLossBackward0>)\n",
      "tensor(11.8332, dtype=torch.float64, grad_fn=<NllLossBackward0>)\n",
      "----------\n"
     ]
    },
    {
     "name": "stderr",
     "output_type": "stream",
     "text": [
      " 79%|████████████████████████████▌       | 7941/10000 [2:11:36<33:21,  1.03it/s]"
     ]
    },
    {
     "name": "stdout",
     "output_type": "stream",
     "text": [
      "train test\n",
      "tensor(0.2278, dtype=torch.float64, grad_fn=<NllLossBackward0>)\n",
      "tensor(11.8416, dtype=torch.float64, grad_fn=<NllLossBackward0>)\n",
      "----------\n"
     ]
    },
    {
     "name": "stderr",
     "output_type": "stream",
     "text": [
      " 80%|████████████████████████████▌       | 7951/10000 [2:11:46<33:13,  1.03it/s]"
     ]
    },
    {
     "name": "stdout",
     "output_type": "stream",
     "text": [
      "train test\n",
      "tensor(0.2268, dtype=torch.float64, grad_fn=<NllLossBackward0>)\n",
      "tensor(11.8433, dtype=torch.float64, grad_fn=<NllLossBackward0>)\n",
      "----------\n"
     ]
    },
    {
     "name": "stderr",
     "output_type": "stream",
     "text": [
      " 80%|████████████████████████████▋       | 7961/10000 [2:11:56<32:59,  1.03it/s]"
     ]
    },
    {
     "name": "stdout",
     "output_type": "stream",
     "text": [
      "train test\n",
      "tensor(0.2259, dtype=torch.float64, grad_fn=<NllLossBackward0>)\n",
      "tensor(11.8580, dtype=torch.float64, grad_fn=<NllLossBackward0>)\n",
      "----------\n"
     ]
    },
    {
     "name": "stderr",
     "output_type": "stream",
     "text": [
      " 80%|████████████████████████████▋       | 7971/10000 [2:12:05<32:32,  1.04it/s]"
     ]
    },
    {
     "name": "stdout",
     "output_type": "stream",
     "text": [
      "train test\n",
      "tensor(0.2255, dtype=torch.float64, grad_fn=<NllLossBackward0>)\n",
      "tensor(11.8696, dtype=torch.float64, grad_fn=<NllLossBackward0>)\n",
      "----------\n"
     ]
    },
    {
     "name": "stderr",
     "output_type": "stream",
     "text": [
      " 80%|████████████████████████████▋       | 7981/10000 [2:12:15<32:58,  1.02it/s]"
     ]
    },
    {
     "name": "stdout",
     "output_type": "stream",
     "text": [
      "train test\n",
      "tensor(0.2254, dtype=torch.float64, grad_fn=<NllLossBackward0>)\n",
      "tensor(11.8688, dtype=torch.float64, grad_fn=<NllLossBackward0>)\n",
      "----------\n"
     ]
    },
    {
     "name": "stderr",
     "output_type": "stream",
     "text": [
      " 80%|████████████████████████████▊       | 7991/10000 [2:12:25<32:41,  1.02it/s]"
     ]
    },
    {
     "name": "stdout",
     "output_type": "stream",
     "text": [
      "train test\n",
      "tensor(0.2255, dtype=torch.float64, grad_fn=<NllLossBackward0>)\n",
      "tensor(11.8826, dtype=torch.float64, grad_fn=<NllLossBackward0>)\n",
      "----------\n"
     ]
    },
    {
     "name": "stderr",
     "output_type": "stream",
     "text": [
      " 80%|████████████████████████████▊       | 8001/10000 [2:12:35<32:47,  1.02it/s]"
     ]
    },
    {
     "name": "stdout",
     "output_type": "stream",
     "text": [
      "train test\n",
      "tensor(0.2242, dtype=torch.float64, grad_fn=<NllLossBackward0>)\n",
      "tensor(11.8987, dtype=torch.float64, grad_fn=<NllLossBackward0>)\n",
      "----------\n"
     ]
    },
    {
     "name": "stderr",
     "output_type": "stream",
     "text": [
      " 80%|████████████████████████████▊       | 8011/10000 [2:12:44<32:21,  1.02it/s]"
     ]
    },
    {
     "name": "stdout",
     "output_type": "stream",
     "text": [
      "train test\n",
      "tensor(0.2230, dtype=torch.float64, grad_fn=<NllLossBackward0>)\n",
      "tensor(11.9326, dtype=torch.float64, grad_fn=<NllLossBackward0>)\n",
      "----------\n"
     ]
    },
    {
     "name": "stderr",
     "output_type": "stream",
     "text": [
      " 80%|████████████████████████████▉       | 8021/10000 [2:12:54<32:00,  1.03it/s]"
     ]
    },
    {
     "name": "stdout",
     "output_type": "stream",
     "text": [
      "train test\n",
      "tensor(0.2272, dtype=torch.float64, grad_fn=<NllLossBackward0>)\n",
      "tensor(11.9715, dtype=torch.float64, grad_fn=<NllLossBackward0>)\n",
      "----------\n"
     ]
    },
    {
     "name": "stderr",
     "output_type": "stream",
     "text": [
      " 80%|████████████████████████████▉       | 8031/10000 [2:13:04<31:54,  1.03it/s]"
     ]
    },
    {
     "name": "stdout",
     "output_type": "stream",
     "text": [
      "train test\n",
      "tensor(0.2250, dtype=torch.float64, grad_fn=<NllLossBackward0>)\n",
      "tensor(11.8842, dtype=torch.float64, grad_fn=<NllLossBackward0>)\n",
      "----------\n"
     ]
    },
    {
     "name": "stderr",
     "output_type": "stream",
     "text": [
      " 80%|████████████████████████████▉       | 8041/10000 [2:13:14<31:54,  1.02it/s]"
     ]
    },
    {
     "name": "stdout",
     "output_type": "stream",
     "text": [
      "train test\n",
      "tensor(0.2300, dtype=torch.float64, grad_fn=<NllLossBackward0>)\n",
      "tensor(11.8007, dtype=torch.float64, grad_fn=<NllLossBackward0>)\n",
      "----------\n"
     ]
    },
    {
     "name": "stderr",
     "output_type": "stream",
     "text": [
      " 81%|████████████████████████████▉       | 8051/10000 [2:13:23<31:53,  1.02it/s]"
     ]
    },
    {
     "name": "stdout",
     "output_type": "stream",
     "text": [
      "train test\n",
      "tensor(0.2329, dtype=torch.float64, grad_fn=<NllLossBackward0>)\n",
      "tensor(11.7096, dtype=torch.float64, grad_fn=<NllLossBackward0>)\n",
      "----------\n"
     ]
    },
    {
     "name": "stderr",
     "output_type": "stream",
     "text": [
      " 81%|█████████████████████████████       | 8061/10000 [2:13:33<31:25,  1.03it/s]"
     ]
    },
    {
     "name": "stdout",
     "output_type": "stream",
     "text": [
      "train test\n",
      "tensor(0.2359, dtype=torch.float64, grad_fn=<NllLossBackward0>)\n",
      "tensor(11.6490, dtype=torch.float64, grad_fn=<NllLossBackward0>)\n",
      "----------\n"
     ]
    },
    {
     "name": "stderr",
     "output_type": "stream",
     "text": [
      " 81%|█████████████████████████████       | 8071/10000 [2:13:43<31:01,  1.04it/s]"
     ]
    },
    {
     "name": "stdout",
     "output_type": "stream",
     "text": [
      "train test\n",
      "tensor(0.2372, dtype=torch.float64, grad_fn=<NllLossBackward0>)\n",
      "tensor(11.6094, dtype=torch.float64, grad_fn=<NllLossBackward0>)\n",
      "----------\n"
     ]
    },
    {
     "name": "stderr",
     "output_type": "stream",
     "text": [
      " 81%|█████████████████████████████       | 8081/10000 [2:13:53<31:30,  1.01it/s]"
     ]
    },
    {
     "name": "stdout",
     "output_type": "stream",
     "text": [
      "train test\n",
      "tensor(0.2375, dtype=torch.float64, grad_fn=<NllLossBackward0>)\n",
      "tensor(11.6014, dtype=torch.float64, grad_fn=<NllLossBackward0>)\n",
      "----------\n"
     ]
    },
    {
     "name": "stderr",
     "output_type": "stream",
     "text": [
      " 81%|█████████████████████████████▏      | 8091/10000 [2:14:02<30:54,  1.03it/s]"
     ]
    },
    {
     "name": "stdout",
     "output_type": "stream",
     "text": [
      "train test\n",
      "tensor(0.2367, dtype=torch.float64, grad_fn=<NllLossBackward0>)\n",
      "tensor(11.6238, dtype=torch.float64, grad_fn=<NllLossBackward0>)\n",
      "----------\n"
     ]
    },
    {
     "name": "stderr",
     "output_type": "stream",
     "text": [
      " 81%|█████████████████████████████▏      | 8101/10000 [2:14:12<31:00,  1.02it/s]"
     ]
    },
    {
     "name": "stdout",
     "output_type": "stream",
     "text": [
      "train test\n",
      "tensor(0.2349, dtype=torch.float64, grad_fn=<NllLossBackward0>)\n",
      "tensor(11.6631, dtype=torch.float64, grad_fn=<NllLossBackward0>)\n",
      "----------\n"
     ]
    },
    {
     "name": "stderr",
     "output_type": "stream",
     "text": [
      " 81%|█████████████████████████████▏      | 8111/10000 [2:14:22<30:27,  1.03it/s]"
     ]
    },
    {
     "name": "stdout",
     "output_type": "stream",
     "text": [
      "train test\n",
      "tensor(0.2328, dtype=torch.float64, grad_fn=<NllLossBackward0>)\n",
      "tensor(11.7119, dtype=torch.float64, grad_fn=<NllLossBackward0>)\n",
      "----------\n"
     ]
    },
    {
     "name": "stderr",
     "output_type": "stream",
     "text": [
      " 81%|█████████████████████████████▏      | 8121/10000 [2:14:32<30:36,  1.02it/s]"
     ]
    },
    {
     "name": "stdout",
     "output_type": "stream",
     "text": [
      "train test\n",
      "tensor(0.2332, dtype=torch.float64, grad_fn=<NllLossBackward0>)\n",
      "tensor(11.7168, dtype=torch.float64, grad_fn=<NllLossBackward0>)\n",
      "----------\n"
     ]
    },
    {
     "name": "stderr",
     "output_type": "stream",
     "text": [
      " 81%|█████████████████████████████▎      | 8131/10000 [2:14:41<30:21,  1.03it/s]"
     ]
    },
    {
     "name": "stdout",
     "output_type": "stream",
     "text": [
      "train test\n",
      "tensor(0.2339, dtype=torch.float64, grad_fn=<NllLossBackward0>)\n",
      "tensor(11.6888, dtype=torch.float64, grad_fn=<NllLossBackward0>)\n",
      "----------\n"
     ]
    },
    {
     "name": "stderr",
     "output_type": "stream",
     "text": [
      " 81%|█████████████████████████████▎      | 8141/10000 [2:14:51<29:58,  1.03it/s]"
     ]
    },
    {
     "name": "stdout",
     "output_type": "stream",
     "text": [
      "train test\n",
      "tensor(0.2355, dtype=torch.float64, grad_fn=<NllLossBackward0>)\n",
      "tensor(11.6631, dtype=torch.float64, grad_fn=<NllLossBackward0>)\n",
      "----------\n"
     ]
    },
    {
     "name": "stderr",
     "output_type": "stream",
     "text": [
      " 82%|█████████████████████████████▎      | 8151/10000 [2:15:01<30:08,  1.02it/s]"
     ]
    },
    {
     "name": "stdout",
     "output_type": "stream",
     "text": [
      "train test\n",
      "tensor(0.2359, dtype=torch.float64, grad_fn=<NllLossBackward0>)\n",
      "tensor(11.6408, dtype=torch.float64, grad_fn=<NllLossBackward0>)\n",
      "----------\n"
     ]
    },
    {
     "name": "stderr",
     "output_type": "stream",
     "text": [
      " 82%|█████████████████████████████▍      | 8161/10000 [2:15:11<30:03,  1.02it/s]"
     ]
    },
    {
     "name": "stdout",
     "output_type": "stream",
     "text": [
      "train test\n",
      "tensor(0.2359, dtype=torch.float64, grad_fn=<NllLossBackward0>)\n",
      "tensor(11.6441, dtype=torch.float64, grad_fn=<NllLossBackward0>)\n",
      "----------\n"
     ]
    },
    {
     "name": "stderr",
     "output_type": "stream",
     "text": [
      " 82%|█████████████████████████████▍      | 8171/10000 [2:15:20<29:23,  1.04it/s]"
     ]
    },
    {
     "name": "stdout",
     "output_type": "stream",
     "text": [
      "train test\n",
      "tensor(0.2348, dtype=torch.float64, grad_fn=<NllLossBackward0>)\n",
      "tensor(11.6677, dtype=torch.float64, grad_fn=<NllLossBackward0>)\n",
      "----------\n"
     ]
    },
    {
     "name": "stderr",
     "output_type": "stream",
     "text": [
      " 82%|█████████████████████████████▍      | 8181/10000 [2:15:30<29:41,  1.02it/s]"
     ]
    },
    {
     "name": "stdout",
     "output_type": "stream",
     "text": [
      "train test\n",
      "tensor(0.2331, dtype=torch.float64, grad_fn=<NllLossBackward0>)\n",
      "tensor(11.7007, dtype=torch.float64, grad_fn=<NllLossBackward0>)\n",
      "----------\n"
     ]
    },
    {
     "name": "stderr",
     "output_type": "stream",
     "text": [
      " 82%|█████████████████████████████▍      | 8191/10000 [2:15:41<30:35,  1.01s/it]"
     ]
    },
    {
     "name": "stdout",
     "output_type": "stream",
     "text": [
      "train test\n",
      "tensor(0.2316, dtype=torch.float64, grad_fn=<NllLossBackward0>)\n",
      "tensor(11.7519, dtype=torch.float64, grad_fn=<NllLossBackward0>)\n",
      "----------\n"
     ]
    },
    {
     "name": "stderr",
     "output_type": "stream",
     "text": [
      " 82%|█████████████████████████████▌      | 8201/10000 [2:15:51<30:34,  1.02s/it]"
     ]
    },
    {
     "name": "stdout",
     "output_type": "stream",
     "text": [
      "train test\n",
      "tensor(0.2309, dtype=torch.float64, grad_fn=<NllLossBackward0>)\n",
      "tensor(11.7809, dtype=torch.float64, grad_fn=<NllLossBackward0>)\n",
      "----------\n"
     ]
    },
    {
     "name": "stderr",
     "output_type": "stream",
     "text": [
      " 82%|█████████████████████████████▌      | 8211/10000 [2:16:01<30:10,  1.01s/it]"
     ]
    },
    {
     "name": "stdout",
     "output_type": "stream",
     "text": [
      "train test\n",
      "tensor(0.2289, dtype=torch.float64, grad_fn=<NllLossBackward0>)\n",
      "tensor(11.7947, dtype=torch.float64, grad_fn=<NllLossBackward0>)\n",
      "----------\n"
     ]
    },
    {
     "name": "stderr",
     "output_type": "stream",
     "text": [
      " 82%|█████████████████████████████▌      | 8221/10000 [2:16:11<30:02,  1.01s/it]"
     ]
    },
    {
     "name": "stdout",
     "output_type": "stream",
     "text": [
      "train test\n",
      "tensor(0.2285, dtype=torch.float64, grad_fn=<NllLossBackward0>)\n",
      "tensor(11.8030, dtype=torch.float64, grad_fn=<NllLossBackward0>)\n",
      "----------\n"
     ]
    },
    {
     "name": "stderr",
     "output_type": "stream",
     "text": [
      " 82%|█████████████████████████████▋      | 8231/10000 [2:16:21<29:11,  1.01it/s]"
     ]
    },
    {
     "name": "stdout",
     "output_type": "stream",
     "text": [
      "train test\n",
      "tensor(0.2281, dtype=torch.float64, grad_fn=<NllLossBackward0>)\n",
      "tensor(11.8260, dtype=torch.float64, grad_fn=<NllLossBackward0>)\n",
      "----------\n"
     ]
    },
    {
     "name": "stderr",
     "output_type": "stream",
     "text": [
      " 82%|█████████████████████████████▋      | 8241/10000 [2:16:31<28:54,  1.01it/s]"
     ]
    },
    {
     "name": "stdout",
     "output_type": "stream",
     "text": [
      "train test\n",
      "tensor(0.2264, dtype=torch.float64, grad_fn=<NllLossBackward0>)\n",
      "tensor(11.8466, dtype=torch.float64, grad_fn=<NllLossBackward0>)\n",
      "----------\n"
     ]
    },
    {
     "name": "stderr",
     "output_type": "stream",
     "text": [
      " 83%|█████████████████████████████▋      | 8251/10000 [2:16:41<28:36,  1.02it/s]"
     ]
    },
    {
     "name": "stdout",
     "output_type": "stream",
     "text": [
      "train test\n",
      "tensor(0.2331, dtype=torch.float64, grad_fn=<NllLossBackward0>)\n",
      "tensor(11.8618, dtype=torch.float64, grad_fn=<NllLossBackward0>)\n",
      "----------\n"
     ]
    },
    {
     "name": "stderr",
     "output_type": "stream",
     "text": [
      " 83%|█████████████████████████████▋      | 8261/10000 [2:16:50<28:20,  1.02it/s]"
     ]
    },
    {
     "name": "stdout",
     "output_type": "stream",
     "text": [
      "train test\n",
      "tensor(0.2294, dtype=torch.float64, grad_fn=<NllLossBackward0>)\n",
      "tensor(11.7991, dtype=torch.float64, grad_fn=<NllLossBackward0>)\n",
      "----------\n"
     ]
    },
    {
     "name": "stderr",
     "output_type": "stream",
     "text": [
      " 83%|█████████████████████████████▊      | 8271/10000 [2:17:00<29:36,  1.03s/it]"
     ]
    },
    {
     "name": "stdout",
     "output_type": "stream",
     "text": [
      "train test\n",
      "tensor(0.2313, dtype=torch.float64, grad_fn=<NllLossBackward0>)\n",
      "tensor(11.7431, dtype=torch.float64, grad_fn=<NllLossBackward0>)\n",
      "----------\n"
     ]
    },
    {
     "name": "stderr",
     "output_type": "stream",
     "text": [
      " 83%|█████████████████████████████▊      | 8281/10000 [2:17:10<28:35,  1.00it/s]"
     ]
    },
    {
     "name": "stdout",
     "output_type": "stream",
     "text": [
      "train test\n",
      "tensor(0.2328, dtype=torch.float64, grad_fn=<NllLossBackward0>)\n",
      "tensor(11.7085, dtype=torch.float64, grad_fn=<NllLossBackward0>)\n",
      "----------\n"
     ]
    },
    {
     "name": "stderr",
     "output_type": "stream",
     "text": [
      " 83%|█████████████████████████████▊      | 8291/10000 [2:17:21<29:25,  1.03s/it]"
     ]
    },
    {
     "name": "stdout",
     "output_type": "stream",
     "text": [
      "train test\n",
      "tensor(0.2336, dtype=torch.float64, grad_fn=<NllLossBackward0>)\n",
      "tensor(11.6904, dtype=torch.float64, grad_fn=<NllLossBackward0>)\n",
      "----------\n"
     ]
    },
    {
     "name": "stderr",
     "output_type": "stream",
     "text": [
      " 83%|█████████████████████████████▉      | 8301/10000 [2:17:31<27:55,  1.01it/s]"
     ]
    },
    {
     "name": "stdout",
     "output_type": "stream",
     "text": [
      "train test\n",
      "tensor(0.2332, dtype=torch.float64, grad_fn=<NllLossBackward0>)\n",
      "tensor(11.6984, dtype=torch.float64, grad_fn=<NllLossBackward0>)\n",
      "----------\n"
     ]
    },
    {
     "name": "stderr",
     "output_type": "stream",
     "text": [
      " 83%|█████████████████████████████▉      | 8311/10000 [2:17:41<27:53,  1.01it/s]"
     ]
    },
    {
     "name": "stdout",
     "output_type": "stream",
     "text": [
      "train test\n",
      "tensor(0.2320, dtype=torch.float64, grad_fn=<NllLossBackward0>)\n",
      "tensor(11.7264, dtype=torch.float64, grad_fn=<NllLossBackward0>)\n",
      "----------\n"
     ]
    },
    {
     "name": "stderr",
     "output_type": "stream",
     "text": [
      " 83%|█████████████████████████████▉      | 8321/10000 [2:17:51<28:11,  1.01s/it]"
     ]
    },
    {
     "name": "stdout",
     "output_type": "stream",
     "text": [
      "train test\n",
      "tensor(0.2307, dtype=torch.float64, grad_fn=<NllLossBackward0>)\n",
      "tensor(11.7695, dtype=torch.float64, grad_fn=<NllLossBackward0>)\n",
      "----------\n"
     ]
    },
    {
     "name": "stderr",
     "output_type": "stream",
     "text": [
      " 83%|█████████████████████████████▉      | 8331/10000 [2:18:01<28:01,  1.01s/it]"
     ]
    },
    {
     "name": "stdout",
     "output_type": "stream",
     "text": [
      "train test\n",
      "tensor(0.2293, dtype=torch.float64, grad_fn=<NllLossBackward0>)\n",
      "tensor(11.7810, dtype=torch.float64, grad_fn=<NllLossBackward0>)\n",
      "----------\n"
     ]
    },
    {
     "name": "stderr",
     "output_type": "stream",
     "text": [
      " 83%|██████████████████████████████      | 8341/10000 [2:18:11<27:13,  1.02it/s]"
     ]
    },
    {
     "name": "stdout",
     "output_type": "stream",
     "text": [
      "train test\n",
      "tensor(0.2301, dtype=torch.float64, grad_fn=<NllLossBackward0>)\n",
      "tensor(11.7801, dtype=torch.float64, grad_fn=<NllLossBackward0>)\n",
      "----------\n"
     ]
    },
    {
     "name": "stderr",
     "output_type": "stream",
     "text": [
      " 84%|██████████████████████████████      | 8351/10000 [2:18:20<26:29,  1.04it/s]"
     ]
    },
    {
     "name": "stdout",
     "output_type": "stream",
     "text": [
      "train test\n",
      "tensor(0.2303, dtype=torch.float64, grad_fn=<NllLossBackward0>)\n",
      "tensor(11.7696, dtype=torch.float64, grad_fn=<NllLossBackward0>)\n",
      "----------\n"
     ]
    },
    {
     "name": "stderr",
     "output_type": "stream",
     "text": [
      " 84%|██████████████████████████████      | 8361/10000 [2:18:30<26:23,  1.03it/s]"
     ]
    },
    {
     "name": "stdout",
     "output_type": "stream",
     "text": [
      "train test\n",
      "tensor(0.2304, dtype=torch.float64, grad_fn=<NllLossBackward0>)\n",
      "tensor(11.7608, dtype=torch.float64, grad_fn=<NllLossBackward0>)\n",
      "----------\n"
     ]
    },
    {
     "name": "stderr",
     "output_type": "stream",
     "text": [
      " 84%|██████████████████████████████▏     | 8371/10000 [2:18:40<26:32,  1.02it/s]"
     ]
    },
    {
     "name": "stdout",
     "output_type": "stream",
     "text": [
      "train test\n",
      "tensor(0.2296, dtype=torch.float64, grad_fn=<NllLossBackward0>)\n",
      "tensor(11.7841, dtype=torch.float64, grad_fn=<NllLossBackward0>)\n",
      "----------\n"
     ]
    },
    {
     "name": "stderr",
     "output_type": "stream",
     "text": [
      " 84%|██████████████████████████████▏     | 8381/10000 [2:18:50<26:43,  1.01it/s]"
     ]
    },
    {
     "name": "stdout",
     "output_type": "stream",
     "text": [
      "train test\n",
      "tensor(0.2331, dtype=torch.float64, grad_fn=<NllLossBackward0>)\n",
      "tensor(11.8061, dtype=torch.float64, grad_fn=<NllLossBackward0>)\n",
      "----------\n"
     ]
    },
    {
     "name": "stderr",
     "output_type": "stream",
     "text": [
      " 84%|██████████████████████████████▏     | 8391/10000 [2:18:59<26:37,  1.01it/s]"
     ]
    },
    {
     "name": "stdout",
     "output_type": "stream",
     "text": [
      "train test\n",
      "tensor(0.2294, dtype=torch.float64, grad_fn=<NllLossBackward0>)\n",
      "tensor(11.7926, dtype=torch.float64, grad_fn=<NllLossBackward0>)\n",
      "----------\n"
     ]
    },
    {
     "name": "stderr",
     "output_type": "stream",
     "text": [
      " 84%|██████████████████████████████▏     | 8401/10000 [2:19:09<26:20,  1.01it/s]"
     ]
    },
    {
     "name": "stdout",
     "output_type": "stream",
     "text": [
      "train test\n",
      "tensor(0.2292, dtype=torch.float64, grad_fn=<NllLossBackward0>)\n",
      "tensor(11.7937, dtype=torch.float64, grad_fn=<NllLossBackward0>)\n",
      "----------\n"
     ]
    },
    {
     "name": "stderr",
     "output_type": "stream",
     "text": [
      " 84%|██████████████████████████████▎     | 8411/10000 [2:19:19<27:08,  1.02s/it]"
     ]
    },
    {
     "name": "stdout",
     "output_type": "stream",
     "text": [
      "train test\n",
      "tensor(0.2287, dtype=torch.float64, grad_fn=<NllLossBackward0>)\n",
      "tensor(11.8048, dtype=torch.float64, grad_fn=<NllLossBackward0>)\n",
      "----------\n"
     ]
    },
    {
     "name": "stderr",
     "output_type": "stream",
     "text": [
      " 84%|██████████████████████████████▎     | 8421/10000 [2:19:29<26:08,  1.01it/s]"
     ]
    },
    {
     "name": "stdout",
     "output_type": "stream",
     "text": [
      "train test\n",
      "tensor(0.2274, dtype=torch.float64, grad_fn=<NllLossBackward0>)\n",
      "tensor(11.8323, dtype=torch.float64, grad_fn=<NllLossBackward0>)\n",
      "----------\n"
     ]
    },
    {
     "name": "stderr",
     "output_type": "stream",
     "text": [
      " 84%|██████████████████████████████▎     | 8431/10000 [2:19:39<25:24,  1.03it/s]"
     ]
    },
    {
     "name": "stdout",
     "output_type": "stream",
     "text": [
      "train test\n",
      "tensor(0.2258, dtype=torch.float64, grad_fn=<NllLossBackward0>)\n",
      "tensor(11.8764, dtype=torch.float64, grad_fn=<NllLossBackward0>)\n",
      "----------\n"
     ]
    },
    {
     "name": "stderr",
     "output_type": "stream",
     "text": [
      " 84%|██████████████████████████████▍     | 8441/10000 [2:19:49<25:16,  1.03it/s]"
     ]
    },
    {
     "name": "stdout",
     "output_type": "stream",
     "text": [
      "train test\n",
      "tensor(0.2255, dtype=torch.float64, grad_fn=<NllLossBackward0>)\n",
      "tensor(11.8706, dtype=torch.float64, grad_fn=<NllLossBackward0>)\n",
      "----------\n"
     ]
    },
    {
     "name": "stderr",
     "output_type": "stream",
     "text": [
      " 85%|██████████████████████████████▍     | 8451/10000 [2:19:58<25:27,  1.01it/s]"
     ]
    },
    {
     "name": "stdout",
     "output_type": "stream",
     "text": [
      "train test\n",
      "tensor(0.2275, dtype=torch.float64, grad_fn=<NllLossBackward0>)\n",
      "tensor(11.8338, dtype=torch.float64, grad_fn=<NllLossBackward0>)\n",
      "----------\n"
     ]
    },
    {
     "name": "stderr",
     "output_type": "stream",
     "text": [
      " 85%|██████████████████████████████▍     | 8461/10000 [2:20:08<25:24,  1.01it/s]"
     ]
    },
    {
     "name": "stdout",
     "output_type": "stream",
     "text": [
      "train test\n",
      "tensor(0.2291, dtype=torch.float64, grad_fn=<NllLossBackward0>)\n",
      "tensor(11.7997, dtype=torch.float64, grad_fn=<NllLossBackward0>)\n",
      "----------\n"
     ]
    },
    {
     "name": "stderr",
     "output_type": "stream",
     "text": [
      " 85%|██████████████████████████████▍     | 8471/10000 [2:20:18<24:47,  1.03it/s]"
     ]
    },
    {
     "name": "stdout",
     "output_type": "stream",
     "text": [
      "train test\n",
      "tensor(0.2302, dtype=torch.float64, grad_fn=<NllLossBackward0>)\n",
      "tensor(11.7722, dtype=torch.float64, grad_fn=<NllLossBackward0>)\n",
      "----------\n"
     ]
    },
    {
     "name": "stderr",
     "output_type": "stream",
     "text": [
      " 85%|██████████████████████████████▌     | 8481/10000 [2:20:28<24:44,  1.02it/s]"
     ]
    },
    {
     "name": "stdout",
     "output_type": "stream",
     "text": [
      "train test\n",
      "tensor(0.2303, dtype=torch.float64, grad_fn=<NllLossBackward0>)\n",
      "tensor(11.7700, dtype=torch.float64, grad_fn=<NllLossBackward0>)\n",
      "----------\n"
     ]
    },
    {
     "name": "stderr",
     "output_type": "stream",
     "text": [
      " 85%|██████████████████████████████▌     | 8491/10000 [2:20:38<24:33,  1.02it/s]"
     ]
    },
    {
     "name": "stdout",
     "output_type": "stream",
     "text": [
      "train test\n",
      "tensor(0.2296, dtype=torch.float64, grad_fn=<NllLossBackward0>)\n",
      "tensor(11.7883, dtype=torch.float64, grad_fn=<NllLossBackward0>)\n",
      "----------\n"
     ]
    },
    {
     "name": "stderr",
     "output_type": "stream",
     "text": [
      " 85%|██████████████████████████████▌     | 8501/10000 [2:20:46<19:39,  1.27it/s]"
     ]
    },
    {
     "name": "stdout",
     "output_type": "stream",
     "text": [
      "train test\n",
      "tensor(0.2279, dtype=torch.float64, grad_fn=<NllLossBackward0>)\n",
      "tensor(11.8264, dtype=torch.float64, grad_fn=<NllLossBackward0>)\n",
      "----------\n"
     ]
    },
    {
     "name": "stderr",
     "output_type": "stream",
     "text": [
      " 85%|██████████████████████████████▋     | 8511/10000 [2:20:53<19:31,  1.27it/s]"
     ]
    },
    {
     "name": "stdout",
     "output_type": "stream",
     "text": [
      "train test\n",
      "tensor(0.2401, dtype=torch.float64, grad_fn=<NllLossBackward0>)\n",
      "tensor(11.8853, dtype=torch.float64, grad_fn=<NllLossBackward0>)\n",
      "----------\n"
     ]
    },
    {
     "name": "stderr",
     "output_type": "stream",
     "text": [
      " 85%|██████████████████████████████▋     | 8521/10000 [2:21:01<19:23,  1.27it/s]"
     ]
    },
    {
     "name": "stdout",
     "output_type": "stream",
     "text": [
      "train test\n",
      "tensor(0.2307, dtype=torch.float64, grad_fn=<NllLossBackward0>)\n",
      "tensor(11.8052, dtype=torch.float64, grad_fn=<NllLossBackward0>)\n",
      "----------\n"
     ]
    },
    {
     "name": "stderr",
     "output_type": "stream",
     "text": [
      " 85%|██████████████████████████████▋     | 8531/10000 [2:21:09<19:05,  1.28it/s]"
     ]
    },
    {
     "name": "stdout",
     "output_type": "stream",
     "text": [
      "train test\n",
      "tensor(0.2322, dtype=torch.float64, grad_fn=<NllLossBackward0>)\n",
      "tensor(11.7467, dtype=torch.float64, grad_fn=<NllLossBackward0>)\n",
      "----------\n"
     ]
    },
    {
     "name": "stderr",
     "output_type": "stream",
     "text": [
      " 85%|██████████████████████████████▋     | 8541/10000 [2:21:17<19:06,  1.27it/s]"
     ]
    },
    {
     "name": "stdout",
     "output_type": "stream",
     "text": [
      "train test\n",
      "tensor(0.2339, dtype=torch.float64, grad_fn=<NllLossBackward0>)\n",
      "tensor(11.6910, dtype=torch.float64, grad_fn=<NllLossBackward0>)\n",
      "----------\n"
     ]
    },
    {
     "name": "stderr",
     "output_type": "stream",
     "text": [
      " 86%|██████████████████████████████▊     | 8551/10000 [2:21:25<18:40,  1.29it/s]"
     ]
    },
    {
     "name": "stdout",
     "output_type": "stream",
     "text": [
      "train test\n",
      "tensor(0.2347, dtype=torch.float64, grad_fn=<NllLossBackward0>)\n",
      "tensor(11.6663, dtype=torch.float64, grad_fn=<NllLossBackward0>)\n",
      "----------\n"
     ]
    },
    {
     "name": "stderr",
     "output_type": "stream",
     "text": [
      " 86%|██████████████████████████████▊     | 8561/10000 [2:21:33<18:47,  1.28it/s]"
     ]
    },
    {
     "name": "stdout",
     "output_type": "stream",
     "text": [
      "train test\n",
      "tensor(0.2345, dtype=torch.float64, grad_fn=<NllLossBackward0>)\n",
      "tensor(11.6791, dtype=torch.float64, grad_fn=<NllLossBackward0>)\n",
      "----------\n"
     ]
    },
    {
     "name": "stderr",
     "output_type": "stream",
     "text": [
      " 86%|██████████████████████████████▊     | 8571/10000 [2:21:40<18:41,  1.27it/s]"
     ]
    },
    {
     "name": "stdout",
     "output_type": "stream",
     "text": [
      "train test\n",
      "tensor(0.2334, dtype=torch.float64, grad_fn=<NllLossBackward0>)\n",
      "tensor(11.6998, dtype=torch.float64, grad_fn=<NllLossBackward0>)\n",
      "----------\n"
     ]
    },
    {
     "name": "stderr",
     "output_type": "stream",
     "text": [
      " 86%|██████████████████████████████▉     | 8581/10000 [2:21:48<18:39,  1.27it/s]"
     ]
    },
    {
     "name": "stdout",
     "output_type": "stream",
     "text": [
      "train test\n",
      "tensor(0.2317, dtype=torch.float64, grad_fn=<NllLossBackward0>)\n",
      "tensor(11.7446, dtype=torch.float64, grad_fn=<NllLossBackward0>)\n",
      "----------\n"
     ]
    },
    {
     "name": "stderr",
     "output_type": "stream",
     "text": [
      " 86%|██████████████████████████████▉     | 8591/10000 [2:21:56<18:30,  1.27it/s]"
     ]
    },
    {
     "name": "stdout",
     "output_type": "stream",
     "text": [
      "train test\n",
      "tensor(0.2317, dtype=torch.float64, grad_fn=<NllLossBackward0>)\n",
      "tensor(11.7635, dtype=torch.float64, grad_fn=<NllLossBackward0>)\n",
      "----------\n"
     ]
    },
    {
     "name": "stderr",
     "output_type": "stream",
     "text": [
      " 86%|██████████████████████████████▉     | 8601/10000 [2:22:04<18:14,  1.28it/s]"
     ]
    },
    {
     "name": "stdout",
     "output_type": "stream",
     "text": [
      "train test\n",
      "tensor(0.2307, dtype=torch.float64, grad_fn=<NllLossBackward0>)\n",
      "tensor(11.7644, dtype=torch.float64, grad_fn=<NllLossBackward0>)\n",
      "----------\n"
     ]
    },
    {
     "name": "stderr",
     "output_type": "stream",
     "text": [
      " 86%|██████████████████████████████▉     | 8611/10000 [2:22:12<18:34,  1.25it/s]"
     ]
    },
    {
     "name": "stdout",
     "output_type": "stream",
     "text": [
      "train test\n",
      "tensor(0.2308, dtype=torch.float64, grad_fn=<NllLossBackward0>)\n",
      "tensor(11.7586, dtype=torch.float64, grad_fn=<NllLossBackward0>)\n",
      "----------\n"
     ]
    },
    {
     "name": "stderr",
     "output_type": "stream",
     "text": [
      " 86%|███████████████████████████████     | 8621/10000 [2:22:20<18:19,  1.25it/s]"
     ]
    },
    {
     "name": "stdout",
     "output_type": "stream",
     "text": [
      "train test\n",
      "tensor(0.2302, dtype=torch.float64, grad_fn=<NllLossBackward0>)\n",
      "tensor(11.7685, dtype=torch.float64, grad_fn=<NllLossBackward0>)\n",
      "----------\n"
     ]
    },
    {
     "name": "stderr",
     "output_type": "stream",
     "text": [
      " 86%|███████████████████████████████     | 8631/10000 [2:22:28<18:02,  1.26it/s]"
     ]
    },
    {
     "name": "stdout",
     "output_type": "stream",
     "text": [
      "train test\n",
      "tensor(0.2288, dtype=torch.float64, grad_fn=<NllLossBackward0>)\n",
      "tensor(11.7985, dtype=torch.float64, grad_fn=<NllLossBackward0>)\n",
      "----------\n"
     ]
    },
    {
     "name": "stderr",
     "output_type": "stream",
     "text": [
      " 86%|███████████████████████████████     | 8641/10000 [2:22:36<18:12,  1.24it/s]"
     ]
    },
    {
     "name": "stdout",
     "output_type": "stream",
     "text": [
      "train test\n",
      "tensor(0.2342, dtype=torch.float64, grad_fn=<NllLossBackward0>)\n",
      "tensor(11.8094, dtype=torch.float64, grad_fn=<NllLossBackward0>)\n",
      "----------\n"
     ]
    },
    {
     "name": "stderr",
     "output_type": "stream",
     "text": [
      " 87%|███████████████████████████████▏    | 8651/10000 [2:22:44<17:33,  1.28it/s]"
     ]
    },
    {
     "name": "stdout",
     "output_type": "stream",
     "text": [
      "train test\n",
      "tensor(0.2321, dtype=torch.float64, grad_fn=<NllLossBackward0>)\n",
      "tensor(11.7741, dtype=torch.float64, grad_fn=<NllLossBackward0>)\n",
      "----------\n"
     ]
    },
    {
     "name": "stderr",
     "output_type": "stream",
     "text": [
      " 87%|███████████████████████████████▏    | 8661/10000 [2:22:52<17:41,  1.26it/s]"
     ]
    },
    {
     "name": "stdout",
     "output_type": "stream",
     "text": [
      "train test\n",
      "tensor(0.2321, dtype=torch.float64, grad_fn=<NllLossBackward0>)\n",
      "tensor(11.7319, dtype=torch.float64, grad_fn=<NllLossBackward0>)\n",
      "----------\n"
     ]
    },
    {
     "name": "stderr",
     "output_type": "stream",
     "text": [
      " 87%|███████████████████████████████▏    | 8671/10000 [2:22:59<17:14,  1.28it/s]"
     ]
    },
    {
     "name": "stdout",
     "output_type": "stream",
     "text": [
      "train test\n",
      "tensor(0.2332, dtype=torch.float64, grad_fn=<NllLossBackward0>)\n",
      "tensor(11.7057, dtype=torch.float64, grad_fn=<NllLossBackward0>)\n",
      "----------\n"
     ]
    },
    {
     "name": "stderr",
     "output_type": "stream",
     "text": [
      " 87%|███████████████████████████████▎    | 8681/10000 [2:23:07<17:10,  1.28it/s]"
     ]
    },
    {
     "name": "stdout",
     "output_type": "stream",
     "text": [
      "train test\n",
      "tensor(0.2335, dtype=torch.float64, grad_fn=<NllLossBackward0>)\n",
      "tensor(11.6931, dtype=torch.float64, grad_fn=<NllLossBackward0>)\n",
      "----------\n"
     ]
    },
    {
     "name": "stderr",
     "output_type": "stream",
     "text": [
      " 87%|███████████████████████████████▎    | 8691/10000 [2:23:15<16:51,  1.29it/s]"
     ]
    },
    {
     "name": "stdout",
     "output_type": "stream",
     "text": [
      "train test\n",
      "tensor(0.2329, dtype=torch.float64, grad_fn=<NllLossBackward0>)\n",
      "tensor(11.7078, dtype=torch.float64, grad_fn=<NllLossBackward0>)\n",
      "----------\n"
     ]
    },
    {
     "name": "stderr",
     "output_type": "stream",
     "text": [
      " 87%|███████████████████████████████▎    | 8701/10000 [2:23:23<16:41,  1.30it/s]"
     ]
    },
    {
     "name": "stdout",
     "output_type": "stream",
     "text": [
      "train test\n",
      "tensor(0.2316, dtype=torch.float64, grad_fn=<NllLossBackward0>)\n",
      "tensor(11.7350, dtype=torch.float64, grad_fn=<NllLossBackward0>)\n",
      "----------\n"
     ]
    },
    {
     "name": "stderr",
     "output_type": "stream",
     "text": [
      " 87%|███████████████████████████████▎    | 8711/10000 [2:23:31<16:42,  1.29it/s]"
     ]
    },
    {
     "name": "stdout",
     "output_type": "stream",
     "text": [
      "train test\n",
      "tensor(0.2301, dtype=torch.float64, grad_fn=<NllLossBackward0>)\n",
      "tensor(11.7858, dtype=torch.float64, grad_fn=<NllLossBackward0>)\n",
      "----------\n"
     ]
    },
    {
     "name": "stderr",
     "output_type": "stream",
     "text": [
      " 87%|███████████████████████████████▍    | 8721/10000 [2:23:39<16:40,  1.28it/s]"
     ]
    },
    {
     "name": "stdout",
     "output_type": "stream",
     "text": [
      "train test\n",
      "tensor(0.2322, dtype=torch.float64, grad_fn=<NllLossBackward0>)\n",
      "tensor(11.7913, dtype=torch.float64, grad_fn=<NllLossBackward0>)\n",
      "----------\n"
     ]
    },
    {
     "name": "stderr",
     "output_type": "stream",
     "text": [
      " 87%|███████████████████████████████▍    | 8731/10000 [2:23:46<16:33,  1.28it/s]"
     ]
    },
    {
     "name": "stdout",
     "output_type": "stream",
     "text": [
      "train test\n",
      "tensor(0.2308, dtype=torch.float64, grad_fn=<NllLossBackward0>)\n",
      "tensor(11.7553, dtype=torch.float64, grad_fn=<NllLossBackward0>)\n",
      "----------\n"
     ]
    },
    {
     "name": "stderr",
     "output_type": "stream",
     "text": [
      " 87%|███████████████████████████████▍    | 8741/10000 [2:23:54<16:10,  1.30it/s]"
     ]
    },
    {
     "name": "stdout",
     "output_type": "stream",
     "text": [
      "train test\n",
      "tensor(0.2323, dtype=torch.float64, grad_fn=<NllLossBackward0>)\n",
      "tensor(11.7161, dtype=torch.float64, grad_fn=<NllLossBackward0>)\n",
      "----------\n"
     ]
    },
    {
     "name": "stderr",
     "output_type": "stream",
     "text": [
      " 88%|███████████████████████████████▌    | 8751/10000 [2:24:02<16:14,  1.28it/s]"
     ]
    },
    {
     "name": "stdout",
     "output_type": "stream",
     "text": [
      "train test\n",
      "tensor(0.2334, dtype=torch.float64, grad_fn=<NllLossBackward0>)\n",
      "tensor(11.7002, dtype=torch.float64, grad_fn=<NllLossBackward0>)\n",
      "----------\n"
     ]
    },
    {
     "name": "stderr",
     "output_type": "stream",
     "text": [
      " 88%|███████████████████████████████▌    | 8761/10000 [2:24:10<16:12,  1.27it/s]"
     ]
    },
    {
     "name": "stdout",
     "output_type": "stream",
     "text": [
      "train test\n",
      "tensor(0.2332, dtype=torch.float64, grad_fn=<NllLossBackward0>)\n",
      "tensor(11.7034, dtype=torch.float64, grad_fn=<NllLossBackward0>)\n",
      "----------\n"
     ]
    },
    {
     "name": "stderr",
     "output_type": "stream",
     "text": [
      " 88%|███████████████████████████████▌    | 8771/10000 [2:24:17<15:45,  1.30it/s]"
     ]
    },
    {
     "name": "stdout",
     "output_type": "stream",
     "text": [
      "train test\n",
      "tensor(0.2321, dtype=torch.float64, grad_fn=<NllLossBackward0>)\n",
      "tensor(11.7289, dtype=torch.float64, grad_fn=<NllLossBackward0>)\n",
      "----------\n"
     ]
    },
    {
     "name": "stderr",
     "output_type": "stream",
     "text": [
      " 88%|███████████████████████████████▌    | 8781/10000 [2:24:25<17:25,  1.17it/s]"
     ]
    },
    {
     "name": "stdout",
     "output_type": "stream",
     "text": [
      "train test\n",
      "tensor(0.2303, dtype=torch.float64, grad_fn=<NllLossBackward0>)\n",
      "tensor(11.7659, dtype=torch.float64, grad_fn=<NllLossBackward0>)\n",
      "----------\n"
     ]
    },
    {
     "name": "stderr",
     "output_type": "stream",
     "text": [
      " 88%|███████████████████████████████▋    | 8791/10000 [2:24:33<15:38,  1.29it/s]"
     ]
    },
    {
     "name": "stdout",
     "output_type": "stream",
     "text": [
      "train test\n",
      "tensor(0.2280, dtype=torch.float64, grad_fn=<NllLossBackward0>)\n",
      "tensor(11.8323, dtype=torch.float64, grad_fn=<NllLossBackward0>)\n",
      "----------\n"
     ]
    },
    {
     "name": "stderr",
     "output_type": "stream",
     "text": [
      " 88%|███████████████████████████████▋    | 8801/10000 [2:24:41<15:43,  1.27it/s]"
     ]
    },
    {
     "name": "stdout",
     "output_type": "stream",
     "text": [
      "train test\n",
      "tensor(0.2349, dtype=torch.float64, grad_fn=<NllLossBackward0>)\n",
      "tensor(11.6743, dtype=torch.float64, grad_fn=<NllLossBackward0>)\n",
      "----------\n"
     ]
    },
    {
     "name": "stderr",
     "output_type": "stream",
     "text": [
      " 88%|███████████████████████████████▋    | 8811/10000 [2:24:49<15:33,  1.27it/s]"
     ]
    },
    {
     "name": "stdout",
     "output_type": "stream",
     "text": [
      "train test\n",
      "tensor(0.2612, dtype=torch.float64, grad_fn=<NllLossBackward0>)\n",
      "tensor(11.4089, dtype=torch.float64, grad_fn=<NllLossBackward0>)\n",
      "----------\n"
     ]
    },
    {
     "name": "stderr",
     "output_type": "stream",
     "text": [
      " 88%|███████████████████████████████▊    | 8821/10000 [2:24:57<15:32,  1.26it/s]"
     ]
    },
    {
     "name": "stdout",
     "output_type": "stream",
     "text": [
      "train test\n",
      "tensor(0.2646, dtype=torch.float64, grad_fn=<NllLossBackward0>)\n",
      "tensor(11.1681, dtype=torch.float64, grad_fn=<NllLossBackward0>)\n",
      "----------\n"
     ]
    },
    {
     "name": "stderr",
     "output_type": "stream",
     "text": [
      " 88%|███████████████████████████████▊    | 8831/10000 [2:25:05<15:15,  1.28it/s]"
     ]
    },
    {
     "name": "stdout",
     "output_type": "stream",
     "text": [
      "train test\n",
      "tensor(0.2728, dtype=torch.float64, grad_fn=<NllLossBackward0>)\n",
      "tensor(10.9445, dtype=torch.float64, grad_fn=<NllLossBackward0>)\n",
      "----------\n"
     ]
    },
    {
     "name": "stderr",
     "output_type": "stream",
     "text": [
      " 88%|███████████████████████████████▊    | 8841/10000 [2:25:13<15:22,  1.26it/s]"
     ]
    },
    {
     "name": "stdout",
     "output_type": "stream",
     "text": [
      "train test\n",
      "tensor(0.2800, dtype=torch.float64, grad_fn=<NllLossBackward0>)\n",
      "tensor(10.7881, dtype=torch.float64, grad_fn=<NllLossBackward0>)\n",
      "----------\n"
     ]
    },
    {
     "name": "stderr",
     "output_type": "stream",
     "text": [
      " 89%|███████████████████████████████▊    | 8851/10000 [2:25:21<15:14,  1.26it/s]"
     ]
    },
    {
     "name": "stdout",
     "output_type": "stream",
     "text": [
      "train test\n",
      "tensor(0.2863, dtype=torch.float64, grad_fn=<NllLossBackward0>)\n",
      "tensor(10.6714, dtype=torch.float64, grad_fn=<NllLossBackward0>)\n",
      "----------\n"
     ]
    },
    {
     "name": "stderr",
     "output_type": "stream",
     "text": [
      " 89%|███████████████████████████████▉    | 8861/10000 [2:25:29<15:05,  1.26it/s]"
     ]
    },
    {
     "name": "stdout",
     "output_type": "stream",
     "text": [
      "train test\n",
      "tensor(0.2905, dtype=torch.float64, grad_fn=<NllLossBackward0>)\n",
      "tensor(10.6085, dtype=torch.float64, grad_fn=<NllLossBackward0>)\n",
      "----------\n"
     ]
    },
    {
     "name": "stderr",
     "output_type": "stream",
     "text": [
      " 89%|███████████████████████████████▉    | 8871/10000 [2:25:37<14:48,  1.27it/s]"
     ]
    },
    {
     "name": "stdout",
     "output_type": "stream",
     "text": [
      "train test\n",
      "tensor(0.2927, dtype=torch.float64, grad_fn=<NllLossBackward0>)\n",
      "tensor(10.5768, dtype=torch.float64, grad_fn=<NllLossBackward0>)\n",
      "----------\n"
     ]
    },
    {
     "name": "stderr",
     "output_type": "stream",
     "text": [
      " 89%|███████████████████████████████▉    | 8881/10000 [2:25:45<14:55,  1.25it/s]"
     ]
    },
    {
     "name": "stdout",
     "output_type": "stream",
     "text": [
      "train test\n",
      "tensor(0.2933, dtype=torch.float64, grad_fn=<NllLossBackward0>)\n",
      "tensor(10.5741, dtype=torch.float64, grad_fn=<NllLossBackward0>)\n",
      "----------\n"
     ]
    },
    {
     "name": "stderr",
     "output_type": "stream",
     "text": [
      " 89%|████████████████████████████████    | 8891/10000 [2:25:52<14:26,  1.28it/s]"
     ]
    },
    {
     "name": "stdout",
     "output_type": "stream",
     "text": [
      "train test\n",
      "tensor(0.2925, dtype=torch.float64, grad_fn=<NllLossBackward0>)\n",
      "tensor(10.5975, dtype=torch.float64, grad_fn=<NllLossBackward0>)\n",
      "----------\n"
     ]
    },
    {
     "name": "stderr",
     "output_type": "stream",
     "text": [
      " 89%|████████████████████████████████    | 8901/10000 [2:26:00<14:36,  1.25it/s]"
     ]
    },
    {
     "name": "stdout",
     "output_type": "stream",
     "text": [
      "train test\n",
      "tensor(0.2905, dtype=torch.float64, grad_fn=<NllLossBackward0>)\n",
      "tensor(10.6372, dtype=torch.float64, grad_fn=<NllLossBackward0>)\n",
      "----------\n"
     ]
    },
    {
     "name": "stderr",
     "output_type": "stream",
     "text": [
      " 89%|████████████████████████████████    | 8911/10000 [2:26:08<14:11,  1.28it/s]"
     ]
    },
    {
     "name": "stdout",
     "output_type": "stream",
     "text": [
      "train test\n",
      "tensor(0.2877, dtype=torch.float64, grad_fn=<NllLossBackward0>)\n",
      "tensor(10.6902, dtype=torch.float64, grad_fn=<NllLossBackward0>)\n",
      "----------\n"
     ]
    },
    {
     "name": "stderr",
     "output_type": "stream",
     "text": [
      " 89%|████████████████████████████████    | 8921/10000 [2:26:16<14:10,  1.27it/s]"
     ]
    },
    {
     "name": "stdout",
     "output_type": "stream",
     "text": [
      "train test\n",
      "tensor(0.2841, dtype=torch.float64, grad_fn=<NllLossBackward0>)\n",
      "tensor(10.7547, dtype=torch.float64, grad_fn=<NllLossBackward0>)\n",
      "----------\n"
     ]
    },
    {
     "name": "stderr",
     "output_type": "stream",
     "text": [
      " 89%|████████████████████████████████▏   | 8931/10000 [2:26:24<14:09,  1.26it/s]"
     ]
    },
    {
     "name": "stdout",
     "output_type": "stream",
     "text": [
      "train test\n",
      "tensor(0.2801, dtype=torch.float64, grad_fn=<NllLossBackward0>)\n",
      "tensor(10.8312, dtype=torch.float64, grad_fn=<NllLossBackward0>)\n",
      "----------\n"
     ]
    },
    {
     "name": "stderr",
     "output_type": "stream",
     "text": [
      " 89%|████████████████████████████████▏   | 8941/10000 [2:26:32<13:39,  1.29it/s]"
     ]
    },
    {
     "name": "stdout",
     "output_type": "stream",
     "text": [
      "train test\n",
      "tensor(0.2756, dtype=torch.float64, grad_fn=<NllLossBackward0>)\n",
      "tensor(10.9143, dtype=torch.float64, grad_fn=<NllLossBackward0>)\n",
      "----------\n"
     ]
    },
    {
     "name": "stderr",
     "output_type": "stream",
     "text": [
      " 90%|████████████████████████████████▏   | 8951/10000 [2:26:40<14:04,  1.24it/s]"
     ]
    },
    {
     "name": "stdout",
     "output_type": "stream",
     "text": [
      "train test\n",
      "tensor(0.2710, dtype=torch.float64, grad_fn=<NllLossBackward0>)\n",
      "tensor(10.9984, dtype=torch.float64, grad_fn=<NllLossBackward0>)\n",
      "----------\n"
     ]
    },
    {
     "name": "stderr",
     "output_type": "stream",
     "text": [
      " 90%|████████████████████████████████▎   | 8961/10000 [2:26:47<13:24,  1.29it/s]"
     ]
    },
    {
     "name": "stdout",
     "output_type": "stream",
     "text": [
      "train test\n",
      "tensor(0.2662, dtype=torch.float64, grad_fn=<NllLossBackward0>)\n",
      "tensor(11.0842, dtype=torch.float64, grad_fn=<NllLossBackward0>)\n",
      "----------\n"
     ]
    },
    {
     "name": "stderr",
     "output_type": "stream",
     "text": [
      " 90%|████████████████████████████████▎   | 8971/10000 [2:26:55<13:31,  1.27it/s]"
     ]
    },
    {
     "name": "stdout",
     "output_type": "stream",
     "text": [
      "train test\n",
      "tensor(0.2628, dtype=torch.float64, grad_fn=<NllLossBackward0>)\n",
      "tensor(11.1709, dtype=torch.float64, grad_fn=<NllLossBackward0>)\n",
      "----------\n"
     ]
    },
    {
     "name": "stderr",
     "output_type": "stream",
     "text": [
      " 90%|████████████████████████████████▎   | 8981/10000 [2:27:03<13:15,  1.28it/s]"
     ]
    },
    {
     "name": "stdout",
     "output_type": "stream",
     "text": [
      "train test\n",
      "tensor(0.2582, dtype=torch.float64, grad_fn=<NllLossBackward0>)\n",
      "tensor(11.2358, dtype=torch.float64, grad_fn=<NllLossBackward0>)\n",
      "----------\n"
     ]
    },
    {
     "name": "stderr",
     "output_type": "stream",
     "text": [
      " 90%|████████████████████████████████▎   | 8991/10000 [2:27:11<13:00,  1.29it/s]"
     ]
    },
    {
     "name": "stdout",
     "output_type": "stream",
     "text": [
      "train test\n",
      "tensor(0.2569, dtype=torch.float64, grad_fn=<NllLossBackward0>)\n",
      "tensor(11.3014, dtype=torch.float64, grad_fn=<NllLossBackward0>)\n",
      "----------\n"
     ]
    },
    {
     "name": "stderr",
     "output_type": "stream",
     "text": [
      " 90%|████████████████████████████████▍   | 9001/10000 [2:27:19<12:57,  1.29it/s]"
     ]
    },
    {
     "name": "stdout",
     "output_type": "stream",
     "text": [
      "train test\n",
      "tensor(0.2530, dtype=torch.float64, grad_fn=<NllLossBackward0>)\n",
      "tensor(11.3471, dtype=torch.float64, grad_fn=<NllLossBackward0>)\n",
      "----------\n"
     ]
    },
    {
     "name": "stderr",
     "output_type": "stream",
     "text": [
      " 90%|████████████████████████████████▍   | 9011/10000 [2:27:26<12:42,  1.30it/s]"
     ]
    },
    {
     "name": "stdout",
     "output_type": "stream",
     "text": [
      "train test\n",
      "tensor(0.2503, dtype=torch.float64, grad_fn=<NllLossBackward0>)\n",
      "tensor(11.3964, dtype=torch.float64, grad_fn=<NllLossBackward0>)\n",
      "----------\n"
     ]
    },
    {
     "name": "stderr",
     "output_type": "stream",
     "text": [
      " 90%|████████████████████████████████▍   | 9021/10000 [2:27:34<12:42,  1.28it/s]"
     ]
    },
    {
     "name": "stdout",
     "output_type": "stream",
     "text": [
      "train test\n",
      "tensor(0.2480, dtype=torch.float64, grad_fn=<NllLossBackward0>)\n",
      "tensor(11.4382, dtype=torch.float64, grad_fn=<NllLossBackward0>)\n",
      "----------\n"
     ]
    },
    {
     "name": "stderr",
     "output_type": "stream",
     "text": [
      " 90%|████████████████████████████████▌   | 9031/10000 [2:27:42<12:30,  1.29it/s]"
     ]
    },
    {
     "name": "stdout",
     "output_type": "stream",
     "text": [
      "train test\n",
      "tensor(0.2473, dtype=torch.float64, grad_fn=<NllLossBackward0>)\n",
      "tensor(11.4837, dtype=torch.float64, grad_fn=<NllLossBackward0>)\n",
      "----------\n"
     ]
    },
    {
     "name": "stderr",
     "output_type": "stream",
     "text": [
      " 90%|████████████████████████████████▌   | 9041/10000 [2:27:50<12:26,  1.28it/s]"
     ]
    },
    {
     "name": "stdout",
     "output_type": "stream",
     "text": [
      "train test\n",
      "tensor(0.2453, dtype=torch.float64, grad_fn=<NllLossBackward0>)\n",
      "tensor(11.5056, dtype=torch.float64, grad_fn=<NllLossBackward0>)\n",
      "----------\n"
     ]
    },
    {
     "name": "stderr",
     "output_type": "stream",
     "text": [
      " 91%|████████████████████████████████▌   | 9051/10000 [2:27:57<12:12,  1.30it/s]"
     ]
    },
    {
     "name": "stdout",
     "output_type": "stream",
     "text": [
      "train test\n",
      "tensor(0.2435, dtype=torch.float64, grad_fn=<NllLossBackward0>)\n",
      "tensor(11.5193, dtype=torch.float64, grad_fn=<NllLossBackward0>)\n",
      "----------\n"
     ]
    },
    {
     "name": "stderr",
     "output_type": "stream",
     "text": [
      " 91%|████████████████████████████████▌   | 9061/10000 [2:28:05<12:04,  1.30it/s]"
     ]
    },
    {
     "name": "stdout",
     "output_type": "stream",
     "text": [
      "train test\n",
      "tensor(0.2423, dtype=torch.float64, grad_fn=<NllLossBackward0>)\n",
      "tensor(11.5388, dtype=torch.float64, grad_fn=<NllLossBackward0>)\n",
      "----------\n"
     ]
    },
    {
     "name": "stderr",
     "output_type": "stream",
     "text": [
      " 91%|████████████████████████████████▋   | 9071/10000 [2:28:13<12:03,  1.28it/s]"
     ]
    },
    {
     "name": "stdout",
     "output_type": "stream",
     "text": [
      "train test\n",
      "tensor(0.2406, dtype=torch.float64, grad_fn=<NllLossBackward0>)\n",
      "tensor(11.5730, dtype=torch.float64, grad_fn=<NllLossBackward0>)\n",
      "----------\n"
     ]
    },
    {
     "name": "stderr",
     "output_type": "stream",
     "text": [
      " 91%|████████████████████████████████▋   | 9081/10000 [2:28:21<11:51,  1.29it/s]"
     ]
    },
    {
     "name": "stdout",
     "output_type": "stream",
     "text": [
      "train test\n",
      "tensor(0.2413, dtype=torch.float64, grad_fn=<NllLossBackward0>)\n",
      "tensor(11.6023, dtype=torch.float64, grad_fn=<NllLossBackward0>)\n",
      "----------\n"
     ]
    },
    {
     "name": "stderr",
     "output_type": "stream",
     "text": [
      " 91%|████████████████████████████████▋   | 9091/10000 [2:28:28<11:53,  1.27it/s]"
     ]
    },
    {
     "name": "stdout",
     "output_type": "stream",
     "text": [
      "train test\n",
      "tensor(0.2401, dtype=torch.float64, grad_fn=<NllLossBackward0>)\n",
      "tensor(11.5918, dtype=torch.float64, grad_fn=<NllLossBackward0>)\n",
      "----------\n"
     ]
    },
    {
     "name": "stderr",
     "output_type": "stream",
     "text": [
      " 91%|████████████████████████████████▊   | 9101/10000 [2:28:36<11:36,  1.29it/s]"
     ]
    },
    {
     "name": "stdout",
     "output_type": "stream",
     "text": [
      "train test\n",
      "tensor(0.2397, dtype=torch.float64, grad_fn=<NllLossBackward0>)\n",
      "tensor(11.5867, dtype=torch.float64, grad_fn=<NllLossBackward0>)\n",
      "----------\n"
     ]
    },
    {
     "name": "stderr",
     "output_type": "stream",
     "text": [
      " 91%|████████████████████████████████▊   | 9111/10000 [2:28:44<11:27,  1.29it/s]"
     ]
    },
    {
     "name": "stdout",
     "output_type": "stream",
     "text": [
      "train test\n",
      "tensor(0.2390, dtype=torch.float64, grad_fn=<NllLossBackward0>)\n",
      "tensor(11.6023, dtype=torch.float64, grad_fn=<NllLossBackward0>)\n",
      "----------\n"
     ]
    },
    {
     "name": "stderr",
     "output_type": "stream",
     "text": [
      " 91%|████████████████████████████████▊   | 9121/10000 [2:28:52<11:40,  1.25it/s]"
     ]
    },
    {
     "name": "stdout",
     "output_type": "stream",
     "text": [
      "train test\n",
      "tensor(0.2376, dtype=torch.float64, grad_fn=<NllLossBackward0>)\n",
      "tensor(11.6362, dtype=torch.float64, grad_fn=<NllLossBackward0>)\n",
      "----------\n"
     ]
    },
    {
     "name": "stderr",
     "output_type": "stream",
     "text": [
      " 91%|████████████████████████████████▊   | 9131/10000 [2:29:00<11:18,  1.28it/s]"
     ]
    },
    {
     "name": "stdout",
     "output_type": "stream",
     "text": [
      "train test\n",
      "tensor(0.2373, dtype=torch.float64, grad_fn=<NllLossBackward0>)\n",
      "tensor(11.6426, dtype=torch.float64, grad_fn=<NllLossBackward0>)\n",
      "----------\n"
     ]
    },
    {
     "name": "stderr",
     "output_type": "stream",
     "text": [
      " 91%|████████████████████████████████▉   | 9141/10000 [2:29:08<11:12,  1.28it/s]"
     ]
    },
    {
     "name": "stdout",
     "output_type": "stream",
     "text": [
      "train test\n",
      "tensor(0.2390, dtype=torch.float64, grad_fn=<NllLossBackward0>)\n",
      "tensor(11.6029, dtype=torch.float64, grad_fn=<NllLossBackward0>)\n",
      "----------\n"
     ]
    },
    {
     "name": "stderr",
     "output_type": "stream",
     "text": [
      " 92%|████████████████████████████████▉   | 9151/10000 [2:29:15<11:22,  1.24it/s]"
     ]
    },
    {
     "name": "stdout",
     "output_type": "stream",
     "text": [
      "train test\n",
      "tensor(0.2421, dtype=torch.float64, grad_fn=<NllLossBackward0>)\n",
      "tensor(11.5596, dtype=torch.float64, grad_fn=<NllLossBackward0>)\n",
      "----------\n"
     ]
    },
    {
     "name": "stderr",
     "output_type": "stream",
     "text": [
      " 92%|████████████████████████████████▉   | 9161/10000 [2:29:23<11:07,  1.26it/s]"
     ]
    },
    {
     "name": "stdout",
     "output_type": "stream",
     "text": [
      "train test\n",
      "tensor(0.2430, dtype=torch.float64, grad_fn=<NllLossBackward0>)\n",
      "tensor(11.5206, dtype=torch.float64, grad_fn=<NllLossBackward0>)\n",
      "----------\n"
     ]
    },
    {
     "name": "stderr",
     "output_type": "stream",
     "text": [
      " 92%|█████████████████████████████████   | 9171/10000 [2:29:31<10:57,  1.26it/s]"
     ]
    },
    {
     "name": "stdout",
     "output_type": "stream",
     "text": [
      "train test\n",
      "tensor(0.2434, dtype=torch.float64, grad_fn=<NllLossBackward0>)\n",
      "tensor(11.5139, dtype=torch.float64, grad_fn=<NllLossBackward0>)\n",
      "----------\n"
     ]
    },
    {
     "name": "stderr",
     "output_type": "stream",
     "text": [
      " 92%|█████████████████████████████████   | 9181/10000 [2:29:39<11:01,  1.24it/s]"
     ]
    },
    {
     "name": "stdout",
     "output_type": "stream",
     "text": [
      "train test\n",
      "tensor(0.2425, dtype=torch.float64, grad_fn=<NllLossBackward0>)\n",
      "tensor(11.5349, dtype=torch.float64, grad_fn=<NllLossBackward0>)\n",
      "----------\n"
     ]
    },
    {
     "name": "stderr",
     "output_type": "stream",
     "text": [
      " 92%|█████████████████████████████████   | 9191/10000 [2:29:47<10:50,  1.24it/s]"
     ]
    },
    {
     "name": "stdout",
     "output_type": "stream",
     "text": [
      "train test\n",
      "tensor(0.2408, dtype=torch.float64, grad_fn=<NllLossBackward0>)\n",
      "tensor(11.5710, dtype=torch.float64, grad_fn=<NllLossBackward0>)\n",
      "----------\n"
     ]
    },
    {
     "name": "stderr",
     "output_type": "stream",
     "text": [
      " 92%|█████████████████████████████████   | 9201/10000 [2:29:55<10:44,  1.24it/s]"
     ]
    },
    {
     "name": "stdout",
     "output_type": "stream",
     "text": [
      "train test\n",
      "tensor(0.2386, dtype=torch.float64, grad_fn=<NllLossBackward0>)\n",
      "tensor(11.6214, dtype=torch.float64, grad_fn=<NllLossBackward0>)\n",
      "----------\n"
     ]
    },
    {
     "name": "stderr",
     "output_type": "stream",
     "text": [
      " 92%|█████████████████████████████████▏  | 9211/10000 [2:30:03<10:20,  1.27it/s]"
     ]
    },
    {
     "name": "stdout",
     "output_type": "stream",
     "text": [
      "train test\n",
      "tensor(0.2373, dtype=torch.float64, grad_fn=<NllLossBackward0>)\n",
      "tensor(11.6718, dtype=torch.float64, grad_fn=<NllLossBackward0>)\n",
      "----------\n"
     ]
    },
    {
     "name": "stderr",
     "output_type": "stream",
     "text": [
      " 92%|█████████████████████████████████▏  | 9221/10000 [2:30:11<10:32,  1.23it/s]"
     ]
    },
    {
     "name": "stdout",
     "output_type": "stream",
     "text": [
      "train test\n",
      "tensor(0.2346, dtype=torch.float64, grad_fn=<NllLossBackward0>)\n",
      "tensor(11.7084, dtype=torch.float64, grad_fn=<NllLossBackward0>)\n",
      "----------\n"
     ]
    },
    {
     "name": "stderr",
     "output_type": "stream",
     "text": [
      " 92%|█████████████████████████████████▏  | 9231/10000 [2:30:19<10:07,  1.27it/s]"
     ]
    },
    {
     "name": "stdout",
     "output_type": "stream",
     "text": [
      "train test\n",
      "tensor(0.2327, dtype=torch.float64, grad_fn=<NllLossBackward0>)\n",
      "tensor(11.7459, dtype=torch.float64, grad_fn=<NllLossBackward0>)\n",
      "----------\n"
     ]
    },
    {
     "name": "stderr",
     "output_type": "stream",
     "text": [
      " 92%|█████████████████████████████████▎  | 9241/10000 [2:30:27<10:01,  1.26it/s]"
     ]
    },
    {
     "name": "stdout",
     "output_type": "stream",
     "text": [
      "train test\n",
      "tensor(0.2310, dtype=torch.float64, grad_fn=<NllLossBackward0>)\n",
      "tensor(11.7776, dtype=torch.float64, grad_fn=<NllLossBackward0>)\n",
      "----------\n"
     ]
    },
    {
     "name": "stderr",
     "output_type": "stream",
     "text": [
      " 93%|█████████████████████████████████▎  | 9251/10000 [2:30:35<09:38,  1.29it/s]"
     ]
    },
    {
     "name": "stdout",
     "output_type": "stream",
     "text": [
      "train test\n",
      "tensor(0.2301, dtype=torch.float64, grad_fn=<NllLossBackward0>)\n",
      "tensor(11.8098, dtype=torch.float64, grad_fn=<NllLossBackward0>)\n",
      "----------\n"
     ]
    },
    {
     "name": "stderr",
     "output_type": "stream",
     "text": [
      " 93%|█████████████████████████████████▎  | 9261/10000 [2:30:43<09:45,  1.26it/s]"
     ]
    },
    {
     "name": "stdout",
     "output_type": "stream",
     "text": [
      "train test\n",
      "tensor(0.2286, dtype=torch.float64, grad_fn=<NllLossBackward0>)\n",
      "tensor(11.8391, dtype=torch.float64, grad_fn=<NllLossBackward0>)\n",
      "----------\n"
     ]
    },
    {
     "name": "stderr",
     "output_type": "stream",
     "text": [
      " 93%|█████████████████████████████████▍  | 9271/10000 [2:30:51<09:48,  1.24it/s]"
     ]
    },
    {
     "name": "stdout",
     "output_type": "stream",
     "text": [
      "train test\n",
      "tensor(0.2280, dtype=torch.float64, grad_fn=<NllLossBackward0>)\n",
      "tensor(11.8641, dtype=torch.float64, grad_fn=<NllLossBackward0>)\n",
      "----------\n"
     ]
    },
    {
     "name": "stderr",
     "output_type": "stream",
     "text": [
      " 93%|█████████████████████████████████▍  | 9281/10000 [2:30:59<09:36,  1.25it/s]"
     ]
    },
    {
     "name": "stdout",
     "output_type": "stream",
     "text": [
      "train test\n",
      "tensor(0.2272, dtype=torch.float64, grad_fn=<NllLossBackward0>)\n",
      "tensor(11.8775, dtype=torch.float64, grad_fn=<NllLossBackward0>)\n",
      "----------\n"
     ]
    },
    {
     "name": "stderr",
     "output_type": "stream",
     "text": [
      " 93%|█████████████████████████████████▍  | 9291/10000 [2:31:07<09:19,  1.27it/s]"
     ]
    },
    {
     "name": "stdout",
     "output_type": "stream",
     "text": [
      "train test\n",
      "tensor(0.2262, dtype=torch.float64, grad_fn=<NllLossBackward0>)\n",
      "tensor(11.8943, dtype=torch.float64, grad_fn=<NllLossBackward0>)\n",
      "----------\n"
     ]
    },
    {
     "name": "stderr",
     "output_type": "stream",
     "text": [
      " 93%|█████████████████████████████████▍  | 9301/10000 [2:31:15<09:06,  1.28it/s]"
     ]
    },
    {
     "name": "stdout",
     "output_type": "stream",
     "text": [
      "train test\n",
      "tensor(0.2253, dtype=torch.float64, grad_fn=<NllLossBackward0>)\n",
      "tensor(11.9079, dtype=torch.float64, grad_fn=<NllLossBackward0>)\n",
      "----------\n"
     ]
    },
    {
     "name": "stderr",
     "output_type": "stream",
     "text": [
      " 93%|█████████████████████████████████▌  | 9311/10000 [2:31:23<09:19,  1.23it/s]"
     ]
    },
    {
     "name": "stdout",
     "output_type": "stream",
     "text": [
      "train test\n",
      "tensor(0.2260, dtype=torch.float64, grad_fn=<NllLossBackward0>)\n",
      "tensor(11.8887, dtype=torch.float64, grad_fn=<NllLossBackward0>)\n",
      "----------\n"
     ]
    },
    {
     "name": "stderr",
     "output_type": "stream",
     "text": [
      " 93%|█████████████████████████████████▌  | 9321/10000 [2:31:31<09:06,  1.24it/s]"
     ]
    },
    {
     "name": "stdout",
     "output_type": "stream",
     "text": [
      "train test\n",
      "tensor(0.2259, dtype=torch.float64, grad_fn=<NllLossBackward0>)\n",
      "tensor(11.8919, dtype=torch.float64, grad_fn=<NllLossBackward0>)\n",
      "----------\n"
     ]
    },
    {
     "name": "stderr",
     "output_type": "stream",
     "text": [
      " 93%|█████████████████████████████████▌  | 9331/10000 [2:31:39<08:48,  1.26it/s]"
     ]
    },
    {
     "name": "stdout",
     "output_type": "stream",
     "text": [
      "train test\n",
      "tensor(0.2255, dtype=torch.float64, grad_fn=<NllLossBackward0>)\n",
      "tensor(11.8958, dtype=torch.float64, grad_fn=<NllLossBackward0>)\n",
      "----------\n"
     ]
    },
    {
     "name": "stderr",
     "output_type": "stream",
     "text": [
      " 93%|█████████████████████████████████▋  | 9341/10000 [2:31:47<08:35,  1.28it/s]"
     ]
    },
    {
     "name": "stdout",
     "output_type": "stream",
     "text": [
      "train test\n",
      "tensor(0.2247, dtype=torch.float64, grad_fn=<NllLossBackward0>)\n",
      "tensor(11.9083, dtype=torch.float64, grad_fn=<NllLossBackward0>)\n",
      "----------\n"
     ]
    },
    {
     "name": "stderr",
     "output_type": "stream",
     "text": [
      " 94%|█████████████████████████████████▋  | 9351/10000 [2:31:54<08:21,  1.29it/s]"
     ]
    },
    {
     "name": "stdout",
     "output_type": "stream",
     "text": [
      "train test\n",
      "tensor(0.2234, dtype=torch.float64, grad_fn=<NllLossBackward0>)\n",
      "tensor(11.9437, dtype=torch.float64, grad_fn=<NllLossBackward0>)\n",
      "----------\n"
     ]
    },
    {
     "name": "stderr",
     "output_type": "stream",
     "text": [
      " 94%|█████████████████████████████████▋  | 9361/10000 [2:32:02<08:16,  1.29it/s]"
     ]
    },
    {
     "name": "stdout",
     "output_type": "stream",
     "text": [
      "train test\n",
      "tensor(0.2252, dtype=torch.float64, grad_fn=<NllLossBackward0>)\n",
      "tensor(11.9651, dtype=torch.float64, grad_fn=<NllLossBackward0>)\n",
      "----------\n"
     ]
    },
    {
     "name": "stderr",
     "output_type": "stream",
     "text": [
      " 94%|█████████████████████████████████▋  | 9371/10000 [2:32:10<08:05,  1.29it/s]"
     ]
    },
    {
     "name": "stdout",
     "output_type": "stream",
     "text": [
      "train test\n",
      "tensor(0.2247, dtype=torch.float64, grad_fn=<NllLossBackward0>)\n",
      "tensor(11.9298, dtype=torch.float64, grad_fn=<NllLossBackward0>)\n",
      "----------\n"
     ]
    },
    {
     "name": "stderr",
     "output_type": "stream",
     "text": [
      " 94%|█████████████████████████████████▊  | 9381/10000 [2:32:18<08:01,  1.28it/s]"
     ]
    },
    {
     "name": "stdout",
     "output_type": "stream",
     "text": [
      "train test\n",
      "tensor(0.2261, dtype=torch.float64, grad_fn=<NllLossBackward0>)\n",
      "tensor(11.8907, dtype=torch.float64, grad_fn=<NllLossBackward0>)\n",
      "----------\n"
     ]
    },
    {
     "name": "stderr",
     "output_type": "stream",
     "text": [
      " 94%|█████████████████████████████████▊  | 9391/10000 [2:32:26<07:53,  1.29it/s]"
     ]
    },
    {
     "name": "stdout",
     "output_type": "stream",
     "text": [
      "train test\n",
      "tensor(0.2281, dtype=torch.float64, grad_fn=<NllLossBackward0>)\n",
      "tensor(11.8415, dtype=torch.float64, grad_fn=<NllLossBackward0>)\n",
      "----------\n"
     ]
    },
    {
     "name": "stderr",
     "output_type": "stream",
     "text": [
      " 94%|█████████████████████████████████▊  | 9401/10000 [2:32:33<07:42,  1.30it/s]"
     ]
    },
    {
     "name": "stdout",
     "output_type": "stream",
     "text": [
      "train test\n",
      "tensor(0.2290, dtype=torch.float64, grad_fn=<NllLossBackward0>)\n",
      "tensor(11.8129, dtype=torch.float64, grad_fn=<NllLossBackward0>)\n",
      "----------\n"
     ]
    },
    {
     "name": "stderr",
     "output_type": "stream",
     "text": [
      " 94%|█████████████████████████████████▉  | 9411/10000 [2:32:41<07:36,  1.29it/s]"
     ]
    },
    {
     "name": "stdout",
     "output_type": "stream",
     "text": [
      "train test\n",
      "tensor(0.2292, dtype=torch.float64, grad_fn=<NllLossBackward0>)\n",
      "tensor(11.8082, dtype=torch.float64, grad_fn=<NllLossBackward0>)\n",
      "----------\n"
     ]
    },
    {
     "name": "stderr",
     "output_type": "stream",
     "text": [
      " 94%|█████████████████████████████████▉  | 9421/10000 [2:32:49<07:29,  1.29it/s]"
     ]
    },
    {
     "name": "stdout",
     "output_type": "stream",
     "text": [
      "train test\n",
      "tensor(0.2283, dtype=torch.float64, grad_fn=<NllLossBackward0>)\n",
      "tensor(11.8281, dtype=torch.float64, grad_fn=<NllLossBackward0>)\n",
      "----------\n"
     ]
    },
    {
     "name": "stderr",
     "output_type": "stream",
     "text": [
      " 94%|█████████████████████████████████▉  | 9431/10000 [2:32:57<07:21,  1.29it/s]"
     ]
    },
    {
     "name": "stdout",
     "output_type": "stream",
     "text": [
      "train test\n",
      "tensor(0.2284, dtype=torch.float64, grad_fn=<NllLossBackward0>)\n",
      "tensor(11.8628, dtype=torch.float64, grad_fn=<NllLossBackward0>)\n",
      "----------\n"
     ]
    },
    {
     "name": "stderr",
     "output_type": "stream",
     "text": [
      " 94%|█████████████████████████████████▉  | 9441/10000 [2:33:04<07:13,  1.29it/s]"
     ]
    },
    {
     "name": "stdout",
     "output_type": "stream",
     "text": [
      "train test\n",
      "tensor(0.2288, dtype=torch.float64, grad_fn=<NllLossBackward0>)\n",
      "tensor(11.8516, dtype=torch.float64, grad_fn=<NllLossBackward0>)\n",
      "----------\n"
     ]
    },
    {
     "name": "stderr",
     "output_type": "stream",
     "text": [
      " 95%|██████████████████████████████████  | 9451/10000 [2:33:12<07:06,  1.29it/s]"
     ]
    },
    {
     "name": "stdout",
     "output_type": "stream",
     "text": [
      "train test\n",
      "tensor(0.2289, dtype=torch.float64, grad_fn=<NllLossBackward0>)\n",
      "tensor(11.8340, dtype=torch.float64, grad_fn=<NllLossBackward0>)\n",
      "----------\n"
     ]
    },
    {
     "name": "stderr",
     "output_type": "stream",
     "text": [
      " 95%|██████████████████████████████████  | 9461/10000 [2:33:20<07:02,  1.28it/s]"
     ]
    },
    {
     "name": "stdout",
     "output_type": "stream",
     "text": [
      "train test\n",
      "tensor(0.2289, dtype=torch.float64, grad_fn=<NllLossBackward0>)\n",
      "tensor(11.8165, dtype=torch.float64, grad_fn=<NllLossBackward0>)\n",
      "----------\n"
     ]
    },
    {
     "name": "stderr",
     "output_type": "stream",
     "text": [
      " 95%|██████████████████████████████████  | 9471/10000 [2:33:28<06:48,  1.29it/s]"
     ]
    },
    {
     "name": "stdout",
     "output_type": "stream",
     "text": [
      "train test\n",
      "tensor(0.2290, dtype=torch.float64, grad_fn=<NllLossBackward0>)\n",
      "tensor(11.8175, dtype=torch.float64, grad_fn=<NllLossBackward0>)\n",
      "----------\n"
     ]
    },
    {
     "name": "stderr",
     "output_type": "stream",
     "text": [
      " 95%|██████████████████████████████████▏ | 9481/10000 [2:33:35<06:44,  1.28it/s]"
     ]
    },
    {
     "name": "stdout",
     "output_type": "stream",
     "text": [
      "train test\n",
      "tensor(0.2285, dtype=torch.float64, grad_fn=<NllLossBackward0>)\n",
      "tensor(11.8327, dtype=torch.float64, grad_fn=<NllLossBackward0>)\n",
      "----------\n"
     ]
    },
    {
     "name": "stderr",
     "output_type": "stream",
     "text": [
      " 95%|██████████████████████████████████▏ | 9491/10000 [2:33:43<06:32,  1.30it/s]"
     ]
    },
    {
     "name": "stdout",
     "output_type": "stream",
     "text": [
      "train test\n",
      "tensor(0.2271, dtype=torch.float64, grad_fn=<NllLossBackward0>)\n",
      "tensor(11.8580, dtype=torch.float64, grad_fn=<NllLossBackward0>)\n",
      "----------\n"
     ]
    },
    {
     "name": "stderr",
     "output_type": "stream",
     "text": [
      " 95%|██████████████████████████████████▏ | 9501/10000 [2:33:51<06:28,  1.28it/s]"
     ]
    },
    {
     "name": "stdout",
     "output_type": "stream",
     "text": [
      "train test\n",
      "tensor(0.2272, dtype=torch.float64, grad_fn=<NllLossBackward0>)\n",
      "tensor(11.9142, dtype=torch.float64, grad_fn=<NllLossBackward0>)\n",
      "----------\n"
     ]
    },
    {
     "name": "stderr",
     "output_type": "stream",
     "text": [
      " 95%|██████████████████████████████████▏ | 9511/10000 [2:33:59<06:18,  1.29it/s]"
     ]
    },
    {
     "name": "stdout",
     "output_type": "stream",
     "text": [
      "train test\n",
      "tensor(0.2315, dtype=torch.float64, grad_fn=<NllLossBackward0>)\n",
      "tensor(11.8606, dtype=torch.float64, grad_fn=<NllLossBackward0>)\n",
      "----------\n"
     ]
    },
    {
     "name": "stderr",
     "output_type": "stream",
     "text": [
      " 95%|██████████████████████████████████▎ | 9521/10000 [2:34:06<06:08,  1.30it/s]"
     ]
    },
    {
     "name": "stdout",
     "output_type": "stream",
     "text": [
      "train test\n",
      "tensor(0.2306, dtype=torch.float64, grad_fn=<NllLossBackward0>)\n",
      "tensor(11.7917, dtype=torch.float64, grad_fn=<NllLossBackward0>)\n",
      "----------\n"
     ]
    },
    {
     "name": "stderr",
     "output_type": "stream",
     "text": [
      " 95%|██████████████████████████████████▎ | 9531/10000 [2:34:14<06:04,  1.29it/s]"
     ]
    },
    {
     "name": "stdout",
     "output_type": "stream",
     "text": [
      "train test\n",
      "tensor(0.2339, dtype=torch.float64, grad_fn=<NllLossBackward0>)\n",
      "tensor(11.7203, dtype=torch.float64, grad_fn=<NllLossBackward0>)\n",
      "----------\n"
     ]
    },
    {
     "name": "stderr",
     "output_type": "stream",
     "text": [
      " 95%|██████████████████████████████████▎ | 9541/10000 [2:34:22<05:55,  1.29it/s]"
     ]
    },
    {
     "name": "stdout",
     "output_type": "stream",
     "text": [
      "train test\n",
      "tensor(0.2358, dtype=torch.float64, grad_fn=<NllLossBackward0>)\n",
      "tensor(11.6681, dtype=torch.float64, grad_fn=<NllLossBackward0>)\n",
      "----------\n"
     ]
    },
    {
     "name": "stderr",
     "output_type": "stream",
     "text": [
      " 96%|██████████████████████████████████▍ | 9551/10000 [2:34:30<05:49,  1.29it/s]"
     ]
    },
    {
     "name": "stdout",
     "output_type": "stream",
     "text": [
      "train test\n",
      "tensor(0.2368, dtype=torch.float64, grad_fn=<NllLossBackward0>)\n",
      "tensor(11.6417, dtype=torch.float64, grad_fn=<NllLossBackward0>)\n",
      "----------\n"
     ]
    },
    {
     "name": "stderr",
     "output_type": "stream",
     "text": [
      " 96%|██████████████████████████████████▍ | 9561/10000 [2:34:37<05:38,  1.30it/s]"
     ]
    },
    {
     "name": "stdout",
     "output_type": "stream",
     "text": [
      "train test\n",
      "tensor(0.2366, dtype=torch.float64, grad_fn=<NllLossBackward0>)\n",
      "tensor(11.6483, dtype=torch.float64, grad_fn=<NllLossBackward0>)\n",
      "----------\n"
     ]
    },
    {
     "name": "stderr",
     "output_type": "stream",
     "text": [
      " 96%|██████████████████████████████████▍ | 9571/10000 [2:34:45<05:35,  1.28it/s]"
     ]
    },
    {
     "name": "stdout",
     "output_type": "stream",
     "text": [
      "train test\n",
      "tensor(0.2355, dtype=torch.float64, grad_fn=<NllLossBackward0>)\n",
      "tensor(11.6750, dtype=torch.float64, grad_fn=<NllLossBackward0>)\n",
      "----------\n"
     ]
    },
    {
     "name": "stderr",
     "output_type": "stream",
     "text": [
      " 96%|██████████████████████████████████▍ | 9581/10000 [2:34:53<05:24,  1.29it/s]"
     ]
    },
    {
     "name": "stdout",
     "output_type": "stream",
     "text": [
      "train test\n",
      "tensor(0.2336, dtype=torch.float64, grad_fn=<NllLossBackward0>)\n",
      "tensor(11.7139, dtype=torch.float64, grad_fn=<NllLossBackward0>)\n",
      "----------\n"
     ]
    },
    {
     "name": "stderr",
     "output_type": "stream",
     "text": [
      " 96%|██████████████████████████████████▌ | 9591/10000 [2:35:01<05:16,  1.29it/s]"
     ]
    },
    {
     "name": "stdout",
     "output_type": "stream",
     "text": [
      "train test\n",
      "tensor(0.2408, dtype=torch.float64, grad_fn=<NllLossBackward0>)\n",
      "tensor(11.7589, dtype=torch.float64, grad_fn=<NllLossBackward0>)\n",
      "----------\n"
     ]
    },
    {
     "name": "stderr",
     "output_type": "stream",
     "text": [
      " 96%|██████████████████████████████████▌ | 9601/10000 [2:35:09<05:08,  1.29it/s]"
     ]
    },
    {
     "name": "stdout",
     "output_type": "stream",
     "text": [
      "train test\n",
      "tensor(0.2366, dtype=torch.float64, grad_fn=<NllLossBackward0>)\n",
      "tensor(11.7062, dtype=torch.float64, grad_fn=<NllLossBackward0>)\n",
      "----------\n"
     ]
    },
    {
     "name": "stderr",
     "output_type": "stream",
     "text": [
      " 96%|██████████████████████████████████▌ | 9611/10000 [2:35:16<05:00,  1.29it/s]"
     ]
    },
    {
     "name": "stdout",
     "output_type": "stream",
     "text": [
      "train test\n",
      "tensor(0.2378, dtype=torch.float64, grad_fn=<NllLossBackward0>)\n",
      "tensor(11.6420, dtype=torch.float64, grad_fn=<NllLossBackward0>)\n",
      "----------\n"
     ]
    },
    {
     "name": "stderr",
     "output_type": "stream",
     "text": [
      " 96%|██████████████████████████████████▋ | 9621/10000 [2:35:24<04:55,  1.28it/s]"
     ]
    },
    {
     "name": "stdout",
     "output_type": "stream",
     "text": [
      "train test\n",
      "tensor(0.2402, dtype=torch.float64, grad_fn=<NllLossBackward0>)\n",
      "tensor(11.5831, dtype=torch.float64, grad_fn=<NllLossBackward0>)\n",
      "----------\n"
     ]
    },
    {
     "name": "stderr",
     "output_type": "stream",
     "text": [
      " 96%|██████████████████████████████████▋ | 9631/10000 [2:35:32<04:46,  1.29it/s]"
     ]
    },
    {
     "name": "stdout",
     "output_type": "stream",
     "text": [
      "train test\n",
      "tensor(0.2416, dtype=torch.float64, grad_fn=<NllLossBackward0>)\n",
      "tensor(11.5436, dtype=torch.float64, grad_fn=<NllLossBackward0>)\n",
      "----------\n"
     ]
    },
    {
     "name": "stderr",
     "output_type": "stream",
     "text": [
      " 96%|██████████████████████████████████▋ | 9641/10000 [2:35:40<04:39,  1.29it/s]"
     ]
    },
    {
     "name": "stdout",
     "output_type": "stream",
     "text": [
      "train test\n",
      "tensor(0.2417, dtype=torch.float64, grad_fn=<NllLossBackward0>)\n",
      "tensor(11.5438, dtype=torch.float64, grad_fn=<NllLossBackward0>)\n",
      "----------\n"
     ]
    },
    {
     "name": "stderr",
     "output_type": "stream",
     "text": [
      " 97%|██████████████████████████████████▋ | 9651/10000 [2:35:47<04:30,  1.29it/s]"
     ]
    },
    {
     "name": "stdout",
     "output_type": "stream",
     "text": [
      "train test\n",
      "tensor(0.2408, dtype=torch.float64, grad_fn=<NllLossBackward0>)\n",
      "tensor(11.5618, dtype=torch.float64, grad_fn=<NllLossBackward0>)\n",
      "----------\n"
     ]
    },
    {
     "name": "stderr",
     "output_type": "stream",
     "text": [
      " 97%|██████████████████████████████████▊ | 9661/10000 [2:35:55<04:20,  1.30it/s]"
     ]
    },
    {
     "name": "stdout",
     "output_type": "stream",
     "text": [
      "train test\n",
      "tensor(0.2390, dtype=torch.float64, grad_fn=<NllLossBackward0>)\n",
      "tensor(11.5974, dtype=torch.float64, grad_fn=<NllLossBackward0>)\n",
      "----------\n"
     ]
    },
    {
     "name": "stderr",
     "output_type": "stream",
     "text": [
      " 97%|██████████████████████████████████▊ | 9671/10000 [2:36:03<04:16,  1.28it/s]"
     ]
    },
    {
     "name": "stdout",
     "output_type": "stream",
     "text": [
      "train test\n",
      "tensor(0.2368, dtype=torch.float64, grad_fn=<NllLossBackward0>)\n",
      "tensor(11.6520, dtype=torch.float64, grad_fn=<NllLossBackward0>)\n",
      "----------\n"
     ]
    },
    {
     "name": "stderr",
     "output_type": "stream",
     "text": [
      " 97%|██████████████████████████████████▊ | 9681/10000 [2:36:11<04:07,  1.29it/s]"
     ]
    },
    {
     "name": "stdout",
     "output_type": "stream",
     "text": [
      "train test\n",
      "tensor(0.2380, dtype=torch.float64, grad_fn=<NllLossBackward0>)\n",
      "tensor(11.6925, dtype=torch.float64, grad_fn=<NllLossBackward0>)\n",
      "----------\n"
     ]
    },
    {
     "name": "stderr",
     "output_type": "stream",
     "text": [
      " 97%|██████████████████████████████████▉ | 9691/10000 [2:36:18<04:01,  1.28it/s]"
     ]
    },
    {
     "name": "stdout",
     "output_type": "stream",
     "text": [
      "train test\n",
      "tensor(0.2347, dtype=torch.float64, grad_fn=<NllLossBackward0>)\n",
      "tensor(11.6884, dtype=torch.float64, grad_fn=<NllLossBackward0>)\n",
      "----------\n"
     ]
    },
    {
     "name": "stderr",
     "output_type": "stream",
     "text": [
      " 97%|██████████████████████████████████▉ | 9701/10000 [2:36:26<03:51,  1.29it/s]"
     ]
    },
    {
     "name": "stdout",
     "output_type": "stream",
     "text": [
      "train test\n",
      "tensor(0.2351, dtype=torch.float64, grad_fn=<NllLossBackward0>)\n",
      "tensor(11.6818, dtype=torch.float64, grad_fn=<NllLossBackward0>)\n",
      "----------\n"
     ]
    },
    {
     "name": "stderr",
     "output_type": "stream",
     "text": [
      " 97%|██████████████████████████████████▉ | 9711/10000 [2:36:34<03:43,  1.29it/s]"
     ]
    },
    {
     "name": "stdout",
     "output_type": "stream",
     "text": [
      "train test\n",
      "tensor(0.2350, dtype=torch.float64, grad_fn=<NllLossBackward0>)\n",
      "tensor(11.6851, dtype=torch.float64, grad_fn=<NllLossBackward0>)\n",
      "----------\n"
     ]
    },
    {
     "name": "stderr",
     "output_type": "stream",
     "text": [
      " 97%|██████████████████████████████████▉ | 9721/10000 [2:36:42<03:37,  1.28it/s]"
     ]
    },
    {
     "name": "stdout",
     "output_type": "stream",
     "text": [
      "train test\n",
      "tensor(0.2336, dtype=torch.float64, grad_fn=<NllLossBackward0>)\n",
      "tensor(11.7119, dtype=torch.float64, grad_fn=<NllLossBackward0>)\n",
      "----------\n"
     ]
    },
    {
     "name": "stderr",
     "output_type": "stream",
     "text": [
      " 97%|███████████████████████████████████ | 9731/10000 [2:36:49<03:28,  1.29it/s]"
     ]
    },
    {
     "name": "stdout",
     "output_type": "stream",
     "text": [
      "train test\n",
      "tensor(0.2340, dtype=torch.float64, grad_fn=<NllLossBackward0>)\n",
      "tensor(11.7271, dtype=torch.float64, grad_fn=<NllLossBackward0>)\n",
      "----------\n"
     ]
    },
    {
     "name": "stderr",
     "output_type": "stream",
     "text": [
      " 97%|███████████████████████████████████ | 9741/10000 [2:36:57<03:23,  1.27it/s]"
     ]
    },
    {
     "name": "stdout",
     "output_type": "stream",
     "text": [
      "train test\n",
      "tensor(0.2328, dtype=torch.float64, grad_fn=<NllLossBackward0>)\n",
      "tensor(11.7456, dtype=torch.float64, grad_fn=<NllLossBackward0>)\n",
      "----------\n"
     ]
    },
    {
     "name": "stderr",
     "output_type": "stream",
     "text": [
      " 98%|███████████████████████████████████ | 9751/10000 [2:37:05<03:13,  1.29it/s]"
     ]
    },
    {
     "name": "stdout",
     "output_type": "stream",
     "text": [
      "train test\n",
      "tensor(0.2314, dtype=torch.float64, grad_fn=<NllLossBackward0>)\n",
      "tensor(11.7617, dtype=torch.float64, grad_fn=<NllLossBackward0>)\n",
      "----------\n"
     ]
    },
    {
     "name": "stderr",
     "output_type": "stream",
     "text": [
      " 98%|███████████████████████████████████▏| 9761/10000 [2:37:13<03:04,  1.30it/s]"
     ]
    },
    {
     "name": "stdout",
     "output_type": "stream",
     "text": [
      "train test\n",
      "tensor(0.2301, dtype=torch.float64, grad_fn=<NllLossBackward0>)\n",
      "tensor(11.7861, dtype=torch.float64, grad_fn=<NllLossBackward0>)\n",
      "----------\n"
     ]
    },
    {
     "name": "stderr",
     "output_type": "stream",
     "text": [
      " 98%|███████████████████████████████████▏| 9771/10000 [2:37:20<02:58,  1.28it/s]"
     ]
    },
    {
     "name": "stdout",
     "output_type": "stream",
     "text": [
      "train test\n",
      "tensor(0.2285, dtype=torch.float64, grad_fn=<NllLossBackward0>)\n",
      "tensor(11.8232, dtype=torch.float64, grad_fn=<NllLossBackward0>)\n",
      "----------\n"
     ]
    },
    {
     "name": "stderr",
     "output_type": "stream",
     "text": [
      " 98%|███████████████████████████████████▏| 9781/10000 [2:37:28<02:48,  1.30it/s]"
     ]
    },
    {
     "name": "stdout",
     "output_type": "stream",
     "text": [
      "train test\n",
      "tensor(0.2283, dtype=torch.float64, grad_fn=<NllLossBackward0>)\n",
      "tensor(11.8471, dtype=torch.float64, grad_fn=<NllLossBackward0>)\n",
      "----------\n"
     ]
    },
    {
     "name": "stderr",
     "output_type": "stream",
     "text": [
      " 98%|███████████████████████████████████▏| 9791/10000 [2:37:36<02:43,  1.28it/s]"
     ]
    },
    {
     "name": "stdout",
     "output_type": "stream",
     "text": [
      "train test\n",
      "tensor(0.2268, dtype=torch.float64, grad_fn=<NllLossBackward0>)\n",
      "tensor(11.8613, dtype=torch.float64, grad_fn=<NllLossBackward0>)\n",
      "----------\n"
     ]
    },
    {
     "name": "stderr",
     "output_type": "stream",
     "text": [
      " 98%|███████████████████████████████████▎| 9801/10000 [2:37:44<02:34,  1.29it/s]"
     ]
    },
    {
     "name": "stdout",
     "output_type": "stream",
     "text": [
      "train test\n",
      "tensor(0.2257, dtype=torch.float64, grad_fn=<NllLossBackward0>)\n",
      "tensor(11.8775, dtype=torch.float64, grad_fn=<NllLossBackward0>)\n",
      "----------\n"
     ]
    },
    {
     "name": "stderr",
     "output_type": "stream",
     "text": [
      " 98%|███████████████████████████████████▎| 9811/10000 [2:37:51<02:26,  1.29it/s]"
     ]
    },
    {
     "name": "stdout",
     "output_type": "stream",
     "text": [
      "train test\n",
      "tensor(0.2245, dtype=torch.float64, grad_fn=<NllLossBackward0>)\n",
      "tensor(11.9087, dtype=torch.float64, grad_fn=<NllLossBackward0>)\n",
      "----------\n"
     ]
    },
    {
     "name": "stderr",
     "output_type": "stream",
     "text": [
      " 98%|███████████████████████████████████▎| 9821/10000 [2:37:59<02:18,  1.29it/s]"
     ]
    },
    {
     "name": "stdout",
     "output_type": "stream",
     "text": [
      "train test\n",
      "tensor(0.2237, dtype=torch.float64, grad_fn=<NllLossBackward0>)\n",
      "tensor(11.9411, dtype=torch.float64, grad_fn=<NllLossBackward0>)\n",
      "----------\n"
     ]
    },
    {
     "name": "stderr",
     "output_type": "stream",
     "text": [
      " 98%|███████████████████████████████████▍| 9831/10000 [2:38:07<02:12,  1.27it/s]"
     ]
    },
    {
     "name": "stdout",
     "output_type": "stream",
     "text": [
      "train test\n",
      "tensor(0.2217, dtype=torch.float64, grad_fn=<NllLossBackward0>)\n",
      "tensor(11.9636, dtype=torch.float64, grad_fn=<NllLossBackward0>)\n",
      "----------\n"
     ]
    },
    {
     "name": "stderr",
     "output_type": "stream",
     "text": [
      " 98%|███████████████████████████████████▍| 9841/10000 [2:38:15<02:09,  1.23it/s]"
     ]
    },
    {
     "name": "stdout",
     "output_type": "stream",
     "text": [
      "train test\n",
      "tensor(0.2219, dtype=torch.float64, grad_fn=<NllLossBackward0>)\n",
      "tensor(11.9838, dtype=torch.float64, grad_fn=<NllLossBackward0>)\n",
      "----------\n"
     ]
    },
    {
     "name": "stderr",
     "output_type": "stream",
     "text": [
      " 99%|███████████████████████████████████▍| 9851/10000 [2:38:23<01:55,  1.29it/s]"
     ]
    },
    {
     "name": "stdout",
     "output_type": "stream",
     "text": [
      "train test\n",
      "tensor(0.2213, dtype=torch.float64, grad_fn=<NllLossBackward0>)\n",
      "tensor(11.9876, dtype=torch.float64, grad_fn=<NllLossBackward0>)\n",
      "----------\n"
     ]
    },
    {
     "name": "stderr",
     "output_type": "stream",
     "text": [
      " 99%|███████████████████████████████████▍| 9861/10000 [2:38:31<01:49,  1.27it/s]"
     ]
    },
    {
     "name": "stdout",
     "output_type": "stream",
     "text": [
      "train test\n",
      "tensor(0.2210, dtype=torch.float64, grad_fn=<NllLossBackward0>)\n",
      "tensor(12.0085, dtype=torch.float64, grad_fn=<NllLossBackward0>)\n",
      "----------\n"
     ]
    },
    {
     "name": "stderr",
     "output_type": "stream",
     "text": [
      " 99%|███████████████████████████████████▌| 9871/10000 [2:38:38<01:40,  1.29it/s]"
     ]
    },
    {
     "name": "stdout",
     "output_type": "stream",
     "text": [
      "train test\n",
      "tensor(0.2224, dtype=torch.float64, grad_fn=<NllLossBackward0>)\n",
      "tensor(11.9852, dtype=torch.float64, grad_fn=<NllLossBackward0>)\n",
      "----------\n"
     ]
    },
    {
     "name": "stderr",
     "output_type": "stream",
     "text": [
      " 99%|███████████████████████████████████▌| 9881/10000 [2:38:46<01:32,  1.29it/s]"
     ]
    },
    {
     "name": "stdout",
     "output_type": "stream",
     "text": [
      "train test\n",
      "tensor(0.2239, dtype=torch.float64, grad_fn=<NllLossBackward0>)\n",
      "tensor(11.9612, dtype=torch.float64, grad_fn=<NllLossBackward0>)\n",
      "----------\n"
     ]
    },
    {
     "name": "stderr",
     "output_type": "stream",
     "text": [
      " 99%|███████████████████████████████████▌| 9891/10000 [2:38:54<01:25,  1.28it/s]"
     ]
    },
    {
     "name": "stdout",
     "output_type": "stream",
     "text": [
      "train test\n",
      "tensor(0.2234, dtype=torch.float64, grad_fn=<NllLossBackward0>)\n",
      "tensor(11.9211, dtype=torch.float64, grad_fn=<NllLossBackward0>)\n",
      "----------\n"
     ]
    },
    {
     "name": "stderr",
     "output_type": "stream",
     "text": [
      " 99%|███████████████████████████████████▋| 9901/10000 [2:39:02<01:16,  1.29it/s]"
     ]
    },
    {
     "name": "stdout",
     "output_type": "stream",
     "text": [
      "train test\n",
      "tensor(0.2255, dtype=torch.float64, grad_fn=<NllLossBackward0>)\n",
      "tensor(11.9016, dtype=torch.float64, grad_fn=<NllLossBackward0>)\n",
      "----------\n"
     ]
    },
    {
     "name": "stderr",
     "output_type": "stream",
     "text": [
      " 99%|███████████████████████████████████▋| 9911/10000 [2:39:09<01:09,  1.28it/s]"
     ]
    },
    {
     "name": "stdout",
     "output_type": "stream",
     "text": [
      "train test\n",
      "tensor(0.2265, dtype=torch.float64, grad_fn=<NllLossBackward0>)\n",
      "tensor(11.8847, dtype=torch.float64, grad_fn=<NllLossBackward0>)\n",
      "----------\n"
     ]
    },
    {
     "name": "stderr",
     "output_type": "stream",
     "text": [
      " 99%|███████████████████████████████████▋| 9921/10000 [2:39:17<01:01,  1.29it/s]"
     ]
    },
    {
     "name": "stdout",
     "output_type": "stream",
     "text": [
      "train test\n",
      "tensor(0.2258, dtype=torch.float64, grad_fn=<NllLossBackward0>)\n",
      "tensor(11.8875, dtype=torch.float64, grad_fn=<NllLossBackward0>)\n",
      "----------\n"
     ]
    },
    {
     "name": "stderr",
     "output_type": "stream",
     "text": [
      " 99%|███████████████████████████████████▊| 9931/10000 [2:39:25<00:53,  1.30it/s]"
     ]
    },
    {
     "name": "stdout",
     "output_type": "stream",
     "text": [
      "train test\n",
      "tensor(0.2250, dtype=torch.float64, grad_fn=<NllLossBackward0>)\n",
      "tensor(11.8950, dtype=torch.float64, grad_fn=<NllLossBackward0>)\n",
      "----------\n"
     ]
    },
    {
     "name": "stderr",
     "output_type": "stream",
     "text": [
      " 99%|███████████████████████████████████▊| 9941/10000 [2:39:33<00:45,  1.29it/s]"
     ]
    },
    {
     "name": "stdout",
     "output_type": "stream",
     "text": [
      "train test\n",
      "tensor(0.2241, dtype=torch.float64, grad_fn=<NllLossBackward0>)\n",
      "tensor(11.9157, dtype=torch.float64, grad_fn=<NllLossBackward0>)\n",
      "----------\n"
     ]
    },
    {
     "name": "stderr",
     "output_type": "stream",
     "text": [
      "100%|███████████████████████████████████▊| 9951/10000 [2:39:40<00:37,  1.30it/s]"
     ]
    },
    {
     "name": "stdout",
     "output_type": "stream",
     "text": [
      "train test\n",
      "tensor(0.2227, dtype=torch.float64, grad_fn=<NllLossBackward0>)\n",
      "tensor(11.9591, dtype=torch.float64, grad_fn=<NllLossBackward0>)\n",
      "----------\n"
     ]
    },
    {
     "name": "stderr",
     "output_type": "stream",
     "text": [
      "100%|███████████████████████████████████▊| 9961/10000 [2:39:48<00:30,  1.28it/s]"
     ]
    },
    {
     "name": "stdout",
     "output_type": "stream",
     "text": [
      "train test\n",
      "tensor(0.2319, dtype=torch.float64, grad_fn=<NllLossBackward0>)\n",
      "tensor(11.9475, dtype=torch.float64, grad_fn=<NllLossBackward0>)\n",
      "----------\n"
     ]
    },
    {
     "name": "stderr",
     "output_type": "stream",
     "text": [
      "100%|███████████████████████████████████▉| 9971/10000 [2:39:56<00:22,  1.30it/s]"
     ]
    },
    {
     "name": "stdout",
     "output_type": "stream",
     "text": [
      "train test\n",
      "tensor(0.2275, dtype=torch.float64, grad_fn=<NllLossBackward0>)\n",
      "tensor(11.8592, dtype=torch.float64, grad_fn=<NllLossBackward0>)\n",
      "----------\n"
     ]
    },
    {
     "name": "stderr",
     "output_type": "stream",
     "text": [
      "100%|███████████████████████████████████▉| 9981/10000 [2:40:04<00:14,  1.28it/s]"
     ]
    },
    {
     "name": "stdout",
     "output_type": "stream",
     "text": [
      "train test\n",
      "tensor(0.2304, dtype=torch.float64, grad_fn=<NllLossBackward0>)\n",
      "tensor(11.7807, dtype=torch.float64, grad_fn=<NllLossBackward0>)\n",
      "----------\n"
     ]
    },
    {
     "name": "stderr",
     "output_type": "stream",
     "text": [
      "100%|███████████████████████████████████▉| 9991/10000 [2:40:12<00:06,  1.29it/s]"
     ]
    },
    {
     "name": "stdout",
     "output_type": "stream",
     "text": [
      "train test\n",
      "tensor(0.2329, dtype=torch.float64, grad_fn=<NllLossBackward0>)\n",
      "tensor(11.7209, dtype=torch.float64, grad_fn=<NllLossBackward0>)\n",
      "----------\n"
     ]
    },
    {
     "name": "stderr",
     "output_type": "stream",
     "text": [
      "100%|███████████████████████████████████| 10000/10000 [2:40:18<00:00,  1.04it/s]\n"
     ]
    }
   ],
   "source": [
    "from sklearn.metrics import accuracy_score\n",
    "model = GATV3()\n",
    "optimizer = torch.optim.AdamW(model.parameters(), lr=lr, weight_decay=weight_decay, betas=betas)\n",
    "\n",
    "criterion = nn.CrossEntropyLoss()\n",
    "def train():\n",
    "      model.train()\n",
    "      optimizer.zero_grad()  # Clear gradients.\n",
    "      out = model(node_feats)  # Perform a single forward pass.\n",
    "      out = out.to(torch.float64)\n",
    "\n",
    "\n",
    "      loss = criterion(out[train_mask], node_labels[train_mask])  # Compute the loss solely based on the training nodes.\n",
    "      loss_test = criterion(out[val_mask], node_labels[val_mask])\n",
    "      loss.backward()  # Derive gradients.\n",
    "      optimizer.step()  # Update parameters based on gradients.\n",
    "      return loss, loss_test\n",
    "\n",
    "def test():\n",
    "      model.eval()\n",
    "      pred = model(node_feats)\n",
    "      pred = pred.argmax(dim=1)  # Use the class with highest probability.\n",
    "      #true = node_labels.argmax(dim=1)\n",
    "    \n",
    "#       test_acc = torch.sqrt(torch.mean((pred[val_mask] - node_labels[val_mask]) ** 2))\n",
    "#       train_acc = torch.sqrt(torch.mean((pred[train_mask] - node_labels[train_mask]) ** 2))\n",
    "\n",
    "    \n",
    "#       return test_acc.item(), train_acc.item()\n",
    "      return (accuracy_score(node_labels[val_mask], pred[val_mask]),\n",
    "            accuracy_score(node_labels[train_mask], pred[train_mask]))\n",
    "\n",
    "# def train():\n",
    "#       model.train()\n",
    "#       optimizer.zero_grad()  # Clear gradients.\n",
    "#       out = model(node_feats, adj_matrix)  # Perform a single forward pass.\n",
    "#       loss = criterion(out[train_mask], node_labels[train_mask])  # Compute the loss solely based on the training nodes.\n",
    "#       loss_test = criterion(out[val_mask], node_labels[val_mask])\n",
    "#       loss.backward()  # Derive gradients.\n",
    "#       optimizer.step()  # Update parameters based on gradients.\n",
    "#       return loss, loss_test\n",
    "\n",
    "# def test():\n",
    "#       model.eval()\n",
    "#       out = model(node_feats, adj_matrix)\n",
    "#       pred = out.argmax(dim=1)  # Use the class with highest probability.\n",
    "#       true = node_labels.argmax(dim=1)\n",
    "#       test_correct = pred[val_mask] == true[val_mask]  # Check against ground-truth labels.\n",
    "#       test_acc = int(np.array(test_correct).sum()) / int(np.array(val_mask).sum())  # Derive ratio of correct predictions.\n",
    "\n",
    "\n",
    "#       train_correct = pred[train_mask] == true[train_mask]  # Check against ground-truth labels.\n",
    "#       train_acc = int(np.array(train_correct).sum()) / int(np.array(train_mask).sum())  # Derive ratio of correct predictions.\n",
    "#       return test_acc, train_acc\n",
    "import tqdm.auto as tqdm\n",
    "train_loss = []\n",
    "test_loss = []\n",
    "test_aa = []\n",
    "train_aa = []\n",
    "for epoch in tqdm.tqdm(range(10000)):\n",
    "#     if epoch % 100 == 0:\n",
    "#       print(epoch)\n",
    "    loss, loss_test = train()\n",
    "    test_acc, train_acc = test()\n",
    "    train_loss.append(loss.item())\n",
    "    test_loss.append(loss_test.item())\n",
    "    test_aa.append(test_acc)\n",
    "    train_aa.append(train_acc)\n",
    "    if epoch % 10 == 0:\n",
    "        print('train test')\n",
    "        print(loss)\n",
    "        print(loss_test)\n",
    "        print('----------')"
   ]
  },
  {
   "cell_type": "code",
   "execution_count": 10,
   "id": "1ffd8378",
   "metadata": {},
   "outputs": [
    {
     "data": {
      "text/plain": [
       "<matplotlib.legend.Legend at 0x281badc00>"
      ]
     },
     "execution_count": 10,
     "metadata": {},
     "output_type": "execute_result"
    },
    {
     "data": {
      "image/png": "[encoded data removed]",
      "text/plain": [
       "<Figure size 640x480 with 1 Axes>"
      ]
     },
     "metadata": {},
     "output_type": "display_data"
    }
   ],
   "source": [
    "import matplotlib.pyplot as plt\n",
    "plt.plot(train_loss)\n",
    "plt.plot(test_loss)\n",
    "plt.xlabel('epochs')\n",
    "plt.ylabel('losses')\n",
    "plt.legend(['train_loss', 'test_loss'])"
   ]
  },
  {
   "cell_type": "code",
   "execution_count": 17,
   "id": "3c6f2647",
   "metadata": {},
   "outputs": [
    {
     "data": {
      "text/plain": [
       "0.9962962962962963"
      ]
     },
     "execution_count": 17,
     "metadata": {},
     "output_type": "execute_result"
    }
   ],
   "source": [
    "import sklearn\n",
    "sklearn.metrics.accuracy_score(model(node_feats).argmax(dim=1)[train_mask],\n",
    "                        node_labels[train_mask])"
   ]
  },
  {
   "cell_type": "code",
   "execution_count": null,
   "id": "d512c200",
   "metadata": {},
   "outputs": [],
   "source": []
  }
 ],
 "metadata": {
  "kernelspec": {
   "display_name": "Python 3 (ipykernel)",
   "language": "python",
   "name": "python3"
  },
  "language_info": {
   "codemirror_mode": {
    "name": "ipython",
    "version": 3
   },
   "file_extension": ".py",
   "mimetype": "text/x-python",
   "name": "python",
   "nbconvert_exporter": "python",
   "pygments_lexer": "ipython3",
   "version": "3.10.9"
  }
 },
 "nbformat": 4,
 "nbformat_minor": 5
}
