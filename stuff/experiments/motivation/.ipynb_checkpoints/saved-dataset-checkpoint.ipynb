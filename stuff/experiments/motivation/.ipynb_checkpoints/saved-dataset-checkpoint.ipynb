{
 "cells": [
  {
   "cell_type": "code",
   "execution_count": 3,
   "id": "06af01df",
   "metadata": {},
   "outputs": [],
   "source": [
    "import torch\n",
    "\n",
    "def get_data(p: int, threshold: float):  \n",
    "    dataset = []\n",
    "    for i in range(p):\n",
    "        for j in range(p):\n",
    "            dataset.append([i, j, p])\n",
    "    dataset = torch.Tensor(dataset).to(torch.int64)\n",
    "    \n",
    "    labels = (dataset[:, 0] + dataset[:, 1]) % p\n",
    "    \n",
    "    idxs = torch.randperm(p ** 2)\n",
    "    cutoff = int(threshold * p ** 2)\n",
    "    train_indices = idxs[:cutoff]\n",
    "    test_indices = idxs[cutoff:]\n",
    "    \n",
    "    \n",
    "    train_data = dataset[train_indices]\n",
    "    train_labels = labels[train_indices]\n",
    "    \n",
    "    test_data = dataset[test_indices]\n",
    "    test_labels = labels[test_indices]\n",
    "    \n",
    "    return train_data, train_labels, test_data, test_labels"
   ]
  },
  {
   "cell_type": "code",
   "execution_count": 4,
   "id": "3c4848e3",
   "metadata": {},
   "outputs": [],
   "source": [
    "train_data, train_labels, test_data, test_labels = get_data(113, 0.3)"
   ]
  },
  {
   "cell_type": "code",
   "execution_count": 9,
   "id": "e9e04449",
   "metadata": {},
   "outputs": [],
   "source": [
    "path = '/Users/theo/Desktop/gdl/motivation/'"
   ]
  },
  {
   "cell_type": "code",
   "execution_count": 10,
   "id": "2f533141",
   "metadata": {},
   "outputs": [],
   "source": [
    "torch.save(train_data, path + 'train_data.pt')\n",
    "torch.save(train_labels, path + 'train_labels.pt')\n",
    "torch.save(test_data, path + 'test_data.pt')\n",
    "torch.save(test_labels, path + 'test_labels.pt')"
   ]
  }
 ],
 "metadata": {
  "kernelspec": {
   "display_name": "Python 3 (ipykernel)",
   "language": "python",
   "name": "python3"
  },
  "language_info": {
   "codemirror_mode": {
    "name": "ipython",
    "version": 3
   },
   "file_extension": ".py",
   "mimetype": "text/x-python",
   "name": "python",
   "nbconvert_exporter": "python",
   "pygments_lexer": "ipython3",
   "version": "3.10.9"
  }
 },
 "nbformat": 4,
 "nbformat_minor": 5
}
