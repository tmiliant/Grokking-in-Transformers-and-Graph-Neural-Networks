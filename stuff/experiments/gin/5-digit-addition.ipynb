{
 "cells": [
  {
   "cell_type": "code",
   "execution_count": 1,
   "id": "1349c8db",
   "metadata": {},
   "outputs": [
    {
     "name": "stderr",
     "output_type": "stream",
     "text": [
      "/opt/homebrew/lib/python3.10/site-packages/tqdm/auto.py:22: TqdmWarning: IProgress not found. Please update jupyter and ipywidgets. See https://ipywidgets.readthedocs.io/en/stable/user_install.html\n",
      "  from .autonotebook import tqdm as notebook_tqdm\n"
     ]
    }
   ],
   "source": [
    "import torch\n",
    "import torch.nn as nn\n",
    "from torch_geometric.nn import GINConv"
   ]
  },
  {
   "cell_type": "code",
   "execution_count": 2,
   "id": "def7bcdb",
   "metadata": {},
   "outputs": [
    {
     "name": "stdout",
     "output_type": "stream",
     "text": [
      "GIN(\n",
      "  (conv): GINConv(nn=Sequential(\n",
      "    (0): Linear(in_features=1, out_features=512, bias=True)\n",
      "    (1): BatchNorm1d(512, eps=1e-05, momentum=0.1, affine=True, track_running_stats=True)\n",
      "    (2): ReLU()\n",
      "    (3): Linear(in_features=512, out_features=512, bias=True)\n",
      "    (4): ReLU()\n",
      "  ))\n",
      "  (linear): Linear(in_features=512, out_features=1, bias=True)\n",
      ")\n"
     ]
    }
   ],
   "source": [
    "in_dim = 1\n",
    "out_dim = 1\n",
    "hidden_dim = 512\n",
    "\n",
    "class GIN(torch.nn.Module):\n",
    "    def __init__(self, in_dim=in_dim, out_dim=out_dim, hidden_dim=hidden_dim):\n",
    "        super(GIN, self).__init__()\n",
    "        self.conv = GINConv(\n",
    "            nn.Sequential(nn.Linear(in_dim, hidden_dim).to(torch.float64),\n",
    "                       nn.BatchNorm1d(hidden_dim).to(torch.float64), nn.ReLU().to(torch.float64),\n",
    "                       nn.Linear(hidden_dim, hidden_dim).to(torch.float64), nn.ReLU()))\n",
    "        self.linear = nn.Linear(hidden_dim, out_dim).to(torch.float64)\n",
    "\n",
    "    def forward(self, x, edge_index):\n",
    "        x = self.conv(x, edge_index)\n",
    "        x = torch.relu(x)\n",
    "        x = self.linear(x)\n",
    "        return x \n",
    "\n",
    "\n",
    "model = GIN(in_dim=in_dim, out_dim=out_dim, hidden_dim=hidden_dim)\n",
    "print(model)"
   ]
  },
  {
   "cell_type": "code",
   "execution_count": 3,
   "id": "5be4e945",
   "metadata": {},
   "outputs": [
    {
     "name": "stdout",
     "output_type": "stream",
     "text": [
      "torch.Size([700, 1])\n",
      "torch.Size([700, 700])\n",
      "torch.Size([700, 1])\n"
     ]
    }
   ],
   "source": [
    "# Params for dataset\n",
    "n = 700\n",
    "p = 0.05\n",
    "threshold = 0.3\n",
    "no_digits = 4\n",
    "\n",
    "# Params for GNN\n",
    "input_dim = 1\n",
    "hidden_dim = 128\n",
    "output_dim = 1\n",
    "\n",
    "# Params for optimizer\n",
    "weight_decay = 0.1\n",
    "lr = 1e-3\n",
    "betas = (0.9, 0.98)\n",
    "\n",
    "\n",
    "node_feats = torch.randint(low=10**no_digits, high=10**(no_digits+1), \n",
    "                           size=(n,1)).to(torch.float64)\n",
    "\n",
    "# node_feats = torch.randint(low=10**no_digits, high=10**(no_digits+1), \n",
    "#                            size=(n,1)).to(torch.float64)\n",
    "\n",
    "half_matrix = torch.bernoulli(p * (torch.triu(torch.ones(n, n)) -\n",
    "                                              torch.eye(n)))\n",
    "adj_matrix = (half_matrix + half_matrix.T).to(torch.float64)\n",
    "edge_index = adj_matrix.nonzero().t().contiguous()\n",
    "\n",
    "# node_labels = torch.Tensor([])\n",
    "# for i in range(n):\n",
    "#     total = 0\n",
    "#     for j in range(n):\n",
    "#         if adj_matrix[i][j] == 1:\n",
    "#             total += node_feats[j]\n",
    "#     node_labels = torch.cat([node_labels, total % 13], dim=0)\n",
    "# node_labels = node_labels.reshape(-1, 1).to(torch.float64)\n",
    "\n",
    "node_labels = torch.Tensor([])\n",
    "for i in range(n):\n",
    "    total = 0\n",
    "    for j in range(n):\n",
    "        if adj_matrix[i][j] == 1:\n",
    "            total += node_feats[j]\n",
    "    node_labels = torch.cat([node_labels, total], dim=0)\n",
    "node_labels = node_labels.reshape(-1, 1).to(torch.float64)\n",
    "\n",
    "\n",
    "print(node_feats.shape)\n",
    "print(adj_matrix.shape)\n",
    "print(node_labels.shape)"
   ]
  },
  {
   "cell_type": "code",
   "execution_count": 4,
   "id": "13f88d51",
   "metadata": {},
   "outputs": [],
   "source": [
    "import random\n",
    "poss = [i for i in range(n)]\n",
    "idx = random.sample(poss, int(threshold * len(poss)))\n",
    "train_mask = [True if i in idx else False for i in range(n)]\n",
    "val_mask = [False if train_mask[i] else True for i in range(n)]"
   ]
  },
  {
   "cell_type": "code",
   "execution_count": 7,
   "id": "4422e3e2",
   "metadata": {},
   "outputs": [
    {
     "name": "stderr",
     "output_type": "stream",
     "text": [
      "100%|███████████████████████████████████████████████████████████████████████████████████████████████████████████████████████████████████████████████████████████████████████████| 10000/10000 [05:36<00:00, 29.68it/s]\n"
     ]
    }
   ],
   "source": [
    "from sklearn.metrics import mean_squared_error\n",
    "model = GIN(in_dim=in_dim, out_dim=out_dim, hidden_dim=hidden_dim)\n",
    "optimizer = torch.optim.AdamW(model.parameters(), lr=lr, weight_decay=weight_decay, betas=betas)\n",
    "\n",
    "criterion = nn.MSELoss()\n",
    "node_feats = node_feats.to(torch.float64)\n",
    "def train():\n",
    "      model.train()\n",
    "      optimizer.zero_grad()  # Clear gradients.\n",
    "    \n",
    "      out = model(node_feats, edge_index)  # Perform a single forward pass.\n",
    "      out = out.to(torch.float64)\n",
    "\n",
    "      loss = criterion(out[train_mask], node_labels[train_mask])  # Compute the loss solely based on the training nodes.\n",
    "      loss_test = criterion(out[val_mask], node_labels[val_mask])\n",
    "      loss.backward()  # Derive gradients.\n",
    "      optimizer.step()  # Update parameters based on gradients.\n",
    "      return loss, loss_test\n",
    "\n",
    "def test():\n",
    "      model.eval()\n",
    "      pred = model(node_feats, edge_index)\n",
    "      #pred = pred.argmax(dim=1)  # Use the class with highest probability.\n",
    "      #true = node_labels.argmax(dim=1)\n",
    "    \n",
    "#       test_acc = torch.sqrt(torch.mean((pred[val_mask] - node_labels[val_mask]) ** 2))\n",
    "#       train_acc = torch.sqrt(torch.mean((pred[train_mask] - node_labels[train_mask]) ** 2))\n",
    "\n",
    "    \n",
    "#       return test_acc.item(), train_acc.item()\n",
    "      return (mean_squared_error(node_labels[val_mask].detach(), pred[val_mask].detach()),\n",
    "            mean_squared_error(node_labels[train_mask].detach(), pred[train_mask].detach()))\n",
    "\n",
    "# def train():\n",
    "#       model.train()\n",
    "#       optimizer.zero_grad()  # Clear gradients.\n",
    "#       out = model(node_feats, adj_matrix)  # Perform a single forward pass.\n",
    "#       loss = criterion(out[train_mask], node_labels[train_mask])  # Compute the loss solely based on the training nodes.\n",
    "#       loss_test = criterion(out[val_mask], node_labels[val_mask])\n",
    "#       loss.backward()  # Derive gradients.\n",
    "#       optimizer.step()  # Update parameters based on gradients.\n",
    "#       return loss, loss_test\n",
    "\n",
    "# def test():\n",
    "#       model.eval()\n",
    "#       out = model(node_feats, adj_matrix)\n",
    "#       pred = out.argmax(dim=1)  # Use the class with highest probability.\n",
    "#       true = node_labels.argmax(dim=1)\n",
    "#       test_correct = pred[val_mask] == true[val_mask]  # Check against ground-truth labels.\n",
    "#       test_acc = int(np.array(test_correct).sum()) / int(np.array(val_mask).sum())  # Derive ratio of correct predictions.\n",
    "\n",
    "\n",
    "#       train_correct = pred[train_mask] == true[train_mask]  # Check against ground-truth labels.\n",
    "#       train_acc = int(np.array(train_correct).sum()) / int(np.array(train_mask).sum())  # Derive ratio of correct predictions.\n",
    "#       return test_acc, train_acc\n",
    "import tqdm.auto as tqdm\n",
    "train_loss = []\n",
    "test_loss = []\n",
    "test_aa = []\n",
    "train_aa = []\n",
    "for epoch in tqdm.tqdm(range(10000)):\n",
    "#     if epoch % 100 == 0:\n",
    "#       print(epoch)\n",
    "    loss, loss_test = train()\n",
    "    test_acc, train_acc = test()\n",
    "    train_loss.append(loss.item())\n",
    "    test_loss.append(loss_test.item())\n",
    "    test_aa.append(test_acc)\n",
    "    train_aa.append(train_acc)"
   ]
  },
  {
   "cell_type": "code",
   "execution_count": 10,
   "id": "09ad5236",
   "metadata": {},
   "outputs": [
    {
     "data": {
      "text/plain": [
       "<matplotlib.legend.Legend at 0x17c1fda50>"
      ]
     },
     "execution_count": 10,
     "metadata": {},
     "output_type": "execute_result"
    },
    {
     "data": {
      "image/png": "[encoded data removed]",
      "text/plain": [
       "<Figure size 640x480 with 1 Axes>"
      ]
     },
     "metadata": {},
     "output_type": "display_data"
    }
   ],
   "source": [
    "import matplotlib.pyplot as plt\n",
    "plt.plot(train_loss)\n",
    "plt.plot(test_loss)\n",
    "plt.xlabel('epochs')\n",
    "plt.ylabel('losses')\n",
    "plt.legend(['train_loss', 'test_loss'])"
   ]
  },
  {
   "cell_type": "code",
   "execution_count": 9,
   "id": "43ede839",
   "metadata": {},
   "outputs": [],
   "source": [
    "#path = '/Users/.../Desktop/gdl_exam/figs/'\n",
    "torch.save(torch.Tensor(train_loss), path + '5train_gin_01.pt')\n",
    "torch.save(torch.Tensor(test_loss), path + '5test_gin_01.pt')"
   ]
  },
  {
   "cell_type": "code",
   "execution_count": null,
   "id": "299f3c18",
   "metadata": {},
   "outputs": [],
   "source": []
  }
 ],
 "metadata": {
  "kernelspec": {
   "display_name": "Python 3 (ipykernel)",
   "language": "python",
   "name": "python3"
  },
  "language_info": {
   "codemirror_mode": {
    "name": "ipython",
    "version": 3
   },
   "file_extension": ".py",
   "mimetype": "text/x-python",
   "name": "python",
   "nbconvert_exporter": "python",
   "pygments_lexer": "ipython3",
   "version": "3.10.9"
  }
 },
 "nbformat": 4,
 "nbformat_minor": 5
}
