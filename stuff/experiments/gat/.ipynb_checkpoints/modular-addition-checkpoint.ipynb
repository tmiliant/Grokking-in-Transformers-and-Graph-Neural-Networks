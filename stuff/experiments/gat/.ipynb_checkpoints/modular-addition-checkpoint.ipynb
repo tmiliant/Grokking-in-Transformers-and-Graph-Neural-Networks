{
 "cells": [
  {
   "cell_type": "code",
   "execution_count": 6,
   "id": "a50a24da",
   "metadata": {},
   "outputs": [],
   "source": [
    "import torch\n",
    "import torch.nn as nn\n",
    "from torch_geometric.nn import GATConv"
   ]
  },
  {
   "cell_type": "code",
   "execution_count": 7,
   "id": "6a33586b",
   "metadata": {},
   "outputs": [
    {
     "name": "stdout",
     "output_type": "stream",
     "text": [
      "GAT(\n",
      "  (conv): GATConv(2, 128, heads=1)\n",
      "  (linear): Linear(in_features=128, out_features=113, bias=True)\n",
      ")\n"
     ]
    }
   ],
   "source": [
    "in_dim = 2\n",
    "out_dim = 113\n",
    "hidden_dim = 128\n",
    "heads = 4\n",
    "class GAT(torch.nn.Module):\n",
    "    def __init__(self, in_dim, out_dim, hidden_dim, heads=4):\n",
    "        super().__init__()\n",
    "        self.conv = GATConv(in_dim, hidden_dim, num_heads=heads).to(torch.float64) # TODO\n",
    "        self.linear = nn.Linear(hidden_dim, out_dim).to(torch.float64) \n",
    "\n",
    "    def forward(self, x, edge_index):\n",
    "        x = self.conv(x, edge_index)\n",
    "        x = torch.relu(x)\n",
    "        x = self.linear(x)\n",
    "        return x\n",
    "\n",
    "model = GAT(in_dim=in_dim, out_dim=out_dim, hidden_dim=hidden_dim, heads=heads)\n",
    "print(model)"
   ]
  },
  {
   "cell_type": "code",
   "execution_count": 8,
   "id": "1d6fb280",
   "metadata": {},
   "outputs": [
    {
     "name": "stdout",
     "output_type": "stream",
     "text": [
      "torch.Size([2000, 2])\n",
      "torch.Size([2000, 2000])\n",
      "torch.Size([2000])\n",
      "torch.Size([2, 3996])\n"
     ]
    }
   ],
   "source": [
    "# Params for dataset\n",
    "n = 2000\n",
    "p = 0.001\n",
    "prime = 113\n",
    "threshold = 0.7\n",
    "no_digits = 4\n",
    "\n",
    "# Params for GNN\n",
    "input_dim = 1\n",
    "hidden_dim = 512\n",
    "output_dim = 1\n",
    "\n",
    "# Params for optimizer\n",
    "weight_decay = 0.1\n",
    "lr = 1e-3\n",
    "betas = (0.9, 0.98)\n",
    "\n",
    "\n",
    "# node_feats = torch.randint(low=10**no_digits, high=10**(no_digits+1), \n",
    "#                            size=(n,1)).to(torch.float64)\n",
    "\n",
    "# node_feats = torch.randint(low=10**no_digits, high=10**(no_digits+1), \n",
    "#                            size=(n,1)).to(torch.float64)\n",
    "\n",
    "modulo = (prime * torch.ones(n,1))\n",
    "nums = torch.randint(0, 113, size=(n,1))\n",
    "node_feats = torch.cat([modulo, nums], dim=1).to(torch.float64)\n",
    "\n",
    "half_matrix = torch.bernoulli(p * (torch.triu(torch.ones(n, n)) -\n",
    "                                              torch.eye(n)))\n",
    "adj_matrix = (half_matrix + half_matrix.T).to(torch.float64)\n",
    "edge_index = adj_matrix.nonzero().t().contiguous()\n",
    "\n",
    "\n",
    "node_labels = torch.Tensor([])\n",
    "for i in range(n):\n",
    "    total = torch.Tensor([0])\n",
    "    for j in range(n):\n",
    "        if adj_matrix[i][j] == 1:\n",
    "            total += node_feats[j][1]\n",
    "    node_labels = torch.cat([node_labels, total.reshape(-1, 1) % prime], dim=0)\n",
    "node_labels = node_labels.reshape(-1)\n",
    "node_labels = node_labels.to(torch.int64)\n",
    "\n",
    "\n",
    "# node_labels = torch.Tensor([])\n",
    "# for i in range(n):\n",
    "#     total = 0\n",
    "#     for j in range(n):\n",
    "#         if adj_matrix[i][j] == 1:\n",
    "#             total += node_feats[j]\n",
    "#     node_labels = torch.cat([node_labels, total % 13], dim=0)\n",
    "# node_labels = node_labels.reshape(-1, 1).to(torch.float64)\n",
    "\n",
    "# node_labels = torch.Tensor([])\n",
    "# for i in range(n):\n",
    "#     total = 0\n",
    "#     for j in range(n):\n",
    "#         if adj_matrix[i][j] == 1:\n",
    "#             total += node_feats[j]\n",
    "#     node_labels = torch.cat([node_labels, total], dim=0)\n",
    "# node_labels = node_labels.reshape(-1, 1).to(torch.float64)\n",
    "\n",
    "\n",
    "print(node_feats.shape)\n",
    "print(adj_matrix.shape)\n",
    "print(node_labels.shape)\n",
    "print(edge_index.shape)"
   ]
  },
  {
   "cell_type": "code",
   "execution_count": 9,
   "id": "38115c0d",
   "metadata": {},
   "outputs": [],
   "source": [
    "import random\n",
    "poss = [i for i in range(n)]\n",
    "idx = random.sample(poss, int(threshold * len(poss)))\n",
    "train_mask = [True if i in idx else False for i in range(n)]\n",
    "val_mask = [False if train_mask[i] else True for i in range(n)]"
   ]
  },
  {
   "cell_type": "code",
   "execution_count": 10,
   "id": "d3060639",
   "metadata": {},
   "outputs": [
    {
     "name": "stderr",
     "output_type": "stream",
     "text": [
      "100%|███████████████████████████████████████████████████████████████████████████████████████████████████████████████████████████████████████████████████████████████████████████| 10000/10000 [21:44<00:00,  7.67it/s]\n"
     ]
    }
   ],
   "source": [
    "from sklearn.metrics import accuracy_score\n",
    "model = GAT(in_dim=in_dim, out_dim=out_dim, hidden_dim=hidden_dim)\n",
    "optimizer = torch.optim.AdamW(model.parameters(), lr=lr, weight_decay=weight_decay, betas=betas)\n",
    "\n",
    "criterion = nn.CrossEntropyLoss()\n",
    "node_feats = node_feats.to(torch.float64)\n",
    "def train():\n",
    "      model.train()\n",
    "      optimizer.zero_grad()  # Clear gradients.\n",
    "    \n",
    "      out = model(node_feats, edge_index)  # Perform a single forward pass.\n",
    "      out = out.to(torch.float64)\n",
    "\n",
    "      loss = criterion(out[train_mask], node_labels[train_mask])  # Compute the loss solely based on the training nodes.\n",
    "      loss_test = criterion(out[val_mask], node_labels[val_mask])\n",
    "      loss.backward()  # Derive gradients.\n",
    "      optimizer.step()  # Update parameters based on gradients.\n",
    "      return loss, loss_test\n",
    "\n",
    "def test():\n",
    "      model.eval()\n",
    "      pred = model(node_feats, edge_index)\n",
    "      pred = pred.argmax(dim=1)  # Use the class with highest probability.\n",
    "      #true = node_labels.argmax(dim=1)\n",
    "    \n",
    "#       test_acc = torch.sqrt(torch.mean((pred[val_mask] - node_labels[val_mask]) ** 2))\n",
    "#       train_acc = torch.sqrt(torch.mean((pred[train_mask] - node_labels[train_mask]) ** 2))\n",
    "\n",
    "    \n",
    "#       return test_acc.item(), train_acc.item()\n",
    "      return (accuracy_score(node_labels[val_mask], pred[val_mask]),\n",
    "            accuracy_score(node_labels[train_mask], pred[train_mask]))\n",
    "\n",
    "# def train():\n",
    "#       model.train()\n",
    "#       optimizer.zero_grad()  # Clear gradients.\n",
    "#       out = model(node_feats, adj_matrix)  # Perform a single forward pass.\n",
    "#       loss = criterion(out[train_mask], node_labels[train_mask])  # Compute the loss solely based on the training nodes.\n",
    "#       loss_test = criterion(out[val_mask], node_labels[val_mask])\n",
    "#       loss.backward()  # Derive gradients.\n",
    "#       optimizer.step()  # Update parameters based on gradients.\n",
    "#       return loss, loss_test\n",
    "\n",
    "# def test():\n",
    "#       model.eval()\n",
    "#       out = model(node_feats, adj_matrix)\n",
    "#       pred = out.argmax(dim=1)  # Use the class with highest probability.\n",
    "#       true = node_labels.argmax(dim=1)\n",
    "#       test_correct = pred[val_mask] == true[val_mask]  # Check against ground-truth labels.\n",
    "#       test_acc = int(np.array(test_correct).sum()) / int(np.array(val_mask).sum())  # Derive ratio of correct predictions.\n",
    "\n",
    "\n",
    "#       train_correct = pred[train_mask] == true[train_mask]  # Check against ground-truth labels.\n",
    "#       train_acc = int(np.array(train_correct).sum()) / int(np.array(train_mask).sum())  # Derive ratio of correct predictions.\n",
    "#       return test_acc, train_acc\n",
    "import tqdm.auto as tqdm\n",
    "train_loss = []\n",
    "test_loss = []\n",
    "test_aa = []\n",
    "train_aa = []\n",
    "for epoch in tqdm.tqdm(range(10000)):\n",
    "#     if epoch % 100 == 0:\n",
    "#       print(epoch)\n",
    "    loss, loss_test = train()\n",
    "    test_acc, train_acc = test()\n",
    "    train_loss.append(loss.item())\n",
    "    test_loss.append(loss_test.item())\n",
    "    test_aa.append(test_acc)\n",
    "    train_aa.append(train_acc)"
   ]
  },
  {
   "cell_type": "code",
   "execution_count": 13,
   "id": "aacf2b10",
   "metadata": {},
   "outputs": [
    {
     "data": {
      "text/plain": [
       "<matplotlib.legend.Legend at 0x1276dad70>"
      ]
     },
     "execution_count": 13,
     "metadata": {},
     "output_type": "execute_result"
    },
    {
     "data": {
      "image/png": "[encoded data removed]",
      "text/plain": [
       "<Figure size 640x480 with 1 Axes>"
      ]
     },
     "metadata": {},
     "output_type": "display_data"
    }
   ],
   "source": [
    "#path = '/Users/.../Desktop/gdl_exam/figs/'\n",
    "import matplotlib.pyplot as plt\n",
    "plt.plot(train_loss)\n",
    "plt.plot(test_loss)\n",
    "plt.xlabel('epochs')\n",
    "plt.ylabel('losses')\n",
    "plt.legend(['train_loss', 'test_loss'])\n",
    "#plt.savefig(path + 'gat01.png')"
   ]
  },
  {
   "cell_type": "code",
   "execution_count": 14,
   "id": "7da303a9",
   "metadata": {},
   "outputs": [],
   "source": [
    "#path = '/Users/.../Desktop/gdl_exam/figs/'\n",
    "torch.save(torch.Tensor(train_loss), path + 'train_gat_01.pt')\n",
    "torch.save(torch.Tensor(test_loss), path + 'test_gat_01.pt')"
   ]
  },
  {
   "cell_type": "code",
   "execution_count": null,
   "id": "5764ac30",
   "metadata": {},
   "outputs": [],
   "source": []
  }
 ],
 "metadata": {
  "kernelspec": {
   "display_name": "Python 3 (ipykernel)",
   "language": "python",
   "name": "python3"
  },
  "language_info": {
   "codemirror_mode": {
    "name": "ipython",
    "version": 3
   },
   "file_extension": ".py",
   "mimetype": "text/x-python",
   "name": "python",
   "nbconvert_exporter": "python",
   "pygments_lexer": "ipython3",
   "version": "3.10.9"
  }
 },
 "nbformat": 4,
 "nbformat_minor": 5
}
