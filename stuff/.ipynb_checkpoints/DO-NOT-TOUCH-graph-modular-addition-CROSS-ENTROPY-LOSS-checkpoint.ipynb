{
 "cells": [
  {
   "cell_type": "code",
   "execution_count": 1,
   "metadata": {
    "colab": {
     "base_uri": "https://localhost:8080/"
    },
    "executionInfo": {
     "elapsed": 1960,
     "status": "ok",
     "timestamp": 1674661150486,
     "user": {
      "displayName": "scott huang",
      "userId": "06489357941762676089"
     },
     "user_tz": 0
    },
    "id": "muJ-TbV6muhI",
    "outputId": "545dfae4-0ced-4165-920b-75f17a0cee29"
   },
   "outputs": [
    {
     "name": "stderr",
     "output_type": "stream",
     "text": [
      "/opt/homebrew/lib/python3.10/site-packages/tqdm/auto.py:22: TqdmWarning: IProgress not found. Please update jupyter and ipywidgets. See https://ipywidgets.readthedocs.io/en/stable/user_install.html\n",
      "  from .autonotebook import tqdm as notebook_tqdm\n"
     ]
    }
   ],
   "source": [
    "import torch\n",
    "import torch.nn as nn\n",
    "import numpy as np\n",
    "from numpy import inf\n",
    "\n",
    "device = torch.device(\"cuda\") if torch.cuda.is_available() else torch.device(\"cpu\");\n",
    "torch.manual_seed(0);"
   ]
  },
  {
   "cell_type": "code",
   "execution_count": 2,
   "metadata": {
    "id": "TU3I3uOMNlIe"
   },
   "outputs": [],
   "source": [
    "class BaseGNNLayer(nn.Module):\n",
    "    \n",
    "    def __init__(self, input_dim, output_dim):\n",
    "        super().__init__()\n",
    "        lim = 1  \n",
    "        self.w_self = nn.Parameter(torch.zeros([input_dim, output_dim]).to(torch.float64))\n",
    "        self.w_neigh = nn.Parameter(torch.zeros([input_dim, output_dim]).to(torch.float64))\n",
    "        nn.init.uniform_(tensor=self.w_self, a=-lim, b=lim)  \n",
    "        nn.init.uniform_(tensor=self.w_neigh, a=-lim, b=lim)\n",
    "\n",
    "    def forward(self, node_feats, adj_matrix):\n",
    "        node_feats_self = torch.mm(node_feats, self.w_self) \n",
    "        node_feats_neigh = torch.mm(torch.mm(adj_matrix, node_feats), self.w_neigh)\n",
    "\n",
    "#         next_node_feats = node_feats_neigh\n",
    "        next_node_feats = node_feats_self + \\\n",
    "                          node_feats_neigh \n",
    "        return next_node_feats"
   ]
  },
  {
   "cell_type": "code",
   "execution_count": 3,
   "metadata": {},
   "outputs": [],
   "source": [
    "# class BaseGNNLayer(nn.Module):\n",
    "    \n",
    "#     def __init__(self, input_dim, output_dim):\n",
    "#         super().__init__()\n",
    "#         lim = 1  \n",
    "#         self.w_neigh = torch.ones(input_dim, output_dim).to(torch.float64)\n",
    "\n",
    "#     def forward(self, node_feats, adj_matrix):\n",
    "#         #node_feats_self = torch.mm(node_feats, self.w_self) \n",
    "#         node_feats_neigh = torch.mm(torch.mm(adj_matrix, node_feats), self.w_neigh)\n",
    "\n",
    "#         next_node_feats = node_feats_neigh\n",
    "# #         next_node_feats = node_feats_self + \\\n",
    "# #                           node_feats_neigh \n",
    "#         return next_node_feats"
   ]
  },
  {
   "cell_type": "code",
   "execution_count": 4,
   "metadata": {
    "id": "Ims55n-hFhrt"
   },
   "outputs": [],
   "source": [
    "def act_fn(x):\n",
    "    return torch.relu(x)"
   ]
  },
  {
   "cell_type": "code",
   "execution_count": 5,
   "metadata": {
    "id": "TEnA7gA9pYU3"
   },
   "outputs": [],
   "source": [
    "class BaseGNNModule(nn.Module):\n",
    "\n",
    "    def __init__(self, input_dim=2, hidden_dim=512, output_dim=113, act_fn=act_fn):\n",
    "        super().__init__()\n",
    "        self.layers = nn.ModuleList([BaseGNNLayer(input_dim, hidden_dim)])\n",
    "        self.layers = self.layers.append(nn.Linear(hidden_dim, output_dim).to(torch.float64))\n",
    "        self.act_fn = act_fn\n",
    "\n",
    "    def forward(self, x, adj_matrix):\n",
    "        x = x.to(torch.float64)\n",
    "        adj_matrix = adj_matrix.to(torch.float64)\n",
    "        x = self.act_fn(self.layers[0](x, adj_matrix))\n",
    "        x = self.layers[1](x)\n",
    "        return x"
   ]
  },
  {
   "cell_type": "code",
   "execution_count": 6,
   "metadata": {},
   "outputs": [
    {
     "data": {
      "text/plain": [
       "tensor([0])"
      ]
     },
     "execution_count": 6,
     "metadata": {},
     "output_type": "execute_result"
    }
   ],
   "source": [
    "torch.tensor([4]) % 2"
   ]
  },
  {
   "cell_type": "code",
   "execution_count": 7,
   "metadata": {},
   "outputs": [
    {
     "data": {
      "text/plain": [
       "tensor([[  1],\n",
       "        [ 29],\n",
       "        [112]])"
      ]
     },
     "execution_count": 7,
     "metadata": {},
     "output_type": "execute_result"
    }
   ],
   "source": [
    "torch.randint(0, 113, size=(3,1))"
   ]
  },
  {
   "cell_type": "code",
   "execution_count": 8,
   "metadata": {},
   "outputs": [
    {
     "name": "stdout",
     "output_type": "stream",
     "text": [
      "tensor([[0.1320],\n",
      "        [0.3074],\n",
      "        [0.6341]])\n",
      "tensor([[0.4901],\n",
      "        [0.8964],\n",
      "        [0.4556]])\n"
     ]
    },
    {
     "data": {
      "text/plain": [
       "tensor([[0.1320, 0.4901],\n",
       "        [0.3074, 0.8964],\n",
       "        [0.6341, 0.4556]])"
      ]
     },
     "execution_count": 8,
     "metadata": {},
     "output_type": "execute_result"
    }
   ],
   "source": [
    "a = torch.rand(3,1)\n",
    "b = torch.rand(3,1)\n",
    "print(a)\n",
    "print(b)\n",
    "torch.cat([a,b], dim=1)"
   ]
  },
  {
   "cell_type": "code",
   "execution_count": 9,
   "metadata": {},
   "outputs": [
    {
     "data": {
      "text/plain": [
       "tensor([[1.],\n",
       "        [1.],\n",
       "        [1.]])"
      ]
     },
     "execution_count": 9,
     "metadata": {},
     "output_type": "execute_result"
    }
   ],
   "source": [
    "torch.ones(3,1)"
   ]
  },
  {
   "cell_type": "code",
   "execution_count": 10,
   "metadata": {},
   "outputs": [
    {
     "data": {
      "text/plain": [
       "0.0006666666666666666"
      ]
     },
     "execution_count": 10,
     "metadata": {},
     "output_type": "execute_result"
    }
   ],
   "source": [
    "2/3000"
   ]
  },
  {
   "cell_type": "code",
   "execution_count": 11,
   "metadata": {},
   "outputs": [
    {
     "name": "stdout",
     "output_type": "stream",
     "text": [
      "torch.Size([2000, 2])\n",
      "torch.Size([2000, 2000])\n",
      "torch.Size([2000])\n"
     ]
    }
   ],
   "source": [
    "# Params for dataset\n",
    "n = 2000\n",
    "p = 0.001\n",
    "prime = 113\n",
    "threshold = 0.7\n",
    "no_digits = 4\n",
    "\n",
    "# Params for GNN\n",
    "input_dim = 1\n",
    "hidden_dim = 512\n",
    "output_dim = 1\n",
    "\n",
    "# Params for optimizer\n",
    "weight_decay = 1\n",
    "lr = 1e-3\n",
    "betas = (0.9, 0.98)\n",
    "\n",
    "\n",
    "# node_feats = torch.randint(low=10**no_digits, high=10**(no_digits+1), \n",
    "#                            size=(n,1)).to(torch.float64)\n",
    "\n",
    "# node_feats = torch.randint(low=10**no_digits, high=10**(no_digits+1), \n",
    "#                            size=(n,1)).to(torch.float64)\n",
    "\n",
    "modulo = (prime * torch.ones(n,1))\n",
    "nums = torch.randint(0, 113, size=(n,1))\n",
    "node_feats = torch.cat([modulo, nums], dim=1).to(torch.int64)\n",
    "\n",
    "half_matrix = torch.bernoulli(p * (torch.triu(torch.ones(n, n)) -\n",
    "                                              torch.eye(n)))\n",
    "adj_matrix = (half_matrix + half_matrix.T).to(torch.float64)\n",
    "\n",
    "node_labels = torch.Tensor([])\n",
    "for i in range(n):\n",
    "    total = torch.Tensor([0])\n",
    "    for j in range(n):\n",
    "        if adj_matrix[i][j] == 1:\n",
    "            total += node_feats[j][1]\n",
    "    node_labels = torch.cat([node_labels, total.reshape(-1, 1) % prime], dim=0)\n",
    "node_labels = node_labels.reshape(-1)\n",
    "node_labels = node_labels.to(torch.int64)\n",
    "\n",
    "\n",
    "# node_labels = torch.Tensor([])\n",
    "# for i in range(n):\n",
    "#     total = 0\n",
    "#     for j in range(n):\n",
    "#         if adj_matrix[i][j] == 1:\n",
    "#             total += node_feats[j]\n",
    "#     node_labels = torch.cat([node_labels, total % 13], dim=0)\n",
    "# node_labels = node_labels.reshape(-1, 1).to(torch.float64)\n",
    "\n",
    "# node_labels = torch.Tensor([])\n",
    "# for i in range(n):\n",
    "#     total = 0\n",
    "#     for j in range(n):\n",
    "#         if adj_matrix[i][j] == 1:\n",
    "#             total += node_feats[j]\n",
    "#     node_labels = torch.cat([node_labels, total], dim=0)\n",
    "# node_labels = node_labels.reshape(-1, 1).to(torch.float64)\n",
    "\n",
    "\n",
    "print(node_feats.shape)\n",
    "print(adj_matrix.shape)\n",
    "print(node_labels.shape)"
   ]
  },
  {
   "cell_type": "code",
   "execution_count": 13,
   "metadata": {},
   "outputs": [
    {
     "data": {
      "text/plain": [
       "tensor(105)"
      ]
     },
     "execution_count": 13,
     "metadata": {},
     "output_type": "execute_result"
    }
   ],
   "source": [
    "total = 0\n",
    "for j in range(n):\n",
    "    if adj_matrix[0][j] == 1:\n",
    "        total += node_feats[j][1]\n",
    "total % 113"
   ]
  },
  {
   "cell_type": "code",
   "execution_count": 15,
   "metadata": {},
   "outputs": [
    {
     "ename": "NameError",
     "evalue": "name 'model' is not defined",
     "output_type": "error",
     "traceback": [
      "\u001b[0;31m---------------------------------------------------------------------------\u001b[0m",
      "\u001b[0;31mNameError\u001b[0m                                 Traceback (most recent call last)",
      "Cell \u001b[0;32mIn[15], line 1\u001b[0m\n\u001b[0;32m----> 1\u001b[0m pred \u001b[38;5;241m=\u001b[39m \u001b[43mmodel\u001b[49m(node_feats, adj_matrix)[train_mask]\n\u001b[1;32m      2\u001b[0m true \u001b[38;5;241m=\u001b[39m node_labels[train_mask]\u001b[38;5;241m.\u001b[39mreshape(\u001b[38;5;241m-\u001b[39m\u001b[38;5;241m1\u001b[39m)\n\u001b[1;32m      3\u001b[0m \u001b[38;5;28mprint\u001b[39m(pred\u001b[38;5;241m.\u001b[39mshape)\n",
      "\u001b[0;31mNameError\u001b[0m: name 'model' is not defined"
     ]
    }
   ],
   "source": [
    "pred = model(node_feats, adj_matrix)[train_mask]\n",
    "true = node_labels[train_mask].reshape(-1)\n",
    "print(pred.shape)\n",
    "print(true.shape)"
   ]
  },
  {
   "cell_type": "code",
   "execution_count": 310,
   "metadata": {},
   "outputs": [
    {
     "data": {
      "text/plain": [
       "tensor(5.3045, dtype=torch.float64, grad_fn=<NllLossBackward0>)"
      ]
     },
     "execution_count": 310,
     "metadata": {},
     "output_type": "execute_result"
    }
   ],
   "source": [
    "criterion = nn.CrossEntropyLoss()\n",
    "criterion(pred, true)"
   ]
  },
  {
   "cell_type": "code",
   "execution_count": 12,
   "metadata": {},
   "outputs": [],
   "source": [
    "import random\n",
    "poss = [i for i in range(n)]\n",
    "idx = random.sample(poss, int(threshold * len(poss)))\n",
    "train_mask = [True if i in idx else False for i in range(n)]\n",
    "val_mask = [False if train_mask[i] else True for i in range(n)]"
   ]
  },
  {
   "cell_type": "code",
   "execution_count": 17,
   "metadata": {},
   "outputs": [
    {
     "data": {
      "text/plain": [
       "tensor([4., 2., 1.,  ..., 1., 2., 4.], dtype=torch.float64)"
      ]
     },
     "execution_count": 17,
     "metadata": {},
     "output_type": "execute_result"
    }
   ],
   "source": [
    "adj_matrix.sum(dim=0)"
   ]
  },
  {
   "cell_type": "code",
   "execution_count": 295,
   "metadata": {},
   "outputs": [],
   "source": [
    "# threshold = 0.3\n",
    "# val_mask = []\n",
    "# for i in range(1, len(adj_matrix) + 1):\n",
    "#   if i > threshold * len(adj_matrix):\n",
    "#     val_mask.append(True)\n",
    "#   else:\n",
    "#     val_mask.append(False)\n",
    "\n",
    "# train_mask = []\n",
    "# for i in range(1, len(adj_matrix) + 1):\n",
    "#   if i <= threshold * len(adj_matrix):\n",
    "#     train_mask.append(True)\n",
    "#   else:\n",
    "#     train_mask.append(False)"
   ]
  },
  {
   "cell_type": "code",
   "execution_count": 242,
   "metadata": {},
   "outputs": [],
   "source": [
    "# def loss_fn(logits, labels):\n",
    "#     labels = labels.reshape(-1)\n",
    "#     logits = logits.to(torch.float64)\n",
    "#     log_probs = logits.log_softmax(dim=-1)\n",
    "#     correct_log_probs = log_probs.gather(dim=-1, index=labels[:, None])[:, 0]\n",
    "#     return -correct_log_probs.mean()\n",
    "# train_logits = model(node_feats, adj_matrix)\n",
    "# train_loss = loss_fn(train_logits[train_mask], node_labels[train_mask])\n",
    "# print(train_loss)\n",
    "# test_logits = model(node_feats, adj_matrix)\n",
    "# test_loss = loss_fn(test_logits, node_labels[val_mask])\n",
    "# print(test_loss)"
   ]
  },
  {
   "cell_type": "code",
   "execution_count": 13,
   "metadata": {},
   "outputs": [
    {
     "name": "stderr",
     "output_type": "stream",
     "text": [
      "100%|█████████████████████████████████████| 30000/30000 [09:35<00:00, 52.11it/s]\n"
     ]
    }
   ],
   "source": [
    "from sklearn.metrics import accuracy_score\n",
    "model = BaseGNNModule()\n",
    "optimizer = torch.optim.AdamW(model.parameters(), lr=lr, weight_decay=weight_decay, betas=betas)\n",
    "\n",
    "criterion = nn.CrossEntropyLoss()\n",
    "\n",
    "def train():\n",
    "      model.train()\n",
    "      optimizer.zero_grad()  # Clear gradients.\n",
    "      out = model(node_feats, adj_matrix)  # Perform a single forward pass.\n",
    "      out = out.to(torch.float64)\n",
    "\n",
    "      loss = criterion(out[train_mask], node_labels[train_mask])  # Compute the loss solely based on the training nodes.\n",
    "      loss_test = criterion(out[val_mask], node_labels[val_mask])\n",
    "      loss.backward()  # Derive gradients.\n",
    "      optimizer.step()  # Update parameters based on gradients.\n",
    "      return loss, loss_test\n",
    "\n",
    "def test():\n",
    "      model.eval()\n",
    "      pred = model(node_feats, adj_matrix)\n",
    "      pred = pred.argmax(dim=1)  # Use the class with highest probability.\n",
    "      #true = node_labels.argmax(dim=1)\n",
    "    \n",
    "#       test_acc = torch.sqrt(torch.mean((pred[val_mask] - node_labels[val_mask]) ** 2))\n",
    "#       train_acc = torch.sqrt(torch.mean((pred[train_mask] - node_labels[train_mask]) ** 2))\n",
    "\n",
    "    \n",
    "#       return test_acc.item(), train_acc.item()\n",
    "      return (accuracy_score(node_labels[val_mask], pred[val_mask]),\n",
    "            accuracy_score(node_labels[train_mask], pred[train_mask]))\n",
    "\n",
    "# def train():\n",
    "#       model.train()\n",
    "#       optimizer.zero_grad()  # Clear gradients.\n",
    "#       out = model(node_feats, adj_matrix)  # Perform a single forward pass.\n",
    "#       loss = criterion(out[train_mask], node_labels[train_mask])  # Compute the loss solely based on the training nodes.\n",
    "#       loss_test = criterion(out[val_mask], node_labels[val_mask])\n",
    "#       loss.backward()  # Derive gradients.\n",
    "#       optimizer.step()  # Update parameters based on gradients.\n",
    "#       return loss, loss_test\n",
    "\n",
    "# def test():\n",
    "#       model.eval()\n",
    "#       out = model(node_feats, adj_matrix)\n",
    "#       pred = out.argmax(dim=1)  # Use the class with highest probability.\n",
    "#       true = node_labels.argmax(dim=1)\n",
    "#       test_correct = pred[val_mask] == true[val_mask]  # Check against ground-truth labels.\n",
    "#       test_acc = int(np.array(test_correct).sum()) / int(np.array(val_mask).sum())  # Derive ratio of correct predictions.\n",
    "\n",
    "\n",
    "#       train_correct = pred[train_mask] == true[train_mask]  # Check against ground-truth labels.\n",
    "#       train_acc = int(np.array(train_correct).sum()) / int(np.array(train_mask).sum())  # Derive ratio of correct predictions.\n",
    "#       return test_acc, train_acc\n",
    "import tqdm.auto as tqdm\n",
    "train_loss = []\n",
    "test_loss = []\n",
    "test_aa = []\n",
    "train_aa = []\n",
    "for epoch in tqdm.tqdm(range(30000)):\n",
    "#     if epoch % 100 == 0:\n",
    "#       print(epoch)\n",
    "    loss, loss_test = train()\n",
    "    test_acc, train_acc = test()\n",
    "    train_loss.append(loss.item())\n",
    "    test_loss.append(loss_test.item())\n",
    "    test_aa.append(test_acc)\n",
    "    train_aa.append(train_acc)"
   ]
  },
  {
   "cell_type": "code",
   "execution_count": 14,
   "metadata": {},
   "outputs": [],
   "source": [
    "import matplotlib.pyplot as plt"
   ]
  },
  {
   "cell_type": "code",
   "execution_count": 15,
   "metadata": {},
   "outputs": [
    {
     "data": {
      "text/plain": [
       "<matplotlib.legend.Legend at 0x17c1a7d90>"
      ]
     },
     "execution_count": 15,
     "metadata": {},
     "output_type": "execute_result"
    },
    {
     "data": {
      "image/png": "[encoded data removed]",
      "text/plain": [
       "<Figure size 640x480 with 1 Axes>"
      ]
     },
     "metadata": {},
     "output_type": "display_data"
    }
   ],
   "source": [
    "plt.plot(train_loss)\n",
    "plt.plot(test_loss)\n",
    "plt.xlabel('epochs')\n",
    "plt.ylabel('losses')\n",
    "plt.legend(['train_loss', 'test_loss'])"
   ]
  },
  {
   "cell_type": "code",
   "execution_count": 16,
   "metadata": {},
   "outputs": [
    {
     "data": {
      "text/plain": [
       "[<matplotlib.lines.Line2D at 0x17c6bc940>]"
      ]
     },
     "execution_count": 16,
     "metadata": {},
     "output_type": "execute_result"
    },
    {
     "data": {
      "image/png": "[encoded data removed]",
      "text/plain": [
       "<Figure size 640x480 with 1 Axes>"
      ]
     },
     "metadata": {},
     "output_type": "display_data"
    }
   ],
   "source": [
    "plt.plot(range(len(train_aa)), np.array(train_aa))\n",
    "plt.plot(range(len(test_aa)), np.array(test_aa))"
   ]
  },
  {
   "cell_type": "code",
   "execution_count": 17,
   "metadata": {},
   "outputs": [
    {
     "data": {
      "text/plain": [
       "tensor([11, 73, 27,  ..., 25, 16, 95])"
      ]
     },
     "execution_count": 17,
     "metadata": {},
     "output_type": "execute_result"
    }
   ],
   "source": [
    "model(node_feats, adj_matrix).argmax(dim=1)"
   ]
  },
  {
   "cell_type": "code",
   "execution_count": 24,
   "metadata": {},
   "outputs": [
    {
     "data": {
      "text/plain": [
       "tensor([ 58,   0, 107,  77,   6,   4,   0,  49,  93,  26,   2,  13,   0,  73,\n",
       "         22,  26,  25,  10,  78,  81,   1,  90,  61,  45,  91,  62,  79,  13,\n",
       "         65,  88,   3,   0,  11,  43, 100,  88, 102,  96,  45,  96,  65,  47,\n",
       "         90,  68, 101,  62, 109,   0,  23,   0,  21,  55,  14,   0, 101,   0,\n",
       "          0,  25,   0,   2,  79,  26,  89,   3,  42,  33,   0, 112,  85,  65,\n",
       "         23,   0,  45,  13, 106,  78,   0,   0,  53,  81,  34,  75,  77,  91,\n",
       "         17,  82,  63,   0,  44,  30,  56, 108,  20,  55,  39,  42,  55,  85,\n",
       "         12,  83,  97,  45,  10,  50,  55,  96,   3,  27,  55,  53,  78,  76,\n",
       "         83,  95,  59,  75,   0,  77,   0,  43,  77,   0,  18,  16,  85,  68,\n",
       "          0,  35,  91,  28,  54, 100,  81,  77,  90,  76,  13,  49,  48,  21,\n",
       "         28,  95,  25,  75,   0,  96,  40,  85, 107,   0,  73,  62,  40,  83,\n",
       "         78,   9,  22,  21,  79, 108,  72,  68,  94,  76, 101,  67,  69,  26,\n",
       "         53,  56,   0,  30,  11,  27,   0,  99,  30, 109,  57,  99,  77,   0,\n",
       "         21,  68,  25,  95,   4,  66,   0,  35, 106,  48,  17, 111,  96,  66,\n",
       "          0,  99,  92,  29, 108,  95,  16,  12,  68, 104,  24,  61,  13,  98,\n",
       "        112,   0,  11,  91,   8,  34,  67,  78,   4,   9,  83,  76,   9,   5,\n",
       "          0,   0,  85,  92,  40,  74,   0,   0,  65,  25,  92,   0,  55,  49,\n",
       "          0,   0,  98,  69,  22,   0,  98,  37,  34, 102,  97,  77,   1, 109,\n",
       "         20, 102,  35, 102,  64,   0,  70,  87,  20,  60,   3,  17,  13,  38,\n",
       "          0,   0,  29,  27,  16,  81,  37,  85,  44,  25,  49,  36,  36,   0,\n",
       "          0,  77,   0,  78,  83,  52, 109,  33,  10,  30,  69, 109,  42,   0,\n",
       "         63, 107,   0,  11,  21,  59,  79,  35,  97,  10,  59,  61,   7, 107,\n",
       "          0,  90,   1,  39,  28, 100,   0,   0,  12,   0,  18,  84,  39, 101,\n",
       "         77, 104,   8,  96,   0,  92,  85,   0,  59,  92,  17,  46,  75,  26,\n",
       "        107,  81,  79,  34,  97,  25,  11,  42,  83, 108, 101,  15,  31,  12,\n",
       "         63,  21,  52,  85,  55,  34,  75,   0,  29,  58,  85,  97,  34,   0,\n",
       "         20,  61,  62,   3,  42,  64,  83,   8, 107,   0,  59,  34, 104,  24,\n",
       "        106, 112,   1,   0,   0,  91,  20,  22,  13,  47,   0,  52,  16,  71,\n",
       "         69,  58,  40,   0,   9, 107,  28,   0,  92,  35,  73,   0,  67,  25,\n",
       "          9,  36,   0,  44,  68,  48,   6,  22,  74,  17,  41, 102,   0,  83,\n",
       "          0,  63,   0,  92,  11, 104,  18,   8,   0,  12,  81,  26,  44, 100,\n",
       "         42,  27,   0,  83, 110,   8,  23,  63, 111,   0,  59,   1,  91,   0,\n",
       "          0,   0,   0,   0,  34, 111,  55,  83,  53,  39,  19,   0,   0, 105,\n",
       "         58,  12,  35,  31,  16,  17,  55,  14,   0,  93,  49,  48,  44,   0,\n",
       "          0,  12,  67,   6,   0,  47,  77,  25,   4,   0,  76,  69,  62,  36,\n",
       "          2,   0, 106,  10,   0,  94,  45,  72, 103,   0,  63,  72,  33,  79,\n",
       "         19,  35,  85,  34,   0,  31,  98,  44,  89,  37,  62,  77,  17,  20,\n",
       "         59, 108,  96, 101,  28,  94,   2,  79,  88,  14,  93, 100,  35,  51,\n",
       "          0,  91,  37,   0,  48,  40,   4,  78,  50,  81,  26, 111,  43,  18,\n",
       "         62,  98, 103,  42,   1,  18,   0,   0,  72, 106,  48,  91,  48,  48,\n",
       "         29,   0,  76,  59,   0,  32,  77, 109,  70,  65,  92,  17,  98,  73,\n",
       "         39,  17,  20,  46,   0,  74,   4,  71,   1,  36,   6, 107,  24,  84,\n",
       "         63,  97,  41,  90,  53,  30,  76,  16,  40,  47, 103,  95])"
      ]
     },
     "execution_count": 24,
     "metadata": {},
     "output_type": "execute_result"
    }
   ],
   "source": [
    "pred = model(node_feats, adj_matrix)\n",
    "pred[val_mask].argmax(dim=1)"
   ]
  },
  {
   "cell_type": "code",
   "execution_count": 35,
   "metadata": {},
   "outputs": [
    {
     "data": {
      "text/plain": [
       "(tensor([-111,   -8,   -6,   -5,   -4,   -3,   -2,   -1,    0,    1,    2,    3,\n",
       "            4,    5,    6,    7,  112]),\n",
       " tensor([   1,    1,    3,    3,    5,    9,   23,   33, 1237,   39,   22,   12,\n",
       "            7,    1,    2,    1,    1]))"
      ]
     },
     "execution_count": 35,
     "metadata": {},
     "output_type": "execute_result"
    }
   ],
   "source": [
    "(node_labels[train_mask] - pred[train_mask].argmax(dim=1)).unique(return_counts=True)"
   ]
  },
  {
   "cell_type": "code",
   "execution_count": 36,
   "metadata": {},
   "outputs": [
    {
     "data": {
      "text/plain": [
       "(tensor([-101, -100,  -82,  -70,  -65,  -60,  -44,  -37,  -30,  -25,  -24,  -16,\n",
       "          -15,  -12,  -11,  -10,   -9,   -8,   -7,   -6,   -5,   -4,   -3,   -2,\n",
       "           -1,    0,    1,    2,    3,    4,    5,    6,    7,    8,    9,   10,\n",
       "           11,   12,   13,   14,   15,   17,   18,   19,   20,   25,   26,   54,\n",
       "           88,   93,  103,  104,  106,  108,  109]),\n",
       " tensor([  1,   1,   1,   1,   1,   1,   1,   1,   1,   1,   2,   1,   1,   1,\n",
       "           1,   3,   3,   4,   8,   6,  15,  18,  35,  43,  56, 171,  60,  48,\n",
       "          21,  19,  24,   6,   5,   4,   4,   4,   3,   2,   2,   1,   2,   2,\n",
       "           1,   1,   2,   1,   1,   1,   1,   1,   1,   1,   2,   1,   1]))"
      ]
     },
     "execution_count": 36,
     "metadata": {},
     "output_type": "execute_result"
    }
   ],
   "source": [
    "(node_labels[val_mask] - pred[val_mask].argmax(dim=1)).unique(return_counts=True)"
   ]
  },
  {
   "cell_type": "code",
   "execution_count": null,
   "metadata": {},
   "outputs": [],
   "source": []
  }
 ],
 "metadata": {
  "accelerator": "GPU",
  "colab": {
   "machine_shape": "hm",
   "provenance": [
    {
     "file_id": "1v5QCnqja49BELCk3G9MaHHigVho3eEBB",
     "timestamp": 1667337481633
    }
   ]
  },
  "gpuClass": "standard",
  "kernelspec": {
   "display_name": "Python 3 (ipykernel)",
   "language": "python",
   "name": "python3"
  },
  "language_info": {
   "codemirror_mode": {
    "name": "ipython",
    "version": 3
   },
   "file_extension": ".py",
   "mimetype": "text/x-python",
   "name": "python",
   "nbconvert_exporter": "python",
   "pygments_lexer": "ipython3",
   "version": "3.10.9"
  }
 },
 "nbformat": 4,
 "nbformat_minor": 1
}
