{
 "cells": [
  {
   "cell_type": "code",
   "execution_count": 1,
   "id": "3479933e",
   "metadata": {},
   "outputs": [
    {
     "name": "stderr",
     "output_type": "stream",
     "text": [
      "/opt/homebrew/lib/python3.10/site-packages/tqdm/auto.py:22: TqdmWarning: IProgress not found. Please update jupyter and ipywidgets. See https://ipywidgets.readthedocs.io/en/stable/user_install.html\n",
      "  from .autonotebook import tqdm as notebook_tqdm\n"
     ]
    }
   ],
   "source": [
    "from einops import rearrange, repeat\n",
    "import torch\n",
    "from torch import nn\n",
    "\n",
    "class DecoderBlock(torch.nn.Module):\n",
    "  def __init__(self, dim_model=128, n_heads=4):\n",
    "    super().__init__()\n",
    "\n",
    "    self.self_attn = nn.MultiheadAttention(dim_model, n_heads)  # According to the paper.\n",
    "    \n",
    "    # In practice hidden layer size is 4 times size of input.\n",
    "    self.mlp = nn.Sequential(\n",
    "        nn.Linear(dim_model, dim_model * 4),\n",
    "        nn.ReLU(),\n",
    "        nn.Linear(dim_model * 4, dim_model)\n",
    "    ) \n",
    "    \n",
    "  def forward(self, x):\n",
    "    attn_mask = torch.full(\n",
    "        (len(x), len(x)), -float(\"Inf\"), device=x.device, dtype=x.dtype\n",
    "    )\n",
    "    attn_mask = torch.triu(attn_mask, diagonal=1)  # Autoregressive model, hence only look back.\n",
    "    \n",
    "    a1, _ = self.self_attn(x, x, x, attn_mask=attn_mask)  # We do not need attention weights.\n",
    "    a2 = self.mlp(x + a1)  # Add skip connection / residual connection.\n",
    "    return a2\n",
    "\n",
    "class BaseGNNLayer(nn.Module):\n",
    "    \n",
    "    def __init__(self, input_dim, output_dim):\n",
    "        super().__init__()\n",
    "        lim = 1  \n",
    "        self.w_self = nn.Parameter(torch.zeros([input_dim, output_dim]).to(torch.float64))\n",
    "        self.w_neigh = nn.Parameter(torch.zeros([input_dim, output_dim]).to(torch.float64))\n",
    "        nn.init.uniform_(tensor=self.w_self, a=-lim, b=lim)  \n",
    "        nn.init.uniform_(tensor=self.w_neigh, a=-lim, b=lim)\n",
    "\n",
    "    def forward(self, node_feats, adj_matrix):\n",
    "        node_feats_self = torch.mm(node_feats, self.w_self) \n",
    "        node_feats_neigh = torch.mm(torch.mm(adj_matrix, node_feats), self.w_neigh)\n",
    "\n",
    "#         next_node_feats = node_feats_neigh\n",
    "        next_node_feats = node_feats_self + \\\n",
    "                          node_feats_neigh \n",
    "        return next_node_feats\n",
    "\n",
    "class Transformer(torch.nn.Module):\n",
    "  def __init__(self, num_layers=1, dim_model=128, num_heads=4, num_tokens=114, seq_len=3):\n",
    "    super().__init__()\n",
    "\n",
    "    self.token_embeddings = nn.Embedding(num_tokens, dim_model)  # We have p+1 input tokens: 0,1,...,113.\n",
    "    self.position_embeddings = nn.Embedding(seq_len, dim_model)  # We length 3 sequences, e.g. (10, 25, 113)\n",
    "    self.decoder = DecoderBlock(dim_model, num_heads)\n",
    "    self.gnn = BaseGNNLayer(dim_model, dim_model)\n",
    "    self.linear = nn.Linear(dim_model, num_tokens - 1).to(torch.float64)\n",
    "\n",
    "\n",
    "  def forward(self, inputs):\n",
    "    token_embedding = self.token_embeddings(inputs)\n",
    "    \n",
    "    positions = repeat(torch.arange(inputs.shape[1]), \"p -> b p\", b = inputs.shape[0])\n",
    "    position_embedding = self.position_embeddings(positions)\n",
    "    \n",
    "    embedding = token_embedding + position_embedding\n",
    "\n",
    "    embedding = rearrange(embedding, 'b s d -> s b d')\n",
    "    \n",
    "    \n",
    "    \n",
    "    x = self.decoder(embedding).to(torch.float64)\n",
    "    \n",
    "    \n",
    "    x = x[-1,:,:]\n",
    "    \n",
    "    x = self.gnn(x, adj_matrix).to(torch.float64)\n",
    "    \n",
    "    \n",
    "    x = self.linear(x).to(torch.float64)\n",
    "    \n",
    "    \n",
    "    return x"
   ]
  },
  {
   "cell_type": "code",
   "execution_count": 23,
   "id": "cc51c103",
   "metadata": {},
   "outputs": [],
   "source": [
    "def act_fn(x):\n",
    "    return torch.relu(x)\n",
    "\n",
    "n = 2000\n",
    "p = 0.001\n",
    "prime = 113\n",
    "threshold = 0.7\n",
    "no_digits = 4\n",
    "\n",
    "# Params for GNN\n",
    "input_dim = 1\n",
    "hidden_dim = 512\n",
    "output_dim = 1\n",
    "\n",
    "# Params for optimizer\n",
    "weight_decay = 5\n",
    "lr = 1e-3\n",
    "betas = (0.9, 0.98)\n",
    "\n",
    "modulo = (prime * torch.ones(n,1))\n",
    "nums = torch.randint(0, 113, size=(n,1))\n",
    "\n",
    "\n",
    "node_feats = torch.cat([modulo, nums], dim=1).to(torch.int64)\n",
    "\n",
    "import networkx as nx\n",
    "graph = nx.random_regular_graph(2, n)\n",
    "adj_matrix = torch.Tensor(nx.adjacency_matrix(graph).todense()).to(torch.float64)\n",
    "\n",
    "# half_matrix = torch.bernoulli(p * (torch.triu(torch.ones(n, n)) -\n",
    "#                                               torch.eye(n)))\n",
    "# adj_matrix = (half_matrix + half_matrix.T).to(torch.float64)\n",
    "\n",
    "node_labels = torch.Tensor([])\n",
    "for i in range(n):\n",
    "    total = torch.Tensor([0])\n",
    "    for j in range(n):\n",
    "        if adj_matrix[i][j] == 1:\n",
    "            total += node_feats[j][1]\n",
    "    node_labels = torch.cat([node_labels, total.reshape(-1, 1) % prime], dim=0)\n",
    "node_labels = node_labels.reshape(-1)\n",
    "node_labels = node_labels.to(torch.int64)"
   ]
  },
  {
   "cell_type": "code",
   "execution_count": 24,
   "id": "003fc37e",
   "metadata": {},
   "outputs": [],
   "source": [
    "model = Transformer()"
   ]
  },
  {
   "cell_type": "code",
   "execution_count": 25,
   "id": "b9fd688b",
   "metadata": {},
   "outputs": [],
   "source": [
    "for name, param in model.named_parameters():\n",
    "    if \"b_\" in name:\n",
    "        param.requires_grad = False"
   ]
  },
  {
   "cell_type": "code",
   "execution_count": 26,
   "id": "b76df551",
   "metadata": {},
   "outputs": [
    {
     "data": {
      "text/plain": [
       "torch.Size([2000, 113])"
      ]
     },
     "execution_count": 26,
     "metadata": {},
     "output_type": "execute_result"
    }
   ],
   "source": [
    "model(node_feats).shape"
   ]
  },
  {
   "cell_type": "code",
   "execution_count": 39,
   "id": "29eb9db3",
   "metadata": {},
   "outputs": [],
   "source": [
    "p = 113\n",
    "\n",
    "# Optimizer config\n",
    "lr = 1e-3\n",
    "wd = 20\n",
    "betas = (0.9, 0.98)\n",
    "\n",
    "num_epochs = 50000\n",
    "checkpoint_every = 100\n",
    "\n",
    "DATA_SEED = 598"
   ]
  },
  {
   "cell_type": "code",
   "execution_count": 40,
   "id": "270a8064",
   "metadata": {},
   "outputs": [],
   "source": [
    "optimizer = torch.optim.AdamW(model.parameters(), lr=lr, weight_decay=wd, betas=betas)"
   ]
  },
  {
   "cell_type": "code",
   "execution_count": 41,
   "id": "34ddddc9",
   "metadata": {},
   "outputs": [],
   "source": [
    "import random\n",
    "poss = [i for i in range(n)]\n",
    "idx = random.sample(poss, int(threshold * len(poss)))\n",
    "train_mask = [True if i in idx else False for i in range(n)]\n",
    "val_mask = [False if train_mask[i] else True for i in range(n)]"
   ]
  },
  {
   "cell_type": "code",
   "execution_count": 42,
   "id": "51200e2a",
   "metadata": {},
   "outputs": [
    {
     "name": "stderr",
     "output_type": "stream",
     "text": [
      "  0%|▏                                         | 5/1000 [00:00<00:46, 21.23it/s]"
     ]
    },
    {
     "name": "stdout",
     "output_type": "stream",
     "text": [
      "0\n",
      "tensor(8.7892, dtype=torch.float64, grad_fn=<NllLossBackward0>)\n",
      "tensor(8.6660, dtype=torch.float64, grad_fn=<NllLossBackward0>)\n"
     ]
    },
    {
     "name": "stderr",
     "output_type": "stream",
     "text": [
      " 10%|████▏                                   | 104/1000 [00:04<00:34, 25.97it/s]"
     ]
    },
    {
     "name": "stdout",
     "output_type": "stream",
     "text": [
      "100\n",
      "tensor(4.6894, dtype=torch.float64, grad_fn=<NllLossBackward0>)\n",
      "tensor(4.7401, dtype=torch.float64, grad_fn=<NllLossBackward0>)\n"
     ]
    },
    {
     "name": "stderr",
     "output_type": "stream",
     "text": [
      " 20%|████████                                | 203/1000 [00:07<00:31, 25.63it/s]"
     ]
    },
    {
     "name": "stdout",
     "output_type": "stream",
     "text": [
      "200\n",
      "tensor(4.6616, dtype=torch.float64, grad_fn=<NllLossBackward0>)\n",
      "tensor(4.7614, dtype=torch.float64, grad_fn=<NllLossBackward0>)\n"
     ]
    },
    {
     "name": "stderr",
     "output_type": "stream",
     "text": [
      " 30%|████████████▏                           | 305/1000 [00:11<00:27, 25.59it/s]"
     ]
    },
    {
     "name": "stdout",
     "output_type": "stream",
     "text": [
      "300\n",
      "tensor(4.5095, dtype=torch.float64, grad_fn=<NllLossBackward0>)\n",
      "tensor(4.9265, dtype=torch.float64, grad_fn=<NllLossBackward0>)\n"
     ]
    },
    {
     "name": "stderr",
     "output_type": "stream",
     "text": [
      " 40%|████████████████▏                       | 404/1000 [00:15<00:23, 25.57it/s]"
     ]
    },
    {
     "name": "stdout",
     "output_type": "stream",
     "text": [
      "400\n",
      "tensor(4.4368, dtype=torch.float64, grad_fn=<NllLossBackward0>)\n",
      "tensor(5.0873, dtype=torch.float64, grad_fn=<NllLossBackward0>)\n"
     ]
    },
    {
     "name": "stderr",
     "output_type": "stream",
     "text": [
      " 50%|████████████████████                    | 503/1000 [00:19<00:19, 25.76it/s]"
     ]
    },
    {
     "name": "stdout",
     "output_type": "stream",
     "text": [
      "500\n",
      "tensor(4.2715, dtype=torch.float64, grad_fn=<NllLossBackward0>)\n",
      "tensor(5.3380, dtype=torch.float64, grad_fn=<NllLossBackward0>)\n"
     ]
    },
    {
     "name": "stderr",
     "output_type": "stream",
     "text": [
      " 60%|████████████████████████▏               | 605/1000 [00:23<00:15, 25.65it/s]"
     ]
    },
    {
     "name": "stdout",
     "output_type": "stream",
     "text": [
      "600\n",
      "tensor(4.2654, dtype=torch.float64, grad_fn=<NllLossBackward0>)\n",
      "tensor(5.3786, dtype=torch.float64, grad_fn=<NllLossBackward0>)\n"
     ]
    },
    {
     "name": "stderr",
     "output_type": "stream",
     "text": [
      " 70%|████████████████████████████▏           | 704/1000 [00:27<00:12, 24.20it/s]"
     ]
    },
    {
     "name": "stdout",
     "output_type": "stream",
     "text": [
      "700\n",
      "tensor(4.2647, dtype=torch.float64, grad_fn=<NllLossBackward0>)\n",
      "tensor(5.3937, dtype=torch.float64, grad_fn=<NllLossBackward0>)\n"
     ]
    },
    {
     "name": "stderr",
     "output_type": "stream",
     "text": [
      " 80%|████████████████████████████████        | 803/1000 [00:31<00:07, 25.19it/s]"
     ]
    },
    {
     "name": "stdout",
     "output_type": "stream",
     "text": [
      "800\n",
      "tensor(4.2640, dtype=torch.float64, grad_fn=<NllLossBackward0>)\n",
      "tensor(5.4009, dtype=torch.float64, grad_fn=<NllLossBackward0>)\n"
     ]
    },
    {
     "name": "stderr",
     "output_type": "stream",
     "text": [
      " 90%|████████████████████████████████████    | 903/1000 [00:36<00:03, 24.74it/s]"
     ]
    },
    {
     "name": "stdout",
     "output_type": "stream",
     "text": [
      "900\n",
      "tensor(4.2636, dtype=torch.float64, grad_fn=<NllLossBackward0>)\n",
      "tensor(5.4080, dtype=torch.float64, grad_fn=<NllLossBackward0>)\n"
     ]
    },
    {
     "name": "stderr",
     "output_type": "stream",
     "text": [
      "100%|███████████████████████████████████████| 1000/1000 [00:39<00:00, 25.06it/s]\n"
     ]
    }
   ],
   "source": [
    "from sklearn.metrics import accuracy_score\n",
    "model = Transformer()\n",
    "optimizer = torch.optim.AdamW(model.parameters(), lr=lr, weight_decay=wd, betas=betas)\n",
    "\n",
    "criterion = nn.CrossEntropyLoss()\n",
    "\n",
    "def train():\n",
    "      model.train()\n",
    "      optimizer.zero_grad()  # Clear gradients.\n",
    "      out = model(node_feats)  # Perform a single forward pass.\n",
    "      out = out.to(torch.float64)\n",
    "\n",
    "      loss = criterion(out[train_mask], node_labels[train_mask])  # Compute the loss solely based on the training nodes.\n",
    "      loss_test = criterion(out[val_mask], node_labels[val_mask])\n",
    "      loss.backward()  # Derive gradients.\n",
    "      optimizer.step()  # Update parameters based on gradients.\n",
    "      return loss, loss_test\n",
    "\n",
    "def test():\n",
    "      model.eval()\n",
    "      pred = model(node_feats)\n",
    "      pred = pred.argmax(dim=1)  # Use the class with highest probability.\n",
    "      #true = node_labels.argmax(dim=1)\n",
    "    \n",
    "#       test_acc = torch.sqrt(torch.mean((pred[val_mask] - node_labels[val_mask]) ** 2))\n",
    "#       train_acc = torch.sqrt(torch.mean((pred[train_mask] - node_labels[train_mask]) ** 2))\n",
    "\n",
    "    \n",
    "#       return test_acc.item(), train_acc.item()\n",
    "      return (accuracy_score(node_labels[val_mask], pred[val_mask]),\n",
    "            accuracy_score(node_labels[train_mask], pred[train_mask]))\n",
    "\n",
    "# def train():\n",
    "#       model.train()\n",
    "#       optimizer.zero_grad()  # Clear gradients.\n",
    "#       out = model(node_feats, adj_matrix)  # Perform a single forward pass.\n",
    "#       loss = criterion(out[train_mask], node_labels[train_mask])  # Compute the loss solely based on the training nodes.\n",
    "#       loss_test = criterion(out[val_mask], node_labels[val_mask])\n",
    "#       loss.backward()  # Derive gradients.\n",
    "#       optimizer.step()  # Update parameters based on gradients.\n",
    "#       return loss, loss_test\n",
    "\n",
    "# def test():\n",
    "#       model.eval()\n",
    "#       out = model(node_feats, adj_matrix)\n",
    "#       pred = out.argmax(dim=1)  # Use the class with highest probability.\n",
    "#       true = node_labels.argmax(dim=1)\n",
    "#       test_correct = pred[val_mask] == true[val_mask]  # Check against ground-truth labels.\n",
    "#       test_acc = int(np.array(test_correct).sum()) / int(np.array(val_mask).sum())  # Derive ratio of correct predictions.\n",
    "\n",
    "\n",
    "#       train_correct = pred[train_mask] == true[train_mask]  # Check against ground-truth labels.\n",
    "#       train_acc = int(np.array(train_correct).sum()) / int(np.array(train_mask).sum())  # Derive ratio of correct predictions.\n",
    "#       return test_acc, train_acc\n",
    "import tqdm.auto as tqdm\n",
    "train_loss = []\n",
    "test_loss = []\n",
    "test_aa = []\n",
    "train_aa = []\n",
    "for epoch in tqdm.tqdm(range(1000)):\n",
    "#     if epoch % 100 == 0:\n",
    "#       print(epoch)\n",
    "    loss, loss_test = train()\n",
    "    if epoch % 100 == 0:\n",
    "        print(epoch)\n",
    "        print(loss)\n",
    "        print(loss_test)\n",
    "    test_acc, train_acc = test()\n",
    "    train_loss.append(loss.item())\n",
    "    test_loss.append(loss_test.item())\n",
    "    test_aa.append(test_acc)\n",
    "    train_aa.append(train_acc)"
   ]
  },
  {
   "cell_type": "code",
   "execution_count": 43,
   "id": "d892fbf4",
   "metadata": {},
   "outputs": [
    {
     "data": {
      "text/plain": [
       "<matplotlib.legend.Legend at 0x2930c24d0>"
      ]
     },
     "execution_count": 43,
     "metadata": {},
     "output_type": "execute_result"
    },
    {
     "data": {
      "image/png": "[encoded data removed]",
      "text/plain": [
       "<Figure size 640x480 with 1 Axes>"
      ]
     },
     "metadata": {},
     "output_type": "display_data"
    }
   ],
   "source": [
    "import matplotlib.pyplot as plt\n",
    "plt.plot(train_loss)\n",
    "plt.plot(test_loss)\n",
    "plt.xlabel('epochs')\n",
    "plt.ylabel('losses')\n",
    "plt.legend(['train_loss', 'test_loss'])"
   ]
  },
  {
   "cell_type": "code",
   "execution_count": 44,
   "id": "3c155bf8",
   "metadata": {},
   "outputs": [
    {
     "data": {
      "text/plain": [
       "[<matplotlib.lines.Line2D at 0x1769cc1f0>]"
      ]
     },
     "execution_count": 44,
     "metadata": {},
     "output_type": "execute_result"
    },
    {
     "data": {
      "image/png": "[encoded data removed]",
      "text/plain": [
       "<Figure size 640x480 with 1 Axes>"
      ]
     },
     "metadata": {},
     "output_type": "display_data"
    }
   ],
   "source": [
    "import numpy as np\n",
    "plt.plot(range(len(train_aa)), np.array(train_aa))\n",
    "plt.plot(range(len(test_aa)), np.array(test_aa))"
   ]
  },
  {
   "cell_type": "code",
   "execution_count": 22,
   "id": "60b2389d",
   "metadata": {},
   "outputs": [
    {
     "data": {
      "text/plain": [
       "1.0"
      ]
     },
     "execution_count": 22,
     "metadata": {},
     "output_type": "execute_result"
    }
   ],
   "source": [
    "from sklearn.metrics import accuracy_score\n",
    "accuracy_score(model(node_feats)[train_mask].argmax(dim=1).detach(), node_labels[train_mask].detach())"
   ]
  },
  {
   "cell_type": "code",
   "execution_count": null,
   "id": "d31757e2",
   "metadata": {},
   "outputs": [],
   "source": []
  }
 ],
 "metadata": {
  "kernelspec": {
   "display_name": "Python 3 (ipykernel)",
   "language": "python",
   "name": "python3"
  },
  "language_info": {
   "codemirror_mode": {
    "name": "ipython",
    "version": 3
   },
   "file_extension": ".py",
   "mimetype": "text/x-python",
   "name": "python",
   "nbconvert_exporter": "python",
   "pygments_lexer": "ipython3",
   "version": "3.10.9"
  }
 },
 "nbformat": 4,
 "nbformat_minor": 5
}
