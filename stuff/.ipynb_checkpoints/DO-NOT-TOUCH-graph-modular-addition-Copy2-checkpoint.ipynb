{
 "cells": [
  {
   "cell_type": "code",
   "execution_count": 17,
   "metadata": {
    "colab": {
     "base_uri": "https://localhost:8080/"
    },
    "executionInfo": {
     "elapsed": 1960,
     "status": "ok",
     "timestamp": 1674661150486,
     "user": {
      "displayName": "scott huang",
      "userId": "06489357941762676089"
     },
     "user_tz": 0
    },
    "id": "muJ-TbV6muhI",
    "outputId": "545dfae4-0ced-4165-920b-75f17a0cee29"
   },
   "outputs": [],
   "source": [
    "import torch\n",
    "import torch.nn as nn\n",
    "import numpy as np\n",
    "from numpy import inf\n",
    "\n",
    "device = torch.device(\"cuda\") if torch.cuda.is_available() else torch.device(\"cpu\");\n",
    "torch.manual_seed(0);"
   ]
  },
  {
   "cell_type": "code",
   "execution_count": 18,
   "metadata": {
    "id": "TU3I3uOMNlIe"
   },
   "outputs": [],
   "source": [
    "class BaseGNNLayer(nn.Module):\n",
    "    \n",
    "    def __init__(self, input_dim, output_dim):\n",
    "        super().__init__()\n",
    "        lim = 1  \n",
    "        self.w_self = nn.Parameter(torch.zeros([input_dim, output_dim]).to(torch.float64))\n",
    "        self.w_neigh = nn.Parameter(torch.zeros([input_dim, output_dim]).to(torch.float64))\n",
    "        nn.init.uniform_(tensor=self.w_self, a=-lim, b=lim)  \n",
    "        nn.init.uniform_(tensor=self.w_neigh, a=-lim, b=lim)\n",
    "\n",
    "    def forward(self, node_feats, adj_matrix):\n",
    "        node_feats_self = torch.mm(node_feats, self.w_self) \n",
    "        node_feats_neigh = torch.mm(torch.mm(adj_matrix, node_feats), self.w_neigh)\n",
    "\n",
    "#         next_node_feats = node_feats_neigh\n",
    "        next_node_feats = node_feats_self + \\\n",
    "                          node_feats_neigh \n",
    "        return next_node_feats"
   ]
  },
  {
   "cell_type": "code",
   "execution_count": 3,
   "metadata": {},
   "outputs": [],
   "source": [
    "# class BaseGNNLayer(nn.Module):\n",
    "    \n",
    "#     def __init__(self, input_dim, output_dim):\n",
    "#         super().__init__()\n",
    "#         lim = 1  \n",
    "#         self.w_neigh = torch.ones(input_dim, output_dim).to(torch.float64)\n",
    "\n",
    "#     def forward(self, node_feats, adj_matrix):\n",
    "#         #node_feats_self = torch.mm(node_feats, self.w_self) \n",
    "#         node_feats_neigh = torch.mm(torch.mm(adj_matrix, node_feats), self.w_neigh)\n",
    "\n",
    "#         next_node_feats = node_feats_neigh\n",
    "# #         next_node_feats = node_feats_self + \\\n",
    "# #                           node_feats_neigh \n",
    "#         return next_node_feats"
   ]
  },
  {
   "cell_type": "code",
   "execution_count": 4,
   "metadata": {
    "id": "Ims55n-hFhrt"
   },
   "outputs": [],
   "source": [
    "def act_fn(x):\n",
    "    return torch.relu(x)"
   ]
  },
  {
   "cell_type": "code",
   "execution_count": 19,
   "metadata": {
    "id": "TEnA7gA9pYU3"
   },
   "outputs": [],
   "source": [
    "class BaseGNNModule(nn.Module):\n",
    "\n",
    "    def __init__(self, input_dim=2, hidden_dim=512, output_dim=1, act_fn=act_fn):\n",
    "        super().__init__()\n",
    "        self.layers = nn.ModuleList([BaseGNNLayer(input_dim, hidden_dim)])\n",
    "        self.layers = self.layers.append(nn.Linear(hidden_dim, output_dim).to(torch.float64))\n",
    "        self.act_fn = act_fn\n",
    "\n",
    "    def forward(self, x, adj_matrix):\n",
    "        x = x.to(torch.float64)\n",
    "        adj_matrix = adj_matrix.to(torch.float64)\n",
    "        x = self.act_fn(self.layers[0](x, adj_matrix))\n",
    "        x = self.layers[1](x)\n",
    "        return x"
   ]
  },
  {
   "cell_type": "code",
   "execution_count": 23,
   "metadata": {},
   "outputs": [
    {
     "name": "stdout",
     "output_type": "stream",
     "text": [
      "torch.Size([2000, 2])\n",
      "torch.Size([2000, 2000])\n",
      "torch.Size([2000])\n"
     ]
    }
   ],
   "source": [
    "# Params for dataset\n",
    "n = 2000\n",
    "p = 0.001\n",
    "prime = 113\n",
    "threshold = 0.7\n",
    "no_digits = 4\n",
    "\n",
    "# Params for GNN\n",
    "input_dim = 1\n",
    "hidden_dim = 512\n",
    "output_dim = 1\n",
    "\n",
    "# Params for optimizer\n",
    "weight_decay = 1\n",
    "lr = 1e-3\n",
    "betas = (0.9, 0.98)\n",
    "\n",
    "\n",
    "# node_feats = torch.randint(low=10**no_digits, high=10**(no_digits+1), \n",
    "#                            size=(n,1)).to(torch.float64)\n",
    "\n",
    "# node_feats = torch.randint(low=10**no_digits, high=10**(no_digits+1), \n",
    "#                            size=(n,1)).to(torch.float64)\n",
    "\n",
    "modulo = (prime * torch.ones(n,1))\n",
    "nums = torch.randint(0, 113, size=(n,1))\n",
    "node_feats = torch.cat([modulo, nums], dim=1).to(torch.float64)\n",
    "\n",
    "import networkx as nx\n",
    "graph = nx.random_regular_graph(2, n)\n",
    "adj_matrix = torch.Tensor(nx.adjacency_matrix(graph).todense()).to(torch.float64)\n",
    "\n",
    "node_labels = torch.Tensor([])\n",
    "for i in range(n):\n",
    "    total = torch.Tensor([0])\n",
    "    for j in range(n):\n",
    "        if adj_matrix[i][j] == 1:\n",
    "            total += node_feats[j][1]\n",
    "    node_labels = torch.cat([node_labels, total.reshape(-1, 1) % prime], dim=0)\n",
    "node_labels = node_labels.reshape(-1)\n",
    "node_labels = node_labels.to(torch.float64)\n",
    "\n",
    "\n",
    "# node_labels = torch.Tensor([])\n",
    "# for i in range(n):\n",
    "#     total = 0\n",
    "#     for j in range(n):\n",
    "#         if adj_matrix[i][j] == 1:\n",
    "#             total += node_feats[j]\n",
    "#     node_labels = torch.cat([node_labels, total % 13], dim=0)\n",
    "# node_labels = node_labels.reshape(-1, 1).to(torch.float64)\n",
    "\n",
    "# node_labels = torch.Tensor([])\n",
    "# for i in range(n):\n",
    "#     total = 0\n",
    "#     for j in range(n):\n",
    "#         if adj_matrix[i][j] == 1:\n",
    "#             total += node_feats[j]\n",
    "#     node_labels = torch.cat([node_labels, total], dim=0)\n",
    "# node_labels = node_labels.reshape(-1, 1).to(torch.float64)\n",
    "\n",
    "\n",
    "print(node_feats.shape)\n",
    "print(adj_matrix.shape)\n",
    "print(node_labels.shape)"
   ]
  },
  {
   "cell_type": "code",
   "execution_count": 24,
   "metadata": {},
   "outputs": [],
   "source": [
    "import random\n",
    "poss = [i for i in range(n)]\n",
    "idx = random.sample(poss, int(threshold * len(poss)))\n",
    "train_mask = [True if i in idx else False for i in range(n)]\n",
    "val_mask = [False if train_mask[i] else True for i in range(n)]"
   ]
  },
  {
   "cell_type": "code",
   "execution_count": 25,
   "metadata": {},
   "outputs": [
    {
     "data": {
      "text/plain": [
       "tensor([2., 2., 2.,  ..., 2., 2., 2.], dtype=torch.float64)"
      ]
     },
     "execution_count": 25,
     "metadata": {},
     "output_type": "execute_result"
    }
   ],
   "source": [
    "adj_matrix.sum(dim=0)"
   ]
  },
  {
   "cell_type": "code",
   "execution_count": 295,
   "metadata": {},
   "outputs": [],
   "source": [
    "# threshold = 0.3\n",
    "# val_mask = []\n",
    "# for i in range(1, len(adj_matrix) + 1):\n",
    "#   if i > threshold * len(adj_matrix):\n",
    "#     val_mask.append(True)\n",
    "#   else:\n",
    "#     val_mask.append(False)\n",
    "\n",
    "# train_mask = []\n",
    "# for i in range(1, len(adj_matrix) + 1):\n",
    "#   if i <= threshold * len(adj_matrix):\n",
    "#     train_mask.append(True)\n",
    "#   else:\n",
    "#     train_mask.append(False)"
   ]
  },
  {
   "cell_type": "code",
   "execution_count": 242,
   "metadata": {},
   "outputs": [],
   "source": [
    "# def loss_fn(logits, labels):\n",
    "#     labels = labels.reshape(-1)\n",
    "#     logits = logits.to(torch.float64)\n",
    "#     log_probs = logits.log_softmax(dim=-1)\n",
    "#     correct_log_probs = log_probs.gather(dim=-1, index=labels[:, None])[:, 0]\n",
    "#     return -correct_log_probs.mean()\n",
    "# train_logits = model(node_feats, adj_matrix)\n",
    "# train_loss = loss_fn(train_logits[train_mask], node_labels[train_mask])\n",
    "# print(train_loss)\n",
    "# test_logits = model(node_feats, adj_matrix)\n",
    "# test_loss = loss_fn(test_logits, node_labels[val_mask])\n",
    "# print(test_loss)"
   ]
  },
  {
   "cell_type": "code",
   "execution_count": 28,
   "metadata": {},
   "outputs": [
    {
     "name": "stderr",
     "output_type": "stream",
     "text": [
      "100%|███████████████████████████████████████| 1000/1000 [00:12<00:00, 77.12it/s]\n"
     ]
    }
   ],
   "source": [
    "from sklearn.metrics import mean_squared_error as mse\n",
    "model = BaseGNNModule()\n",
    "optimizer = torch.optim.AdamW(model.parameters(), lr=lr, weight_decay=weight_decay, betas=betas)\n",
    "\n",
    "criterion = nn.MSELoss()\n",
    "\n",
    "def train():\n",
    "      model.train()\n",
    "      optimizer.zero_grad()  # Clear gradients.\n",
    "      out = model(node_feats, adj_matrix)  # Perform a single forward pass.\n",
    "      out = out.reshape(-1)\n",
    "        \n",
    "      loss = criterion(out[train_mask], node_labels[train_mask])  # Compute the loss solely based on the training nodes.\n",
    "      loss_test = criterion(out[val_mask], node_labels[val_mask])\n",
    "      loss.backward()  # Derive gradients.\n",
    "      optimizer.step()  # Update parameters based on gradients.\n",
    "      return loss, loss_test\n",
    "\n",
    "def test():\n",
    "      model.eval()\n",
    "      pred = model(node_feats, adj_matrix)\n",
    "      pred = pred.reshape(-1)\n",
    "\n",
    "      return (mse(node_labels[val_mask].detach(), pred[val_mask].detach()),\n",
    "            mse(node_labels[train_mask].detach(), pred[train_mask].detach()))\n",
    "\n",
    "# def train():\n",
    "#       model.train()\n",
    "#       optimizer.zero_grad()  # Clear gradients.\n",
    "#       out = model(node_feats, adj_matrix)  # Perform a single forward pass.\n",
    "#       loss = criterion(out[train_mask], node_labels[train_mask])  # Compute the loss solely based on the training nodes.\n",
    "#       loss_test = criterion(out[val_mask], node_labels[val_mask])\n",
    "#       loss.backward()  # Derive gradients.\n",
    "#       optimizer.step()  # Update parameters based on gradients.\n",
    "#       return loss, loss_test\n",
    "\n",
    "# def test():\n",
    "#       model.eval()\n",
    "#       out = model(node_feats, adj_matrix)\n",
    "#       pred = out.argmax(dim=1)  # Use the class with highest probability.\n",
    "#       true = node_labels.argmax(dim=1)\n",
    "#       test_correct = pred[val_mask] == true[val_mask]  # Check against ground-truth labels.\n",
    "#       test_acc = int(np.array(test_correct).sum()) / int(np.array(val_mask).sum())  # Derive ratio of correct predictions.\n",
    "\n",
    "\n",
    "#       train_correct = pred[train_mask] == true[train_mask]  # Check against ground-truth labels.\n",
    "#       train_acc = int(np.array(train_correct).sum()) / int(np.array(train_mask).sum())  # Derive ratio of correct predictions.\n",
    "#       return test_acc, train_acc\n",
    "import tqdm.auto as tqdm\n",
    "train_loss = []\n",
    "test_loss = []\n",
    "test_aa = []\n",
    "train_aa = []\n",
    "for epoch in tqdm.tqdm(range(1000)):\n",
    "#     if epoch % 100 == 0:\n",
    "#       print(epoch)\n",
    "    loss, loss_test = train()\n",
    "    test_acc, train_acc = test()\n",
    "    train_loss.append(loss.item())\n",
    "    test_loss.append(loss_test.item())\n",
    "    test_aa.append(test_acc)\n",
    "    train_aa.append(train_acc)"
   ]
  },
  {
   "cell_type": "code",
   "execution_count": 29,
   "metadata": {},
   "outputs": [],
   "source": [
    "import matplotlib.pyplot as plt"
   ]
  },
  {
   "cell_type": "code",
   "execution_count": 30,
   "metadata": {},
   "outputs": [
    {
     "data": {
      "text/plain": [
       "<matplotlib.legend.Legend at 0x29596ffa0>"
      ]
     },
     "execution_count": 30,
     "metadata": {},
     "output_type": "execute_result"
    },
    {
     "data": {
      "image/png": "[encoded data removed]",
      "text/plain": [
       "<Figure size 640x480 with 1 Axes>"
      ]
     },
     "metadata": {},
     "output_type": "display_data"
    }
   ],
   "source": [
    "plt.plot(train_loss)\n",
    "plt.plot(test_loss)\n",
    "plt.xlabel('epochs')\n",
    "plt.ylabel('losses')\n",
    "plt.legend(['train_loss', 'test_loss'])"
   ]
  },
  {
   "cell_type": "code",
   "execution_count": 31,
   "metadata": {},
   "outputs": [
    {
     "data": {
      "text/plain": [
       "[<matplotlib.lines.Line2D at 0x295bbd900>]"
      ]
     },
     "execution_count": 31,
     "metadata": {},
     "output_type": "execute_result"
    },
    {
     "data": {
      "image/png": "[encoded data removed]",
      "text/plain": [
       "<Figure size 640x480 with 1 Axes>"
      ]
     },
     "metadata": {},
     "output_type": "display_data"
    }
   ],
   "source": [
    "plt.plot(range(len(train_aa)), np.array(train_aa))\n",
    "plt.plot(range(len(test_aa)), np.array(test_aa))"
   ]
  },
  {
   "cell_type": "code",
   "execution_count": 33,
   "metadata": {},
   "outputs": [
    {
     "data": {
      "text/plain": [
       "tensor([[74.9162],\n",
       "        [57.6543],\n",
       "        [78.0656],\n",
       "        ...,\n",
       "        [16.2492],\n",
       "        [94.1221],\n",
       "        [98.1967]], dtype=torch.float64, grad_fn=<AddmmBackward0>)"
      ]
     },
     "execution_count": 33,
     "metadata": {},
     "output_type": "execute_result"
    }
   ],
   "source": [
    "pred = model(node_feats, adj_matrix)\n",
    "pred"
   ]
  },
  {
   "cell_type": "code",
   "execution_count": 34,
   "metadata": {},
   "outputs": [
    {
     "data": {
      "text/plain": [
       "tensor([ 73.,  56.,  77.,  ...,  12.,  96., 103.], dtype=torch.float64)"
      ]
     },
     "execution_count": 34,
     "metadata": {},
     "output_type": "execute_result"
    }
   ],
   "source": [
    "node_labels"
   ]
  },
  {
   "cell_type": "code",
   "execution_count": 35,
   "metadata": {},
   "outputs": [
    {
     "data": {
      "text/plain": [
       "tensor([[  1.9162,  18.9162,  -2.0838,  ...,  62.9162, -21.0838, -28.0838],\n",
       "        [-15.3457,   1.6543, -19.3457,  ...,  45.6543, -38.3457, -45.3457],\n",
       "        [  5.0656,  22.0656,   1.0656,  ...,  66.0656, -17.9344, -24.9344],\n",
       "        ...,\n",
       "        [-56.7508, -39.7508, -60.7508,  ...,   4.2492, -79.7508, -86.7508],\n",
       "        [ 21.1221,  38.1221,  17.1221,  ...,  82.1221,  -1.8779,  -8.8779],\n",
       "        [ 25.1967,  42.1967,  21.1967,  ...,  86.1967,   2.1967,  -4.8033]],\n",
       "       dtype=torch.float64, grad_fn=<SubBackward0>)"
      ]
     },
     "execution_count": 35,
     "metadata": {},
     "output_type": "execute_result"
    }
   ],
   "source": [
    "pred - node_labels"
   ]
  },
  {
   "cell_type": "code",
   "execution_count": null,
   "metadata": {},
   "outputs": [],
   "source": []
  }
 ],
 "metadata": {
  "accelerator": "GPU",
  "colab": {
   "machine_shape": "hm",
   "provenance": [
    {
     "file_id": "1v5QCnqja49BELCk3G9MaHHigVho3eEBB",
     "timestamp": 1667337481633
    }
   ]
  },
  "gpuClass": "standard",
  "kernelspec": {
   "display_name": "Python 3 (ipykernel)",
   "language": "python",
   "name": "python3"
  },
  "language_info": {
   "codemirror_mode": {
    "name": "ipython",
    "version": 3
   },
   "file_extension": ".py",
   "mimetype": "text/x-python",
   "name": "python",
   "nbconvert_exporter": "python",
   "pygments_lexer": "ipython3",
   "version": "3.10.9"
  }
 },
 "nbformat": 4,
 "nbformat_minor": 1
}
