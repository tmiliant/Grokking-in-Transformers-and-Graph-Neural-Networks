{
 "cells": [
  {
   "cell_type": "code",
   "execution_count": 23,
   "metadata": {
    "colab": {
     "base_uri": "https://localhost:8080/"
    },
    "executionInfo": {
     "elapsed": 1960,
     "status": "ok",
     "timestamp": 1674661150486,
     "user": {
      "displayName": "scott huang",
      "userId": "06489357941762676089"
     },
     "user_tz": 0
    },
    "id": "muJ-TbV6muhI",
    "outputId": "545dfae4-0ced-4165-920b-75f17a0cee29"
   },
   "outputs": [],
   "source": [
    "import torch\n",
    "import torch.nn as nn\n",
    "import numpy as np\n",
    "from numpy import inf\n",
    "\n",
    "device = torch.device(\"cuda\") if torch.cuda.is_available() else torch.device(\"cpu\");\n",
    "torch.manual_seed(0);"
   ]
  },
  {
   "cell_type": "code",
   "execution_count": 24,
   "metadata": {
    "id": "TU3I3uOMNlIe"
   },
   "outputs": [],
   "source": [
    "class BaseGNNLayer(nn.Module):\n",
    "    \n",
    "    def __init__(self, input_dim, output_dim):\n",
    "        super().__init__()\n",
    "        lim = 1  \n",
    "        self.w_self = nn.Parameter(torch.zeros([input_dim, output_dim]).to(torch.float64))\n",
    "        self.w_neigh = nn.Parameter(torch.zeros([input_dim, output_dim]).to(torch.float64))\n",
    "        nn.init.uniform_(tensor=self.w_self, a=-lim, b=lim)  \n",
    "        nn.init.uniform_(tensor=self.w_neigh, a=-lim, b=lim)\n",
    "\n",
    "    def forward(self, node_feats, adj_matrix):\n",
    "        node_feats_self = torch.mm(node_feats, self.w_self) \n",
    "        node_feats_neigh = torch.mm(torch.mm(adj_matrix, node_feats), self.w_neigh)\n",
    "\n",
    "#         next_node_feats = node_feats_neigh\n",
    "        next_node_feats = node_feats_self + \\\n",
    "                          node_feats_neigh \n",
    "        return next_node_feats"
   ]
  },
  {
   "cell_type": "code",
   "execution_count": 25,
   "metadata": {},
   "outputs": [],
   "source": [
    "# class BaseGNNLayer(nn.Module):\n",
    "    \n",
    "#     def __init__(self, input_dim, output_dim):\n",
    "#         super().__init__()\n",
    "#         lim = 1  \n",
    "#         self.w_neigh = torch.ones(input_dim, output_dim).to(torch.float64)\n",
    "\n",
    "#     def forward(self, node_feats, adj_matrix):\n",
    "#         #node_feats_self = torch.mm(node_feats, self.w_self) \n",
    "#         node_feats_neigh = torch.mm(torch.mm(adj_matrix, node_feats), self.w_neigh)\n",
    "\n",
    "#         next_node_feats = node_feats_neigh\n",
    "# #         next_node_feats = node_feats_self + \\\n",
    "# #                           node_feats_neigh \n",
    "#         return next_node_feats"
   ]
  },
  {
   "cell_type": "code",
   "execution_count": 26,
   "metadata": {
    "id": "Ims55n-hFhrt"
   },
   "outputs": [],
   "source": [
    "def act_fn(x):\n",
    "    return torch.relu(x)"
   ]
  },
  {
   "cell_type": "code",
   "execution_count": 27,
   "metadata": {
    "id": "TEnA7gA9pYU3"
   },
   "outputs": [],
   "source": [
    "from einops import rearrange, repeat\n",
    "\n",
    "class BaseGNNModule(nn.Module):\n",
    "\n",
    "    def __init__(self, input_dim=256, hidden_dim=512, output_dim=113, act_fn=act_fn):\n",
    "        super().__init__()\n",
    "        self.token_embedding = nn.Embedding(114, 128)\n",
    "        self.position_embeddings = nn.Embedding(2, 128)\n",
    "        self.layers = nn.ModuleList([BaseGNNLayer(input_dim, hidden_dim)])\n",
    "        self.layers = self.layers.append(nn.Linear(hidden_dim, output_dim).to(torch.float64))\n",
    "        self.act_fn = act_fn\n",
    "\n",
    "    def forward(self, x, adj_matrix):\n",
    "        token_embedding = self.token_embedding(x).flatten(start_dim=1).to(torch.float64)\n",
    "        positions = repeat(torch.arange(x.shape[1]), \"p -> b p\", b = x.shape[0])\n",
    "        position_embedding = self.position_embeddings(positions).flatten(start_dim=1).to(torch.float64)\n",
    "    \n",
    "        x = token_embedding + position_embedding\n",
    "        adj_matrix = adj_matrix.to(torch.float64)\n",
    "        x = self.act_fn(self.layers[0](x, adj_matrix))\n",
    "        x = self.layers[1](x)\n",
    "        return x"
   ]
  },
  {
   "cell_type": "code",
   "execution_count": 28,
   "metadata": {},
   "outputs": [],
   "source": [
    "# Params for dataset\n",
    "n = 2000\n",
    "p = 0.001\n",
    "prime = 113\n",
    "threshold = 0.7\n",
    "no_digits = 4\n",
    "\n",
    "# Params for GNN\n",
    "input_dim = 1\n",
    "hidden_dim = 512\n",
    "output_dim = 1\n",
    "\n",
    "# Params for optimizer\n",
    "weight_decay = 1\n",
    "lr = 1e-3\n",
    "betas = (0.9, 0.98)"
   ]
  },
  {
   "cell_type": "code",
   "execution_count": 29,
   "metadata": {},
   "outputs": [
    {
     "name": "stdout",
     "output_type": "stream",
     "text": [
      "torch.Size([2000, 2])\n",
      "torch.Size([2000, 2000])\n",
      "torch.Size([2000])\n"
     ]
    }
   ],
   "source": [
    "\n",
    "\n",
    "\n",
    "# node_feats = torch.randint(low=10**no_digits, high=10**(no_digits+1), \n",
    "#                            size=(n,1)).to(torch.float64)\n",
    "\n",
    "# node_feats = torch.randint(low=10**no_digits, high=10**(no_digits+1), \n",
    "#                            size=(n,1)).to(torch.float64)\n",
    "\n",
    "modulo = (prime * torch.ones(n,1))\n",
    "nums = torch.randint(0, 113, size=(n,1))\n",
    "node_feats = torch.cat([modulo, nums], dim=1).to(torch.int64)\n",
    "\n",
    "\n",
    "half_matrix = torch.bernoulli(p * (torch.triu(torch.ones(n, n)) -\n",
    "                                              torch.eye(n)))\n",
    "adj_matrix = (half_matrix + half_matrix.T).to(torch.float64)\n",
    "\n",
    "node_labels = torch.Tensor([])\n",
    "for i in range(n):\n",
    "    total = torch.Tensor([0])\n",
    "    for j in range(n):\n",
    "        if adj_matrix[i][j] == 1:\n",
    "            total += node_feats[j][1]\n",
    "    node_labels = torch.cat([node_labels, total.reshape(-1, 1) % prime], dim=0)\n",
    "node_labels = node_labels.reshape(-1)\n",
    "node_labels = node_labels.to(torch.int64)\n",
    "\n",
    "\n",
    "# node_labels = torch.Tensor([])\n",
    "# for i in range(n):\n",
    "#     total = 0\n",
    "#     for j in range(n):\n",
    "#         if adj_matrix[i][j] == 1:\n",
    "#             total += node_feats[j]\n",
    "#     node_labels = torch.cat([node_labels, total % 13], dim=0)\n",
    "# node_labels = node_labels.reshape(-1, 1).to(torch.float64)\n",
    "\n",
    "# node_labels = torch.Tensor([])\n",
    "# for i in range(n):\n",
    "#     total = 0\n",
    "#     for j in range(n):\n",
    "#         if adj_matrix[i][j] == 1:\n",
    "#             total += node_feats[j]\n",
    "#     node_labels = torch.cat([node_labels, total], dim=0)\n",
    "# node_labels = node_labels.reshape(-1, 1).to(torch.float64)\n",
    "\n",
    "\n",
    "print(node_feats.shape)\n",
    "print(adj_matrix.shape)\n",
    "print(node_labels.shape)"
   ]
  },
  {
   "cell_type": "code",
   "execution_count": 30,
   "metadata": {},
   "outputs": [
    {
     "data": {
      "text/plain": [
       "tensor(11)"
      ]
     },
     "execution_count": 30,
     "metadata": {},
     "output_type": "execute_result"
    }
   ],
   "source": [
    "total = 0\n",
    "for j in range(n):\n",
    "    if adj_matrix[0][j] == 1:\n",
    "        total += node_feats[j][1]\n",
    "total % 113"
   ]
  },
  {
   "cell_type": "code",
   "execution_count": 31,
   "metadata": {},
   "outputs": [
    {
     "name": "stdout",
     "output_type": "stream",
     "text": [
      "torch.Size([1400, 113])\n",
      "torch.Size([1400])\n"
     ]
    }
   ],
   "source": [
    "pred = model(node_feats, adj_matrix)[train_mask]\n",
    "true = node_labels[train_mask].reshape(-1)\n",
    "print(pred.shape)\n",
    "print(true.shape)"
   ]
  },
  {
   "cell_type": "code",
   "execution_count": 310,
   "metadata": {},
   "outputs": [
    {
     "data": {
      "text/plain": [
       "tensor(5.3045, dtype=torch.float64, grad_fn=<NllLossBackward0>)"
      ]
     },
     "execution_count": 310,
     "metadata": {},
     "output_type": "execute_result"
    }
   ],
   "source": [
    "criterion = nn.CrossEntropyLoss()\n",
    "criterion(pred, true)"
   ]
  },
  {
   "cell_type": "code",
   "execution_count": 32,
   "metadata": {},
   "outputs": [],
   "source": [
    "import random\n",
    "poss = [i for i in range(n)]\n",
    "idx = random.sample(poss, int(threshold * len(poss)))\n",
    "train_mask = [True if i in idx else False for i in range(n)]\n",
    "val_mask = [False if train_mask[i] else True for i in range(n)]"
   ]
  },
  {
   "cell_type": "code",
   "execution_count": 23,
   "metadata": {},
   "outputs": [
    {
     "data": {
      "text/plain": [
       "tensor([1., 2., 3.,  ..., 0., 5., 1.], dtype=torch.float64)"
      ]
     },
     "execution_count": 23,
     "metadata": {},
     "output_type": "execute_result"
    }
   ],
   "source": [
    "adj_matrix.sum(dim=0)"
   ]
  },
  {
   "cell_type": "code",
   "execution_count": 295,
   "metadata": {},
   "outputs": [],
   "source": [
    "# threshold = 0.3\n",
    "# val_mask = []\n",
    "# for i in range(1, len(adj_matrix) + 1):\n",
    "#   if i > threshold * len(adj_matrix):\n",
    "#     val_mask.append(True)\n",
    "#   else:\n",
    "#     val_mask.append(False)\n",
    "\n",
    "# train_mask = []\n",
    "# for i in range(1, len(adj_matrix) + 1):\n",
    "#   if i <= threshold * len(adj_matrix):\n",
    "#     train_mask.append(True)\n",
    "#   else:\n",
    "#     train_mask.append(False)"
   ]
  },
  {
   "cell_type": "code",
   "execution_count": 242,
   "metadata": {},
   "outputs": [],
   "source": [
    "# def loss_fn(logits, labels):\n",
    "#     labels = labels.reshape(-1)\n",
    "#     logits = logits.to(torch.float64)\n",
    "#     log_probs = logits.log_softmax(dim=-1)\n",
    "#     correct_log_probs = log_probs.gather(dim=-1, index=labels[:, None])[:, 0]\n",
    "#     return -correct_log_probs.mean()\n",
    "# train_logits = model(node_feats, adj_matrix)\n",
    "# train_loss = loss_fn(train_logits[train_mask], node_labels[train_mask])\n",
    "# print(train_loss)\n",
    "# test_logits = model(node_feats, adj_matrix)\n",
    "# test_loss = loss_fn(test_logits, node_labels[val_mask])\n",
    "# print(test_loss)"
   ]
  },
  {
   "cell_type": "code",
   "execution_count": 33,
   "metadata": {},
   "outputs": [
    {
     "name": "stderr",
     "output_type": "stream",
     "text": [
      "100%|███████████████████████████████████████| 1000/1000 [00:42<00:00, 23.68it/s]\n"
     ]
    }
   ],
   "source": [
    "from sklearn.metrics import accuracy_score\n",
    "model = BaseGNNModule()\n",
    "optimizer = torch.optim.AdamW(model.parameters(), lr=lr, weight_decay=weight_decay, betas=betas)\n",
    "\n",
    "criterion = nn.CrossEntropyLoss()\n",
    "\n",
    "def train():\n",
    "      model.train()\n",
    "      optimizer.zero_grad()  # Clear gradients.\n",
    "      out = model(node_feats, adj_matrix)  # Perform a single forward pass.\n",
    "      out = out.to(torch.float64)\n",
    "\n",
    "      loss = criterion(out[train_mask], node_labels[train_mask])  # Compute the loss solely based on the training nodes.\n",
    "      loss_test = criterion(out[val_mask], node_labels[val_mask])\n",
    "      loss.backward()  # Derive gradients.\n",
    "      optimizer.step()  # Update parameters based on gradients.\n",
    "      return loss, loss_test\n",
    "\n",
    "def test():\n",
    "      model.eval()\n",
    "      pred = model(node_feats, adj_matrix)\n",
    "      pred = pred.argmax(dim=1)  # Use the class with highest probability.\n",
    "      #true = node_labels.argmax(dim=1)\n",
    "    \n",
    "#       test_acc = torch.sqrt(torch.mean((pred[val_mask] - node_labels[val_mask]) ** 2))\n",
    "#       train_acc = torch.sqrt(torch.mean((pred[train_mask] - node_labels[train_mask]) ** 2))\n",
    "\n",
    "    \n",
    "#       return test_acc.item(), train_acc.item()\n",
    "      return (accuracy_score(node_labels[val_mask], pred[val_mask]),\n",
    "            accuracy_score(node_labels[train_mask], pred[train_mask]))\n",
    "\n",
    "# def train():\n",
    "#       model.train()\n",
    "#       optimizer.zero_grad()  # Clear gradients.\n",
    "#       out = model(node_feats, adj_matrix)  # Perform a single forward pass.\n",
    "#       loss = criterion(out[train_mask], node_labels[train_mask])  # Compute the loss solely based on the training nodes.\n",
    "#       loss_test = criterion(out[val_mask], node_labels[val_mask])\n",
    "#       loss.backward()  # Derive gradients.\n",
    "#       optimizer.step()  # Update parameters based on gradients.\n",
    "#       return loss, loss_test\n",
    "\n",
    "# def test():\n",
    "#       model.eval()\n",
    "#       out = model(node_feats, adj_matrix)\n",
    "#       pred = out.argmax(dim=1)  # Use the class with highest probability.\n",
    "#       true = node_labels.argmax(dim=1)\n",
    "#       test_correct = pred[val_mask] == true[val_mask]  # Check against ground-truth labels.\n",
    "#       test_acc = int(np.array(test_correct).sum()) / int(np.array(val_mask).sum())  # Derive ratio of correct predictions.\n",
    "\n",
    "\n",
    "#       train_correct = pred[train_mask] == true[train_mask]  # Check against ground-truth labels.\n",
    "#       train_acc = int(np.array(train_correct).sum()) / int(np.array(train_mask).sum())  # Derive ratio of correct predictions.\n",
    "#       return test_acc, train_acc\n",
    "import tqdm.auto as tqdm\n",
    "train_loss = []\n",
    "test_loss = []\n",
    "test_aa = []\n",
    "train_aa = []\n",
    "for epoch in tqdm.tqdm(range(1000)):\n",
    "#     if epoch % 100 == 0:\n",
    "#       print(epoch)\n",
    "    loss, loss_test = train()\n",
    "    test_acc, train_acc = test()\n",
    "    train_loss.append(loss.item())\n",
    "    test_loss.append(loss_test.item())\n",
    "    test_aa.append(test_acc)\n",
    "    train_aa.append(train_acc)"
   ]
  },
  {
   "cell_type": "code",
   "execution_count": 34,
   "metadata": {},
   "outputs": [],
   "source": [
    "import matplotlib.pyplot as plt"
   ]
  },
  {
   "cell_type": "code",
   "execution_count": 37,
   "metadata": {},
   "outputs": [
    {
     "data": {
      "text/plain": [
       "<matplotlib.legend.Legend at 0x2902713c0>"
      ]
     },
     "execution_count": 37,
     "metadata": {},
     "output_type": "execute_result"
    },
    {
     "data": {
      "image/png": "[encoded data removed]",
      "text/plain": [
       "<Figure size 640x480 with 1 Axes>"
      ]
     },
     "metadata": {},
     "output_type": "display_data"
    }
   ],
   "source": [
    "plt.plot(train_loss)\n",
    "plt.plot(test_loss)\n",
    "plt.xlabel('epochs')\n",
    "plt.ylabel('losses')\n",
    "plt.legend(['train_loss', 'test_loss'])"
   ]
  },
  {
   "cell_type": "code",
   "execution_count": 38,
   "metadata": {},
   "outputs": [
    {
     "data": {
      "text/plain": [
       "[<matplotlib.lines.Line2D at 0x2900a2bf0>]"
      ]
     },
     "execution_count": 38,
     "metadata": {},
     "output_type": "execute_result"
    },
    {
     "data": {
      "image/png": "[encoded data removed]",
      "text/plain": [
       "<Figure size 640x480 with 1 Axes>"
      ]
     },
     "metadata": {},
     "output_type": "display_data"
    }
   ],
   "source": [
    "plt.plot(range(len(train_aa)), np.array(train_aa))\n",
    "plt.plot(range(len(test_aa)), np.array(test_aa))"
   ]
  },
  {
   "cell_type": "code",
   "execution_count": 39,
   "metadata": {},
   "outputs": [
    {
     "data": {
      "text/plain": [
       "tensor([91, 73, 72,  ..., 40, 54, 47])"
      ]
     },
     "execution_count": 39,
     "metadata": {},
     "output_type": "execute_result"
    }
   ],
   "source": [
    "model(node_feats, adj_matrix).argmax(dim=1)"
   ]
  },
  {
   "cell_type": "code",
   "execution_count": 40,
   "metadata": {},
   "outputs": [
    {
     "data": {
      "text/plain": [
       "tensor([11, 73, 27,  ..., 40, 54, 47])"
      ]
     },
     "execution_count": 40,
     "metadata": {},
     "output_type": "execute_result"
    }
   ],
   "source": [
    "node_labels"
   ]
  },
  {
   "cell_type": "code",
   "execution_count": 41,
   "metadata": {},
   "outputs": [
    {
     "data": {
      "text/plain": [
       "tensor(2.4629, dtype=torch.float64, grad_fn=<NllLossBackward0>)"
      ]
     },
     "execution_count": 41,
     "metadata": {},
     "output_type": "execute_result"
    }
   ],
   "source": [
    "criterion(model(node_feats, adj_matrix), node_labels)"
   ]
  },
  {
   "cell_type": "code",
   "execution_count": 42,
   "metadata": {},
   "outputs": [
    {
     "data": {
      "text/plain": [
       "[1.5787991843057077e-05,\n",
       " 1.5658692903398427e-05,\n",
       " 1.553129501737921e-05,\n",
       " 1.540648896714206e-05,\n",
       " 1.5280512708622092e-05]"
      ]
     },
     "execution_count": 42,
     "metadata": {},
     "output_type": "execute_result"
    }
   ],
   "source": [
    "train_loss[-5:]"
   ]
  },
  {
   "cell_type": "code",
   "execution_count": 62,
   "metadata": {},
   "outputs": [
    {
     "data": {
      "text/plain": [
       "[12.690465666378719,\n",
       " 12.690122353789272,\n",
       " 12.690934996081074,\n",
       " 12.691434072985135,\n",
       " 12.691099942283133,\n",
       " 12.690136081253252,\n",
       " 12.689868560011533,\n",
       " 12.691192239530984,\n",
       " 12.691477680562492,\n",
       " 12.690980424181149]"
      ]
     },
     "execution_count": 62,
     "metadata": {},
     "output_type": "execute_result"
    }
   ],
   "source": [
    "test_loss[-10:]"
   ]
  },
  {
   "cell_type": "code",
   "execution_count": 33,
   "metadata": {},
   "outputs": [
    {
     "data": {
      "text/plain": [
       "tensor([ 0.2056, -0.3642,  0.3373, -0.2570,  0.1386,  0.2239,  0.2659,  0.0673,\n",
       "        -0.2024, -0.1912, -0.1057, -0.3375, -0.3093,  0.2718,  0.1135,  0.3406,\n",
       "        -0.1769, -0.0427,  0.1526, -0.0508, -0.0184,  0.1058, -0.0249,  0.0909,\n",
       "        -0.3299,  0.0209, -0.1759, -0.2926, -0.2260,  0.2850, -0.3476, -0.1306,\n",
       "         0.0259,  0.0063,  0.2136, -0.1974, -0.2663, -0.0381,  0.0661, -0.0464,\n",
       "        -0.0727, -0.0809,  0.2851, -0.1924,  0.0458, -0.2294, -0.0992,  0.2214,\n",
       "         0.2267,  0.0806, -0.0277, -0.2277, -0.2589, -0.2280, -0.3347,  0.2386,\n",
       "         0.2122, -0.0259,  0.0780,  0.0633, -0.2486, -0.1476,  0.1946,  0.3428,\n",
       "         0.3011, -0.2841,  0.0031,  0.2514,  0.1701, -0.0168, -0.3110, -0.3650,\n",
       "         0.2615, -0.0763,  0.3205,  0.0835, -0.2842,  0.0949,  0.1240,  0.2720,\n",
       "         0.0739, -0.1006, -0.0675, -0.0572, -0.0194,  0.2202, -0.1134, -0.0128,\n",
       "        -0.2581,  0.2774,  0.1459,  0.2822, -0.0685, -0.0302, -0.1771,  0.1305,\n",
       "        -0.0365,  0.3522, -0.3313,  0.2422,  0.0372,  0.3173,  0.0384, -0.2439,\n",
       "         0.0163,  0.3051,  0.1867, -0.2764,  0.2711, -0.2546,  0.1249, -0.0404,\n",
       "         0.0179,  0.2899,  0.1884, -0.2962, -0.1906, -0.3630,  0.1013,  0.0671,\n",
       "        -0.1702, -0.3481,  0.0298, -0.2985, -0.1184, -0.0210, -0.1123,  0.0109,\n",
       "        -0.2905, -0.2670, -0.0159, -0.3030, -0.0031,  0.0448,  0.0816,  0.0947,\n",
       "        -0.2153,  0.0044, -0.3206,  0.0104, -0.0115,  0.2161,  0.1461, -0.1965,\n",
       "        -0.1600, -0.3641,  0.3675,  0.2590,  0.0272,  0.1938,  0.2954, -0.0246,\n",
       "         0.0105, -0.1009,  0.2065,  0.3137, -0.2436, -0.0648, -0.3107,  0.0463,\n",
       "         0.3429,  0.3557, -0.3144,  0.0624, -0.0713,  0.1133, -0.0126, -0.0745,\n",
       "         0.2029, -0.3045, -0.3586,  0.3514, -0.3083,  0.0893, -0.0865, -0.0472,\n",
       "        -0.2285, -0.1185, -0.2596,  0.0343, -0.1119, -0.1488,  0.1275,  0.1822,\n",
       "         0.1178, -0.2517, -0.1351, -0.1134,  0.1158,  0.1144, -0.1860,  0.1495,\n",
       "        -0.2712, -0.2961, -0.3646, -0.2987, -0.1796,  0.1010, -0.2306, -0.1764,\n",
       "         0.2478, -0.2283,  0.2998,  0.2385,  0.0524, -0.2305,  0.3150, -0.1189,\n",
       "         0.0353,  0.2232, -0.1348, -0.1462, -0.2451, -0.0395,  0.1679, -0.2766,\n",
       "        -0.2329, -0.2544, -0.0394, -0.1045, -0.2208,  0.1136, -0.2834, -0.0980,\n",
       "         0.1371, -0.0133, -0.0642,  0.1963, -0.0666,  0.2739, -0.0531, -0.3476,\n",
       "        -0.1218,  0.3510, -0.0625,  0.3311, -0.0240, -0.1324,  0.0331,  0.2023,\n",
       "         0.0051,  0.2410,  0.3363,  0.2249, -0.2820, -0.1762, -0.3485,  0.1101,\n",
       "         0.2376, -0.2903,  0.3439, -0.2478,  0.2111,  0.1720,  0.2163, -0.2454,\n",
       "         0.0494, -0.2057,  0.2647,  0.0123, -0.2238, -0.0667,  0.2857,  0.2949,\n",
       "        -0.3310, -0.0148, -0.3139,  0.1333,  0.0469,  0.1926,  0.0711,  0.0891,\n",
       "         0.2504,  0.1164,  0.2501,  0.1767,  0.0252, -0.1145,  0.0997, -0.0513,\n",
       "         0.3588,  0.3372, -0.1592,  0.3432,  0.1321, -0.2945,  0.0721,  0.3644,\n",
       "        -0.2475,  0.3211,  0.2200,  0.0276,  0.2967, -0.2236, -0.2588, -0.1005,\n",
       "         0.0407,  0.2813, -0.0103,  0.1757,  0.1219,  0.0151, -0.1375, -0.1212,\n",
       "        -0.2684, -0.2456,  0.3315,  0.3135,  0.2670,  0.1049,  0.2973,  0.1227,\n",
       "         0.2662, -0.0277, -0.2071,  0.1708, -0.2854,  0.3198,  0.1731, -0.0816,\n",
       "         0.0876,  0.0768,  0.0497, -0.0943,  0.1506,  0.1800, -0.0588, -0.3644,\n",
       "        -0.0402, -0.0947, -0.1827,  0.1579, -0.0937,  0.3518, -0.3313, -0.2362,\n",
       "        -0.2270,  0.2616, -0.2487, -0.1413, -0.3634, -0.1961, -0.0248,  0.2755,\n",
       "        -0.1096, -0.2284,  0.1631, -0.2895, -0.1663, -0.0622, -0.2082, -0.0250,\n",
       "        -0.0024, -0.1737,  0.3278, -0.1000,  0.0761, -0.0529,  0.1256,  0.3475,\n",
       "         0.2384,  0.0920, -0.2412, -0.0703, -0.2971, -0.0901, -0.1558, -0.3516,\n",
       "        -0.0515,  0.0212,  0.0620, -0.3824,  0.3081, -0.2452,  0.1809, -0.1480,\n",
       "        -0.2253,  0.2609,  0.2544,  0.0286,  0.2308, -0.1381, -0.2384, -0.2638,\n",
       "         0.0060,  0.2277,  0.2148,  0.3099,  0.0143, -0.3329, -0.3565,  0.0367,\n",
       "        -0.1989,  0.1128, -0.1870, -0.3325, -0.0016, -0.2355, -0.0147,  0.0493,\n",
       "         0.1761, -0.0897,  0.0823, -0.0793, -0.1387, -0.1459, -0.1991,  0.3518,\n",
       "         0.0254, -0.2241, -0.1024,  0.0396, -0.1049, -0.1581, -0.3510,  0.1477,\n",
       "         0.1231,  0.0883, -0.3247,  0.0189,  0.1018,  0.0537,  0.1888,  0.1921,\n",
       "        -0.0023, -0.2478, -0.0056,  0.0226, -0.0009, -0.2337,  0.1245,  0.3083,\n",
       "         0.1071,  0.3335,  0.2734, -0.2008,  0.1790,  0.0586, -0.3039,  0.0196,\n",
       "         0.2918,  0.3246, -0.2319, -0.0547,  0.0504,  0.0614, -0.0228, -0.3020,\n",
       "         0.1012, -0.2574, -0.0371, -0.3489, -0.0564, -0.1116,  0.3642,  0.1801,\n",
       "         0.0391,  0.1542, -0.2007,  0.2540,  0.0826,  0.0769, -0.0362,  0.0928,\n",
       "        -0.3544, -0.1201, -0.3277, -0.3785,  0.0544, -0.3189,  0.0838, -0.2020,\n",
       "        -0.1740, -0.3566, -0.0803, -0.0977, -0.3875, -0.1502,  0.2716,  0.2127,\n",
       "        -0.3481,  0.2974, -0.2294, -0.3733, -0.3360, -0.3711,  0.0410,  0.0978,\n",
       "         0.1754, -0.0945, -0.1283, -0.2730,  0.1969, -0.0053, -0.3054, -0.2511,\n",
       "         0.2900, -0.2607, -0.1099, -0.2581,  0.1884, -0.2938,  0.3530,  0.0384,\n",
       "        -0.1088, -0.1629,  0.1445,  0.0172, -0.1136, -0.0458,  0.3554,  0.2980],\n",
       "       dtype=torch.float64, grad_fn=<SelectBackward0>)"
      ]
     },
     "execution_count": 33,
     "metadata": {},
     "output_type": "execute_result"
    }
   ],
   "source": [
    "model.layers[0].w_neigh[0]"
   ]
  },
  {
   "cell_type": "code",
   "execution_count": 44,
   "metadata": {},
   "outputs": [
    {
     "data": {
      "text/plain": [
       "tensor([ 73, 107,   6,  ...,  81,  40,  54])"
      ]
     },
     "execution_count": 44,
     "metadata": {},
     "output_type": "execute_result"
    }
   ],
   "source": [
    "pred = model(node_feats, adj_matrix).argmax(dim=1)\n",
    "pred[train_mask]"
   ]
  },
  {
   "cell_type": "code",
   "execution_count": 45,
   "metadata": {},
   "outputs": [
    {
     "data": {
      "text/plain": [
       "tensor([ 73, 107,   6,  ...,  81,  40,  54])"
      ]
     },
     "execution_count": 45,
     "metadata": {},
     "output_type": "execute_result"
    }
   ],
   "source": [
    "node_labels[train_mask]"
   ]
  },
  {
   "cell_type": "code",
   "execution_count": 65,
   "metadata": {},
   "outputs": [
    {
     "data": {
      "text/plain": [
       "0.8245"
      ]
     },
     "execution_count": 65,
     "metadata": {},
     "output_type": "execute_result"
    }
   ],
   "source": [
    "accuracy_score(pred, node_labels)"
   ]
  },
  {
   "cell_type": "code",
   "execution_count": 66,
   "metadata": {},
   "outputs": [
    {
     "data": {
      "text/plain": [
       "0.415"
      ]
     },
     "execution_count": 66,
     "metadata": {},
     "output_type": "execute_result"
    }
   ],
   "source": [
    "accuracy_score(pred[val_mask], node_labels[val_mask])"
   ]
  },
  {
   "cell_type": "code",
   "execution_count": 105,
   "metadata": {},
   "outputs": [
    {
     "data": {
      "text/plain": [
       "0.6278571428571429"
      ]
     },
     "execution_count": 105,
     "metadata": {},
     "output_type": "execute_result"
    }
   ],
   "source": [
    "accuracy_score(pred[train_mask], node_labels[train_mask])"
   ]
  },
  {
   "cell_type": "code",
   "execution_count": null,
   "metadata": {},
   "outputs": [],
   "source": []
  }
 ],
 "metadata": {
  "accelerator": "GPU",
  "colab": {
   "machine_shape": "hm",
   "provenance": [
    {
     "file_id": "1v5QCnqja49BELCk3G9MaHHigVho3eEBB",
     "timestamp": 1667337481633
    }
   ]
  },
  "gpuClass": "standard",
  "kernelspec": {
   "display_name": "Python 3 (ipykernel)",
   "language": "python",
   "name": "python3"
  },
  "language_info": {
   "codemirror_mode": {
    "name": "ipython",
    "version": 3
   },
   "file_extension": ".py",
   "mimetype": "text/x-python",
   "name": "python",
   "nbconvert_exporter": "python",
   "pygments_lexer": "ipython3",
   "version": "3.10.9"
  }
 },
 "nbformat": 4,
 "nbformat_minor": 1
}
