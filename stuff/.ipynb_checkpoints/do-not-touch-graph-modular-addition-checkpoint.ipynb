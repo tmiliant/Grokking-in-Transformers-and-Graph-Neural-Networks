{
 "cells": [
  {
   "cell_type": "code",
   "execution_count": 182,
   "metadata": {
    "colab": {
     "base_uri": "https://localhost:8080/"
    },
    "executionInfo": {
     "elapsed": 1960,
     "status": "ok",
     "timestamp": 1674661150486,
     "user": {
      "displayName": "scott huang",
      "userId": "06489357941762676089"
     },
     "user_tz": 0
    },
    "id": "muJ-TbV6muhI",
    "outputId": "545dfae4-0ced-4165-920b-75f17a0cee29"
   },
   "outputs": [],
   "source": [
    "import torch\n",
    "import torch.nn as nn\n",
    "import numpy as np\n",
    "from numpy import inf\n",
    "\n",
    "device = torch.device(\"cuda\") if torch.cuda.is_available() else torch.device(\"cpu\");\n",
    "torch.manual_seed(0);"
   ]
  },
  {
   "cell_type": "code",
   "execution_count": 183,
   "metadata": {
    "id": "TU3I3uOMNlIe"
   },
   "outputs": [],
   "source": [
    "class BaseGNNLayer(nn.Module):\n",
    "    \n",
    "    def __init__(self, input_dim, output_dim):\n",
    "        super().__init__()\n",
    "        lim = 1  \n",
    "        self.w_self = nn.Parameter(torch.zeros([input_dim, output_dim]).to(torch.float64))\n",
    "        self.w_neigh = nn.Parameter(torch.zeros([input_dim, output_dim]).to(torch.float64))\n",
    "        nn.init.uniform_(tensor=self.w_self, a=-lim, b=lim)  \n",
    "        nn.init.uniform_(tensor=self.w_neigh, a=-lim, b=lim)\n",
    "\n",
    "    def forward(self, node_feats, adj_matrix):\n",
    "        node_feats_self = torch.mm(node_feats, self.w_self) \n",
    "        node_feats_neigh = torch.mm(torch.mm(adj_matrix, node_feats), self.w_neigh)\n",
    "\n",
    "#         next_node_feats = node_feats_neigh\n",
    "        next_node_feats = node_feats_self + \\\n",
    "                          node_feats_neigh \n",
    "        return next_node_feats"
   ]
  },
  {
   "cell_type": "code",
   "execution_count": 184,
   "metadata": {},
   "outputs": [],
   "source": [
    "# class BaseGNNLayer(nn.Module):\n",
    "    \n",
    "#     def __init__(self, input_dim, output_dim):\n",
    "#         super().__init__()\n",
    "#         lim = 1  \n",
    "#         self.w_neigh = torch.ones(input_dim, output_dim).to(torch.float64)\n",
    "\n",
    "#     def forward(self, node_feats, adj_matrix):\n",
    "#         #node_feats_self = torch.mm(node_feats, self.w_self) \n",
    "#         node_feats_neigh = torch.mm(torch.mm(adj_matrix, node_feats), self.w_neigh)\n",
    "\n",
    "#         next_node_feats = node_feats_neigh\n",
    "# #         next_node_feats = node_feats_self + \\\n",
    "# #                           node_feats_neigh \n",
    "#         return next_node_feats"
   ]
  },
  {
   "cell_type": "code",
   "execution_count": 185,
   "metadata": {
    "id": "Ims55n-hFhrt"
   },
   "outputs": [],
   "source": [
    "def act_fn(x):\n",
    "    return torch.relu(x)"
   ]
  },
  {
   "cell_type": "code",
   "execution_count": 186,
   "metadata": {
    "id": "TEnA7gA9pYU3"
   },
   "outputs": [],
   "source": [
    "class BaseGNNModule(nn.Module):\n",
    "\n",
    "    def __init__(self, input_dim=2, hidden_dim=512, output_dim=113, act_fn=act_fn):\n",
    "        super().__init__()\n",
    "        self.layers = nn.ModuleList([BaseGNNLayer(input_dim, hidden_dim)])\n",
    "        self.layers = self.layers.append(nn.Linear(hidden_dim, output_dim).to(torch.float64))\n",
    "        self.act_fn = act_fn\n",
    "\n",
    "    def forward(self, x, adj_matrix):\n",
    "        x = x.to(torch.float64)\n",
    "        adj_matrix = adj_matrix.to(torch.float64)\n",
    "        x = self.act_fn(self.layers[0](x, adj_matrix))\n",
    "        x = self.layers[1](x)\n",
    "        return x"
   ]
  },
  {
   "cell_type": "code",
   "execution_count": 187,
   "metadata": {},
   "outputs": [
    {
     "data": {
      "text/plain": [
       "tensor([0])"
      ]
     },
     "execution_count": 187,
     "metadata": {},
     "output_type": "execute_result"
    }
   ],
   "source": [
    "torch.tensor([4]) % 2"
   ]
  },
  {
   "cell_type": "code",
   "execution_count": 179,
   "metadata": {},
   "outputs": [
    {
     "data": {
      "text/plain": [
       "tensor([[  1],\n",
       "        [ 29],\n",
       "        [112]])"
      ]
     },
     "execution_count": 179,
     "metadata": {},
     "output_type": "execute_result"
    }
   ],
   "source": [
    "torch.randint(0, 113, size=(3,1))"
   ]
  },
  {
   "cell_type": "code",
   "execution_count": 180,
   "metadata": {},
   "outputs": [
    {
     "name": "stdout",
     "output_type": "stream",
     "text": [
      "tensor([[0.1320],\n",
      "        [0.3074],\n",
      "        [0.6341]])\n",
      "tensor([[0.4901],\n",
      "        [0.8964],\n",
      "        [0.4556]])\n"
     ]
    },
    {
     "data": {
      "text/plain": [
       "tensor([[0.1320, 0.4901],\n",
       "        [0.3074, 0.8964],\n",
       "        [0.6341, 0.4556]])"
      ]
     },
     "execution_count": 180,
     "metadata": {},
     "output_type": "execute_result"
    }
   ],
   "source": [
    "a = torch.rand(3,1)\n",
    "b = torch.rand(3,1)\n",
    "print(a)\n",
    "print(b)\n",
    "torch.cat([a,b], dim=1)"
   ]
  },
  {
   "cell_type": "code",
   "execution_count": 181,
   "metadata": {},
   "outputs": [
    {
     "data": {
      "text/plain": [
       "tensor([[1.],\n",
       "        [1.],\n",
       "        [1.]])"
      ]
     },
     "execution_count": 181,
     "metadata": {},
     "output_type": "execute_result"
    }
   ],
   "source": [
    "torch.ones(3,1)"
   ]
  },
  {
   "cell_type": "code",
   "execution_count": 304,
   "metadata": {},
   "outputs": [
    {
     "data": {
      "text/plain": [
       "0.0006666666666666666"
      ]
     },
     "execution_count": 304,
     "metadata": {},
     "output_type": "execute_result"
    }
   ],
   "source": [
    "2/3000"
   ]
  },
  {
   "cell_type": "code",
   "execution_count": 305,
   "metadata": {},
   "outputs": [
    {
     "name": "stdout",
     "output_type": "stream",
     "text": [
      "torch.Size([3000, 2])\n",
      "torch.Size([3000, 3000])\n",
      "torch.Size([3000])\n"
     ]
    }
   ],
   "source": [
    "# Params for dataset\n",
    "n = 3000\n",
    "p = 0.00066\n",
    "prime = 113\n",
    "threshold = 0.8\n",
    "no_digits = 4\n",
    "\n",
    "# Params for GNN\n",
    "input_dim = 1\n",
    "hidden_dim = 512\n",
    "output_dim = 1\n",
    "\n",
    "# Params for optimizer\n",
    "weight_decay = 1\n",
    "lr = 1e-3\n",
    "betas = (0.9, 0.98)\n",
    "\n",
    "\n",
    "# node_feats = torch.randint(low=10**no_digits, high=10**(no_digits+1), \n",
    "#                            size=(n,1)).to(torch.float64)\n",
    "\n",
    "# node_feats = torch.randint(low=10**no_digits, high=10**(no_digits+1), \n",
    "#                            size=(n,1)).to(torch.float64)\n",
    "\n",
    "modulo = (prime * torch.ones(n,1))\n",
    "nums = torch.randint(0, 113, size=(n,1))\n",
    "node_feats = torch.cat([modulo, nums], dim=1).to(torch.int64)\n",
    "\n",
    "half_matrix = torch.bernoulli(p * (torch.triu(torch.ones(n, n)) -\n",
    "                                              torch.eye(n)))\n",
    "adj_matrix = (half_matrix + half_matrix.T).to(torch.float64)\n",
    "\n",
    "node_labels = torch.Tensor([])\n",
    "for i in range(n):\n",
    "    total = torch.Tensor([0])\n",
    "    for j in range(n):\n",
    "        if adj_matrix[i][j] == 1:\n",
    "            total += node_feats[j][1]\n",
    "    node_labels = torch.cat([node_labels, total.reshape(-1, 1) % prime], dim=0)\n",
    "node_labels = node_labels.reshape(-1)\n",
    "node_labels = node_labels.to(torch.int64)\n",
    "\n",
    "\n",
    "# node_labels = torch.Tensor([])\n",
    "# for i in range(n):\n",
    "#     total = 0\n",
    "#     for j in range(n):\n",
    "#         if adj_matrix[i][j] == 1:\n",
    "#             total += node_feats[j]\n",
    "#     node_labels = torch.cat([node_labels, total % 13], dim=0)\n",
    "# node_labels = node_labels.reshape(-1, 1).to(torch.float64)\n",
    "\n",
    "# node_labels = torch.Tensor([])\n",
    "# for i in range(n):\n",
    "#     total = 0\n",
    "#     for j in range(n):\n",
    "#         if adj_matrix[i][j] == 1:\n",
    "#             total += node_feats[j]\n",
    "#     node_labels = torch.cat([node_labels, total], dim=0)\n",
    "# node_labels = node_labels.reshape(-1, 1).to(torch.float64)\n",
    "\n",
    "\n",
    "print(node_feats.shape)\n",
    "print(adj_matrix.shape)\n",
    "print(node_labels.shape)"
   ]
  },
  {
   "cell_type": "code",
   "execution_count": 306,
   "metadata": {},
   "outputs": [
    {
     "data": {
      "text/plain": [
       "tensor(103)"
      ]
     },
     "execution_count": 306,
     "metadata": {},
     "output_type": "execute_result"
    }
   ],
   "source": [
    "total = 0\n",
    "for j in range(n):\n",
    "    if adj_matrix[0][j] == 1:\n",
    "        total += node_feats[j][1]\n",
    "total % 113"
   ]
  },
  {
   "cell_type": "code",
   "execution_count": 309,
   "metadata": {},
   "outputs": [
    {
     "name": "stdout",
     "output_type": "stream",
     "text": [
      "torch.Size([2400, 113])\n",
      "torch.Size([2400])\n"
     ]
    }
   ],
   "source": [
    "pred = model(node_feats, adj_matrix)[train_mask]\n",
    "true = node_labels[train_mask].reshape(-1)\n",
    "print(pred.shape)\n",
    "print(true.shape)"
   ]
  },
  {
   "cell_type": "code",
   "execution_count": 310,
   "metadata": {},
   "outputs": [
    {
     "data": {
      "text/plain": [
       "tensor(5.3045, dtype=torch.float64, grad_fn=<NllLossBackward0>)"
      ]
     },
     "execution_count": 310,
     "metadata": {},
     "output_type": "execute_result"
    }
   ],
   "source": [
    "criterion = nn.CrossEntropyLoss()\n",
    "criterion(pred, true)"
   ]
  },
  {
   "cell_type": "code",
   "execution_count": 308,
   "metadata": {},
   "outputs": [],
   "source": [
    "import random\n",
    "poss = [i for i in range(n)]\n",
    "idx = random.sample(poss, int(threshold * len(poss)))\n",
    "train_mask = [True if i in idx else False for i in range(n)]\n",
    "val_mask = [False if train_mask[i] else True for i in range(n)]"
   ]
  },
  {
   "cell_type": "code",
   "execution_count": 311,
   "metadata": {},
   "outputs": [
    {
     "data": {
      "text/plain": [
       "tensor([3., 1., 2.,  ..., 0., 1., 2.], dtype=torch.float64)"
      ]
     },
     "execution_count": 311,
     "metadata": {},
     "output_type": "execute_result"
    }
   ],
   "source": [
    "adj_matrix.sum(dim=0)"
   ]
  },
  {
   "cell_type": "code",
   "execution_count": 295,
   "metadata": {},
   "outputs": [],
   "source": [
    "# threshold = 0.3\n",
    "# val_mask = []\n",
    "# for i in range(1, len(adj_matrix) + 1):\n",
    "#   if i > threshold * len(adj_matrix):\n",
    "#     val_mask.append(True)\n",
    "#   else:\n",
    "#     val_mask.append(False)\n",
    "\n",
    "# train_mask = []\n",
    "# for i in range(1, len(adj_matrix) + 1):\n",
    "#   if i <= threshold * len(adj_matrix):\n",
    "#     train_mask.append(True)\n",
    "#   else:\n",
    "#     train_mask.append(False)"
   ]
  },
  {
   "cell_type": "code",
   "execution_count": 242,
   "metadata": {},
   "outputs": [],
   "source": [
    "# def loss_fn(logits, labels):\n",
    "#     labels = labels.reshape(-1)\n",
    "#     logits = logits.to(torch.float64)\n",
    "#     log_probs = logits.log_softmax(dim=-1)\n",
    "#     correct_log_probs = log_probs.gather(dim=-1, index=labels[:, None])[:, 0]\n",
    "#     return -correct_log_probs.mean()\n",
    "# train_logits = model(node_feats, adj_matrix)\n",
    "# train_loss = loss_fn(train_logits[train_mask], node_labels[train_mask])\n",
    "# print(train_loss)\n",
    "# test_logits = model(node_feats, adj_matrix)\n",
    "# test_loss = loss_fn(test_logits, node_labels[val_mask])\n",
    "# print(test_loss)"
   ]
  },
  {
   "cell_type": "code",
   "execution_count": 331,
   "metadata": {},
   "outputs": [
    {
     "name": "stderr",
     "output_type": "stream",
     "text": [
      "100%|███████████████████████████████████| 100000/100000 [44:52<00:00, 37.14it/s]\n"
     ]
    }
   ],
   "source": [
    "from sklearn.metrics import accuracy_score\n",
    "model = BaseGNNModule()\n",
    "optimizer = torch.optim.AdamW(model.parameters(), lr=lr, weight_decay=weight_decay, betas=betas)\n",
    "\n",
    "criterion = nn.CrossEntropyLoss()\n",
    "\n",
    "def train():\n",
    "      model.train()\n",
    "      optimizer.zero_grad()  # Clear gradients.\n",
    "      out = model(node_feats, adj_matrix)  # Perform a single forward pass.\n",
    "      out = out.to(torch.float64)\n",
    "\n",
    "      loss = criterion(out[train_mask], node_labels[train_mask])  # Compute the loss solely based on the training nodes.\n",
    "      loss_test = criterion(out[val_mask], node_labels[val_mask])\n",
    "      loss.backward()  # Derive gradients.\n",
    "      optimizer.step()  # Update parameters based on gradients.\n",
    "      return loss, loss_test\n",
    "\n",
    "def test():\n",
    "      model.eval()\n",
    "      pred = model(node_feats, adj_matrix)\n",
    "      pred = pred.argmax(dim=1)  # Use the class with highest probability.\n",
    "      #true = node_labels.argmax(dim=1)\n",
    "    \n",
    "#       test_acc = torch.sqrt(torch.mean((pred[val_mask] - node_labels[val_mask]) ** 2))\n",
    "#       train_acc = torch.sqrt(torch.mean((pred[train_mask] - node_labels[train_mask]) ** 2))\n",
    "\n",
    "    \n",
    "#       return test_acc.item(), train_acc.item()\n",
    "      return (accuracy_score(node_labels[val_mask], pred[val_mask]),\n",
    "            accuracy_score(node_labels[train_mask], pred[train_mask]))\n",
    "\n",
    "# def train():\n",
    "#       model.train()\n",
    "#       optimizer.zero_grad()  # Clear gradients.\n",
    "#       out = model(node_feats, adj_matrix)  # Perform a single forward pass.\n",
    "#       loss = criterion(out[train_mask], node_labels[train_mask])  # Compute the loss solely based on the training nodes.\n",
    "#       loss_test = criterion(out[val_mask], node_labels[val_mask])\n",
    "#       loss.backward()  # Derive gradients.\n",
    "#       optimizer.step()  # Update parameters based on gradients.\n",
    "#       return loss, loss_test\n",
    "\n",
    "# def test():\n",
    "#       model.eval()\n",
    "#       out = model(node_feats, adj_matrix)\n",
    "#       pred = out.argmax(dim=1)  # Use the class with highest probability.\n",
    "#       true = node_labels.argmax(dim=1)\n",
    "#       test_correct = pred[val_mask] == true[val_mask]  # Check against ground-truth labels.\n",
    "#       test_acc = int(np.array(test_correct).sum()) / int(np.array(val_mask).sum())  # Derive ratio of correct predictions.\n",
    "\n",
    "\n",
    "#       train_correct = pred[train_mask] == true[train_mask]  # Check against ground-truth labels.\n",
    "#       train_acc = int(np.array(train_correct).sum()) / int(np.array(train_mask).sum())  # Derive ratio of correct predictions.\n",
    "#       return test_acc, train_acc\n",
    "import tqdm.auto as tqdm\n",
    "train_loss = []\n",
    "test_loss = []\n",
    "test_aa = []\n",
    "train_aa = []\n",
    "for epoch in tqdm.tqdm(range(100000)):\n",
    "#     if epoch % 100 == 0:\n",
    "#       print(epoch)\n",
    "    loss, loss_test = train()\n",
    "    test_acc, train_acc = test()\n",
    "    train_loss.append(loss.item())\n",
    "    test_loss.append(loss_test.item())\n",
    "    test_aa.append(test_acc)\n",
    "    train_aa.append(train_acc)"
   ]
  },
  {
   "cell_type": "code",
   "execution_count": 332,
   "metadata": {},
   "outputs": [],
   "source": [
    "import matplotlib.pyplot as plt"
   ]
  },
  {
   "cell_type": "code",
   "execution_count": 333,
   "metadata": {},
   "outputs": [
    {
     "data": {
      "text/plain": [
       "<matplotlib.legend.Legend at 0x295aff160>"
      ]
     },
     "execution_count": 333,
     "metadata": {},
     "output_type": "execute_result"
    },
    {
     "data": {
      "image/png": "[encoded data removed]",
      "text/plain": [
       "<Figure size 640x480 with 1 Axes>"
      ]
     },
     "metadata": {},
     "output_type": "display_data"
    }
   ],
   "source": [
    "plt.plot(train_loss)\n",
    "plt.plot(test_loss)\n",
    "plt.xlabel('epochs')\n",
    "plt.ylabel('losses')\n",
    "plt.legend(['train_loss', 'test_loss'])"
   ]
  },
  {
   "cell_type": "code",
   "execution_count": 334,
   "metadata": {},
   "outputs": [
    {
     "data": {
      "text/plain": [
       "[<matplotlib.lines.Line2D at 0x2a2d8d5d0>]"
      ]
     },
     "execution_count": 334,
     "metadata": {},
     "output_type": "execute_result"
    },
    {
     "data": {
      "image/png": "[encoded data removed]",
      "text/plain": [
       "<Figure size 640x480 with 1 Axes>"
      ]
     },
     "metadata": {},
     "output_type": "display_data"
    }
   ],
   "source": [
    "plt.plot(range(len(train_aa)), np.array(train_aa))\n",
    "plt.plot(range(len(test_aa)), np.array(test_aa))"
   ]
  },
  {
   "cell_type": "code",
   "execution_count": 335,
   "metadata": {},
   "outputs": [
    {
     "data": {
      "text/plain": [
       "tensor([103,   6,  90,  ...,   0,  48,  82])"
      ]
     },
     "execution_count": 335,
     "metadata": {},
     "output_type": "execute_result"
    }
   ],
   "source": [
    "model(node_feats, adj_matrix).argmax(dim=1)"
   ]
  },
  {
   "cell_type": "code",
   "execution_count": 336,
   "metadata": {},
   "outputs": [
    {
     "data": {
      "text/plain": [
       "tensor([103,   7,  90,  ...,   0,  48,  82])"
      ]
     },
     "execution_count": 336,
     "metadata": {},
     "output_type": "execute_result"
    }
   ],
   "source": [
    "node_labels"
   ]
  },
  {
   "cell_type": "code",
   "execution_count": 328,
   "metadata": {},
   "outputs": [
    {
     "data": {
      "text/plain": [
       "tensor(2.2716, dtype=torch.float64, grad_fn=<NllLossBackward0>)"
      ]
     },
     "execution_count": 328,
     "metadata": {},
     "output_type": "execute_result"
    }
   ],
   "source": [
    "criterion(model(node_feats, adj_matrix), node_labels)"
   ]
  },
  {
   "cell_type": "code",
   "execution_count": 329,
   "metadata": {},
   "outputs": [
    {
     "data": {
      "text/plain": [
       "[0.9987565544014889,\n",
       " 0.9983540847573863,\n",
       " 0.9982415980697351,\n",
       " 0.9980774268798351,\n",
       " 0.9974788059494069]"
      ]
     },
     "execution_count": 329,
     "metadata": {},
     "output_type": "execute_result"
    }
   ],
   "source": [
    "train_loss[-5:]"
   ]
  },
  {
   "cell_type": "code",
   "execution_count": 330,
   "metadata": {},
   "outputs": [
    {
     "data": {
      "text/plain": [
       "[7.365284356318404,\n",
       " 7.36155551793412,\n",
       " 7.372088482842259,\n",
       " 7.360912759981085,\n",
       " 7.368313185775382,\n",
       " 7.3648204302687565,\n",
       " 7.364947761264866,\n",
       " 7.364236131806642,\n",
       " 7.3735463783368,\n",
       " 7.3632532533480965]"
      ]
     },
     "execution_count": 330,
     "metadata": {},
     "output_type": "execute_result"
    }
   ],
   "source": [
    "test_loss[-10:]"
   ]
  },
  {
   "cell_type": "code",
   "execution_count": 321,
   "metadata": {},
   "outputs": [
    {
     "data": {
      "text/plain": [
       "tensor([-3.0238e-01, -2.9163e-02,  1.9673e-01, -1.5332e-02, -1.7620e-01,\n",
       "         2.1625e-01,  8.2845e-02,  1.4986e-01, -7.4529e-02, -3.5391e-01,\n",
       "         2.3847e-01, -7.0726e-02, -6.0427e-02,  1.7172e-01,  3.0393e-01,\n",
       "         1.9456e-01, -2.3843e-01, -2.3882e-01,  1.1785e-01, -2.7735e-01,\n",
       "         2.1791e-01,  2.0463e-01, -3.6617e-01, -2.5598e-01,  9.7776e-02,\n",
       "        -1.8542e-01, -1.8970e-01, -3.3077e-01,  3.4068e-02,  1.6043e-01,\n",
       "        -3.1210e-01,  2.0299e-01,  2.9599e-01, -2.6718e-01, -2.2644e-02,\n",
       "         1.6049e-01, -1.2245e-02, -1.7631e-01,  4.6204e-02, -5.9502e-02,\n",
       "        -6.7496e-02,  2.6279e-01, -1.4014e-01,  3.1530e-01, -1.3342e-01,\n",
       "         2.2025e-01,  7.3394e-03, -6.9874e-02, -1.4297e-01,  2.0411e-01,\n",
       "        -9.5370e-02, -6.4026e-02, -2.6890e-01, -1.6264e-01,  3.5755e-02,\n",
       "         1.1416e-01,  1.5851e-01, -3.6739e-01,  1.9051e-01,  1.5432e-01,\n",
       "         1.3560e-01, -2.6994e-01, -6.0824e-03,  1.9395e-01,  2.3313e-01,\n",
       "        -8.4430e-02, -1.3591e-01, -6.2104e-02,  1.9915e-01,  1.3888e-01,\n",
       "         2.4909e-01, -3.4580e-01, -3.4146e-01, -2.1549e-01,  1.5345e-01,\n",
       "         2.2255e-01,  2.3992e-01,  2.9054e-01, -4.0383e-02,  1.0390e-01,\n",
       "         1.4039e-01,  7.4222e-02, -3.6319e-01,  1.1220e-01,  3.8900e-02,\n",
       "         1.4611e-01, -2.2981e-01, -3.2443e-01,  1.6164e-01, -1.7759e-01,\n",
       "         2.7263e-01, -3.3080e-01, -4.3644e-02, -9.1460e-02, -2.5171e-01,\n",
       "         2.9799e-01, -1.7651e-01, -5.8162e-02,  2.7259e-01,  8.8832e-02,\n",
       "         2.8832e-01, -2.3684e-01, -2.5913e-01, -2.7986e-01, -3.2533e-01,\n",
       "        -3.0822e-01,  3.1288e-01,  1.2723e-01, -1.4731e-01,  1.4998e-01,\n",
       "        -2.0682e-01, -3.5477e-01, -2.1306e-01,  1.1614e-01,  1.0700e-01,\n",
       "        -2.0986e-01,  1.9842e-01,  5.8473e-02,  2.8742e-01, -7.1833e-02,\n",
       "         8.3932e-02, -2.3361e-01,  1.4130e-01, -5.1766e-02,  2.3566e-01,\n",
       "        -2.8363e-01, -5.4395e-03, -1.9994e-01,  5.3201e-02, -3.2700e-01,\n",
       "         6.1589e-02, -1.5746e-01, -2.6810e-01, -3.5652e-01, -2.8166e-01,\n",
       "         7.7715e-02,  9.4526e-02,  3.0750e-01, -2.2202e-02, -1.4935e-01,\n",
       "        -9.1761e-02, -1.3142e-01, -1.1407e-01,  5.8685e-02, -1.3325e-01,\n",
       "         2.7860e-01, -2.8077e-01, -3.4074e-01,  1.2770e-01, -3.7083e-01,\n",
       "         3.5090e-02,  8.4484e-02, -1.1760e-01, -1.6955e-01,  2.9835e-01,\n",
       "         1.3792e-01,  2.7632e-01,  2.8173e-01,  1.5472e-02,  1.7558e-01,\n",
       "         1.8837e-01, -2.7888e-01, -2.2233e-01,  2.6520e-01, -3.4388e-01,\n",
       "         9.6552e-02,  2.4299e-01, -1.1756e-01,  8.7832e-02, -1.6782e-01,\n",
       "         1.5704e-01,  1.2029e-01, -3.5724e-01,  1.2303e-01,  9.0988e-02,\n",
       "        -7.0316e-04,  4.5044e-02,  9.4394e-02,  1.1126e-01, -1.0037e-03,\n",
       "        -2.2861e-01, -2.9832e-01, -3.1221e-01,  1.4093e-01,  1.3690e-01,\n",
       "         2.0547e-01, -1.0892e-01, -6.5025e-02,  2.6639e-01,  1.2092e-01,\n",
       "         1.4095e-01, -9.6573e-02,  2.7288e-01, -2.3089e-01,  2.7370e-01,\n",
       "         3.0747e-01,  1.4193e-01, -3.9825e-02, -5.7342e-02,  5.4229e-02,\n",
       "        -1.3173e-01, -3.5316e-02,  8.1159e-02, -3.6233e-01, -2.5559e-01,\n",
       "         4.6323e-03, -8.2803e-02,  2.4945e-01, -1.9798e-01, -3.0436e-01,\n",
       "        -2.6296e-01, -1.1916e-02,  1.2043e-01,  2.6215e-01,  2.0977e-01,\n",
       "        -1.8285e-02, -3.1237e-01,  1.2289e-01, -1.0365e-01,  9.0392e-02,\n",
       "         1.2529e-02, -2.6131e-01, -4.5544e-03,  1.2043e-02,  2.7226e-01,\n",
       "         1.1672e-02, -5.3299e-02, -1.8553e-01,  2.8271e-02,  6.9625e-02,\n",
       "         7.3175e-02, -7.6671e-02, -6.1610e-03, -4.4294e-02,  1.0024e-01,\n",
       "        -3.3784e-01,  4.6214e-02,  1.3714e-01, -2.5083e-01, -3.2345e-01,\n",
       "         2.9207e-01,  2.2468e-01,  2.0981e-01,  1.7543e-01, -3.7093e-01,\n",
       "         1.1783e-01, -2.4718e-02, -2.1307e-01, -2.6831e-01, -7.3162e-02,\n",
       "         3.0545e-01,  1.5970e-01, -3.6880e-01,  1.0007e-02, -3.0454e-03,\n",
       "        -8.8159e-02, -1.9408e-01, -3.4075e-02, -3.2541e-01,  2.3211e-01,\n",
       "         1.0570e-01,  2.1254e-01, -3.4826e-01, -4.3946e-02,  2.7205e-01,\n",
       "         5.6666e-02, -3.3748e-01, -2.8397e-01,  2.9655e-01,  1.4452e-01,\n",
       "        -3.4107e-01,  7.5341e-02, -2.5201e-01, -2.2204e-01, -2.6338e-01,\n",
       "        -7.9671e-02, -2.1723e-02,  3.0662e-01, -2.0082e-02, -9.9599e-02,\n",
       "        -8.0500e-02, -1.4323e-02,  1.3355e-01,  1.2402e-01,  1.6687e-01,\n",
       "         2.9821e-01,  2.2305e-01,  7.3721e-02,  1.4385e-01, -1.6942e-01,\n",
       "        -3.2449e-01,  1.5796e-01,  6.7478e-02, -1.7813e-01, -3.1379e-01,\n",
       "        -1.5505e-01,  2.4599e-02, -1.5417e-01, -3.1308e-01, -3.3000e-01,\n",
       "        -1.0650e-01,  6.6544e-02, -2.9381e-01,  8.9046e-04,  1.4427e-01,\n",
       "        -1.3865e-01,  8.6214e-02,  2.1476e-01, -2.8122e-01,  1.4747e-01,\n",
       "         2.7388e-01, -5.0485e-02,  1.5747e-01, -3.6297e-01,  1.3251e-01,\n",
       "         8.8933e-02, -9.7125e-02,  1.7867e-01, -2.5389e-01, -2.0053e-02,\n",
       "        -5.5646e-03,  6.1578e-02, -3.4447e-01,  2.0959e-01, -8.7497e-02,\n",
       "         1.1239e-01, -3.3708e-01,  4.1091e-02,  4.8626e-02, -2.4601e-01,\n",
       "         2.2278e-01, -3.4231e-01, -2.9824e-01, -3.7124e-02,  2.7630e-01,\n",
       "        -1.0285e-02,  2.4402e-01, -3.5613e-01,  2.0140e-01,  1.1479e-01,\n",
       "         6.4539e-02, -2.7471e-01,  8.3084e-02, -2.2557e-01,  1.5131e-01,\n",
       "        -1.3239e-01, -2.4370e-01,  1.2179e-01, -7.6036e-03,  7.7952e-02,\n",
       "         1.1652e-01,  9.9217e-02, -3.2188e-01, -1.0363e-01, -6.6141e-02,\n",
       "         2.1215e-01, -1.4909e-01,  3.0272e-01,  1.7041e-01,  1.5199e-01,\n",
       "         3.1460e-01,  1.9656e-01, -1.0361e-01, -1.1781e-01,  1.9615e-01,\n",
       "        -7.9550e-02, -5.0063e-02,  3.6717e-04,  1.3833e-01,  1.0370e-01,\n",
       "         2.7144e-03,  1.2202e-01, -1.0795e-01,  2.5407e-01, -1.6085e-01,\n",
       "         1.1663e-01,  1.4864e-01,  1.9455e-01,  1.6555e-01, -1.5656e-01,\n",
       "        -9.7424e-03,  1.5078e-01, -2.5075e-02,  2.1873e-01,  2.6832e-01,\n",
       "        -1.5658e-01,  2.4775e-01, -3.1117e-01, -1.5618e-01, -1.1543e-01,\n",
       "        -3.5782e-01, -1.7322e-01, -1.3459e-01, -2.0732e-01, -5.7815e-02,\n",
       "         2.7355e-01, -2.4094e-01, -2.9687e-01, -2.8829e-01,  2.0164e-01,\n",
       "         1.6401e-01,  1.5437e-01, -3.1897e-01, -9.5209e-02,  9.2118e-02,\n",
       "         1.1102e-01,  1.8230e-01, -2.9453e-02,  6.2219e-02, -1.4090e-01,\n",
       "         2.5379e-01,  1.6272e-01,  2.6305e-01, -1.0102e-01, -1.6860e-01,\n",
       "        -2.8831e-01,  1.2115e-01,  2.9494e-01,  1.8035e-01, -2.3505e-01,\n",
       "        -3.4270e-01,  5.2846e-02, -1.1386e-01,  4.9157e-02,  1.9948e-01,\n",
       "        -2.6664e-01,  1.0386e-01,  8.2295e-02, -2.1802e-01,  1.0995e-01,\n",
       "        -3.2433e-02,  2.3241e-01,  2.1762e-01,  1.3175e-01, -3.2690e-01,\n",
       "        -6.4231e-02,  2.1125e-01,  2.2327e-01,  5.0155e-02,  1.3252e-01,\n",
       "        -6.1216e-02, -5.8060e-02, -1.4643e-01,  5.0363e-02, -1.4224e-01,\n",
       "        -1.1629e-01, -1.4459e-01, -1.3275e-01,  7.4395e-02,  8.2244e-02,\n",
       "        -1.2715e-01, -5.3317e-02,  1.1056e-01, -1.7283e-01,  1.1890e-01,\n",
       "        -2.4156e-01, -1.2818e-01,  1.8241e-01,  2.8232e-01, -9.3221e-02,\n",
       "        -8.1845e-03, -7.8996e-02,  8.9545e-02,  3.0748e-01,  2.4498e-01,\n",
       "        -2.2311e-01, -1.8405e-01, -2.9610e-01, -1.2360e-01,  2.7951e-01,\n",
       "        -1.3072e-02,  2.7824e-01,  1.8395e-01, -1.7292e-01, -2.4959e-01,\n",
       "        -3.4703e-01, -1.5688e-01, -4.7355e-04, -2.6983e-01, -6.5320e-02,\n",
       "         2.0245e-01,  9.5967e-02,  2.6077e-01,  1.1172e-01,  6.6943e-04,\n",
       "        -7.1348e-02,  5.6819e-02, -1.1431e-01,  1.5782e-01,  1.0385e-01,\n",
       "        -1.1853e-01, -5.7909e-04, -9.6695e-03,  1.4077e-01, -6.9068e-02,\n",
       "        -2.9613e-01, -4.1910e-01,  2.9881e-01,  2.0824e-01,  4.3555e-02,\n",
       "         1.9509e-01, -2.4028e-01, -2.7740e-02,  4.3523e-02,  1.3001e-01,\n",
       "         5.6297e-02,  2.2126e-01,  2.1739e-01, -3.5143e-01, -4.4219e-02,\n",
       "         1.9324e-01,  3.7428e-03], dtype=torch.float64,\n",
       "       grad_fn=<SelectBackward0>)"
      ]
     },
     "execution_count": 321,
     "metadata": {},
     "output_type": "execute_result"
    }
   ],
   "source": [
    "model.layers[0].w_neigh[0]"
   ]
  },
  {
   "cell_type": "code",
   "execution_count": null,
   "metadata": {},
   "outputs": [],
   "source": []
  }
 ],
 "metadata": {
  "accelerator": "GPU",
  "colab": {
   "machine_shape": "hm",
   "provenance": [
    {
     "file_id": "1v5QCnqja49BELCk3G9MaHHigVho3eEBB",
     "timestamp": 1667337481633
    }
   ]
  },
  "gpuClass": "standard",
  "kernelspec": {
   "display_name": "Python 3 (ipykernel)",
   "language": "python",
   "name": "python3"
  },
  "language_info": {
   "codemirror_mode": {
    "name": "ipython",
    "version": 3
   },
   "file_extension": ".py",
   "mimetype": "text/x-python",
   "name": "python",
   "nbconvert_exporter": "python",
   "pygments_lexer": "ipython3",
   "version": "3.10.9"
  }
 },
 "nbformat": 4,
 "nbformat_minor": 1
}
