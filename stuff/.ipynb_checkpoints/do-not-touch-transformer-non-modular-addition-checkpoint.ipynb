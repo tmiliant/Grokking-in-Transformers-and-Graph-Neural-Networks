{
 "cells": [
  {
   "cell_type": "code",
   "execution_count": 1,
   "id": "3479933e",
   "metadata": {},
   "outputs": [
    {
     "name": "stderr",
     "output_type": "stream",
     "text": [
      "/opt/homebrew/lib/python3.10/site-packages/tqdm/auto.py:22: TqdmWarning: IProgress not found. Please update jupyter and ipywidgets. See https://ipywidgets.readthedocs.io/en/stable/user_install.html\n",
      "  from .autonotebook import tqdm as notebook_tqdm\n"
     ]
    }
   ],
   "source": [
    "from einops import rearrange, repeat\n",
    "import torch\n",
    "from torch import nn\n",
    "\n",
    "class DecoderBlock(torch.nn.Module):\n",
    "  def __init__(self, dim_model=128, n_heads=4):\n",
    "    super().__init__()\n",
    "\n",
    "    self.self_attn = nn.MultiheadAttention(dim_model, n_heads)  # According to the paper.\n",
    "    \n",
    "    # In practice hidden layer size is 4 times size of input.\n",
    "    self.mlp = nn.Sequential(\n",
    "        nn.Linear(dim_model, dim_model * 4),\n",
    "        nn.ReLU(),\n",
    "        nn.Linear(dim_model * 4, dim_model)\n",
    "    ) \n",
    "    \n",
    "  def forward(self, x):\n",
    "    attn_mask = torch.full(\n",
    "        (len(x), len(x)), -float(\"Inf\"), device=x.device, dtype=x.dtype\n",
    "    )\n",
    "    attn_mask = torch.triu(attn_mask, diagonal=1)  # Autoregressive model, hence only look back.\n",
    "    \n",
    "    a1, _ = self.self_attn(x, x, x, attn_mask=attn_mask)  # We do not need attention weights.\n",
    "    a2 = self.mlp(x + a1)  # Add skip connection / residual connection.\n",
    "    return a2\n",
    "\n",
    "class Transformer(torch.nn.Module):\n",
    "  def __init__(self, num_layers=1, dim_model=128, num_heads=4, num_tokens=100000, seq_len=2):\n",
    "    super().__init__()\n",
    "\n",
    "    self.token_embeddings = nn.Embedding(num_tokens, dim_model)  # We have p+1 input tokens: 0,1,...,113.\n",
    "    self.position_embeddings = nn.Embedding(seq_len, dim_model) \n",
    "    self.model = nn.Sequential(\n",
    "        *[DecoderBlock(dim_model, num_heads) for _ in range(num_layers)],\n",
    "        nn.Linear(dim_model, 1)  # We have 1 output token.\n",
    "    ) \n",
    "\n",
    "  def forward(self, inputs):\n",
    "    token_embedding = self.token_embeddings(inputs)\n",
    "    \n",
    "    positions = repeat(torch.arange(inputs.shape[1]), \"p -> b p\", b = inputs.shape[0])\n",
    "    position_embedding = self.position_embeddings(positions)\n",
    "    \n",
    "    embedding = token_embedding + position_embedding\n",
    "\n",
    "    embedding = rearrange(embedding, 'b s d -> s b d')\n",
    "\n",
    "    return self.model(embedding)[-1,:,:]"
   ]
  },
  {
   "cell_type": "code",
   "execution_count": 2,
   "id": "753a8a70",
   "metadata": {},
   "outputs": [],
   "source": [
    "def get_data(p: int, threshold: float):  \n",
    "    dataset = []\n",
    "    all_v = torch.arange(10**4, 10**5)\n",
    "    perm = torch.randperm(10**5 - 10**4)\n",
    "    perm = perm[:30]\n",
    "    for i in all_v[perm]:\n",
    "        for j in all_v[perm]:\n",
    "            dataset.append([i,j])\n",
    "    \n",
    "    dataset = torch.Tensor(dataset).to(torch.int64)\n",
    "    labels = dataset[:, 0] + dataset[:, 1]\n",
    "    \n",
    "    idxs = torch.randperm(30 ** 2)\n",
    "    cutoff = int(threshold * 30 ** 2)\n",
    "    train_indices = idxs[:cutoff]\n",
    "    test_indices = idxs[cutoff:]\n",
    "    \n",
    "    \n",
    "    train_data = dataset[train_indices]\n",
    "    train_labels = labels[train_indices]\n",
    "    \n",
    "    test_data = dataset[test_indices]\n",
    "    test_labels = labels[test_indices]\n",
    "    \n",
    "    return train_data, train_labels.reshape(-1, 1), test_data, test_labels.reshape(-1, 1)"
   ]
  },
  {
   "cell_type": "code",
   "execution_count": 3,
   "id": "4f7d24e0",
   "metadata": {},
   "outputs": [],
   "source": [
    "train_data, train_labels, test_data, test_labels = get_data(30, 0.3)\n",
    "model = Transformer()"
   ]
  },
  {
   "cell_type": "code",
   "execution_count": 4,
   "id": "b9fd688b",
   "metadata": {},
   "outputs": [],
   "source": [
    "for name, param in model.named_parameters():\n",
    "    if \"b_\" in name:\n",
    "        param.requires_grad = False"
   ]
  },
  {
   "cell_type": "code",
   "execution_count": 10,
   "id": "29eb9db3",
   "metadata": {},
   "outputs": [],
   "source": [
    "p = 113\n",
    "\n",
    "# Optimizer config\n",
    "lr = 1e-3\n",
    "wd = 1. \n",
    "betas = (0.9, 0.98)\n",
    "\n",
    "num_epochs = 20000\n",
    "checkpoint_every = 100\n",
    "\n",
    "DATA_SEED = 598"
   ]
  },
  {
   "cell_type": "code",
   "execution_count": 6,
   "id": "270a8064",
   "metadata": {},
   "outputs": [],
   "source": [
    "optimizer = torch.optim.AdamW(model.parameters(), lr=lr, weight_decay=wd, betas=betas)"
   ]
  },
  {
   "cell_type": "code",
   "execution_count": 7,
   "id": "2cc4fde3",
   "metadata": {},
   "outputs": [
    {
     "name": "stdout",
     "output_type": "stream",
     "text": [
      "torch.Size([270, 2])\n",
      "torch.Size([630, 2])\n",
      "torch.Size([270, 1])\n",
      "torch.Size([630, 1])\n"
     ]
    }
   ],
   "source": [
    "print(train_data.shape)\n",
    "print(test_data.shape)\n",
    "print(train_labels.shape)\n",
    "print(test_labels.shape)"
   ]
  },
  {
   "cell_type": "code",
   "execution_count": 8,
   "id": "ae6b8713",
   "metadata": {},
   "outputs": [
    {
     "name": "stdout",
     "output_type": "stream",
     "text": [
      "tensor(1.3853e+10, grad_fn=<MseLossBackward0>)\n",
      "tensor(1.4162e+10, grad_fn=<MseLossBackward0>)\n"
     ]
    }
   ],
   "source": [
    "def loss_fn(logits, labels):\n",
    "    labels = labels.reshape(-1, 1)\n",
    "    mse_loss = nn.MSELoss()\n",
    "    return mse_loss(logits, labels)\n",
    "train_data = train_data.to(torch.int64)\n",
    "test_data = test_data.to(torch.int64)\n",
    "train_logits = model(train_data)\n",
    "train_loss = loss_fn(train_logits, train_labels)\n",
    "print(train_loss)\n",
    "test_logits = model(test_data)\n",
    "test_loss = loss_fn(test_logits, test_labels)\n",
    "print(test_loss)"
   ]
  },
  {
   "cell_type": "code",
   "execution_count": 11,
   "id": "51200e2a",
   "metadata": {},
   "outputs": [
    {
     "name": "stderr",
     "output_type": "stream",
     "text": [
      "  0%|                                         | 8/20000 [00:00<08:47, 37.90it/s]"
     ]
    },
    {
     "name": "stdout",
     "output_type": "stream",
     "text": [
      "Epoch 0 Train Loss 13852596224.0 Test Loss 14162114560.0\n"
     ]
    },
    {
     "name": "stderr",
     "output_type": "stream",
     "text": [
      "  1%|▏                                      | 108/20000 [00:02<07:26, 44.57it/s]"
     ]
    },
    {
     "name": "stdout",
     "output_type": "stream",
     "text": [
      "Epoch 100 Train Loss 885744512.0 Test Loss 970572864.0\n"
     ]
    },
    {
     "name": "stderr",
     "output_type": "stream",
     "text": [
      "  1%|▍                                      | 208/20000 [00:04<07:24, 44.56it/s]"
     ]
    },
    {
     "name": "stdout",
     "output_type": "stream",
     "text": [
      "Epoch 200 Train Loss 9016111.0 Test Loss 48449532.0\n"
     ]
    },
    {
     "name": "stderr",
     "output_type": "stream",
     "text": [
      "  2%|▌                                      | 308/20000 [00:06<07:34, 43.35it/s]"
     ]
    },
    {
     "name": "stdout",
     "output_type": "stream",
     "text": [
      "Epoch 300 Train Loss 739707.5 Test Loss 23394762.0\n"
     ]
    },
    {
     "name": "stderr",
     "output_type": "stream",
     "text": [
      "  2%|▊                                      | 408/20000 [00:09<07:18, 44.70it/s]"
     ]
    },
    {
     "name": "stdout",
     "output_type": "stream",
     "text": [
      "Epoch 400 Train Loss 174781.25 Test Loss 17487274.0\n"
     ]
    },
    {
     "name": "stderr",
     "output_type": "stream",
     "text": [
      "  3%|▉                                      | 508/20000 [00:11<07:12, 45.07it/s]"
     ]
    },
    {
     "name": "stdout",
     "output_type": "stream",
     "text": [
      "Epoch 500 Train Loss 151143.265625 Test Loss 13260811.0\n"
     ]
    },
    {
     "name": "stderr",
     "output_type": "stream",
     "text": [
      "  3%|█▏                                     | 608/20000 [00:13<07:11, 44.95it/s]"
     ]
    },
    {
     "name": "stdout",
     "output_type": "stream",
     "text": [
      "Epoch 600 Train Loss 19841.025390625 Test Loss 9309856.0\n"
     ]
    },
    {
     "name": "stderr",
     "output_type": "stream",
     "text": [
      "  4%|█▍                                     | 708/20000 [00:15<07:09, 44.95it/s]"
     ]
    },
    {
     "name": "stdout",
     "output_type": "stream",
     "text": [
      "Epoch 700 Train Loss 405883.34375 Test Loss 6746393.5\n"
     ]
    },
    {
     "name": "stderr",
     "output_type": "stream",
     "text": [
      "  4%|█▌                                     | 808/20000 [00:18<07:08, 44.79it/s]"
     ]
    },
    {
     "name": "stdout",
     "output_type": "stream",
     "text": [
      "Epoch 800 Train Loss 272607.8125 Test Loss 4777265.0\n"
     ]
    },
    {
     "name": "stderr",
     "output_type": "stream",
     "text": [
      "  5%|█▊                                     | 908/20000 [00:20<07:10, 44.33it/s]"
     ]
    },
    {
     "name": "stdout",
     "output_type": "stream",
     "text": [
      "Epoch 900 Train Loss 49402.8828125 Test Loss 3289937.75\n"
     ]
    },
    {
     "name": "stderr",
     "output_type": "stream",
     "text": [
      "  5%|█▉                                    | 1008/20000 [00:22<07:37, 41.52it/s]"
     ]
    },
    {
     "name": "stdout",
     "output_type": "stream",
     "text": [
      "Epoch 1000 Train Loss 122799.5390625 Test Loss 2589079.5\n"
     ]
    },
    {
     "name": "stderr",
     "output_type": "stream",
     "text": [
      "  6%|██                                    | 1108/20000 [00:25<06:55, 45.45it/s]"
     ]
    },
    {
     "name": "stdout",
     "output_type": "stream",
     "text": [
      "Epoch 1100 Train Loss 174331.796875 Test Loss 2291076.5\n"
     ]
    },
    {
     "name": "stderr",
     "output_type": "stream",
     "text": [
      "  6%|██▎                                   | 1208/20000 [00:27<07:38, 40.95it/s]"
     ]
    },
    {
     "name": "stdout",
     "output_type": "stream",
     "text": [
      "Epoch 1200 Train Loss 29901.673828125 Test Loss 1448638.75\n"
     ]
    },
    {
     "name": "stderr",
     "output_type": "stream",
     "text": [
      "  7%|██▍                                   | 1308/20000 [00:29<07:09, 43.56it/s]"
     ]
    },
    {
     "name": "stdout",
     "output_type": "stream",
     "text": [
      "Epoch 1300 Train Loss 205335.96875 Test Loss 1221076.375\n"
     ]
    },
    {
     "name": "stderr",
     "output_type": "stream",
     "text": [
      "  7%|██▋                                   | 1408/20000 [00:32<06:54, 44.80it/s]"
     ]
    },
    {
     "name": "stdout",
     "output_type": "stream",
     "text": [
      "Epoch 1400 Train Loss 7298.47216796875 Test Loss 872982.0625\n"
     ]
    },
    {
     "name": "stderr",
     "output_type": "stream",
     "text": [
      "  8%|██▊                                   | 1508/20000 [00:34<06:50, 45.06it/s]"
     ]
    },
    {
     "name": "stdout",
     "output_type": "stream",
     "text": [
      "Epoch 1500 Train Loss 159897.828125 Test Loss 947735.5625\n"
     ]
    },
    {
     "name": "stderr",
     "output_type": "stream",
     "text": [
      "  8%|███                                   | 1608/20000 [00:36<06:48, 44.99it/s]"
     ]
    },
    {
     "name": "stdout",
     "output_type": "stream",
     "text": [
      "Epoch 1600 Train Loss 13819.83984375 Test Loss 611506.5\n"
     ]
    },
    {
     "name": "stderr",
     "output_type": "stream",
     "text": [
      "  9%|███▏                                  | 1708/20000 [00:38<06:49, 44.71it/s]"
     ]
    },
    {
     "name": "stdout",
     "output_type": "stream",
     "text": [
      "Epoch 1700 Train Loss 125569.390625 Test Loss 444971.9375\n"
     ]
    },
    {
     "name": "stderr",
     "output_type": "stream",
     "text": [
      "  9%|███▍                                  | 1808/20000 [00:41<06:44, 45.00it/s]"
     ]
    },
    {
     "name": "stdout",
     "output_type": "stream",
     "text": [
      "Epoch 1800 Train Loss 132023.109375 Test Loss 444748.03125\n"
     ]
    },
    {
     "name": "stderr",
     "output_type": "stream",
     "text": [
      " 10%|███▋                                  | 1908/20000 [00:43<06:37, 45.51it/s]"
     ]
    },
    {
     "name": "stdout",
     "output_type": "stream",
     "text": [
      "Epoch 1900 Train Loss 9746.62890625 Test Loss 294364.8125\n"
     ]
    },
    {
     "name": "stderr",
     "output_type": "stream",
     "text": [
      " 10%|███▊                                  | 2008/20000 [00:45<06:36, 45.34it/s]"
     ]
    },
    {
     "name": "stdout",
     "output_type": "stream",
     "text": [
      "Epoch 2000 Train Loss 80945.2109375 Test Loss 300686.84375\n"
     ]
    },
    {
     "name": "stderr",
     "output_type": "stream",
     "text": [
      " 11%|████                                  | 2108/20000 [00:47<06:32, 45.53it/s]"
     ]
    },
    {
     "name": "stdout",
     "output_type": "stream",
     "text": [
      "Epoch 2100 Train Loss 105574.5625 Test Loss 368985.375\n"
     ]
    },
    {
     "name": "stderr",
     "output_type": "stream",
     "text": [
      " 11%|████▏                                 | 2208/20000 [00:49<06:32, 45.29it/s]"
     ]
    },
    {
     "name": "stdout",
     "output_type": "stream",
     "text": [
      "Epoch 2200 Train Loss 22029.8359375 Test Loss 239313.78125\n"
     ]
    },
    {
     "name": "stderr",
     "output_type": "stream",
     "text": [
      " 12%|████▍                                 | 2308/20000 [00:52<06:26, 45.75it/s]"
     ]
    },
    {
     "name": "stdout",
     "output_type": "stream",
     "text": [
      "Epoch 2300 Train Loss 28126.4375 Test Loss 139445.65625\n"
     ]
    },
    {
     "name": "stderr",
     "output_type": "stream",
     "text": [
      " 12%|████▌                                 | 2408/20000 [00:54<06:28, 45.29it/s]"
     ]
    },
    {
     "name": "stdout",
     "output_type": "stream",
     "text": [
      "Epoch 2400 Train Loss 134839.421875 Test Loss 178360.859375\n"
     ]
    },
    {
     "name": "stderr",
     "output_type": "stream",
     "text": [
      " 13%|████▊                                 | 2508/20000 [00:56<06:24, 45.50it/s]"
     ]
    },
    {
     "name": "stdout",
     "output_type": "stream",
     "text": [
      "Epoch 2500 Train Loss 107525.5859375 Test Loss 180964.84375\n"
     ]
    },
    {
     "name": "stderr",
     "output_type": "stream",
     "text": [
      " 13%|████▉                                 | 2608/20000 [00:58<06:21, 45.54it/s]"
     ]
    },
    {
     "name": "stdout",
     "output_type": "stream",
     "text": [
      "Epoch 2600 Train Loss 30541.33984375 Test Loss 104127.609375\n"
     ]
    },
    {
     "name": "stderr",
     "output_type": "stream",
     "text": [
      " 14%|█████▏                                | 2708/20000 [01:00<06:18, 45.64it/s]"
     ]
    },
    {
     "name": "stdout",
     "output_type": "stream",
     "text": [
      "Epoch 2700 Train Loss 9000.9033203125 Test Loss 56284.28125\n"
     ]
    },
    {
     "name": "stderr",
     "output_type": "stream",
     "text": [
      " 14%|█████▎                                | 2808/20000 [01:03<06:19, 45.36it/s]"
     ]
    },
    {
     "name": "stdout",
     "output_type": "stream",
     "text": [
      "Epoch 2800 Train Loss 74479.1953125 Test Loss 105162.0234375\n"
     ]
    },
    {
     "name": "stderr",
     "output_type": "stream",
     "text": [
      " 15%|█████▌                                | 2908/20000 [01:05<06:16, 45.43it/s]"
     ]
    },
    {
     "name": "stdout",
     "output_type": "stream",
     "text": [
      "Epoch 2900 Train Loss 100024.4375 Test Loss 177387.90625\n"
     ]
    },
    {
     "name": "stderr",
     "output_type": "stream",
     "text": [
      " 15%|█████▋                                | 3008/20000 [01:07<06:16, 45.11it/s]"
     ]
    },
    {
     "name": "stdout",
     "output_type": "stream",
     "text": [
      "Epoch 3000 Train Loss 57098.3125 Test Loss 150296.46875\n"
     ]
    },
    {
     "name": "stderr",
     "output_type": "stream",
     "text": [
      " 16%|█████▉                                | 3108/20000 [01:09<06:11, 45.44it/s]"
     ]
    },
    {
     "name": "stdout",
     "output_type": "stream",
     "text": [
      "Epoch 3100 Train Loss 12727.47265625 Test Loss 83970.5234375\n"
     ]
    },
    {
     "name": "stderr",
     "output_type": "stream",
     "text": [
      " 16%|██████                                | 3208/20000 [01:12<06:12, 45.12it/s]"
     ]
    },
    {
     "name": "stdout",
     "output_type": "stream",
     "text": [
      "Epoch 3200 Train Loss 14288.81640625 Test Loss 38021.08203125\n"
     ]
    },
    {
     "name": "stderr",
     "output_type": "stream",
     "text": [
      " 17%|██████▎                               | 3308/20000 [01:14<06:36, 42.07it/s]"
     ]
    },
    {
     "name": "stdout",
     "output_type": "stream",
     "text": [
      "Epoch 3300 Train Loss 81890.3828125 Test Loss 52524.9296875\n"
     ]
    },
    {
     "name": "stderr",
     "output_type": "stream",
     "text": [
      " 17%|██████▍                               | 3408/20000 [01:16<06:35, 41.91it/s]"
     ]
    },
    {
     "name": "stdout",
     "output_type": "stream",
     "text": [
      "Epoch 3400 Train Loss 126880.9765625 Test Loss 105567.546875\n"
     ]
    },
    {
     "name": "stderr",
     "output_type": "stream",
     "text": [
      " 18%|██████▋                               | 3508/20000 [01:19<06:22, 43.07it/s]"
     ]
    },
    {
     "name": "stdout",
     "output_type": "stream",
     "text": [
      "Epoch 3500 Train Loss 98936.09375 Test Loss 112424.625\n"
     ]
    },
    {
     "name": "stderr",
     "output_type": "stream",
     "text": [
      " 18%|██████▊                               | 3608/20000 [01:21<06:05, 44.89it/s]"
     ]
    },
    {
     "name": "stdout",
     "output_type": "stream",
     "text": [
      "Epoch 3600 Train Loss 46616.21484375 Test Loss 75229.5078125\n"
     ]
    },
    {
     "name": "stderr",
     "output_type": "stream",
     "text": [
      " 19%|███████                               | 3708/20000 [01:23<06:02, 44.92it/s]"
     ]
    },
    {
     "name": "stdout",
     "output_type": "stream",
     "text": [
      "Epoch 3700 Train Loss 8521.4375 Test Loss 35118.0703125\n"
     ]
    },
    {
     "name": "stderr",
     "output_type": "stream",
     "text": [
      " 19%|███████▏                              | 3808/20000 [01:25<06:06, 44.16it/s]"
     ]
    },
    {
     "name": "stdout",
     "output_type": "stream",
     "text": [
      "Epoch 3800 Train Loss 15762.9296875 Test Loss 27759.94921875\n"
     ]
    },
    {
     "name": "stderr",
     "output_type": "stream",
     "text": [
      " 20%|███████▍                              | 3908/20000 [01:28<06:16, 42.77it/s]"
     ]
    },
    {
     "name": "stdout",
     "output_type": "stream",
     "text": [
      "Epoch 3900 Train Loss 64953.1328125 Test Loss 75019.84375\n"
     ]
    },
    {
     "name": "stderr",
     "output_type": "stream",
     "text": [
      " 20%|███████▌                              | 4008/20000 [01:30<06:24, 41.57it/s]"
     ]
    },
    {
     "name": "stdout",
     "output_type": "stream",
     "text": [
      "Epoch 4000 Train Loss 95210.9921875 Test Loss 141730.390625\n"
     ]
    },
    {
     "name": "stderr",
     "output_type": "stream",
     "text": [
      " 21%|███████▊                              | 4108/20000 [01:32<06:13, 42.51it/s]"
     ]
    },
    {
     "name": "stdout",
     "output_type": "stream",
     "text": [
      "Epoch 4100 Train Loss 80542.2578125 Test Loss 159535.53125\n"
     ]
    },
    {
     "name": "stderr",
     "output_type": "stream",
     "text": [
      " 21%|███████▉                              | 4208/20000 [01:35<06:02, 43.51it/s]"
     ]
    },
    {
     "name": "stdout",
     "output_type": "stream",
     "text": [
      "Epoch 4200 Train Loss 45756.08203125 Test Loss 124254.171875\n"
     ]
    },
    {
     "name": "stderr",
     "output_type": "stream",
     "text": [
      " 22%|████████▏                             | 4308/20000 [01:37<05:59, 43.68it/s]"
     ]
    },
    {
     "name": "stdout",
     "output_type": "stream",
     "text": [
      "Epoch 4300 Train Loss 13876.9228515625 Test Loss 71914.109375\n"
     ]
    },
    {
     "name": "stderr",
     "output_type": "stream",
     "text": [
      " 22%|████████▍                             | 4408/20000 [01:39<06:13, 41.77it/s]"
     ]
    },
    {
     "name": "stdout",
     "output_type": "stream",
     "text": [
      "Epoch 4400 Train Loss 5904.88671875 Test Loss 29044.396484375\n"
     ]
    },
    {
     "name": "stderr",
     "output_type": "stream",
     "text": [
      " 23%|████████▌                             | 4508/20000 [01:42<06:01, 42.82it/s]"
     ]
    },
    {
     "name": "stdout",
     "output_type": "stream",
     "text": [
      "Epoch 4500 Train Loss 42216.81640625 Test Loss 17863.236328125\n"
     ]
    },
    {
     "name": "stderr",
     "output_type": "stream",
     "text": [
      " 23%|████████▊                             | 4608/20000 [01:44<05:54, 43.45it/s]"
     ]
    },
    {
     "name": "stdout",
     "output_type": "stream",
     "text": [
      "Epoch 4600 Train Loss 100890.859375 Test Loss 49481.7890625\n"
     ]
    },
    {
     "name": "stderr",
     "output_type": "stream",
     "text": [
      " 24%|████████▉                             | 4708/20000 [01:46<05:52, 43.37it/s]"
     ]
    },
    {
     "name": "stdout",
     "output_type": "stream",
     "text": [
      "Epoch 4700 Train Loss 123522.859375 Test Loss 88667.21875\n"
     ]
    },
    {
     "name": "stderr",
     "output_type": "stream",
     "text": [
      " 24%|█████████▏                            | 4808/20000 [01:49<05:48, 43.58it/s]"
     ]
    },
    {
     "name": "stdout",
     "output_type": "stream",
     "text": [
      "Epoch 4800 Train Loss 98207.3984375 Test Loss 93085.03125\n"
     ]
    },
    {
     "name": "stderr",
     "output_type": "stream",
     "text": [
      " 25%|█████████▎                            | 4908/20000 [01:51<05:54, 42.63it/s]"
     ]
    },
    {
     "name": "stdout",
     "output_type": "stream",
     "text": [
      "Epoch 4900 Train Loss 53641.99609375 Test Loss 66055.5703125\n"
     ]
    },
    {
     "name": "stderr",
     "output_type": "stream",
     "text": [
      " 25%|█████████▌                            | 5008/20000 [01:53<05:49, 42.92it/s]"
     ]
    },
    {
     "name": "stdout",
     "output_type": "stream",
     "text": [
      "Epoch 5000 Train Loss 16035.68359375 Test Loss 33893.61328125\n"
     ]
    },
    {
     "name": "stderr",
     "output_type": "stream",
     "text": [
      " 26%|█████████▋                            | 5108/20000 [01:56<05:42, 43.52it/s]"
     ]
    },
    {
     "name": "stdout",
     "output_type": "stream",
     "text": [
      "Epoch 5100 Train Loss 8044.14892578125 Test Loss 18640.326171875\n"
     ]
    },
    {
     "name": "stderr",
     "output_type": "stream",
     "text": [
      " 26%|█████████▉                            | 5208/20000 [01:58<05:59, 41.13it/s]"
     ]
    },
    {
     "name": "stdout",
     "output_type": "stream",
     "text": [
      "Epoch 5200 Train Loss 43005.08984375 Test Loss 43821.37109375\n"
     ]
    },
    {
     "name": "stderr",
     "output_type": "stream",
     "text": [
      " 27%|██████████                            | 5308/20000 [02:00<05:30, 44.39it/s]"
     ]
    },
    {
     "name": "stdout",
     "output_type": "stream",
     "text": [
      "Epoch 5300 Train Loss 87617.2578125 Test Loss 109859.9375\n"
     ]
    },
    {
     "name": "stderr",
     "output_type": "stream",
     "text": [
      " 27%|██████████▎                           | 5408/20000 [02:03<05:31, 44.04it/s]"
     ]
    },
    {
     "name": "stdout",
     "output_type": "stream",
     "text": [
      "Epoch 5400 Train Loss 94201.5546875 Test Loss 158238.546875\n"
     ]
    },
    {
     "name": "stderr",
     "output_type": "stream",
     "text": [
      " 28%|██████████▍                           | 5508/20000 [02:05<05:29, 43.99it/s]"
     ]
    },
    {
     "name": "stdout",
     "output_type": "stream",
     "text": [
      "Epoch 5500 Train Loss 66914.3125 Test Loss 149235.546875\n"
     ]
    },
    {
     "name": "stderr",
     "output_type": "stream",
     "text": [
      " 28%|██████████▋                           | 5608/20000 [02:07<05:42, 42.02it/s]"
     ]
    },
    {
     "name": "stdout",
     "output_type": "stream",
     "text": [
      "Epoch 5600 Train Loss 30985.34765625 Test Loss 103290.5546875\n"
     ]
    },
    {
     "name": "stderr",
     "output_type": "stream",
     "text": [
      " 29%|██████████▊                           | 5708/20000 [02:09<05:24, 44.11it/s]"
     ]
    },
    {
     "name": "stdout",
     "output_type": "stream",
     "text": [
      "Epoch 5700 Train Loss 7542.03369140625 Test Loss 53003.6953125\n"
     ]
    },
    {
     "name": "stderr",
     "output_type": "stream",
     "text": [
      " 29%|███████████                           | 5808/20000 [02:12<05:20, 44.25it/s]"
     ]
    },
    {
     "name": "stdout",
     "output_type": "stream",
     "text": [
      "Epoch 5800 Train Loss 20286.09375 Test Loss 22108.5078125\n"
     ]
    },
    {
     "name": "stderr",
     "output_type": "stream",
     "text": [
      " 30%|███████████▏                          | 5908/20000 [02:14<05:19, 44.09it/s]"
     ]
    },
    {
     "name": "stdout",
     "output_type": "stream",
     "text": [
      "Epoch 5900 Train Loss 74203.765625 Test Loss 32802.05078125\n"
     ]
    },
    {
     "name": "stderr",
     "output_type": "stream",
     "text": [
      " 30%|███████████▍                          | 6008/20000 [02:16<05:15, 44.28it/s]"
     ]
    },
    {
     "name": "stdout",
     "output_type": "stream",
     "text": [
      "Epoch 6000 Train Loss 120676.6015625 Test Loss 76486.53125\n"
     ]
    },
    {
     "name": "stderr",
     "output_type": "stream",
     "text": [
      " 31%|███████████▌                          | 6108/20000 [02:18<05:14, 44.13it/s]"
     ]
    },
    {
     "name": "stdout",
     "output_type": "stream",
     "text": [
      "Epoch 6100 Train Loss 114235.140625 Test Loss 99479.6328125\n"
     ]
    },
    {
     "name": "stderr",
     "output_type": "stream",
     "text": [
      " 31%|███████████▊                          | 6208/20000 [02:21<05:10, 44.47it/s]"
     ]
    },
    {
     "name": "stdout",
     "output_type": "stream",
     "text": [
      "Epoch 6200 Train Loss 73462.9453125 Test Loss 81388.4453125\n"
     ]
    },
    {
     "name": "stderr",
     "output_type": "stream",
     "text": [
      " 32%|███████████▉                          | 6308/20000 [02:23<05:09, 44.20it/s]"
     ]
    },
    {
     "name": "stdout",
     "output_type": "stream",
     "text": [
      "Epoch 6300 Train Loss 30091.34765625 Test Loss 46721.68359375\n"
     ]
    },
    {
     "name": "stderr",
     "output_type": "stream",
     "text": [
      " 32%|████████████▏                         | 6408/20000 [02:25<05:09, 43.85it/s]"
     ]
    },
    {
     "name": "stdout",
     "output_type": "stream",
     "text": [
      "Epoch 6400 Train Loss 5148.7138671875 Test Loss 18378.955078125\n"
     ]
    },
    {
     "name": "stderr",
     "output_type": "stream",
     "text": [
      " 33%|████████████▎                         | 6508/20000 [02:27<05:04, 44.27it/s]"
     ]
    },
    {
     "name": "stdout",
     "output_type": "stream",
     "text": [
      "Epoch 6500 Train Loss 19667.470703125 Test Loss 17061.416015625\n"
     ]
    },
    {
     "name": "stderr",
     "output_type": "stream",
     "text": [
      " 33%|████████████▌                         | 6608/20000 [02:30<05:01, 44.39it/s]"
     ]
    },
    {
     "name": "stdout",
     "output_type": "stream",
     "text": [
      "Epoch 6600 Train Loss 65898.2890625 Test Loss 60563.4140625\n"
     ]
    },
    {
     "name": "stderr",
     "output_type": "stream",
     "text": [
      " 34%|████████████▋                         | 6708/20000 [02:32<05:00, 44.23it/s]"
     ]
    },
    {
     "name": "stdout",
     "output_type": "stream",
     "text": [
      "Epoch 6700 Train Loss 94841.765625 Test Loss 121483.390625\n"
     ]
    },
    {
     "name": "stderr",
     "output_type": "stream",
     "text": [
      " 34%|████████████▉                         | 6808/20000 [02:34<04:59, 44.01it/s]"
     ]
    },
    {
     "name": "stdout",
     "output_type": "stream",
     "text": [
      "Epoch 6800 Train Loss 82260.40625 Test Loss 140623.78125\n"
     ]
    },
    {
     "name": "stderr",
     "output_type": "stream",
     "text": [
      " 35%|█████████████▏                        | 6908/20000 [02:37<04:57, 44.00it/s]"
     ]
    },
    {
     "name": "stdout",
     "output_type": "stream",
     "text": [
      "Epoch 6900 Train Loss 47983.15234375 Test Loss 110951.9609375\n"
     ]
    },
    {
     "name": "stderr",
     "output_type": "stream",
     "text": [
      " 35%|█████████████▎                        | 7008/20000 [02:39<05:01, 43.04it/s]"
     ]
    },
    {
     "name": "stdout",
     "output_type": "stream",
     "text": [
      "Epoch 7000 Train Loss 15153.5107421875 Test Loss 63433.8359375\n"
     ]
    },
    {
     "name": "stderr",
     "output_type": "stream",
     "text": [
      " 36%|█████████████▌                        | 7108/20000 [02:41<05:00, 42.95it/s]"
     ]
    },
    {
     "name": "stdout",
     "output_type": "stream",
     "text": [
      "Epoch 7100 Train Loss 4083.12646484375 Test Loss 22053.173828125\n"
     ]
    },
    {
     "name": "stderr",
     "output_type": "stream",
     "text": [
      " 36%|█████████████▋                        | 7208/20000 [02:44<05:00, 42.56it/s]"
     ]
    },
    {
     "name": "stdout",
     "output_type": "stream",
     "text": [
      "Epoch 7200 Train Loss 37594.1484375 Test Loss 9706.248046875\n"
     ]
    },
    {
     "name": "stderr",
     "output_type": "stream",
     "text": [
      " 37%|█████████████▉                        | 7308/20000 [02:46<04:56, 42.86it/s]"
     ]
    },
    {
     "name": "stdout",
     "output_type": "stream",
     "text": [
      "Epoch 7300 Train Loss 99251.0546875 Test Loss 42543.35546875\n"
     ]
    },
    {
     "name": "stderr",
     "output_type": "stream",
     "text": [
      " 37%|██████████████                        | 7408/20000 [02:48<04:49, 43.54it/s]"
     ]
    },
    {
     "name": "stdout",
     "output_type": "stream",
     "text": [
      "Epoch 7400 Train Loss 124093.9296875 Test Loss 85406.59375\n"
     ]
    },
    {
     "name": "stderr",
     "output_type": "stream",
     "text": [
      " 38%|██████████████▎                       | 7508/20000 [02:51<04:50, 43.03it/s]"
     ]
    },
    {
     "name": "stdout",
     "output_type": "stream",
     "text": [
      "Epoch 7500 Train Loss 96789.578125 Test Loss 88543.421875\n"
     ]
    },
    {
     "name": "stderr",
     "output_type": "stream",
     "text": [
      " 38%|██████████████▍                       | 7608/20000 [02:53<04:47, 43.03it/s]"
     ]
    },
    {
     "name": "stdout",
     "output_type": "stream",
     "text": [
      "Epoch 7600 Train Loss 50264.19140625 Test Loss 57955.16796875\n"
     ]
    },
    {
     "name": "stderr",
     "output_type": "stream",
     "text": [
      " 39%|██████████████▋                       | 7708/20000 [02:55<04:38, 44.06it/s]"
     ]
    },
    {
     "name": "stdout",
     "output_type": "stream",
     "text": [
      "Epoch 7700 Train Loss 11710.8349609375 Test Loss 22769.6875\n"
     ]
    },
    {
     "name": "stderr",
     "output_type": "stream",
     "text": [
      " 39%|██████████████▊                       | 7808/20000 [02:57<04:38, 43.81it/s]"
     ]
    },
    {
     "name": "stdout",
     "output_type": "stream",
     "text": [
      "Epoch 7800 Train Loss 5620.48486328125 Test Loss 5931.19189453125\n"
     ]
    },
    {
     "name": "stderr",
     "output_type": "stream",
     "text": [
      " 40%|███████████████                       | 7908/20000 [03:00<04:33, 44.21it/s]"
     ]
    },
    {
     "name": "stdout",
     "output_type": "stream",
     "text": [
      "Epoch 7900 Train Loss 42620.6953125 Test Loss 30149.064453125\n"
     ]
    },
    {
     "name": "stderr",
     "output_type": "stream",
     "text": [
      " 40%|███████████████▏                      | 8008/20000 [03:02<04:32, 44.03it/s]"
     ]
    },
    {
     "name": "stdout",
     "output_type": "stream",
     "text": [
      "Epoch 8000 Train Loss 86298.1796875 Test Loss 91427.8359375\n"
     ]
    },
    {
     "name": "stderr",
     "output_type": "stream",
     "text": [
      " 41%|███████████████▍                      | 8108/20000 [03:04<04:28, 44.29it/s]"
     ]
    },
    {
     "name": "stdout",
     "output_type": "stream",
     "text": [
      "Epoch 8100 Train Loss 94104.7421875 Test Loss 138743.3125\n"
     ]
    },
    {
     "name": "stderr",
     "output_type": "stream",
     "text": [
      " 41%|███████████████▌                      | 8208/20000 [03:07<04:33, 43.17it/s]"
     ]
    },
    {
     "name": "stdout",
     "output_type": "stream",
     "text": [
      "Epoch 8200 Train Loss 66654.328125 Test Loss 130887.046875\n"
     ]
    },
    {
     "name": "stderr",
     "output_type": "stream",
     "text": [
      " 42%|███████████████▊                      | 8308/20000 [03:09<04:24, 44.17it/s]"
     ]
    },
    {
     "name": "stdout",
     "output_type": "stream",
     "text": [
      "Epoch 8300 Train Loss 29870.51171875 Test Loss 87076.1796875\n"
     ]
    },
    {
     "name": "stderr",
     "output_type": "stream",
     "text": [
      " 42%|███████████████▉                      | 8408/20000 [03:11<04:30, 42.90it/s]"
     ]
    },
    {
     "name": "stdout",
     "output_type": "stream",
     "text": [
      "Epoch 8400 Train Loss 5119.97021484375 Test Loss 39398.05859375\n"
     ]
    },
    {
     "name": "stderr",
     "output_type": "stream",
     "text": [
      " 43%|████████████████▏                     | 8508/20000 [03:14<04:33, 42.02it/s]"
     ]
    },
    {
     "name": "stdout",
     "output_type": "stream",
     "text": [
      "Epoch 8500 Train Loss 15548.89453125 Test Loss 10520.736328125\n"
     ]
    },
    {
     "name": "stderr",
     "output_type": "stream",
     "text": [
      " 43%|████████████████▎                     | 8608/20000 [03:16<04:21, 43.60it/s]"
     ]
    },
    {
     "name": "stdout",
     "output_type": "stream",
     "text": [
      "Epoch 8600 Train Loss 70039.59375 Test Loss 22226.75\n"
     ]
    },
    {
     "name": "stderr",
     "output_type": "stream",
     "text": [
      " 44%|████████████████▌                     | 8708/20000 [03:18<04:18, 43.68it/s]"
     ]
    },
    {
     "name": "stdout",
     "output_type": "stream",
     "text": [
      "Epoch 8700 Train Loss 121282.1640625 Test Loss 68428.5546875\n"
     ]
    },
    {
     "name": "stderr",
     "output_type": "stream",
     "text": [
      " 44%|████████████████▋                     | 8808/20000 [03:20<04:21, 42.74it/s]"
     ]
    },
    {
     "name": "stdout",
     "output_type": "stream",
     "text": [
      "Epoch 8800 Train Loss 117477.515625 Test Loss 96481.625\n"
     ]
    },
    {
     "name": "stderr",
     "output_type": "stream",
     "text": [
      " 45%|████████████████▉                     | 8908/20000 [03:23<04:17, 43.06it/s]"
     ]
    },
    {
     "name": "stdout",
     "output_type": "stream",
     "text": [
      "Epoch 8900 Train Loss 71942.4609375 Test Loss 76913.09375\n"
     ]
    },
    {
     "name": "stderr",
     "output_type": "stream",
     "text": [
      " 45%|█████████████████                     | 9008/20000 [03:25<04:16, 42.79it/s]"
     ]
    },
    {
     "name": "stdout",
     "output_type": "stream",
     "text": [
      "Epoch 9000 Train Loss 23051.01171875 Test Loss 36695.7890625\n"
     ]
    },
    {
     "name": "stderr",
     "output_type": "stream",
     "text": [
      " 46%|█████████████████▎                    | 9108/20000 [03:27<04:08, 43.78it/s]"
     ]
    },
    {
     "name": "stdout",
     "output_type": "stream",
     "text": [
      "Epoch 9100 Train Loss 2855.70947265625 Test Loss 8197.23046875\n"
     ]
    },
    {
     "name": "stderr",
     "output_type": "stream",
     "text": [
      " 46%|█████████████████▍                    | 9208/20000 [03:30<04:05, 43.96it/s]"
     ]
    },
    {
     "name": "stdout",
     "output_type": "stream",
     "text": [
      "Epoch 9200 Train Loss 34937.00390625 Test Loss 22166.716796875\n"
     ]
    },
    {
     "name": "stderr",
     "output_type": "stream",
     "text": [
      " 47%|█████████████████▋                    | 9308/20000 [03:32<04:08, 43.09it/s]"
     ]
    },
    {
     "name": "stdout",
     "output_type": "stream",
     "text": [
      "Epoch 9300 Train Loss 85890.1015625 Test Loss 88057.1171875\n"
     ]
    },
    {
     "name": "stderr",
     "output_type": "stream",
     "text": [
      " 47%|█████████████████▉                    | 9408/20000 [03:34<04:02, 43.64it/s]"
     ]
    },
    {
     "name": "stdout",
     "output_type": "stream",
     "text": [
      "Epoch 9400 Train Loss 90125.8203125 Test Loss 135502.265625\n"
     ]
    },
    {
     "name": "stderr",
     "output_type": "stream",
     "text": [
      " 48%|██████████████████                    | 9508/20000 [03:37<04:02, 43.32it/s]"
     ]
    },
    {
     "name": "stdout",
     "output_type": "stream",
     "text": [
      "Epoch 9500 Train Loss 54049.12890625 Test Loss 113595.453125\n"
     ]
    },
    {
     "name": "stderr",
     "output_type": "stream",
     "text": [
      " 48%|██████████████████▎                   | 9608/20000 [03:39<03:59, 43.34it/s]"
     ]
    },
    {
     "name": "stdout",
     "output_type": "stream",
     "text": [
      "Epoch 9600 Train Loss 15918.5517578125 Test Loss 61859.046875\n"
     ]
    },
    {
     "name": "stderr",
     "output_type": "stream",
     "text": [
      " 49%|██████████████████▍                   | 9708/20000 [03:41<03:58, 43.24it/s]"
     ]
    },
    {
     "name": "stdout",
     "output_type": "stream",
     "text": [
      "Epoch 9700 Train Loss 3752.20849609375 Test Loss 17441.087890625\n"
     ]
    },
    {
     "name": "stderr",
     "output_type": "stream",
     "text": [
      " 49%|██████████████████▋                   | 9808/20000 [03:44<03:55, 43.21it/s]"
     ]
    },
    {
     "name": "stdout",
     "output_type": "stream",
     "text": [
      "Epoch 9800 Train Loss 44029.50390625 Test Loss 9966.6640625\n"
     ]
    },
    {
     "name": "stderr",
     "output_type": "stream",
     "text": [
      " 50%|██████████████████▊                   | 9908/20000 [03:46<03:50, 43.69it/s]"
     ]
    },
    {
     "name": "stdout",
     "output_type": "stream",
     "text": [
      "Epoch 9900 Train Loss 107064.9296875 Test Loss 51396.0078125\n"
     ]
    },
    {
     "name": "stderr",
     "output_type": "stream",
     "text": [
      " 50%|██████████████████▌                  | 10008/20000 [03:48<03:53, 42.88it/s]"
     ]
    },
    {
     "name": "stdout",
     "output_type": "stream",
     "text": [
      "Epoch 10000 Train Loss 120635.625 Test Loss 91761.578125\n"
     ]
    },
    {
     "name": "stderr",
     "output_type": "stream",
     "text": [
      " 51%|██████████████████▋                  | 10108/20000 [03:50<03:49, 43.11it/s]"
     ]
    },
    {
     "name": "stdout",
     "output_type": "stream",
     "text": [
      "Epoch 10100 Train Loss 82511.65625 Test Loss 83300.921875\n"
     ]
    },
    {
     "name": "stderr",
     "output_type": "stream",
     "text": [
      " 51%|██████████████████▉                  | 10208/20000 [03:53<03:46, 43.24it/s]"
     ]
    },
    {
     "name": "stdout",
     "output_type": "stream",
     "text": [
      "Epoch 10200 Train Loss 33762.63671875 Test Loss 46527.171875\n"
     ]
    },
    {
     "name": "stderr",
     "output_type": "stream",
     "text": [
      " 52%|███████████████████                  | 10308/20000 [03:55<03:43, 43.36it/s]"
     ]
    },
    {
     "name": "stdout",
     "output_type": "stream",
     "text": [
      "Epoch 10300 Train Loss 3540.907958984375 Test Loss 13516.7314453125\n"
     ]
    },
    {
     "name": "stderr",
     "output_type": "stream",
     "text": [
      " 52%|███████████████████▎                 | 10408/20000 [03:57<03:41, 43.33it/s]"
     ]
    },
    {
     "name": "stdout",
     "output_type": "stream",
     "text": [
      "Epoch 10400 Train Loss 19493.419921875 Test Loss 11930.859375\n"
     ]
    },
    {
     "name": "stderr",
     "output_type": "stream",
     "text": [
      " 53%|███████████████████▍                 | 10508/20000 [04:00<03:37, 43.70it/s]"
     ]
    },
    {
     "name": "stdout",
     "output_type": "stream",
     "text": [
      "Epoch 10500 Train Loss 69774.7890625 Test Loss 61101.20703125\n"
     ]
    },
    {
     "name": "stderr",
     "output_type": "stream",
     "text": [
      " 53%|███████████████████▌                 | 10608/20000 [04:02<03:45, 41.63it/s]"
     ]
    },
    {
     "name": "stdout",
     "output_type": "stream",
     "text": [
      "Epoch 10600 Train Loss 95065.609375 Test Loss 120963.40625\n"
     ]
    },
    {
     "name": "stderr",
     "output_type": "stream",
     "text": [
      " 54%|███████████████████▊                 | 10708/20000 [04:05<03:42, 41.82it/s]"
     ]
    },
    {
     "name": "stdout",
     "output_type": "stream",
     "text": [
      "Epoch 10700 Train Loss 78454.4296875 Test Loss 135640.171875\n"
     ]
    },
    {
     "name": "stderr",
     "output_type": "stream",
     "text": [
      " 54%|███████████████████▉                 | 10808/20000 [04:07<03:37, 42.32it/s]"
     ]
    },
    {
     "name": "stdout",
     "output_type": "stream",
     "text": [
      "Epoch 10800 Train Loss 40994.0859375 Test Loss 99698.578125\n"
     ]
    },
    {
     "name": "stderr",
     "output_type": "stream",
     "text": [
      " 55%|████████████████████▏                | 10908/20000 [04:09<03:40, 41.23it/s]"
     ]
    },
    {
     "name": "stdout",
     "output_type": "stream",
     "text": [
      "Epoch 10900 Train Loss 8616.8046875 Test Loss 48959.96875\n"
     ]
    },
    {
     "name": "stderr",
     "output_type": "stream",
     "text": [
      " 55%|████████████████████▎                | 11006/20000 [04:12<03:49, 39.17it/s]"
     ]
    },
    {
     "name": "stdout",
     "output_type": "stream",
     "text": [
      "Epoch 11000 Train Loss 8807.2314453125 Test Loss 12978.544921875\n"
     ]
    },
    {
     "name": "stderr",
     "output_type": "stream",
     "text": [
      " 56%|████████████████████▌                | 11107/20000 [04:14<03:37, 40.98it/s]"
     ]
    },
    {
     "name": "stdout",
     "output_type": "stream",
     "text": [
      "Epoch 11100 Train Loss 61695.89453125 Test Loss 18177.30078125\n"
     ]
    },
    {
     "name": "stderr",
     "output_type": "stream",
     "text": [
      " 56%|████████████████████▋                | 11207/20000 [04:17<03:33, 41.21it/s]"
     ]
    },
    {
     "name": "stdout",
     "output_type": "stream",
     "text": [
      "Epoch 11200 Train Loss 115514.9609375 Test Loss 62066.6171875\n"
     ]
    },
    {
     "name": "stderr",
     "output_type": "stream",
     "text": [
      " 57%|████████████████████▉                | 11307/20000 [04:19<03:29, 41.58it/s]"
     ]
    },
    {
     "name": "stdout",
     "output_type": "stream",
     "text": [
      "Epoch 11300 Train Loss 117749.390625 Test Loss 92078.140625\n"
     ]
    },
    {
     "name": "stderr",
     "output_type": "stream",
     "text": [
      " 57%|█████████████████████                | 11407/20000 [04:22<03:25, 41.73it/s]"
     ]
    },
    {
     "name": "stdout",
     "output_type": "stream",
     "text": [
      "Epoch 11400 Train Loss 82100.5 Test Loss 82600.484375\n"
     ]
    },
    {
     "name": "stderr",
     "output_type": "stream",
     "text": [
      " 58%|█████████████████████▎               | 11507/20000 [04:24<03:26, 41.15it/s]"
     ]
    },
    {
     "name": "stdout",
     "output_type": "stream",
     "text": [
      "Epoch 11500 Train Loss 38255.04296875 Test Loss 50120.59765625\n"
     ]
    },
    {
     "name": "stderr",
     "output_type": "stream",
     "text": [
      " 58%|█████████████████████▍               | 11607/20000 [04:27<03:17, 42.45it/s]"
     ]
    },
    {
     "name": "stdout",
     "output_type": "stream",
     "text": [
      "Epoch 11600 Train Loss 8404.90625 Test Loss 20921.482421875\n"
     ]
    },
    {
     "name": "stderr",
     "output_type": "stream",
     "text": [
      " 59%|█████████████████████▋               | 11707/20000 [04:29<03:14, 42.65it/s]"
     ]
    },
    {
     "name": "stdout",
     "output_type": "stream",
     "text": [
      "Epoch 11700 Train Loss 5414.1845703125 Test Loss 6468.47509765625\n"
     ]
    },
    {
     "name": "stderr",
     "output_type": "stream",
     "text": [
      " 59%|█████████████████████▊               | 11807/20000 [04:31<03:12, 42.50it/s]"
     ]
    },
    {
     "name": "stdout",
     "output_type": "stream",
     "text": [
      "Epoch 11800 Train Loss 37568.4296875 Test Loss 23694.783203125\n"
     ]
    },
    {
     "name": "stderr",
     "output_type": "stream",
     "text": [
      " 60%|██████████████████████               | 11907/20000 [04:34<03:11, 42.36it/s]"
     ]
    },
    {
     "name": "stdout",
     "output_type": "stream",
     "text": [
      "Epoch 11900 Train Loss 82845.359375 Test Loss 77690.1484375\n"
     ]
    },
    {
     "name": "stderr",
     "output_type": "stream",
     "text": [
      " 60%|██████████████████████▏              | 12007/20000 [04:36<03:07, 42.63it/s]"
     ]
    },
    {
     "name": "stdout",
     "output_type": "stream",
     "text": [
      "Epoch 12000 Train Loss 99256.1796875 Test Loss 128237.8125\n"
     ]
    },
    {
     "name": "stderr",
     "output_type": "stream",
     "text": [
      " 61%|██████████████████████▍              | 12107/20000 [04:38<03:05, 42.62it/s]"
     ]
    },
    {
     "name": "stdout",
     "output_type": "stream",
     "text": [
      "Epoch 12100 Train Loss 81527.109375 Test Loss 135293.71875\n"
     ]
    },
    {
     "name": "stderr",
     "output_type": "stream",
     "text": [
      " 61%|██████████████████████▌              | 12205/20000 [04:41<03:26, 37.66it/s]"
     ]
    },
    {
     "name": "stdout",
     "output_type": "stream",
     "text": [
      "Epoch 12200 Train Loss 49708.80859375 Test Loss 108105.8125\n"
     ]
    },
    {
     "name": "stderr",
     "output_type": "stream",
     "text": [
      " 62%|██████████████████████▊              | 12309/20000 [04:43<03:03, 41.87it/s]"
     ]
    },
    {
     "name": "stdout",
     "output_type": "stream",
     "text": [
      "Epoch 12300 Train Loss 19992.787109375 Test Loss 68750.2265625\n"
     ]
    },
    {
     "name": "stderr",
     "output_type": "stream",
     "text": [
      " 62%|██████████████████████▉              | 12406/20000 [04:46<03:03, 41.40it/s]"
     ]
    },
    {
     "name": "stdout",
     "output_type": "stream",
     "text": [
      "Epoch 12400 Train Loss 2835.126953125 Test Loss 32026.587890625\n"
     ]
    },
    {
     "name": "stderr",
     "output_type": "stream",
     "text": [
      " 63%|███████████████████████▏             | 12506/20000 [04:48<02:55, 42.68it/s]"
     ]
    },
    {
     "name": "stdout",
     "output_type": "stream",
     "text": [
      "Epoch 12500 Train Loss 9490.4306640625 Test Loss 10016.712890625\n"
     ]
    },
    {
     "name": "stderr",
     "output_type": "stream",
     "text": [
      " 63%|███████████████████████▎             | 12606/20000 [04:50<02:54, 42.38it/s]"
     ]
    },
    {
     "name": "stdout",
     "output_type": "stream",
     "text": [
      "Epoch 12600 Train Loss 41656.0625 Test Loss 8650.5869140625\n"
     ]
    },
    {
     "name": "stderr",
     "output_type": "stream",
     "text": [
      " 64%|███████████████████████▌             | 12705/20000 [04:53<02:56, 41.22it/s]"
     ]
    },
    {
     "name": "stdout",
     "output_type": "stream",
     "text": [
      "Epoch 12700 Train Loss 87758.578125 Test Loss 30352.61328125\n"
     ]
    },
    {
     "name": "stderr",
     "output_type": "stream",
     "text": [
      " 64%|███████████████████████▋             | 12805/20000 [04:55<02:50, 42.22it/s]"
     ]
    },
    {
     "name": "stdout",
     "output_type": "stream",
     "text": [
      "Epoch 12800 Train Loss 125194.7890625 Test Loss 66152.1015625\n"
     ]
    },
    {
     "name": "stderr",
     "output_type": "stream",
     "text": [
      " 65%|███████████████████████▊             | 12905/20000 [04:58<02:47, 42.28it/s]"
     ]
    },
    {
     "name": "stdout",
     "output_type": "stream",
     "text": [
      "Epoch 12900 Train Loss 137919.109375 Test Loss 99350.296875\n"
     ]
    },
    {
     "name": "stderr",
     "output_type": "stream",
     "text": [
      " 65%|████████████████████████             | 13005/20000 [05:00<02:44, 42.43it/s]"
     ]
    },
    {
     "name": "stdout",
     "output_type": "stream",
     "text": [
      "Epoch 13000 Train Loss 118253.96875 Test Loss 105851.78125\n"
     ]
    },
    {
     "name": "stderr",
     "output_type": "stream",
     "text": [
      " 66%|████████████████████████▏            | 13105/20000 [05:02<02:46, 41.51it/s]"
     ]
    },
    {
     "name": "stdout",
     "output_type": "stream",
     "text": [
      "Epoch 13100 Train Loss 68539.4140625 Test Loss 77317.171875\n"
     ]
    },
    {
     "name": "stderr",
     "output_type": "stream",
     "text": [
      " 66%|████████████████████████▍            | 13207/20000 [05:05<02:43, 41.67it/s]"
     ]
    },
    {
     "name": "stdout",
     "output_type": "stream",
     "text": [
      "Epoch 13200 Train Loss 14705.2041015625 Test Loss 29590.603515625\n"
     ]
    },
    {
     "name": "stderr",
     "output_type": "stream",
     "text": [
      " 67%|████████████████████████▌            | 13307/20000 [05:07<02:43, 41.04it/s]"
     ]
    },
    {
     "name": "stdout",
     "output_type": "stream",
     "text": [
      "Epoch 13300 Train Loss 14274.7255859375 Test Loss 7640.48828125\n"
     ]
    },
    {
     "name": "stderr",
     "output_type": "stream",
     "text": [
      " 67%|████████████████████████▊            | 13407/20000 [05:10<02:34, 42.81it/s]"
     ]
    },
    {
     "name": "stdout",
     "output_type": "stream",
     "text": [
      "Epoch 13400 Train Loss 79247.75 Test Loss 66842.515625\n"
     ]
    },
    {
     "name": "stderr",
     "output_type": "stream",
     "text": [
      " 68%|████████████████████████▉            | 13507/20000 [05:12<02:37, 41.26it/s]"
     ]
    },
    {
     "name": "stdout",
     "output_type": "stream",
     "text": [
      "Epoch 13500 Train Loss 97184.7890625 Test Loss 138111.25\n"
     ]
    },
    {
     "name": "stderr",
     "output_type": "stream",
     "text": [
      " 68%|█████████████████████████▏           | 13607/20000 [05:14<02:30, 42.48it/s]"
     ]
    },
    {
     "name": "stdout",
     "output_type": "stream",
     "text": [
      "Epoch 13600 Train Loss 52568.43359375 Test Loss 108853.984375\n"
     ]
    },
    {
     "name": "stderr",
     "output_type": "stream",
     "text": [
      " 69%|█████████████████████████▎           | 13707/20000 [05:17<02:28, 42.47it/s]"
     ]
    },
    {
     "name": "stdout",
     "output_type": "stream",
     "text": [
      "Epoch 13700 Train Loss 8091.6787109375 Test Loss 45546.2109375\n"
     ]
    },
    {
     "name": "stderr",
     "output_type": "stream",
     "text": [
      " 69%|█████████████████████████▌           | 13807/20000 [05:19<02:26, 42.17it/s]"
     ]
    },
    {
     "name": "stdout",
     "output_type": "stream",
     "text": [
      "Epoch 13800 Train Loss 9067.482421875 Test Loss 6436.62744140625\n"
     ]
    },
    {
     "name": "stderr",
     "output_type": "stream",
     "text": [
      " 70%|█████████████████████████▋           | 13907/20000 [05:21<02:25, 41.93it/s]"
     ]
    },
    {
     "name": "stdout",
     "output_type": "stream",
     "text": [
      "Epoch 13900 Train Loss 64657.08203125 Test Loss 14342.9931640625\n"
     ]
    },
    {
     "name": "stderr",
     "output_type": "stream",
     "text": [
      " 70%|█████████████████████████▉           | 14007/20000 [05:24<02:21, 42.30it/s]"
     ]
    },
    {
     "name": "stdout",
     "output_type": "stream",
     "text": [
      "Epoch 14000 Train Loss 123137.640625 Test Loss 65434.140625\n"
     ]
    },
    {
     "name": "stderr",
     "output_type": "stream",
     "text": [
      " 71%|██████████████████████████           | 14107/20000 [05:26<02:33, 38.34it/s]"
     ]
    },
    {
     "name": "stdout",
     "output_type": "stream",
     "text": [
      "Epoch 14100 Train Loss 115763.015625 Test Loss 92726.53125\n"
     ]
    },
    {
     "name": "stderr",
     "output_type": "stream",
     "text": [
      " 71%|██████████████████████████▎          | 14207/20000 [05:29<02:17, 42.22it/s]"
     ]
    },
    {
     "name": "stdout",
     "output_type": "stream",
     "text": [
      "Epoch 14200 Train Loss 73213.625 Test Loss 74642.796875\n"
     ]
    },
    {
     "name": "stderr",
     "output_type": "stream",
     "text": [
      " 72%|██████████████████████████▍          | 14307/20000 [05:31<02:15, 42.11it/s]"
     ]
    },
    {
     "name": "stdout",
     "output_type": "stream",
     "text": [
      "Epoch 14300 Train Loss 29464.916015625 Test Loss 39612.69921875\n"
     ]
    },
    {
     "name": "stderr",
     "output_type": "stream",
     "text": [
      " 72%|██████████████████████████▋          | 14407/20000 [05:33<02:15, 41.34it/s]"
     ]
    },
    {
     "name": "stdout",
     "output_type": "stream",
     "text": [
      "Epoch 14400 Train Loss 1467.1163330078125 Test Loss 7173.216796875\n"
     ]
    },
    {
     "name": "stderr",
     "output_type": "stream",
     "text": [
      " 73%|██████████████████████████▊          | 14507/20000 [05:36<02:16, 40.15it/s]"
     ]
    },
    {
     "name": "stdout",
     "output_type": "stream",
     "text": [
      "Epoch 14500 Train Loss 23764.728515625 Test Loss 9284.849609375\n"
     ]
    },
    {
     "name": "stderr",
     "output_type": "stream",
     "text": [
      " 73%|███████████████████████████          | 14607/20000 [05:38<02:09, 41.75it/s]"
     ]
    },
    {
     "name": "stdout",
     "output_type": "stream",
     "text": [
      "Epoch 14600 Train Loss 78884.2109375 Test Loss 66934.46875\n"
     ]
    },
    {
     "name": "stderr",
     "output_type": "stream",
     "text": [
      " 74%|███████████████████████████▏         | 14707/20000 [05:41<02:04, 42.46it/s]"
     ]
    },
    {
     "name": "stdout",
     "output_type": "stream",
     "text": [
      "Epoch 14700 Train Loss 94289.5625 Test Loss 126298.3984375\n"
     ]
    },
    {
     "name": "stderr",
     "output_type": "stream",
     "text": [
      " 74%|███████████████████████████▍         | 14807/20000 [05:43<02:01, 42.75it/s]"
     ]
    },
    {
     "name": "stdout",
     "output_type": "stream",
     "text": [
      "Epoch 14800 Train Loss 52510.296875 Test Loss 104003.3359375\n"
     ]
    },
    {
     "name": "stderr",
     "output_type": "stream",
     "text": [
      " 75%|███████████████████████████▌         | 14907/20000 [05:45<01:59, 42.55it/s]"
     ]
    },
    {
     "name": "stdout",
     "output_type": "stream",
     "text": [
      "Epoch 14900 Train Loss 8104.15380859375 Test Loss 41871.14453125\n"
     ]
    },
    {
     "name": "stderr",
     "output_type": "stream",
     "text": [
      " 75%|███████████████████████████▊         | 15007/20000 [05:48<01:56, 42.84it/s]"
     ]
    },
    {
     "name": "stdout",
     "output_type": "stream",
     "text": [
      "Epoch 15000 Train Loss 17361.828125 Test Loss 1374.735107421875\n"
     ]
    },
    {
     "name": "stderr",
     "output_type": "stream",
     "text": [
      " 76%|███████████████████████████▉         | 15107/20000 [05:50<01:55, 42.44it/s]"
     ]
    },
    {
     "name": "stdout",
     "output_type": "stream",
     "text": [
      "Epoch 15100 Train Loss 97000.3359375 Test Loss 41012.38671875\n"
     ]
    },
    {
     "name": "stderr",
     "output_type": "stream",
     "text": [
      " 76%|████████████████████████████▏        | 15207/20000 [05:52<01:54, 41.83it/s]"
     ]
    },
    {
     "name": "stdout",
     "output_type": "stream",
     "text": [
      "Epoch 15200 Train Loss 108244.1953125 Test Loss 86211.8515625\n"
     ]
    },
    {
     "name": "stderr",
     "output_type": "stream",
     "text": [
      " 77%|████████████████████████████▎        | 15307/20000 [05:55<01:50, 42.37it/s]"
     ]
    },
    {
     "name": "stdout",
     "output_type": "stream",
     "text": [
      "Epoch 15300 Train Loss 44993.7890625 Test Loss 52629.890625\n"
     ]
    },
    {
     "name": "stderr",
     "output_type": "stream",
     "text": [
      " 77%|████████████████████████████▌        | 15407/20000 [05:57<01:47, 42.54it/s]"
     ]
    },
    {
     "name": "stdout",
     "output_type": "stream",
     "text": [
      "Epoch 15400 Train Loss 687.109619140625 Test Loss 4869.22119140625\n"
     ]
    },
    {
     "name": "stderr",
     "output_type": "stream",
     "text": [
      " 78%|████████████████████████████▋        | 15507/20000 [05:59<01:45, 42.68it/s]"
     ]
    },
    {
     "name": "stdout",
     "output_type": "stream",
     "text": [
      "Epoch 15500 Train Loss 34964.65234375 Test Loss 18614.9375\n"
     ]
    },
    {
     "name": "stderr",
     "output_type": "stream",
     "text": [
      " 78%|████████████████████████████▊        | 15607/20000 [06:02<01:43, 42.56it/s]"
     ]
    },
    {
     "name": "stdout",
     "output_type": "stream",
     "text": [
      "Epoch 15600 Train Loss 81688.7890625 Test Loss 92500.34375\n"
     ]
    },
    {
     "name": "stderr",
     "output_type": "stream",
     "text": [
      " 79%|█████████████████████████████        | 15707/20000 [06:04<01:40, 42.75it/s]"
     ]
    },
    {
     "name": "stdout",
     "output_type": "stream",
     "text": [
      "Epoch 15700 Train Loss 64784.80859375 Test Loss 107662.5\n"
     ]
    },
    {
     "name": "stderr",
     "output_type": "stream",
     "text": [
      " 79%|█████████████████████████████▏       | 15807/20000 [06:06<01:39, 42.34it/s]"
     ]
    },
    {
     "name": "stdout",
     "output_type": "stream",
     "text": [
      "Epoch 15800 Train Loss 31751.91796875 Test Loss 75308.7265625\n"
     ]
    },
    {
     "name": "stderr",
     "output_type": "stream",
     "text": [
      " 80%|█████████████████████████████▍       | 15907/20000 [06:09<01:35, 42.66it/s]"
     ]
    },
    {
     "name": "stdout",
     "output_type": "stream",
     "text": [
      "Epoch 15900 Train Loss 8878.8623046875 Test Loss 41177.28125\n"
     ]
    },
    {
     "name": "stderr",
     "output_type": "stream",
     "text": [
      " 80%|█████████████████████████████▌       | 16007/20000 [06:11<01:34, 42.15it/s]"
     ]
    },
    {
     "name": "stdout",
     "output_type": "stream",
     "text": [
      "Epoch 16000 Train Loss 1375.083984375 Test Loss 11074.25\n"
     ]
    },
    {
     "name": "stderr",
     "output_type": "stream",
     "text": [
      " 81%|█████████████████████████████▊       | 16107/20000 [06:14<01:31, 42.37it/s]"
     ]
    },
    {
     "name": "stdout",
     "output_type": "stream",
     "text": [
      "Epoch 16100 Train Loss 29064.822265625 Test Loss 1784.7398681640625\n"
     ]
    },
    {
     "name": "stderr",
     "output_type": "stream",
     "text": [
      " 81%|█████████████████████████████▉       | 16207/20000 [06:16<01:29, 42.56it/s]"
     ]
    },
    {
     "name": "stdout",
     "output_type": "stream",
     "text": [
      "Epoch 16200 Train Loss 74212.5 Test Loss 23840.779296875\n"
     ]
    },
    {
     "name": "stderr",
     "output_type": "stream",
     "text": [
      " 82%|██████████████████████████████▏      | 16307/20000 [06:18<01:28, 41.89it/s]"
     ]
    },
    {
     "name": "stdout",
     "output_type": "stream",
     "text": [
      "Epoch 16300 Train Loss 107518.3203125 Test Loss 63730.2109375\n"
     ]
    },
    {
     "name": "stderr",
     "output_type": "stream",
     "text": [
      " 82%|██████████████████████████████▎      | 16407/20000 [06:21<01:25, 41.98it/s]"
     ]
    },
    {
     "name": "stdout",
     "output_type": "stream",
     "text": [
      "Epoch 16400 Train Loss 99254.4140625 Test Loss 80889.96875\n"
     ]
    },
    {
     "name": "stderr",
     "output_type": "stream",
     "text": [
      " 83%|██████████████████████████████▌      | 16507/20000 [06:23<01:23, 41.92it/s]"
     ]
    },
    {
     "name": "stdout",
     "output_type": "stream",
     "text": [
      "Epoch 16500 Train Loss 71977.4296875 Test Loss 71711.7421875\n"
     ]
    },
    {
     "name": "stderr",
     "output_type": "stream",
     "text": [
      " 83%|██████████████████████████████▋      | 16607/20000 [06:25<01:21, 41.64it/s]"
     ]
    },
    {
     "name": "stdout",
     "output_type": "stream",
     "text": [
      "Epoch 16600 Train Loss 33949.2734375 Test Loss 42745.41015625\n"
     ]
    },
    {
     "name": "stderr",
     "output_type": "stream",
     "text": [
      " 84%|██████████████████████████████▉      | 16707/20000 [06:28<01:18, 42.03it/s]"
     ]
    },
    {
     "name": "stdout",
     "output_type": "stream",
     "text": [
      "Epoch 16700 Train Loss 4245.62158203125 Test Loss 11799.2060546875\n"
     ]
    },
    {
     "name": "stderr",
     "output_type": "stream",
     "text": [
      " 84%|███████████████████████████████      | 16807/20000 [06:30<01:16, 41.83it/s]"
     ]
    },
    {
     "name": "stdout",
     "output_type": "stream",
     "text": [
      "Epoch 16800 Train Loss 10980.595703125 Test Loss 2131.17529296875\n"
     ]
    },
    {
     "name": "stderr",
     "output_type": "stream",
     "text": [
      " 85%|███████████████████████████████▎     | 16907/20000 [06:33<01:13, 42.19it/s]"
     ]
    },
    {
     "name": "stdout",
     "output_type": "stream",
     "text": [
      "Epoch 16900 Train Loss 38820.91796875 Test Loss 21073.529296875\n"
     ]
    },
    {
     "name": "stderr",
     "output_type": "stream",
     "text": [
      " 85%|███████████████████████████████▍     | 17007/20000 [06:35<01:11, 41.96it/s]"
     ]
    },
    {
     "name": "stdout",
     "output_type": "stream",
     "text": [
      "Epoch 17000 Train Loss 76679.1484375 Test Loss 73672.140625\n"
     ]
    },
    {
     "name": "stderr",
     "output_type": "stream",
     "text": [
      " 86%|███████████████████████████████▋     | 17107/20000 [06:37<01:09, 41.87it/s]"
     ]
    },
    {
     "name": "stdout",
     "output_type": "stream",
     "text": [
      "Epoch 17100 Train Loss 84168.3203125 Test Loss 117509.375\n"
     ]
    },
    {
     "name": "stderr",
     "output_type": "stream",
     "text": [
      " 86%|███████████████████████████████▊     | 17207/20000 [06:40<01:06, 41.72it/s]"
     ]
    },
    {
     "name": "stdout",
     "output_type": "stream",
     "text": [
      "Epoch 17200 Train Loss 70250.3984375 Test Loss 115586.2578125\n"
     ]
    },
    {
     "name": "stderr",
     "output_type": "stream",
     "text": [
      " 87%|████████████████████████████████     | 17307/20000 [06:42<01:03, 42.56it/s]"
     ]
    },
    {
     "name": "stdout",
     "output_type": "stream",
     "text": [
      "Epoch 17300 Train Loss 46756.34765625 Test Loss 94403.4375\n"
     ]
    },
    {
     "name": "stderr",
     "output_type": "stream",
     "text": [
      " 87%|████████████████████████████████▏    | 17407/20000 [06:44<01:00, 42.62it/s]"
     ]
    },
    {
     "name": "stdout",
     "output_type": "stream",
     "text": [
      "Epoch 17400 Train Loss 24706.435546875 Test Loss 65816.0546875\n"
     ]
    },
    {
     "name": "stderr",
     "output_type": "stream",
     "text": [
      " 88%|████████████████████████████████▍    | 17507/20000 [06:47<00:58, 42.57it/s]"
     ]
    },
    {
     "name": "stdout",
     "output_type": "stream",
     "text": [
      "Epoch 17500 Train Loss 7576.4111328125 Test Loss 37432.84765625\n"
     ]
    },
    {
     "name": "stderr",
     "output_type": "stream",
     "text": [
      " 88%|████████████████████████████████▌    | 17607/20000 [06:49<00:56, 42.44it/s]"
     ]
    },
    {
     "name": "stdout",
     "output_type": "stream",
     "text": [
      "Epoch 17600 Train Loss 3345.525390625 Test Loss 7928.58642578125\n"
     ]
    },
    {
     "name": "stderr",
     "output_type": "stream",
     "text": [
      " 89%|████████████████████████████████▊    | 17707/20000 [06:52<00:54, 42.05it/s]"
     ]
    },
    {
     "name": "stdout",
     "output_type": "stream",
     "text": [
      "Epoch 17700 Train Loss 43709.2421875 Test Loss 6169.73388671875\n"
     ]
    },
    {
     "name": "stderr",
     "output_type": "stream",
     "text": [
      " 89%|████████████████████████████████▉    | 17807/20000 [06:54<00:52, 41.80it/s]"
     ]
    },
    {
     "name": "stdout",
     "output_type": "stream",
     "text": [
      "Epoch 17800 Train Loss 94708.671875 Test Loss 38162.04296875\n"
     ]
    },
    {
     "name": "stderr",
     "output_type": "stream",
     "text": [
      " 90%|█████████████████████████████████▏   | 17907/20000 [06:56<00:49, 41.93it/s]"
     ]
    },
    {
     "name": "stdout",
     "output_type": "stream",
     "text": [
      "Epoch 17900 Train Loss 111651.9921875 Test Loss 59744.38671875\n"
     ]
    },
    {
     "name": "stderr",
     "output_type": "stream",
     "text": [
      " 90%|█████████████████████████████████▎   | 18007/20000 [06:59<00:47, 41.76it/s]"
     ]
    },
    {
     "name": "stdout",
     "output_type": "stream",
     "text": [
      "Epoch 18000 Train Loss 114203.09375 Test Loss 77010.4921875\n"
     ]
    },
    {
     "name": "stderr",
     "output_type": "stream",
     "text": [
      " 91%|█████████████████████████████████▍   | 18107/20000 [07:01<00:45, 41.99it/s]"
     ]
    },
    {
     "name": "stdout",
     "output_type": "stream",
     "text": [
      "Epoch 18100 Train Loss 96097.125 Test Loss 84125.640625\n"
     ]
    },
    {
     "name": "stderr",
     "output_type": "stream",
     "text": [
      " 91%|█████████████████████████████████▋   | 18207/20000 [07:03<00:42, 42.53it/s]"
     ]
    },
    {
     "name": "stdout",
     "output_type": "stream",
     "text": [
      "Epoch 18200 Train Loss 60616.92578125 Test Loss 64416.55859375\n"
     ]
    },
    {
     "name": "stderr",
     "output_type": "stream",
     "text": [
      " 92%|█████████████████████████████████▊   | 18307/20000 [07:06<00:40, 42.18it/s]"
     ]
    },
    {
     "name": "stdout",
     "output_type": "stream",
     "text": [
      "Epoch 18300 Train Loss 19155.98828125 Test Loss 29257.609375\n"
     ]
    },
    {
     "name": "stderr",
     "output_type": "stream",
     "text": [
      " 92%|██████████████████████████████████   | 18409/20000 [07:08<00:37, 42.44it/s]"
     ]
    },
    {
     "name": "stdout",
     "output_type": "stream",
     "text": [
      "Epoch 18400 Train Loss 1468.4473876953125 Test Loss 3145.30078125\n"
     ]
    },
    {
     "name": "stderr",
     "output_type": "stream",
     "text": [
      " 93%|██████████████████████████████████▏  | 18509/20000 [07:11<00:34, 42.71it/s]"
     ]
    },
    {
     "name": "stdout",
     "output_type": "stream",
     "text": [
      "Epoch 18500 Train Loss 31249.4296875 Test Loss 15459.5869140625\n"
     ]
    },
    {
     "name": "stderr",
     "output_type": "stream",
     "text": [
      " 93%|██████████████████████████████████▍  | 18609/20000 [07:13<00:32, 42.65it/s]"
     ]
    },
    {
     "name": "stdout",
     "output_type": "stream",
     "text": [
      "Epoch 18600 Train Loss 72023.7109375 Test Loss 65986.0859375\n"
     ]
    },
    {
     "name": "stderr",
     "output_type": "stream",
     "text": [
      " 94%|██████████████████████████████████▌  | 18709/20000 [07:15<00:30, 42.88it/s]"
     ]
    },
    {
     "name": "stdout",
     "output_type": "stream",
     "text": [
      "Epoch 18700 Train Loss 83116.34375 Test Loss 112432.890625\n"
     ]
    },
    {
     "name": "stderr",
     "output_type": "stream",
     "text": [
      " 94%|██████████████████████████████████▊  | 18805/20000 [07:18<00:30, 39.20it/s]"
     ]
    },
    {
     "name": "stdout",
     "output_type": "stream",
     "text": [
      "Epoch 18800 Train Loss 56485.37890625 Test Loss 103437.7421875\n"
     ]
    },
    {
     "name": "stderr",
     "output_type": "stream",
     "text": [
      " 95%|██████████████████████████████████▉  | 18905/20000 [07:20<00:25, 42.57it/s]"
     ]
    },
    {
     "name": "stdout",
     "output_type": "stream",
     "text": [
      "Epoch 18900 Train Loss 22839.03515625 Test Loss 64043.81640625\n"
     ]
    },
    {
     "name": "stderr",
     "output_type": "stream",
     "text": [
      " 95%|███████████████████████████████████▏ | 19005/20000 [07:22<00:23, 42.68it/s]"
     ]
    },
    {
     "name": "stdout",
     "output_type": "stream",
     "text": [
      "Epoch 19000 Train Loss 2500.428466796875 Test Loss 25513.91015625\n"
     ]
    },
    {
     "name": "stderr",
     "output_type": "stream",
     "text": [
      " 96%|███████████████████████████████████▎ | 19105/20000 [07:25<00:20, 42.80it/s]"
     ]
    },
    {
     "name": "stdout",
     "output_type": "stream",
     "text": [
      "Epoch 19100 Train Loss 10871.5380859375 Test Loss 3195.1298828125\n"
     ]
    },
    {
     "name": "stderr",
     "output_type": "stream",
     "text": [
      " 96%|███████████████████████████████████▌ | 19205/20000 [07:27<00:18, 42.64it/s]"
     ]
    },
    {
     "name": "stdout",
     "output_type": "stream",
     "text": [
      "Epoch 19200 Train Loss 43008.3671875 Test Loss 5286.5087890625\n"
     ]
    },
    {
     "name": "stderr",
     "output_type": "stream",
     "text": [
      " 97%|███████████████████████████████████▋ | 19305/20000 [07:29<00:16, 42.64it/s]"
     ]
    },
    {
     "name": "stdout",
     "output_type": "stream",
     "text": [
      "Epoch 19300 Train Loss 23893.25 Test Loss 1701.3975830078125\n"
     ]
    },
    {
     "name": "stderr",
     "output_type": "stream",
     "text": [
      " 97%|███████████████████████████████████▉ | 19405/20000 [07:32<00:13, 42.65it/s]"
     ]
    },
    {
     "name": "stdout",
     "output_type": "stream",
     "text": [
      "Epoch 19400 Train Loss 8097.82421875 Test Loss 5503.3173828125\n"
     ]
    },
    {
     "name": "stderr",
     "output_type": "stream",
     "text": [
      " 98%|████████████████████████████████████ | 19505/20000 [07:34<00:11, 42.67it/s]"
     ]
    },
    {
     "name": "stdout",
     "output_type": "stream",
     "text": [
      "Epoch 19500 Train Loss 7640.89453125 Test Loss 5525.5888671875\n"
     ]
    },
    {
     "name": "stderr",
     "output_type": "stream",
     "text": [
      " 98%|████████████████████████████████████▎| 19605/20000 [07:36<00:09, 42.67it/s]"
     ]
    },
    {
     "name": "stdout",
     "output_type": "stream",
     "text": [
      "Epoch 19600 Train Loss 11164.3701171875 Test Loss 3565.3583984375\n"
     ]
    },
    {
     "name": "stderr",
     "output_type": "stream",
     "text": [
      " 99%|████████████████████████████████████▍| 19705/20000 [07:39<00:06, 42.58it/s]"
     ]
    },
    {
     "name": "stdout",
     "output_type": "stream",
     "text": [
      "Epoch 19700 Train Loss 18185.525390625 Test Loss 1984.6920166015625\n"
     ]
    },
    {
     "name": "stderr",
     "output_type": "stream",
     "text": [
      " 99%|████████████████████████████████████▋| 19805/20000 [07:41<00:04, 42.57it/s]"
     ]
    },
    {
     "name": "stdout",
     "output_type": "stream",
     "text": [
      "Epoch 19800 Train Loss 22470.43359375 Test Loss 1746.1900634765625\n"
     ]
    },
    {
     "name": "stderr",
     "output_type": "stream",
     "text": [
      "100%|████████████████████████████████████▊| 19905/20000 [07:44<00:02, 42.82it/s]"
     ]
    },
    {
     "name": "stdout",
     "output_type": "stream",
     "text": [
      "Epoch 19900 Train Loss 42853.875 Test Loss 5769.84619140625\n"
     ]
    },
    {
     "name": "stderr",
     "output_type": "stream",
     "text": [
      "100%|█████████████████████████████████████| 20000/20000 [07:46<00:00, 42.90it/s]\n"
     ]
    }
   ],
   "source": [
    "import tqdm.auto as tqdm\n",
    "train_losses = []\n",
    "test_losses = []\n",
    "for epoch in tqdm.tqdm(range(num_epochs)):\n",
    "    train_logits = model(train_data)\n",
    "    train_logits = train_logits.to(torch.float32)\n",
    "    train_labels = train_labels.to(torch.float32)\n",
    "    train_loss = loss_fn(train_logits, train_labels)\n",
    "    train_loss.backward()\n",
    "    train_losses.append(train_loss.item())\n",
    "\n",
    "    optimizer.step()\n",
    "    optimizer.zero_grad()\n",
    "\n",
    "    with torch.inference_mode():\n",
    "        test_logits = model(test_data)\n",
    "        test_loss = loss_fn(test_logits, test_labels)\n",
    "        test_losses.append(test_loss.item())\n",
    "        \n",
    "    if epoch % 100 == 0:\n",
    "        print(f\"Epoch {epoch} Train Loss {train_loss.item()} Test Loss {test_loss.item()}\")"
   ]
  },
  {
   "cell_type": "code",
   "execution_count": 12,
   "id": "d892fbf4",
   "metadata": {},
   "outputs": [
    {
     "data": {
      "image/png": "[encoded data removed]",
      "text/plain": [
       "<Figure size 640x480 with 1 Axes>"
      ]
     },
     "metadata": {},
     "output_type": "display_data"
    }
   ],
   "source": [
    "import matplotlib.pyplot as plt\n",
    "plt.plot(train_losses)\n",
    "plt.plot(test_losses)\n",
    "plt.legend(['train_loss', 'test_loss'])\n",
    "plt.xlabel('epochs')\n",
    "plt.ylabel('loss');\n",
    "#plt.savefig('/Users/theo/Desktop/gdl/transformer-5digit-nonmodular-addition.png')"
   ]
  },
  {
   "cell_type": "code",
   "execution_count": 13,
   "id": "3c155bf8",
   "metadata": {},
   "outputs": [
    {
     "data": {
      "text/plain": [
       "269.09601314484127"
      ]
     },
     "execution_count": 13,
     "metadata": {},
     "output_type": "execute_result"
    }
   ],
   "source": [
    "import numpy as np\n",
    "from sklearn.metrics import mean_absolute_error\n",
    "pred = model(test_data)\n",
    "acc = mean_absolute_error(np.array(test_labels.detach()), np.array(pred.detach()))\n",
    "acc"
   ]
  },
  {
   "cell_type": "code",
   "execution_count": 14,
   "id": "194f7641",
   "metadata": {},
   "outputs": [
    {
     "data": {
      "text/plain": [
       "tensor([[157073.0625],\n",
       "        [ 51385.4531],\n",
       "        [150867.1875],\n",
       "        [154697.4688],\n",
       "        [137426.0938],\n",
       "        [ 84392.4766],\n",
       "        [163198.6875],\n",
       "        [ 97943.2656],\n",
       "        [144238.0312],\n",
       "        [ 92467.6406],\n",
       "        [ 93225.8984],\n",
       "        [147759.7188],\n",
       "        [130460.6328],\n",
       "        [ 87938.9922],\n",
       "        [175115.5938],\n",
       "        [151736.5625],\n",
       "        [ 91980.2578],\n",
       "        [ 94030.8672],\n",
       "        [ 98921.7109],\n",
       "        [159553.5625],\n",
       "        [128494.4922],\n",
       "        [147442.8750],\n",
       "        [ 83099.8594],\n",
       "        [110029.9922],\n",
       "        [ 36100.8594],\n",
       "        [ 90185.8125],\n",
       "        [ 68066.4766],\n",
       "        [122748.8906],\n",
       "        [173543.5000],\n",
       "        [131782.0312],\n",
       "        [ 79908.6328],\n",
       "        [ 83917.7891],\n",
       "        [101527.0859],\n",
       "        [127078.2188],\n",
       "        [164396.6875],\n",
       "        [ 77971.8828],\n",
       "        [129872.3750],\n",
       "        [168963.0625],\n",
       "        [ 81713.8438],\n",
       "        [116457.1328],\n",
       "        [110839.4297],\n",
       "        [104581.7734],\n",
       "        [134161.4688],\n",
       "        [152502.9688],\n",
       "        [ 77535.3438],\n",
       "        [147814.2500],\n",
       "        [ 88036.1250],\n",
       "        [118417.4453],\n",
       "        [141966.0625],\n",
       "        [119353.1172],\n",
       "        [122356.6797],\n",
       "        [152385.9688],\n",
       "        [117990.4297],\n",
       "        [137542.9531],\n",
       "        [ 86129.2734],\n",
       "        [107267.3281],\n",
       "        [105715.7422],\n",
       "        [132234.7812],\n",
       "        [159819.3438],\n",
       "        [110923.6875],\n",
       "        [130612.3984],\n",
       "        [169308.7188],\n",
       "        [ 75146.8359],\n",
       "        [ 59319.9141],\n",
       "        [143721.6250],\n",
       "        [165774.5625],\n",
       "        [104608.5859],\n",
       "        [ 96245.3828],\n",
       "        [137631.7188],\n",
       "        [ 48918.4219],\n",
       "        [ 87840.3516],\n",
       "        [135813.3750],\n",
       "        [126032.8672],\n",
       "        [ 93953.2031],\n",
       "        [165572.1719],\n",
       "        [105975.0859],\n",
       "        [ 88003.0781],\n",
       "        [110543.0156],\n",
       "        [121458.9922],\n",
       "        [ 82645.0234],\n",
       "        [137500.9688],\n",
       "        [ 82746.7344],\n",
       "        [ 97016.0156],\n",
       "        [ 79334.1484],\n",
       "        [152199.1562],\n",
       "        [117903.8906],\n",
       "        [147369.4375],\n",
       "        [171855.9688],\n",
       "        [ 82092.7031],\n",
       "        [117968.1406],\n",
       "        [115758.6172],\n",
       "        [ 83391.6328],\n",
       "        [167363.2188],\n",
       "        [104337.7734],\n",
       "        [103406.0156],\n",
       "        [155588.2500],\n",
       "        [112005.1562],\n",
       "        [ 43581.9688],\n",
       "        [126574.9531],\n",
       "        [154707.3125],\n",
       "        [ 89146.7422],\n",
       "        [ 80208.5703],\n",
       "        [ 95384.3203],\n",
       "        [ 76079.5469],\n",
       "        [ 50243.9531],\n",
       "        [144567.1562],\n",
       "        [127383.2578],\n",
       "        [133900.4219],\n",
       "        [118210.9453],\n",
       "        [ 84141.2422],\n",
       "        [135859.3438],\n",
       "        [103293.2500],\n",
       "        [ 87784.4922],\n",
       "        [ 76289.2266],\n",
       "        [159487.0000],\n",
       "        [145686.8750],\n",
       "        [ 77221.9453],\n",
       "        [133368.0625],\n",
       "        [ 66547.1719],\n",
       "        [ 94361.2812],\n",
       "        [104781.0000],\n",
       "        [146453.2500],\n",
       "        [104035.9453],\n",
       "        [143777.5000],\n",
       "        [113419.7422],\n",
       "        [122756.6797],\n",
       "        [ 88288.9609],\n",
       "        [129633.1953],\n",
       "        [ 99702.8750],\n",
       "        [104234.3047],\n",
       "        [110658.1250],\n",
       "        [104216.1484],\n",
       "        [118971.4375],\n",
       "        [ 68744.1719],\n",
       "        [ 96725.2891],\n",
       "        [147593.4375],\n",
       "        [121437.0547],\n",
       "        [138481.6875],\n",
       "        [103965.3672],\n",
       "        [ 78285.7969],\n",
       "        [154008.9062],\n",
       "        [ 85616.0703],\n",
       "        [ 88314.9609],\n",
       "        [ 77436.0547],\n",
       "        [135738.7188],\n",
       "        [ 64294.3125],\n",
       "        [146396.9062],\n",
       "        [ 98034.7422],\n",
       "        [ 77318.4922],\n",
       "        [115514.5625],\n",
       "        [164514.6562],\n",
       "        [ 75323.3281],\n",
       "        [ 90630.4609],\n",
       "        [ 82092.9297],\n",
       "        [120005.3203],\n",
       "        [153695.9688],\n",
       "        [153829.7188],\n",
       "        [111828.5078],\n",
       "        [ 72842.4141],\n",
       "        [107812.9609],\n",
       "        [139131.4375],\n",
       "        [141593.6875],\n",
       "        [119925.4453],\n",
       "        [ 41536.4922],\n",
       "        [113651.0703],\n",
       "        [132458.0938],\n",
       "        [138242.7500],\n",
       "        [ 60074.8828],\n",
       "        [159244.9062],\n",
       "        [104364.5547],\n",
       "        [108402.6953],\n",
       "        [137743.3125],\n",
       "        [ 89965.1953],\n",
       "        [ 88045.7500],\n",
       "        [150005.0000],\n",
       "        [150194.2188],\n",
       "        [104859.5781],\n",
       "        [ 88594.7656],\n",
       "        [ 90042.7891],\n",
       "        [105258.1953],\n",
       "        [ 61354.1250],\n",
       "        [ 67307.4062],\n",
       "        [111346.1953],\n",
       "        [ 97546.9844],\n",
       "        [116485.4375],\n",
       "        [124354.4297],\n",
       "        [ 90755.3047],\n",
       "        [152216.4219],\n",
       "        [159509.1562],\n",
       "        [ 85292.2578],\n",
       "        [ 90102.3984],\n",
       "        [ 74390.5000],\n",
       "        [ 84070.4375],\n",
       "        [103265.9453],\n",
       "        [ 49671.0469],\n",
       "        [104777.5391],\n",
       "        [ 96944.4922],\n",
       "        [158736.5625],\n",
       "        [130083.9609],\n",
       "        [122104.5156],\n",
       "        [ 63104.7344],\n",
       "        [123762.0547],\n",
       "        [ 76073.1875],\n",
       "        [ 93558.0781],\n",
       "        [ 56359.5156],\n",
       "        [120405.0156],\n",
       "        [111921.0547],\n",
       "        [ 49003.8047],\n",
       "        [172690.8125],\n",
       "        [139722.8750],\n",
       "        [111973.5234],\n",
       "        [133408.7500],\n",
       "        [143838.7812],\n",
       "        [146268.4688],\n",
       "        [ 56824.8750],\n",
       "        [ 84486.9844],\n",
       "        [ 92216.0156],\n",
       "        [ 92298.6250],\n",
       "        [186098.1094],\n",
       "        [ 98006.2266],\n",
       "        [106816.6406],\n",
       "        [156355.8125],\n",
       "        [102663.3672],\n",
       "        [103367.5859],\n",
       "        [103222.5703],\n",
       "        [120374.9609],\n",
       "        [ 91846.0625],\n",
       "        [129323.3281],\n",
       "        [ 88871.1250],\n",
       "        [109165.2734],\n",
       "        [ 81027.0234],\n",
       "        [148896.6875],\n",
       "        [153604.4375],\n",
       "        [157020.3125],\n",
       "        [ 88538.6875],\n",
       "        [153172.3750],\n",
       "        [ 42300.2969],\n",
       "        [ 69208.2969],\n",
       "        [125971.9453],\n",
       "        [145359.7500],\n",
       "        [ 90724.0781],\n",
       "        [121574.7031],\n",
       "        [ 75243.3125],\n",
       "        [115052.5234],\n",
       "        [115833.1250],\n",
       "        [ 65122.8828],\n",
       "        [179708.5312],\n",
       "        [118107.3203],\n",
       "        [139174.9062],\n",
       "        [148867.9375],\n",
       "        [ 41602.1953],\n",
       "        [108890.7422],\n",
       "        [141727.1562],\n",
       "        [124998.6484],\n",
       "        [ 72851.4922],\n",
       "        [166538.6250],\n",
       "        [145746.3906],\n",
       "        [124890.6328],\n",
       "        [124478.8672],\n",
       "        [111744.2656],\n",
       "        [ 99176.0391],\n",
       "        [152284.0625],\n",
       "        [149999.9062],\n",
       "        [ 84862.6016],\n",
       "        [159618.3750],\n",
       "        [135482.3750],\n",
       "        [105375.6797],\n",
       "        [136749.0000],\n",
       "        [146154.8750],\n",
       "        [ 98351.9062],\n",
       "        [157147.4688],\n",
       "        [ 34966.5391],\n",
       "        [ 74356.1953],\n",
       "        [ 79434.0078],\n",
       "        [ 96848.3359],\n",
       "        [ 94525.0781],\n",
       "        [ 29512.1367],\n",
       "        [ 71697.0703],\n",
       "        [104000.8984],\n",
       "        [159670.7500],\n",
       "        [106018.6328],\n",
       "        [ 91085.8203],\n",
       "        [159873.3438],\n",
       "        [ 43496.1719],\n",
       "        [101389.8047],\n",
       "        [142878.9688],\n",
       "        [ 51467.3633],\n",
       "        [ 97030.6328],\n",
       "        [130496.3203],\n",
       "        [ 97282.9375],\n",
       "        [133883.0312],\n",
       "        [115804.3672],\n",
       "        [147835.4375],\n",
       "        [143084.4688],\n",
       "        [145503.9062],\n",
       "        [ 91080.4922],\n",
       "        [131806.9688],\n",
       "        [ 93219.0625],\n",
       "        [138585.2188],\n",
       "        [173425.4375],\n",
       "        [146473.5000],\n",
       "        [ 70837.0859],\n",
       "        [165531.8125],\n",
       "        [ 42446.1719],\n",
       "        [158349.0312],\n",
       "        [141903.6875],\n",
       "        [140579.8750],\n",
       "        [109144.8906],\n",
       "        [ 85212.1953],\n",
       "        [167362.1875],\n",
       "        [165974.0000],\n",
       "        [169365.9062],\n",
       "        [107750.1406],\n",
       "        [ 90978.8672],\n",
       "        [ 42351.0469],\n",
       "        [ 95314.5859],\n",
       "        [148689.5625],\n",
       "        [155593.6875],\n",
       "        [149793.4375],\n",
       "        [153212.2500],\n",
       "        [146095.6719],\n",
       "        [153454.7188],\n",
       "        [130662.1328],\n",
       "        [153416.0938],\n",
       "        [ 30653.0039],\n",
       "        [102747.3984],\n",
       "        [ 90025.6875],\n",
       "        [ 50330.4453],\n",
       "        [143799.4375],\n",
       "        [ 82008.8594],\n",
       "        [ 29519.0117],\n",
       "        [129646.8047],\n",
       "        [ 88380.5547],\n",
       "        [172741.5625],\n",
       "        [ 99822.1562],\n",
       "        [ 92201.5234],\n",
       "        [119852.8984],\n",
       "        [116996.0000],\n",
       "        [114083.9609],\n",
       "        [115656.5156],\n",
       "        [162800.4062],\n",
       "        [105200.0938],\n",
       "        [136467.2500],\n",
       "        [168845.8438],\n",
       "        [ 98693.0859],\n",
       "        [144444.8125],\n",
       "        [ 41524.7109],\n",
       "        [104697.2422],\n",
       "        [166421.2812],\n",
       "        [103883.3125],\n",
       "        [105981.0703],\n",
       "        [119991.5234],\n",
       "        [ 28757.8398],\n",
       "        [ 65990.3594],\n",
       "        [148903.0938],\n",
       "        [153656.6250],\n",
       "        [135132.5000],\n",
       "        [114897.8359],\n",
       "        [ 70456.2734],\n",
       "        [129840.5547],\n",
       "        [179713.5625],\n",
       "        [109333.0234],\n",
       "        [ 41621.2812],\n",
       "        [ 74071.6797],\n",
       "        [125130.8203],\n",
       "        [156747.7188],\n",
       "        [102747.9453],\n",
       "        [150255.6562],\n",
       "        [109680.3906],\n",
       "        [130845.1562],\n",
       "        [126246.0156],\n",
       "        [ 85622.7344],\n",
       "        [140896.4688],\n",
       "        [150074.2500],\n",
       "        [160102.8125],\n",
       "        [147326.2188],\n",
       "        [ 79827.3984],\n",
       "        [ 86642.5781],\n",
       "        [152456.7500],\n",
       "        [116882.0547],\n",
       "        [108348.5078],\n",
       "        [ 97770.3828],\n",
       "        [170722.3438],\n",
       "        [136799.1250],\n",
       "        [164555.6250],\n",
       "        [104117.1172],\n",
       "        [121465.4453],\n",
       "        [150077.3125],\n",
       "        [139163.4375],\n",
       "        [ 56274.0078],\n",
       "        [ 90009.8672],\n",
       "        [131572.1562],\n",
       "        [152282.3750],\n",
       "        [ 43442.1016],\n",
       "        [135621.8125],\n",
       "        [ 95312.5547],\n",
       "        [144018.1250],\n",
       "        [114866.0234],\n",
       "        [145445.3125],\n",
       "        [135784.4688],\n",
       "        [ 90664.2734],\n",
       "        [ 64241.8594],\n",
       "        [ 48969.5312],\n",
       "        [106023.7109],\n",
       "        [139549.5625],\n",
       "        [127084.6797],\n",
       "        [119610.0156],\n",
       "        [ 89171.7734],\n",
       "        [118212.3906],\n",
       "        [ 41687.4375],\n",
       "        [ 69315.0547],\n",
       "        [123542.0703],\n",
       "        [101610.4688],\n",
       "        [ 91626.3203],\n",
       "        [142867.9375],\n",
       "        [158662.3438],\n",
       "        [ 88464.3047],\n",
       "        [124478.4297],\n",
       "        [167602.1875],\n",
       "        [129565.9453],\n",
       "        [124987.2500],\n",
       "        [ 72782.8594],\n",
       "        [ 98616.2422],\n",
       "        [130051.7734],\n",
       "        [ 53991.7656],\n",
       "        [158088.1562],\n",
       "        [ 90502.9375],\n",
       "        [143713.0312],\n",
       "        [139757.6562],\n",
       "        [135697.7188],\n",
       "        [125915.6484],\n",
       "        [117939.5859],\n",
       "        [ 98080.0078],\n",
       "        [ 75498.5781],\n",
       "        [124271.7031],\n",
       "        [179826.7188],\n",
       "        [ 81818.2344],\n",
       "        [128341.9688],\n",
       "        [132942.7812],\n",
       "        [ 55169.1250],\n",
       "        [109858.8281],\n",
       "        [112685.2109],\n",
       "        [124851.1328],\n",
       "        [101389.7109],\n",
       "        [114872.4297],\n",
       "        [121957.4922],\n",
       "        [104149.6562],\n",
       "        [179944.9688],\n",
       "        [128433.4453],\n",
       "        [111332.5234],\n",
       "        [107533.5625],\n",
       "        [145564.8750],\n",
       "        [ 62582.0391],\n",
       "        [144506.2500],\n",
       "        [152573.7188],\n",
       "        [110115.7188],\n",
       "        [ 55129.8281],\n",
       "        [149120.7500],\n",
       "        [ 78269.2109],\n",
       "        [135750.5312],\n",
       "        [140958.1562],\n",
       "        [111008.7734],\n",
       "        [143033.5938],\n",
       "        [127333.7656],\n",
       "        [102744.7109],\n",
       "        [121164.3203],\n",
       "        [ 79991.4609],\n",
       "        [125930.9297],\n",
       "        [ 47766.9844],\n",
       "        [141652.5625],\n",
       "        [113340.5781],\n",
       "        [111569.3125],\n",
       "        [ 88373.3359],\n",
       "        [137226.4688],\n",
       "        [186114.0938],\n",
       "        [ 74637.6641],\n",
       "        [104089.1250],\n",
       "        [ 49481.5312],\n",
       "        [112636.7734],\n",
       "        [114304.1797],\n",
       "        [124209.0938],\n",
       "        [ 92479.1172],\n",
       "        [115443.0234],\n",
       "        [124771.6484],\n",
       "        [163035.7500],\n",
       "        [145582.5000],\n",
       "        [141535.5938],\n",
       "        [162559.0312],\n",
       "        [103888.3672],\n",
       "        [141611.9375],\n",
       "        [185994.0625],\n",
       "        [ 93486.9297],\n",
       "        [136408.1250],\n",
       "        [ 96454.3984],\n",
       "        [153571.3125],\n",
       "        [100169.2969],\n",
       "        [166036.1250],\n",
       "        [117617.5156],\n",
       "        [126310.6172],\n",
       "        [ 49747.4453],\n",
       "        [129570.6406],\n",
       "        [130634.8828],\n",
       "        [ 75979.7344],\n",
       "        [ 97038.8906],\n",
       "        [173407.5625],\n",
       "        [107200.1797],\n",
       "        [105313.8047],\n",
       "        [ 34172.2500],\n",
       "        [171804.5000],\n",
       "        [156279.7500],\n",
       "        [158009.6250],\n",
       "        [ 96900.5234],\n",
       "        [ 96632.3672],\n",
       "        [112721.6562],\n",
       "        [148893.6250],\n",
       "        [137668.7500],\n",
       "        [132432.8125],\n",
       "        [ 40396.4453],\n",
       "        [ 89525.5703],\n",
       "        [ 72736.4766],\n",
       "        [142992.9688],\n",
       "        [ 76389.7656],\n",
       "        [110276.4297],\n",
       "        [ 89078.0859],\n",
       "        [130758.4297],\n",
       "        [ 80956.5625],\n",
       "        [113616.7812],\n",
       "        [ 97348.6562],\n",
       "        [133673.4375],\n",
       "        [ 73924.1406],\n",
       "        [ 97417.1328],\n",
       "        [141025.5625],\n",
       "        [131966.5000],\n",
       "        [ 72454.2734],\n",
       "        [132223.8594],\n",
       "        [ 36078.6016],\n",
       "        [160157.4375],\n",
       "        [118015.7422],\n",
       "        [ 47853.4141],\n",
       "        [153891.8750],\n",
       "        [133155.0000],\n",
       "        [150257.2812],\n",
       "        [159755.3438],\n",
       "        [173646.5000],\n",
       "        [130519.4297],\n",
       "        [ 42385.0859],\n",
       "        [117624.2734],\n",
       "        [ 28745.9258],\n",
       "        [146336.5625],\n",
       "        [130526.3203],\n",
       "        [ 62522.8281],\n",
       "        [111677.0703],\n",
       "        [ 86068.0547],\n",
       "        [114269.5547],\n",
       "        [110604.0234],\n",
       "        [ 99770.8281],\n",
       "        [ 91042.1953],\n",
       "        [100066.2344],\n",
       "        [ 55214.5469],\n",
       "        [153492.5625],\n",
       "        [ 48884.7031],\n",
       "        [ 65235.9062],\n",
       "        [ 86693.3594],\n",
       "        [136493.0000],\n",
       "        [141201.4062],\n",
       "        [105801.8047],\n",
       "        [135557.6875],\n",
       "        [ 98039.9375],\n",
       "        [ 98070.2266],\n",
       "        [135906.1562],\n",
       "        [ 74739.5469],\n",
       "        [158135.1562],\n",
       "        [130658.4297],\n",
       "        [159501.0938],\n",
       "        [ 78163.3203],\n",
       "        [153251.4062],\n",
       "        [ 97854.3359],\n",
       "        [126583.0859],\n",
       "        [127135.7422],\n",
       "        [ 72174.7344],\n",
       "        [ 83300.8047],\n",
       "        [ 64325.9141],\n",
       "        [110595.5078],\n",
       "        [150122.1875],\n",
       "        [ 87150.1953],\n",
       "        [164437.6250],\n",
       "        [ 67023.2891],\n",
       "        [144429.8750],\n",
       "        [165649.0312],\n",
       "        [147783.4688],\n",
       "        [ 83401.0625],\n",
       "        [131595.6875],\n",
       "        [ 98162.3984],\n",
       "        [ 91937.0703],\n",
       "        [159269.1875],\n",
       "        [138553.7500],\n",
       "        [107695.5156],\n",
       "        [ 66636.8906],\n",
       "        [ 78772.5547],\n",
       "        [ 90839.0156],\n",
       "        [ 89900.5703],\n",
       "        [185977.7812],\n",
       "        [ 42360.9375],\n",
       "        [137104.8438],\n",
       "        [140942.7344],\n",
       "        [100151.9141],\n",
       "        [163081.3750],\n",
       "        [109247.1328],\n",
       "        [ 87397.2422],\n",
       "        [129403.3672],\n",
       "        [ 99733.2109],\n",
       "        [ 49573.1562],\n",
       "        [163152.9688],\n",
       "        [ 74452.8516],\n",
       "        [124287.3047],\n",
       "        [160376.9062],\n",
       "        [ 73701.5469],\n",
       "        [103642.1406],\n",
       "        [ 59210.8125],\n",
       "        [ 67418.1953],\n",
       "        [110647.8359],\n",
       "        [ 65881.4531],\n",
       "        [139341.2031],\n",
       "        [ 27612.2617],\n",
       "        [ 90414.5000],\n",
       "        [125924.1406],\n",
       "        [132248.1719],\n",
       "        [139957.7188],\n",
       "        [179918.2031],\n",
       "        [127121.8281]], grad_fn=<SliceBackward0>)"
      ]
     },
     "execution_count": 14,
     "metadata": {},
     "output_type": "execute_result"
    }
   ],
   "source": [
    "pred"
   ]
  },
  {
   "cell_type": "code",
   "execution_count": 15,
   "id": "8e7b7bfa",
   "metadata": {},
   "outputs": [
    {
     "data": {
      "text/plain": [
       "tensor([[157496],\n",
       "        [ 51560],\n",
       "        [151193],\n",
       "        [155080],\n",
       "        [137796],\n",
       "        [ 84616],\n",
       "        [163586],\n",
       "        [ 98128],\n",
       "        [144576],\n",
       "        [ 92678],\n",
       "        [ 93433],\n",
       "        [148124],\n",
       "        [130810],\n",
       "        [ 88181],\n",
       "        [175571],\n",
       "        [152128],\n",
       "        [ 92160],\n",
       "        [ 94203],\n",
       "        [ 99146],\n",
       "        [159909],\n",
       "        [128774],\n",
       "        [147757],\n",
       "        [ 83319],\n",
       "        [110342],\n",
       "        [ 36203],\n",
       "        [ 90347],\n",
       "        [ 68272],\n",
       "        [123053],\n",
       "        [173960],\n",
       "        [132104],\n",
       "        [ 80041],\n",
       "        [ 84074],\n",
       "        [101797],\n",
       "        [127422],\n",
       "        [164809],\n",
       "        [ 78104],\n",
       "        [130173],\n",
       "        [169397],\n",
       "        [ 81939],\n",
       "        [116754],\n",
       "        [111058],\n",
       "        [104816],\n",
       "        [134508],\n",
       "        [152918],\n",
       "        [ 77631],\n",
       "        [148217],\n",
       "        [ 88181],\n",
       "        [118679],\n",
       "        [142294],\n",
       "        [119614],\n",
       "        [122694],\n",
       "        [152789],\n",
       "        [118269],\n",
       "        [137896],\n",
       "        [ 86302],\n",
       "        [107487],\n",
       "        [106012],\n",
       "        [132548],\n",
       "        [160247],\n",
       "        [111233],\n",
       "        [130943],\n",
       "        [169760],\n",
       "        [ 75358],\n",
       "        [ 59401],\n",
       "        [144107],\n",
       "        [166212],\n",
       "        [104816],\n",
       "        [ 96516],\n",
       "        [137940],\n",
       "        [ 49015],\n",
       "        [ 88017],\n",
       "        [136120],\n",
       "        [126374],\n",
       "        [ 94203],\n",
       "        [165954],\n",
       "        [106255],\n",
       "        [ 88219],\n",
       "        [110819],\n",
       "        [121707],\n",
       "        [ 82874],\n",
       "        [137796],\n",
       "        [ 82874],\n",
       "        [ 97241],\n",
       "        [ 79536],\n",
       "        [152583],\n",
       "        [118186],\n",
       "        [147757],\n",
       "        [172257],\n",
       "        [ 82234],\n",
       "        [118219],\n",
       "        [115993],\n",
       "        [ 83528],\n",
       "        [167759],\n",
       "        [104577],\n",
       "        [103681],\n",
       "        [155971],\n",
       "        [112289],\n",
       "        [ 43676],\n",
       "        [126868],\n",
       "        [155080],\n",
       "        [ 89364],\n",
       "        [ 80379],\n",
       "        [ 95555],\n",
       "        [ 76293],\n",
       "        [ 50410],\n",
       "        [144882],\n",
       "        [127726],\n",
       "        [134197],\n",
       "        [118458],\n",
       "        [ 84283],\n",
       "        [136218],\n",
       "        [103552],\n",
       "        [ 88017],\n",
       "        [ 76508],\n",
       "        [159882],\n",
       "        [146056],\n",
       "        [ 77443],\n",
       "        [133721],\n",
       "        [ 66737],\n",
       "        [ 94583],\n",
       "        [105064],\n",
       "        [146821],\n",
       "        [104307],\n",
       "        [144095],\n",
       "        [113656],\n",
       "        [123053],\n",
       "        [ 88533],\n",
       "        [129919],\n",
       "        [ 99956],\n",
       "        [104436],\n",
       "        [110888],\n",
       "        [104506],\n",
       "        [119306],\n",
       "        [ 68918],\n",
       "        [ 96897],\n",
       "        [147910],\n",
       "        [121707],\n",
       "        [138831],\n",
       "        [104173],\n",
       "        [ 78386],\n",
       "        [154350],\n",
       "        [ 85847],\n",
       "        [ 88495],\n",
       "        [ 77631],\n",
       "        [136120],\n",
       "        [ 64464],\n",
       "        [146717],\n",
       "        [ 98235],\n",
       "        [ 77443],\n",
       "        [115758],\n",
       "        [164938],\n",
       "        [ 75538],\n",
       "        [ 90864],\n",
       "        [ 82326],\n",
       "        [120275],\n",
       "        [154046],\n",
       "        [154221],\n",
       "        [112057],\n",
       "        [ 72943],\n",
       "        [108072],\n",
       "        [139492],\n",
       "        [141915],\n",
       "        [120173],\n",
       "        [ 41679],\n",
       "        [113900],\n",
       "        [132765],\n",
       "        [138601],\n",
       "        [ 60156],\n",
       "        [159643],\n",
       "        [104577],\n",
       "        [108638],\n",
       "        [138035],\n",
       "        [ 90210],\n",
       "        [ 88219],\n",
       "        [150406],\n",
       "        [150535],\n",
       "        [105064],\n",
       "        [ 88772],\n",
       "        [ 90255],\n",
       "        [105457],\n",
       "        [ 61518],\n",
       "        [ 67517],\n",
       "        [111593],\n",
       "        [ 97763],\n",
       "        [116754],\n",
       "        [124664],\n",
       "        [ 90916],\n",
       "        [152583],\n",
       "        [159882],\n",
       "        [ 85433],\n",
       "        [ 90255],\n",
       "        [ 74603],\n",
       "        [ 84283],\n",
       "        [103477],\n",
       "        [ 49845],\n",
       "        [104972],\n",
       "        [ 97106],\n",
       "        [159092],\n",
       "        [130382],\n",
       "        [122392],\n",
       "        [ 63233],\n",
       "        [124083],\n",
       "        [ 76199],\n",
       "        [ 93731],\n",
       "        [ 56488],\n",
       "        [120658],\n",
       "        [112197],\n",
       "        [ 49107],\n",
       "        [173148],\n",
       "        [140033],\n",
       "        [112197],\n",
       "        [133721],\n",
       "        [144236],\n",
       "        [146612],\n",
       "        [ 56991],\n",
       "        [ 84616],\n",
       "        [ 92348],\n",
       "        [ 92440],\n",
       "        [186574],\n",
       "        [ 98235],\n",
       "        [107042],\n",
       "        [156709],\n",
       "        [102936],\n",
       "        [103552],\n",
       "        [103477],\n",
       "        [120670],\n",
       "        [ 92016],\n",
       "        [129680],\n",
       "        [ 89116],\n",
       "        [109400],\n",
       "        [ 81152],\n",
       "        [149269],\n",
       "        [153931],\n",
       "        [157385],\n",
       "        [ 88772],\n",
       "        [153548],\n",
       "        [ 42434],\n",
       "        [ 69422],\n",
       "        [126245],\n",
       "        [145721],\n",
       "        [ 90864],\n",
       "        [121890],\n",
       "        [ 75358],\n",
       "        [115371],\n",
       "        [116093],\n",
       "        [ 65324],\n",
       "        [180142],\n",
       "        [118398],\n",
       "        [139492],\n",
       "        [149244],\n",
       "        [ 41679],\n",
       "        [109197],\n",
       "        [142043],\n",
       "        [125272],\n",
       "        [ 72979],\n",
       "        [166974],\n",
       "        [146056],\n",
       "        [125229],\n",
       "        [124775],\n",
       "        [112057],\n",
       "        [ 99385],\n",
       "        [152657],\n",
       "        [150410],\n",
       "        [ 84967],\n",
       "        [160038],\n",
       "        [135842],\n",
       "        [105586],\n",
       "        [137109],\n",
       "        [146478],\n",
       "        [ 98609],\n",
       "        [157496],\n",
       "        [ 35053],\n",
       "        [ 74571],\n",
       "        [ 79536],\n",
       "        [ 97106],\n",
       "        [ 94794],\n",
       "        [ 29622],\n",
       "        [ 71793],\n",
       "        [104297],\n",
       "        [160038],\n",
       "        [106221],\n",
       "        [ 91269],\n",
       "        [160247],\n",
       "        [ 43584],\n",
       "        [101584],\n",
       "        [143224],\n",
       "        [ 51560],\n",
       "        [ 97296],\n",
       "        [130833],\n",
       "        [ 97480],\n",
       "        [134197],\n",
       "        [116093],\n",
       "        [148149],\n",
       "        [143433],\n",
       "        [145817],\n",
       "        [ 91209],\n",
       "        [132104],\n",
       "        [ 93433],\n",
       "        [138888],\n",
       "        [173831],\n",
       "        [146821],\n",
       "        [ 71038],\n",
       "        [165954],\n",
       "        [ 42526],\n",
       "        [158737],\n",
       "        [142294],\n",
       "        [140924],\n",
       "        [109400],\n",
       "        [ 85433],\n",
       "        [167759],\n",
       "        [166421],\n",
       "        [169760],\n",
       "        [107977],\n",
       "        [ 91209],\n",
       "        [ 42445],\n",
       "        [ 95581],\n",
       "        [149035],\n",
       "        [155971],\n",
       "        [150160],\n",
       "        [153598],\n",
       "        [146478],\n",
       "        [153807],\n",
       "        [130960],\n",
       "        [153807],\n",
       "        [ 30772],\n",
       "        [103028],\n",
       "        [ 90210],\n",
       "        [ 50410],\n",
       "        [144107],\n",
       "        [ 82234],\n",
       "        [ 29622],\n",
       "        [129919],\n",
       "        [ 88533],\n",
       "        [173148],\n",
       "        [100014],\n",
       "        [ 92440],\n",
       "        [120173],\n",
       "        [117259],\n",
       "        [114371],\n",
       "        [115967],\n",
       "        [163196],\n",
       "        [105457],\n",
       "        [136754],\n",
       "        [169268],\n",
       "        [ 98892],\n",
       "        [144785],\n",
       "        [ 41634],\n",
       "        [104972],\n",
       "        [166845],\n",
       "        [104081],\n",
       "        [106256],\n",
       "        [120275],\n",
       "        [ 28867],\n",
       "        [ 66079],\n",
       "        [149269],\n",
       "        [154046],\n",
       "        [135443],\n",
       "        [115158],\n",
       "        [ 70633],\n",
       "        [130173],\n",
       "        [180134],\n",
       "        [109560],\n",
       "        [ 41771],\n",
       "        [ 74210],\n",
       "        [125436],\n",
       "        [157146],\n",
       "        [102942],\n",
       "        [150621],\n",
       "        [109855],\n",
       "        [131169],\n",
       "        [126581],\n",
       "        [ 85755],\n",
       "        [141254],\n",
       "        [150410],\n",
       "        [160524],\n",
       "        [147628],\n",
       "        [ 80041],\n",
       "        [ 86867],\n",
       "        [152789],\n",
       "        [117130],\n",
       "        [108638],\n",
       "        [ 98036],\n",
       "        [171112],\n",
       "        [137109],\n",
       "        [164938],\n",
       "        [104307],\n",
       "        [121803],\n",
       "        [150406],\n",
       "        [139532],\n",
       "        [ 56396],\n",
       "        [ 90255],\n",
       "        [131895],\n",
       "        [152657],\n",
       "        [ 43584],\n",
       "        [135991],\n",
       "        [ 95555],\n",
       "        [144334],\n",
       "        [115114],\n",
       "        [145817],\n",
       "        [136104],\n",
       "        [ 90916],\n",
       "        [ 64372],\n",
       "        [ 49107],\n",
       "        [106255],\n",
       "        [139885],\n",
       "        [127395],\n",
       "        [119934],\n",
       "        [ 89320],\n",
       "        [118490],\n",
       "        [ 41771],\n",
       "        [ 69422],\n",
       "        [123840],\n",
       "        [101797],\n",
       "        [ 91840],\n",
       "        [143224],\n",
       "        [159092],\n",
       "        [ 88625],\n",
       "        [124775],\n",
       "        [167998],\n",
       "        [129919],\n",
       "        [125272],\n",
       "        [ 72979],\n",
       "        [ 98892],\n",
       "        [130382],\n",
       "        [ 54118],\n",
       "        [158431],\n",
       "        [ 90655],\n",
       "        [144095],\n",
       "        [140094],\n",
       "        [135991],\n",
       "        [126245],\n",
       "        [118186],\n",
       "        [ 98245],\n",
       "        [ 75721],\n",
       "        [124572],\n",
       "        [180271],\n",
       "        [ 81939],\n",
       "        [128617],\n",
       "        [133233],\n",
       "        [ 55276],\n",
       "        [110070],\n",
       "        [112965],\n",
       "        [125117],\n",
       "        [101676],\n",
       "        [115158],\n",
       "        [122244],\n",
       "        [104436],\n",
       "        [180400],\n",
       "        [128774],\n",
       "        [111593],\n",
       "        [107845],\n",
       "        [145930],\n",
       "        [ 62749],\n",
       "        [144882],\n",
       "        [152918],\n",
       "        [110342],\n",
       "        [ 55257],\n",
       "        [149476],\n",
       "        [ 78374],\n",
       "        [136104],\n",
       "        [141317],\n",
       "        [111233],\n",
       "        [143347],\n",
       "        [127604],\n",
       "        [102936],\n",
       "        [121457],\n",
       "        [ 80133],\n",
       "        [126207],\n",
       "        [ 47940],\n",
       "        [142043],\n",
       "        [113656],\n",
       "        [111760],\n",
       "        [ 88625],\n",
       "        [137536],\n",
       "        [186574],\n",
       "        [ 74853],\n",
       "        [104297],\n",
       "        [ 49655],\n",
       "        [112948],\n",
       "        [114561],\n",
       "        [124485],\n",
       "        [ 92678],\n",
       "        [115758],\n",
       "        [125117],\n",
       "        [163457],\n",
       "        [145930],\n",
       "        [141914],\n",
       "        [162957],\n",
       "        [104173],\n",
       "        [141914],\n",
       "        [186445],\n",
       "        [ 93731],\n",
       "        [136754],\n",
       "        [ 96700],\n",
       "        [153935],\n",
       "        [100445],\n",
       "        [166421],\n",
       "        [117892],\n",
       "        [126581],\n",
       "        [ 49845],\n",
       "        [129919],\n",
       "        [130960],\n",
       "        [ 76199],\n",
       "        [ 97241],\n",
       "        [173831],\n",
       "        [107487],\n",
       "        [105586],\n",
       "        [ 34298],\n",
       "        [172257],\n",
       "        [156709],\n",
       "        [158394],\n",
       "        [ 97177],\n",
       "        [ 96897],\n",
       "        [112948],\n",
       "        [149244],\n",
       "        [138035],\n",
       "        [132765],\n",
       "        [ 40540],\n",
       "        [ 89777],\n",
       "        [ 72943],\n",
       "        [143347],\n",
       "        [ 76508],\n",
       "        [110610],\n",
       "        [ 89320],\n",
       "        [131040],\n",
       "        [ 81095],\n",
       "        [113900],\n",
       "        [ 97591],\n",
       "        [133988],\n",
       "        [ 74118],\n",
       "        [ 97591],\n",
       "        [141317],\n",
       "        [132295],\n",
       "        [ 72660],\n",
       "        [132556],\n",
       "        [ 36203],\n",
       "        [160534],\n",
       "        [118269],\n",
       "        [ 47940],\n",
       "        [154221],\n",
       "        [133440],\n",
       "        [150621],\n",
       "        [160118],\n",
       "        [174070],\n",
       "        [130833],\n",
       "        [ 42526],\n",
       "        [117892],\n",
       "        [ 28867],\n",
       "        [146717],\n",
       "        [130810],\n",
       "        [ 62657],\n",
       "        [111958],\n",
       "        [ 86302],\n",
       "        [114561],\n",
       "        [110912],\n",
       "        [100014],\n",
       "        [ 91269],\n",
       "        [100324],\n",
       "        [ 55349],\n",
       "        [153837],\n",
       "        [ 49015],\n",
       "        [ 65324],\n",
       "        [ 86867],\n",
       "        [136795],\n",
       "        [141556],\n",
       "        [106012],\n",
       "        [135860],\n",
       "        [ 98231],\n",
       "        [ 98337],\n",
       "        [136218],\n",
       "        [ 74853],\n",
       "        [158498],\n",
       "        [130943],\n",
       "        [159909],\n",
       "        [ 78374],\n",
       "        [153598],\n",
       "        [ 98128],\n",
       "        [126868],\n",
       "        [127422],\n",
       "        [ 72348],\n",
       "        [ 83535],\n",
       "        [ 64464],\n",
       "        [110819],\n",
       "        [150535],\n",
       "        [ 87394],\n",
       "        [164809],\n",
       "        [ 67229],\n",
       "        [144785],\n",
       "        [166083],\n",
       "        [148149],\n",
       "        [ 83535],\n",
       "        [131895],\n",
       "        [ 98337],\n",
       "        [ 92160],\n",
       "        [159643],\n",
       "        [138888],\n",
       "        [107977],\n",
       "        [ 66737],\n",
       "        [ 78902],\n",
       "        [ 91008],\n",
       "        [ 90119],\n",
       "        [186445],\n",
       "        [ 42434],\n",
       "        [137456],\n",
       "        [141254],\n",
       "        [100324],\n",
       "        [163457],\n",
       "        [109560],\n",
       "        [ 87622],\n",
       "        [129680],\n",
       "        [ 99956],\n",
       "        [ 49655],\n",
       "        [163586],\n",
       "        [ 74571],\n",
       "        [124572],\n",
       "        [160773],\n",
       "        [ 73816],\n",
       "        [103833],\n",
       "        [ 59401],\n",
       "        [ 67517],\n",
       "        [110888],\n",
       "        [ 66079],\n",
       "        [139676],\n",
       "        [ 27717],\n",
       "        [ 90655],\n",
       "        [126207],\n",
       "        [132556],\n",
       "        [140319],\n",
       "        [180373],\n",
       "        [127395]])"
      ]
     },
     "execution_count": 15,
     "metadata": {},
     "output_type": "execute_result"
    }
   ],
   "source": [
    "test_labels"
   ]
  },
  {
   "cell_type": "code",
   "execution_count": null,
   "id": "13de106f",
   "metadata": {},
   "outputs": [],
   "source": []
  }
 ],
 "metadata": {
  "kernelspec": {
   "display_name": "Python 3 (ipykernel)",
   "language": "python",
   "name": "python3"
  },
  "language_info": {
   "codemirror_mode": {
    "name": "ipython",
    "version": 3
   },
   "file_extension": ".py",
   "mimetype": "text/x-python",
   "name": "python",
   "nbconvert_exporter": "python",
   "pygments_lexer": "ipython3",
   "version": "3.10.9"
  }
 },
 "nbformat": 4,
 "nbformat_minor": 5
}
