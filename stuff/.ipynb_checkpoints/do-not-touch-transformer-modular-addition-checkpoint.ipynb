{
 "cells": [
  {
   "cell_type": "code",
   "execution_count": 3,
   "id": "3479933e",
   "metadata": {},
   "outputs": [
    {
     "name": "stderr",
     "output_type": "stream",
     "text": [
      "/opt/homebrew/lib/python3.10/site-packages/tqdm/auto.py:22: TqdmWarning: IProgress not found. Please update jupyter and ipywidgets. See https://ipywidgets.readthedocs.io/en/stable/user_install.html\n",
      "  from .autonotebook import tqdm as notebook_tqdm\n"
     ]
    }
   ],
   "source": [
    "from einops import rearrange, repeat\n",
    "import torch\n",
    "from torch import nn\n",
    "\n",
    "class DecoderBlock(torch.nn.Module):\n",
    "  def __init__(self, dim_model=128, n_heads=4):\n",
    "    super().__init__()\n",
    "\n",
    "    self.self_attn = nn.MultiheadAttention(dim_model, n_heads)  # According to the paper.\n",
    "    \n",
    "    # In practice hidden layer size is 4 times size of input.\n",
    "    self.mlp = nn.Sequential(\n",
    "        nn.Linear(dim_model, dim_model * 4),\n",
    "        nn.ReLU(),\n",
    "        nn.Linear(dim_model * 4, dim_model)\n",
    "    ) \n",
    "    \n",
    "  def forward(self, x):\n",
    "    attn_mask = torch.full(\n",
    "        (len(x), len(x)), -float(\"Inf\"), device=x.device, dtype=x.dtype\n",
    "    )\n",
    "    attn_mask = torch.triu(attn_mask, diagonal=1)  # Autoregressive model, hence only look back.\n",
    "    \n",
    "    a1, _ = self.self_attn(x, x, x, attn_mask=attn_mask)  # We do not need attention weights.\n",
    "    a2 = self.mlp(x + a1)  # Add skip connection / residual connection.\n",
    "    return a2\n",
    "\n",
    "class Transformer(torch.nn.Module):\n",
    "  def __init__(self, num_layers=1, dim_model=128, num_heads=4, num_tokens=114, seq_len=3):\n",
    "    super().__init__()\n",
    "\n",
    "    self.token_embeddings = nn.Embedding(num_tokens, dim_model)  # We have p+1 input tokens: 0,1,...,113.\n",
    "    self.position_embeddings = nn.Embedding(seq_len, dim_model)  # We length 3 sequences, e.g. (10, 25, 113)\n",
    "    self.model = nn.Sequential(\n",
    "        *[DecoderBlock(dim_model, num_heads) for _ in range(num_layers)],\n",
    "        nn.Linear(dim_model, num_tokens - 1)  # We have p output tokens for the modulo operation: 0,1,...,112.\n",
    "    ) \n",
    "\n",
    "  def forward(self, inputs):\n",
    "    token_embedding = self.token_embeddings(inputs)\n",
    "    \n",
    "    positions = repeat(torch.arange(inputs.shape[1]), \"p -> b p\", b = inputs.shape[0])\n",
    "    position_embedding = self.position_embeddings(positions)\n",
    "    \n",
    "    embedding = token_embedding + position_embedding\n",
    "\n",
    "    embedding = rearrange(embedding, 'b s d -> s b d')\n",
    "\n",
    "    return self.model(embedding)[-1,:,:]"
   ]
  },
  {
   "cell_type": "code",
   "execution_count": 4,
   "id": "753a8a70",
   "metadata": {},
   "outputs": [],
   "source": [
    "def get_data(p: int, threshold: float):  \n",
    "    dataset = []\n",
    "    for i in range(p):\n",
    "        for j in range(p):\n",
    "            dataset.append([i, j, p])\n",
    "    dataset = torch.Tensor(dataset).to(torch.int64)\n",
    "    \n",
    "    labels = (dataset[:, 0] + dataset[:, 1]) % p\n",
    "    \n",
    "    idxs = torch.randperm(p ** 2)\n",
    "    cutoff = int(threshold * p ** 2)\n",
    "    train_indices = idxs[:cutoff]\n",
    "    test_indices = idxs[cutoff:]\n",
    "    \n",
    "    \n",
    "    train_data = dataset[train_indices]\n",
    "    train_labels = labels[train_indices]\n",
    "    \n",
    "    test_data = dataset[test_indices]\n",
    "    test_labels = labels[test_indices]\n",
    "    \n",
    "    return train_data, train_labels, test_data, test_labels"
   ]
  },
  {
   "cell_type": "code",
   "execution_count": 5,
   "id": "4f7d24e0",
   "metadata": {},
   "outputs": [],
   "source": [
    "train_data, train_labels, test_data, test_labels = get_data(113, 0.3)\n",
    "model = Transformer()"
   ]
  },
  {
   "cell_type": "code",
   "execution_count": 10,
   "id": "d0e36a71",
   "metadata": {},
   "outputs": [
    {
     "name": "stdout",
     "output_type": "stream",
     "text": [
      "torch.Size([3830, 3])\n",
      "torch.Size([3830])\n"
     ]
    }
   ],
   "source": [
    "print(train_data.shape)\n",
    "print(train_labels.shape)"
   ]
  },
  {
   "cell_type": "code",
   "execution_count": 258,
   "id": "b9fd688b",
   "metadata": {},
   "outputs": [],
   "source": [
    "for name, param in model.named_parameters():\n",
    "    if \"b_\" in name:\n",
    "        param.requires_grad = False"
   ]
  },
  {
   "cell_type": "code",
   "execution_count": 259,
   "id": "29eb9db3",
   "metadata": {},
   "outputs": [],
   "source": [
    "p = 113\n",
    "\n",
    "# Optimizer config\n",
    "lr = 1e-3\n",
    "wd = 1. \n",
    "betas = (0.9, 0.98)\n",
    "\n",
    "num_epochs = 50000\n",
    "checkpoint_every = 100\n",
    "\n",
    "DATA_SEED = 598"
   ]
  },
  {
   "cell_type": "code",
   "execution_count": 260,
   "id": "270a8064",
   "metadata": {},
   "outputs": [],
   "source": [
    "optimizer = torch.optim.AdamW(model.parameters(), lr=lr, weight_decay=wd, betas=betas)"
   ]
  },
  {
   "cell_type": "code",
   "execution_count": 261,
   "id": "ae6b8713",
   "metadata": {},
   "outputs": [
    {
     "name": "stdout",
     "output_type": "stream",
     "text": [
      "tensor(4.7543, dtype=torch.float64, grad_fn=<NegBackward0>)\n",
      "tensor(4.7524, dtype=torch.float64, grad_fn=<NegBackward0>)\n"
     ]
    }
   ],
   "source": [
    "def loss_fn(logits, labels):\n",
    "    logits = logits.to(torch.float64)\n",
    "    log_probs = logits.log_softmax(dim=-1)\n",
    "    correct_log_probs = log_probs.gather(dim=-1, index=labels[:, None])[:, 0]\n",
    "    return -correct_log_probs.mean()\n",
    "train_logits = model(train_data)\n",
    "train_loss = loss_fn(train_logits, train_labels)\n",
    "print(train_loss)\n",
    "test_logits = model(test_data)\n",
    "test_loss = loss_fn(test_logits, test_labels)\n",
    "print(test_loss)"
   ]
  },
  {
   "cell_type": "code",
   "execution_count": 262,
   "id": "45bf61d2",
   "metadata": {},
   "outputs": [
    {
     "name": "stdout",
     "output_type": "stream",
     "text": [
      "Uniform loss:\n",
      "4.727387818712341\n"
     ]
    }
   ],
   "source": [
    "import numpy as np\n",
    "print(\"Uniform loss:\")\n",
    "print(np.log(p))"
   ]
  },
  {
   "cell_type": "code",
   "execution_count": 263,
   "id": "51200e2a",
   "metadata": {},
   "outputs": [
    {
     "name": "stderr",
     "output_type": "stream",
     "text": [
      "  0%|                                       | 3/50000 [00:00<1:15:14, 11.08it/s]"
     ]
    },
    {
     "name": "stdout",
     "output_type": "stream",
     "text": [
      "Epoch 0 Train Loss 4.754255969831691 Test Loss 4.741290405478551\n"
     ]
    },
    {
     "name": "stderr",
     "output_type": "stream",
     "text": [
      "  0%|                                     | 103/50000 [00:08<1:08:19, 12.17it/s]"
     ]
    },
    {
     "name": "stdout",
     "output_type": "stream",
     "text": [
      "Epoch 100 Train Loss 2.1157638035973827 Test Loss 8.90105454154407\n"
     ]
    },
    {
     "name": "stderr",
     "output_type": "stream",
     "text": [
      "  0%|▏                                    | 203/50000 [00:16<1:08:06, 12.19it/s]"
     ]
    },
    {
     "name": "stdout",
     "output_type": "stream",
     "text": [
      "Epoch 200 Train Loss 0.20289715307161973 Test Loss 18.205434289357836\n"
     ]
    },
    {
     "name": "stderr",
     "output_type": "stream",
     "text": [
      "  1%|▏                                    | 303/50000 [00:25<1:07:52, 12.20it/s]"
     ]
    },
    {
     "name": "stdout",
     "output_type": "stream",
     "text": [
      "Epoch 300 Train Loss 0.09152551038061577 Test Loss 20.181603812515032\n"
     ]
    },
    {
     "name": "stderr",
     "output_type": "stream",
     "text": [
      "  1%|▎                                    | 403/50000 [00:33<1:07:12, 12.30it/s]"
     ]
    },
    {
     "name": "stdout",
     "output_type": "stream",
     "text": [
      "Epoch 400 Train Loss 0.04500249157230296 Test Loss 21.310624700240055\n"
     ]
    },
    {
     "name": "stderr",
     "output_type": "stream",
     "text": [
      "  1%|▎                                    | 503/50000 [00:41<1:08:28, 12.05it/s]"
     ]
    },
    {
     "name": "stdout",
     "output_type": "stream",
     "text": [
      "Epoch 500 Train Loss 0.02243800810551925 Test Loss 21.927417330560747\n"
     ]
    },
    {
     "name": "stderr",
     "output_type": "stream",
     "text": [
      "  1%|▍                                    | 603/50000 [00:49<1:08:35, 12.00it/s]"
     ]
    },
    {
     "name": "stdout",
     "output_type": "stream",
     "text": [
      "Epoch 600 Train Loss 0.007971818128157976 Test Loss 23.477468116980887\n"
     ]
    },
    {
     "name": "stderr",
     "output_type": "stream",
     "text": [
      "  1%|▌                                    | 703/50000 [00:57<1:07:07, 12.24it/s]"
     ]
    },
    {
     "name": "stdout",
     "output_type": "stream",
     "text": [
      "Epoch 700 Train Loss 0.0026522414617836903 Test Loss 25.145208227673535\n"
     ]
    },
    {
     "name": "stderr",
     "output_type": "stream",
     "text": [
      "  2%|▌                                    | 803/50000 [01:06<1:06:45, 12.28it/s]"
     ]
    },
    {
     "name": "stdout",
     "output_type": "stream",
     "text": [
      "Epoch 800 Train Loss 0.0009323146003267198 Test Loss 27.103359703267223\n"
     ]
    },
    {
     "name": "stderr",
     "output_type": "stream",
     "text": [
      "  2%|▋                                    | 903/50000 [01:14<1:07:04, 12.20it/s]"
     ]
    },
    {
     "name": "stdout",
     "output_type": "stream",
     "text": [
      "Epoch 900 Train Loss 0.0003385990581566936 Test Loss 29.118975619675464\n"
     ]
    },
    {
     "name": "stderr",
     "output_type": "stream",
     "text": [
      "  2%|▋                                   | 1003/50000 [01:22<1:06:59, 12.19it/s]"
     ]
    },
    {
     "name": "stdout",
     "output_type": "stream",
     "text": [
      "Epoch 1000 Train Loss 0.0001242653163881471 Test Loss 31.15063355657905\n"
     ]
    },
    {
     "name": "stderr",
     "output_type": "stream",
     "text": [
      "  2%|▊                                   | 1103/50000 [01:30<1:07:17, 12.11it/s]"
     ]
    },
    {
     "name": "stdout",
     "output_type": "stream",
     "text": [
      "Epoch 1100 Train Loss 4.6462757302322614e-05 Test Loss 33.08721370581826\n"
     ]
    },
    {
     "name": "stderr",
     "output_type": "stream",
     "text": [
      "  2%|▊                                   | 1203/50000 [01:39<1:06:33, 12.22it/s]"
     ]
    },
    {
     "name": "stdout",
     "output_type": "stream",
     "text": [
      "Epoch 1200 Train Loss 1.908828071598522e-05 Test Loss 34.751295519264865\n"
     ]
    },
    {
     "name": "stderr",
     "output_type": "stream",
     "text": [
      "  3%|▉                                   | 1303/50000 [01:47<1:06:15, 12.25it/s]"
     ]
    },
    {
     "name": "stdout",
     "output_type": "stream",
     "text": [
      "Epoch 1300 Train Loss 7.314370103848399e-06 Test Loss 36.57867701750851\n"
     ]
    },
    {
     "name": "stderr",
     "output_type": "stream",
     "text": [
      "  3%|█                                   | 1403/50000 [01:55<1:08:45, 11.78it/s]"
     ]
    },
    {
     "name": "stdout",
     "output_type": "stream",
     "text": [
      "Epoch 1400 Train Loss 3.0112328862594586e-06 Test Loss 38.18359880626046\n"
     ]
    },
    {
     "name": "stderr",
     "output_type": "stream",
     "text": [
      "  3%|█                                   | 1503/50000 [02:04<1:09:34, 11.62it/s]"
     ]
    },
    {
     "name": "stdout",
     "output_type": "stream",
     "text": [
      "Epoch 1500 Train Loss 1.4500876781640013e-06 Test Loss 39.37901429048082\n"
     ]
    },
    {
     "name": "stderr",
     "output_type": "stream",
     "text": [
      "  3%|█▏                                  | 1603/50000 [02:12<1:07:08, 12.01it/s]"
     ]
    },
    {
     "name": "stdout",
     "output_type": "stream",
     "text": [
      "Epoch 1600 Train Loss 0.0031127115481886978 Test Loss 23.68351128675104\n"
     ]
    },
    {
     "name": "stderr",
     "output_type": "stream",
     "text": [
      "  3%|█▏                                  | 1703/50000 [02:20<1:08:37, 11.73it/s]"
     ]
    },
    {
     "name": "stdout",
     "output_type": "stream",
     "text": [
      "Epoch 1700 Train Loss 0.021692102163543326 Test Loss 15.530473242732413\n"
     ]
    },
    {
     "name": "stderr",
     "output_type": "stream",
     "text": [
      "  4%|█▎                                  | 1803/50000 [02:29<1:06:25, 12.09it/s]"
     ]
    },
    {
     "name": "stdout",
     "output_type": "stream",
     "text": [
      "Epoch 1800 Train Loss 0.017064373227008545 Test Loss 15.812926826053152\n"
     ]
    },
    {
     "name": "stderr",
     "output_type": "stream",
     "text": [
      "  4%|█▎                                  | 1903/50000 [02:37<1:07:53, 11.81it/s]"
     ]
    },
    {
     "name": "stdout",
     "output_type": "stream",
     "text": [
      "Epoch 1900 Train Loss 0.006441373279925568 Test Loss 17.955101294158606\n"
     ]
    },
    {
     "name": "stderr",
     "output_type": "stream",
     "text": [
      "  4%|█▍                                  | 2003/50000 [02:46<1:06:06, 12.10it/s]"
     ]
    },
    {
     "name": "stdout",
     "output_type": "stream",
     "text": [
      "Epoch 2000 Train Loss 0.002310150206604791 Test Loss 20.18752111464176\n"
     ]
    },
    {
     "name": "stderr",
     "output_type": "stream",
     "text": [
      "  4%|█▌                                  | 2103/50000 [02:54<1:05:11, 12.24it/s]"
     ]
    },
    {
     "name": "stdout",
     "output_type": "stream",
     "text": [
      "Epoch 2100 Train Loss 0.000818300078482507 Test Loss 22.41504908477205\n"
     ]
    },
    {
     "name": "stderr",
     "output_type": "stream",
     "text": [
      "  4%|█▌                                  | 2203/50000 [03:02<1:05:51, 12.10it/s]"
     ]
    },
    {
     "name": "stdout",
     "output_type": "stream",
     "text": [
      "Epoch 2200 Train Loss 0.00029022589241096047 Test Loss 24.60537218405269\n"
     ]
    },
    {
     "name": "stderr",
     "output_type": "stream",
     "text": [
      "  5%|█▋                                  | 2303/50000 [03:10<1:04:54, 12.25it/s]"
     ]
    },
    {
     "name": "stdout",
     "output_type": "stream",
     "text": [
      "Epoch 2300 Train Loss 0.00010338884904891904 Test Loss 26.77072348308447\n"
     ]
    },
    {
     "name": "stderr",
     "output_type": "stream",
     "text": [
      "  5%|█▋                                  | 2403/50000 [03:19<1:04:40, 12.27it/s]"
     ]
    },
    {
     "name": "stdout",
     "output_type": "stream",
     "text": [
      "Epoch 2400 Train Loss 3.721182644363271e-05 Test Loss 28.89769490191875\n"
     ]
    },
    {
     "name": "stderr",
     "output_type": "stream",
     "text": [
      "  5%|█▊                                  | 2503/50000 [03:27<1:05:01, 12.17it/s]"
     ]
    },
    {
     "name": "stdout",
     "output_type": "stream",
     "text": [
      "Epoch 2500 Train Loss 1.3628583311678694e-05 Test Loss 30.953900988321355\n"
     ]
    },
    {
     "name": "stderr",
     "output_type": "stream",
     "text": [
      "  5%|█▊                                  | 2603/50000 [03:35<1:04:35, 12.23it/s]"
     ]
    },
    {
     "name": "stdout",
     "output_type": "stream",
     "text": [
      "Epoch 2600 Train Loss 5.191881484261945e-06 Test Loss 32.8903065840338\n"
     ]
    },
    {
     "name": "stderr",
     "output_type": "stream",
     "text": [
      "  5%|█▉                                  | 2703/50000 [03:43<1:04:20, 12.25it/s]"
     ]
    },
    {
     "name": "stdout",
     "output_type": "stream",
     "text": [
      "Epoch 2700 Train Loss 2.1489023135098085e-06 Test Loss 34.60495032514379\n"
     ]
    },
    {
     "name": "stderr",
     "output_type": "stream",
     "text": [
      "  6%|██                                  | 2803/50000 [03:51<1:04:07, 12.27it/s]"
     ]
    },
    {
     "name": "stdout",
     "output_type": "stream",
     "text": [
      "Epoch 2800 Train Loss 1.0297370085145211e-06 Test Loss 35.94469725544905\n"
     ]
    },
    {
     "name": "stderr",
     "output_type": "stream",
     "text": [
      "  6%|██                                  | 2903/50000 [04:00<1:04:15, 12.22it/s]"
     ]
    },
    {
     "name": "stdout",
     "output_type": "stream",
     "text": [
      "Epoch 2900 Train Loss 6.210986023628128e-07 Test Loss 36.75829086252962\n"
     ]
    },
    {
     "name": "stderr",
     "output_type": "stream",
     "text": [
      "  6%|██▏                                 | 3003/50000 [04:08<1:04:33, 12.13it/s]"
     ]
    },
    {
     "name": "stdout",
     "output_type": "stream",
     "text": [
      "Epoch 3000 Train Loss 4.698235728875476e-07 Test Loss 37.087093816448444\n"
     ]
    },
    {
     "name": "stderr",
     "output_type": "stream",
     "text": [
      "  6%|██▏                                 | 3103/50000 [04:16<1:07:07, 11.64it/s]"
     ]
    },
    {
     "name": "stdout",
     "output_type": "stream",
     "text": [
      "Epoch 3100 Train Loss 4.282164276734735e-07 Test Loss 37.01807376667192\n"
     ]
    },
    {
     "name": "stderr",
     "output_type": "stream",
     "text": [
      "  6%|██▎                                 | 3203/50000 [04:25<1:04:04, 12.17it/s]"
     ]
    },
    {
     "name": "stdout",
     "output_type": "stream",
     "text": [
      "Epoch 3200 Train Loss 4.1103239908957354e-07 Test Loss 36.86753858845805\n"
     ]
    },
    {
     "name": "stderr",
     "output_type": "stream",
     "text": [
      "  7%|██▍                                 | 3303/50000 [04:33<1:03:22, 12.28it/s]"
     ]
    },
    {
     "name": "stdout",
     "output_type": "stream",
     "text": [
      "Epoch 3300 Train Loss 4.081559413579989e-07 Test Loss 36.6552690038853\n"
     ]
    },
    {
     "name": "stderr",
     "output_type": "stream",
     "text": [
      "  7%|██▍                                 | 3403/50000 [04:41<1:03:44, 12.18it/s]"
     ]
    },
    {
     "name": "stdout",
     "output_type": "stream",
     "text": [
      "Epoch 3400 Train Loss 4.2221853705282274e-07 Test Loss 36.436175158164325\n"
     ]
    },
    {
     "name": "stderr",
     "output_type": "stream",
     "text": [
      "  7%|██▌                                 | 3503/50000 [04:49<1:02:52, 12.32it/s]"
     ]
    },
    {
     "name": "stdout",
     "output_type": "stream",
     "text": [
      "Epoch 3500 Train Loss 4.0684108756515985e-07 Test Loss 36.34916231889533\n"
     ]
    },
    {
     "name": "stderr",
     "output_type": "stream",
     "text": [
      "  7%|██▌                                 | 3603/50000 [04:57<1:03:24, 12.19it/s]"
     ]
    },
    {
     "name": "stdout",
     "output_type": "stream",
     "text": [
      "Epoch 3600 Train Loss 4.078571120575408e-07 Test Loss 36.200047021234234\n"
     ]
    },
    {
     "name": "stderr",
     "output_type": "stream",
     "text": [
      "  7%|██▋                                 | 3703/50000 [05:06<1:02:38, 12.32it/s]"
     ]
    },
    {
     "name": "stdout",
     "output_type": "stream",
     "text": [
      "Epoch 3700 Train Loss 3.997836465078179e-07 Test Loss 36.11990432134934\n"
     ]
    },
    {
     "name": "stderr",
     "output_type": "stream",
     "text": [
      "  8%|██▋                                 | 3803/50000 [05:14<1:03:03, 12.21it/s]"
     ]
    },
    {
     "name": "stdout",
     "output_type": "stream",
     "text": [
      "Epoch 3800 Train Loss 4.0067015556363804e-07 Test Loss 36.0001475277608\n"
     ]
    },
    {
     "name": "stderr",
     "output_type": "stream",
     "text": [
      "  8%|██▊                                 | 3903/50000 [05:22<1:03:12, 12.16it/s]"
     ]
    },
    {
     "name": "stdout",
     "output_type": "stream",
     "text": [
      "Epoch 3900 Train Loss 4.0236580393197954e-07 Test Loss 35.87359568288161\n"
     ]
    },
    {
     "name": "stderr",
     "output_type": "stream",
     "text": [
      "  8%|██▉                                 | 4003/50000 [05:30<1:05:36, 11.69it/s]"
     ]
    },
    {
     "name": "stdout",
     "output_type": "stream",
     "text": [
      "Epoch 4000 Train Loss 4.0223784198917914e-07 Test Loss 35.77169441509013\n"
     ]
    },
    {
     "name": "stderr",
     "output_type": "stream",
     "text": [
      "  8%|██▉                                 | 4103/50000 [05:39<1:06:11, 11.56it/s]"
     ]
    },
    {
     "name": "stdout",
     "output_type": "stream",
     "text": [
      "Epoch 4100 Train Loss 4.023869519632201e-07 Test Loss 35.67469987546862\n"
     ]
    },
    {
     "name": "stderr",
     "output_type": "stream",
     "text": [
      "  8%|███                                 | 4203/50000 [05:48<1:05:45, 11.61it/s]"
     ]
    },
    {
     "name": "stdout",
     "output_type": "stream",
     "text": [
      "Epoch 4200 Train Loss 3.959787770274321e-07 Test Loss 35.6295167637024\n"
     ]
    },
    {
     "name": "stderr",
     "output_type": "stream",
     "text": [
      "  9%|███                                 | 4303/50000 [05:56<1:04:12, 11.86it/s]"
     ]
    },
    {
     "name": "stdout",
     "output_type": "stream",
     "text": [
      "Epoch 4300 Train Loss 3.960184792593388e-07 Test Loss 35.538957920904515\n"
     ]
    },
    {
     "name": "stderr",
     "output_type": "stream",
     "text": [
      "  9%|███▏                                | 4403/50000 [06:05<1:01:58, 12.26it/s]"
     ]
    },
    {
     "name": "stdout",
     "output_type": "stream",
     "text": [
      "Epoch 4400 Train Loss 3.935354575407276e-07 Test Loss 35.481701877660214\n"
     ]
    },
    {
     "name": "stderr",
     "output_type": "stream",
     "text": [
      "  9%|███▏                                | 4503/50000 [06:13<1:02:17, 12.17it/s]"
     ]
    },
    {
     "name": "stdout",
     "output_type": "stream",
     "text": [
      "Epoch 4500 Train Loss 3.920933734819801e-07 Test Loss 35.37748138270694\n"
     ]
    },
    {
     "name": "stderr",
     "output_type": "stream",
     "text": [
      "  9%|███▎                                | 4603/50000 [06:21<1:01:42, 12.26it/s]"
     ]
    },
    {
     "name": "stdout",
     "output_type": "stream",
     "text": [
      "Epoch 4600 Train Loss 3.9030175815824843e-07 Test Loss 35.31044673447922\n"
     ]
    },
    {
     "name": "stderr",
     "output_type": "stream",
     "text": [
      "  9%|███▍                                | 4703/50000 [06:29<1:02:17, 12.12it/s]"
     ]
    },
    {
     "name": "stdout",
     "output_type": "stream",
     "text": [
      "Epoch 4700 Train Loss 3.9091103621147744e-07 Test Loss 35.21518252803998\n"
     ]
    },
    {
     "name": "stderr",
     "output_type": "stream",
     "text": [
      " 10%|███▍                                | 4803/50000 [06:38<1:04:46, 11.63it/s]"
     ]
    },
    {
     "name": "stdout",
     "output_type": "stream",
     "text": [
      "Epoch 4800 Train Loss 3.8641058358203925e-07 Test Loss 35.15939544007471\n"
     ]
    },
    {
     "name": "stderr",
     "output_type": "stream",
     "text": [
      " 10%|███▌                                | 4903/50000 [06:46<1:01:26, 12.23it/s]"
     ]
    },
    {
     "name": "stdout",
     "output_type": "stream",
     "text": [
      "Epoch 4900 Train Loss 3.86531866164932e-07 Test Loss 35.08296226442105\n"
     ]
    },
    {
     "name": "stderr",
     "output_type": "stream",
     "text": [
      " 10%|███▌                                | 5003/50000 [06:54<1:01:49, 12.13it/s]"
     ]
    },
    {
     "name": "stdout",
     "output_type": "stream",
     "text": [
      "Epoch 5000 Train Loss 3.826855893962335e-07 Test Loss 35.02309462148979\n"
     ]
    },
    {
     "name": "stderr",
     "output_type": "stream",
     "text": [
      " 10%|███▋                                | 5103/50000 [07:03<1:01:05, 12.25it/s]"
     ]
    },
    {
     "name": "stdout",
     "output_type": "stream",
     "text": [
      "Epoch 5100 Train Loss 3.845442997801942e-07 Test Loss 34.933960297390556\n"
     ]
    },
    {
     "name": "stderr",
     "output_type": "stream",
     "text": [
      " 10%|███▋                                | 5203/50000 [07:11<1:01:03, 12.23it/s]"
     ]
    },
    {
     "name": "stdout",
     "output_type": "stream",
     "text": [
      "Epoch 5200 Train Loss 3.8776452955394715e-07 Test Loss 34.84276079523998\n"
     ]
    },
    {
     "name": "stderr",
     "output_type": "stream",
     "text": [
      " 11%|███▊                                | 5303/50000 [07:19<1:01:15, 12.16it/s]"
     ]
    },
    {
     "name": "stdout",
     "output_type": "stream",
     "text": [
      "Epoch 5300 Train Loss 3.7960958632714136e-07 Test Loss 34.81935155321148\n"
     ]
    },
    {
     "name": "stderr",
     "output_type": "stream",
     "text": [
      " 11%|███▉                                | 5403/50000 [07:27<1:00:50, 12.22it/s]"
     ]
    },
    {
     "name": "stdout",
     "output_type": "stream",
     "text": [
      "Epoch 5400 Train Loss 3.8096597735073704e-07 Test Loss 34.75288543191309\n"
     ]
    },
    {
     "name": "stderr",
     "output_type": "stream",
     "text": [
      " 11%|███▉                                | 5503/50000 [07:36<1:00:55, 12.17it/s]"
     ]
    },
    {
     "name": "stdout",
     "output_type": "stream",
     "text": [
      "Epoch 5500 Train Loss 3.815875764075187e-07 Test Loss 34.69580457535584\n"
     ]
    },
    {
     "name": "stderr",
     "output_type": "stream",
     "text": [
      " 11%|████                                | 5603/50000 [07:44<1:00:16, 12.27it/s]"
     ]
    },
    {
     "name": "stdout",
     "output_type": "stream",
     "text": [
      "Epoch 5600 Train Loss 3.7659790959270316e-07 Test Loss 34.64900156490571\n"
     ]
    },
    {
     "name": "stderr",
     "output_type": "stream",
     "text": [
      " 11%|████                                | 5703/50000 [07:52<1:00:34, 12.19it/s]"
     ]
    },
    {
     "name": "stdout",
     "output_type": "stream",
     "text": [
      "Epoch 5700 Train Loss 3.8406294465719534e-07 Test Loss 34.588734676330766\n"
     ]
    },
    {
     "name": "stderr",
     "output_type": "stream",
     "text": [
      " 12%|████▏                               | 5803/50000 [08:00<1:02:27, 11.79it/s]"
     ]
    },
    {
     "name": "stdout",
     "output_type": "stream",
     "text": [
      "Epoch 5800 Train Loss 3.7565440428593343e-07 Test Loss 34.53539842159538\n"
     ]
    },
    {
     "name": "stderr",
     "output_type": "stream",
     "text": [
      " 12%|████▎                               | 5903/50000 [08:09<1:01:40, 11.92it/s]"
     ]
    },
    {
     "name": "stdout",
     "output_type": "stream",
     "text": [
      "Epoch 5900 Train Loss 3.745563533656599e-07 Test Loss 34.48597926182645\n"
     ]
    },
    {
     "name": "stderr",
     "output_type": "stream",
     "text": [
      " 12%|████▎                               | 6003/50000 [08:17<1:00:38, 12.09it/s]"
     ]
    },
    {
     "name": "stdout",
     "output_type": "stream",
     "text": [
      "Epoch 6000 Train Loss 3.7792250419735774e-07 Test Loss 34.41938014437023\n"
     ]
    },
    {
     "name": "stderr",
     "output_type": "stream",
     "text": [
      " 12%|████▍                               | 6103/50000 [08:25<1:01:20, 11.93it/s]"
     ]
    },
    {
     "name": "stdout",
     "output_type": "stream",
     "text": [
      "Epoch 6100 Train Loss 3.7172538841677696e-07 Test Loss 34.364207992849146\n"
     ]
    },
    {
     "name": "stderr",
     "output_type": "stream",
     "text": [
      " 12%|████▍                               | 6203/50000 [08:33<1:00:00, 12.17it/s]"
     ]
    },
    {
     "name": "stdout",
     "output_type": "stream",
     "text": [
      "Epoch 6200 Train Loss 3.7427899527647594e-07 Test Loss 34.32005947305218\n"
     ]
    },
    {
     "name": "stderr",
     "output_type": "stream",
     "text": [
      " 13%|████▌                               | 6303/50000 [08:42<1:00:06, 12.12it/s]"
     ]
    },
    {
     "name": "stdout",
     "output_type": "stream",
     "text": [
      "Epoch 6300 Train Loss 3.701953461801869e-07 Test Loss 34.261014532293906\n"
     ]
    },
    {
     "name": "stderr",
     "output_type": "stream",
     "text": [
      " 13%|████▌                               | 6403/50000 [08:50<1:01:03, 11.90it/s]"
     ]
    },
    {
     "name": "stdout",
     "output_type": "stream",
     "text": [
      "Epoch 6400 Train Loss 3.7006194098103993e-07 Test Loss 34.19780912462244\n"
     ]
    },
    {
     "name": "stderr",
     "output_type": "stream",
     "text": [
      " 13%|████▋                               | 6503/50000 [08:59<1:00:22, 12.01it/s]"
     ]
    },
    {
     "name": "stdout",
     "output_type": "stream",
     "text": [
      "Epoch 6500 Train Loss 3.68239584253669e-07 Test Loss 34.18009380700792\n"
     ]
    },
    {
     "name": "stderr",
     "output_type": "stream",
     "text": [
      " 13%|█████                                 | 6603/50000 [09:07<59:36, 12.13it/s]"
     ]
    },
    {
     "name": "stdout",
     "output_type": "stream",
     "text": [
      "Epoch 6600 Train Loss 3.7007871077578903e-07 Test Loss 34.12404659549442\n"
     ]
    },
    {
     "name": "stderr",
     "output_type": "stream",
     "text": [
      " 13%|█████                                 | 6703/50000 [09:15<59:12, 12.19it/s]"
     ]
    },
    {
     "name": "stdout",
     "output_type": "stream",
     "text": [
      "Epoch 6700 Train Loss 3.699254538060388e-07 Test Loss 34.06888596285327\n"
     ]
    },
    {
     "name": "stderr",
     "output_type": "stream",
     "text": [
      " 14%|█████▏                                | 6803/50000 [09:24<59:25, 12.12it/s]"
     ]
    },
    {
     "name": "stdout",
     "output_type": "stream",
     "text": [
      "Epoch 6800 Train Loss 3.674430998312802e-07 Test Loss 34.029947924680016\n"
     ]
    },
    {
     "name": "stderr",
     "output_type": "stream",
     "text": [
      " 14%|█████▏                                | 6903/50000 [09:32<58:47, 12.22it/s]"
     ]
    },
    {
     "name": "stdout",
     "output_type": "stream",
     "text": [
      "Epoch 6900 Train Loss 3.6949507682332624e-07 Test Loss 33.96603398916225\n"
     ]
    },
    {
     "name": "stderr",
     "output_type": "stream",
     "text": [
      " 14%|█████▎                                | 7003/50000 [09:40<59:05, 12.13it/s]"
     ]
    },
    {
     "name": "stdout",
     "output_type": "stream",
     "text": [
      "Epoch 7000 Train Loss 3.702799907795841e-07 Test Loss 33.91959397436312\n"
     ]
    },
    {
     "name": "stderr",
     "output_type": "stream",
     "text": [
      " 14%|█████▍                                | 7103/50000 [09:48<58:28, 12.23it/s]"
     ]
    },
    {
     "name": "stdout",
     "output_type": "stream",
     "text": [
      "Epoch 7100 Train Loss 3.631235934004299e-07 Test Loss 33.87994197073527\n"
     ]
    },
    {
     "name": "stderr",
     "output_type": "stream",
     "text": [
      " 14%|█████▏                              | 7203/50000 [09:57<1:03:08, 11.30it/s]"
     ]
    },
    {
     "name": "stdout",
     "output_type": "stream",
     "text": [
      "Epoch 7200 Train Loss 3.7164044500773647e-07 Test Loss 33.79897337708445\n"
     ]
    },
    {
     "name": "stderr",
     "output_type": "stream",
     "text": [
      " 15%|█████▌                                | 7303/50000 [10:05<58:04, 12.25it/s]"
     ]
    },
    {
     "name": "stdout",
     "output_type": "stream",
     "text": [
      "Epoch 7300 Train Loss 3.715289058588213e-07 Test Loss 33.76899708317619\n"
     ]
    },
    {
     "name": "stderr",
     "output_type": "stream",
     "text": [
      " 15%|█████▋                                | 7403/50000 [10:13<58:02, 12.23it/s]"
     ]
    },
    {
     "name": "stdout",
     "output_type": "stream",
     "text": [
      "Epoch 7400 Train Loss 3.6390556314123367e-07 Test Loss 33.74791862777737\n"
     ]
    },
    {
     "name": "stderr",
     "output_type": "stream",
     "text": [
      " 15%|█████▋                                | 7503/50000 [10:21<57:19, 12.35it/s]"
     ]
    },
    {
     "name": "stdout",
     "output_type": "stream",
     "text": [
      "Epoch 7500 Train Loss 3.6416198017478343e-07 Test Loss 33.68792008012419\n"
     ]
    },
    {
     "name": "stderr",
     "output_type": "stream",
     "text": [
      " 15%|█████▊                                | 7603/50000 [10:30<57:14, 12.34it/s]"
     ]
    },
    {
     "name": "stdout",
     "output_type": "stream",
     "text": [
      "Epoch 7600 Train Loss 3.626512050525012e-07 Test Loss 33.66699686570535\n"
     ]
    },
    {
     "name": "stderr",
     "output_type": "stream",
     "text": [
      " 15%|█████▊                                | 7703/50000 [10:38<57:49, 12.19it/s]"
     ]
    },
    {
     "name": "stdout",
     "output_type": "stream",
     "text": [
      "Epoch 7700 Train Loss 3.6418884341596604e-07 Test Loss 33.63190846820944\n"
     ]
    },
    {
     "name": "stderr",
     "output_type": "stream",
     "text": [
      " 16%|█████▉                                | 7803/50000 [10:46<57:32, 12.22it/s]"
     ]
    },
    {
     "name": "stdout",
     "output_type": "stream",
     "text": [
      "Epoch 7800 Train Loss 3.613503811730438e-07 Test Loss 33.591752191375946\n"
     ]
    },
    {
     "name": "stderr",
     "output_type": "stream",
     "text": [
      " 16%|██████                                | 7903/50000 [10:54<57:22, 12.23it/s]"
     ]
    },
    {
     "name": "stdout",
     "output_type": "stream",
     "text": [
      "Epoch 7900 Train Loss 3.613589328410337e-07 Test Loss 33.577754275599126\n"
     ]
    },
    {
     "name": "stderr",
     "output_type": "stream",
     "text": [
      " 16%|██████                                | 8003/50000 [11:02<57:10, 12.24it/s]"
     ]
    },
    {
     "name": "stdout",
     "output_type": "stream",
     "text": [
      "Epoch 8000 Train Loss 3.57470334893676e-07 Test Loss 33.544875114975106\n"
     ]
    },
    {
     "name": "stderr",
     "output_type": "stream",
     "text": [
      " 16%|██████▏                               | 8103/50000 [11:11<57:58, 12.04it/s]"
     ]
    },
    {
     "name": "stdout",
     "output_type": "stream",
     "text": [
      "Epoch 8100 Train Loss 3.603373225216829e-07 Test Loss 33.47063104092277\n"
     ]
    },
    {
     "name": "stderr",
     "output_type": "stream",
     "text": [
      " 16%|██████▏                               | 8203/50000 [11:19<56:54, 12.24it/s]"
     ]
    },
    {
     "name": "stdout",
     "output_type": "stream",
     "text": [
      "Epoch 8200 Train Loss 3.7198510103581944e-07 Test Loss 33.432656708475164\n"
     ]
    },
    {
     "name": "stderr",
     "output_type": "stream",
     "text": [
      " 17%|██████▎                               | 8303/50000 [11:27<57:25, 12.10it/s]"
     ]
    },
    {
     "name": "stdout",
     "output_type": "stream",
     "text": [
      "Epoch 8300 Train Loss 3.5836133099085527e-07 Test Loss 33.421859479128415\n"
     ]
    },
    {
     "name": "stderr",
     "output_type": "stream",
     "text": [
      " 17%|██████▍                               | 8403/50000 [11:35<57:18, 12.10it/s]"
     ]
    },
    {
     "name": "stdout",
     "output_type": "stream",
     "text": [
      "Epoch 8400 Train Loss 3.5865080831683184e-07 Test Loss 33.389981583842804\n"
     ]
    },
    {
     "name": "stderr",
     "output_type": "stream",
     "text": [
      " 17%|██████▍                               | 8503/50000 [11:43<56:39, 12.21it/s]"
     ]
    },
    {
     "name": "stdout",
     "output_type": "stream",
     "text": [
      "Epoch 8500 Train Loss 3.598336947235576e-07 Test Loss 33.34955011117835\n"
     ]
    },
    {
     "name": "stderr",
     "output_type": "stream",
     "text": [
      " 17%|██████▌                               | 8603/50000 [11:52<59:41, 11.56it/s]"
     ]
    },
    {
     "name": "stdout",
     "output_type": "stream",
     "text": [
      "Epoch 8600 Train Loss 3.6308792706974914e-07 Test Loss 33.286894976856345\n"
     ]
    },
    {
     "name": "stderr",
     "output_type": "stream",
     "text": [
      " 17%|██████▌                               | 8703/50000 [12:00<59:09, 11.64it/s]"
     ]
    },
    {
     "name": "stdout",
     "output_type": "stream",
     "text": [
      "Epoch 8700 Train Loss 3.595192691488117e-07 Test Loss 33.28604598405824\n"
     ]
    },
    {
     "name": "stderr",
     "output_type": "stream",
     "text": [
      " 18%|██████▋                               | 8803/50000 [12:09<59:55, 11.46it/s]"
     ]
    },
    {
     "name": "stdout",
     "output_type": "stream",
     "text": [
      "Epoch 8800 Train Loss 3.5334337678820336e-07 Test Loss 33.26379156693534\n"
     ]
    },
    {
     "name": "stderr",
     "output_type": "stream",
     "text": [
      " 18%|██████▍                             | 8903/50000 [12:18<1:00:00, 11.41it/s]"
     ]
    },
    {
     "name": "stdout",
     "output_type": "stream",
     "text": [
      "Epoch 8900 Train Loss 3.5459212201898807e-07 Test Loss 33.23149929751967\n"
     ]
    },
    {
     "name": "stderr",
     "output_type": "stream",
     "text": [
      " 18%|██████▊                               | 9003/50000 [12:26<56:19, 12.13it/s]"
     ]
    },
    {
     "name": "stdout",
     "output_type": "stream",
     "text": [
      "Epoch 9000 Train Loss 3.54545142632454e-07 Test Loss 33.19880457744229\n"
     ]
    },
    {
     "name": "stderr",
     "output_type": "stream",
     "text": [
      " 18%|██████▌                             | 9103/50000 [12:35<1:00:52, 11.20it/s]"
     ]
    },
    {
     "name": "stdout",
     "output_type": "stream",
     "text": [
      "Epoch 9100 Train Loss 3.583309345006862e-07 Test Loss 33.15358804568452\n"
     ]
    },
    {
     "name": "stderr",
     "output_type": "stream",
     "text": [
      " 18%|██████▉                               | 9203/50000 [12:43<55:50, 12.17it/s]"
     ]
    },
    {
     "name": "stdout",
     "output_type": "stream",
     "text": [
      "Epoch 9200 Train Loss 3.611525665015554e-07 Test Loss 33.09224776594295\n"
     ]
    },
    {
     "name": "stderr",
     "output_type": "stream",
     "text": [
      " 19%|██████▋                             | 9303/50000 [12:52<1:00:06, 11.29it/s]"
     ]
    },
    {
     "name": "stdout",
     "output_type": "stream",
     "text": [
      "Epoch 9300 Train Loss 3.55982357097889e-07 Test Loss 33.08726533122189\n"
     ]
    },
    {
     "name": "stderr",
     "output_type": "stream",
     "text": [
      " 19%|███████▏                              | 9403/50000 [13:00<55:10, 12.26it/s]"
     ]
    },
    {
     "name": "stdout",
     "output_type": "stream",
     "text": [
      "Epoch 9400 Train Loss 3.5438173863455e-07 Test Loss 33.06071445406885\n"
     ]
    },
    {
     "name": "stderr",
     "output_type": "stream",
     "text": [
      " 19%|███████▏                              | 9503/50000 [13:08<55:26, 12.17it/s]"
     ]
    },
    {
     "name": "stdout",
     "output_type": "stream",
     "text": [
      "Epoch 9500 Train Loss 3.70492847955431e-07 Test Loss 33.03317296296903\n"
     ]
    },
    {
     "name": "stderr",
     "output_type": "stream",
     "text": [
      " 19%|███████▎                              | 9603/50000 [13:16<55:18, 12.17it/s]"
     ]
    },
    {
     "name": "stdout",
     "output_type": "stream",
     "text": [
      "Epoch 9600 Train Loss 3.531292978097996e-07 Test Loss 32.99884769500232\n"
     ]
    },
    {
     "name": "stderr",
     "output_type": "stream",
     "text": [
      " 19%|███████▎                              | 9703/50000 [13:25<55:31, 12.10it/s]"
     ]
    },
    {
     "name": "stdout",
     "output_type": "stream",
     "text": [
      "Epoch 9700 Train Loss 3.554004879484346e-07 Test Loss 32.97555894817927\n"
     ]
    },
    {
     "name": "stderr",
     "output_type": "stream",
     "text": [
      " 20%|███████▍                              | 9803/50000 [13:33<54:32, 12.28it/s]"
     ]
    },
    {
     "name": "stdout",
     "output_type": "stream",
     "text": [
      "Epoch 9800 Train Loss 3.514155363468907e-07 Test Loss 32.96905399758755\n"
     ]
    },
    {
     "name": "stderr",
     "output_type": "stream",
     "text": [
      " 20%|███████▌                              | 9903/50000 [13:41<54:34, 12.25it/s]"
     ]
    },
    {
     "name": "stdout",
     "output_type": "stream",
     "text": [
      "Epoch 9900 Train Loss 3.5563854442934045e-07 Test Loss 32.88537246955637\n"
     ]
    },
    {
     "name": "stderr",
     "output_type": "stream",
     "text": [
      " 20%|███████▍                             | 10003/50000 [13:50<54:49, 12.16it/s]"
     ]
    },
    {
     "name": "stdout",
     "output_type": "stream",
     "text": [
      "Epoch 10000 Train Loss 3.524387648321183e-07 Test Loss 32.87427466379363\n"
     ]
    },
    {
     "name": "stderr",
     "output_type": "stream",
     "text": [
      " 20%|███████▍                             | 10103/50000 [13:58<54:42, 12.15it/s]"
     ]
    },
    {
     "name": "stdout",
     "output_type": "stream",
     "text": [
      "Epoch 10100 Train Loss 3.5105125661211806e-07 Test Loss 32.86174640050192\n"
     ]
    },
    {
     "name": "stderr",
     "output_type": "stream",
     "text": [
      " 20%|███████▌                             | 10203/50000 [14:06<54:23, 12.19it/s]"
     ]
    },
    {
     "name": "stdout",
     "output_type": "stream",
     "text": [
      "Epoch 10200 Train Loss 3.581740723643855e-07 Test Loss 32.84093167309121\n"
     ]
    },
    {
     "name": "stderr",
     "output_type": "stream",
     "text": [
      " 21%|███████▌                             | 10303/50000 [14:14<54:09, 12.21it/s]"
     ]
    },
    {
     "name": "stdout",
     "output_type": "stream",
     "text": [
      "Epoch 10300 Train Loss 3.4775299631081095e-07 Test Loss 32.81146790183346\n"
     ]
    },
    {
     "name": "stderr",
     "output_type": "stream",
     "text": [
      " 21%|███████▋                             | 10403/50000 [14:22<53:44, 12.28it/s]"
     ]
    },
    {
     "name": "stdout",
     "output_type": "stream",
     "text": [
      "Epoch 10400 Train Loss 3.580760502933606e-07 Test Loss 32.73640237014634\n"
     ]
    },
    {
     "name": "stderr",
     "output_type": "stream",
     "text": [
      " 21%|███████▊                             | 10503/50000 [14:30<53:20, 12.34it/s]"
     ]
    },
    {
     "name": "stdout",
     "output_type": "stream",
     "text": [
      "Epoch 10500 Train Loss 3.4897431223526547e-07 Test Loss 32.75167133190408\n"
     ]
    },
    {
     "name": "stderr",
     "output_type": "stream",
     "text": [
      " 21%|███████▊                             | 10603/50000 [14:39<53:59, 12.16it/s]"
     ]
    },
    {
     "name": "stdout",
     "output_type": "stream",
     "text": [
      "Epoch 10600 Train Loss 3.482751268397962e-07 Test Loss 32.721512857858\n"
     ]
    },
    {
     "name": "stderr",
     "output_type": "stream",
     "text": [
      " 21%|███████▉                             | 10703/50000 [14:47<53:27, 12.25it/s]"
     ]
    },
    {
     "name": "stdout",
     "output_type": "stream",
     "text": [
      "Epoch 10700 Train Loss 3.551900822596037e-07 Test Loss 32.657761057570596\n"
     ]
    },
    {
     "name": "stderr",
     "output_type": "stream",
     "text": [
      " 22%|███████▉                             | 10803/50000 [14:55<52:53, 12.35it/s]"
     ]
    },
    {
     "name": "stdout",
     "output_type": "stream",
     "text": [
      "Epoch 10800 Train Loss 3.542524743575021e-07 Test Loss 32.65156306632627\n"
     ]
    },
    {
     "name": "stderr",
     "output_type": "stream",
     "text": [
      " 22%|████████                             | 10903/50000 [15:03<53:24, 12.20it/s]"
     ]
    },
    {
     "name": "stdout",
     "output_type": "stream",
     "text": [
      "Epoch 10900 Train Loss 3.5579419366461694e-07 Test Loss 32.64031582264955\n"
     ]
    },
    {
     "name": "stderr",
     "output_type": "stream",
     "text": [
      " 22%|████████▏                            | 11003/50000 [15:11<52:48, 12.31it/s]"
     ]
    },
    {
     "name": "stdout",
     "output_type": "stream",
     "text": [
      "Epoch 11000 Train Loss 3.4566813697039844e-07 Test Loss 32.62821946488146\n"
     ]
    },
    {
     "name": "stderr",
     "output_type": "stream",
     "text": [
      " 22%|████████▏                            | 11103/50000 [15:20<53:00, 12.23it/s]"
     ]
    },
    {
     "name": "stdout",
     "output_type": "stream",
     "text": [
      "Epoch 11100 Train Loss 3.471960474908519e-07 Test Loss 32.58407896523457\n"
     ]
    },
    {
     "name": "stderr",
     "output_type": "stream",
     "text": [
      " 22%|████████▎                            | 11203/50000 [15:28<53:17, 12.13it/s]"
     ]
    },
    {
     "name": "stdout",
     "output_type": "stream",
     "text": [
      "Epoch 11200 Train Loss 3.486934793751158e-07 Test Loss 32.54890076782231\n"
     ]
    },
    {
     "name": "stderr",
     "output_type": "stream",
     "text": [
      " 23%|████████▎                            | 11303/50000 [15:36<52:49, 12.21it/s]"
     ]
    },
    {
     "name": "stdout",
     "output_type": "stream",
     "text": [
      "Epoch 11300 Train Loss 3.5106909591719775e-07 Test Loss 32.52239560694262\n"
     ]
    },
    {
     "name": "stderr",
     "output_type": "stream",
     "text": [
      " 23%|████████▍                            | 11403/50000 [15:44<52:27, 12.26it/s]"
     ]
    },
    {
     "name": "stdout",
     "output_type": "stream",
     "text": [
      "Epoch 11400 Train Loss 3.451321668487207e-07 Test Loss 32.49789376026792\n"
     ]
    },
    {
     "name": "stderr",
     "output_type": "stream",
     "text": [
      " 23%|████████▌                            | 11503/50000 [15:53<53:51, 11.91it/s]"
     ]
    },
    {
     "name": "stdout",
     "output_type": "stream",
     "text": [
      "Epoch 11500 Train Loss 3.424148741399098e-07 Test Loss 32.484828407406674\n"
     ]
    },
    {
     "name": "stderr",
     "output_type": "stream",
     "text": [
      " 23%|████████▌                            | 11603/50000 [16:01<52:50, 12.11it/s]"
     ]
    },
    {
     "name": "stdout",
     "output_type": "stream",
     "text": [
      "Epoch 11600 Train Loss 0.0014485331561422425 Test Loss 19.280413786326104\n"
     ]
    },
    {
     "name": "stderr",
     "output_type": "stream",
     "text": [
      " 23%|████████▋                            | 11703/50000 [16:09<52:45, 12.10it/s]"
     ]
    },
    {
     "name": "stdout",
     "output_type": "stream",
     "text": [
      "Epoch 11700 Train Loss 0.008470778486832092 Test Loss 13.964103120976734\n"
     ]
    },
    {
     "name": "stderr",
     "output_type": "stream",
     "text": [
      " 24%|████████▋                            | 11803/50000 [16:17<51:59, 12.24it/s]"
     ]
    },
    {
     "name": "stdout",
     "output_type": "stream",
     "text": [
      "Epoch 11800 Train Loss 0.004333035003516555 Test Loss 15.361880840698165\n"
     ]
    },
    {
     "name": "stderr",
     "output_type": "stream",
     "text": [
      " 24%|████████▊                            | 11903/50000 [16:26<52:11, 12.16it/s]"
     ]
    },
    {
     "name": "stdout",
     "output_type": "stream",
     "text": [
      "Epoch 11900 Train Loss 0.001655212128592233 Test Loss 17.28171734282418\n"
     ]
    },
    {
     "name": "stderr",
     "output_type": "stream",
     "text": [
      " 24%|████████▉                            | 12003/50000 [16:34<51:46, 12.23it/s]"
     ]
    },
    {
     "name": "stdout",
     "output_type": "stream",
     "text": [
      "Epoch 12000 Train Loss 0.0006069980766435438 Test Loss 19.24953089563674\n"
     ]
    },
    {
     "name": "stderr",
     "output_type": "stream",
     "text": [
      " 24%|████████▉                            | 12103/50000 [16:42<51:54, 12.17it/s]"
     ]
    },
    {
     "name": "stdout",
     "output_type": "stream",
     "text": [
      "Epoch 12100 Train Loss 0.00021985129066034718 Test Loss 21.232558297280264\n"
     ]
    },
    {
     "name": "stderr",
     "output_type": "stream",
     "text": [
      " 24%|█████████                            | 12203/50000 [16:50<51:38, 12.20it/s]"
     ]
    },
    {
     "name": "stdout",
     "output_type": "stream",
     "text": [
      "Epoch 12200 Train Loss 7.931211843482118e-05 Test Loss 23.213926063561086\n"
     ]
    },
    {
     "name": "stderr",
     "output_type": "stream",
     "text": [
      " 25%|█████████                            | 12303/50000 [16:58<51:18, 12.25it/s]"
     ]
    },
    {
     "name": "stdout",
     "output_type": "stream",
     "text": [
      "Epoch 12300 Train Loss 2.868868589354619e-05 Test Loss 25.181431763163484\n"
     ]
    },
    {
     "name": "stderr",
     "output_type": "stream",
     "text": [
      " 25%|█████████▏                           | 12403/50000 [17:07<51:41, 12.12it/s]"
     ]
    },
    {
     "name": "stdout",
     "output_type": "stream",
     "text": [
      "Epoch 12400 Train Loss 1.057996158353748e-05 Test Loss 27.096404296426837\n"
     ]
    },
    {
     "name": "stderr",
     "output_type": "stream",
     "text": [
      " 25%|█████████▎                           | 12503/50000 [17:15<53:22, 11.71it/s]"
     ]
    },
    {
     "name": "stdout",
     "output_type": "stream",
     "text": [
      "Epoch 12500 Train Loss 4.064978728895309e-06 Test Loss 28.892855725497085\n"
     ]
    },
    {
     "name": "stderr",
     "output_type": "stream",
     "text": [
      " 25%|█████████▎                           | 12603/50000 [17:23<51:10, 12.18it/s]"
     ]
    },
    {
     "name": "stdout",
     "output_type": "stream",
     "text": [
      "Epoch 12600 Train Loss 1.690665164586318e-06 Test Loss 30.480550645929416\n"
     ]
    },
    {
     "name": "stderr",
     "output_type": "stream",
     "text": [
      " 25%|█████████▍                           | 12703/50000 [17:31<50:45, 12.25it/s]"
     ]
    },
    {
     "name": "stdout",
     "output_type": "stream",
     "text": [
      "Epoch 12700 Train Loss 8.129549568183887e-07 Test Loss 31.709813202582584\n"
     ]
    },
    {
     "name": "stderr",
     "output_type": "stream",
     "text": [
      " 26%|█████████▍                           | 12803/50000 [17:40<50:48, 12.20it/s]"
     ]
    },
    {
     "name": "stdout",
     "output_type": "stream",
     "text": [
      "Epoch 12800 Train Loss 4.837113324073474e-07 Test Loss 32.45216816037305\n"
     ]
    },
    {
     "name": "stderr",
     "output_type": "stream",
     "text": [
      " 26%|█████████▌                           | 12903/50000 [17:48<51:00, 12.12it/s]"
     ]
    },
    {
     "name": "stdout",
     "output_type": "stream",
     "text": [
      "Epoch 12900 Train Loss 3.675495173307276e-07 Test Loss 32.70097180512855\n"
     ]
    },
    {
     "name": "stderr",
     "output_type": "stream",
     "text": [
      " 26%|█████████▌                           | 13003/50000 [17:56<50:11, 12.29it/s]"
     ]
    },
    {
     "name": "stdout",
     "output_type": "stream",
     "text": [
      "Epoch 13000 Train Loss 3.319787859182475e-07 Test Loss 32.663501348037606\n"
     ]
    },
    {
     "name": "stderr",
     "output_type": "stream",
     "text": [
      " 26%|█████████▋                           | 13103/50000 [18:04<50:22, 12.21it/s]"
     ]
    },
    {
     "name": "stdout",
     "output_type": "stream",
     "text": [
      "Epoch 13100 Train Loss 3.2580315413942784e-07 Test Loss 32.50250426816014\n"
     ]
    },
    {
     "name": "stderr",
     "output_type": "stream",
     "text": [
      " 26%|█████████▊                           | 13203/50000 [18:12<50:23, 12.17it/s]"
     ]
    },
    {
     "name": "stdout",
     "output_type": "stream",
     "text": [
      "Epoch 13200 Train Loss 3.2434066846441926e-07 Test Loss 32.37248158886448\n"
     ]
    },
    {
     "name": "stderr",
     "output_type": "stream",
     "text": [
      " 27%|█████████▊                           | 13303/50000 [18:21<50:28, 12.12it/s]"
     ]
    },
    {
     "name": "stdout",
     "output_type": "stream",
     "text": [
      "Epoch 13300 Train Loss 3.232604160943583e-07 Test Loss 32.24491500552979\n"
     ]
    },
    {
     "name": "stderr",
     "output_type": "stream",
     "text": [
      " 27%|█████████▉                           | 13403/50000 [18:29<50:13, 12.14it/s]"
     ]
    },
    {
     "name": "stdout",
     "output_type": "stream",
     "text": [
      "Epoch 13400 Train Loss 3.208065533679188e-07 Test Loss 32.161486457400734\n"
     ]
    },
    {
     "name": "stderr",
     "output_type": "stream",
     "text": [
      " 27%|█████████▉                           | 13503/50000 [18:37<50:06, 12.14it/s]"
     ]
    },
    {
     "name": "stdout",
     "output_type": "stream",
     "text": [
      "Epoch 13500 Train Loss 3.2254198556336773e-07 Test Loss 32.07532085320591\n"
     ]
    },
    {
     "name": "stderr",
     "output_type": "stream",
     "text": [
      " 27%|██████████                           | 13603/50000 [18:45<50:38, 11.98it/s]"
     ]
    },
    {
     "name": "stdout",
     "output_type": "stream",
     "text": [
      "Epoch 13600 Train Loss 3.21074209637569e-07 Test Loss 32.02312490460671\n"
     ]
    },
    {
     "name": "stderr",
     "output_type": "stream",
     "text": [
      " 27%|██████████▏                          | 13703/50000 [18:54<50:32, 11.97it/s]"
     ]
    },
    {
     "name": "stdout",
     "output_type": "stream",
     "text": [
      "Epoch 13700 Train Loss 3.20359847108718e-07 Test Loss 31.97087576553144\n"
     ]
    },
    {
     "name": "stderr",
     "output_type": "stream",
     "text": [
      " 28%|██████████▏                          | 13803/50000 [19:02<51:03, 11.82it/s]"
     ]
    },
    {
     "name": "stdout",
     "output_type": "stream",
     "text": [
      "Epoch 13800 Train Loss 3.213359191117587e-07 Test Loss 31.935756851213434\n"
     ]
    },
    {
     "name": "stderr",
     "output_type": "stream",
     "text": [
      " 28%|██████████▎                          | 13903/50000 [19:10<49:57, 12.04it/s]"
     ]
    },
    {
     "name": "stdout",
     "output_type": "stream",
     "text": [
      "Epoch 13900 Train Loss 3.2018453534298125e-07 Test Loss 31.8833542457764\n"
     ]
    },
    {
     "name": "stderr",
     "output_type": "stream",
     "text": [
      " 28%|██████████▎                          | 14003/50000 [19:19<50:09, 11.96it/s]"
     ]
    },
    {
     "name": "stdout",
     "output_type": "stream",
     "text": [
      "Epoch 14000 Train Loss 3.223744390162275e-07 Test Loss 31.8373931625565\n"
     ]
    },
    {
     "name": "stderr",
     "output_type": "stream",
     "text": [
      " 28%|██████████▍                          | 14103/50000 [19:27<49:26, 12.10it/s]"
     ]
    },
    {
     "name": "stdout",
     "output_type": "stream",
     "text": [
      "Epoch 14100 Train Loss 3.171071167073559e-07 Test Loss 31.810721219580746\n"
     ]
    },
    {
     "name": "stderr",
     "output_type": "stream",
     "text": [
      " 28%|██████████▌                          | 14203/50000 [19:35<48:58, 12.18it/s]"
     ]
    },
    {
     "name": "stdout",
     "output_type": "stream",
     "text": [
      "Epoch 14200 Train Loss 3.187421485046185e-07 Test Loss 31.76351092600465\n"
     ]
    },
    {
     "name": "stderr",
     "output_type": "stream",
     "text": [
      " 29%|██████████▌                          | 14303/50000 [19:43<48:32, 12.26it/s]"
     ]
    },
    {
     "name": "stdout",
     "output_type": "stream",
     "text": [
      "Epoch 14300 Train Loss 3.1865209001708457e-07 Test Loss 31.72434894824234\n"
     ]
    },
    {
     "name": "stderr",
     "output_type": "stream",
     "text": [
      " 29%|██████████▋                          | 14403/50000 [19:52<48:59, 12.11it/s]"
     ]
    },
    {
     "name": "stdout",
     "output_type": "stream",
     "text": [
      "Epoch 14400 Train Loss 3.167420292743028e-07 Test Loss 31.69385586533874\n"
     ]
    },
    {
     "name": "stderr",
     "output_type": "stream",
     "text": [
      " 29%|██████████▋                          | 14503/50000 [20:00<49:11, 12.03it/s]"
     ]
    },
    {
     "name": "stdout",
     "output_type": "stream",
     "text": [
      "Epoch 14500 Train Loss 3.163557759024001e-07 Test Loss 31.658819011452866\n"
     ]
    },
    {
     "name": "stderr",
     "output_type": "stream",
     "text": [
      " 29%|██████████▊                          | 14603/50000 [20:08<48:33, 12.15it/s]"
     ]
    },
    {
     "name": "stdout",
     "output_type": "stream",
     "text": [
      "Epoch 14600 Train Loss 3.151881404806818e-07 Test Loss 31.62922505955067\n"
     ]
    },
    {
     "name": "stderr",
     "output_type": "stream",
     "text": [
      " 29%|██████████▉                          | 14703/50000 [20:17<48:45, 12.06it/s]"
     ]
    },
    {
     "name": "stdout",
     "output_type": "stream",
     "text": [
      "Epoch 14700 Train Loss 3.147278165163475e-07 Test Loss 31.604111061517084\n"
     ]
    },
    {
     "name": "stderr",
     "output_type": "stream",
     "text": [
      " 30%|██████████▉                          | 14803/50000 [20:25<47:59, 12.22it/s]"
     ]
    },
    {
     "name": "stdout",
     "output_type": "stream",
     "text": [
      "Epoch 14800 Train Loss 3.157425965588367e-07 Test Loss 31.565180050008365\n"
     ]
    },
    {
     "name": "stderr",
     "output_type": "stream",
     "text": [
      " 30%|███████████                          | 14903/50000 [20:33<48:06, 12.16it/s]"
     ]
    },
    {
     "name": "stdout",
     "output_type": "stream",
     "text": [
      "Epoch 14900 Train Loss 3.131652375161157e-07 Test Loss 31.551366547588273\n"
     ]
    },
    {
     "name": "stderr",
     "output_type": "stream",
     "text": [
      " 30%|███████████                          | 15003/50000 [20:41<47:35, 12.26it/s]"
     ]
    },
    {
     "name": "stdout",
     "output_type": "stream",
     "text": [
      "Epoch 15000 Train Loss 3.157368231129848e-07 Test Loss 31.515823592065015\n"
     ]
    },
    {
     "name": "stderr",
     "output_type": "stream",
     "text": [
      " 30%|███████████▏                         | 15103/50000 [20:49<48:05, 12.09it/s]"
     ]
    },
    {
     "name": "stdout",
     "output_type": "stream",
     "text": [
      "Epoch 15100 Train Loss 3.142526123707924e-07 Test Loss 31.487753343979396\n"
     ]
    },
    {
     "name": "stderr",
     "output_type": "stream",
     "text": [
      " 30%|███████████▎                         | 15203/50000 [20:58<47:50, 12.12it/s]"
     ]
    },
    {
     "name": "stdout",
     "output_type": "stream",
     "text": [
      "Epoch 15200 Train Loss 3.190089456952353e-07 Test Loss 31.469752010677084\n"
     ]
    },
    {
     "name": "stderr",
     "output_type": "stream",
     "text": [
      " 31%|███████████▎                         | 15303/50000 [21:06<48:08, 12.01it/s]"
     ]
    },
    {
     "name": "stdout",
     "output_type": "stream",
     "text": [
      "Epoch 15300 Train Loss 3.1366723243192237e-07 Test Loss 31.449642257209373\n"
     ]
    },
    {
     "name": "stderr",
     "output_type": "stream",
     "text": [
      " 31%|███████████▍                         | 15403/50000 [21:14<47:30, 12.14it/s]"
     ]
    },
    {
     "name": "stdout",
     "output_type": "stream",
     "text": [
      "Epoch 15400 Train Loss 3.1412237640673903e-07 Test Loss 31.42640143844745\n"
     ]
    },
    {
     "name": "stderr",
     "output_type": "stream",
     "text": [
      " 31%|███████████▍                         | 15503/50000 [21:23<46:51, 12.27it/s]"
     ]
    },
    {
     "name": "stdout",
     "output_type": "stream",
     "text": [
      "Epoch 15500 Train Loss 3.1397210829172563e-07 Test Loss 31.3981385004221\n"
     ]
    },
    {
     "name": "stderr",
     "output_type": "stream",
     "text": [
      " 31%|███████████▌                         | 15603/50000 [21:31<46:44, 12.27it/s]"
     ]
    },
    {
     "name": "stdout",
     "output_type": "stream",
     "text": [
      "Epoch 15600 Train Loss 3.1426274736040857e-07 Test Loss 31.386277990140602\n"
     ]
    },
    {
     "name": "stderr",
     "output_type": "stream",
     "text": [
      " 31%|███████████▌                         | 15703/50000 [21:39<46:47, 12.22it/s]"
     ]
    },
    {
     "name": "stdout",
     "output_type": "stream",
     "text": [
      "Epoch 15700 Train Loss 3.133555077915501e-07 Test Loss 31.356171291234194\n"
     ]
    },
    {
     "name": "stderr",
     "output_type": "stream",
     "text": [
      " 32%|███████████▋                         | 15803/50000 [21:47<46:55, 12.15it/s]"
     ]
    },
    {
     "name": "stdout",
     "output_type": "stream",
     "text": [
      "Epoch 15800 Train Loss 3.1555929965468315e-07 Test Loss 31.33690533141697\n"
     ]
    },
    {
     "name": "stderr",
     "output_type": "stream",
     "text": [
      " 32%|███████████▊                         | 15903/50000 [21:55<46:37, 12.19it/s]"
     ]
    },
    {
     "name": "stdout",
     "output_type": "stream",
     "text": [
      "Epoch 15900 Train Loss 3.1726911577326665e-07 Test Loss 31.318831919479006\n"
     ]
    },
    {
     "name": "stderr",
     "output_type": "stream",
     "text": [
      " 32%|███████████▊                         | 16003/50000 [22:04<47:20, 11.97it/s]"
     ]
    },
    {
     "name": "stdout",
     "output_type": "stream",
     "text": [
      "Epoch 16000 Train Loss 3.1205250588119545e-07 Test Loss 31.29468352793605\n"
     ]
    },
    {
     "name": "stderr",
     "output_type": "stream",
     "text": [
      " 32%|███████████▉                         | 16103/50000 [22:12<46:09, 12.24it/s]"
     ]
    },
    {
     "name": "stdout",
     "output_type": "stream",
     "text": [
      "Epoch 16100 Train Loss 3.122839434474727e-07 Test Loss 31.270953549637742\n"
     ]
    },
    {
     "name": "stderr",
     "output_type": "stream",
     "text": [
      " 32%|███████████▉                         | 16203/50000 [22:20<48:58, 11.50it/s]"
     ]
    },
    {
     "name": "stdout",
     "output_type": "stream",
     "text": [
      "Epoch 16200 Train Loss 3.123159893891841e-07 Test Loss 31.253627354219976\n"
     ]
    },
    {
     "name": "stderr",
     "output_type": "stream",
     "text": [
      " 33%|████████████                         | 16303/50000 [22:29<48:13, 11.65it/s]"
     ]
    },
    {
     "name": "stdout",
     "output_type": "stream",
     "text": [
      "Epoch 16300 Train Loss 3.0981421967726107e-07 Test Loss 31.24314495260251\n"
     ]
    },
    {
     "name": "stderr",
     "output_type": "stream",
     "text": [
      " 33%|████████████▏                        | 16403/50000 [22:37<45:56, 12.19it/s]"
     ]
    },
    {
     "name": "stdout",
     "output_type": "stream",
     "text": [
      "Epoch 16400 Train Loss 3.1501304474788964e-07 Test Loss 31.21086899206583\n"
     ]
    },
    {
     "name": "stderr",
     "output_type": "stream",
     "text": [
      " 33%|████████████▏                        | 16503/50000 [22:45<45:35, 12.25it/s]"
     ]
    },
    {
     "name": "stdout",
     "output_type": "stream",
     "text": [
      "Epoch 16500 Train Loss 3.1104984820981324e-07 Test Loss 31.19018959990149\n"
     ]
    },
    {
     "name": "stderr",
     "output_type": "stream",
     "text": [
      " 33%|████████████▎                        | 16603/50000 [22:54<45:31, 12.23it/s]"
     ]
    },
    {
     "name": "stdout",
     "output_type": "stream",
     "text": [
      "Epoch 16600 Train Loss 3.1228397864113217e-07 Test Loss 31.182097387458374\n"
     ]
    },
    {
     "name": "stderr",
     "output_type": "stream",
     "text": [
      " 33%|████████████▎                        | 16703/50000 [23:02<45:44, 12.13it/s]"
     ]
    },
    {
     "name": "stdout",
     "output_type": "stream",
     "text": [
      "Epoch 16700 Train Loss 3.0934346948744785e-07 Test Loss 31.14971353486443\n"
     ]
    },
    {
     "name": "stderr",
     "output_type": "stream",
     "text": [
      " 34%|████████████▍                        | 16803/50000 [23:10<45:23, 12.19it/s]"
     ]
    },
    {
     "name": "stdout",
     "output_type": "stream",
     "text": [
      "Epoch 16800 Train Loss 3.122234727928968e-07 Test Loss 31.136419551348006\n"
     ]
    },
    {
     "name": "stderr",
     "output_type": "stream",
     "text": [
      " 34%|████████████▌                        | 16903/50000 [23:18<46:12, 11.94it/s]"
     ]
    },
    {
     "name": "stdout",
     "output_type": "stream",
     "text": [
      "Epoch 16900 Train Loss 3.090908465548104e-07 Test Loss 31.115685012391193\n"
     ]
    },
    {
     "name": "stderr",
     "output_type": "stream",
     "text": [
      " 34%|████████████▌                        | 17003/50000 [23:27<45:41, 12.04it/s]"
     ]
    },
    {
     "name": "stdout",
     "output_type": "stream",
     "text": [
      "Epoch 17000 Train Loss 3.097671311347036e-07 Test Loss 31.093067173301954\n"
     ]
    },
    {
     "name": "stderr",
     "output_type": "stream",
     "text": [
      " 34%|████████████▋                        | 17103/50000 [23:35<44:42, 12.26it/s]"
     ]
    },
    {
     "name": "stdout",
     "output_type": "stream",
     "text": [
      "Epoch 17100 Train Loss 3.092082697704098e-07 Test Loss 31.073400202099695\n"
     ]
    },
    {
     "name": "stderr",
     "output_type": "stream",
     "text": [
      " 34%|████████████▋                        | 17203/50000 [23:43<44:21, 12.32it/s]"
     ]
    },
    {
     "name": "stdout",
     "output_type": "stream",
     "text": [
      "Epoch 17200 Train Loss 3.086517228112113e-07 Test Loss 31.04839459941828\n"
     ]
    },
    {
     "name": "stderr",
     "output_type": "stream",
     "text": [
      " 35%|████████████▊                        | 17303/50000 [23:51<44:27, 12.26it/s]"
     ]
    },
    {
     "name": "stdout",
     "output_type": "stream",
     "text": [
      "Epoch 17300 Train Loss 3.0783442905175154e-07 Test Loss 31.035645101821032\n"
     ]
    },
    {
     "name": "stderr",
     "output_type": "stream",
     "text": [
      " 35%|████████████▉                        | 17403/50000 [24:00<45:36, 11.91it/s]"
     ]
    },
    {
     "name": "stdout",
     "output_type": "stream",
     "text": [
      "Epoch 17400 Train Loss 3.065242961691819e-07 Test Loss 31.015299017476632\n"
     ]
    },
    {
     "name": "stderr",
     "output_type": "stream",
     "text": [
      " 35%|████████████▉                        | 17503/50000 [24:08<44:42, 12.12it/s]"
     ]
    },
    {
     "name": "stdout",
     "output_type": "stream",
     "text": [
      "Epoch 17500 Train Loss 3.074043631731226e-07 Test Loss 30.992852266974626\n"
     ]
    },
    {
     "name": "stderr",
     "output_type": "stream",
     "text": [
      " 35%|█████████████                        | 17603/50000 [24:16<44:29, 12.14it/s]"
     ]
    },
    {
     "name": "stdout",
     "output_type": "stream",
     "text": [
      "Epoch 17600 Train Loss 3.081487867645709e-07 Test Loss 30.97318099171805\n"
     ]
    },
    {
     "name": "stderr",
     "output_type": "stream",
     "text": [
      " 35%|█████████████                        | 17703/50000 [24:25<43:56, 12.25it/s]"
     ]
    },
    {
     "name": "stdout",
     "output_type": "stream",
     "text": [
      "Epoch 17700 Train Loss 3.0835842772941035e-07 Test Loss 30.951814617889287\n"
     ]
    },
    {
     "name": "stderr",
     "output_type": "stream",
     "text": [
      " 36%|█████████████▏                       | 17803/50000 [24:33<43:12, 12.42it/s]"
     ]
    },
    {
     "name": "stdout",
     "output_type": "stream",
     "text": [
      "Epoch 17800 Train Loss 3.104615590038515e-07 Test Loss 30.93679994677677\n"
     ]
    },
    {
     "name": "stderr",
     "output_type": "stream",
     "text": [
      " 36%|█████████████▏                       | 17903/50000 [24:41<43:53, 12.19it/s]"
     ]
    },
    {
     "name": "stdout",
     "output_type": "stream",
     "text": [
      "Epoch 17900 Train Loss 3.073678598619015e-07 Test Loss 30.9121409955632\n"
     ]
    },
    {
     "name": "stderr",
     "output_type": "stream",
     "text": [
      " 36%|█████████████▎                       | 18003/50000 [24:49<43:14, 12.33it/s]"
     ]
    },
    {
     "name": "stdout",
     "output_type": "stream",
     "text": [
      "Epoch 18000 Train Loss 3.070167426202638e-07 Test Loss 30.89497508563871\n"
     ]
    },
    {
     "name": "stderr",
     "output_type": "stream",
     "text": [
      " 36%|█████████████▍                       | 18103/50000 [24:57<43:10, 12.31it/s]"
     ]
    },
    {
     "name": "stdout",
     "output_type": "stream",
     "text": [
      "Epoch 18100 Train Loss 3.0533176886455324e-07 Test Loss 30.868979522576524\n"
     ]
    },
    {
     "name": "stderr",
     "output_type": "stream",
     "text": [
      " 36%|█████████████▍                       | 18203/50000 [25:05<43:30, 12.18it/s]"
     ]
    },
    {
     "name": "stdout",
     "output_type": "stream",
     "text": [
      "Epoch 18200 Train Loss 3.0536833997291565e-07 Test Loss 30.84079947697505\n"
     ]
    },
    {
     "name": "stderr",
     "output_type": "stream",
     "text": [
      " 37%|█████████████▌                       | 18303/50000 [25:14<43:09, 12.24it/s]"
     ]
    },
    {
     "name": "stdout",
     "output_type": "stream",
     "text": [
      "Epoch 18300 Train Loss 3.047835669381794e-07 Test Loss 30.823897348554915\n"
     ]
    },
    {
     "name": "stderr",
     "output_type": "stream",
     "text": [
      " 37%|█████████████▌                       | 18403/50000 [25:22<42:51, 12.29it/s]"
     ]
    },
    {
     "name": "stdout",
     "output_type": "stream",
     "text": [
      "Epoch 18400 Train Loss 3.0543974665721863e-07 Test Loss 30.80471052812739\n"
     ]
    },
    {
     "name": "stderr",
     "output_type": "stream",
     "text": [
      " 37%|█████████████▋                       | 18503/50000 [25:30<43:47, 11.99it/s]"
     ]
    },
    {
     "name": "stdout",
     "output_type": "stream",
     "text": [
      "Epoch 18500 Train Loss 3.031984365911692e-07 Test Loss 30.78102648094496\n"
     ]
    },
    {
     "name": "stderr",
     "output_type": "stream",
     "text": [
      " 37%|█████████████▊                       | 18603/50000 [25:38<43:39, 11.98it/s]"
     ]
    },
    {
     "name": "stdout",
     "output_type": "stream",
     "text": [
      "Epoch 18600 Train Loss 3.0706105252252097e-07 Test Loss 30.754359443383457\n"
     ]
    },
    {
     "name": "stderr",
     "output_type": "stream",
     "text": [
      " 37%|█████████████▊                       | 18703/50000 [25:47<42:44, 12.20it/s]"
     ]
    },
    {
     "name": "stdout",
     "output_type": "stream",
     "text": [
      "Epoch 18700 Train Loss 3.078626927101181e-07 Test Loss 30.7367155842303\n"
     ]
    },
    {
     "name": "stderr",
     "output_type": "stream",
     "text": [
      " 38%|█████████████▉                       | 18803/50000 [25:55<42:49, 12.14it/s]"
     ]
    },
    {
     "name": "stdout",
     "output_type": "stream",
     "text": [
      "Epoch 18800 Train Loss 3.047679087424151e-07 Test Loss 30.709074238545803\n"
     ]
    },
    {
     "name": "stderr",
     "output_type": "stream",
     "text": [
      " 38%|█████████████▉                       | 18903/50000 [26:03<42:38, 12.16it/s]"
     ]
    },
    {
     "name": "stdout",
     "output_type": "stream",
     "text": [
      "Epoch 18900 Train Loss 3.032965109377139e-07 Test Loss 30.69988808042055\n"
     ]
    },
    {
     "name": "stderr",
     "output_type": "stream",
     "text": [
      " 38%|██████████████                       | 19003/50000 [26:11<42:12, 12.24it/s]"
     ]
    },
    {
     "name": "stdout",
     "output_type": "stream",
     "text": [
      "Epoch 19000 Train Loss 3.0569271803827355e-07 Test Loss 30.673882275604548\n"
     ]
    },
    {
     "name": "stderr",
     "output_type": "stream",
     "text": [
      " 38%|██████████████▏                      | 19103/50000 [26:19<42:10, 12.21it/s]"
     ]
    },
    {
     "name": "stdout",
     "output_type": "stream",
     "text": [
      "Epoch 19100 Train Loss 3.034047902193872e-07 Test Loss 30.654644969097134\n"
     ]
    },
    {
     "name": "stderr",
     "output_type": "stream",
     "text": [
      " 38%|██████████████▏                      | 19203/50000 [26:28<42:12, 12.16it/s]"
     ]
    },
    {
     "name": "stdout",
     "output_type": "stream",
     "text": [
      "Epoch 19200 Train Loss 3.05497438707166e-07 Test Loss 30.640192158006172\n"
     ]
    },
    {
     "name": "stderr",
     "output_type": "stream",
     "text": [
      " 39%|██████████████▎                      | 19303/50000 [26:36<41:40, 12.28it/s]"
     ]
    },
    {
     "name": "stdout",
     "output_type": "stream",
     "text": [
      "Epoch 19300 Train Loss 3.0548888507132975e-07 Test Loss 30.610409654854447\n"
     ]
    },
    {
     "name": "stderr",
     "output_type": "stream",
     "text": [
      " 39%|██████████████▎                      | 19403/50000 [26:44<41:23, 12.32it/s]"
     ]
    },
    {
     "name": "stdout",
     "output_type": "stream",
     "text": [
      "Epoch 19400 Train Loss 3.043418886146419e-07 Test Loss 30.600966901928132\n"
     ]
    },
    {
     "name": "stderr",
     "output_type": "stream",
     "text": [
      " 39%|██████████████▍                      | 19503/50000 [26:52<41:31, 12.24it/s]"
     ]
    },
    {
     "name": "stdout",
     "output_type": "stream",
     "text": [
      "Epoch 19500 Train Loss 3.014133593391173e-07 Test Loss 30.57701128891116\n"
     ]
    },
    {
     "name": "stderr",
     "output_type": "stream",
     "text": [
      " 39%|██████████████▌                      | 19603/50000 [27:00<41:49, 12.12it/s]"
     ]
    },
    {
     "name": "stdout",
     "output_type": "stream",
     "text": [
      "Epoch 19600 Train Loss 3.0169634153223937e-07 Test Loss 30.550412827337485\n"
     ]
    },
    {
     "name": "stderr",
     "output_type": "stream",
     "text": [
      " 39%|██████████████▌                      | 19703/50000 [27:09<41:23, 12.20it/s]"
     ]
    },
    {
     "name": "stdout",
     "output_type": "stream",
     "text": [
      "Epoch 19700 Train Loss 3.007918873952503e-07 Test Loss 30.54374540791754\n"
     ]
    },
    {
     "name": "stderr",
     "output_type": "stream",
     "text": [
      " 40%|██████████████▋                      | 19803/50000 [27:17<41:15, 12.20it/s]"
     ]
    },
    {
     "name": "stdout",
     "output_type": "stream",
     "text": [
      "Epoch 19800 Train Loss 3.035182637613399e-07 Test Loss 30.50908389053832\n"
     ]
    },
    {
     "name": "stderr",
     "output_type": "stream",
     "text": [
      " 40%|██████████████▋                      | 19903/50000 [27:25<40:57, 12.25it/s]"
     ]
    },
    {
     "name": "stdout",
     "output_type": "stream",
     "text": [
      "Epoch 19900 Train Loss 3.008754817988942e-07 Test Loss 30.484086531091332\n"
     ]
    },
    {
     "name": "stderr",
     "output_type": "stream",
     "text": [
      " 40%|██████████████▊                      | 20003/50000 [27:33<40:49, 12.25it/s]"
     ]
    },
    {
     "name": "stdout",
     "output_type": "stream",
     "text": [
      "Epoch 20000 Train Loss 3.0358532393297747e-07 Test Loss 30.454789563759206\n"
     ]
    },
    {
     "name": "stderr",
     "output_type": "stream",
     "text": [
      " 40%|██████████████▉                      | 20103/50000 [27:42<41:13, 12.09it/s]"
     ]
    },
    {
     "name": "stdout",
     "output_type": "stream",
     "text": [
      "Epoch 20100 Train Loss 3.0254339444877784e-07 Test Loss 30.444528093769406\n"
     ]
    },
    {
     "name": "stderr",
     "output_type": "stream",
     "text": [
      " 40%|██████████████▉                      | 20203/50000 [27:50<40:22, 12.30it/s]"
     ]
    },
    {
     "name": "stdout",
     "output_type": "stream",
     "text": [
      "Epoch 20200 Train Loss 3.0191771186717513e-07 Test Loss 30.42613603929207\n"
     ]
    },
    {
     "name": "stderr",
     "output_type": "stream",
     "text": [
      " 41%|███████████████                      | 20303/50000 [27:58<40:57, 12.09it/s]"
     ]
    },
    {
     "name": "stdout",
     "output_type": "stream",
     "text": [
      "Epoch 20300 Train Loss 3.014365740666646e-07 Test Loss 30.394973517209387\n"
     ]
    },
    {
     "name": "stderr",
     "output_type": "stream",
     "text": [
      " 41%|███████████████                      | 20403/50000 [28:06<40:35, 12.15it/s]"
     ]
    },
    {
     "name": "stdout",
     "output_type": "stream",
     "text": [
      "Epoch 20400 Train Loss 3.000558448054298e-07 Test Loss 30.366159453587752\n"
     ]
    },
    {
     "name": "stderr",
     "output_type": "stream",
     "text": [
      " 41%|███████████████▏                     | 20503/50000 [28:14<40:08, 12.25it/s]"
     ]
    },
    {
     "name": "stdout",
     "output_type": "stream",
     "text": [
      "Epoch 20500 Train Loss 3.0107546061213297e-07 Test Loss 30.34901719361622\n"
     ]
    },
    {
     "name": "stderr",
     "output_type": "stream",
     "text": [
      " 41%|███████████████▏                     | 20603/50000 [28:23<39:45, 12.32it/s]"
     ]
    },
    {
     "name": "stdout",
     "output_type": "stream",
     "text": [
      "Epoch 20600 Train Loss 3.021788263152762e-07 Test Loss 30.3350215422735\n"
     ]
    },
    {
     "name": "stderr",
     "output_type": "stream",
     "text": [
      " 41%|███████████████▎                     | 20703/50000 [28:31<40:59, 11.91it/s]"
     ]
    },
    {
     "name": "stdout",
     "output_type": "stream",
     "text": [
      "Epoch 20700 Train Loss 3.0023342006408e-07 Test Loss 30.30095542907599\n"
     ]
    },
    {
     "name": "stderr",
     "output_type": "stream",
     "text": [
      " 42%|███████████████▍                     | 20803/50000 [28:39<40:16, 12.08it/s]"
     ]
    },
    {
     "name": "stdout",
     "output_type": "stream",
     "text": [
      "Epoch 20800 Train Loss 3.0226633344531074e-07 Test Loss 30.28013455612526\n"
     ]
    },
    {
     "name": "stderr",
     "output_type": "stream",
     "text": [
      " 42%|███████████████▍                     | 20903/50000 [28:47<39:37, 12.24it/s]"
     ]
    },
    {
     "name": "stdout",
     "output_type": "stream",
     "text": [
      "Epoch 20900 Train Loss 3.00602973217016e-07 Test Loss 30.258303673633947\n"
     ]
    },
    {
     "name": "stderr",
     "output_type": "stream",
     "text": [
      " 42%|███████████████▌                     | 21003/50000 [28:55<40:07, 12.05it/s]"
     ]
    },
    {
     "name": "stdout",
     "output_type": "stream",
     "text": [
      "Epoch 21000 Train Loss 2.989806747008916e-07 Test Loss 30.229758876389084\n"
     ]
    },
    {
     "name": "stderr",
     "output_type": "stream",
     "text": [
      " 42%|███████████████▌                     | 21103/50000 [29:04<39:44, 12.12it/s]"
     ]
    },
    {
     "name": "stdout",
     "output_type": "stream",
     "text": [
      "Epoch 21100 Train Loss 3.008652735359905e-07 Test Loss 30.211535290985978\n"
     ]
    },
    {
     "name": "stderr",
     "output_type": "stream",
     "text": [
      " 42%|███████████████▋                     | 21203/50000 [29:12<39:40, 12.10it/s]"
     ]
    },
    {
     "name": "stdout",
     "output_type": "stream",
     "text": [
      "Epoch 21200 Train Loss 2.9868127388003434e-07 Test Loss 30.181535307840637\n"
     ]
    },
    {
     "name": "stderr",
     "output_type": "stream",
     "text": [
      " 43%|███████████████▊                     | 21303/50000 [29:20<38:53, 12.30it/s]"
     ]
    },
    {
     "name": "stdout",
     "output_type": "stream",
     "text": [
      "Epoch 21300 Train Loss 2.9763174386779025e-07 Test Loss 30.162190528826233\n"
     ]
    },
    {
     "name": "stderr",
     "output_type": "stream",
     "text": [
      " 43%|███████████████▊                     | 21403/50000 [29:29<39:22, 12.11it/s]"
     ]
    },
    {
     "name": "stdout",
     "output_type": "stream",
     "text": [
      "Epoch 21400 Train Loss 2.985077378833151e-07 Test Loss 30.13617975945357\n"
     ]
    },
    {
     "name": "stderr",
     "output_type": "stream",
     "text": [
      " 43%|███████████████▉                     | 21503/50000 [29:37<39:49, 11.92it/s]"
     ]
    },
    {
     "name": "stdout",
     "output_type": "stream",
     "text": [
      "Epoch 21500 Train Loss 3.006697182897037e-07 Test Loss 30.09726716268815\n"
     ]
    },
    {
     "name": "stderr",
     "output_type": "stream",
     "text": [
      " 43%|███████████████▉                     | 21603/50000 [29:46<39:30, 11.98it/s]"
     ]
    },
    {
     "name": "stdout",
     "output_type": "stream",
     "text": [
      "Epoch 21600 Train Loss 3.018343747563328e-07 Test Loss 30.088856608016087\n"
     ]
    },
    {
     "name": "stderr",
     "output_type": "stream",
     "text": [
      " 43%|████████████████                     | 21703/50000 [29:54<39:17, 12.00it/s]"
     ]
    },
    {
     "name": "stdout",
     "output_type": "stream",
     "text": [
      "Epoch 21700 Train Loss 2.9892980299601346e-07 Test Loss 30.061865619174597\n"
     ]
    },
    {
     "name": "stderr",
     "output_type": "stream",
     "text": [
      " 44%|████████████████▏                    | 21803/50000 [30:03<38:29, 12.21it/s]"
     ]
    },
    {
     "name": "stdout",
     "output_type": "stream",
     "text": [
      "Epoch 21800 Train Loss 3.002269815382176e-07 Test Loss 30.022985189639424\n"
     ]
    },
    {
     "name": "stderr",
     "output_type": "stream",
     "text": [
      " 44%|████████████████▏                    | 21903/50000 [30:11<38:36, 12.13it/s]"
     ]
    },
    {
     "name": "stdout",
     "output_type": "stream",
     "text": [
      "Epoch 21900 Train Loss 2.9632959284672347e-07 Test Loss 30.01275400188907\n"
     ]
    },
    {
     "name": "stderr",
     "output_type": "stream",
     "text": [
      " 44%|████████████████▎                    | 22003/50000 [30:19<38:21, 12.16it/s]"
     ]
    },
    {
     "name": "stdout",
     "output_type": "stream",
     "text": [
      "Epoch 22000 Train Loss 2.9729739590850183e-07 Test Loss 29.968452927423055\n"
     ]
    },
    {
     "name": "stderr",
     "output_type": "stream",
     "text": [
      " 44%|████████████████▎                    | 22103/50000 [30:27<38:35, 12.05it/s]"
     ]
    },
    {
     "name": "stdout",
     "output_type": "stream",
     "text": [
      "Epoch 22100 Train Loss 2.9618890856370425e-07 Test Loss 29.954239355360862\n"
     ]
    },
    {
     "name": "stderr",
     "output_type": "stream",
     "text": [
      " 44%|████████████████▍                    | 22203/50000 [30:36<38:02, 12.18it/s]"
     ]
    },
    {
     "name": "stdout",
     "output_type": "stream",
     "text": [
      "Epoch 22200 Train Loss 2.95985223711553e-07 Test Loss 29.91852054828201\n"
     ]
    },
    {
     "name": "stderr",
     "output_type": "stream",
     "text": [
      " 45%|████████████████▌                    | 22303/50000 [30:44<38:27, 12.00it/s]"
     ]
    },
    {
     "name": "stdout",
     "output_type": "stream",
     "text": [
      "Epoch 22300 Train Loss 2.9823895586110886e-07 Test Loss 29.90047413356126\n"
     ]
    },
    {
     "name": "stderr",
     "output_type": "stream",
     "text": [
      " 45%|████████████████▌                    | 22403/50000 [30:52<37:41, 12.21it/s]"
     ]
    },
    {
     "name": "stdout",
     "output_type": "stream",
     "text": [
      "Epoch 22400 Train Loss 2.9701198006410305e-07 Test Loss 29.869609064083754\n"
     ]
    },
    {
     "name": "stderr",
     "output_type": "stream",
     "text": [
      " 45%|████████████████▋                    | 22503/50000 [31:00<37:33, 12.20it/s]"
     ]
    },
    {
     "name": "stdout",
     "output_type": "stream",
     "text": [
      "Epoch 22500 Train Loss 2.9505343890655095e-07 Test Loss 29.83131563125242\n"
     ]
    },
    {
     "name": "stderr",
     "output_type": "stream",
     "text": [
      " 45%|████████████████▋                    | 22603/50000 [31:09<37:37, 12.14it/s]"
     ]
    },
    {
     "name": "stdout",
     "output_type": "stream",
     "text": [
      "Epoch 22600 Train Loss 2.9608940535981797e-07 Test Loss 29.80469068336123\n"
     ]
    },
    {
     "name": "stderr",
     "output_type": "stream",
     "text": [
      " 45%|████████████████▊                    | 22703/50000 [31:17<37:46, 12.05it/s]"
     ]
    },
    {
     "name": "stdout",
     "output_type": "stream",
     "text": [
      "Epoch 22700 Train Loss 2.976710961121077e-07 Test Loss 29.774900768306047\n"
     ]
    },
    {
     "name": "stderr",
     "output_type": "stream",
     "text": [
      " 46%|████████████████▊                    | 22803/50000 [31:25<37:24, 12.12it/s]"
     ]
    },
    {
     "name": "stdout",
     "output_type": "stream",
     "text": [
      "Epoch 22800 Train Loss 3.004134949355363e-07 Test Loss 29.747438279641276\n"
     ]
    },
    {
     "name": "stderr",
     "output_type": "stream",
     "text": [
      " 46%|████████████████▉                    | 22903/50000 [31:33<37:08, 12.16it/s]"
     ]
    },
    {
     "name": "stdout",
     "output_type": "stream",
     "text": [
      "Epoch 22900 Train Loss 2.944998956603436e-07 Test Loss 29.716174072755198\n"
     ]
    },
    {
     "name": "stderr",
     "output_type": "stream",
     "text": [
      " 46%|█████████████████                    | 23003/50000 [31:41<37:02, 12.14it/s]"
     ]
    },
    {
     "name": "stdout",
     "output_type": "stream",
     "text": [
      "Epoch 23000 Train Loss 2.954131799341582e-07 Test Loss 29.690424385722505\n"
     ]
    },
    {
     "name": "stderr",
     "output_type": "stream",
     "text": [
      " 46%|█████████████████                    | 23103/50000 [31:50<37:07, 12.08it/s]"
     ]
    },
    {
     "name": "stdout",
     "output_type": "stream",
     "text": [
      "Epoch 23100 Train Loss 2.946446222669672e-07 Test Loss 29.664328870396183\n"
     ]
    },
    {
     "name": "stderr",
     "output_type": "stream",
     "text": [
      " 46%|█████████████████▏                   | 23203/50000 [31:58<36:22, 12.28it/s]"
     ]
    },
    {
     "name": "stdout",
     "output_type": "stream",
     "text": [
      "Epoch 23200 Train Loss 2.978278742388466e-07 Test Loss 29.6248331502684\n"
     ]
    },
    {
     "name": "stderr",
     "output_type": "stream",
     "text": [
      " 47%|█████████████████▏                   | 23303/50000 [32:06<36:18, 12.25it/s]"
     ]
    },
    {
     "name": "stdout",
     "output_type": "stream",
     "text": [
      "Epoch 23300 Train Loss 2.934074702368612e-07 Test Loss 29.612567299642286\n"
     ]
    },
    {
     "name": "stderr",
     "output_type": "stream",
     "text": [
      " 47%|█████████████████▎                   | 23403/50000 [32:14<36:22, 12.19it/s]"
     ]
    },
    {
     "name": "stdout",
     "output_type": "stream",
     "text": [
      "Epoch 23400 Train Loss 2.97930393732068e-07 Test Loss 29.575689677958234\n"
     ]
    },
    {
     "name": "stderr",
     "output_type": "stream",
     "text": [
      " 47%|█████████████████▍                   | 23503/50000 [32:23<36:10, 12.21it/s]"
     ]
    },
    {
     "name": "stdout",
     "output_type": "stream",
     "text": [
      "Epoch 23500 Train Loss 2.9472855869097645e-07 Test Loss 29.556363830994346\n"
     ]
    },
    {
     "name": "stderr",
     "output_type": "stream",
     "text": [
      " 47%|█████████████████▍                   | 23603/50000 [32:31<36:23, 12.09it/s]"
     ]
    },
    {
     "name": "stdout",
     "output_type": "stream",
     "text": [
      "Epoch 23600 Train Loss 2.94935804007203e-07 Test Loss 29.53735352927986\n"
     ]
    },
    {
     "name": "stderr",
     "output_type": "stream",
     "text": [
      " 47%|█████████████████▌                   | 23703/50000 [32:39<35:52, 12.22it/s]"
     ]
    },
    {
     "name": "stdout",
     "output_type": "stream",
     "text": [
      "Epoch 23700 Train Loss 2.991288506848279e-07 Test Loss 29.497203645056572\n"
     ]
    },
    {
     "name": "stderr",
     "output_type": "stream",
     "text": [
      " 48%|█████████████████▌                   | 23803/50000 [32:47<35:42, 12.23it/s]"
     ]
    },
    {
     "name": "stdout",
     "output_type": "stream",
     "text": [
      "Epoch 23800 Train Loss 2.9430817997282603e-07 Test Loss 29.48393990168767\n"
     ]
    },
    {
     "name": "stderr",
     "output_type": "stream",
     "text": [
      " 48%|█████████████████▋                   | 23903/50000 [32:55<35:31, 12.24it/s]"
     ]
    },
    {
     "name": "stdout",
     "output_type": "stream",
     "text": [
      "Epoch 23900 Train Loss 2.9213678655513116e-07 Test Loss 29.451055657177907\n"
     ]
    },
    {
     "name": "stderr",
     "output_type": "stream",
     "text": [
      " 48%|█████████████████▊                   | 24003/50000 [33:04<35:36, 12.17it/s]"
     ]
    },
    {
     "name": "stdout",
     "output_type": "stream",
     "text": [
      "Epoch 24000 Train Loss 2.923322387739221e-07 Test Loss 29.42254729787529\n"
     ]
    },
    {
     "name": "stderr",
     "output_type": "stream",
     "text": [
      " 48%|█████████████████▊                   | 24103/50000 [33:12<35:19, 12.22it/s]"
     ]
    },
    {
     "name": "stdout",
     "output_type": "stream",
     "text": [
      "Epoch 24100 Train Loss 2.9227928299305175e-07 Test Loss 29.400056485168648\n"
     ]
    },
    {
     "name": "stderr",
     "output_type": "stream",
     "text": [
      " 48%|█████████████████▉                   | 24203/50000 [33:20<34:56, 12.30it/s]"
     ]
    },
    {
     "name": "stdout",
     "output_type": "stream",
     "text": [
      "Epoch 24200 Train Loss 2.9181436207895026e-07 Test Loss 29.363999147719838\n"
     ]
    },
    {
     "name": "stderr",
     "output_type": "stream",
     "text": [
      " 49%|█████████████████▉                   | 24303/50000 [33:28<35:09, 12.18it/s]"
     ]
    },
    {
     "name": "stdout",
     "output_type": "stream",
     "text": [
      "Epoch 24300 Train Loss 2.928073462279949e-07 Test Loss 29.33556519816288\n"
     ]
    },
    {
     "name": "stderr",
     "output_type": "stream",
     "text": [
      " 49%|██████████████████                   | 24403/50000 [33:36<34:56, 12.21it/s]"
     ]
    },
    {
     "name": "stdout",
     "output_type": "stream",
     "text": [
      "Epoch 24400 Train Loss 2.9461010877823506e-07 Test Loss 29.315429599819257\n"
     ]
    },
    {
     "name": "stderr",
     "output_type": "stream",
     "text": [
      " 49%|██████████████████▏                  | 24503/50000 [33:45<34:43, 12.24it/s]"
     ]
    },
    {
     "name": "stdout",
     "output_type": "stream",
     "text": [
      "Epoch 24500 Train Loss 2.908744077094395e-07 Test Loss 29.279255500037575\n"
     ]
    },
    {
     "name": "stderr",
     "output_type": "stream",
     "text": [
      " 49%|██████████████████▏                  | 24603/50000 [33:53<34:59, 12.10it/s]"
     ]
    },
    {
     "name": "stdout",
     "output_type": "stream",
     "text": [
      "Epoch 24600 Train Loss 2.914881832892065e-07 Test Loss 29.254666746507933\n"
     ]
    },
    {
     "name": "stderr",
     "output_type": "stream",
     "text": [
      " 49%|██████████████████▎                  | 24703/50000 [34:01<34:34, 12.20it/s]"
     ]
    },
    {
     "name": "stdout",
     "output_type": "stream",
     "text": [
      "Epoch 24700 Train Loss 2.909020949807575e-07 Test Loss 29.216976917882043\n"
     ]
    },
    {
     "name": "stderr",
     "output_type": "stream",
     "text": [
      " 50%|██████████████████▎                  | 24803/50000 [34:09<34:29, 12.18it/s]"
     ]
    },
    {
     "name": "stdout",
     "output_type": "stream",
     "text": [
      "Epoch 24800 Train Loss 2.9264942279947775e-07 Test Loss 29.19020224193644\n"
     ]
    },
    {
     "name": "stderr",
     "output_type": "stream",
     "text": [
      " 50%|██████████████████▍                  | 24903/50000 [34:17<34:03, 12.28it/s]"
     ]
    },
    {
     "name": "stdout",
     "output_type": "stream",
     "text": [
      "Epoch 24900 Train Loss 2.9188279777548203e-07 Test Loss 29.155254782634458\n"
     ]
    },
    {
     "name": "stderr",
     "output_type": "stream",
     "text": [
      " 50%|██████████████████▌                  | 25003/50000 [34:26<34:05, 12.22it/s]"
     ]
    },
    {
     "name": "stdout",
     "output_type": "stream",
     "text": [
      "Epoch 25000 Train Loss 2.909258661950357e-07 Test Loss 29.118486025159704\n"
     ]
    },
    {
     "name": "stderr",
     "output_type": "stream",
     "text": [
      " 50%|██████████████████▌                  | 25103/50000 [34:34<34:19, 12.09it/s]"
     ]
    },
    {
     "name": "stdout",
     "output_type": "stream",
     "text": [
      "Epoch 25100 Train Loss 2.9081189486148824e-07 Test Loss 29.08967157329897\n"
     ]
    },
    {
     "name": "stderr",
     "output_type": "stream",
     "text": [
      " 50%|██████████████████▋                  | 25203/50000 [34:42<33:48, 12.22it/s]"
     ]
    },
    {
     "name": "stdout",
     "output_type": "stream",
     "text": [
      "Epoch 25200 Train Loss 2.8946687043231194e-07 Test Loss 29.049604559948452\n"
     ]
    },
    {
     "name": "stderr",
     "output_type": "stream",
     "text": [
      " 51%|██████████████████▋                  | 25303/50000 [34:50<33:42, 12.21it/s]"
     ]
    },
    {
     "name": "stdout",
     "output_type": "stream",
     "text": [
      "Epoch 25300 Train Loss 2.903244483307437e-07 Test Loss 29.018850418217212\n"
     ]
    },
    {
     "name": "stderr",
     "output_type": "stream",
     "text": [
      " 51%|██████████████████▊                  | 25403/50000 [34:59<33:24, 12.27it/s]"
     ]
    },
    {
     "name": "stdout",
     "output_type": "stream",
     "text": [
      "Epoch 25400 Train Loss 2.9068052081257765e-07 Test Loss 28.99071897327463\n"
     ]
    },
    {
     "name": "stderr",
     "output_type": "stream",
     "text": [
      " 51%|██████████████████▊                  | 25503/50000 [35:07<33:53, 12.05it/s]"
     ]
    },
    {
     "name": "stdout",
     "output_type": "stream",
     "text": [
      "Epoch 25500 Train Loss 2.891923366337158e-07 Test Loss 28.94788893781286\n"
     ]
    },
    {
     "name": "stderr",
     "output_type": "stream",
     "text": [
      " 51%|██████████████████▉                  | 25603/50000 [35:15<33:34, 12.11it/s]"
     ]
    },
    {
     "name": "stdout",
     "output_type": "stream",
     "text": [
      "Epoch 25600 Train Loss 2.898053009748842e-07 Test Loss 28.91886465527244\n"
     ]
    },
    {
     "name": "stderr",
     "output_type": "stream",
     "text": [
      " 51%|███████████████████                  | 25701/50000 [35:23<34:13, 11.83it/s]"
     ]
    },
    {
     "name": "stdout",
     "output_type": "stream",
     "text": [
      "Epoch 25700 Train Loss 2.9025018870738134e-07 Test Loss 28.886162610029494\n"
     ]
    },
    {
     "name": "stderr",
     "output_type": "stream",
     "text": [
      " 52%|███████████████████                  | 25803/50000 [35:33<35:37, 11.32it/s]"
     ]
    },
    {
     "name": "stdout",
     "output_type": "stream",
     "text": [
      "Epoch 25800 Train Loss 2.878513883164776e-07 Test Loss 28.84302232692257\n"
     ]
    },
    {
     "name": "stderr",
     "output_type": "stream",
     "text": [
      " 52%|███████████████████▏                 | 25903/50000 [35:41<33:35, 11.96it/s]"
     ]
    },
    {
     "name": "stdout",
     "output_type": "stream",
     "text": [
      "Epoch 25900 Train Loss 2.876587926026578e-07 Test Loss 28.818514125624297\n"
     ]
    },
    {
     "name": "stderr",
     "output_type": "stream",
     "text": [
      " 52%|███████████████████▏                 | 26003/50000 [35:49<32:55, 12.15it/s]"
     ]
    },
    {
     "name": "stdout",
     "output_type": "stream",
     "text": [
      "Epoch 26000 Train Loss 2.88903652928801e-07 Test Loss 28.77904094185634\n"
     ]
    },
    {
     "name": "stderr",
     "output_type": "stream",
     "text": [
      " 52%|███████████████████▎                 | 26103/50000 [35:58<33:56, 11.74it/s]"
     ]
    },
    {
     "name": "stdout",
     "output_type": "stream",
     "text": [
      "Epoch 26100 Train Loss 2.908351704274622e-07 Test Loss 28.73635556068752\n"
     ]
    },
    {
     "name": "stderr",
     "output_type": "stream",
     "text": [
      " 52%|███████████████████▍                 | 26203/50000 [36:06<33:08, 11.97it/s]"
     ]
    },
    {
     "name": "stdout",
     "output_type": "stream",
     "text": [
      "Epoch 26200 Train Loss 2.891920111245988e-07 Test Loss 28.694089654054075\n"
     ]
    },
    {
     "name": "stderr",
     "output_type": "stream",
     "text": [
      " 53%|███████████████████▍                 | 26303/50000 [36:15<32:44, 12.06it/s]"
     ]
    },
    {
     "name": "stdout",
     "output_type": "stream",
     "text": [
      "Epoch 26300 Train Loss 2.88089220273376e-07 Test Loss 28.66780267724989\n"
     ]
    },
    {
     "name": "stderr",
     "output_type": "stream",
     "text": [
      " 53%|███████████████████▌                 | 26403/50000 [36:23<32:43, 12.02it/s]"
     ]
    },
    {
     "name": "stdout",
     "output_type": "stream",
     "text": [
      "Epoch 26400 Train Loss 2.876761033786132e-07 Test Loss 28.630321762452883\n"
     ]
    },
    {
     "name": "stderr",
     "output_type": "stream",
     "text": [
      " 53%|███████████████████▌                 | 26503/50000 [36:31<33:36, 11.65it/s]"
     ]
    },
    {
     "name": "stdout",
     "output_type": "stream",
     "text": [
      "Epoch 26500 Train Loss 2.894738966380387e-07 Test Loss 28.582043723344473\n"
     ]
    },
    {
     "name": "stderr",
     "output_type": "stream",
     "text": [
      " 53%|███████████████████▋                 | 26603/50000 [36:40<32:37, 11.95it/s]"
     ]
    },
    {
     "name": "stdout",
     "output_type": "stream",
     "text": [
      "Epoch 26600 Train Loss 2.9005151077640554e-07 Test Loss 28.5410031594328\n"
     ]
    },
    {
     "name": "stderr",
     "output_type": "stream",
     "text": [
      " 53%|███████████████████▊                 | 26703/50000 [36:48<31:53, 12.17it/s]"
     ]
    },
    {
     "name": "stdout",
     "output_type": "stream",
     "text": [
      "Epoch 26700 Train Loss 2.876081469364179e-07 Test Loss 28.506328448223698\n"
     ]
    },
    {
     "name": "stderr",
     "output_type": "stream",
     "text": [
      " 54%|███████████████████▊                 | 26803/50000 [36:57<31:56, 12.10it/s]"
     ]
    },
    {
     "name": "stdout",
     "output_type": "stream",
     "text": [
      "Epoch 26800 Train Loss 2.8575993833890564e-07 Test Loss 28.463186579406983\n"
     ]
    },
    {
     "name": "stderr",
     "output_type": "stream",
     "text": [
      " 54%|███████████████████▉                 | 26903/50000 [37:05<31:39, 12.16it/s]"
     ]
    },
    {
     "name": "stdout",
     "output_type": "stream",
     "text": [
      "Epoch 26900 Train Loss 2.87519519072419e-07 Test Loss 28.4235865279651\n"
     ]
    },
    {
     "name": "stderr",
     "output_type": "stream",
     "text": [
      " 54%|███████████████████▉                 | 27003/50000 [37:13<32:45, 11.70it/s]"
     ]
    },
    {
     "name": "stdout",
     "output_type": "stream",
     "text": [
      "Epoch 27000 Train Loss 2.8821130599451264e-07 Test Loss 28.38651747493574\n"
     ]
    },
    {
     "name": "stderr",
     "output_type": "stream",
     "text": [
      " 54%|████████████████████                 | 27103/50000 [37:22<32:22, 11.79it/s]"
     ]
    },
    {
     "name": "stdout",
     "output_type": "stream",
     "text": [
      "Epoch 27100 Train Loss 2.862304418879844e-07 Test Loss 28.339668962741875\n"
     ]
    },
    {
     "name": "stderr",
     "output_type": "stream",
     "text": [
      " 54%|████████████████████▏                | 27203/50000 [37:30<32:29, 11.70it/s]"
     ]
    },
    {
     "name": "stdout",
     "output_type": "stream",
     "text": [
      "Epoch 27200 Train Loss 2.860504385908455e-07 Test Loss 28.30055682717409\n"
     ]
    },
    {
     "name": "stderr",
     "output_type": "stream",
     "text": [
      " 55%|████████████████████▏                | 27303/50000 [37:39<31:20, 12.07it/s]"
     ]
    },
    {
     "name": "stdout",
     "output_type": "stream",
     "text": [
      "Epoch 27300 Train Loss 2.854827295114062e-07 Test Loss 28.261230617451027\n"
     ]
    },
    {
     "name": "stderr",
     "output_type": "stream",
     "text": [
      " 55%|████████████████████▎                | 27403/50000 [37:47<32:45, 11.50it/s]"
     ]
    },
    {
     "name": "stdout",
     "output_type": "stream",
     "text": [
      "Epoch 27400 Train Loss 2.873345422166023e-07 Test Loss 28.22093727205015\n"
     ]
    },
    {
     "name": "stderr",
     "output_type": "stream",
     "text": [
      " 55%|████████████████████▎                | 27503/50000 [37:56<31:21, 11.96it/s]"
     ]
    },
    {
     "name": "stdout",
     "output_type": "stream",
     "text": [
      "Epoch 27500 Train Loss 2.843897527967169e-07 Test Loss 28.17637478097064\n"
     ]
    },
    {
     "name": "stderr",
     "output_type": "stream",
     "text": [
      " 55%|████████████████████▍                | 27603/50000 [38:04<31:32, 11.84it/s]"
     ]
    },
    {
     "name": "stdout",
     "output_type": "stream",
     "text": [
      "Epoch 27600 Train Loss 2.848697413042838e-07 Test Loss 28.145548623165226\n"
     ]
    },
    {
     "name": "stderr",
     "output_type": "stream",
     "text": [
      " 55%|████████████████████▌                | 27703/50000 [38:13<30:30, 12.18it/s]"
     ]
    },
    {
     "name": "stdout",
     "output_type": "stream",
     "text": [
      "Epoch 27700 Train Loss 2.84344940013178e-07 Test Loss 28.101420235832116\n"
     ]
    },
    {
     "name": "stderr",
     "output_type": "stream",
     "text": [
      " 56%|████████████████████▌                | 27803/50000 [38:21<30:36, 12.09it/s]"
     ]
    },
    {
     "name": "stdout",
     "output_type": "stream",
     "text": [
      "Epoch 27800 Train Loss 2.8423041344744374e-07 Test Loss 28.048902954239896\n"
     ]
    },
    {
     "name": "stderr",
     "output_type": "stream",
     "text": [
      " 56%|████████████████████▋                | 27903/50000 [38:30<30:54, 11.91it/s]"
     ]
    },
    {
     "name": "stdout",
     "output_type": "stream",
     "text": [
      "Epoch 27900 Train Loss 2.8455173482998575e-07 Test Loss 27.9979512288263\n"
     ]
    },
    {
     "name": "stderr",
     "output_type": "stream",
     "text": [
      " 56%|████████████████████▋                | 28003/50000 [38:38<32:05, 11.43it/s]"
     ]
    },
    {
     "name": "stdout",
     "output_type": "stream",
     "text": [
      "Epoch 28000 Train Loss 2.838381076804447e-07 Test Loss 27.94800066650522\n"
     ]
    },
    {
     "name": "stderr",
     "output_type": "stream",
     "text": [
      " 56%|████████████████████▊                | 28103/50000 [38:47<31:14, 11.68it/s]"
     ]
    },
    {
     "name": "stdout",
     "output_type": "stream",
     "text": [
      "Epoch 28100 Train Loss 2.846179294412547e-07 Test Loss 27.899976846515504\n"
     ]
    },
    {
     "name": "stderr",
     "output_type": "stream",
     "text": [
      " 56%|████████████████████▊                | 28203/50000 [38:55<31:16, 11.62it/s]"
     ]
    },
    {
     "name": "stdout",
     "output_type": "stream",
     "text": [
      "Epoch 28200 Train Loss 2.8363300218034707e-07 Test Loss 27.85388641659714\n"
     ]
    },
    {
     "name": "stderr",
     "output_type": "stream",
     "text": [
      " 57%|████████████████████▉                | 28303/50000 [39:04<30:58, 11.67it/s]"
     ]
    },
    {
     "name": "stdout",
     "output_type": "stream",
     "text": [
      "Epoch 28300 Train Loss 2.8475669054411276e-07 Test Loss 27.811334387751636\n"
     ]
    },
    {
     "name": "stderr",
     "output_type": "stream",
     "text": [
      " 57%|█████████████████████                | 28403/50000 [39:12<30:10, 11.93it/s]"
     ]
    },
    {
     "name": "stdout",
     "output_type": "stream",
     "text": [
      "Epoch 28400 Train Loss 2.880670888399699e-07 Test Loss 27.75898068029978\n"
     ]
    },
    {
     "name": "stderr",
     "output_type": "stream",
     "text": [
      " 57%|█████████████████████                | 28503/50000 [39:20<29:41, 12.07it/s]"
     ]
    },
    {
     "name": "stdout",
     "output_type": "stream",
     "text": [
      "Epoch 28500 Train Loss 2.8871880606192464e-07 Test Loss 27.713624620985744\n"
     ]
    },
    {
     "name": "stderr",
     "output_type": "stream",
     "text": [
      " 57%|█████████████████████▏               | 28603/50000 [39:29<29:22, 12.14it/s]"
     ]
    },
    {
     "name": "stdout",
     "output_type": "stream",
     "text": [
      "Epoch 28600 Train Loss 2.845419152672989e-07 Test Loss 27.67280399703296\n"
     ]
    },
    {
     "name": "stderr",
     "output_type": "stream",
     "text": [
      " 57%|█████████████████████▏               | 28703/50000 [39:37<30:46, 11.53it/s]"
     ]
    },
    {
     "name": "stdout",
     "output_type": "stream",
     "text": [
      "Epoch 28700 Train Loss 2.825280975949621e-07 Test Loss 27.614664179978668\n"
     ]
    },
    {
     "name": "stderr",
     "output_type": "stream",
     "text": [
      " 58%|█████████████████████▎               | 28803/50000 [39:45<29:24, 12.01it/s]"
     ]
    },
    {
     "name": "stdout",
     "output_type": "stream",
     "text": [
      "Epoch 28800 Train Loss 2.8464357447840006e-07 Test Loss 27.56940311159797\n"
     ]
    },
    {
     "name": "stderr",
     "output_type": "stream",
     "text": [
      " 58%|█████████████████████▍               | 28903/50000 [39:53<28:52, 12.17it/s]"
     ]
    },
    {
     "name": "stdout",
     "output_type": "stream",
     "text": [
      "Epoch 28900 Train Loss 2.825667563092191e-07 Test Loss 27.522875352697255\n"
     ]
    },
    {
     "name": "stderr",
     "output_type": "stream",
     "text": [
      " 58%|█████████████████████▍               | 29003/50000 [40:02<28:55, 12.10it/s]"
     ]
    },
    {
     "name": "stdout",
     "output_type": "stream",
     "text": [
      "Epoch 29000 Train Loss 2.8158111682195514e-07 Test Loss 27.4775502995227\n"
     ]
    },
    {
     "name": "stderr",
     "output_type": "stream",
     "text": [
      " 58%|█████████████████████▌               | 29103/50000 [40:10<28:59, 12.01it/s]"
     ]
    },
    {
     "name": "stdout",
     "output_type": "stream",
     "text": [
      "Epoch 29100 Train Loss 2.8158393402606584e-07 Test Loss 27.426363318817685\n"
     ]
    },
    {
     "name": "stderr",
     "output_type": "stream",
     "text": [
      " 58%|█████████████████████▌               | 29203/50000 [40:19<28:45, 12.06it/s]"
     ]
    },
    {
     "name": "stdout",
     "output_type": "stream",
     "text": [
      "Epoch 29200 Train Loss 2.816349066344671e-07 Test Loss 27.375082586832225\n"
     ]
    },
    {
     "name": "stderr",
     "output_type": "stream",
     "text": [
      " 59%|█████████████████████▋               | 29303/50000 [40:27<28:37, 12.05it/s]"
     ]
    },
    {
     "name": "stdout",
     "output_type": "stream",
     "text": [
      "Epoch 29300 Train Loss 2.823037758179404e-07 Test Loss 27.32676107454748\n"
     ]
    },
    {
     "name": "stderr",
     "output_type": "stream",
     "text": [
      " 59%|█████████████████████▊               | 29403/50000 [40:35<28:35, 12.00it/s]"
     ]
    },
    {
     "name": "stdout",
     "output_type": "stream",
     "text": [
      "Epoch 29400 Train Loss 2.804209188349278e-07 Test Loss 27.27183075662617\n"
     ]
    },
    {
     "name": "stderr",
     "output_type": "stream",
     "text": [
      " 59%|█████████████████████▊               | 29503/50000 [40:43<28:30, 11.98it/s]"
     ]
    },
    {
     "name": "stdout",
     "output_type": "stream",
     "text": [
      "Epoch 29500 Train Loss 2.815738093753656e-07 Test Loss 27.217144756890214\n"
     ]
    },
    {
     "name": "stderr",
     "output_type": "stream",
     "text": [
      " 59%|█████████████████████▉               | 29603/50000 [40:52<27:50, 12.21it/s]"
     ]
    },
    {
     "name": "stdout",
     "output_type": "stream",
     "text": [
      "Epoch 29600 Train Loss 2.8070545183693636e-07 Test Loss 27.161326423372746\n"
     ]
    },
    {
     "name": "stderr",
     "output_type": "stream",
     "text": [
      " 59%|█████████████████████▉               | 29703/50000 [41:00<29:17, 11.55it/s]"
     ]
    },
    {
     "name": "stdout",
     "output_type": "stream",
     "text": [
      "Epoch 29700 Train Loss 2.8006435189234433e-07 Test Loss 27.103380687122343\n"
     ]
    },
    {
     "name": "stderr",
     "output_type": "stream",
     "text": [
      " 60%|██████████████████████               | 29803/50000 [41:09<28:12, 11.94it/s]"
     ]
    },
    {
     "name": "stdout",
     "output_type": "stream",
     "text": [
      "Epoch 29800 Train Loss 2.80077722371723e-07 Test Loss 27.052442044622556\n"
     ]
    },
    {
     "name": "stderr",
     "output_type": "stream",
     "text": [
      " 60%|██████████████████████▏              | 29903/50000 [41:17<27:44, 12.08it/s]"
     ]
    },
    {
     "name": "stdout",
     "output_type": "stream",
     "text": [
      "Epoch 29900 Train Loss 2.8121724070137856e-07 Test Loss 26.999150125295397\n"
     ]
    },
    {
     "name": "stderr",
     "output_type": "stream",
     "text": [
      " 60%|██████████████████████▏              | 30003/50000 [41:25<28:43, 11.61it/s]"
     ]
    },
    {
     "name": "stdout",
     "output_type": "stream",
     "text": [
      "Epoch 30000 Train Loss 2.802948432386674e-07 Test Loss 26.943383429066298\n"
     ]
    },
    {
     "name": "stderr",
     "output_type": "stream",
     "text": [
      " 60%|██████████████████████▎              | 30103/50000 [41:34<27:12, 12.19it/s]"
     ]
    },
    {
     "name": "stdout",
     "output_type": "stream",
     "text": [
      "Epoch 30100 Train Loss 2.854574184064624e-07 Test Loss 26.898821233126807\n"
     ]
    },
    {
     "name": "stderr",
     "output_type": "stream",
     "text": [
      " 60%|██████████████████████▎              | 30203/50000 [41:42<27:33, 11.97it/s]"
     ]
    },
    {
     "name": "stdout",
     "output_type": "stream",
     "text": [
      "Epoch 30200 Train Loss 2.792433535682097e-07 Test Loss 26.837886522890788\n"
     ]
    },
    {
     "name": "stderr",
     "output_type": "stream",
     "text": [
      " 61%|██████████████████████▍              | 30303/50000 [41:51<28:22, 11.57it/s]"
     ]
    },
    {
     "name": "stdout",
     "output_type": "stream",
     "text": [
      "Epoch 30300 Train Loss 2.8075926330995986e-07 Test Loss 26.779580514835253\n"
     ]
    },
    {
     "name": "stderr",
     "output_type": "stream",
     "text": [
      " 61%|██████████████████████▍              | 30403/50000 [41:59<27:22, 11.93it/s]"
     ]
    },
    {
     "name": "stdout",
     "output_type": "stream",
     "text": [
      "Epoch 30400 Train Loss 2.804772395633334e-07 Test Loss 26.725534293344147\n"
     ]
    },
    {
     "name": "stderr",
     "output_type": "stream",
     "text": [
      " 61%|██████████████████████▌              | 30503/50000 [42:08<27:46, 11.70it/s]"
     ]
    },
    {
     "name": "stdout",
     "output_type": "stream",
     "text": [
      "Epoch 30500 Train Loss 2.809033150834217e-07 Test Loss 26.672552980953224\n"
     ]
    },
    {
     "name": "stderr",
     "output_type": "stream",
     "text": [
      " 61%|██████████████████████▋              | 30603/50000 [42:16<28:36, 11.30it/s]"
     ]
    },
    {
     "name": "stdout",
     "output_type": "stream",
     "text": [
      "Epoch 30600 Train Loss 2.808136270500466e-07 Test Loss 26.608897727835604\n"
     ]
    },
    {
     "name": "stderr",
     "output_type": "stream",
     "text": [
      " 61%|██████████████████████▋              | 30703/50000 [42:25<27:28, 11.70it/s]"
     ]
    },
    {
     "name": "stdout",
     "output_type": "stream",
     "text": [
      "Epoch 30700 Train Loss 2.7998649824094515e-07 Test Loss 26.559648741814524\n"
     ]
    },
    {
     "name": "stderr",
     "output_type": "stream",
     "text": [
      " 62%|██████████████████████▊              | 30803/50000 [42:33<27:45, 11.53it/s]"
     ]
    },
    {
     "name": "stdout",
     "output_type": "stream",
     "text": [
      "Epoch 30800 Train Loss 2.7924674340280515e-07 Test Loss 26.499888628611085\n"
     ]
    },
    {
     "name": "stderr",
     "output_type": "stream",
     "text": [
      " 62%|██████████████████████▊              | 30903/50000 [42:42<26:13, 12.14it/s]"
     ]
    },
    {
     "name": "stdout",
     "output_type": "stream",
     "text": [
      "Epoch 30900 Train Loss 2.8187031439141016e-07 Test Loss 26.44066263379017\n"
     ]
    },
    {
     "name": "stderr",
     "output_type": "stream",
     "text": [
      " 62%|██████████████████████▉              | 31003/50000 [42:50<26:14, 12.06it/s]"
     ]
    },
    {
     "name": "stdout",
     "output_type": "stream",
     "text": [
      "Epoch 31000 Train Loss 2.775334997749879e-07 Test Loss 26.38457994243754\n"
     ]
    },
    {
     "name": "stderr",
     "output_type": "stream",
     "text": [
      " 62%|███████████████████████              | 31103/50000 [42:58<25:48, 12.20it/s]"
     ]
    },
    {
     "name": "stdout",
     "output_type": "stream",
     "text": [
      "Epoch 31100 Train Loss 2.781859666583266e-07 Test Loss 26.32293976653703\n"
     ]
    },
    {
     "name": "stderr",
     "output_type": "stream",
     "text": [
      " 62%|███████████████████████              | 31203/50000 [43:07<27:25, 11.42it/s]"
     ]
    },
    {
     "name": "stdout",
     "output_type": "stream",
     "text": [
      "Epoch 31200 Train Loss 2.770860779755478e-07 Test Loss 26.25296003422553\n"
     ]
    },
    {
     "name": "stderr",
     "output_type": "stream",
     "text": [
      " 63%|███████████████████████▏             | 31302/50000 [43:22<52:15,  5.96it/s]"
     ]
    },
    {
     "name": "stdout",
     "output_type": "stream",
     "text": [
      "Epoch 31300 Train Loss 2.767745903227652e-07 Test Loss 26.193185966385705\n"
     ]
    },
    {
     "name": "stderr",
     "output_type": "stream",
     "text": [
      " 63%|███████████████████████▏             | 31402/50000 [43:39<51:05,  6.07it/s]"
     ]
    },
    {
     "name": "stdout",
     "output_type": "stream",
     "text": [
      "Epoch 31400 Train Loss 2.7647686056216395e-07 Test Loss 26.128142353225503\n"
     ]
    },
    {
     "name": "stderr",
     "output_type": "stream",
     "text": [
      " 63%|███████████████████████▎             | 31502/50000 [43:55<51:00,  6.04it/s]"
     ]
    },
    {
     "name": "stdout",
     "output_type": "stream",
     "text": [
      "Epoch 31500 Train Loss 2.777941445048028e-07 Test Loss 26.06494535403291\n"
     ]
    },
    {
     "name": "stderr",
     "output_type": "stream",
     "text": [
      " 63%|███████████████████████▍             | 31602/50000 [44:12<51:31,  5.95it/s]"
     ]
    },
    {
     "name": "stdout",
     "output_type": "stream",
     "text": [
      "Epoch 31600 Train Loss 2.797654009144867e-07 Test Loss 25.994962575041132\n"
     ]
    },
    {
     "name": "stderr",
     "output_type": "stream",
     "text": [
      " 63%|███████████████████████▍             | 31702/50000 [44:29<53:41,  5.68it/s]"
     ]
    },
    {
     "name": "stdout",
     "output_type": "stream",
     "text": [
      "Epoch 31700 Train Loss 2.7640053205513495e-07 Test Loss 25.92913159255663\n"
     ]
    },
    {
     "name": "stderr",
     "output_type": "stream",
     "text": [
      " 64%|███████████████████████▌             | 31802/50000 [44:46<49:36,  6.11it/s]"
     ]
    },
    {
     "name": "stdout",
     "output_type": "stream",
     "text": [
      "Epoch 31800 Train Loss 2.771783871979715e-07 Test Loss 25.856928684380716\n"
     ]
    },
    {
     "name": "stderr",
     "output_type": "stream",
     "text": [
      " 64%|███████████████████████▌             | 31902/50000 [45:00<25:13, 11.96it/s]"
     ]
    },
    {
     "name": "stdout",
     "output_type": "stream",
     "text": [
      "Epoch 31900 Train Loss 2.7746049085578336e-07 Test Loss 25.798658232121785\n"
     ]
    },
    {
     "name": "stderr",
     "output_type": "stream",
     "text": [
      " 64%|███████████████████████▋             | 32002/50000 [45:09<24:47, 12.10it/s]"
     ]
    },
    {
     "name": "stdout",
     "output_type": "stream",
     "text": [
      "Epoch 32000 Train Loss 2.7739253832826557e-07 Test Loss 25.73430350482753\n"
     ]
    },
    {
     "name": "stderr",
     "output_type": "stream",
     "text": [
      " 64%|███████████████████████▊             | 32102/50000 [45:17<24:49, 12.02it/s]"
     ]
    },
    {
     "name": "stdout",
     "output_type": "stream",
     "text": [
      "Epoch 32100 Train Loss 2.7634898803853374e-07 Test Loss 25.66286506157114\n"
     ]
    },
    {
     "name": "stderr",
     "output_type": "stream",
     "text": [
      " 64%|███████████████████████▊             | 32202/50000 [45:26<24:50, 11.94it/s]"
     ]
    },
    {
     "name": "stdout",
     "output_type": "stream",
     "text": [
      "Epoch 32200 Train Loss 2.764653133187236e-07 Test Loss 25.60406778941238\n"
     ]
    },
    {
     "name": "stderr",
     "output_type": "stream",
     "text": [
      " 65%|███████████████████████▉             | 32302/50000 [45:34<24:21, 12.11it/s]"
     ]
    },
    {
     "name": "stdout",
     "output_type": "stream",
     "text": [
      "Epoch 32300 Train Loss 2.755048157454334e-07 Test Loss 25.530984348446896\n"
     ]
    },
    {
     "name": "stderr",
     "output_type": "stream",
     "text": [
      " 65%|███████████████████████▉             | 32402/50000 [45:43<26:00, 11.28it/s]"
     ]
    },
    {
     "name": "stdout",
     "output_type": "stream",
     "text": [
      "Epoch 32400 Train Loss 2.74822895861248e-07 Test Loss 25.46612413400697\n"
     ]
    },
    {
     "name": "stderr",
     "output_type": "stream",
     "text": [
      " 65%|████████████████████████             | 32502/50000 [45:51<24:47, 11.77it/s]"
     ]
    },
    {
     "name": "stdout",
     "output_type": "stream",
     "text": [
      "Epoch 32500 Train Loss 2.740870803239101e-07 Test Loss 25.391718042862006\n"
     ]
    },
    {
     "name": "stderr",
     "output_type": "stream",
     "text": [
      " 65%|████████████████████████▏            | 32602/50000 [46:00<24:16, 11.94it/s]"
     ]
    },
    {
     "name": "stdout",
     "output_type": "stream",
     "text": [
      "Epoch 32600 Train Loss 2.7529120032970174e-07 Test Loss 25.31991761487172\n"
     ]
    },
    {
     "name": "stderr",
     "output_type": "stream",
     "text": [
      " 65%|████████████████████████▏            | 32702/50000 [46:14<50:10,  5.75it/s]"
     ]
    },
    {
     "name": "stdout",
     "output_type": "stream",
     "text": [
      "Epoch 32700 Train Loss 2.7520481437528766e-07 Test Loss 25.24459678657588\n"
     ]
    },
    {
     "name": "stderr",
     "output_type": "stream",
     "text": [
      " 66%|████████████████████████▎            | 32803/50000 [46:24<23:50, 12.02it/s]"
     ]
    },
    {
     "name": "stdout",
     "output_type": "stream",
     "text": [
      "Epoch 32800 Train Loss 2.7416717879741106e-07 Test Loss 25.169454626804423\n"
     ]
    },
    {
     "name": "stderr",
     "output_type": "stream",
     "text": [
      " 66%|████████████████████████▎            | 32903/50000 [46:32<23:52, 11.93it/s]"
     ]
    },
    {
     "name": "stdout",
     "output_type": "stream",
     "text": [
      "Epoch 32900 Train Loss 2.7531738579555086e-07 Test Loss 25.093535293270303\n"
     ]
    },
    {
     "name": "stderr",
     "output_type": "stream",
     "text": [
      " 66%|████████████████████████▍            | 33003/50000 [46:41<24:34, 11.52it/s]"
     ]
    },
    {
     "name": "stdout",
     "output_type": "stream",
     "text": [
      "Epoch 33000 Train Loss 2.7460996033105717e-07 Test Loss 25.019161180811093\n"
     ]
    },
    {
     "name": "stderr",
     "output_type": "stream",
     "text": [
      " 66%|████████████████████████▍            | 33103/50000 [46:50<23:26, 12.01it/s]"
     ]
    },
    {
     "name": "stdout",
     "output_type": "stream",
     "text": [
      "Epoch 33100 Train Loss 2.7291707367410377e-07 Test Loss 24.95043888326516\n"
     ]
    },
    {
     "name": "stderr",
     "output_type": "stream",
     "text": [
      " 66%|████████████████████████▌            | 33203/50000 [46:58<24:03, 11.63it/s]"
     ]
    },
    {
     "name": "stdout",
     "output_type": "stream",
     "text": [
      "Epoch 33200 Train Loss 2.7402166550924655e-07 Test Loss 24.870740602623428\n"
     ]
    },
    {
     "name": "stderr",
     "output_type": "stream",
     "text": [
      " 67%|████████████████████████▋            | 33303/50000 [47:07<23:25, 11.88it/s]"
     ]
    },
    {
     "name": "stdout",
     "output_type": "stream",
     "text": [
      "Epoch 33300 Train Loss 2.7297357377530565e-07 Test Loss 24.786416740885702\n"
     ]
    },
    {
     "name": "stderr",
     "output_type": "stream",
     "text": [
      " 67%|████████████████████████▋            | 33403/50000 [47:15<24:50, 11.14it/s]"
     ]
    },
    {
     "name": "stdout",
     "output_type": "stream",
     "text": [
      "Epoch 33400 Train Loss 2.7192624727704517e-07 Test Loss 24.70942371136919\n"
     ]
    },
    {
     "name": "stderr",
     "output_type": "stream",
     "text": [
      " 67%|████████████████████████▊            | 33503/50000 [47:24<22:53, 12.01it/s]"
     ]
    },
    {
     "name": "stdout",
     "output_type": "stream",
     "text": [
      "Epoch 33500 Train Loss 2.721314389949975e-07 Test Loss 24.622911749841663\n"
     ]
    },
    {
     "name": "stderr",
     "output_type": "stream",
     "text": [
      " 67%|████████████████████████▊            | 33603/50000 [47:32<23:02, 11.86it/s]"
     ]
    },
    {
     "name": "stdout",
     "output_type": "stream",
     "text": [
      "Epoch 33600 Train Loss 2.7208755039812497e-07 Test Loss 24.55281213047885\n"
     ]
    },
    {
     "name": "stderr",
     "output_type": "stream",
     "text": [
      " 67%|████████████████████████▉            | 33703/50000 [47:40<22:42, 11.96it/s]"
     ]
    },
    {
     "name": "stdout",
     "output_type": "stream",
     "text": [
      "Epoch 33700 Train Loss 2.742957717503543e-07 Test Loss 24.476244275433068\n"
     ]
    },
    {
     "name": "stderr",
     "output_type": "stream",
     "text": [
      " 68%|█████████████████████████            | 33803/50000 [47:49<23:05, 11.69it/s]"
     ]
    },
    {
     "name": "stdout",
     "output_type": "stream",
     "text": [
      "Epoch 33800 Train Loss 2.71271487604471e-07 Test Loss 24.392946624595467\n"
     ]
    },
    {
     "name": "stderr",
     "output_type": "stream",
     "text": [
      " 68%|█████████████████████████            | 33903/50000 [47:58<22:40, 11.83it/s]"
     ]
    },
    {
     "name": "stdout",
     "output_type": "stream",
     "text": [
      "Epoch 33900 Train Loss 2.707934505962845e-07 Test Loss 24.309757486795483\n"
     ]
    },
    {
     "name": "stderr",
     "output_type": "stream",
     "text": [
      " 68%|█████████████████████████▏           | 34003/50000 [48:06<23:08, 11.52it/s]"
     ]
    },
    {
     "name": "stdout",
     "output_type": "stream",
     "text": [
      "Epoch 34000 Train Loss 2.746893233154444e-07 Test Loss 24.227839418270722\n"
     ]
    },
    {
     "name": "stderr",
     "output_type": "stream",
     "text": [
      " 68%|█████████████████████████▏           | 34103/50000 [48:15<23:14, 11.40it/s]"
     ]
    },
    {
     "name": "stdout",
     "output_type": "stream",
     "text": [
      "Epoch 34100 Train Loss 2.732425055539497e-07 Test Loss 24.139738027362412\n"
     ]
    },
    {
     "name": "stderr",
     "output_type": "stream",
     "text": [
      " 68%|█████████████████████████▎           | 34203/50000 [48:24<23:16, 11.31it/s]"
     ]
    },
    {
     "name": "stdout",
     "output_type": "stream",
     "text": [
      "Epoch 34200 Train Loss 2.732208621941414e-07 Test Loss 24.058093349530868\n"
     ]
    },
    {
     "name": "stderr",
     "output_type": "stream",
     "text": [
      " 69%|█████████████████████████▍           | 34301/50000 [48:32<23:04, 11.34it/s]"
     ]
    },
    {
     "name": "stdout",
     "output_type": "stream",
     "text": [
      "Epoch 34300 Train Loss 2.703658732522577e-07 Test Loss 23.966200289367183\n"
     ]
    },
    {
     "name": "stderr",
     "output_type": "stream",
     "text": [
      " 69%|█████████████████████████▍           | 34403/50000 [48:41<22:42, 11.45it/s]"
     ]
    },
    {
     "name": "stdout",
     "output_type": "stream",
     "text": [
      "Epoch 34400 Train Loss 2.704492060268292e-07 Test Loss 23.885798020164668\n"
     ]
    },
    {
     "name": "stderr",
     "output_type": "stream",
     "text": [
      " 69%|█████████████████████████▌           | 34503/50000 [48:50<23:12, 11.13it/s]"
     ]
    },
    {
     "name": "stdout",
     "output_type": "stream",
     "text": [
      "Epoch 34500 Train Loss 2.7135499319252684e-07 Test Loss 23.78779495886578\n"
     ]
    },
    {
     "name": "stderr",
     "output_type": "stream",
     "text": [
      " 69%|█████████████████████████▌           | 34601/50000 [48:58<22:39, 11.32it/s]"
     ]
    },
    {
     "name": "stdout",
     "output_type": "stream",
     "text": [
      "Epoch 34600 Train Loss 2.7039037038551433e-07 Test Loss 23.694715344357256\n"
     ]
    },
    {
     "name": "stderr",
     "output_type": "stream",
     "text": [
      " 69%|█████████████████████████▋           | 34703/50000 [49:07<22:42, 11.23it/s]"
     ]
    },
    {
     "name": "stdout",
     "output_type": "stream",
     "text": [
      "Epoch 34700 Train Loss 2.6883053291836723e-07 Test Loss 23.599740854428035\n"
     ]
    },
    {
     "name": "stderr",
     "output_type": "stream",
     "text": [
      " 70%|█████████████████████████▊           | 34803/50000 [49:16<21:04, 12.02it/s]"
     ]
    },
    {
     "name": "stdout",
     "output_type": "stream",
     "text": [
      "Epoch 34800 Train Loss 2.683094625439092e-07 Test Loss 23.497979512625317\n"
     ]
    },
    {
     "name": "stderr",
     "output_type": "stream",
     "text": [
      " 70%|█████████████████████████▊           | 34903/50000 [49:24<20:54, 12.04it/s]"
     ]
    },
    {
     "name": "stdout",
     "output_type": "stream",
     "text": [
      "Epoch 34900 Train Loss 2.70659636056567e-07 Test Loss 23.39652775831417\n"
     ]
    },
    {
     "name": "stderr",
     "output_type": "stream",
     "text": [
      " 70%|█████████████████████████▉           | 35003/50000 [49:33<21:43, 11.50it/s]"
     ]
    },
    {
     "name": "stdout",
     "output_type": "stream",
     "text": [
      "Epoch 35000 Train Loss 2.678471316711892e-07 Test Loss 23.29270882004475\n"
     ]
    },
    {
     "name": "stderr",
     "output_type": "stream",
     "text": [
      " 70%|█████████████████████████▉           | 35103/50000 [49:41<22:11, 11.19it/s]"
     ]
    },
    {
     "name": "stdout",
     "output_type": "stream",
     "text": [
      "Epoch 35100 Train Loss 2.714632958653901e-07 Test Loss 23.188275354725935\n"
     ]
    },
    {
     "name": "stderr",
     "output_type": "stream",
     "text": [
      " 70%|██████████████████████████           | 35203/50000 [49:50<21:30, 11.47it/s]"
     ]
    },
    {
     "name": "stdout",
     "output_type": "stream",
     "text": [
      "Epoch 35200 Train Loss 2.701398685423502e-07 Test Loss 23.080085443882766\n"
     ]
    },
    {
     "name": "stderr",
     "output_type": "stream",
     "text": [
      " 71%|██████████████████████████           | 35303/50000 [49:59<24:52,  9.85it/s]"
     ]
    },
    {
     "name": "stdout",
     "output_type": "stream",
     "text": [
      "Epoch 35300 Train Loss 2.67368480474207e-07 Test Loss 22.9735134042272\n"
     ]
    },
    {
     "name": "stderr",
     "output_type": "stream",
     "text": [
      " 71%|██████████████████████████▏          | 35403/50000 [50:08<21:23, 11.37it/s]"
     ]
    },
    {
     "name": "stdout",
     "output_type": "stream",
     "text": [
      "Epoch 35400 Train Loss 2.6741195897417396e-07 Test Loss 22.856838804999345\n"
     ]
    },
    {
     "name": "stderr",
     "output_type": "stream",
     "text": [
      " 71%|██████████████████████████▎          | 35503/50000 [50:16<20:05, 12.02it/s]"
     ]
    },
    {
     "name": "stdout",
     "output_type": "stream",
     "text": [
      "Epoch 35500 Train Loss 2.6821255091150304e-07 Test Loss 22.743171771579885\n"
     ]
    },
    {
     "name": "stderr",
     "output_type": "stream",
     "text": [
      " 71%|██████████████████████████▎          | 35603/50000 [50:24<19:42, 12.18it/s]"
     ]
    },
    {
     "name": "stdout",
     "output_type": "stream",
     "text": [
      "Epoch 35600 Train Loss 2.664288777346706e-07 Test Loss 22.630487019625242\n"
     ]
    },
    {
     "name": "stderr",
     "output_type": "stream",
     "text": [
      " 71%|██████████████████████████▍          | 35703/50000 [50:33<19:53, 11.98it/s]"
     ]
    },
    {
     "name": "stdout",
     "output_type": "stream",
     "text": [
      "Epoch 35700 Train Loss 2.6593151201173837e-07 Test Loss 22.508991921775532\n"
     ]
    },
    {
     "name": "stderr",
     "output_type": "stream",
     "text": [
      " 72%|██████████████████████████▍          | 35803/50000 [50:41<19:32, 12.11it/s]"
     ]
    },
    {
     "name": "stdout",
     "output_type": "stream",
     "text": [
      "Epoch 35800 Train Loss 2.6665560360593356e-07 Test Loss 22.386037487304915\n"
     ]
    },
    {
     "name": "stderr",
     "output_type": "stream",
     "text": [
      " 72%|██████████████████████████▌          | 35903/50000 [50:49<19:23, 12.12it/s]"
     ]
    },
    {
     "name": "stdout",
     "output_type": "stream",
     "text": [
      "Epoch 35900 Train Loss 2.666763053177105e-07 Test Loss 22.264072953370988\n"
     ]
    },
    {
     "name": "stderr",
     "output_type": "stream",
     "text": [
      " 72%|██████████████████████████▋          | 36003/50000 [50:58<19:20, 12.06it/s]"
     ]
    },
    {
     "name": "stdout",
     "output_type": "stream",
     "text": [
      "Epoch 36000 Train Loss 2.6503922533346077e-07 Test Loss 22.133922220098803\n"
     ]
    },
    {
     "name": "stderr",
     "output_type": "stream",
     "text": [
      " 72%|██████████████████████████▋          | 36103/50000 [51:06<19:08, 12.10it/s]"
     ]
    },
    {
     "name": "stdout",
     "output_type": "stream",
     "text": [
      "Epoch 36100 Train Loss 2.643050893870498e-07 Test Loss 22.005097002261596\n"
     ]
    },
    {
     "name": "stderr",
     "output_type": "stream",
     "text": [
      " 72%|██████████████████████████▊          | 36203/50000 [51:14<20:00, 11.49it/s]"
     ]
    },
    {
     "name": "stdout",
     "output_type": "stream",
     "text": [
      "Epoch 36200 Train Loss 2.6481986048166283e-07 Test Loss 21.871272878339152\n"
     ]
    },
    {
     "name": "stderr",
     "output_type": "stream",
     "text": [
      " 73%|██████████████████████████▊          | 36303/50000 [51:23<19:42, 11.58it/s]"
     ]
    },
    {
     "name": "stdout",
     "output_type": "stream",
     "text": [
      "Epoch 36300 Train Loss 2.657655728603307e-07 Test Loss 21.739680855126128\n"
     ]
    },
    {
     "name": "stderr",
     "output_type": "stream",
     "text": [
      " 73%|██████████████████████████▉          | 36402/50000 [51:31<19:21, 11.71it/s]"
     ]
    },
    {
     "name": "stdout",
     "output_type": "stream",
     "text": [
      "Epoch 36400 Train Loss 2.6436813743196366e-07 Test Loss 21.609415294763085\n"
     ]
    },
    {
     "name": "stderr",
     "output_type": "stream",
     "text": [
      " 73%|███████████████████████████          | 36502/50000 [51:40<18:52, 11.92it/s]"
     ]
    },
    {
     "name": "stdout",
     "output_type": "stream",
     "text": [
      "Epoch 36500 Train Loss 2.642806029233955e-07 Test Loss 21.471763579874978\n"
     ]
    },
    {
     "name": "stderr",
     "output_type": "stream",
     "text": [
      " 73%|███████████████████████████          | 36602/50000 [51:48<18:22, 12.15it/s]"
     ]
    },
    {
     "name": "stdout",
     "output_type": "stream",
     "text": [
      "Epoch 36600 Train Loss 2.6417391656546875e-07 Test Loss 21.333652764213596\n"
     ]
    },
    {
     "name": "stderr",
     "output_type": "stream",
     "text": [
      " 73%|███████████████████████████▏         | 36702/50000 [51:57<19:36, 11.30it/s]"
     ]
    },
    {
     "name": "stdout",
     "output_type": "stream",
     "text": [
      "Epoch 36700 Train Loss 2.64238731798711e-07 Test Loss 21.196301268675086\n"
     ]
    },
    {
     "name": "stderr",
     "output_type": "stream",
     "text": [
      " 74%|███████████████████████████▏         | 36802/50000 [52:06<18:05, 12.16it/s]"
     ]
    },
    {
     "name": "stdout",
     "output_type": "stream",
     "text": [
      "Epoch 36800 Train Loss 2.624177321184632e-07 Test Loss 21.05239620102619\n"
     ]
    },
    {
     "name": "stderr",
     "output_type": "stream",
     "text": [
      " 74%|███████████████████████████▎         | 36903/50000 [52:14<18:50, 11.59it/s]"
     ]
    },
    {
     "name": "stdout",
     "output_type": "stream",
     "text": [
      "Epoch 36900 Train Loss 2.6227431233061364e-07 Test Loss 20.912468475116903\n"
     ]
    },
    {
     "name": "stderr",
     "output_type": "stream",
     "text": [
      " 74%|███████████████████████████▍         | 37003/50000 [52:23<17:39, 12.27it/s]"
     ]
    },
    {
     "name": "stdout",
     "output_type": "stream",
     "text": [
      "Epoch 37000 Train Loss 2.6176756937870776e-07 Test Loss 20.771147218100715\n"
     ]
    },
    {
     "name": "stderr",
     "output_type": "stream",
     "text": [
      " 74%|███████████████████████████▍         | 37103/50000 [52:31<17:53, 12.01it/s]"
     ]
    },
    {
     "name": "stdout",
     "output_type": "stream",
     "text": [
      "Epoch 37100 Train Loss 2.62075623597562e-07 Test Loss 20.630427074714206\n"
     ]
    },
    {
     "name": "stderr",
     "output_type": "stream",
     "text": [
      " 74%|███████████████████████████▌         | 37203/50000 [52:39<17:41, 12.06it/s]"
     ]
    },
    {
     "name": "stdout",
     "output_type": "stream",
     "text": [
      "Epoch 37200 Train Loss 2.6071954343291034e-07 Test Loss 20.490541879658046\n"
     ]
    },
    {
     "name": "stderr",
     "output_type": "stream",
     "text": [
      " 75%|███████████████████████████▌         | 37303/50000 [52:48<17:16, 12.25it/s]"
     ]
    },
    {
     "name": "stdout",
     "output_type": "stream",
     "text": [
      "Epoch 37300 Train Loss 2.608204447966935e-07 Test Loss 20.34944514590241\n"
     ]
    },
    {
     "name": "stderr",
     "output_type": "stream",
     "text": [
      " 75%|███████████████████████████▋         | 37403/50000 [52:56<18:15, 11.50it/s]"
     ]
    },
    {
     "name": "stdout",
     "output_type": "stream",
     "text": [
      "Epoch 37400 Train Loss 2.6729774784637295e-07 Test Loss 20.212167554074735\n"
     ]
    },
    {
     "name": "stderr",
     "output_type": "stream",
     "text": [
      " 75%|███████████████████████████▊         | 37503/50000 [53:04<17:03, 12.22it/s]"
     ]
    },
    {
     "name": "stdout",
     "output_type": "stream",
     "text": [
      "Epoch 37500 Train Loss 2.6030287563182207e-07 Test Loss 20.07026733070955\n"
     ]
    },
    {
     "name": "stderr",
     "output_type": "stream",
     "text": [
      " 75%|███████████████████████████▊         | 37603/50000 [53:13<17:36, 11.74it/s]"
     ]
    },
    {
     "name": "stdout",
     "output_type": "stream",
     "text": [
      "Epoch 37600 Train Loss 2.596865305002101e-07 Test Loss 19.925702551707285\n"
     ]
    },
    {
     "name": "stderr",
     "output_type": "stream",
     "text": [
      " 75%|███████████████████████████▉         | 37703/50000 [53:22<18:17, 11.21it/s]"
     ]
    },
    {
     "name": "stdout",
     "output_type": "stream",
     "text": [
      "Epoch 37700 Train Loss 2.6127251326696813e-07 Test Loss 19.776613754154578\n"
     ]
    },
    {
     "name": "stderr",
     "output_type": "stream",
     "text": [
      " 76%|███████████████████████████▉         | 37803/50000 [53:30<16:44, 12.14it/s]"
     ]
    },
    {
     "name": "stdout",
     "output_type": "stream",
     "text": [
      "Epoch 37800 Train Loss 2.6087754028798433e-07 Test Loss 19.623427469731578\n"
     ]
    },
    {
     "name": "stderr",
     "output_type": "stream",
     "text": [
      " 76%|████████████████████████████         | 37903/50000 [53:38<17:09, 11.76it/s]"
     ]
    },
    {
     "name": "stdout",
     "output_type": "stream",
     "text": [
      "Epoch 37900 Train Loss 2.605526489919849e-07 Test Loss 19.476681634114637\n"
     ]
    },
    {
     "name": "stderr",
     "output_type": "stream",
     "text": [
      " 76%|████████████████████████████         | 38003/50000 [53:47<16:26, 12.16it/s]"
     ]
    },
    {
     "name": "stdout",
     "output_type": "stream",
     "text": [
      "Epoch 38000 Train Loss 2.5872086110859267e-07 Test Loss 19.30417126109055\n"
     ]
    },
    {
     "name": "stderr",
     "output_type": "stream",
     "text": [
      " 76%|████████████████████████████▏        | 38103/50000 [53:55<16:28, 12.03it/s]"
     ]
    },
    {
     "name": "stdout",
     "output_type": "stream",
     "text": [
      "Epoch 38100 Train Loss 2.595610932540741e-07 Test Loss 19.145636268600143\n"
     ]
    },
    {
     "name": "stderr",
     "output_type": "stream",
     "text": [
      " 76%|████████████████████████████▎        | 38203/50000 [54:03<16:17, 12.07it/s]"
     ]
    },
    {
     "name": "stdout",
     "output_type": "stream",
     "text": [
      "Epoch 38200 Train Loss 2.5767274802584776e-07 Test Loss 18.980694505825436\n"
     ]
    },
    {
     "name": "stderr",
     "output_type": "stream",
     "text": [
      " 77%|████████████████████████████▎        | 38303/50000 [54:12<16:21, 11.92it/s]"
     ]
    },
    {
     "name": "stdout",
     "output_type": "stream",
     "text": [
      "Epoch 38300 Train Loss 2.5734667303320783e-07 Test Loss 18.814493744110543\n"
     ]
    },
    {
     "name": "stderr",
     "output_type": "stream",
     "text": [
      " 77%|████████████████████████████▍        | 38403/50000 [54:20<17:31, 11.03it/s]"
     ]
    },
    {
     "name": "stdout",
     "output_type": "stream",
     "text": [
      "Epoch 38400 Train Loss 2.566383421963237e-07 Test Loss 18.642903864170044\n"
     ]
    },
    {
     "name": "stderr",
     "output_type": "stream",
     "text": [
      " 77%|████████████████████████████▍        | 38503/50000 [54:29<16:23, 11.69it/s]"
     ]
    },
    {
     "name": "stdout",
     "output_type": "stream",
     "text": [
      "Epoch 38500 Train Loss 2.5766078423494346e-07 Test Loss 18.475184435139056\n"
     ]
    },
    {
     "name": "stderr",
     "output_type": "stream",
     "text": [
      " 77%|████████████████████████████▌        | 38603/50000 [54:38<15:52, 11.96it/s]"
     ]
    },
    {
     "name": "stdout",
     "output_type": "stream",
     "text": [
      "Epoch 38600 Train Loss 2.56223810288086e-07 Test Loss 18.31022216196385\n"
     ]
    },
    {
     "name": "stderr",
     "output_type": "stream",
     "text": [
      " 77%|████████████████████████████▋        | 38703/50000 [54:46<15:42, 11.98it/s]"
     ]
    },
    {
     "name": "stdout",
     "output_type": "stream",
     "text": [
      "Epoch 38700 Train Loss 2.5548461124829665e-07 Test Loss 18.140133923480214\n"
     ]
    },
    {
     "name": "stderr",
     "output_type": "stream",
     "text": [
      " 78%|████████████████████████████▋        | 38803/50000 [54:55<15:36, 11.96it/s]"
     ]
    },
    {
     "name": "stdout",
     "output_type": "stream",
     "text": [
      "Epoch 38800 Train Loss 2.5675343624069774e-07 Test Loss 17.97044372987313\n"
     ]
    },
    {
     "name": "stderr",
     "output_type": "stream",
     "text": [
      " 78%|████████████████████████████▊        | 38903/50000 [55:03<16:09, 11.44it/s]"
     ]
    },
    {
     "name": "stdout",
     "output_type": "stream",
     "text": [
      "Epoch 38900 Train Loss 2.5555491402955316e-07 Test Loss 17.800811455859762\n"
     ]
    },
    {
     "name": "stderr",
     "output_type": "stream",
     "text": [
      " 78%|████████████████████████████▊        | 39003/50000 [55:12<15:16, 11.99it/s]"
     ]
    },
    {
     "name": "stdout",
     "output_type": "stream",
     "text": [
      "Epoch 39000 Train Loss 2.5532903479634754e-07 Test Loss 17.625414695864276\n"
     ]
    },
    {
     "name": "stderr",
     "output_type": "stream",
     "text": [
      " 78%|████████████████████████████▉        | 39103/50000 [55:20<14:58, 12.13it/s]"
     ]
    },
    {
     "name": "stdout",
     "output_type": "stream",
     "text": [
      "Epoch 39100 Train Loss 2.554228384501129e-07 Test Loss 17.449929116290733\n"
     ]
    },
    {
     "name": "stderr",
     "output_type": "stream",
     "text": [
      " 78%|█████████████████████████████        | 39203/50000 [55:28<15:12, 11.84it/s]"
     ]
    },
    {
     "name": "stdout",
     "output_type": "stream",
     "text": [
      "Epoch 39200 Train Loss 2.5385490215518973e-07 Test Loss 17.27564145523387\n"
     ]
    },
    {
     "name": "stderr",
     "output_type": "stream",
     "text": [
      " 79%|█████████████████████████████        | 39303/50000 [55:37<14:54, 11.95it/s]"
     ]
    },
    {
     "name": "stdout",
     "output_type": "stream",
     "text": [
      "Epoch 39300 Train Loss 2.5440253139338145e-07 Test Loss 17.10394792907788\n"
     ]
    },
    {
     "name": "stderr",
     "output_type": "stream",
     "text": [
      " 79%|█████████████████████████████▏       | 39403/50000 [55:45<14:42, 12.01it/s]"
     ]
    },
    {
     "name": "stdout",
     "output_type": "stream",
     "text": [
      "Epoch 39400 Train Loss 2.544302327384917e-07 Test Loss 16.927540902405337\n"
     ]
    },
    {
     "name": "stderr",
     "output_type": "stream",
     "text": [
      " 79%|█████████████████████████████▏       | 39503/50000 [55:53<14:22, 12.17it/s]"
     ]
    },
    {
     "name": "stdout",
     "output_type": "stream",
     "text": [
      "Epoch 39500 Train Loss 2.5228865681024285e-07 Test Loss 16.750038570536432\n"
     ]
    },
    {
     "name": "stderr",
     "output_type": "stream",
     "text": [
      " 79%|█████████████████████████████▎       | 39603/50000 [56:02<14:23, 12.04it/s]"
     ]
    },
    {
     "name": "stdout",
     "output_type": "stream",
     "text": [
      "Epoch 39600 Train Loss 2.511353773230636e-07 Test Loss 16.571110075917744\n"
     ]
    },
    {
     "name": "stderr",
     "output_type": "stream",
     "text": [
      " 79%|█████████████████████████████▍       | 39701/50000 [56:10<16:34, 10.36it/s]"
     ]
    },
    {
     "name": "stdout",
     "output_type": "stream",
     "text": [
      "Epoch 39700 Train Loss 2.505041171593061e-07 Test Loss 16.40155710631636\n"
     ]
    },
    {
     "name": "stderr",
     "output_type": "stream",
     "text": [
      " 80%|█████████████████████████████▍       | 39803/50000 [56:18<13:57, 12.18it/s]"
     ]
    },
    {
     "name": "stdout",
     "output_type": "stream",
     "text": [
      "Epoch 39800 Train Loss 2.514044237777049e-07 Test Loss 16.22112143768996\n"
     ]
    },
    {
     "name": "stderr",
     "output_type": "stream",
     "text": [
      " 80%|█████████████████████████████▌       | 39903/50000 [56:27<13:46, 12.21it/s]"
     ]
    },
    {
     "name": "stdout",
     "output_type": "stream",
     "text": [
      "Epoch 39900 Train Loss 2.513322242954575e-07 Test Loss 16.04600149958413\n"
     ]
    },
    {
     "name": "stderr",
     "output_type": "stream",
     "text": [
      " 80%|█████████████████████████████▌       | 40003/50000 [56:35<13:42, 12.15it/s]"
     ]
    },
    {
     "name": "stdout",
     "output_type": "stream",
     "text": [
      "Epoch 40000 Train Loss 2.4949353180820415e-07 Test Loss 15.866982766603384\n"
     ]
    },
    {
     "name": "stderr",
     "output_type": "stream",
     "text": [
      " 80%|█████████████████████████████▋       | 40103/50000 [56:43<13:25, 12.29it/s]"
     ]
    },
    {
     "name": "stdout",
     "output_type": "stream",
     "text": [
      "Epoch 40100 Train Loss 2.492754054119889e-07 Test Loss 15.695574885959886\n"
     ]
    },
    {
     "name": "stderr",
     "output_type": "stream",
     "text": [
      " 80%|█████████████████████████████▊       | 40203/50000 [56:51<13:23, 12.19it/s]"
     ]
    },
    {
     "name": "stdout",
     "output_type": "stream",
     "text": [
      "Epoch 40200 Train Loss 2.4898229424349943e-07 Test Loss 15.523786644192704\n"
     ]
    },
    {
     "name": "stderr",
     "output_type": "stream",
     "text": [
      " 81%|█████████████████████████████▊       | 40303/50000 [56:59<13:11, 12.24it/s]"
     ]
    },
    {
     "name": "stdout",
     "output_type": "stream",
     "text": [
      "Epoch 40300 Train Loss 2.489801369870868e-07 Test Loss 15.3450857202649\n"
     ]
    },
    {
     "name": "stderr",
     "output_type": "stream",
     "text": [
      " 81%|█████████████████████████████▉       | 40403/50000 [57:08<13:26, 11.91it/s]"
     ]
    },
    {
     "name": "stdout",
     "output_type": "stream",
     "text": [
      "Epoch 40400 Train Loss 2.491351636375472e-07 Test Loss 15.167985368314762\n"
     ]
    },
    {
     "name": "stderr",
     "output_type": "stream",
     "text": [
      " 81%|█████████████████████████████▉       | 40503/50000 [57:16<13:26, 11.78it/s]"
     ]
    },
    {
     "name": "stdout",
     "output_type": "stream",
     "text": [
      "Epoch 40500 Train Loss 2.4749771618703296e-07 Test Loss 14.990352670111122\n"
     ]
    },
    {
     "name": "stderr",
     "output_type": "stream",
     "text": [
      " 81%|██████████████████████████████       | 40603/50000 [57:25<12:46, 12.25it/s]"
     ]
    },
    {
     "name": "stdout",
     "output_type": "stream",
     "text": [
      "Epoch 40600 Train Loss 2.53491644565812e-07 Test Loss 14.80546657617347\n"
     ]
    },
    {
     "name": "stderr",
     "output_type": "stream",
     "text": [
      " 81%|██████████████████████████████       | 40703/50000 [57:33<13:11, 11.75it/s]"
     ]
    },
    {
     "name": "stdout",
     "output_type": "stream",
     "text": [
      "Epoch 40700 Train Loss 2.4611123531999624e-07 Test Loss 14.617576038238193\n"
     ]
    },
    {
     "name": "stderr",
     "output_type": "stream",
     "text": [
      " 82%|██████████████████████████████▏      | 40803/50000 [57:41<12:35, 12.18it/s]"
     ]
    },
    {
     "name": "stdout",
     "output_type": "stream",
     "text": [
      "Epoch 40800 Train Loss 2.484120415769194e-07 Test Loss 14.434337024046505\n"
     ]
    },
    {
     "name": "stderr",
     "output_type": "stream",
     "text": [
      " 82%|██████████████████████████████▎      | 40903/50000 [57:50<12:30, 12.11it/s]"
     ]
    },
    {
     "name": "stdout",
     "output_type": "stream",
     "text": [
      "Epoch 40900 Train Loss 2.454474220510611e-07 Test Loss 14.249452385593221\n"
     ]
    },
    {
     "name": "stderr",
     "output_type": "stream",
     "text": [
      " 82%|██████████████████████████████▎      | 41003/50000 [57:58<12:16, 12.22it/s]"
     ]
    },
    {
     "name": "stdout",
     "output_type": "stream",
     "text": [
      "Epoch 41000 Train Loss 2.4699004312494833e-07 Test Loss 14.066264951511974\n"
     ]
    },
    {
     "name": "stderr",
     "output_type": "stream",
     "text": [
      " 82%|██████████████████████████████▍      | 41103/50000 [58:06<12:39, 11.72it/s]"
     ]
    },
    {
     "name": "stdout",
     "output_type": "stream",
     "text": [
      "Epoch 41100 Train Loss 2.4394519666410083e-07 Test Loss 13.881707056188858\n"
     ]
    },
    {
     "name": "stderr",
     "output_type": "stream",
     "text": [
      " 82%|██████████████████████████████▍      | 41203/50000 [58:15<11:59, 12.23it/s]"
     ]
    },
    {
     "name": "stdout",
     "output_type": "stream",
     "text": [
      "Epoch 41200 Train Loss 2.442729907998616e-07 Test Loss 13.69060420559885\n"
     ]
    },
    {
     "name": "stderr",
     "output_type": "stream",
     "text": [
      " 83%|██████████████████████████████▌      | 41303/50000 [58:23<12:29, 11.60it/s]"
     ]
    },
    {
     "name": "stdout",
     "output_type": "stream",
     "text": [
      "Epoch 41300 Train Loss 2.4466450470333783e-07 Test Loss 13.502697610065878\n"
     ]
    },
    {
     "name": "stderr",
     "output_type": "stream",
     "text": [
      " 83%|██████████████████████████████▋      | 41403/50000 [58:32<12:11, 11.75it/s]"
     ]
    },
    {
     "name": "stdout",
     "output_type": "stream",
     "text": [
      "Epoch 41400 Train Loss 2.4533504727831573e-07 Test Loss 13.30904756882971\n"
     ]
    },
    {
     "name": "stderr",
     "output_type": "stream",
     "text": [
      " 83%|██████████████████████████████▋      | 41503/50000 [58:40<11:51, 11.94it/s]"
     ]
    },
    {
     "name": "stdout",
     "output_type": "stream",
     "text": [
      "Epoch 41500 Train Loss 2.4278255491253375e-07 Test Loss 13.10978432345349\n"
     ]
    },
    {
     "name": "stderr",
     "output_type": "stream",
     "text": [
      " 83%|██████████████████████████████▊      | 41603/50000 [58:49<11:33, 12.11it/s]"
     ]
    },
    {
     "name": "stdout",
     "output_type": "stream",
     "text": [
      "Epoch 41600 Train Loss 2.4110934473544067e-07 Test Loss 12.917325346962107\n"
     ]
    },
    {
     "name": "stderr",
     "output_type": "stream",
     "text": [
      " 83%|██████████████████████████████▊      | 41703/50000 [58:57<11:21, 12.17it/s]"
     ]
    },
    {
     "name": "stdout",
     "output_type": "stream",
     "text": [
      "Epoch 41700 Train Loss 2.411805663848204e-07 Test Loss 12.712332181646913\n"
     ]
    },
    {
     "name": "stderr",
     "output_type": "stream",
     "text": [
      " 84%|██████████████████████████████▉      | 41803/50000 [59:05<11:20, 12.05it/s]"
     ]
    },
    {
     "name": "stdout",
     "output_type": "stream",
     "text": [
      "Epoch 41800 Train Loss 2.411561911135013e-07 Test Loss 12.508385977707052\n"
     ]
    },
    {
     "name": "stderr",
     "output_type": "stream",
     "text": [
      " 84%|███████████████████████████████      | 41903/50000 [59:13<11:06, 12.15it/s]"
     ]
    },
    {
     "name": "stdout",
     "output_type": "stream",
     "text": [
      "Epoch 41900 Train Loss 2.40396590210201e-07 Test Loss 12.300977528173387\n"
     ]
    },
    {
     "name": "stderr",
     "output_type": "stream",
     "text": [
      " 84%|███████████████████████████████      | 42003/50000 [59:22<10:58, 12.14it/s]"
     ]
    },
    {
     "name": "stdout",
     "output_type": "stream",
     "text": [
      "Epoch 42000 Train Loss 2.420930962901359e-07 Test Loss 12.093599372418865\n"
     ]
    },
    {
     "name": "stderr",
     "output_type": "stream",
     "text": [
      " 84%|███████████████████████████████▏     | 42103/50000 [59:30<10:46, 12.21it/s]"
     ]
    },
    {
     "name": "stdout",
     "output_type": "stream",
     "text": [
      "Epoch 42100 Train Loss 2.449382863916607e-07 Test Loss 11.870213861894483\n"
     ]
    },
    {
     "name": "stderr",
     "output_type": "stream",
     "text": [
      " 84%|███████████████████████████████▏     | 42203/50000 [59:38<10:42, 12.13it/s]"
     ]
    },
    {
     "name": "stdout",
     "output_type": "stream",
     "text": [
      "Epoch 42200 Train Loss 2.3955334612742415e-07 Test Loss 11.654391312602346\n"
     ]
    },
    {
     "name": "stderr",
     "output_type": "stream",
     "text": [
      " 85%|███████████████████████████████▎     | 42303/50000 [59:46<10:28, 12.24it/s]"
     ]
    },
    {
     "name": "stdout",
     "output_type": "stream",
     "text": [
      "Epoch 42300 Train Loss 2.390458526822123e-07 Test Loss 11.419672515274575\n"
     ]
    },
    {
     "name": "stderr",
     "output_type": "stream",
     "text": [
      " 85%|███████████████████████████████▍     | 42403/50000 [59:55<10:25, 12.14it/s]"
     ]
    },
    {
     "name": "stdout",
     "output_type": "stream",
     "text": [
      "Epoch 42400 Train Loss 2.3901817653307037e-07 Test Loss 11.189123371140717\n"
     ]
    },
    {
     "name": "stderr",
     "output_type": "stream",
     "text": [
      " 85%|█████████████████████████████▊     | 42503/50000 [1:00:03<10:14, 12.21it/s]"
     ]
    },
    {
     "name": "stdout",
     "output_type": "stream",
     "text": [
      "Epoch 42500 Train Loss 2.369297340005837e-07 Test Loss 10.947884313228217\n"
     ]
    },
    {
     "name": "stderr",
     "output_type": "stream",
     "text": [
      " 85%|█████████████████████████████▊     | 42603/50000 [1:00:11<10:08, 12.16it/s]"
     ]
    },
    {
     "name": "stdout",
     "output_type": "stream",
     "text": [
      "Epoch 42600 Train Loss 2.377860736621323e-07 Test Loss 10.70749112931145\n"
     ]
    },
    {
     "name": "stderr",
     "output_type": "stream",
     "text": [
      " 85%|█████████████████████████████▉     | 42703/50000 [1:00:19<10:03, 12.09it/s]"
     ]
    },
    {
     "name": "stdout",
     "output_type": "stream",
     "text": [
      "Epoch 42700 Train Loss 2.3618030595652287e-07 Test Loss 10.468789176472557\n"
     ]
    },
    {
     "name": "stderr",
     "output_type": "stream",
     "text": [
      " 86%|█████████████████████████████▉     | 42803/50000 [1:00:27<09:49, 12.21it/s]"
     ]
    },
    {
     "name": "stdout",
     "output_type": "stream",
     "text": [
      "Epoch 42800 Train Loss 2.3699229489227035e-07 Test Loss 10.22585165769792\n"
     ]
    },
    {
     "name": "stderr",
     "output_type": "stream",
     "text": [
      " 86%|██████████████████████████████     | 42903/50000 [1:00:36<09:39, 12.24it/s]"
     ]
    },
    {
     "name": "stdout",
     "output_type": "stream",
     "text": [
      "Epoch 42900 Train Loss 2.331115694040487e-07 Test Loss 9.973917480011039\n"
     ]
    },
    {
     "name": "stderr",
     "output_type": "stream",
     "text": [
      " 86%|██████████████████████████████     | 43003/50000 [1:00:44<09:34, 12.19it/s]"
     ]
    },
    {
     "name": "stdout",
     "output_type": "stream",
     "text": [
      "Epoch 43000 Train Loss 2.3767654923609542e-07 Test Loss 9.719417071212405\n"
     ]
    },
    {
     "name": "stderr",
     "output_type": "stream",
     "text": [
      " 86%|██████████████████████████████▏    | 43103/50000 [1:00:52<09:23, 12.24it/s]"
     ]
    },
    {
     "name": "stdout",
     "output_type": "stream",
     "text": [
      "Epoch 43100 Train Loss 2.342688114459693e-07 Test Loss 9.452845609291114\n"
     ]
    },
    {
     "name": "stderr",
     "output_type": "stream",
     "text": [
      " 86%|██████████████████████████████▏    | 43203/50000 [1:01:00<09:26, 12.00it/s]"
     ]
    },
    {
     "name": "stdout",
     "output_type": "stream",
     "text": [
      "Epoch 43200 Train Loss 2.315782181030853e-07 Test Loss 9.19201182651605\n"
     ]
    },
    {
     "name": "stderr",
     "output_type": "stream",
     "text": [
      " 87%|██████████████████████████████▎    | 43303/50000 [1:01:08<09:11, 12.15it/s]"
     ]
    },
    {
     "name": "stdout",
     "output_type": "stream",
     "text": [
      "Epoch 43300 Train Loss 2.3435719325850524e-07 Test Loss 8.904627894493865\n"
     ]
    },
    {
     "name": "stderr",
     "output_type": "stream",
     "text": [
      " 87%|██████████████████████████████▍    | 43403/50000 [1:01:17<08:56, 12.30it/s]"
     ]
    },
    {
     "name": "stdout",
     "output_type": "stream",
     "text": [
      "Epoch 43400 Train Loss 2.3079386538893125e-07 Test Loss 8.6163554969146\n"
     ]
    },
    {
     "name": "stderr",
     "output_type": "stream",
     "text": [
      " 87%|██████████████████████████████▍    | 43503/50000 [1:01:25<08:53, 12.19it/s]"
     ]
    },
    {
     "name": "stdout",
     "output_type": "stream",
     "text": [
      "Epoch 43500 Train Loss 2.2934643019178662e-07 Test Loss 8.322792154721165\n"
     ]
    },
    {
     "name": "stderr",
     "output_type": "stream",
     "text": [
      " 87%|██████████████████████████████▌    | 43603/50000 [1:01:33<08:46, 12.14it/s]"
     ]
    },
    {
     "name": "stdout",
     "output_type": "stream",
     "text": [
      "Epoch 43600 Train Loss 2.3134977545644596e-07 Test Loss 8.010665290518974\n"
     ]
    },
    {
     "name": "stderr",
     "output_type": "stream",
     "text": [
      " 87%|██████████████████████████████▌    | 43703/50000 [1:01:41<08:32, 12.29it/s]"
     ]
    },
    {
     "name": "stdout",
     "output_type": "stream",
     "text": [
      "Epoch 43700 Train Loss 2.2943517486776962e-07 Test Loss 7.688082546753018\n"
     ]
    },
    {
     "name": "stderr",
     "output_type": "stream",
     "text": [
      " 88%|██████████████████████████████▋    | 43803/50000 [1:01:49<08:31, 12.11it/s]"
     ]
    },
    {
     "name": "stdout",
     "output_type": "stream",
     "text": [
      "Epoch 43800 Train Loss 2.2382636062875144e-07 Test Loss 7.352741889476199\n"
     ]
    },
    {
     "name": "stderr",
     "output_type": "stream",
     "text": [
      " 88%|██████████████████████████████▋    | 43903/50000 [1:01:57<08:19, 12.21it/s]"
     ]
    },
    {
     "name": "stdout",
     "output_type": "stream",
     "text": [
      "Epoch 43900 Train Loss 2.2280607506275969e-07 Test Loss 7.013478688818502\n"
     ]
    },
    {
     "name": "stderr",
     "output_type": "stream",
     "text": [
      " 88%|██████████████████████████████▊    | 44003/50000 [1:02:06<08:09, 12.24it/s]"
     ]
    },
    {
     "name": "stdout",
     "output_type": "stream",
     "text": [
      "Epoch 44000 Train Loss 2.2394148318157087e-07 Test Loss 6.642661233324507\n"
     ]
    },
    {
     "name": "stderr",
     "output_type": "stream",
     "text": [
      " 88%|██████████████████████████████▊    | 44103/50000 [1:02:14<08:01, 12.24it/s]"
     ]
    },
    {
     "name": "stdout",
     "output_type": "stream",
     "text": [
      "Epoch 44100 Train Loss 0.002478494243416684 Test Loss 5.829327151433092\n"
     ]
    },
    {
     "name": "stderr",
     "output_type": "stream",
     "text": [
      " 88%|██████████████████████████████▉    | 44203/50000 [1:02:22<07:54, 12.23it/s]"
     ]
    },
    {
     "name": "stdout",
     "output_type": "stream",
     "text": [
      "Epoch 44200 Train Loss 0.002676142199587158 Test Loss 2.806426874234077\n"
     ]
    },
    {
     "name": "stderr",
     "output_type": "stream",
     "text": [
      " 89%|███████████████████████████████    | 44303/50000 [1:02:30<07:48, 12.17it/s]"
     ]
    },
    {
     "name": "stdout",
     "output_type": "stream",
     "text": [
      "Epoch 44300 Train Loss 0.003094453292829299 Test Loss 2.536284747427398\n"
     ]
    },
    {
     "name": "stderr",
     "output_type": "stream",
     "text": [
      " 89%|███████████████████████████████    | 44403/50000 [1:02:38<07:37, 12.24it/s]"
     ]
    },
    {
     "name": "stdout",
     "output_type": "stream",
     "text": [
      "Epoch 44400 Train Loss 0.0011656460290702276 Test Loss 2.5880885783558254\n"
     ]
    },
    {
     "name": "stderr",
     "output_type": "stream",
     "text": [
      " 89%|███████████████████████████████▏   | 44503/50000 [1:02:47<07:30, 12.21it/s]"
     ]
    },
    {
     "name": "stdout",
     "output_type": "stream",
     "text": [
      "Epoch 44500 Train Loss 0.0004028904269125114 Test Loss 2.5373383609349256\n"
     ]
    },
    {
     "name": "stderr",
     "output_type": "stream",
     "text": [
      " 89%|███████████████████████████████▏   | 44603/50000 [1:02:55<07:23, 12.16it/s]"
     ]
    },
    {
     "name": "stdout",
     "output_type": "stream",
     "text": [
      "Epoch 44600 Train Loss 0.0001366950942826952 Test Loss 2.357337306035439\n"
     ]
    },
    {
     "name": "stderr",
     "output_type": "stream",
     "text": [
      " 89%|███████████████████████████████▎   | 44703/50000 [1:03:03<07:12, 12.24it/s]"
     ]
    },
    {
     "name": "stdout",
     "output_type": "stream",
     "text": [
      "Epoch 44700 Train Loss 4.6047871207483476e-05 Test Loss 2.037652070527721\n"
     ]
    },
    {
     "name": "stderr",
     "output_type": "stream",
     "text": [
      " 90%|███████████████████████████████▎   | 44803/50000 [1:03:11<07:03, 12.28it/s]"
     ]
    },
    {
     "name": "stdout",
     "output_type": "stream",
     "text": [
      "Epoch 44800 Train Loss 1.5624036984726952e-05 Test Loss 1.626981006059824\n"
     ]
    },
    {
     "name": "stderr",
     "output_type": "stream",
     "text": [
      " 90%|███████████████████████████████▍   | 44903/50000 [1:03:19<06:57, 12.22it/s]"
     ]
    },
    {
     "name": "stdout",
     "output_type": "stream",
     "text": [
      "Epoch 44900 Train Loss 5.391052611722954e-06 Test Loss 1.1995649786753255\n"
     ]
    },
    {
     "name": "stderr",
     "output_type": "stream",
     "text": [
      " 90%|███████████████████████████████▌   | 45003/50000 [1:03:28<06:46, 12.28it/s]"
     ]
    },
    {
     "name": "stdout",
     "output_type": "stream",
     "text": [
      "Epoch 45000 Train Loss 1.9551758449767022e-06 Test Loss 0.8212882119648509\n"
     ]
    },
    {
     "name": "stderr",
     "output_type": "stream",
     "text": [
      " 90%|███████████████████████████████▌   | 45103/50000 [1:03:36<06:41, 12.20it/s]"
     ]
    },
    {
     "name": "stdout",
     "output_type": "stream",
     "text": [
      "Epoch 45100 Train Loss 7.84764950180764e-07 Test Loss 0.521501356914688\n"
     ]
    },
    {
     "name": "stderr",
     "output_type": "stream",
     "text": [
      " 90%|███████████████████████████████▋   | 45203/50000 [1:03:44<06:32, 12.22it/s]"
     ]
    },
    {
     "name": "stdout",
     "output_type": "stream",
     "text": [
      "Epoch 45200 Train Loss 3.750947691510258e-07 Test Loss 0.31474902169558006\n"
     ]
    },
    {
     "name": "stderr",
     "output_type": "stream",
     "text": [
      " 91%|███████████████████████████████▋   | 45303/50000 [1:03:52<06:21, 12.31it/s]"
     ]
    },
    {
     "name": "stdout",
     "output_type": "stream",
     "text": [
      "Epoch 45300 Train Loss 2.2453259880115257e-07 Test Loss 0.17762537958038638\n"
     ]
    },
    {
     "name": "stderr",
     "output_type": "stream",
     "text": [
      " 91%|███████████████████████████████▊   | 45403/50000 [1:04:00<06:17, 12.16it/s]"
     ]
    },
    {
     "name": "stdout",
     "output_type": "stream",
     "text": [
      "Epoch 45400 Train Loss 1.6756441402935625e-07 Test Loss 0.09538188146218433\n"
     ]
    },
    {
     "name": "stderr",
     "output_type": "stream",
     "text": [
      " 91%|███████████████████████████████▊   | 45503/50000 [1:04:08<06:08, 12.22it/s]"
     ]
    },
    {
     "name": "stdout",
     "output_type": "stream",
     "text": [
      "Epoch 45500 Train Loss 1.461552416837881e-07 Test Loss 0.05025030782969108\n"
     ]
    },
    {
     "name": "stderr",
     "output_type": "stream",
     "text": [
      " 91%|███████████████████████████████▉   | 45603/50000 [1:04:17<06:02, 12.12it/s]"
     ]
    },
    {
     "name": "stdout",
     "output_type": "stream",
     "text": [
      "Epoch 45600 Train Loss 1.3733754839802865e-07 Test Loss 0.028119313074032273\n"
     ]
    },
    {
     "name": "stderr",
     "output_type": "stream",
     "text": [
      " 91%|███████████████████████████████▉   | 45703/50000 [1:04:25<05:53, 12.17it/s]"
     ]
    },
    {
     "name": "stdout",
     "output_type": "stream",
     "text": [
      "Epoch 45700 Train Loss 1.3202962349358384e-07 Test Loss 0.015406882062052077\n"
     ]
    },
    {
     "name": "stderr",
     "output_type": "stream",
     "text": [
      " 92%|████████████████████████████████   | 45803/50000 [1:04:33<05:55, 11.82it/s]"
     ]
    },
    {
     "name": "stdout",
     "output_type": "stream",
     "text": [
      "Epoch 45800 Train Loss 1.272034076105844e-07 Test Loss 0.007693227443014442\n"
     ]
    },
    {
     "name": "stderr",
     "output_type": "stream",
     "text": [
      " 92%|████████████████████████████████▏  | 45903/50000 [1:04:42<05:38, 12.09it/s]"
     ]
    },
    {
     "name": "stdout",
     "output_type": "stream",
     "text": [
      "Epoch 45900 Train Loss 1.2325472086418972e-07 Test Loss 0.0033446956183022557\n"
     ]
    },
    {
     "name": "stderr",
     "output_type": "stream",
     "text": [
      " 92%|████████████████████████████████▏  | 46003/50000 [1:04:50<05:33, 11.99it/s]"
     ]
    },
    {
     "name": "stdout",
     "output_type": "stream",
     "text": [
      "Epoch 46000 Train Loss 1.194926140498291e-07 Test Loss 0.0014276910958380313\n"
     ]
    },
    {
     "name": "stderr",
     "output_type": "stream",
     "text": [
      " 92%|████████████████████████████████▎  | 46103/50000 [1:04:58<05:22, 12.08it/s]"
     ]
    },
    {
     "name": "stdout",
     "output_type": "stream",
     "text": [
      "Epoch 46100 Train Loss 1.1661796199488933e-07 Test Loss 0.0006608251613239375\n"
     ]
    },
    {
     "name": "stderr",
     "output_type": "stream",
     "text": [
      " 92%|████████████████████████████████▎  | 46203/50000 [1:05:06<05:10, 12.22it/s]"
     ]
    },
    {
     "name": "stdout",
     "output_type": "stream",
     "text": [
      "Epoch 46200 Train Loss 1.1431125153505817e-07 Test Loss 0.0003153594807146344\n"
     ]
    },
    {
     "name": "stderr",
     "output_type": "stream",
     "text": [
      " 93%|████████████████████████████████▍  | 46303/50000 [1:05:15<05:04, 12.16it/s]"
     ]
    },
    {
     "name": "stdout",
     "output_type": "stream",
     "text": [
      "Epoch 46300 Train Loss 1.1252771168185857e-07 Test Loss 0.00016762011638550046\n"
     ]
    },
    {
     "name": "stderr",
     "output_type": "stream",
     "text": [
      " 93%|████████████████████████████████▍  | 46403/50000 [1:05:23<04:57, 12.11it/s]"
     ]
    },
    {
     "name": "stdout",
     "output_type": "stream",
     "text": [
      "Epoch 46400 Train Loss 1.110920127290809e-07 Test Loss 0.0001058418039263066\n"
     ]
    },
    {
     "name": "stderr",
     "output_type": "stream",
     "text": [
      " 93%|████████████████████████████████▌  | 46503/50000 [1:05:32<04:55, 11.82it/s]"
     ]
    },
    {
     "name": "stdout",
     "output_type": "stream",
     "text": [
      "Epoch 46500 Train Loss 1.0982654683324501e-07 Test Loss 6.635592546589172e-05\n"
     ]
    },
    {
     "name": "stderr",
     "output_type": "stream",
     "text": [
      " 93%|████████████████████████████████▌  | 46603/50000 [1:05:40<04:39, 12.16it/s]"
     ]
    },
    {
     "name": "stdout",
     "output_type": "stream",
     "text": [
      "Epoch 46600 Train Loss 1.0864211759859512e-07 Test Loss 4.506797721570636e-05\n"
     ]
    },
    {
     "name": "stderr",
     "output_type": "stream",
     "text": [
      " 93%|████████████████████████████████▋  | 46703/50000 [1:05:48<04:38, 11.86it/s]"
     ]
    },
    {
     "name": "stdout",
     "output_type": "stream",
     "text": [
      "Epoch 46700 Train Loss 1.0748439079461015e-07 Test Loss 3.062659430202036e-05\n"
     ]
    },
    {
     "name": "stderr",
     "output_type": "stream",
     "text": [
      " 94%|████████████████████████████████▊  | 46803/50000 [1:05:57<04:30, 11.84it/s]"
     ]
    },
    {
     "name": "stdout",
     "output_type": "stream",
     "text": [
      "Epoch 46800 Train Loss 1.0635102561233834e-07 Test Loss 2.2585576038502445e-05\n"
     ]
    },
    {
     "name": "stderr",
     "output_type": "stream",
     "text": [
      " 94%|████████████████████████████████▊  | 46903/50000 [1:06:05<04:28, 11.54it/s]"
     ]
    },
    {
     "name": "stdout",
     "output_type": "stream",
     "text": [
      "Epoch 46900 Train Loss 1.0533757797394413e-07 Test Loss 1.6339329254909243e-05\n"
     ]
    },
    {
     "name": "stderr",
     "output_type": "stream",
     "text": [
      " 94%|████████████████████████████████▉  | 47003/50000 [1:06:14<04:17, 11.64it/s]"
     ]
    },
    {
     "name": "stdout",
     "output_type": "stream",
     "text": [
      "Epoch 47000 Train Loss 1.04414411941212e-07 Test Loss 1.2222387837457834e-05\n"
     ]
    },
    {
     "name": "stderr",
     "output_type": "stream",
     "text": [
      " 94%|████████████████████████████████▉  | 47103/50000 [1:06:22<04:00, 12.05it/s]"
     ]
    },
    {
     "name": "stdout",
     "output_type": "stream",
     "text": [
      "Epoch 47100 Train Loss 1.036422418799158e-07 Test Loss 8.596648615542768e-06\n"
     ]
    },
    {
     "name": "stderr",
     "output_type": "stream",
     "text": [
      " 94%|█████████████████████████████████  | 47203/50000 [1:06:30<03:51, 12.10it/s]"
     ]
    },
    {
     "name": "stdout",
     "output_type": "stream",
     "text": [
      "Epoch 47200 Train Loss 1.0302436759183325e-07 Test Loss 5.605815260127874e-06\n"
     ]
    },
    {
     "name": "stderr",
     "output_type": "stream",
     "text": [
      " 95%|█████████████████████████████████  | 47303/50000 [1:06:39<03:47, 11.87it/s]"
     ]
    },
    {
     "name": "stdout",
     "output_type": "stream",
     "text": [
      "Epoch 47300 Train Loss 1.0252642748167533e-07 Test Loss 3.580699487687442e-06\n"
     ]
    },
    {
     "name": "stderr",
     "output_type": "stream",
     "text": [
      " 95%|█████████████████████████████████▏ | 47403/50000 [1:06:47<03:32, 12.23it/s]"
     ]
    },
    {
     "name": "stdout",
     "output_type": "stream",
     "text": [
      "Epoch 47400 Train Loss 1.0203642027498397e-07 Test Loss 2.289038269521939e-06\n"
     ]
    },
    {
     "name": "stderr",
     "output_type": "stream",
     "text": [
      " 95%|█████████████████████████████████▎ | 47503/50000 [1:06:56<03:29, 11.92it/s]"
     ]
    },
    {
     "name": "stdout",
     "output_type": "stream",
     "text": [
      "Epoch 47500 Train Loss 1.0159025025464937e-07 Test Loss 1.559787709075739e-06\n"
     ]
    },
    {
     "name": "stderr",
     "output_type": "stream",
     "text": [
      " 95%|█████████████████████████████████▎ | 47603/50000 [1:07:04<03:16, 12.20it/s]"
     ]
    },
    {
     "name": "stdout",
     "output_type": "stream",
     "text": [
      "Epoch 47600 Train Loss 1.0117307552667742e-07 Test Loss 1.162006110597933e-06\n"
     ]
    },
    {
     "name": "stderr",
     "output_type": "stream",
     "text": [
      " 95%|█████████████████████████████████▍ | 47703/50000 [1:07:12<03:13, 11.89it/s]"
     ]
    },
    {
     "name": "stdout",
     "output_type": "stream",
     "text": [
      "Epoch 47700 Train Loss 1.0079152545160866e-07 Test Loss 9.183561731045581e-07\n"
     ]
    },
    {
     "name": "stderr",
     "output_type": "stream",
     "text": [
      " 96%|█████████████████████████████████▍ | 47803/50000 [1:07:21<03:01, 12.13it/s]"
     ]
    },
    {
     "name": "stdout",
     "output_type": "stream",
     "text": [
      "Epoch 47800 Train Loss 1.0043749375158363e-07 Test Loss 7.478620534429331e-07\n"
     ]
    },
    {
     "name": "stderr",
     "output_type": "stream",
     "text": [
      " 96%|█████████████████████████████████▌ | 47903/50000 [1:07:29<02:51, 12.25it/s]"
     ]
    },
    {
     "name": "stdout",
     "output_type": "stream",
     "text": [
      "Epoch 47900 Train Loss 1.0011974750288993e-07 Test Loss 6.396201218618607e-07\n"
     ]
    },
    {
     "name": "stderr",
     "output_type": "stream",
     "text": [
      " 96%|█████████████████████████████████▌ | 48003/50000 [1:07:37<02:46, 11.97it/s]"
     ]
    },
    {
     "name": "stdout",
     "output_type": "stream",
     "text": [
      "Epoch 48000 Train Loss 9.98346178706701e-08 Test Loss 5.712144773392171e-07\n"
     ]
    },
    {
     "name": "stderr",
     "output_type": "stream",
     "text": [
      " 96%|█████████████████████████████████▋ | 48103/50000 [1:07:46<02:41, 11.73it/s]"
     ]
    },
    {
     "name": "stdout",
     "output_type": "stream",
     "text": [
      "Epoch 48100 Train Loss 9.957750325124898e-08 Test Loss 5.205615644669777e-07\n"
     ]
    },
    {
     "name": "stderr",
     "output_type": "stream",
     "text": [
      " 96%|█████████████████████████████████▋ | 48203/50000 [1:07:54<02:30, 11.94it/s]"
     ]
    },
    {
     "name": "stdout",
     "output_type": "stream",
     "text": [
      "Epoch 48200 Train Loss 9.934028407252988e-08 Test Loss 4.7877354791062e-07\n"
     ]
    },
    {
     "name": "stderr",
     "output_type": "stream",
     "text": [
      " 97%|█████████████████████████████████▊ | 48303/50000 [1:08:02<02:21, 12.01it/s]"
     ]
    },
    {
     "name": "stdout",
     "output_type": "stream",
     "text": [
      "Epoch 48300 Train Loss 9.912970689665724e-08 Test Loss 4.4707330281081975e-07\n"
     ]
    },
    {
     "name": "stderr",
     "output_type": "stream",
     "text": [
      " 97%|█████████████████████████████████▉ | 48403/50000 [1:08:11<02:16, 11.67it/s]"
     ]
    },
    {
     "name": "stdout",
     "output_type": "stream",
     "text": [
      "Epoch 48400 Train Loss 9.894285419508544e-08 Test Loss 4.22066603855997e-07\n"
     ]
    },
    {
     "name": "stderr",
     "output_type": "stream",
     "text": [
      " 97%|█████████████████████████████████▉ | 48503/50000 [1:08:19<02:02, 12.27it/s]"
     ]
    },
    {
     "name": "stdout",
     "output_type": "stream",
     "text": [
      "Epoch 48500 Train Loss 9.877866267247417e-08 Test Loss 4.0114304538854946e-07\n"
     ]
    },
    {
     "name": "stderr",
     "output_type": "stream",
     "text": [
      " 97%|██████████████████████████████████ | 48603/50000 [1:08:27<02:00, 11.57it/s]"
     ]
    },
    {
     "name": "stdout",
     "output_type": "stream",
     "text": [
      "Epoch 48600 Train Loss 9.863136954801307e-08 Test Loss 3.841806523183149e-07\n"
     ]
    },
    {
     "name": "stderr",
     "output_type": "stream",
     "text": [
      " 97%|██████████████████████████████████ | 48703/50000 [1:08:36<01:55, 11.24it/s]"
     ]
    },
    {
     "name": "stdout",
     "output_type": "stream",
     "text": [
      "Epoch 48700 Train Loss 9.849149593282951e-08 Test Loss 3.711125217821825e-07\n"
     ]
    },
    {
     "name": "stderr",
     "output_type": "stream",
     "text": [
      " 98%|██████████████████████████████████▏| 48803/50000 [1:08:44<01:39, 12.00it/s]"
     ]
    },
    {
     "name": "stdout",
     "output_type": "stream",
     "text": [
      "Epoch 48800 Train Loss 9.836524179154745e-08 Test Loss 3.6190760968595756e-07\n"
     ]
    },
    {
     "name": "stderr",
     "output_type": "stream",
     "text": [
      " 98%|██████████████████████████████████▏| 48903/50000 [1:08:53<01:32, 11.92it/s]"
     ]
    },
    {
     "name": "stdout",
     "output_type": "stream",
     "text": [
      "Epoch 48900 Train Loss 9.8256987961926e-08 Test Loss 3.558066841795497e-07\n"
     ]
    },
    {
     "name": "stderr",
     "output_type": "stream",
     "text": [
      " 98%|██████████████████████████████████▎| 49003/50000 [1:09:01<01:23, 11.94it/s]"
     ]
    },
    {
     "name": "stdout",
     "output_type": "stream",
     "text": [
      "Epoch 49000 Train Loss 9.815315104996502e-08 Test Loss 3.51217894931374e-07\n"
     ]
    },
    {
     "name": "stderr",
     "output_type": "stream",
     "text": [
      " 98%|██████████████████████████████████▎| 49103/50000 [1:09:09<01:13, 12.24it/s]"
     ]
    },
    {
     "name": "stdout",
     "output_type": "stream",
     "text": [
      "Epoch 49100 Train Loss 9.80563830996596e-08 Test Loss 3.469462991059434e-07\n"
     ]
    },
    {
     "name": "stderr",
     "output_type": "stream",
     "text": [
      " 98%|██████████████████████████████████▍| 49203/50000 [1:09:18<01:05, 12.20it/s]"
     ]
    },
    {
     "name": "stdout",
     "output_type": "stream",
     "text": [
      "Epoch 49200 Train Loss 9.796804032582433e-08 Test Loss 3.445088055972707e-07\n"
     ]
    },
    {
     "name": "stderr",
     "output_type": "stream",
     "text": [
      " 99%|██████████████████████████████████▌| 49303/50000 [1:09:26<00:58, 11.82it/s]"
     ]
    },
    {
     "name": "stdout",
     "output_type": "stream",
     "text": [
      "Epoch 49300 Train Loss 9.788897674494332e-08 Test Loss 3.424995850631654e-07\n"
     ]
    },
    {
     "name": "stderr",
     "output_type": "stream",
     "text": [
      " 99%|██████████████████████████████████▌| 49403/50000 [1:09:34<00:49, 12.08it/s]"
     ]
    },
    {
     "name": "stdout",
     "output_type": "stream",
     "text": [
      "Epoch 49400 Train Loss 9.781494635810453e-08 Test Loss 3.411297413605222e-07\n"
     ]
    },
    {
     "name": "stderr",
     "output_type": "stream",
     "text": [
      " 99%|██████████████████████████████████▋| 49503/50000 [1:09:43<00:41, 12.12it/s]"
     ]
    },
    {
     "name": "stdout",
     "output_type": "stream",
     "text": [
      "Epoch 49500 Train Loss 9.774011142836005e-08 Test Loss 3.3959296762157994e-07\n"
     ]
    },
    {
     "name": "stderr",
     "output_type": "stream",
     "text": [
      " 99%|██████████████████████████████████▋| 49603/50000 [1:09:51<00:32, 12.21it/s]"
     ]
    },
    {
     "name": "stdout",
     "output_type": "stream",
     "text": [
      "Epoch 49600 Train Loss 9.767150310867586e-08 Test Loss 3.3942456643300393e-07\n"
     ]
    },
    {
     "name": "stderr",
     "output_type": "stream",
     "text": [
      " 99%|██████████████████████████████████▊| 49703/50000 [1:09:59<00:24, 11.93it/s]"
     ]
    },
    {
     "name": "stdout",
     "output_type": "stream",
     "text": [
      "Epoch 49700 Train Loss 9.760927776033769e-08 Test Loss 3.401949727746067e-07\n"
     ]
    },
    {
     "name": "stderr",
     "output_type": "stream",
     "text": [
      "100%|██████████████████████████████████▊| 49803/50000 [1:10:08<00:16, 12.11it/s]"
     ]
    },
    {
     "name": "stdout",
     "output_type": "stream",
     "text": [
      "Epoch 49800 Train Loss 9.754587757224916e-08 Test Loss 3.409234637853886e-07\n"
     ]
    },
    {
     "name": "stderr",
     "output_type": "stream",
     "text": [
      "100%|██████████████████████████████████▉| 49903/50000 [1:10:16<00:08, 11.80it/s]"
     ]
    },
    {
     "name": "stdout",
     "output_type": "stream",
     "text": [
      "Epoch 49900 Train Loss 9.74940176216926e-08 Test Loss 3.422457202536551e-07\n"
     ]
    },
    {
     "name": "stderr",
     "output_type": "stream",
     "text": [
      "100%|███████████████████████████████████| 50000/50000 [1:10:24<00:00, 11.83it/s]\n"
     ]
    }
   ],
   "source": [
    "import tqdm.auto as tqdm\n",
    "train_losses = []\n",
    "test_losses = []\n",
    "for epoch in tqdm.tqdm(range(num_epochs)):\n",
    "    train_logits = model(train_data)\n",
    "    train_loss = loss_fn(train_logits, train_labels)\n",
    "    train_loss.backward()\n",
    "    train_losses.append(train_loss.item())\n",
    "\n",
    "    optimizer.step()\n",
    "    optimizer.zero_grad()\n",
    "\n",
    "    with torch.inference_mode():\n",
    "        test_logits = model(test_data)\n",
    "        test_loss = loss_fn(test_logits, test_labels)\n",
    "        test_losses.append(test_loss.item())\n",
    "        \n",
    "    if epoch % 100 == 0:\n",
    "        print(f\"Epoch {epoch} Train Loss {train_loss.item()} Test Loss {test_loss.item()}\")"
   ]
  },
  {
   "cell_type": "code",
   "execution_count": 264,
   "id": "d892fbf4",
   "metadata": {},
   "outputs": [
    {
     "data": {
      "image/png": "[encoded data removed]",
      "text/plain": [
       "<Figure size 640x480 with 1 Axes>"
      ]
     },
     "metadata": {},
     "output_type": "display_data"
    }
   ],
   "source": [
    "import matplotlib.pyplot as plt\n",
    "plt.plot(train_losses)\n",
    "plt.plot(test_losses)\n",
    "plt.legend(['train_loss', 'test_loss'])\n",
    "plt.xlabel('epochs')\n",
    "plt.ylabel('loss');\n",
    "plt.savefig('/Users/theo/Desktop/gdl/first_result_50K.png')"
   ]
  },
  {
   "cell_type": "code",
   "execution_count": 275,
   "id": "3c155bf8",
   "metadata": {},
   "outputs": [
    {
     "data": {
      "text/plain": [
       "1.0"
      ]
     },
     "execution_count": 275,
     "metadata": {},
     "output_type": "execute_result"
    }
   ],
   "source": [
    "from sklearn.metrics import accuracy_score\n",
    "pred = model(test_data)\n",
    "pred = pred.argmax(dim=1)\n",
    "acc = accuracy_score(np.array(test_labels.detach()), np.array(pred.detach()))\n",
    "acc"
   ]
  }
 ],
 "metadata": {
  "kernelspec": {
   "display_name": "Python 3 (ipykernel)",
   "language": "python",
   "name": "python3"
  },
  "language_info": {
   "codemirror_mode": {
    "name": "ipython",
    "version": 3
   },
   "file_extension": ".py",
   "mimetype": "text/x-python",
   "name": "python",
   "nbconvert_exporter": "python",
   "pygments_lexer": "ipython3",
   "version": "3.10.9"
  }
 },
 "nbformat": 4,
 "nbformat_minor": 5
}
